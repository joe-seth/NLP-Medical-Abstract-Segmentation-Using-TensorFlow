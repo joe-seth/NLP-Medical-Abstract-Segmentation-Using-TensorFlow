{
  "nbformat": 4,
  "nbformat_minor": 0,
  "metadata": {
    "colab": {
      "provenance": []
    },
    "kernelspec": {
      "name": "python3",
      "display_name": "Python 3"
    },
    "language_info": {
      "name": "python"
    }
  },
  "cells": [
    {
      "cell_type": "markdown",
      "source": [
        "# SkimLIt\n",
        "The purpose of this notebook is to build and NLP model to make reading medical abstracts easier.\n",
        "The paper being replicated for this projecti is available here: https://arxiv.org/abs/1710.06071"
      ],
      "metadata": {
        "id": "dhtGT5tJ0KhK"
      }
    },
    {
      "cell_type": "markdown",
      "source": [
        "### What I'm going to cover\n",
        "1. Download the text data from (PubMed 200K RCT)\n",
        "2. Writing a preprocessing fucntions for our text data\n",
        "3. Setting up multiple modelling experiments  with different levels of embeddings\n",
        "4. Building a model to take in different sources of data\n",
        "5. Replicating the model poweringn https::arxiv.org/abs/1710.06071\n",
        "6. Finding the most wrong predictions\n"
      ],
      "metadata": {
        "id": "EjGCOYJIafI1"
      }
    },
    {
      "cell_type": "code",
      "source": [
        "# Confirm access to a GPU\n",
        "!nvidia-smi"
      ],
      "metadata": {
        "colab": {
          "base_uri": "https://localhost:8080/"
        },
        "id": "5Zkza0cicCuu",
        "outputId": "13275753-8e09-4535-ad98-0830bb9821c7"
      },
      "execution_count": 1,
      "outputs": [
        {
          "output_type": "stream",
          "name": "stdout",
          "text": [
            "/bin/bash: line 1: nvidia-smi: command not found\n"
          ]
        }
      ]
    },
    {
      "cell_type": "code",
      "source": [
        "# Get the data\n",
        "!git clone https://github.com/Franck-Dernoncourt/pubmed-rct\n",
        "!ls pubmed-rct"
      ],
      "metadata": {
        "colab": {
          "base_uri": "https://localhost:8080/"
        },
        "id": "xTy9Yql0hwco",
        "outputId": "f949f7a0-f0d7-4608-b304-4d2f327ae446"
      },
      "execution_count": 2,
      "outputs": [
        {
          "output_type": "stream",
          "name": "stdout",
          "text": [
            "Cloning into 'pubmed-rct'...\n",
            "remote: Enumerating objects: 39, done.\u001b[K\n",
            "remote: Counting objects: 100% (14/14), done.\u001b[K\n",
            "remote: Compressing objects: 100% (9/9), done.\u001b[K\n",
            "remote: Total 39 (delta 8), reused 5 (delta 5), pack-reused 25\u001b[K\n",
            "Receiving objects: 100% (39/39), 177.08 MiB | 36.20 MiB/s, done.\n",
            "Resolving deltas: 100% (15/15), done.\n",
            "Updating files: 100% (13/13), done.\n",
            "PubMed_200k_RCT\t\t\t\t       PubMed_20k_RCT_numbers_replaced_with_at_sign\n",
            "PubMed_200k_RCT_numbers_replaced_with_at_sign  README.md\n",
            "PubMed_20k_RCT\n"
          ]
        }
      ]
    },
    {
      "cell_type": "code",
      "source": [
        "# Check what files are the pubmed 20k dataset\n",
        "!ls pubmed-rct/PubMed_20k_RCT_numbers_replaced_with_at_sign"
      ],
      "metadata": {
        "colab": {
          "base_uri": "https://localhost:8080/"
        },
        "id": "F_gKPLGprkZ0",
        "outputId": "36f8ddc7-1189-4ace-9cb2-072bf74bb5f9"
      },
      "execution_count": 3,
      "outputs": [
        {
          "output_type": "stream",
          "name": "stdout",
          "text": [
            "dev.txt  test.txt  train.txt\n"
          ]
        }
      ]
    },
    {
      "cell_type": "code",
      "source": [
        "# Unzip train.zip\n",
        "!wget https://raw.githubusercontent.com/joe-seth/TensorFlow-Food-prediction-Computer-Vision-Project/main/extras/script_functions.py"
      ],
      "metadata": {
        "colab": {
          "base_uri": "https://localhost:8080/"
        },
        "id": "HyJTbUaasLGX",
        "outputId": "58f66e7c-de24-4433-de6d-60bc2fd545e8"
      },
      "execution_count": 4,
      "outputs": [
        {
          "output_type": "stream",
          "name": "stdout",
          "text": [
            "--2023-12-19 04:19:14--  https://raw.githubusercontent.com/joe-seth/TensorFlow-Food-prediction-Computer-Vision-Project/main/extras/script_functions.py\n",
            "Resolving raw.githubusercontent.com (raw.githubusercontent.com)... 185.199.108.133, 185.199.109.133, 185.199.110.133, ...\n",
            "Connecting to raw.githubusercontent.com (raw.githubusercontent.com)|185.199.108.133|:443... connected.\n",
            "HTTP request sent, awaiting response... 200 OK\n",
            "Length: 10267 (10K) [text/plain]\n",
            "Saving to: ‘script_functions.py’\n",
            "\n",
            "script_functions.py 100%[===================>]  10.03K  --.-KB/s    in 0s      \n",
            "\n",
            "2023-12-19 04:19:15 (86.0 MB/s) - ‘script_functions.py’ saved [10267/10267]\n",
            "\n"
          ]
        }
      ]
    },
    {
      "cell_type": "code",
      "source": [
        "from script_functions import unzip_data\n",
        "unzip_data(\"/content/pubmed-rct/PubMed_200k_RCT_numbers_replaced_with_at_sign/train.zip\")"
      ],
      "metadata": {
        "id": "2YJGrSAGsXAP"
      },
      "execution_count": 5,
      "outputs": []
    },
    {
      "cell_type": "code",
      "source": [
        "# Start experiments using the 20k dataset with numbers replaced by \"@\" sign\n",
        "data_dir = \"/content/pubmed-rct/PubMed_20k_RCT_numbers_replaced_with_at_sign/\""
      ],
      "metadata": {
        "id": "BnSocsSDtlNS"
      },
      "execution_count": 6,
      "outputs": []
    },
    {
      "cell_type": "code",
      "source": [
        "# Check all the filenames in the target directory\n",
        "import os\n",
        "filenames =[data_dir + filename for filename in os.listdir(data_dir)]\n",
        "filenames"
      ],
      "metadata": {
        "colab": {
          "base_uri": "https://localhost:8080/"
        },
        "id": "CWCJbUTzuBhE",
        "outputId": "1d5883c5-93ee-4298-e0ea-b993d6409b6d"
      },
      "execution_count": 7,
      "outputs": [
        {
          "output_type": "execute_result",
          "data": {
            "text/plain": [
              "['/content/pubmed-rct/PubMed_20k_RCT_numbers_replaced_with_at_sign/dev.txt',\n",
              " '/content/pubmed-rct/PubMed_20k_RCT_numbers_replaced_with_at_sign/test.txt',\n",
              " '/content/pubmed-rct/PubMed_20k_RCT_numbers_replaced_with_at_sign/train.txt']"
            ]
          },
          "metadata": {},
          "execution_count": 7
        }
      ]
    },
    {
      "cell_type": "markdown",
      "source": [
        "## Create Preprocessing functions"
      ],
      "metadata": {
        "id": "wxRDSUGGwKu8"
      }
    },
    {
      "cell_type": "code",
      "source": [
        "# Visualizing Examples\n",
        "def get_lines(filename):\n",
        "    \"\"\"\n",
        "    Reads filename (a text filename) and returns the lines of text as a list.\n",
        "\n",
        "    Args:\n",
        "    filename: a string containing the target filepath.\n",
        "\n",
        "    Returns:\n",
        "    A list of strings with one string per line from the target filename.\n",
        "    \"\"\"\n",
        "    with open(filename, \"r\") as f:\n",
        "        return f.readlines()\n"
      ],
      "metadata": {
        "id": "q_iUeXoXwfWB"
      },
      "execution_count": 8,
      "outputs": []
    },
    {
      "cell_type": "code",
      "source": [
        "# Read the training lines\n",
        "train_lines = get_lines(data_dir + \"train.txt\")\n",
        "train_lines[:27]\n"
      ],
      "metadata": {
        "colab": {
          "base_uri": "https://localhost:8080/"
        },
        "id": "I8-H390E4a_k",
        "outputId": "a28bf0e2-de0f-4c3d-aa64-9038b7de050a"
      },
      "execution_count": 9,
      "outputs": [
        {
          "output_type": "execute_result",
          "data": {
            "text/plain": [
              "['###24293578\\n',\n",
              " 'OBJECTIVE\\tTo investigate the efficacy of @ weeks of daily low-dose oral prednisolone in improving pain , mobility , and systemic low-grade inflammation in the short term and whether the effect would be sustained at @ weeks in older adults with moderate to severe knee osteoarthritis ( OA ) .\\n',\n",
              " 'METHODS\\tA total of @ patients with primary knee OA were randomized @:@ ; @ received @ mg/day of prednisolone and @ received placebo for @ weeks .\\n',\n",
              " 'METHODS\\tOutcome measures included pain reduction and improvement in function scores and systemic inflammation markers .\\n',\n",
              " 'METHODS\\tPain was assessed using the visual analog pain scale ( @-@ mm ) .\\n',\n",
              " 'METHODS\\tSecondary outcome measures included the Western Ontario and McMaster Universities Osteoarthritis Index scores , patient global assessment ( PGA ) of the severity of knee OA , and @-min walk distance ( @MWD ) .\\n',\n",
              " 'METHODS\\tSerum levels of interleukin @ ( IL-@ ) , IL-@ , tumor necrosis factor ( TNF ) - , and high-sensitivity C-reactive protein ( hsCRP ) were measured .\\n',\n",
              " 'RESULTS\\tThere was a clinically relevant reduction in the intervention group compared to the placebo group for knee pain , physical function , PGA , and @MWD at @ weeks .\\n',\n",
              " 'RESULTS\\tThe mean difference between treatment arms ( @ % CI ) was @ ( @-@ @ ) , p < @ ; @ ( @-@ @ ) , p < @ ; @ ( @-@ @ ) , p < @ ; and @ ( @-@ @ ) , p < @ , respectively .\\n',\n",
              " 'RESULTS\\tFurther , there was a clinically relevant reduction in the serum levels of IL-@ , IL-@ , TNF - , and hsCRP at @ weeks in the intervention group when compared to the placebo group .\\n',\n",
              " 'RESULTS\\tThese differences remained significant at @ weeks .\\n',\n",
              " 'RESULTS\\tThe Outcome Measures in Rheumatology Clinical Trials-Osteoarthritis Research Society International responder rate was @ % in the intervention group and @ % in the placebo group ( p < @ ) .\\n',\n",
              " 'CONCLUSIONS\\tLow-dose oral prednisolone had both a short-term and a longer sustained effect resulting in less knee pain , better physical function , and attenuation of systemic inflammation in older patients with knee OA ( ClinicalTrials.gov identifier NCT@ ) .\\n',\n",
              " '\\n',\n",
              " '###24854809\\n',\n",
              " 'BACKGROUND\\tEmotional eating is associated with overeating and the development of obesity .\\n',\n",
              " 'BACKGROUND\\tYet , empirical evidence for individual ( trait ) differences in emotional eating and cognitive mechanisms that contribute to eating during sad mood remain equivocal .\\n',\n",
              " 'OBJECTIVE\\tThe aim of this study was to test if attention bias for food moderates the effect of self-reported emotional eating during sad mood ( vs neutral mood ) on actual food intake .\\n',\n",
              " 'OBJECTIVE\\tIt was expected that emotional eating is predictive of elevated attention for food and higher food intake after an experimentally induced sad mood and that attentional maintenance on food predicts food intake during a sad versus a neutral mood .\\n',\n",
              " 'METHODS\\tParticipants ( N = @ ) were randomly assigned to one of the two experimental mood induction conditions ( sad/neutral ) .\\n',\n",
              " 'METHODS\\tAttentional biases for high caloric foods were measured by eye tracking during a visual probe task with pictorial food and neutral stimuli .\\n',\n",
              " 'METHODS\\tSelf-reported emotional eating was assessed with the Dutch Eating Behavior Questionnaire ( DEBQ ) and ad libitum food intake was tested by a disguised food offer .\\n',\n",
              " 'RESULTS\\tHierarchical multivariate regression modeling showed that self-reported emotional eating did not account for changes in attention allocation for food or food intake in either condition .\\n',\n",
              " 'RESULTS\\tYet , attention maintenance on food cues was significantly related to increased intake specifically in the neutral condition , but not in the sad mood condition .\\n',\n",
              " 'CONCLUSIONS\\tThe current findings show that self-reported emotional eating ( based on the DEBQ ) might not validly predict who overeats when sad , at least not in a laboratory setting with healthy women .\\n',\n",
              " 'CONCLUSIONS\\tResults further suggest that attention maintenance on food relates to eating motivation when in a neutral affective state , and might therefore be a cognitive mechanism contributing to increased food intake in general , but maybe not during sad mood .\\n',\n",
              " '\\n']"
            ]
          },
          "metadata": {},
          "execution_count": 9
        }
      ]
    },
    {
      "cell_type": "code",
      "source": [
        "len(train_lines)"
      ],
      "metadata": {
        "colab": {
          "base_uri": "https://localhost:8080/"
        },
        "id": "tx9IzWcb7HKB",
        "outputId": "dbb06d21-d847-4dbc-afa2-e641f9fe3161"
      },
      "execution_count": 10,
      "outputs": [
        {
          "output_type": "execute_result",
          "data": {
            "text/plain": [
              "210040"
            ]
          },
          "metadata": {},
          "execution_count": 10
        }
      ]
    },
    {
      "cell_type": "markdown",
      "source": [
        "How the data looks\n",
        "```[{'line_number':0,\n",
        "   'target': 'BACKGROUND',\n",
        "   'text': 'Emotional eating is associated with overeating and the development of obesity. \\n'\n",
        "   'total_lines': 11},\n",
        "    ...]\n",
        "```"
      ],
      "metadata": {
        "id": "uUpu_0uR8Fn9"
      }
    },
    {
      "cell_type": "markdown",
      "source": [
        "## Data Preprocessing"
      ],
      "metadata": {
        "id": "-pASuc8iFYqx"
      }
    },
    {
      "cell_type": "code",
      "source": [
        "def preprocess_text_with_line_numbers(filename):\n",
        "  \"\"\"\n",
        "  Returns a list of dictionaries of abrstract line data\n",
        "\n",
        "  Takes in filename, readis it contents and sorts through each line,\n",
        "  extracting things linke the target lablel, the text of the sentence,\n",
        "  how many sentences ar ein the current abstract and what sentence number the target line is.\n",
        "  \"\"\"\n",
        "\n",
        "  input_lines = get_lines(filename) # Get all lines from filename\n",
        "  abstract_lines= \"\" # create an empty abstract\n",
        "  abstract_samples = [] # Create an empt list of abstracts\n",
        "\n",
        "  # Loop through each line  in the target line\n",
        "  for line in input_lines:\n",
        "    if line.startswith(\"###\"): # Chech to see if the string is and ID line\n",
        "      abstract_id = line\n",
        "      abstract_lines =\"\" # reset the asbstract if the line is an ID line\n",
        "    elif line.isspace():\n",
        "      abstract_line_split = abstract_lines.splitlines() # Split the abstract into separate lines\n",
        "\n",
        "      # Iterate through each line in a single abstract and count them at the same time\n",
        "      for abstract_line_number , abstract_line in enumerate(abstract_line_split):\n",
        "        line_data = {} # Create empty dictionay for each line\n",
        "        target_text_split = abstract_line.split(\"\\t\") # Split the label from text\n",
        "        line_data['target'] = target_text_split[0] # get target label\n",
        "        line_data['text'] = target_text_split[1].lower() # get target text and lower it\n",
        "        line_data['line_number'] = abstract_line_number\n",
        "        line_data['total_lines'] = len(abstract_line_split) - 1 # how many total lines are there in the target abstract? (start from 0)\n",
        "        abstract_samples.append(line_data)\n",
        "\n",
        "    else: # if the above conditions aren't fulfilled, the line contains a labelled outcome\n",
        "      abstract_lines += line\n",
        "\n",
        "  return abstract_samples\n"
      ],
      "metadata": {
        "id": "i926bWCUFbqC"
      },
      "execution_count": 11,
      "outputs": []
    },
    {
      "cell_type": "code",
      "source": [
        "# Get data from file and preprocess it\n",
        "%%time\n",
        "train_samples = preprocess_text_with_line_numbers(data_dir + \"train.txt\")\n",
        "val_samples = preprocess_text_with_line_numbers(data_dir + \"dev.txt\") # dev is another\n",
        "test_samples = preprocess_text_with_line_numbers(data_dir + \"test.txt\")\n",
        "len(train_samples), len(val_samples), len(test_samples)\n"
      ],
      "metadata": {
        "colab": {
          "base_uri": "https://localhost:8080/"
        },
        "id": "NZ44JRN_7m_B",
        "outputId": "f318363a-022a-4053-af23-5d431f718b45"
      },
      "execution_count": 12,
      "outputs": [
        {
          "output_type": "stream",
          "name": "stdout",
          "text": [
            "CPU times: user 444 ms, sys: 125 ms, total: 569 ms\n",
            "Wall time: 574 ms\n"
          ]
        },
        {
          "output_type": "execute_result",
          "data": {
            "text/plain": [
              "(180040, 30212, 30135)"
            ]
          },
          "metadata": {},
          "execution_count": 12
        }
      ]
    },
    {
      "cell_type": "code",
      "source": [
        "# Check the first abstract of our training data\n",
        "train_samples[:10]"
      ],
      "metadata": {
        "colab": {
          "base_uri": "https://localhost:8080/"
        },
        "id": "aakVNAsS8KAn",
        "outputId": "ed3b1d7f-a668-4f83-82d7-d8a99d17386c"
      },
      "execution_count": 13,
      "outputs": [
        {
          "output_type": "execute_result",
          "data": {
            "text/plain": [
              "[{'target': 'OBJECTIVE',\n",
              "  'text': 'to investigate the efficacy of @ weeks of daily low-dose oral prednisolone in improving pain , mobility , and systemic low-grade inflammation in the short term and whether the effect would be sustained at @ weeks in older adults with moderate to severe knee osteoarthritis ( oa ) .',\n",
              "  'line_number': 0,\n",
              "  'total_lines': 11},\n",
              " {'target': 'METHODS',\n",
              "  'text': 'a total of @ patients with primary knee oa were randomized @:@ ; @ received @ mg/day of prednisolone and @ received placebo for @ weeks .',\n",
              "  'line_number': 1,\n",
              "  'total_lines': 11},\n",
              " {'target': 'METHODS',\n",
              "  'text': 'outcome measures included pain reduction and improvement in function scores and systemic inflammation markers .',\n",
              "  'line_number': 2,\n",
              "  'total_lines': 11},\n",
              " {'target': 'METHODS',\n",
              "  'text': 'pain was assessed using the visual analog pain scale ( @-@ mm ) .',\n",
              "  'line_number': 3,\n",
              "  'total_lines': 11},\n",
              " {'target': 'METHODS',\n",
              "  'text': 'secondary outcome measures included the western ontario and mcmaster universities osteoarthritis index scores , patient global assessment ( pga ) of the severity of knee oa , and @-min walk distance ( @mwd ) .',\n",
              "  'line_number': 4,\n",
              "  'total_lines': 11},\n",
              " {'target': 'METHODS',\n",
              "  'text': 'serum levels of interleukin @ ( il-@ ) , il-@ , tumor necrosis factor ( tnf ) - , and high-sensitivity c-reactive protein ( hscrp ) were measured .',\n",
              "  'line_number': 5,\n",
              "  'total_lines': 11},\n",
              " {'target': 'RESULTS',\n",
              "  'text': 'there was a clinically relevant reduction in the intervention group compared to the placebo group for knee pain , physical function , pga , and @mwd at @ weeks .',\n",
              "  'line_number': 6,\n",
              "  'total_lines': 11},\n",
              " {'target': 'RESULTS',\n",
              "  'text': 'the mean difference between treatment arms ( @ % ci ) was @ ( @-@ @ ) , p < @ ; @ ( @-@ @ ) , p < @ ; @ ( @-@ @ ) , p < @ ; and @ ( @-@ @ ) , p < @ , respectively .',\n",
              "  'line_number': 7,\n",
              "  'total_lines': 11},\n",
              " {'target': 'RESULTS',\n",
              "  'text': 'further , there was a clinically relevant reduction in the serum levels of il-@ , il-@ , tnf - , and hscrp at @ weeks in the intervention group when compared to the placebo group .',\n",
              "  'line_number': 8,\n",
              "  'total_lines': 11},\n",
              " {'target': 'RESULTS',\n",
              "  'text': 'these differences remained significant at @ weeks .',\n",
              "  'line_number': 9,\n",
              "  'total_lines': 11}]"
            ]
          },
          "metadata": {},
          "execution_count": 13
        }
      ]
    },
    {
      "cell_type": "markdown",
      "source": [
        "## Visualize using a DataFrame"
      ],
      "metadata": {
        "id": "N9HyX-wx9GEw"
      }
    },
    {
      "cell_type": "code",
      "source": [
        "import pandas as pd\n",
        "train_df = pd.DataFrame(train_samples)\n",
        "val_df = pd.DataFrame(val_samples)\n",
        "test_df = pd.DataFrame(test_samples)\n",
        "train_df.head(14)\n"
      ],
      "metadata": {
        "colab": {
          "base_uri": "https://localhost:8080/",
          "height": 489
        },
        "id": "EEHgvBKh-mwx",
        "outputId": "26c0f615-3e54-4306-c232-cdda4e921bfb"
      },
      "execution_count": 14,
      "outputs": [
        {
          "output_type": "execute_result",
          "data": {
            "text/plain": [
              "         target                                               text  \\\n",
              "0     OBJECTIVE  to investigate the efficacy of @ weeks of dail...   \n",
              "1       METHODS  a total of @ patients with primary knee oa wer...   \n",
              "2       METHODS  outcome measures included pain reduction and i...   \n",
              "3       METHODS  pain was assessed using the visual analog pain...   \n",
              "4       METHODS  secondary outcome measures included the wester...   \n",
              "5       METHODS  serum levels of interleukin @ ( il-@ ) , il-@ ...   \n",
              "6       RESULTS  there was a clinically relevant reduction in t...   \n",
              "7       RESULTS  the mean difference between treatment arms ( @...   \n",
              "8       RESULTS  further , there was a clinically relevant redu...   \n",
              "9       RESULTS  these differences remained significant at @ we...   \n",
              "10      RESULTS  the outcome measures in rheumatology clinical ...   \n",
              "11  CONCLUSIONS  low-dose oral prednisolone had both a short-te...   \n",
              "12   BACKGROUND  emotional eating is associated with overeating...   \n",
              "13   BACKGROUND  yet , empirical evidence for individual ( trai...   \n",
              "\n",
              "    line_number  total_lines  \n",
              "0             0           11  \n",
              "1             1           11  \n",
              "2             2           11  \n",
              "3             3           11  \n",
              "4             4           11  \n",
              "5             5           11  \n",
              "6             6           11  \n",
              "7             7           11  \n",
              "8             8           11  \n",
              "9             9           11  \n",
              "10           10           11  \n",
              "11           11           11  \n",
              "12            0           10  \n",
              "13            1           10  "
            ],
            "text/html": [
              "\n",
              "  <div id=\"df-d57c7e4c-a8a5-4c88-80cf-0d99e744f5ca\" class=\"colab-df-container\">\n",
              "    <div>\n",
              "<style scoped>\n",
              "    .dataframe tbody tr th:only-of-type {\n",
              "        vertical-align: middle;\n",
              "    }\n",
              "\n",
              "    .dataframe tbody tr th {\n",
              "        vertical-align: top;\n",
              "    }\n",
              "\n",
              "    .dataframe thead th {\n",
              "        text-align: right;\n",
              "    }\n",
              "</style>\n",
              "<table border=\"1\" class=\"dataframe\">\n",
              "  <thead>\n",
              "    <tr style=\"text-align: right;\">\n",
              "      <th></th>\n",
              "      <th>target</th>\n",
              "      <th>text</th>\n",
              "      <th>line_number</th>\n",
              "      <th>total_lines</th>\n",
              "    </tr>\n",
              "  </thead>\n",
              "  <tbody>\n",
              "    <tr>\n",
              "      <th>0</th>\n",
              "      <td>OBJECTIVE</td>\n",
              "      <td>to investigate the efficacy of @ weeks of dail...</td>\n",
              "      <td>0</td>\n",
              "      <td>11</td>\n",
              "    </tr>\n",
              "    <tr>\n",
              "      <th>1</th>\n",
              "      <td>METHODS</td>\n",
              "      <td>a total of @ patients with primary knee oa wer...</td>\n",
              "      <td>1</td>\n",
              "      <td>11</td>\n",
              "    </tr>\n",
              "    <tr>\n",
              "      <th>2</th>\n",
              "      <td>METHODS</td>\n",
              "      <td>outcome measures included pain reduction and i...</td>\n",
              "      <td>2</td>\n",
              "      <td>11</td>\n",
              "    </tr>\n",
              "    <tr>\n",
              "      <th>3</th>\n",
              "      <td>METHODS</td>\n",
              "      <td>pain was assessed using the visual analog pain...</td>\n",
              "      <td>3</td>\n",
              "      <td>11</td>\n",
              "    </tr>\n",
              "    <tr>\n",
              "      <th>4</th>\n",
              "      <td>METHODS</td>\n",
              "      <td>secondary outcome measures included the wester...</td>\n",
              "      <td>4</td>\n",
              "      <td>11</td>\n",
              "    </tr>\n",
              "    <tr>\n",
              "      <th>5</th>\n",
              "      <td>METHODS</td>\n",
              "      <td>serum levels of interleukin @ ( il-@ ) , il-@ ...</td>\n",
              "      <td>5</td>\n",
              "      <td>11</td>\n",
              "    </tr>\n",
              "    <tr>\n",
              "      <th>6</th>\n",
              "      <td>RESULTS</td>\n",
              "      <td>there was a clinically relevant reduction in t...</td>\n",
              "      <td>6</td>\n",
              "      <td>11</td>\n",
              "    </tr>\n",
              "    <tr>\n",
              "      <th>7</th>\n",
              "      <td>RESULTS</td>\n",
              "      <td>the mean difference between treatment arms ( @...</td>\n",
              "      <td>7</td>\n",
              "      <td>11</td>\n",
              "    </tr>\n",
              "    <tr>\n",
              "      <th>8</th>\n",
              "      <td>RESULTS</td>\n",
              "      <td>further , there was a clinically relevant redu...</td>\n",
              "      <td>8</td>\n",
              "      <td>11</td>\n",
              "    </tr>\n",
              "    <tr>\n",
              "      <th>9</th>\n",
              "      <td>RESULTS</td>\n",
              "      <td>these differences remained significant at @ we...</td>\n",
              "      <td>9</td>\n",
              "      <td>11</td>\n",
              "    </tr>\n",
              "    <tr>\n",
              "      <th>10</th>\n",
              "      <td>RESULTS</td>\n",
              "      <td>the outcome measures in rheumatology clinical ...</td>\n",
              "      <td>10</td>\n",
              "      <td>11</td>\n",
              "    </tr>\n",
              "    <tr>\n",
              "      <th>11</th>\n",
              "      <td>CONCLUSIONS</td>\n",
              "      <td>low-dose oral prednisolone had both a short-te...</td>\n",
              "      <td>11</td>\n",
              "      <td>11</td>\n",
              "    </tr>\n",
              "    <tr>\n",
              "      <th>12</th>\n",
              "      <td>BACKGROUND</td>\n",
              "      <td>emotional eating is associated with overeating...</td>\n",
              "      <td>0</td>\n",
              "      <td>10</td>\n",
              "    </tr>\n",
              "    <tr>\n",
              "      <th>13</th>\n",
              "      <td>BACKGROUND</td>\n",
              "      <td>yet , empirical evidence for individual ( trai...</td>\n",
              "      <td>1</td>\n",
              "      <td>10</td>\n",
              "    </tr>\n",
              "  </tbody>\n",
              "</table>\n",
              "</div>\n",
              "    <div class=\"colab-df-buttons\">\n",
              "\n",
              "  <div class=\"colab-df-container\">\n",
              "    <button class=\"colab-df-convert\" onclick=\"convertToInteractive('df-d57c7e4c-a8a5-4c88-80cf-0d99e744f5ca')\"\n",
              "            title=\"Convert this dataframe to an interactive table.\"\n",
              "            style=\"display:none;\">\n",
              "\n",
              "  <svg xmlns=\"http://www.w3.org/2000/svg\" height=\"24px\" viewBox=\"0 -960 960 960\">\n",
              "    <path d=\"M120-120v-720h720v720H120Zm60-500h600v-160H180v160Zm220 220h160v-160H400v160Zm0 220h160v-160H400v160ZM180-400h160v-160H180v160Zm440 0h160v-160H620v160ZM180-180h160v-160H180v160Zm440 0h160v-160H620v160Z\"/>\n",
              "  </svg>\n",
              "    </button>\n",
              "\n",
              "  <style>\n",
              "    .colab-df-container {\n",
              "      display:flex;\n",
              "      gap: 12px;\n",
              "    }\n",
              "\n",
              "    .colab-df-convert {\n",
              "      background-color: #E8F0FE;\n",
              "      border: none;\n",
              "      border-radius: 50%;\n",
              "      cursor: pointer;\n",
              "      display: none;\n",
              "      fill: #1967D2;\n",
              "      height: 32px;\n",
              "      padding: 0 0 0 0;\n",
              "      width: 32px;\n",
              "    }\n",
              "\n",
              "    .colab-df-convert:hover {\n",
              "      background-color: #E2EBFA;\n",
              "      box-shadow: 0px 1px 2px rgba(60, 64, 67, 0.3), 0px 1px 3px 1px rgba(60, 64, 67, 0.15);\n",
              "      fill: #174EA6;\n",
              "    }\n",
              "\n",
              "    .colab-df-buttons div {\n",
              "      margin-bottom: 4px;\n",
              "    }\n",
              "\n",
              "    [theme=dark] .colab-df-convert {\n",
              "      background-color: #3B4455;\n",
              "      fill: #D2E3FC;\n",
              "    }\n",
              "\n",
              "    [theme=dark] .colab-df-convert:hover {\n",
              "      background-color: #434B5C;\n",
              "      box-shadow: 0px 1px 3px 1px rgba(0, 0, 0, 0.15);\n",
              "      filter: drop-shadow(0px 1px 2px rgba(0, 0, 0, 0.3));\n",
              "      fill: #FFFFFF;\n",
              "    }\n",
              "  </style>\n",
              "\n",
              "    <script>\n",
              "      const buttonEl =\n",
              "        document.querySelector('#df-d57c7e4c-a8a5-4c88-80cf-0d99e744f5ca button.colab-df-convert');\n",
              "      buttonEl.style.display =\n",
              "        google.colab.kernel.accessAllowed ? 'block' : 'none';\n",
              "\n",
              "      async function convertToInteractive(key) {\n",
              "        const element = document.querySelector('#df-d57c7e4c-a8a5-4c88-80cf-0d99e744f5ca');\n",
              "        const dataTable =\n",
              "          await google.colab.kernel.invokeFunction('convertToInteractive',\n",
              "                                                    [key], {});\n",
              "        if (!dataTable) return;\n",
              "\n",
              "        const docLinkHtml = 'Like what you see? Visit the ' +\n",
              "          '<a target=\"_blank\" href=https://colab.research.google.com/notebooks/data_table.ipynb>data table notebook</a>'\n",
              "          + ' to learn more about interactive tables.';\n",
              "        element.innerHTML = '';\n",
              "        dataTable['output_type'] = 'display_data';\n",
              "        await google.colab.output.renderOutput(dataTable, element);\n",
              "        const docLink = document.createElement('div');\n",
              "        docLink.innerHTML = docLinkHtml;\n",
              "        element.appendChild(docLink);\n",
              "      }\n",
              "    </script>\n",
              "  </div>\n",
              "\n",
              "\n",
              "<div id=\"df-364d7d9f-3afb-4dc0-adb5-c22e85b5e149\">\n",
              "  <button class=\"colab-df-quickchart\" onclick=\"quickchart('df-364d7d9f-3afb-4dc0-adb5-c22e85b5e149')\"\n",
              "            title=\"Suggest charts\"\n",
              "            style=\"display:none;\">\n",
              "\n",
              "<svg xmlns=\"http://www.w3.org/2000/svg\" height=\"24px\"viewBox=\"0 0 24 24\"\n",
              "     width=\"24px\">\n",
              "    <g>\n",
              "        <path d=\"M19 3H5c-1.1 0-2 .9-2 2v14c0 1.1.9 2 2 2h14c1.1 0 2-.9 2-2V5c0-1.1-.9-2-2-2zM9 17H7v-7h2v7zm4 0h-2V7h2v10zm4 0h-2v-4h2v4z\"/>\n",
              "    </g>\n",
              "</svg>\n",
              "  </button>\n",
              "\n",
              "<style>\n",
              "  .colab-df-quickchart {\n",
              "      --bg-color: #E8F0FE;\n",
              "      --fill-color: #1967D2;\n",
              "      --hover-bg-color: #E2EBFA;\n",
              "      --hover-fill-color: #174EA6;\n",
              "      --disabled-fill-color: #AAA;\n",
              "      --disabled-bg-color: #DDD;\n",
              "  }\n",
              "\n",
              "  [theme=dark] .colab-df-quickchart {\n",
              "      --bg-color: #3B4455;\n",
              "      --fill-color: #D2E3FC;\n",
              "      --hover-bg-color: #434B5C;\n",
              "      --hover-fill-color: #FFFFFF;\n",
              "      --disabled-bg-color: #3B4455;\n",
              "      --disabled-fill-color: #666;\n",
              "  }\n",
              "\n",
              "  .colab-df-quickchart {\n",
              "    background-color: var(--bg-color);\n",
              "    border: none;\n",
              "    border-radius: 50%;\n",
              "    cursor: pointer;\n",
              "    display: none;\n",
              "    fill: var(--fill-color);\n",
              "    height: 32px;\n",
              "    padding: 0;\n",
              "    width: 32px;\n",
              "  }\n",
              "\n",
              "  .colab-df-quickchart:hover {\n",
              "    background-color: var(--hover-bg-color);\n",
              "    box-shadow: 0 1px 2px rgba(60, 64, 67, 0.3), 0 1px 3px 1px rgba(60, 64, 67, 0.15);\n",
              "    fill: var(--button-hover-fill-color);\n",
              "  }\n",
              "\n",
              "  .colab-df-quickchart-complete:disabled,\n",
              "  .colab-df-quickchart-complete:disabled:hover {\n",
              "    background-color: var(--disabled-bg-color);\n",
              "    fill: var(--disabled-fill-color);\n",
              "    box-shadow: none;\n",
              "  }\n",
              "\n",
              "  .colab-df-spinner {\n",
              "    border: 2px solid var(--fill-color);\n",
              "    border-color: transparent;\n",
              "    border-bottom-color: var(--fill-color);\n",
              "    animation:\n",
              "      spin 1s steps(1) infinite;\n",
              "  }\n",
              "\n",
              "  @keyframes spin {\n",
              "    0% {\n",
              "      border-color: transparent;\n",
              "      border-bottom-color: var(--fill-color);\n",
              "      border-left-color: var(--fill-color);\n",
              "    }\n",
              "    20% {\n",
              "      border-color: transparent;\n",
              "      border-left-color: var(--fill-color);\n",
              "      border-top-color: var(--fill-color);\n",
              "    }\n",
              "    30% {\n",
              "      border-color: transparent;\n",
              "      border-left-color: var(--fill-color);\n",
              "      border-top-color: var(--fill-color);\n",
              "      border-right-color: var(--fill-color);\n",
              "    }\n",
              "    40% {\n",
              "      border-color: transparent;\n",
              "      border-right-color: var(--fill-color);\n",
              "      border-top-color: var(--fill-color);\n",
              "    }\n",
              "    60% {\n",
              "      border-color: transparent;\n",
              "      border-right-color: var(--fill-color);\n",
              "    }\n",
              "    80% {\n",
              "      border-color: transparent;\n",
              "      border-right-color: var(--fill-color);\n",
              "      border-bottom-color: var(--fill-color);\n",
              "    }\n",
              "    90% {\n",
              "      border-color: transparent;\n",
              "      border-bottom-color: var(--fill-color);\n",
              "    }\n",
              "  }\n",
              "</style>\n",
              "\n",
              "  <script>\n",
              "    async function quickchart(key) {\n",
              "      const quickchartButtonEl =\n",
              "        document.querySelector('#' + key + ' button');\n",
              "      quickchartButtonEl.disabled = true;  // To prevent multiple clicks.\n",
              "      quickchartButtonEl.classList.add('colab-df-spinner');\n",
              "      try {\n",
              "        const charts = await google.colab.kernel.invokeFunction(\n",
              "            'suggestCharts', [key], {});\n",
              "      } catch (error) {\n",
              "        console.error('Error during call to suggestCharts:', error);\n",
              "      }\n",
              "      quickchartButtonEl.classList.remove('colab-df-spinner');\n",
              "      quickchartButtonEl.classList.add('colab-df-quickchart-complete');\n",
              "    }\n",
              "    (() => {\n",
              "      let quickchartButtonEl =\n",
              "        document.querySelector('#df-364d7d9f-3afb-4dc0-adb5-c22e85b5e149 button');\n",
              "      quickchartButtonEl.style.display =\n",
              "        google.colab.kernel.accessAllowed ? 'block' : 'none';\n",
              "    })();\n",
              "  </script>\n",
              "</div>\n",
              "\n",
              "    </div>\n",
              "  </div>\n"
            ]
          },
          "metadata": {},
          "execution_count": 14
        }
      ]
    },
    {
      "cell_type": "code",
      "source": [
        "# Distributions of labels\n",
        "train_df.target.value_counts()"
      ],
      "metadata": {
        "colab": {
          "base_uri": "https://localhost:8080/"
        },
        "id": "2_Cu295B-6Ny",
        "outputId": "238c5a45-10ef-4373-d47e-a6ede30b26e2"
      },
      "execution_count": 15,
      "outputs": [
        {
          "output_type": "execute_result",
          "data": {
            "text/plain": [
              "METHODS        59353\n",
              "RESULTS        57953\n",
              "CONCLUSIONS    27168\n",
              "BACKGROUND     21727\n",
              "OBJECTIVE      13839\n",
              "Name: target, dtype: int64"
            ]
          },
          "metadata": {},
          "execution_count": 15
        }
      ]
    },
    {
      "cell_type": "code",
      "source": [
        "# Check the length of different lines\n",
        "train_df.total_lines.plot.hist();"
      ],
      "metadata": {
        "colab": {
          "base_uri": "https://localhost:8080/",
          "height": 431
        },
        "id": "FrkJx66r_Sd3",
        "outputId": "d14dfc73-f267-4933-ef5c-9c1974bad0d7"
      },
      "execution_count": 16,
      "outputs": [
        {
          "output_type": "display_data",
          "data": {
            "text/plain": [
              "<Figure size 640x480 with 1 Axes>"
            ],
            "image/png": "[encoded data removed]"
          },
          "metadata": {}
        }
      ]
    },
    {
      "cell_type": "markdown",
      "source": [
        "### Get lists of sentences"
      ],
      "metadata": {
        "id": "YK6_crvQ_f-7"
      }
    },
    {
      "cell_type": "code",
      "source": [
        "# Converte the abstract text lines into lists\n",
        "train_sentences = train_df['text'].tolist()\n",
        "val_sentences = val_df['text'].tolist()\n",
        "test_sentences = test_df['text'].tolist()\n",
        "len(train_sentences), len(val_sentences), len(test_sentences)"
      ],
      "metadata": {
        "colab": {
          "base_uri": "https://localhost:8080/"
        },
        "id": "qSEhfbgp_uk1",
        "outputId": "16a1b386-305e-4ead-b3f8-5c2b4c7b91a3"
      },
      "execution_count": 17,
      "outputs": [
        {
          "output_type": "execute_result",
          "data": {
            "text/plain": [
              "(180040, 30212, 30135)"
            ]
          },
          "metadata": {},
          "execution_count": 17
        }
      ]
    },
    {
      "cell_type": "code",
      "source": [
        "# View the 10 lines of training sentencess\n",
        "train_sentences[:10]"
      ],
      "metadata": {
        "colab": {
          "base_uri": "https://localhost:8080/"
        },
        "id": "b_lJGLo7AFpl",
        "outputId": "17c15a29-5fec-4cce-bf19-9df146b09a49"
      },
      "execution_count": 18,
      "outputs": [
        {
          "output_type": "execute_result",
          "data": {
            "text/plain": [
              "['to investigate the efficacy of @ weeks of daily low-dose oral prednisolone in improving pain , mobility , and systemic low-grade inflammation in the short term and whether the effect would be sustained at @ weeks in older adults with moderate to severe knee osteoarthritis ( oa ) .',\n",
              " 'a total of @ patients with primary knee oa were randomized @:@ ; @ received @ mg/day of prednisolone and @ received placebo for @ weeks .',\n",
              " 'outcome measures included pain reduction and improvement in function scores and systemic inflammation markers .',\n",
              " 'pain was assessed using the visual analog pain scale ( @-@ mm ) .',\n",
              " 'secondary outcome measures included the western ontario and mcmaster universities osteoarthritis index scores , patient global assessment ( pga ) of the severity of knee oa , and @-min walk distance ( @mwd ) .',\n",
              " 'serum levels of interleukin @ ( il-@ ) , il-@ , tumor necrosis factor ( tnf ) - , and high-sensitivity c-reactive protein ( hscrp ) were measured .',\n",
              " 'there was a clinically relevant reduction in the intervention group compared to the placebo group for knee pain , physical function , pga , and @mwd at @ weeks .',\n",
              " 'the mean difference between treatment arms ( @ % ci ) was @ ( @-@ @ ) , p < @ ; @ ( @-@ @ ) , p < @ ; @ ( @-@ @ ) , p < @ ; and @ ( @-@ @ ) , p < @ , respectively .',\n",
              " 'further , there was a clinically relevant reduction in the serum levels of il-@ , il-@ , tnf - , and hscrp at @ weeks in the intervention group when compared to the placebo group .',\n",
              " 'these differences remained significant at @ weeks .']"
            ]
          },
          "metadata": {},
          "execution_count": 18
        }
      ]
    },
    {
      "cell_type": "markdown",
      "source": [
        "## Make numeric labels (ML models require numeric models)"
      ],
      "metadata": {
        "id": "3pSfcUKyANo5"
      }
    },
    {
      "cell_type": "code",
      "source": [
        "# One hot encode labels\n",
        "from sklearn.preprocessing import OneHotEncoder\n",
        "one_hot_encoder = OneHotEncoder(sparse=False)\n",
        "train_labels_one_hot = one_hot_encoder.fit_transform(train_df['target'].to_numpy().reshape(-1,1))\n",
        "val_labels_one_hot = one_hot_encoder.transform(val_df['target'].to_numpy().reshape(-1,1))\n",
        "test_labels_one_hot = one_hot_encoder.transform(test_df['target'].to_numpy().reshape(-1, 1))\n",
        "\n",
        "# Check what one hot encoder lables look like\n",
        "train_labels_one_hot"
      ],
      "metadata": {
        "colab": {
          "base_uri": "https://localhost:8080/"
        },
        "id": "94sHHrAGBw8s",
        "outputId": "f45f64c9-af91-4b1d-c000-f16b55a9967e"
      },
      "execution_count": 19,
      "outputs": [
        {
          "output_type": "stream",
          "name": "stderr",
          "text": [
            "/usr/local/lib/python3.10/dist-packages/sklearn/preprocessing/_encoders.py:868: FutureWarning: `sparse` was renamed to `sparse_output` in version 1.2 and will be removed in 1.4. `sparse_output` is ignored unless you leave `sparse` to its default value.\n",
            "  warnings.warn(\n"
          ]
        },
        {
          "output_type": "execute_result",
          "data": {
            "text/plain": [
              "array([[0., 0., 0., 1., 0.],\n",
              "       [0., 0., 1., 0., 0.],\n",
              "       [0., 0., 1., 0., 0.],\n",
              "       ...,\n",
              "       [0., 0., 0., 0., 1.],\n",
              "       [0., 1., 0., 0., 0.],\n",
              "       [0., 1., 0., 0., 0.]])"
            ]
          },
          "metadata": {},
          "execution_count": 19
        }
      ]
    },
    {
      "cell_type": "code",
      "source": [
        "\n",
        "len(train_labels_one_hot), len(val_labels_one_hot), len(test_labels_one_hot)"
      ],
      "metadata": {
        "colab": {
          "base_uri": "https://localhost:8080/"
        },
        "id": "yRD1MqDGl5g5",
        "outputId": "f25c225f-742d-4707-fe67-0ec18e7bf51e"
      },
      "execution_count": 20,
      "outputs": [
        {
          "output_type": "execute_result",
          "data": {
            "text/plain": [
              "(180040, 30212, 30135)"
            ]
          },
          "metadata": {},
          "execution_count": 20
        }
      ]
    },
    {
      "cell_type": "markdown",
      "source": [
        "### Label Encode labels"
      ],
      "metadata": {
        "id": "HWeEHsEDC2-M"
      }
    },
    {
      "cell_type": "code",
      "source": [
        "# Extract labels ('target' columms) and encode them into integeres\n",
        "from sklearn.preprocessing import LabelEncoder\n",
        "label_encoder = LabelEncoder()\n",
        "train_labels_encoded = label_encoder.fit_transform(train_df['target'].to_numpy())\n",
        "val_labels_encoded = label_encoder.transform(val_df['target'].to_numpy())\n",
        "test_label_encoded = label_encoder.transform(test_df['target'].to_numpy())\n",
        "\n",
        "# Check what training labels loook like\n",
        "train_labels_encoded"
      ],
      "metadata": {
        "colab": {
          "base_uri": "https://localhost:8080/"
        },
        "id": "EztiL6KwDlu-",
        "outputId": "e2f28b0c-1317-4a68-beab-4fc0e95a9f84"
      },
      "execution_count": 21,
      "outputs": [
        {
          "output_type": "execute_result",
          "data": {
            "text/plain": [
              "array([3, 2, 2, ..., 4, 1, 1])"
            ]
          },
          "metadata": {},
          "execution_count": 21
        }
      ]
    },
    {
      "cell_type": "code",
      "source": [
        "len(train_labels_encoded), len(val_labels_encoded), len(test_label_encoded)"
      ],
      "metadata": {
        "colab": {
          "base_uri": "https://localhost:8080/"
        },
        "id": "gOsS_G64lhi_",
        "outputId": "8aad8ab1-989e-4151-b75f-435f562e95a3"
      },
      "execution_count": 22,
      "outputs": [
        {
          "output_type": "execute_result",
          "data": {
            "text/plain": [
              "(180040, 30212, 30135)"
            ]
          },
          "metadata": {},
          "execution_count": 22
        }
      ]
    },
    {
      "cell_type": "code",
      "source": [
        "# Get class names and number of classes from LabelEcncoder instance\n",
        "num_classes = len(label_encoder.classes_)\n",
        "class_names = label_encoder.classes_\n",
        "num_classes, class_names"
      ],
      "metadata": {
        "colab": {
          "base_uri": "https://localhost:8080/"
        },
        "id": "eNnfgRsQEStZ",
        "outputId": "450e0db6-b4bf-4b9d-9f04-f84350a1dc31"
      },
      "execution_count": 23,
      "outputs": [
        {
          "output_type": "execute_result",
          "data": {
            "text/plain": [
              "(5,\n",
              " array(['BACKGROUND', 'CONCLUSIONS', 'METHODS', 'OBJECTIVE', 'RESULTS'],\n",
              "       dtype=object))"
            ]
          },
          "metadata": {},
          "execution_count": 23
        }
      ]
    },
    {
      "cell_type": "markdown",
      "source": [
        "# **Modelling**"
      ],
      "metadata": {
        "id": "zFCD-C2qE2Di"
      }
    },
    {
      "cell_type": "markdown",
      "source": [
        "## Baseline Model = TF-IDF Multinomial Naive Bayes classifier"
      ],
      "metadata": {
        "id": "-wo5OHhDFpka"
      }
    },
    {
      "cell_type": "code",
      "source": [
        "# Model_0 the baseline\n",
        "from sklearn.feature_extraction.text import TfidfVectorizer\n",
        "from sklearn.naive_bayes import MultinomialNB\n",
        "from sklearn.pipeline import Pipeline\n",
        "\n",
        "# Create a pipeline\n",
        "model_0 = Pipeline([\n",
        "    ('tf-idf', TfidfVectorizer()),\n",
        "     ('clf', MultinomialNB())\n",
        "])\n",
        "\n",
        "# Fit the pipeline to the training data\n",
        "model_0.fit(X=val_sentences,\n",
        "            y=val_labels_encoded)\n"
      ],
      "metadata": {
        "colab": {
          "base_uri": "https://localhost:8080/",
          "height": 128
        },
        "id": "rEr5UIREF1Av",
        "outputId": "0e6dd835-0c52-40a5-c06b-371834e85d6a"
      },
      "execution_count": 24,
      "outputs": [
        {
          "output_type": "execute_result",
          "data": {
            "text/plain": [
              "Pipeline(steps=[('tf-idf', TfidfVectorizer()), ('clf', MultinomialNB())])"
            ],
            "text/html": [
              "<style>#sk-container-id-1 {color: black;background-color: white;}#sk-container-id-1 pre{padding: 0;}#sk-container-id-1 div.sk-toggleable {background-color: white;}#sk-container-id-1 label.sk-toggleable__label {cursor: pointer;display: block;width: 100%;margin-bottom: 0;padding: 0.3em;box-sizing: border-box;text-align: center;}#sk-container-id-1 label.sk-toggleable__label-arrow:before {content: \"▸\";float: left;margin-right: 0.25em;color: #696969;}#sk-container-id-1 label.sk-toggleable__label-arrow:hover:before {color: black;}#sk-container-id-1 div.sk-estimator:hover label.sk-toggleable__label-arrow:before {color: black;}#sk-container-id-1 div.sk-toggleable__content {max-height: 0;max-width: 0;overflow: hidden;text-align: left;background-color: #f0f8ff;}#sk-container-id-1 div.sk-toggleable__content pre {margin: 0.2em;color: black;border-radius: 0.25em;background-color: #f0f8ff;}#sk-container-id-1 input.sk-toggleable__control:checked~div.sk-toggleable__content {max-height: 200px;max-width: 100%;overflow: auto;}#sk-container-id-1 input.sk-toggleable__control:checked~label.sk-toggleable__label-arrow:before {content: \"▾\";}#sk-container-id-1 div.sk-estimator input.sk-toggleable__control:checked~label.sk-toggleable__label {background-color: #d4ebff;}#sk-container-id-1 div.sk-label input.sk-toggleable__control:checked~label.sk-toggleable__label {background-color: #d4ebff;}#sk-container-id-1 input.sk-hidden--visually {border: 0;clip: rect(1px 1px 1px 1px);clip: rect(1px, 1px, 1px, 1px);height: 1px;margin: -1px;overflow: hidden;padding: 0;position: absolute;width: 1px;}#sk-container-id-1 div.sk-estimator {font-family: monospace;background-color: #f0f8ff;border: 1px dotted black;border-radius: 0.25em;box-sizing: border-box;margin-bottom: 0.5em;}#sk-container-id-1 div.sk-estimator:hover {background-color: #d4ebff;}#sk-container-id-1 div.sk-parallel-item::after {content: \"\";width: 100%;border-bottom: 1px solid gray;flex-grow: 1;}#sk-container-id-1 div.sk-label:hover label.sk-toggleable__label {background-color: #d4ebff;}#sk-container-id-1 div.sk-serial::before {content: \"\";position: absolute;border-left: 1px solid gray;box-sizing: border-box;top: 0;bottom: 0;left: 50%;z-index: 0;}#sk-container-id-1 div.sk-serial {display: flex;flex-direction: column;align-items: center;background-color: white;padding-right: 0.2em;padding-left: 0.2em;position: relative;}#sk-container-id-1 div.sk-item {position: relative;z-index: 1;}#sk-container-id-1 div.sk-parallel {display: flex;align-items: stretch;justify-content: center;background-color: white;position: relative;}#sk-container-id-1 div.sk-item::before, #sk-container-id-1 div.sk-parallel-item::before {content: \"\";position: absolute;border-left: 1px solid gray;box-sizing: border-box;top: 0;bottom: 0;left: 50%;z-index: -1;}#sk-container-id-1 div.sk-parallel-item {display: flex;flex-direction: column;z-index: 1;position: relative;background-color: white;}#sk-container-id-1 div.sk-parallel-item:first-child::after {align-self: flex-end;width: 50%;}#sk-container-id-1 div.sk-parallel-item:last-child::after {align-self: flex-start;width: 50%;}#sk-container-id-1 div.sk-parallel-item:only-child::after {width: 0;}#sk-container-id-1 div.sk-dashed-wrapped {border: 1px dashed gray;margin: 0 0.4em 0.5em 0.4em;box-sizing: border-box;padding-bottom: 0.4em;background-color: white;}#sk-container-id-1 div.sk-label label {font-family: monospace;font-weight: bold;display: inline-block;line-height: 1.2em;}#sk-container-id-1 div.sk-label-container {text-align: center;}#sk-container-id-1 div.sk-container {/* jupyter's `normalize.less` sets `[hidden] { display: none; }` but bootstrap.min.css set `[hidden] { display: none !important; }` so we also need the `!important` here to be able to override the default hidden behavior on the sphinx rendered scikit-learn.org. See: https://github.com/scikit-learn/scikit-learn/issues/21755 */display: inline-block !important;position: relative;}#sk-container-id-1 div.sk-text-repr-fallback {display: none;}</style><div id=\"sk-container-id-1\" class=\"sk-top-container\"><div class=\"sk-text-repr-fallback\"><pre>Pipeline(steps=[(&#x27;tf-idf&#x27;, TfidfVectorizer()), (&#x27;clf&#x27;, MultinomialNB())])</pre><b>In a Jupyter environment, please rerun this cell to show the HTML representation or trust the notebook. <br />On GitHub, the HTML representation is unable to render, please try loading this page with nbviewer.org.</b></div><div class=\"sk-container\" hidden><div class=\"sk-item sk-dashed-wrapped\"><div class=\"sk-label-container\"><div class=\"sk-label sk-toggleable\"><input class=\"sk-toggleable__control sk-hidden--visually\" id=\"sk-estimator-id-1\" type=\"checkbox\" ><label for=\"sk-estimator-id-1\" class=\"sk-toggleable__label sk-toggleable__label-arrow\">Pipeline</label><div class=\"sk-toggleable__content\"><pre>Pipeline(steps=[(&#x27;tf-idf&#x27;, TfidfVectorizer()), (&#x27;clf&#x27;, MultinomialNB())])</pre></div></div></div><div class=\"sk-serial\"><div class=\"sk-item\"><div class=\"sk-estimator sk-toggleable\"><input class=\"sk-toggleable__control sk-hidden--visually\" id=\"sk-estimator-id-2\" type=\"checkbox\" ><label for=\"sk-estimator-id-2\" class=\"sk-toggleable__label sk-toggleable__label-arrow\">TfidfVectorizer</label><div class=\"sk-toggleable__content\"><pre>TfidfVectorizer()</pre></div></div></div><div class=\"sk-item\"><div class=\"sk-estimator sk-toggleable\"><input class=\"sk-toggleable__control sk-hidden--visually\" id=\"sk-estimator-id-3\" type=\"checkbox\" ><label for=\"sk-estimator-id-3\" class=\"sk-toggleable__label sk-toggleable__label-arrow\">MultinomialNB</label><div class=\"sk-toggleable__content\"><pre>MultinomialNB()</pre></div></div></div></div></div></div></div>"
            ]
          },
          "metadata": {},
          "execution_count": 24
        }
      ]
    },
    {
      "cell_type": "code",
      "source": [
        "# Evaluate the score\n",
        "model_0.score(X=val_sentences, y=val_labels_encoded)"
      ],
      "metadata": {
        "colab": {
          "base_uri": "https://localhost:8080/"
        },
        "id": "Nm8qG_WGGpwg",
        "outputId": "90e95f81-7b8e-4041-d1d1-ff537b8f60eb"
      },
      "execution_count": 25,
      "outputs": [
        {
          "output_type": "execute_result",
          "data": {
            "text/plain": [
              "0.7397060770554746"
            ]
          },
          "metadata": {},
          "execution_count": 25
        }
      ]
    },
    {
      "cell_type": "code",
      "source": [
        "len(val_sentences)"
      ],
      "metadata": {
        "colab": {
          "base_uri": "https://localhost:8080/"
        },
        "id": "mZDwIZwvnCeW",
        "outputId": "0baead32-bd9d-4ad1-fb73-5f4a90825d4b"
      },
      "execution_count": 26,
      "outputs": [
        {
          "output_type": "execute_result",
          "data": {
            "text/plain": [
              "30212"
            ]
          },
          "metadata": {},
          "execution_count": 26
        }
      ]
    },
    {
      "cell_type": "code",
      "source": [
        "# Make prediction using  baseline model\n",
        "baseline_preds = model_0.predict(val_sentences)\n",
        "baseline_preds"
      ],
      "metadata": {
        "colab": {
          "base_uri": "https://localhost:8080/"
        },
        "id": "VNJXhvfGG6If",
        "outputId": "a3c8ebd8-33e1-4b09-8aa4-d260011d4da3"
      },
      "execution_count": 27,
      "outputs": [
        {
          "output_type": "execute_result",
          "data": {
            "text/plain": [
              "array([1, 1, 3, ..., 4, 4, 0])"
            ]
          },
          "metadata": {},
          "execution_count": 27
        }
      ]
    },
    {
      "cell_type": "code",
      "source": [
        "from script_functions import calculate_results\n",
        "# Calculate baseline results\n",
        "baseline_results = calculate_results(y_true=val_labels_encoded,\n",
        "                                     y_pred=baseline_preds)\n",
        "baseline_results"
      ],
      "metadata": {
        "colab": {
          "base_uri": "https://localhost:8080/"
        },
        "id": "qk4Go0hnpIq6",
        "outputId": "98cb9555-e7d5-43c9-bb53-455dad49f4e2"
      },
      "execution_count": 28,
      "outputs": [
        {
          "output_type": "execute_result",
          "data": {
            "text/plain": [
              "{'accuracy': 73.97060770554747,\n",
              " 'precision': 0.7593397029855078,\n",
              " 'recall': 0.7397060770554746,\n",
              " 'f1': 0.7099951173338448}"
            ]
          },
          "metadata": {},
          "execution_count": 28
        }
      ]
    },
    {
      "cell_type": "markdown",
      "source": [
        "## Preparing the data for  deep sequence models"
      ],
      "metadata": {
        "id": "hz4AWyjDp2ig"
      }
    },
    {
      "cell_type": "code",
      "source": [
        "import numpy as np\n",
        "import tensorflow as tf\n",
        "from tensorflow.keras import layers"
      ],
      "metadata": {
        "id": "VmyEZOR98D_b"
      },
      "execution_count": 29,
      "outputs": []
    },
    {
      "cell_type": "code",
      "source": [
        "# How long in each sentence on average?\n",
        "sent_lens = [len(sentence.split()) for sentence in train_sentences]\n",
        "sent_lens[10]"
      ],
      "metadata": {
        "colab": {
          "base_uri": "https://localhost:8080/"
        },
        "id": "kLBo07vM8Lk3",
        "outputId": "758c5291-9dce-4d1c-b1be-17cd2b702d8b"
      },
      "execution_count": 30,
      "outputs": [
        {
          "output_type": "execute_result",
          "data": {
            "text/plain": [
              "32"
            ]
          },
          "metadata": {},
          "execution_count": 30
        }
      ]
    },
    {
      "cell_type": "code",
      "source": [
        "avg_sent_lens = np.mean(sent_lens)\n",
        "avg_sent_lens"
      ],
      "metadata": {
        "colab": {
          "base_uri": "https://localhost:8080/"
        },
        "id": "O1aawaO48a0f",
        "outputId": "dac0aed4-1017-4f39-ac6c-e3c7352aeacc"
      },
      "execution_count": 31,
      "outputs": [
        {
          "output_type": "execute_result",
          "data": {
            "text/plain": [
              "26.338269273494777"
            ]
          },
          "metadata": {},
          "execution_count": 31
        }
      ]
    },
    {
      "cell_type": "code",
      "source": [
        "# What's the distribution look like?\n",
        "import matplotlib.pyplot as plt\n",
        "plt.figure(figsize=(20, 7))\n",
        "plt.hist(sent_lens, bins=100);"
      ],
      "metadata": {
        "colab": {
          "base_uri": "https://localhost:8080/",
          "height": 518
        },
        "id": "4OToHOEU88jG",
        "outputId": "1f64a7d6-d335-4cb6-c0c4-0d0d12f6cdda"
      },
      "execution_count": 32,
      "outputs": [
        {
          "output_type": "display_data",
          "data": {
            "text/plain": [
              "<Figure size 2000x700 with 1 Axes>"
            ],
            "image/png": "[encoded data removed]"
          },
          "metadata": {}
        }
      ]
    },
    {
      "cell_type": "code",
      "source": [
        "# How long of a sentence length covers 95% of examples?\n",
        "output_seq_len = int(np.percentile(sent_lens,95))\n",
        "output_seq_len"
      ],
      "metadata": {
        "colab": {
          "base_uri": "https://localhost:8080/"
        },
        "id": "g1pJx9kV9I3T",
        "outputId": "8a92dafc-a8ab-4bdc-c5b6-440b2e26d24b"
      },
      "execution_count": 33,
      "outputs": [
        {
          "output_type": "execute_result",
          "data": {
            "text/plain": [
              "55"
            ]
          },
          "metadata": {},
          "execution_count": 33
        }
      ]
    },
    {
      "cell_type": "code",
      "source": [
        "# Maximum sequence length in the training set\n",
        "max(sent_lens)"
      ],
      "metadata": {
        "colab": {
          "base_uri": "https://localhost:8080/"
        },
        "id": "q-n1CAkr-rwZ",
        "outputId": "886fc0fd-6d1b-40e8-b496-731cf69a93b4"
      },
      "execution_count": 34,
      "outputs": [
        {
          "output_type": "execute_result",
          "data": {
            "text/plain": [
              "296"
            ]
          },
          "metadata": {},
          "execution_count": 34
        }
      ]
    },
    {
      "cell_type": "markdown",
      "source": [
        "## Create a text vectorizer Layer\n",
        "\n",
        "Mapping from text to numbers"
      ],
      "metadata": {
        "id": "o_eVn35z-26y"
      }
    },
    {
      "cell_type": "code",
      "source": [
        "# How many words are in our vocabulary (taken from table 2 in ?\n",
        "max_tokens = 68000"
      ],
      "metadata": {
        "id": "K0zQPLP__aIe"
      },
      "execution_count": 35,
      "outputs": []
    },
    {
      "cell_type": "code",
      "source": [
        "# Create text vectorizer\n",
        "import tensorflow as tf\n",
        "from tensorflow.keras.layers import TextVectorization\n",
        "\n",
        "text_vectorization = TextVectorization(max_tokens = max_tokens, # number of words in vocabulary\n",
        "                                       output_sequence_length = 55) # desired output length of vectorized sequences"
      ],
      "metadata": {
        "id": "VVoOtL8LAQMF"
      },
      "execution_count": 36,
      "outputs": []
    },
    {
      "cell_type": "code",
      "source": [
        "# Adapt text vectorizer to training sentences\n",
        "text_vectorization.adapt(train_sentences)"
      ],
      "metadata": {
        "id": "_Wxo8vLGmkAa"
      },
      "execution_count": 37,
      "outputs": []
    },
    {
      "cell_type": "code",
      "source": [
        "# Test out text vectorizer on random sentences\n",
        "import random\n",
        "target_sentences = random.choice(train_sentences)\n",
        "print(f\"Text:\\n {target_sentences}\")\n",
        "print(f\"\\nLength of text: {len(train_sentences)}\")\n",
        "print(f\"\\nVectorized text: {text_vectorization([target_sentences])}\")"
      ],
      "metadata": {
        "colab": {
          "base_uri": "https://localhost:8080/"
        },
        "id": "oT6t_fRVqaUc",
        "outputId": "c87f34fd-d8d5-4f6e-81b5-d7f52c1bdcb3"
      },
      "execution_count": 38,
      "outputs": [
        {
          "output_type": "stream",
          "name": "stdout",
          "text": [
            "Text:\n",
            " nine-item patient health questionnaire scores and self-reported need for mental health care did not differ significantly between patients who remained insured and those who lost insurance during the first postpartum year .\n",
            "\n",
            "Length of text: 180040\n",
            "\n",
            "Vectorized text: [[29849   127    97   325   119     3   799   483    11   486    97    77\n",
            "    112    31   544    39    30    12    67   792 13949     3   125    67\n",
            "   1499  3477    52     2   152  1212   157     0     0     0     0     0\n",
            "      0     0     0     0     0     0     0     0     0     0     0     0\n",
            "      0     0     0     0     0     0     0]]\n"
          ]
        }
      ]
    },
    {
      "cell_type": "code",
      "source": [
        "# How many words in training vocabulary\n",
        "rct_20k_text_vocab  = text_vectorization.get_vocabulary()\n",
        "print(f\"Number of words in vocab: {len(rct_20k_text_vocab)}\")\n",
        "print(f\"Most common words in the vocab : {rct_20k_text_vocab[:5]}\")\n",
        "print(f\"Least common words in the vocab : {rct_20k_text_vocab[-5:]}\")"
      ],
      "metadata": {
        "colab": {
          "base_uri": "https://localhost:8080/"
        },
        "id": "J_GC_IyurA8A",
        "outputId": "4aed5a04-1d40-47f9-8301-e9ed67c90dd7"
      },
      "execution_count": 39,
      "outputs": [
        {
          "output_type": "stream",
          "name": "stdout",
          "text": [
            "Number of words in vocab: 64841\n",
            "Most common words in the vocab : ['', '[UNK]', 'the', 'and', 'of']\n",
            "Least common words in the vocab : ['aainduced', 'aaigroup', 'aachener', 'aachen', 'aaacp']\n"
          ]
        }
      ]
    },
    {
      "cell_type": "code",
      "source": [
        "# Start the program\n",
        "text_vectorization.get_config()"
      ],
      "metadata": {
        "colab": {
          "base_uri": "https://localhost:8080/"
        },
        "id": "L-wZ7SDasPW9",
        "outputId": "4cccd74b-e9ad-4656-f993-af00597d219e"
      },
      "execution_count": 40,
      "outputs": [
        {
          "output_type": "execute_result",
          "data": {
            "text/plain": [
              "{'name': 'text_vectorization',\n",
              " 'trainable': True,\n",
              " 'dtype': 'string',\n",
              " 'batch_input_shape': (None,),\n",
              " 'max_tokens': 68000,\n",
              " 'standardize': 'lower_and_strip_punctuation',\n",
              " 'split': 'whitespace',\n",
              " 'ngrams': None,\n",
              " 'output_mode': 'int',\n",
              " 'output_sequence_length': 55,\n",
              " 'pad_to_max_tokens': False,\n",
              " 'sparse': False,\n",
              " 'ragged': False,\n",
              " 'vocabulary': None,\n",
              " 'idf_weights': None,\n",
              " 'encoding': 'utf-8',\n",
              " 'vocabulary_size': 64841}"
            ]
          },
          "metadata": {},
          "execution_count": 40
        }
      ]
    },
    {
      "cell_type": "markdown",
      "source": [
        "## Create Custom text embedding"
      ],
      "metadata": {
        "id": "tA4XSYXpsjUt"
      }
    },
    {
      "cell_type": "code",
      "source": [
        "# Create token embedding layer\n",
        "token_embed = layers.Embedding(input_dim=len(rct_20k_text_vocab), # length of output vocabulary\n",
        "                               output_dim = 128, # Note: different embedding sizes result in different parameters to train\n",
        "                               mask_zero = True, # Use masking to handle variable sequence length\n",
        "                               name=\"token_embedding\")"
      ],
      "metadata": {
        "id": "FmEBnsH4tjQh"
      },
      "execution_count": 41,
      "outputs": []
    },
    {
      "cell_type": "code",
      "source": [
        "# Show example embedding\n",
        "print(f\"Sentence before vectorization: \\n {target_sentences} \\n\")\n",
        "vectorized_sentence = text_vectorization([target_sentences])\n",
        "print(f\"Sentence after vectorization: \\n (before embedding): \\n {vectorized_sentence}\\n\")\n",
        "embedded_sentence = token_embed(vectorized_sentence)\n",
        "print(f\"Sentence after embedding: \\n {embedded_sentence}\")\n",
        "print(f\"Embedded sentence shape: {embedded_sentence.shape}\")"
      ],
      "metadata": {
        "colab": {
          "base_uri": "https://localhost:8080/"
        },
        "id": "tt2WDkk_wB23",
        "outputId": "df0ae9f0-5c5d-4857-dde1-61927619978d"
      },
      "execution_count": 42,
      "outputs": [
        {
          "output_type": "stream",
          "name": "stdout",
          "text": [
            "Sentence before vectorization: \n",
            " nine-item patient health questionnaire scores and self-reported need for mental health care did not differ significantly between patients who remained insured and those who lost insurance during the first postpartum year . \n",
            "\n",
            "Sentence after vectorization: \n",
            " (before embedding): \n",
            " [[29849   127    97   325   119     3   799   483    11   486    97    77\n",
            "    112    31   544    39    30    12    67   792 13949     3   125    67\n",
            "   1499  3477    52     2   152  1212   157     0     0     0     0     0\n",
            "      0     0     0     0     0     0     0     0     0     0     0     0\n",
            "      0     0     0     0     0     0     0]]\n",
            "\n",
            "Sentence after embedding: \n",
            " [[[-0.03765409  0.04639542  0.01090065 ... -0.00744262 -0.01177492\n",
            "   -0.02763387]\n",
            "  [ 0.0305643  -0.02340478 -0.00723975 ...  0.00137309  0.03181367\n",
            "   -0.00794836]\n",
            "  [ 0.03083381  0.03210953  0.00109408 ... -0.02935244 -0.02842696\n",
            "   -0.03416221]\n",
            "  ...\n",
            "  [ 0.0051569  -0.03949546 -0.02380767 ...  0.03355605 -0.01081971\n",
            "   -0.00725638]\n",
            "  [ 0.0051569  -0.03949546 -0.02380767 ...  0.03355605 -0.01081971\n",
            "   -0.00725638]\n",
            "  [ 0.0051569  -0.03949546 -0.02380767 ...  0.03355605 -0.01081971\n",
            "   -0.00725638]]]\n",
            "Embedded sentence shape: (1, 55, 128)\n"
          ]
        }
      ]
    },
    {
      "cell_type": "markdown",
      "source": [
        "## Createing datasets (making sure the data loads as fast as possible)\n",
        "Setup  the data to run as fast as possible with the tf.data API"
      ],
      "metadata": {
        "id": "w6szSe44wpWQ"
      }
    },
    {
      "cell_type": "code",
      "source": [
        "import tensorflow as tf\n",
        "import time"
      ],
      "metadata": {
        "id": "xIREY5dyHImc"
      },
      "execution_count": 43,
      "outputs": []
    },
    {
      "cell_type": "code",
      "source": [
        "# Turn data into Tensorflow datasets\n",
        "train_dataset = tf.data.Dataset.from_tensor_slices((train_sentences, train_labels_one_hot))\n",
        "valid_dataset = tf.data.Dataset.from_tensor_slices((val_sentences, val_labels_one_hot))\n",
        "test_dataset = tf.data.Dataset.from_tensor_slices((test_sentences, test_labels_one_hot))\n",
        "train_dataset"
      ],
      "metadata": {
        "colab": {
          "base_uri": "https://localhost:8080/"
        },
        "id": "GjQjeggvHLO_",
        "outputId": "4cf60185-f6e6-4ea6-e280-9b3fda1a6f94"
      },
      "execution_count": 44,
      "outputs": [
        {
          "output_type": "execute_result",
          "data": {
            "text/plain": [
              "<_TensorSliceDataset element_spec=(TensorSpec(shape=(), dtype=tf.string, name=None), TensorSpec(shape=(5,), dtype=tf.float64, name=None))>"
            ]
          },
          "metadata": {},
          "execution_count": 44
        }
      ]
    },
    {
      "cell_type": "code",
      "source": [
        "len(train_dataset)"
      ],
      "metadata": {
        "colab": {
          "base_uri": "https://localhost:8080/"
        },
        "id": "SPSMlD-TStqS",
        "outputId": "ea47b208-9411-4c12-acdd-f417ae0b2f4f"
      },
      "execution_count": 45,
      "outputs": [
        {
          "output_type": "execute_result",
          "data": {
            "text/plain": [
              "180040"
            ]
          },
          "metadata": {},
          "execution_count": 45
        }
      ]
    },
    {
      "cell_type": "code",
      "source": [
        "train_labels_one_hot.shape, train_labels_one_hot[0]"
      ],
      "metadata": {
        "colab": {
          "base_uri": "https://localhost:8080/"
        },
        "id": "0zATgRBbHxtk",
        "outputId": "856f4597-844c-4ea3-8669-e9432645d221"
      },
      "execution_count": 46,
      "outputs": [
        {
          "output_type": "execute_result",
          "data": {
            "text/plain": [
              "((180040, 5), array([0., 0., 0., 1., 0.]))"
            ]
          },
          "metadata": {},
          "execution_count": 46
        }
      ]
    },
    {
      "cell_type": "code",
      "source": [
        "# Take the tensorslicess dataset and turn them into prefetched datasets\n",
        "train_dataset = train_dataset.batch(32).prefetch(tf.data.AUTOTUNE)\n",
        "valid_dataset = valid_dataset.batch(32).prefetch(tf.data.AUTOTUNE)\n",
        "test_dataset = test_dataset.batch(32).prefetch(tf.data.AUTOTUNE)\n",
        "\n",
        "train_dataset"
      ],
      "metadata": {
        "colab": {
          "base_uri": "https://localhost:8080/"
        },
        "id": "RAJw_UN5H5Km",
        "outputId": "65f3212c-def4-429b-af23-335fba190844"
      },
      "execution_count": 47,
      "outputs": [
        {
          "output_type": "execute_result",
          "data": {
            "text/plain": [
              "<_PrefetchDataset element_spec=(TensorSpec(shape=(None,), dtype=tf.string, name=None), TensorSpec(shape=(None, 5), dtype=tf.float64, name=None))>"
            ]
          },
          "metadata": {},
          "execution_count": 47
        }
      ]
    },
    {
      "cell_type": "code",
      "source": [
        "len(train_dataset)"
      ],
      "metadata": {
        "colab": {
          "base_uri": "https://localhost:8080/"
        },
        "id": "g6aMqncWSxtH",
        "outputId": "f92690b6-e771-4ab8-ce9f-dbfc3e177888"
      },
      "execution_count": 48,
      "outputs": [
        {
          "output_type": "execute_result",
          "data": {
            "text/plain": [
              "5627"
            ]
          },
          "metadata": {},
          "execution_count": 48
        }
      ]
    },
    {
      "cell_type": "markdown",
      "source": [
        "## Building a conv1d Model with token embeddings"
      ],
      "metadata": {
        "id": "Th3EDQi_Ikhj"
      }
    },
    {
      "cell_type": "code",
      "source": [
        "# Create 1D Conv model to process sequences\n",
        "inputs  = layers.Input(shape=(1,), dtype=tf.string)\n",
        "text_vectors = text_vectorization(inputs)\n",
        "token_embeddings = token_embed(text_vectors)\n",
        "x  = layers.Conv1D(64, kernel_size=5, padding=\"same\", activation=\"relu\")(token_embeddings)\n",
        "x  = layers.GlobalAveragePooling1D()(x) # condense the output of our feature vector from conv layer\n",
        "outputs = layers.Dense(num_classes, activation=\"softmax\")(x)\n",
        "model_1 = tf.keras.Model(inputs, outputs)\n",
        "\n",
        "# Compile\n",
        "model_1.compile(loss=\"categorical_crossentropy\",\n",
        "                optimizer=tf.keras.optimizers.Adam(),\n",
        "                metrics=['accuracy'])\n"
      ],
      "metadata": {
        "id": "VAtjwKokJYR-"
      },
      "execution_count": 49,
      "outputs": []
    },
    {
      "cell_type": "code",
      "source": [
        "model_1.summary()"
      ],
      "metadata": {
        "colab": {
          "base_uri": "https://localhost:8080/"
        },
        "id": "0eX_aGyoOqP5",
        "outputId": "2a215f49-036f-41ff-bb72-dd62890db728"
      },
      "execution_count": 50,
      "outputs": [
        {
          "output_type": "stream",
          "name": "stdout",
          "text": [
            "Model: \"model\"\n",
            "_________________________________________________________________\n",
            " Layer (type)                Output Shape              Param #   \n",
            "=================================================================\n",
            " input_1 (InputLayer)        [(None, 1)]               0         \n",
            "                                                                 \n",
            " text_vectorization (TextVe  (None, 55)                0         \n",
            " ctorization)                                                    \n",
            "                                                                 \n",
            " token_embedding (Embedding  (None, 55, 128)           8299648   \n",
            " )                                                               \n",
            "                                                                 \n",
            " conv1d (Conv1D)             (None, 55, 64)            41024     \n",
            "                                                                 \n",
            " global_average_pooling1d (  (None, 64)                0         \n",
            " GlobalAveragePooling1D)                                         \n",
            "                                                                 \n",
            " dense (Dense)               (None, 5)                 325       \n",
            "                                                                 \n",
            "=================================================================\n",
            "Total params: 8340997 (31.82 MB)\n",
            "Trainable params: 8340997 (31.82 MB)\n",
            "Non-trainable params: 0 (0.00 Byte)\n",
            "_________________________________________________________________\n"
          ]
        }
      ]
    },
    {
      "cell_type": "code",
      "source": [
        "# Fit the model\n",
        "history_model_1  = model_1.fit(train_dataset,\n",
        "                               steps_per_epoch = int(0.1 * len(train_dataset)),\n",
        "                               epochs=3,\n",
        "                               validation_data = valid_dataset,\n",
        "                               validation_steps = int(0.1 * len(valid_dataset))) # only validate on 10% of batches"
      ],
      "metadata": {
        "colab": {
          "base_uri": "https://localhost:8080/"
        },
        "id": "FcM5oKgxO1Mh",
        "outputId": "684aad89-906e-4581-c821-ee3096532bae"
      },
      "execution_count": 51,
      "outputs": [
        {
          "output_type": "stream",
          "name": "stdout",
          "text": [
            "Epoch 1/3\n",
            "562/562 [==============================] - 70s 122ms/step - loss: 0.9135 - accuracy: 0.6410 - val_loss: 0.6835 - val_accuracy: 0.7400\n",
            "Epoch 2/3\n",
            "562/562 [==============================] - 66s 118ms/step - loss: 0.6598 - accuracy: 0.7537 - val_loss: 0.6333 - val_accuracy: 0.7636\n",
            "Epoch 3/3\n",
            "562/562 [==============================] - 67s 119ms/step - loss: 0.6240 - accuracy: 0.7711 - val_loss: 0.6005 - val_accuracy: 0.7839\n"
          ]
        }
      ]
    },
    {
      "cell_type": "code",
      "source": [
        "# Evaluate on whole validation dataset\n",
        "model_1.evaluate(valid_dataset)"
      ],
      "metadata": {
        "colab": {
          "base_uri": "https://localhost:8080/"
        },
        "id": "-LVBnPqVT8RK",
        "outputId": "420ba787-fe23-42e0-ccc8-40d37387dcdf"
      },
      "execution_count": 52,
      "outputs": [
        {
          "output_type": "stream",
          "name": "stdout",
          "text": [
            "945/945 [==============================] - 6s 6ms/step - loss: 0.6045 - accuracy: 0.7831\n"
          ]
        },
        {
          "output_type": "execute_result",
          "data": {
            "text/plain": [
              "[0.6045150756835938, 0.7830663323402405]"
            ]
          },
          "metadata": {},
          "execution_count": 52
        }
      ]
    },
    {
      "cell_type": "code",
      "source": [
        "# Predicion probabilities for each class\n",
        "model_1_pred_probs = model_1.predict(valid_dataset)\n",
        "model_1_pred_probs, model_1_pred_probs.shape"
      ],
      "metadata": {
        "colab": {
          "base_uri": "https://localhost:8080/"
        },
        "id": "oCUSrGJxUNM8",
        "outputId": "51168464-9a41-419f-ecf5-fb2eefad48c8"
      },
      "execution_count": 53,
      "outputs": [
        {
          "output_type": "stream",
          "name": "stdout",
          "text": [
            "945/945 [==============================] - 5s 5ms/step\n"
          ]
        },
        {
          "output_type": "execute_result",
          "data": {
            "text/plain": [
              "(array([[3.9401835e-01, 1.9178022e-01, 1.2101796e-01, 2.6897240e-01,\n",
              "         2.4211025e-02],\n",
              "        [5.1932538e-01, 2.0276597e-01, 1.4340919e-02, 2.5840706e-01,\n",
              "         5.1606954e-03],\n",
              "        [1.4645179e-01, 7.0854239e-03, 2.7731957e-03, 8.4364140e-01,\n",
              "         4.8236758e-05],\n",
              "        ...,\n",
              "        [1.6004929e-06, 7.4787735e-04, 1.0031092e-03, 3.8500893e-06,\n",
              "         9.9824357e-01],\n",
              "        [5.9078902e-02, 4.4607633e-01, 1.3727711e-01, 7.9257131e-02,\n",
              "         2.7831057e-01],\n",
              "        [1.9322628e-01, 6.7640108e-01, 2.7326258e-02, 3.1883381e-02,\n",
              "         7.1163088e-02]], dtype=float32),\n",
              " (30212, 5))"
            ]
          },
          "metadata": {},
          "execution_count": 53
        }
      ]
    },
    {
      "cell_type": "code",
      "source": [
        "# Convert pred probs to classes\n",
        "model_1_preds = tf.argmax(model_1_pred_probs, axis=1)\n",
        "model_1_preds"
      ],
      "metadata": {
        "colab": {
          "base_uri": "https://localhost:8080/"
        },
        "id": "fGKet2vCUbRI",
        "outputId": "047309fe-f65c-42cb-de07-4331af726026"
      },
      "execution_count": 54,
      "outputs": [
        {
          "output_type": "execute_result",
          "data": {
            "text/plain": [
              "<tf.Tensor: shape=(30212,), dtype=int64, numpy=array([0, 0, 3, ..., 4, 1, 1])>"
            ]
          },
          "metadata": {},
          "execution_count": 54
        }
      ]
    },
    {
      "cell_type": "code",
      "source": [
        "# Confirm with classnames\n",
        "class_names"
      ],
      "metadata": {
        "colab": {
          "base_uri": "https://localhost:8080/"
        },
        "id": "mVwnAECAUtla",
        "outputId": "197800ee-7f91-4735-8e23-c676958b6600"
      },
      "execution_count": 55,
      "outputs": [
        {
          "output_type": "execute_result",
          "data": {
            "text/plain": [
              "array(['BACKGROUND', 'CONCLUSIONS', 'METHODS', 'OBJECTIVE', 'RESULTS'],\n",
              "      dtype=object)"
            ]
          },
          "metadata": {},
          "execution_count": 55
        }
      ]
    },
    {
      "cell_type": "code",
      "source": [
        "# Caclulate model_1 results\n",
        "model_1_results = calculate_results(y_true = val_labels_encoded,\n",
        "                                    y_pred = model_1_preds)\n",
        "model_1_results"
      ],
      "metadata": {
        "colab": {
          "base_uri": "https://localhost:8080/"
        },
        "id": "PgwNTGwNU3iK",
        "outputId": "749ca0eb-d2ed-4997-e546-0d23c2a5e9ec"
      },
      "execution_count": 56,
      "outputs": [
        {
          "output_type": "execute_result",
          "data": {
            "text/plain": [
              "{'accuracy': 78.30663312591022,\n",
              " 'precision': 0.77922046502661,\n",
              " 'recall': 0.7830663312591023,\n",
              " 'f1': 0.7803402876892961}"
            ]
          },
          "metadata": {},
          "execution_count": 56
        }
      ]
    },
    {
      "cell_type": "code",
      "source": [
        "baseline_results"
      ],
      "metadata": {
        "colab": {
          "base_uri": "https://localhost:8080/"
        },
        "id": "nfSRKzwEVG_h",
        "outputId": "20fa4e14-38d8-46ce-8bc7-775f87ec4b98"
      },
      "execution_count": 57,
      "outputs": [
        {
          "output_type": "execute_result",
          "data": {
            "text/plain": [
              "{'accuracy': 73.97060770554747,\n",
              " 'precision': 0.7593397029855078,\n",
              " 'recall': 0.7397060770554746,\n",
              " 'f1': 0.7099951173338448}"
            ]
          },
          "metadata": {},
          "execution_count": 57
        }
      ]
    },
    {
      "cell_type": "markdown",
      "source": [
        "## Model 2: Feature extraction with pretrained feature embedding"
      ],
      "metadata": {
        "id": "fd4mHoI8VOT4"
      }
    },
    {
      "cell_type": "code",
      "source": [
        "# Download pretrained model\n",
        "import tensorflow_hub as hub\n",
        "tf_hub_embedding_layer = hub.KerasLayer(\"https://tfhub.dev/google/universal-sentence-encoder/4\",\n",
        "                                        trainable= False,\n",
        "                                        name=\"universal_sentence_encoder\")"
      ],
      "metadata": {
        "id": "3TnsAEfGRePt"
      },
      "execution_count": 58,
      "outputs": []
    },
    {
      "cell_type": "code",
      "source": [
        "# Test out the pretrained embedding on a random sentece\n",
        "random_train_sentence = random.choice(train_sentences)\n",
        "print(f\"Random sentence: \\n {random_train_sentence}\")\n",
        "use_embedded_sentence = tf_hub_embedding_layer([random_train_sentence])\n",
        "print(f\"Sentence after embedding: \\n {use_embedded_sentence[0][:20]}\")\n",
        "print(f\"Length of sentence embeddding: {len(use_embedded_sentence)}\")"
      ],
      "metadata": {
        "colab": {
          "base_uri": "https://localhost:8080/"
        },
        "id": "W8sXQdaORgZn",
        "outputId": "53e8c26e-3785-4667-e91f-b5b1cf0f7703"
      },
      "execution_count": 59,
      "outputs": [
        {
          "output_type": "stream",
          "name": "stdout",
          "text": [
            "Random sentence: \n",
            " the data suggest that consumption of jobelyn contributed to improved hemoglobin levels and increased cd@ + t-cell counts in nigerian hiv + patients .\n",
            "Sentence after embedding: \n",
            " [-0.02662063 -0.01473577  0.02430393 -0.06277916 -0.05110608  0.01968418\n",
            "  0.00342441 -0.03996868  0.04156296 -0.00945443  0.08459146  0.04865847\n",
            "  0.0194561   0.04581492  0.00583088 -0.01315281 -0.08450671 -0.05432552\n",
            "  0.02678798 -0.00253604]\n",
            "Length of sentence embeddding: 1\n"
          ]
        }
      ]
    },
    {
      "cell_type": "markdown",
      "source": [
        "### Building and  fitting and NLP feature exteraction model using pretrained embeddings TensorFlow Hub"
      ],
      "metadata": {
        "id": "0aahssNFRghi"
      }
    },
    {
      "cell_type": "code",
      "source": [
        "# Define featuere extraction using  model using TF hub layer\n",
        "\n",
        "inputs = layers.Input(shape=[], dtype=tf.string)\n",
        "pretrained_embedding = tf_hub_embedding_layer(inputs) # tokenize text and create emebdding of each sequence\n",
        "x = layers.Dense(128, activation='relu')(pretrained_embedding)\n",
        "# Add more leyers later\n",
        "outputs = layers.Dense(num_classes, activation='softmax')(x) # Create the output layer\n",
        "model_2 = tf.keras.Model(inputs=inputs,\n",
        "                         outputs=outputs,\n",
        "                         name=\"model_2_USE_feature_extractor\")\n",
        "\n",
        "# Compile the model\n",
        "model_2.compile(loss='categorical_crossentropy',\n",
        "                optimizer=tf.keras.optimizers.Adam(),\n",
        "                metrics=['accuracy'])"
      ],
      "metadata": {
        "id": "ojCLjdTqRgkD"
      },
      "execution_count": 60,
      "outputs": []
    },
    {
      "cell_type": "code",
      "source": [
        "model_2.summary()"
      ],
      "metadata": {
        "colab": {
          "base_uri": "https://localhost:8080/"
        },
        "id": "8kKvJZ8kRgrc",
        "outputId": "6357bc9d-bc71-4ce1-b56a-fd994c923d70"
      },
      "execution_count": 61,
      "outputs": [
        {
          "output_type": "stream",
          "name": "stdout",
          "text": [
            "Model: \"model_2_USE_feature_extractor\"\n",
            "_________________________________________________________________\n",
            " Layer (type)                Output Shape              Param #   \n",
            "=================================================================\n",
            " input_2 (InputLayer)        [(None,)]                 0         \n",
            "                                                                 \n",
            " universal_sentence_encoder  (None, 512)               256797824 \n",
            "  (KerasLayer)                                                   \n",
            "                                                                 \n",
            " dense_1 (Dense)             (None, 128)               65664     \n",
            "                                                                 \n",
            " dense_2 (Dense)             (None, 5)                 645       \n",
            "                                                                 \n",
            "=================================================================\n",
            "Total params: 256864133 (979.86 MB)\n",
            "Trainable params: 66309 (259.02 KB)\n",
            "Non-trainable params: 256797824 (979.61 MB)\n",
            "_________________________________________________________________\n"
          ]
        }
      ]
    },
    {
      "cell_type": "code",
      "source": [
        "# Fit the model\n",
        "history_model_2 = model_2.fit(train_dataset,\n",
        "                              epochs=3,\n",
        "                              steps_per_epoch=int(0.1 * len(train_dataset)),\n",
        "                              validation_data = valid_dataset,\n",
        "                              validation_steps = int(0.1 * len(valid_dataset)),\n",
        "                              )"
      ],
      "metadata": {
        "colab": {
          "base_uri": "https://localhost:8080/"
        },
        "id": "_exG6vLaRgxk",
        "outputId": "cb038cd8-3b34-4b4c-fa94-219832e3f5b3"
      },
      "execution_count": 62,
      "outputs": [
        {
          "output_type": "stream",
          "name": "stdout",
          "text": [
            "Epoch 1/3\n",
            "562/562 [==============================] - 12s 16ms/step - loss: 0.9183 - accuracy: 0.6495 - val_loss: 0.7957 - val_accuracy: 0.6941\n",
            "Epoch 2/3\n",
            "562/562 [==============================] - 9s 17ms/step - loss: 0.7683 - accuracy: 0.7012 - val_loss: 0.7525 - val_accuracy: 0.7064\n",
            "Epoch 3/3\n",
            "562/562 [==============================] - 7s 13ms/step - loss: 0.7522 - accuracy: 0.7113 - val_loss: 0.7359 - val_accuracy: 0.7184\n"
          ]
        }
      ]
    },
    {
      "cell_type": "code",
      "source": [
        "# Evaluate the dataset\n",
        "model_2.evaluate(valid_dataset)"
      ],
      "metadata": {
        "colab": {
          "base_uri": "https://localhost:8080/"
        },
        "id": "MQnKKm6vRg0y",
        "outputId": "78e0b035-62b7-400c-904e-bef2e613b68b"
      },
      "execution_count": 63,
      "outputs": [
        {
          "output_type": "stream",
          "name": "stdout",
          "text": [
            "945/945 [==============================] - 12s 13ms/step - loss: 0.7405 - accuracy: 0.7153\n"
          ]
        },
        {
          "output_type": "execute_result",
          "data": {
            "text/plain": [
              "[0.7405101656913757, 0.7153118252754211]"
            ]
          },
          "metadata": {},
          "execution_count": 63
        }
      ]
    },
    {
      "cell_type": "code",
      "source": [
        "# Make predictions\n",
        "model_2_pred_probs = model_2.predict(valid_dataset)\n",
        "model_2_pred_probs"
      ],
      "metadata": {
        "colab": {
          "base_uri": "https://localhost:8080/"
        },
        "id": "AO8kHQAsRg31",
        "outputId": "2c83ab9a-fce1-4e6a-dd0b-a2904b52c02b"
      },
      "execution_count": 64,
      "outputs": [
        {
          "output_type": "stream",
          "name": "stdout",
          "text": [
            "945/945 [==============================] - 11s 12ms/step\n"
          ]
        },
        {
          "output_type": "execute_result",
          "data": {
            "text/plain": [
              "array([[4.53453451e-01, 3.39314342e-01, 1.78758346e-03, 1.97574630e-01,\n",
              "        7.87001941e-03],\n",
              "       [3.67408723e-01, 4.94286478e-01, 2.98485858e-03, 1.32708326e-01,\n",
              "        2.61164363e-03],\n",
              "       [2.12144569e-01, 1.20345816e-01, 1.47464275e-02, 6.19736254e-01,\n",
              "        3.30268368e-02],\n",
              "       ...,\n",
              "       [1.69945380e-03, 5.98254520e-03, 5.45523763e-02, 8.54493352e-04,\n",
              "        9.36911166e-01],\n",
              "       [4.46888851e-03, 4.76494953e-02, 2.21047103e-01, 1.64704246e-03,\n",
              "        7.25187540e-01],\n",
              "       [1.72456712e-01, 2.52734274e-01, 4.95319128e-01, 8.21298826e-03,\n",
              "        7.12768734e-02]], dtype=float32)"
            ]
          },
          "metadata": {},
          "execution_count": 64
        }
      ]
    },
    {
      "cell_type": "code",
      "source": [
        "# Convert the prediction probalities found with feature extraction model to labels\n",
        "model_2_preds = tf.argmax(model_2_pred_probs, axis=1)\n",
        "model_2_preds"
      ],
      "metadata": {
        "id": "_dziWA54blLm",
        "colab": {
          "base_uri": "https://localhost:8080/"
        },
        "outputId": "8c1877be-f1b0-475c-b12d-bb4fee3f0278"
      },
      "execution_count": 65,
      "outputs": [
        {
          "output_type": "execute_result",
          "data": {
            "text/plain": [
              "<tf.Tensor: shape=(30212,), dtype=int64, numpy=array([0, 1, 3, ..., 4, 4, 2])>"
            ]
          },
          "metadata": {},
          "execution_count": 65
        }
      ]
    },
    {
      "cell_type": "code",
      "source": [
        "# Calculate results\n",
        "model_2_results = calculate_results(y_true = val_labels_encoded,\n",
        "                                   y_pred = model_2_preds)\n",
        "model_2_results"
      ],
      "metadata": {
        "id": "uM4DU8BRa7wp",
        "colab": {
          "base_uri": "https://localhost:8080/"
        },
        "outputId": "70ef663d-d8b7-4241-d383-5e3118ac2ed2"
      },
      "execution_count": 66,
      "outputs": [
        {
          "output_type": "execute_result",
          "data": {
            "text/plain": [
              "{'accuracy': 71.53117966370979,\n",
              " 'precision': 0.7156342811907634,\n",
              " 'recall': 0.7153117966370979,\n",
              " 'f1': 0.7124680671755271}"
            ]
          },
          "metadata": {},
          "execution_count": 66
        }
      ]
    },
    {
      "cell_type": "markdown",
      "source": [
        "## Character Embeddings"
      ],
      "metadata": {
        "id": "r4NI_xCLb2FQ"
      }
    },
    {
      "cell_type": "markdown",
      "source": [
        "### Create a charactere level tokenizer\n",
        "This is going to map every character in a sequence to some integer"
      ],
      "metadata": {
        "id": "-dptkkNEcBlu"
      }
    },
    {
      "cell_type": "code",
      "source": [
        "train_sentences[:5]"
      ],
      "metadata": {
        "id": "-cXnXI3zlhTa",
        "colab": {
          "base_uri": "https://localhost:8080/"
        },
        "outputId": "7436f94c-69a1-4795-9daa-d936f19db2eb"
      },
      "execution_count": 67,
      "outputs": [
        {
          "output_type": "execute_result",
          "data": {
            "text/plain": [
              "['to investigate the efficacy of @ weeks of daily low-dose oral prednisolone in improving pain , mobility , and systemic low-grade inflammation in the short term and whether the effect would be sustained at @ weeks in older adults with moderate to severe knee osteoarthritis ( oa ) .',\n",
              " 'a total of @ patients with primary knee oa were randomized @:@ ; @ received @ mg/day of prednisolone and @ received placebo for @ weeks .',\n",
              " 'outcome measures included pain reduction and improvement in function scores and systemic inflammation markers .',\n",
              " 'pain was assessed using the visual analog pain scale ( @-@ mm ) .',\n",
              " 'secondary outcome measures included the western ontario and mcmaster universities osteoarthritis index scores , patient global assessment ( pga ) of the severity of knee oa , and @-min walk distance ( @mwd ) .']"
            ]
          },
          "metadata": {},
          "execution_count": 67
        }
      ]
    },
    {
      "cell_type": "code",
      "source": [
        "# Make function to  split sentences into characters\n",
        "def split_chars(text):\n",
        "  return \" \".join(list(text))"
      ],
      "metadata": {
        "id": "a_YAgzq1llDd"
      },
      "execution_count": 68,
      "outputs": []
    },
    {
      "cell_type": "code",
      "source": [
        "split_chars(random_train_sentence)"
      ],
      "metadata": {
        "id": "BAgZsgRRl4cL",
        "colab": {
          "base_uri": "https://localhost:8080/",
          "height": 52
        },
        "outputId": "b19d1a29-10d9-40d3-ce7e-f71a783b3d17"
      },
      "execution_count": 69,
      "outputs": [
        {
          "output_type": "execute_result",
          "data": {
            "text/plain": [
              "'t h e   d a t a   s u g g e s t   t h a t   c o n s u m p t i o n   o f   j o b e l y n   c o n t r i b u t e d   t o   i m p r o v e d   h e m o g l o b i n   l e v e l s   a n d   i n c r e a s e d   c d @   +   t - c e l l   c o u n t s   i n   n i g e r i a n   h i v   +   p a t i e n t s   .'"
            ],
            "application/vnd.google.colaboratory.intrinsic+json": {
              "type": "string"
            }
          },
          "metadata": {},
          "execution_count": 69
        }
      ]
    },
    {
      "cell_type": "code",
      "source": [
        "# Split sequence level data splits into character-level data splits\n",
        "train_chars = [split_chars(sentence) for sentence in train_sentences]\n",
        "val_chars = [split_chars(sentence) for sentence in val_sentences]\n",
        "test_chars = [split_chars(sentence) for sentence in test_sentences]\n",
        "train_chars[:5]"
      ],
      "metadata": {
        "id": "_ZL62-3Rl8pG",
        "colab": {
          "base_uri": "https://localhost:8080/"
        },
        "outputId": "920d06b5-ad5b-4f4a-b737-7b920f25be22"
      },
      "execution_count": 70,
      "outputs": [
        {
          "output_type": "execute_result",
          "data": {
            "text/plain": [
              "['t o   i n v e s t i g a t e   t h e   e f f i c a c y   o f   @   w e e k s   o f   d a i l y   l o w - d o s e   o r a l   p r e d n i s o l o n e   i n   i m p r o v i n g   p a i n   ,   m o b i l i t y   ,   a n d   s y s t e m i c   l o w - g r a d e   i n f l a m m a t i o n   i n   t h e   s h o r t   t e r m   a n d   w h e t h e r   t h e   e f f e c t   w o u l d   b e   s u s t a i n e d   a t   @   w e e k s   i n   o l d e r   a d u l t s   w i t h   m o d e r a t e   t o   s e v e r e   k n e e   o s t e o a r t h r i t i s   (   o a   )   .',\n",
              " 'a   t o t a l   o f   @   p a t i e n t s   w i t h   p r i m a r y   k n e e   o a   w e r e   r a n d o m i z e d   @ : @   ;   @   r e c e i v e d   @   m g / d a y   o f   p r e d n i s o l o n e   a n d   @   r e c e i v e d   p l a c e b o   f o r   @   w e e k s   .',\n",
              " 'o u t c o m e   m e a s u r e s   i n c l u d e d   p a i n   r e d u c t i o n   a n d   i m p r o v e m e n t   i n   f u n c t i o n   s c o r e s   a n d   s y s t e m i c   i n f l a m m a t i o n   m a r k e r s   .',\n",
              " 'p a i n   w a s   a s s e s s e d   u s i n g   t h e   v i s u a l   a n a l o g   p a i n   s c a l e   (   @ - @   m m   )   .',\n",
              " 's e c o n d a r y   o u t c o m e   m e a s u r e s   i n c l u d e d   t h e   w e s t e r n   o n t a r i o   a n d   m c m a s t e r   u n i v e r s i t i e s   o s t e o a r t h r i t i s   i n d e x   s c o r e s   ,   p a t i e n t   g l o b a l   a s s e s s m e n t   (   p g a   )   o f   t h e   s e v e r i t y   o f   k n e e   o a   ,   a n d   @ - m i n   w a l k   d i s t a n c e   (   @ m w d   )   .']"
            ]
          },
          "metadata": {},
          "execution_count": 70
        }
      ]
    },
    {
      "cell_type": "code",
      "source": [
        "# What's the average character length?\n",
        "char_lens = [len(sentence) for sentence in train_sentences]\n",
        "mean_char_lens = np.mean(char_lens)\n",
        "mean_char_lens"
      ],
      "metadata": {
        "id": "seOR7FTymjCG",
        "colab": {
          "base_uri": "https://localhost:8080/"
        },
        "outputId": "bb040380-01e5-47ed-d59e-65b73bfd4ac5"
      },
      "execution_count": 71,
      "outputs": [
        {
          "output_type": "execute_result",
          "data": {
            "text/plain": [
              "149.3662574983337"
            ]
          },
          "metadata": {},
          "execution_count": 71
        }
      ]
    },
    {
      "cell_type": "code",
      "source": [
        "# Check the distribution at Character level\n",
        "import matplotlib.pyplot as plt\n",
        "plt.hist(char_lens, bins=7);"
      ],
      "metadata": {
        "id": "l-mSqvVBnXhU",
        "colab": {
          "base_uri": "https://localhost:8080/",
          "height": 430
        },
        "outputId": "2383d73b-bccb-4bc4-921e-490c86f8738c"
      },
      "execution_count": 72,
      "outputs": [
        {
          "output_type": "display_data",
          "data": {
            "text/plain": [
              "<Figure size 640x480 with 1 Axes>"
            ],
            "image/png": "[encoded data removed]"
          },
          "metadata": {}
        }
      ]
    },
    {
      "cell_type": "code",
      "source": [
        "# Find what character length covers 95% of sequences\n",
        "output_seq_char_len = int(np.percentile(char_lens, 95))\n",
        "output_seq_char_len"
      ],
      "metadata": {
        "id": "ajvLZo36nreT",
        "colab": {
          "base_uri": "https://localhost:8080/"
        },
        "outputId": "b8389c87-d6eb-4a9f-ae87-32db2b575c92"
      },
      "execution_count": 73,
      "outputs": [
        {
          "output_type": "execute_result",
          "data": {
            "text/plain": [
              "290"
            ]
          },
          "metadata": {},
          "execution_count": 73
        }
      ]
    },
    {
      "cell_type": "code",
      "source": [
        "# Get all the keyboard characters\n",
        "import string\n",
        "alphabet = string.ascii_lowercase + string.digits + string.punctuation\n",
        "alphabet"
      ],
      "metadata": {
        "id": "pKPMG2FXn8uX",
        "colab": {
          "base_uri": "https://localhost:8080/",
          "height": 35
        },
        "outputId": "7496c571-c523-4406-c166-18d5a5b53be1"
      },
      "execution_count": 74,
      "outputs": [
        {
          "output_type": "execute_result",
          "data": {
            "text/plain": [
              "'abcdefghijklmnopqrstuvwxyz0123456789!\"#$%&\\'()*+,-./:;<=>?@[\\\\]^_`{|}~'"
            ],
            "application/vnd.google.colaboratory.intrinsic+json": {
              "type": "string"
            }
          },
          "metadata": {},
          "execution_count": 74
        }
      ]
    },
    {
      "cell_type": "code",
      "source": [
        "# Create char level token vectorizer intance\n",
        "NUM_CHAR_TOKENS = len(alphabet) + 2 # add 2 for space and OOV token (OOV = out of vocab, '[UNK]')\n",
        "char_vectorizer = TextVectorization(max_tokens=NUM_CHAR_TOKENS,\n",
        "                                    output_sequence_length = output_seq_char_len,\n",
        "                                    name=\"char_vectorizer\")"
      ],
      "metadata": {
        "id": "IaDwZjlDoTHk"
      },
      "execution_count": 75,
      "outputs": []
    },
    {
      "cell_type": "code",
      "source": [
        "# Adapt character vectorizer to training character\n",
        "char_vectorizer.adapt(train_chars)"
      ],
      "metadata": {
        "id": "zo7ayBz1o8V7"
      },
      "execution_count": 76,
      "outputs": []
    },
    {
      "cell_type": "code",
      "source": [
        "# Check charactere vocab stats\n",
        "char_vocab = char_vectorizer.get_vocabulary()\n",
        "print(f\"Number of different characters in  character vocab : {len(char_vocab)}\")\n",
        "print(f\"5 most common characters: {char_vocab[:5]}\")\n",
        "print(f\"5 least common characters: {char_vocab[-5:]}\")"
      ],
      "metadata": {
        "id": "bjz25WuEpxps",
        "colab": {
          "base_uri": "https://localhost:8080/"
        },
        "outputId": "547453d6-5290-4f95-ad74-13a19c5bae31"
      },
      "execution_count": 77,
      "outputs": [
        {
          "output_type": "stream",
          "name": "stdout",
          "text": [
            "Number of different characters in  character vocab : 28\n",
            "5 most common characters: ['', '[UNK]', 'e', 't', 'i']\n",
            "5 least common characters: ['k', 'x', 'z', 'q', 'j']\n"
          ]
        }
      ]
    },
    {
      "cell_type": "code",
      "source": [
        "# Test out character vectorizer\n",
        "random_train_chars = random.choice(train_chars)\n",
        "print(f\"Charified text: \\n {random_train_chars}\")\n",
        "print(f\"Length of random_train_chars: {len(random_train_sentence)}\")\n",
        "vectorized_chars = char_vectorizer([random_train_chars])\n",
        "print(f\"Vectorized chars: \\n {vectorized_chars}\")\n",
        "print(f\"Lenght of vectorized chars : \\n {len(vectorized_chars[0])}\")"
      ],
      "metadata": {
        "id": "98eGF3q3qUOc",
        "colab": {
          "base_uri": "https://localhost:8080/"
        },
        "outputId": "5f5f6329-b2fd-4bb3-e885-f90bef857e5f"
      },
      "execution_count": 78,
      "outputs": [
        {
          "output_type": "stream",
          "name": "stdout",
          "text": [
            "Charified text: \n",
            " u s i n g   @ - k v p   i m p r o v e d   a r t e r i a l   e n h a n c e m e n t   ,   s n r   ,   a n d   c n r   ,   a n d   p r o v i d e d   b e t t e r   s u b j e c t i v e   i m a g e   q u a l i t y   ,   u s i n g   a   @   %   l o w e r   e f f e c t i v e   d o s e   .\n",
            "Length of random_train_chars: 149\n",
            "Vectorized chars: \n",
            " [[16  9  4  6 18 23 21 14  4 15 14  8  7 21  2 10  5  8  3  2  8  4  5 12\n",
            "   2  6 13  5  6 11  2 15  2  6  3  9  6  8  5  6 10 11  6  8  5  6 10 14\n",
            "   8  7 21  4 10  2 10 22  2  3  3  2  8  9 16 22 27  2 11  3  4 21  2  4\n",
            "  15  5 18  2 26 16  5 12  4  3 19 16  9  4  6 18  5 12  7 20  2  8  2 17\n",
            "  17  2 11  3  4 21  2 10  7  9  2  0  0  0  0  0  0  0  0  0  0  0  0  0\n",
            "   0  0  0  0  0  0  0  0  0  0  0  0  0  0  0  0  0  0  0  0  0  0  0  0\n",
            "   0  0  0  0  0  0  0  0  0  0  0  0  0  0  0  0  0  0  0  0  0  0  0  0\n",
            "   0  0  0  0  0  0  0  0  0  0  0  0  0  0  0  0  0  0  0  0  0  0  0  0\n",
            "   0  0  0  0  0  0  0  0  0  0  0  0  0  0  0  0  0  0  0  0  0  0  0  0\n",
            "   0  0  0  0  0  0  0  0  0  0  0  0  0  0  0  0  0  0  0  0  0  0  0  0\n",
            "   0  0  0  0  0  0  0  0  0  0  0  0  0  0  0  0  0  0  0  0  0  0  0  0\n",
            "   0  0  0  0  0  0  0  0  0  0  0  0  0  0  0  0  0  0  0  0  0  0  0  0\n",
            "   0  0]]\n",
            "Lenght of vectorized chars : \n",
            " 290\n"
          ]
        }
      ]
    },
    {
      "cell_type": "code",
      "source": [
        "# Create character level embedding\n",
        "char_embed = layers.Embedding(input_dim = len(char_vocab),\n",
        "                              output_dim = 25,\n",
        "                              mask_zero = True,\n",
        "                              name= \"char_embed\")"
      ],
      "metadata": {
        "id": "mHpkdbFFssSP"
      },
      "execution_count": 79,
      "outputs": []
    },
    {
      "cell_type": "code",
      "source": [
        "# Test the character embedding layer\n",
        "print(f\"Charified text:n\\ {[random_train_chars]}\")\n",
        "char_embed_example = char_embed(char_vectorizer([random_train_chars]))\n",
        "print(f\"Embed chars. (after vectorization and embedding): \\n{char_embed_example})\")\n",
        "print(f\"Character embedding shape: {char_embed_example.shape}\")"
      ],
      "metadata": {
        "id": "rgHdT1cf0dIQ",
        "colab": {
          "base_uri": "https://localhost:8080/"
        },
        "outputId": "02653e4a-0dbd-46be-b8ec-5e14ded88e8a"
      },
      "execution_count": 80,
      "outputs": [
        {
          "output_type": "stream",
          "name": "stdout",
          "text": [
            "Charified text:n\\ ['u s i n g   @ - k v p   i m p r o v e d   a r t e r i a l   e n h a n c e m e n t   ,   s n r   ,   a n d   c n r   ,   a n d   p r o v i d e d   b e t t e r   s u b j e c t i v e   i m a g e   q u a l i t y   ,   u s i n g   a   @   %   l o w e r   e f f e c t i v e   d o s e   .']\n",
            "Embed chars. (after vectorization and embedding): \n",
            "[[[ 0.01668532  0.00487387  0.02780035 ... -0.01816225  0.02968912\n",
            "    0.01501036]\n",
            "  [ 0.00844952  0.01565978  0.01751927 ...  0.03899333 -0.02503595\n",
            "    0.03076053]\n",
            "  [ 0.01710682  0.03655836 -0.01305386 ... -0.02761848  0.0330021\n",
            "   -0.00744991]\n",
            "  ...\n",
            "  [ 0.02997608 -0.02976065 -0.02571769 ...  0.00603986 -0.02536316\n",
            "   -0.04586064]\n",
            "  [ 0.02997608 -0.02976065 -0.02571769 ...  0.00603986 -0.02536316\n",
            "   -0.04586064]\n",
            "  [ 0.02997608 -0.02976065 -0.02571769 ...  0.00603986 -0.02536316\n",
            "   -0.04586064]]])\n",
            "Character embedding shape: (1, 290, 25)\n"
          ]
        }
      ]
    },
    {
      "cell_type": "markdown",
      "source": [
        "## Building a Conv1D model to fit on charactere embeddings"
      ],
      "metadata": {
        "id": "cZ730BQd1By8"
      }
    },
    {
      "cell_type": "code",
      "source": [
        "# Make Conv1D on chars  only\n",
        "inputs = layers.Input(shape=(1,), dtype='string')\n",
        "char_vectors = char_vectorizer(inputs)\n",
        "char_embeddings = char_embed(char_vectors)\n",
        "x = layers.Conv1D(64, kernel_size=5, padding = 'same', activation='relu')(char_embeddings)\n",
        "x = layers.GlobalMaxPool1D()(x)\n",
        "outputs = layers.Dense(num_classes, activation='softmax')(x)\n",
        "model_3 = tf.keras.Model(inputs = inputs,\n",
        "                         outputs=outputs,\n",
        "                         name=\"model_3_conv1d_char_embeddings\")\n",
        "\n",
        "# Compile the model\n",
        "model_3.compile(loss='categorical_crossentropy',\n",
        "                optimizer=tf.keras.optimizers.Adam(),\n",
        "                metrics=['accuracy'])"
      ],
      "metadata": {
        "id": "GrhJyAKa4Swi"
      },
      "execution_count": 81,
      "outputs": []
    },
    {
      "cell_type": "code",
      "source": [
        "# summary\n",
        "model_3.summary()"
      ],
      "metadata": {
        "id": "1dIm2cRN5dmH",
        "colab": {
          "base_uri": "https://localhost:8080/"
        },
        "outputId": "ce905b3b-e45c-4e87-ff32-43fd153004c9"
      },
      "execution_count": 82,
      "outputs": [
        {
          "output_type": "stream",
          "name": "stdout",
          "text": [
            "Model: \"model_3_conv1d_char_embeddings\"\n",
            "_________________________________________________________________\n",
            " Layer (type)                Output Shape              Param #   \n",
            "=================================================================\n",
            " input_3 (InputLayer)        [(None, 1)]               0         \n",
            "                                                                 \n",
            " char_vectorizer (TextVecto  (None, 290)               0         \n",
            " rization)                                                       \n",
            "                                                                 \n",
            " char_embed (Embedding)      (None, 290, 25)           700       \n",
            "                                                                 \n",
            " conv1d_1 (Conv1D)           (None, 290, 64)           8064      \n",
            "                                                                 \n",
            " global_max_pooling1d (Glob  (None, 64)                0         \n",
            " alMaxPooling1D)                                                 \n",
            "                                                                 \n",
            " dense_3 (Dense)             (None, 5)                 325       \n",
            "                                                                 \n",
            "=================================================================\n",
            "Total params: 9089 (35.50 KB)\n",
            "Trainable params: 9089 (35.50 KB)\n",
            "Non-trainable params: 0 (0.00 Byte)\n",
            "_________________________________________________________________\n"
          ]
        }
      ]
    },
    {
      "cell_type": "markdown",
      "source": [
        "> Befor fitting the model to the data, optimize the data for faster loading"
      ],
      "metadata": {
        "id": "NDVp3_Zi6Kmv"
      }
    },
    {
      "cell_type": "code",
      "source": [
        "# Create char level dataset\n",
        "train_char_dataset = tf.data.Dataset.from_tensor_slices((train_chars, train_labels_one_hot)).batch(32).prefetch(tf.data.AUTOTUNE)\n",
        "val_char_dataset = tf.data.Dataset.from_tensor_slices((val_chars, val_labels_one_hot)).batch(32).prefetch(tf.data.AUTOTUNE)\n",
        "test_dataset = tf.data.Dataset.from_tensor_slices((test_chars, test_labels_one_hot)).batch(32).prefetch(tf.data.AUTOTUNE)"
      ],
      "metadata": {
        "id": "wNgix7EN6iM4"
      },
      "execution_count": 83,
      "outputs": []
    },
    {
      "cell_type": "code",
      "source": [
        "# Fit the model\n",
        "model_3_history  = model_3.fit(train_char_dataset,\n",
        "                               steps_per_epoch = int(0.1 * len(train_char_dataset)),\n",
        "                               epochs = 3,\n",
        "                               validation_data = val_char_dataset,\n",
        "                               validation_steps = int(0.1 * len(val_char_dataset)))"
      ],
      "metadata": {
        "id": "svRRlX5v7FWg",
        "colab": {
          "base_uri": "https://localhost:8080/"
        },
        "outputId": "8d31a6a4-a71e-44ee-a01e-8146aeb849d0"
      },
      "execution_count": 84,
      "outputs": [
        {
          "output_type": "stream",
          "name": "stdout",
          "text": [
            "Epoch 1/3\n",
            "562/562 [==============================] - 12s 20ms/step - loss: 1.2680 - accuracy: 0.4909 - val_loss: 1.0406 - val_accuracy: 0.5967\n",
            "Epoch 2/3\n",
            "562/562 [==============================] - 12s 21ms/step - loss: 0.9923 - accuracy: 0.5994 - val_loss: 0.9329 - val_accuracy: 0.6283\n",
            "Epoch 3/3\n",
            "562/562 [==============================] - 11s 20ms/step - loss: 0.9170 - accuracy: 0.6379 - val_loss: 0.8681 - val_accuracy: 0.6612\n"
          ]
        }
      ]
    },
    {
      "cell_type": "code",
      "source": [
        "# Make predictions\n",
        "model_3_pred_probs = model_3.predict(val_char_dataset)\n",
        "model_3_pred_probs"
      ],
      "metadata": {
        "id": "8aAokTAx7oKI",
        "colab": {
          "base_uri": "https://localhost:8080/"
        },
        "outputId": "3ff2033f-0036-4fdd-f92a-9d2e312d9a7c"
      },
      "execution_count": 85,
      "outputs": [
        {
          "output_type": "stream",
          "name": "stdout",
          "text": [
            "945/945 [==============================] - 6s 6ms/step\n"
          ]
        },
        {
          "output_type": "execute_result",
          "data": {
            "text/plain": [
              "array([[0.1586935 , 0.40439725, 0.03575318, 0.3663664 , 0.03478971],\n",
              "       [0.14764273, 0.43907517, 0.00995185, 0.38000754, 0.02332265],\n",
              "       [0.13978603, 0.17851645, 0.13371262, 0.5228614 , 0.02512344],\n",
              "       ...,\n",
              "       [0.01637867, 0.03343673, 0.1579633 , 0.02858589, 0.7636354 ],\n",
              "       [0.03656979, 0.13716747, 0.29853073, 0.17955522, 0.34817672],\n",
              "       [0.42796844, 0.40905607, 0.04896433, 0.10397539, 0.01003569]],\n",
              "      dtype=float32)"
            ]
          },
          "metadata": {},
          "execution_count": 85
        }
      ]
    },
    {
      "cell_type": "code",
      "source": [
        "# Convert prediction probabilities to labels\n",
        "model_3_preds = tf.argmax(model_3_pred_probs, axis=1)\n",
        "model_3_preds"
      ],
      "metadata": {
        "id": "7na13BOs9AfR",
        "colab": {
          "base_uri": "https://localhost:8080/"
        },
        "outputId": "1ef4295a-95a4-4324-c2af-8b92beae84ea"
      },
      "execution_count": 86,
      "outputs": [
        {
          "output_type": "execute_result",
          "data": {
            "text/plain": [
              "<tf.Tensor: shape=(30212,), dtype=int64, numpy=array([1, 1, 3, ..., 4, 4, 0])>"
            ]
          },
          "metadata": {},
          "execution_count": 86
        }
      ]
    },
    {
      "cell_type": "code",
      "source": [
        "# Calculate the results\n",
        "model_3_results = calculate_results(y_true = val_labels_encoded,\n",
        "                                    y_pred = model_3_preds)\n",
        "model_3_results"
      ],
      "metadata": {
        "id": "381FigRd9M8Z",
        "colab": {
          "base_uri": "https://localhost:8080/"
        },
        "outputId": "7c339812-775f-4260-d63c-e7b0d74dc28a"
      },
      "execution_count": 87,
      "outputs": [
        {
          "output_type": "execute_result",
          "data": {
            "text/plain": [
              "{'accuracy': 65.62955117171984,\n",
              " 'precision': 0.6558765338648003,\n",
              " 'recall': 0.6562955117171985,\n",
              " 'f1': 0.6460097964678259}"
            ]
          },
          "metadata": {},
          "execution_count": 87
        }
      ]
    },
    {
      "cell_type": "markdown",
      "source": [
        "## Use a Pretained token embedding + character embedding"
      ],
      "metadata": {
        "id": "v6a0G0rF9gxd"
      }
    },
    {
      "cell_type": "code",
      "source": [
        "# Use the funtional api\n",
        "# 1. Setup token inpus/model\n",
        "token_inputs = layers.Input(shape=[], dtype=tf.string, name='token_inputs')\n",
        "token_embeddings = tf_hub_embedding_layer(token_inputs)\n",
        "token_output = layers.Dense(128, activation='relu')(token_embeddings)\n",
        "token_model= tf.keras.Model(inputs=token_inputs,\n",
        "                            outputs = token_output)\n",
        "\n",
        "# 2. Setup char inputs/model\n",
        "char_inputs = layers.Input(shape=(1,), dtype=tf.string, name='char_input')\n",
        "char_vectors = char_vectorizer(char_inputs)\n",
        "char_embeddings = char_embed(char_vectors)\n",
        "char_bi_lstm = layers.Bidirectional(layers.LSTM(25))(char_embeddings)\n",
        "char_model = tf.keras.Model(inputs = char_inputs,\n",
        "                            outputs = char_bi_lstm)\n",
        "\n",
        "# 3. Concatenate token and char inputs(create hybrid token embeddings)\n",
        "token_char_concat = layers.Concatenate(name=\"token_char_hybrid\")([token_model.output,\n",
        "                                                                  char_model.output])\n",
        "\n",
        "# 4. Create output_layers -adding in Dropout, discussed the paper\n",
        "combined_dropout = layers.Dropout(0.5)(token_char_concat)\n",
        "combined_dense = layers.Dense(128, activation= 'relu')(combined_dropout)\n",
        "final_dropout = layers.Dropout(0.5)(combined_dense)\n",
        "output_layer = layers.Dense(num_classes, activation='softmax')(final_dropout)\n",
        "\n",
        "# 5. Construct model with char and token inputs\n",
        "model_4 = tf.keras.Model(inputs = [token_model.input, char_model.input],\n",
        "                         outputs = output_layer,\n",
        "                         name= 'model_4_token_and_char_embeddings')"
      ],
      "metadata": {
        "id": "P5OjnKjE-eSw"
      },
      "execution_count": 88,
      "outputs": []
    },
    {
      "cell_type": "code",
      "source": [
        "# Get summary of model_4\n",
        "model_4.summary()"
      ],
      "metadata": {
        "id": "h6dma1vXFrBW",
        "colab": {
          "base_uri": "https://localhost:8080/"
        },
        "outputId": "09fa4023-9c4e-4a53-c46b-653c91c63ec7"
      },
      "execution_count": 89,
      "outputs": [
        {
          "output_type": "stream",
          "name": "stdout",
          "text": [
            "Model: \"model_4_token_and_char_embeddings\"\n",
            "__________________________________________________________________________________________________\n",
            " Layer (type)                Output Shape                 Param #   Connected to                  \n",
            "==================================================================================================\n",
            " char_input (InputLayer)     [(None, 1)]                  0         []                            \n",
            "                                                                                                  \n",
            " token_inputs (InputLayer)   [(None,)]                    0         []                            \n",
            "                                                                                                  \n",
            " char_vectorizer (TextVecto  (None, 290)                  0         ['char_input[0][0]']          \n",
            " rization)                                                                                        \n",
            "                                                                                                  \n",
            " universal_sentence_encoder  (None, 512)                  2567978   ['token_inputs[0][0]']        \n",
            "  (KerasLayer)                                            24                                      \n",
            "                                                                                                  \n",
            " char_embed (Embedding)      (None, 290, 25)              700       ['char_vectorizer[1][0]']     \n",
            "                                                                                                  \n",
            " dense_4 (Dense)             (None, 128)                  65664     ['universal_sentence_encoder[1\n",
            "                                                                    ][0]']                        \n",
            "                                                                                                  \n",
            " bidirectional (Bidirection  (None, 50)                   10200     ['char_embed[1][0]']          \n",
            " al)                                                                                              \n",
            "                                                                                                  \n",
            " token_char_hybrid (Concate  (None, 178)                  0         ['dense_4[0][0]',             \n",
            " nate)                                                               'bidirectional[0][0]']       \n",
            "                                                                                                  \n",
            " dropout (Dropout)           (None, 178)                  0         ['token_char_hybrid[0][0]']   \n",
            "                                                                                                  \n",
            " dense_5 (Dense)             (None, 128)                  22912     ['dropout[0][0]']             \n",
            "                                                                                                  \n",
            " dropout_1 (Dropout)         (None, 128)                  0         ['dense_5[0][0]']             \n",
            "                                                                                                  \n",
            " dense_6 (Dense)             (None, 5)                    645       ['dropout_1[0][0]']           \n",
            "                                                                                                  \n",
            "==================================================================================================\n",
            "Total params: 256897945 (979.99 MB)\n",
            "Trainable params: 100121 (391.10 KB)\n",
            "Non-trainable params: 256797824 (979.61 MB)\n",
            "__________________________________________________________________________________________________\n"
          ]
        }
      ]
    },
    {
      "cell_type": "code",
      "source": [
        "# Plot hybrid token and character model\n",
        "from keras.utils import plot_model\n",
        "plot_model(model_4)"
      ],
      "metadata": {
        "id": "vgvJDWfTH7Mf",
        "colab": {
          "base_uri": "https://localhost:8080/",
          "height": 856
        },
        "outputId": "36ec7519-0c2d-4951-f8e3-d4a770408980"
      },
      "execution_count": 90,
      "outputs": [
        {
          "output_type": "execute_result",
          "data": {
            "image/png": "[encoded data removed]",
            "text/plain": [
              "<IPython.core.display.Image object>"
            ]
          },
          "metadata": {},
          "execution_count": 90
        }
      ]
    },
    {
      "cell_type": "code",
      "source": [
        "# Combine chars and tokesn into a dataset\n",
        "train_char_token_data = tf.data.Dataset.from_tensor_slices((train_sentences, train_chars)) # Make label\n",
        "train_char_token_labels = tf.data.Dataset.from_tensor_slices((train_labels_one_hot)) # Make label\n",
        "train_char_token_dataset = tf.data.Dataset.zip(train_char_token_data, train_char_token_labels)\n",
        "\n",
        "# Prefetch and batch train data\n",
        "train_char_token_dataset = train_char_token_dataset.batch(32).prefetch(tf.data.AUTOTUNE)"
      ],
      "metadata": {
        "id": "vjhQAHMiytlU"
      },
      "execution_count": 91,
      "outputs": []
    },
    {
      "cell_type": "code",
      "source": [
        "# Repeat the above process for the validation data\n",
        "val_char_token_data = tf.data.Dataset.from_tensor_slices((val_sentences, val_chars))\n",
        "val_char_token_label = tf.data.Dataset.from_tensor_slices(val_labels_one_hot)\n",
        "val_char_token_dataset = tf.data.Dataset.zip(val_char_token_data, val_char_token_label)\n",
        "\n",
        "# Prefetch and batch val data\n",
        "val_char_token_dataset = val_char_token_dataset.batch(32).prefetch(tf.data.AUTOTUNE)"
      ],
      "metadata": {
        "id": "sK94ghRF1lNI"
      },
      "execution_count": 92,
      "outputs": []
    },
    {
      "cell_type": "code",
      "source": [
        "# Compile the token char model\n",
        "model_4.compile(loss='categorical_crossentropy',\n",
        "                optimizer = tf.keras.optimizers.Adam(),\n",
        "                metrics=['accuracy'])"
      ],
      "metadata": {
        "id": "rhppdhkqxY36"
      },
      "execution_count": 93,
      "outputs": []
    },
    {
      "cell_type": "code",
      "source": [
        "# Fit the model\n",
        "model_4.fit(train_char_token_dataset,\n",
        "            epochs=3,\n",
        "            steps_per_epoch=int(0.1 * len(train_char_token_dataset)),\n",
        "            validation_data = val_char_token_dataset,\n",
        "            validation_steps = int(0.1 * len(val_char_token_dataset)))"
      ],
      "metadata": {
        "id": "wpjUmDwP2-W7",
        "colab": {
          "base_uri": "https://localhost:8080/"
        },
        "outputId": "65fe14a8-b3d9-4d67-b5cf-ba0ef851fd31"
      },
      "execution_count": 94,
      "outputs": [
        {
          "output_type": "stream",
          "name": "stdout",
          "text": [
            "Epoch 1/3\n",
            "562/562 [==============================] - 172s 284ms/step - loss: 0.9837 - accuracy: 0.6054 - val_loss: 0.7785 - val_accuracy: 0.6932\n",
            "Epoch 2/3\n",
            "562/562 [==============================] - 161s 287ms/step - loss: 0.7981 - accuracy: 0.6953 - val_loss: 0.7124 - val_accuracy: 0.7234\n",
            "Epoch 3/3\n",
            "562/562 [==============================] - 156s 278ms/step - loss: 0.7730 - accuracy: 0.7071 - val_loss: 0.6887 - val_accuracy: 0.7427\n"
          ]
        },
        {
          "output_type": "execute_result",
          "data": {
            "text/plain": [
              "<keras.src.callbacks.History at 0x7ae4e859f6a0>"
            ]
          },
          "metadata": {},
          "execution_count": 94
        }
      ]
    },
    {
      "cell_type": "code",
      "source": [
        "# Evaluate\n",
        "model_4.evaluate(val_char_token_dataset)"
      ],
      "metadata": {
        "id": "u5Oh5GeU4v1z",
        "colab": {
          "base_uri": "https://localhost:8080/"
        },
        "outputId": "9e09b50d-2cbb-4585-db51-7005bbff87af"
      },
      "execution_count": 95,
      "outputs": [
        {
          "output_type": "stream",
          "name": "stdout",
          "text": [
            "945/945 [==============================] - 79s 84ms/step - loss: 0.6961 - accuracy: 0.7351\n"
          ]
        },
        {
          "output_type": "execute_result",
          "data": {
            "text/plain": [
              "[0.6960801482200623, 0.735072135925293]"
            ]
          },
          "metadata": {},
          "execution_count": 95
        }
      ]
    },
    {
      "cell_type": "code",
      "source": [
        "# Make predictions\n",
        "model_4_pred_probs = model_4.predict(val_char_token_dataset)\n",
        "model_4_pred_probs"
      ],
      "metadata": {
        "id": "nhGE7f3n3hcP",
        "colab": {
          "base_uri": "https://localhost:8080/"
        },
        "outputId": "77833135-a75a-45ca-9206-9f841b7a3d9c"
      },
      "execution_count": 96,
      "outputs": [
        {
          "output_type": "stream",
          "name": "stdout",
          "text": [
            "945/945 [==============================] - 62s 63ms/step\n"
          ]
        },
        {
          "output_type": "execute_result",
          "data": {
            "text/plain": [
              "array([[4.4534424e-01, 3.3441493e-01, 5.8894050e-03, 2.0367934e-01,\n",
              "        1.0672051e-02],\n",
              "       [3.9390305e-01, 3.8540602e-01, 2.4960372e-03, 2.1695343e-01,\n",
              "        1.2415110e-03],\n",
              "       [3.3341765e-01, 1.1516284e-01, 4.9979731e-02, 4.5983762e-01,\n",
              "        4.1602116e-02],\n",
              "       ...,\n",
              "       [4.7364578e-04, 1.0743787e-02, 8.1245765e-02, 1.8434782e-04,\n",
              "        9.0735251e-01],\n",
              "       [6.0281223e-03, 5.8430973e-02, 2.6739520e-01, 2.9404510e-03,\n",
              "        6.6520524e-01],\n",
              "       [2.2973913e-01, 4.0574867e-01, 2.7314767e-01, 1.7779317e-02,\n",
              "        7.3585205e-02]], dtype=float32)"
            ]
          },
          "metadata": {},
          "execution_count": 96
        }
      ]
    },
    {
      "cell_type": "code",
      "source": [
        "# Convert the pred probs into label\n",
        "model_4_preds = tf.argmax(model_4_pred_probs,axis=1)\n",
        "model_4_preds[:10]"
      ],
      "metadata": {
        "id": "8-rzLrnk6TUI",
        "colab": {
          "base_uri": "https://localhost:8080/"
        },
        "outputId": "0c6bdd2b-373a-410d-99a9-bd80638c9085"
      },
      "execution_count": 97,
      "outputs": [
        {
          "output_type": "execute_result",
          "data": {
            "text/plain": [
              "<tf.Tensor: shape=(10,), dtype=int64, numpy=array([0, 0, 3, 2, 2, 2, 2, 2, 4, 1])>"
            ]
          },
          "metadata": {},
          "execution_count": 97
        }
      ]
    },
    {
      "cell_type": "code",
      "source": [
        "# GEt resulsts of token-char-hybrid model'\n",
        "model_4_results  = calculate_results(y_true=val_labels_encoded,\n",
        "                                     y_pred=model_4_preds)\n",
        "model_4_results"
      ],
      "metadata": {
        "id": "p53POq1D6ftc",
        "colab": {
          "base_uri": "https://localhost:8080/"
        },
        "outputId": "340e45b8-3a70-42d7-afcf-2fa7eeecb68b"
      },
      "execution_count": 98,
      "outputs": [
        {
          "output_type": "execute_result",
          "data": {
            "text/plain": [
              "{'accuracy': 73.50721567589036,\n",
              " 'precision': 0.735253908689818,\n",
              " 'recall': 0.7350721567589037,\n",
              " 'f1': 0.7332501693053637}"
            ]
          },
          "metadata": {},
          "execution_count": 98
        }
      ]
    },
    {
      "cell_type": "markdown",
      "source": [
        "### Pretrained Embeddings + Character embeddings + Positional embeddings"
      ],
      "metadata": {
        "id": "W2A6EH4k7Z2m"
      }
    },
    {
      "cell_type": "markdown",
      "source": [
        "**Nore:**\n",
        "\n",
        "Any engineered feature used to train a model needs to be available at test time. In this case, `line numbers` and `total lines` are available."
      ],
      "metadata": {
        "id": "uzJ7SG-ftjOP"
      }
    },
    {
      "cell_type": "code",
      "source": [
        "train_samples[:110]"
      ],
      "metadata": {
        "id": "MxS6y8UY_OmB",
        "colab": {
          "base_uri": "https://localhost:8080/"
        },
        "outputId": "4396c0e9-9529-4300-cd74-2ba8d8015d51"
      },
      "execution_count": 99,
      "outputs": [
        {
          "output_type": "execute_result",
          "data": {
            "text/plain": [
              "[{'target': 'OBJECTIVE',\n",
              "  'text': 'to investigate the efficacy of @ weeks of daily low-dose oral prednisolone in improving pain , mobility , and systemic low-grade inflammation in the short term and whether the effect would be sustained at @ weeks in older adults with moderate to severe knee osteoarthritis ( oa ) .',\n",
              "  'line_number': 0,\n",
              "  'total_lines': 11},\n",
              " {'target': 'METHODS',\n",
              "  'text': 'a total of @ patients with primary knee oa were randomized @:@ ; @ received @ mg/day of prednisolone and @ received placebo for @ weeks .',\n",
              "  'line_number': 1,\n",
              "  'total_lines': 11},\n",
              " {'target': 'METHODS',\n",
              "  'text': 'outcome measures included pain reduction and improvement in function scores and systemic inflammation markers .',\n",
              "  'line_number': 2,\n",
              "  'total_lines': 11},\n",
              " {'target': 'METHODS',\n",
              "  'text': 'pain was assessed using the visual analog pain scale ( @-@ mm ) .',\n",
              "  'line_number': 3,\n",
              "  'total_lines': 11},\n",
              " {'target': 'METHODS',\n",
              "  'text': 'secondary outcome measures included the western ontario and mcmaster universities osteoarthritis index scores , patient global assessment ( pga ) of the severity of knee oa , and @-min walk distance ( @mwd ) .',\n",
              "  'line_number': 4,\n",
              "  'total_lines': 11},\n",
              " {'target': 'METHODS',\n",
              "  'text': 'serum levels of interleukin @ ( il-@ ) , il-@ , tumor necrosis factor ( tnf ) - , and high-sensitivity c-reactive protein ( hscrp ) were measured .',\n",
              "  'line_number': 5,\n",
              "  'total_lines': 11},\n",
              " {'target': 'RESULTS',\n",
              "  'text': 'there was a clinically relevant reduction in the intervention group compared to the placebo group for knee pain , physical function , pga , and @mwd at @ weeks .',\n",
              "  'line_number': 6,\n",
              "  'total_lines': 11},\n",
              " {'target': 'RESULTS',\n",
              "  'text': 'the mean difference between treatment arms ( @ % ci ) was @ ( @-@ @ ) , p < @ ; @ ( @-@ @ ) , p < @ ; @ ( @-@ @ ) , p < @ ; and @ ( @-@ @ ) , p < @ , respectively .',\n",
              "  'line_number': 7,\n",
              "  'total_lines': 11},\n",
              " {'target': 'RESULTS',\n",
              "  'text': 'further , there was a clinically relevant reduction in the serum levels of il-@ , il-@ , tnf - , and hscrp at @ weeks in the intervention group when compared to the placebo group .',\n",
              "  'line_number': 8,\n",
              "  'total_lines': 11},\n",
              " {'target': 'RESULTS',\n",
              "  'text': 'these differences remained significant at @ weeks .',\n",
              "  'line_number': 9,\n",
              "  'total_lines': 11},\n",
              " {'target': 'RESULTS',\n",
              "  'text': 'the outcome measures in rheumatology clinical trials-osteoarthritis research society international responder rate was @ % in the intervention group and @ % in the placebo group ( p < @ ) .',\n",
              "  'line_number': 10,\n",
              "  'total_lines': 11},\n",
              " {'target': 'CONCLUSIONS',\n",
              "  'text': 'low-dose oral prednisolone had both a short-term and a longer sustained effect resulting in less knee pain , better physical function , and attenuation of systemic inflammation in older patients with knee oa ( clinicaltrials.gov identifier nct@ ) .',\n",
              "  'line_number': 11,\n",
              "  'total_lines': 11},\n",
              " {'target': 'BACKGROUND',\n",
              "  'text': 'emotional eating is associated with overeating and the development of obesity .',\n",
              "  'line_number': 0,\n",
              "  'total_lines': 10},\n",
              " {'target': 'BACKGROUND',\n",
              "  'text': 'yet , empirical evidence for individual ( trait ) differences in emotional eating and cognitive mechanisms that contribute to eating during sad mood remain equivocal .',\n",
              "  'line_number': 1,\n",
              "  'total_lines': 10},\n",
              " {'target': 'OBJECTIVE',\n",
              "  'text': 'the aim of this study was to test if attention bias for food moderates the effect of self-reported emotional eating during sad mood ( vs neutral mood ) on actual food intake .',\n",
              "  'line_number': 2,\n",
              "  'total_lines': 10},\n",
              " {'target': 'OBJECTIVE',\n",
              "  'text': 'it was expected that emotional eating is predictive of elevated attention for food and higher food intake after an experimentally induced sad mood and that attentional maintenance on food predicts food intake during a sad versus a neutral mood .',\n",
              "  'line_number': 3,\n",
              "  'total_lines': 10},\n",
              " {'target': 'METHODS',\n",
              "  'text': 'participants ( n = @ ) were randomly assigned to one of the two experimental mood induction conditions ( sad/neutral ) .',\n",
              "  'line_number': 4,\n",
              "  'total_lines': 10},\n",
              " {'target': 'METHODS',\n",
              "  'text': 'attentional biases for high caloric foods were measured by eye tracking during a visual probe task with pictorial food and neutral stimuli .',\n",
              "  'line_number': 5,\n",
              "  'total_lines': 10},\n",
              " {'target': 'METHODS',\n",
              "  'text': 'self-reported emotional eating was assessed with the dutch eating behavior questionnaire ( debq ) and ad libitum food intake was tested by a disguised food offer .',\n",
              "  'line_number': 6,\n",
              "  'total_lines': 10},\n",
              " {'target': 'RESULTS',\n",
              "  'text': 'hierarchical multivariate regression modeling showed that self-reported emotional eating did not account for changes in attention allocation for food or food intake in either condition .',\n",
              "  'line_number': 7,\n",
              "  'total_lines': 10},\n",
              " {'target': 'RESULTS',\n",
              "  'text': 'yet , attention maintenance on food cues was significantly related to increased intake specifically in the neutral condition , but not in the sad mood condition .',\n",
              "  'line_number': 8,\n",
              "  'total_lines': 10},\n",
              " {'target': 'CONCLUSIONS',\n",
              "  'text': 'the current findings show that self-reported emotional eating ( based on the debq ) might not validly predict who overeats when sad , at least not in a laboratory setting with healthy women .',\n",
              "  'line_number': 9,\n",
              "  'total_lines': 10},\n",
              " {'target': 'CONCLUSIONS',\n",
              "  'text': 'results further suggest that attention maintenance on food relates to eating motivation when in a neutral affective state , and might therefore be a cognitive mechanism contributing to increased food intake in general , but maybe not during sad mood .',\n",
              "  'line_number': 10,\n",
              "  'total_lines': 10},\n",
              " {'target': 'BACKGROUND',\n",
              "  'text': 'although working smoke alarms halve deaths in residential fires , many households do not keep alarms operational .',\n",
              "  'line_number': 0,\n",
              "  'total_lines': 14},\n",
              " {'target': 'BACKGROUND',\n",
              "  'text': 'we tested whether theory-based education increases alarm operability .',\n",
              "  'line_number': 1,\n",
              "  'total_lines': 14},\n",
              " {'target': 'METHODS',\n",
              "  'text': 'randomised multiarm trial , with a single arm randomly selected for use each day , in low-income neighbourhoods in maryland , usa .',\n",
              "  'line_number': 2,\n",
              "  'total_lines': 14},\n",
              " {'target': 'METHODS',\n",
              "  'text': \"intervention arms : ( @ ) full education combining a health belief module with a social-cognitive theory module that provided hands-on practice installing alarm batteries and using the alarm 's hush button ; ( @ ) hands-on practice social-cognitive module supplemented by typical fire department education ; ( @ ) current norm receiving typical fire department education only .\",\n",
              "  'line_number': 3,\n",
              "  'total_lines': 14},\n",
              " {'target': 'METHODS',\n",
              "  'text': 'four hundred and thirty-six homes recruited through churches or by knocking on doors in @-@ .',\n",
              "  'line_number': 4,\n",
              "  'total_lines': 14},\n",
              " {'target': 'METHODS',\n",
              "  'text': 'follow-up visits checked alarm operability in @ homes ( @ % ) @-@ @ years after installation .',\n",
              "  'line_number': 5,\n",
              "  'total_lines': 14},\n",
              " {'target': 'METHODS',\n",
              "  'text': 'number of homes with working alarms defined as alarms with working batteries or hard-wired and number of working alarms per home .',\n",
              "  'line_number': 6,\n",
              "  'total_lines': 14},\n",
              " {'target': 'METHODS',\n",
              "  'text': 'regressions controlled for alarm status preintervention ; demographics and beliefs about fire risks and alarm effectiveness .',\n",
              "  'line_number': 7,\n",
              "  'total_lines': 14},\n",
              " {'target': 'RESULTS',\n",
              "  'text': 'homes in the full education and practice arms were more likely to have a functioning smoke alarm at follow-up ( or = @ , @ % ci @ to @ ) and had an average of @ more working alarms per home ( @ % ci @ to @ ) .',\n",
              "  'line_number': 8,\n",
              "  'total_lines': 14},\n",
              " {'target': 'RESULTS',\n",
              "  'text': 'working alarms per home rose @ % .',\n",
              "  'line_number': 9,\n",
              "  'total_lines': 14},\n",
              " {'target': 'RESULTS',\n",
              "  'text': 'full education and practice had similar effectiveness ( p = @ on both outcome measures ) .',\n",
              "  'line_number': 10,\n",
              "  'total_lines': 14},\n",
              " {'target': 'CONCLUSIONS',\n",
              "  'text': 'without exceeding typical fire department installation time , installers can achieve greater smoke alarm operability .',\n",
              "  'line_number': 11,\n",
              "  'total_lines': 14},\n",
              " {'target': 'CONCLUSIONS',\n",
              "  'text': 'hands-on practice is key .',\n",
              "  'line_number': 12,\n",
              "  'total_lines': 14},\n",
              " {'target': 'CONCLUSIONS',\n",
              "  'text': 'two years after installation , for every three homes that received hands-on practice , one had an additional working alarm .',\n",
              "  'line_number': 13,\n",
              "  'total_lines': 14},\n",
              " {'target': 'BACKGROUND',\n",
              "  'text': 'http://www.clinicaltrials.gov number nct@ .',\n",
              "  'line_number': 14,\n",
              "  'total_lines': 14},\n",
              " {'target': 'OBJECTIVE',\n",
              "  'text': 'to evaluate the performance ( efficacy , safety and acceptability ) of a new micro-adherent absorbent dressing ( urgoclean ) compared with a hydrofiber dressing ( aquacel ) in the local management of venous leg ulcers , in the debridement stage .',\n",
              "  'line_number': 0,\n",
              "  'total_lines': 16},\n",
              " {'target': 'METHODS',\n",
              "  'text': 'a non-inferiority european randomised controlled clinical trial ( rct ) was conducted in @ centres , on patients presenting with venous or predominantly venous , mixed aetiology leg ulcers at their sloughy stage ( with more than @ % of the wound bed covered with slough at baseline ) .',\n",
              "  'line_number': 1,\n",
              "  'total_lines': 16},\n",
              " {'target': 'METHODS',\n",
              "  'text': 'patients were followed over a @-week period and assessed weekly .',\n",
              "  'line_number': 2,\n",
              "  'total_lines': 16},\n",
              " {'target': 'METHODS',\n",
              "  'text': 'the primary judgement criteria was the relative regression of the wound surface area after the @-week treatment period .',\n",
              "  'line_number': 3,\n",
              "  'total_lines': 16},\n",
              " {'target': 'METHODS',\n",
              "  'text': 'secondary endpoints were the relative reduction of sloughy tissue and the percentage of patients presenting with a debrided wound .',\n",
              "  'line_number': 4,\n",
              "  'total_lines': 16},\n",
              " {'target': 'RESULTS',\n",
              "  'text': 'altogether , @ patients were randomised to either urgoclean ( test group ; n = @ ) or aquacel ( control group ; n = @ ) dressings .',\n",
              "  'line_number': 5,\n",
              "  'total_lines': 16},\n",
              " {'target': 'RESULTS',\n",
              "  'text': 'regarding the wound healing process predictive factors ( wound area , duration , abpi value , recurrence ) , at baseline , the two groups were well balanced , for both wound and patient characteristics .',\n",
              "  'line_number': 6,\n",
              "  'total_lines': 16},\n",
              " {'target': 'RESULTS',\n",
              "  'text': 'compression therapy was administered to both groups and after a median @-day treatment period , the percentage of relative reduction of the wound surface area was very similar ( -@ % vs -@ % in the urgoclean and control groups , respectively ) .',\n",
              "  'line_number': 7,\n",
              "  'total_lines': 16},\n",
              " {'target': 'RESULTS',\n",
              "  'text': 'when considering the secondary criteria at week @ , the relative reduction of sloughy tissue was significantly higher in the urgoclean group than in the control group ( -@ % vs -@,@ % ; p = @ ) .',\n",
              "  'line_number': 8,\n",
              "  'total_lines': 16},\n",
              " {'target': 'RESULTS',\n",
              "  'text': 'the percentage of debrided wounds was also significantly higher in the test group ( @ % vs @ % ; p = @ ) .',\n",
              "  'line_number': 9,\n",
              "  'total_lines': 16},\n",
              " {'target': 'CONCLUSIONS',\n",
              "  'text': \"this ` earth ' rct confirmed that the urgoclean dressing has similar efficacy and safety compared to aquacel .\",\n",
              "  'line_number': 10,\n",
              "  'total_lines': 16},\n",
              " {'target': 'CONCLUSIONS',\n",
              "  'text': 'however , urgoclean also showed better autolytic properties than the control group in the management of venous leg ulcers at the sloughy stage .',\n",
              "  'line_number': 11,\n",
              "  'total_lines': 16},\n",
              " {'target': 'CONCLUSIONS',\n",
              "  'text': 'the new urgoclean dressing therefore represents a promising therapeutic option within the current range of autolytic dressings available .',\n",
              "  'line_number': 12,\n",
              "  'total_lines': 16},\n",
              " {'target': 'BACKGROUND',\n",
              "  'text': 'this study was sponsored by a grant from the pharmaceutical company laboratoires urgo .',\n",
              "  'line_number': 13,\n",
              "  'total_lines': 16},\n",
              " {'target': 'BACKGROUND',\n",
              "  'text': 's. bohbot and o. tacca are employees of laboratoires urgo .',\n",
              "  'line_number': 14,\n",
              "  'total_lines': 16},\n",
              " {'target': 'BACKGROUND',\n",
              "  'text': 's. meaume , j. dissemond and g. perceau have received monetary compensation as presenters for laboratoires urgo .',\n",
              "  'line_number': 15,\n",
              "  'total_lines': 16},\n",
              " {'target': 'BACKGROUND',\n",
              "  'text': 'data management and statistical analyses were conducted independently by vertical ( paris , france ) .',\n",
              "  'line_number': 16,\n",
              "  'total_lines': 16},\n",
              " {'target': 'OBJECTIVE',\n",
              "  'text': 'eye movements ( em ) during recall of an aversive memory is a treatment element unique to eye movement desensitization and reprocessing ( emdr ) .',\n",
              "  'line_number': 0,\n",
              "  'total_lines': 11},\n",
              " {'target': 'OBJECTIVE',\n",
              "  'text': 'experimental studies have shown that em reduce memory vividness and/or emotionality shortly after the intervention .',\n",
              "  'line_number': 1,\n",
              "  'total_lines': 11},\n",
              " {'target': 'OBJECTIVE',\n",
              "  'text': 'however , it is unclear whether the immediate effects of the intervention reflect actual changes in memory .',\n",
              "  'line_number': 2,\n",
              "  'total_lines': 11},\n",
              " {'target': 'OBJECTIVE',\n",
              "  'text': 'the aim of this study was to test whether immediate reductions in memory vividness and emotionality persist at a @h follow up and whether the magnitude of these effects is related to the duration of the intervention .',\n",
              "  'line_number': 3,\n",
              "  'total_lines': 11},\n",
              " {'target': 'METHODS',\n",
              "  'text': \"seventy-three undergraduates recalled two negative autobiographical memories , one with em ( `` recall with em '' ) and one without ( `` recall only '' ) .\",\n",
              "  'line_number': 4,\n",
              "  'total_lines': 11},\n",
              " {'target': 'METHODS',\n",
              "  'text': 'half of participants recalled each memory for four periods of @s , the other half for eight periods of @s .',\n",
              "  'line_number': 5,\n",
              "  'total_lines': 11},\n",
              " {'target': 'METHODS',\n",
              "  'text': 'memory vividness/emotionality were self-rated at a pre-test , an immediate post-test , and a @h follow-up test .',\n",
              "  'line_number': 6,\n",
              "  'total_lines': 11},\n",
              " {'target': 'RESULTS',\n",
              "  'text': 'in both duration groups , recall with em , but not recall only , caused an immediate decrease in memory vividness .',\n",
              "  'line_number': 7,\n",
              "  'total_lines': 11},\n",
              " {'target': 'RESULTS',\n",
              "  'text': 'there were no immediate reductions in memory emotionality .',\n",
              "  'line_number': 8,\n",
              "  'total_lines': 11},\n",
              " {'target': 'RESULTS',\n",
              "  'text': \"furthermore , only the ` eight periods ' group showed that recall with em , but not recall only , caused a decrease in both memory emotionality and memory vividness from the pre-test to the follow-up .\",\n",
              "  'line_number': 9,\n",
              "  'total_lines': 11},\n",
              " {'target': 'CONCLUSIONS',\n",
              "  'text': 'only self-report measures were used .',\n",
              "  'line_number': 10,\n",
              "  'total_lines': 11},\n",
              " {'target': 'CONCLUSIONS',\n",
              "  'text': 'the findings suggest that recall with em causes @-hchanges in memory vividness/emotionality , which may explain part of the emdr treatment effect , and these effects are related to intervention duration .',\n",
              "  'line_number': 11,\n",
              "  'total_lines': 11},\n",
              " {'target': 'OBJECTIVE',\n",
              "  'text': 'few studies have tested the impact of motivational interviewing ( mi ) delivered by primary care providers on pediatric obesity .',\n",
              "  'line_number': 0,\n",
              "  'total_lines': 12},\n",
              " {'target': 'OBJECTIVE',\n",
              "  'text': 'this study tested the efficacy of mi delivered by providers and registered dietitians ( rds ) to parents of overweight children aged @ through @ .',\n",
              "  'line_number': 1,\n",
              "  'total_lines': 12},\n",
              " {'target': 'METHODS',\n",
              "  'text': 'forty-two practices from the pediatric research in office settings network of the american academy of pediatrics were randomly assigned to @ of @ groups .',\n",
              "  'line_number': 2,\n",
              "  'total_lines': 12},\n",
              " {'target': 'METHODS',\n",
              "  'text': 'group @ ( usual care ) measured bmi percentile at baseline and @ - and @-year follow-up .',\n",
              "  'line_number': 3,\n",
              "  'total_lines': 12},\n",
              " {'target': 'METHODS',\n",
              "  'text': 'group @ ( provider only ) delivered @ mi counseling sessions to parents of the index child over @ years .',\n",
              "  'line_number': 4,\n",
              "  'total_lines': 12},\n",
              " {'target': 'METHODS',\n",
              "  'text': 'group @ ( provider + rd ) delivered @ provider mi sessions plus @ mi sessions from a rd. .',\n",
              "  'line_number': 5,\n",
              "  'total_lines': 12},\n",
              " {'target': 'METHODS',\n",
              "  'text': 'the primary outcome was child bmi percentile at @-year follow up .',\n",
              "  'line_number': 6,\n",
              "  'total_lines': 12},\n",
              " {'target': 'RESULTS',\n",
              "  'text': 'at @-year follow-up , the adjusted bmi percentile was @ , @ , and @ for groups @ , @ , and @ , respectively .',\n",
              "  'line_number': 7,\n",
              "  'total_lines': 12},\n",
              " {'target': 'RESULTS',\n",
              "  'text': 'the group @ mean was significantly ( p = @ ) lower than group @ .',\n",
              "  'line_number': 8,\n",
              "  'total_lines': 12},\n",
              " {'target': 'RESULTS',\n",
              "  'text': 'mean changes from baseline in bmi percentile were @ , @ , and @ across groups @ , @ , and @ .',\n",
              "  'line_number': 9,\n",
              "  'total_lines': 12},\n",
              " {'target': 'CONCLUSIONS',\n",
              "  'text': 'mi delivered by providers and rds ( group @ ) resulted in statistically significant reductions in bmi percentile .',\n",
              "  'line_number': 10,\n",
              "  'total_lines': 12},\n",
              " {'target': 'CONCLUSIONS',\n",
              "  'text': 'research is needed to determine the clinical significance and persistence of the bmi effects observed .',\n",
              "  'line_number': 11,\n",
              "  'total_lines': 12},\n",
              " {'target': 'CONCLUSIONS',\n",
              "  'text': 'how the intervention can be brought to scale ( in particular , how to train physicians to use mi effectively and how best to train rds and integrate them into primary care settings ) also merits future research .',\n",
              "  'line_number': 12,\n",
              "  'total_lines': 12},\n",
              " {'target': 'BACKGROUND',\n",
              "  'text': 'antithrombin ( at ) concentrations are reduced after cardiac surgery with cardiopulmonary bypass compared with the preoperative levels .',\n",
              "  'line_number': 0,\n",
              "  'total_lines': 9},\n",
              " {'target': 'BACKGROUND',\n",
              "  'text': 'low postoperative at is associated with worse short - and mid-term clinical outcomes .',\n",
              "  'line_number': 1,\n",
              "  'total_lines': 9},\n",
              " {'target': 'BACKGROUND',\n",
              "  'text': 'the aim of the study is to evaluate the effects of at administration on activation of the coagulation and fibrinolytic systems , platelet function , and the inflammatory response in patients with low postoperative at levels .',\n",
              "  'line_number': 2,\n",
              "  'total_lines': 9},\n",
              " {'target': 'METHODS',\n",
              "  'text': 'sixty patients with postoperative at levels of less than @ % were randomly assigned to receive purified at ( @ iu in three administrations ) or placebo in the postoperative intensive care unit .',\n",
              "  'line_number': 3,\n",
              "  'total_lines': 9},\n",
              " {'target': 'METHODS',\n",
              "  'text': 'thirty patients with postoperative at levels greater than @ % were observed as controls .',\n",
              "  'line_number': 4,\n",
              "  'total_lines': 9},\n",
              " {'target': 'METHODS',\n",
              "  'text': 'interleukin @ ( a marker of inflammation ) , prothrombin fragment @-@ ( a marker of thrombin generation ) , plasmin-antiplasmin complex ( a marker of fibrinolysis ) , and platelet factor @ ( a marker of platelet activation ) were measured at six different times .',\n",
              "  'line_number': 5,\n",
              "  'total_lines': 9},\n",
              " {'target': 'RESULTS',\n",
              "  'text': 'compared with the no at group and control patients , patients receiving at showed significantly higher at values until @ hours after the last administration .',\n",
              "  'line_number': 6,\n",
              "  'total_lines': 9},\n",
              " {'target': 'RESULTS',\n",
              "  'text': 'analysis of variance for repeated measures showed a significant effect of study treatment in reducing prothrombin fragment @-@ ( p = @ ; interaction with time sample , p = @ ) and plasmin-antiplasmin complex ( p < @ ; interaction with time sample , p < @ ) values but not interleukin @ ( p = @ ; interaction with time sample , p = @ ) and platelet factor @ ( p = @ ; interaction with time sample , p = @ ) .',\n",
              "  'line_number': 7,\n",
              "  'total_lines': 9},\n",
              " {'target': 'RESULTS',\n",
              "  'text': 'no difference in chest tube drainage , reopening for bleeding , and blood transfusion was observed .',\n",
              "  'line_number': 8,\n",
              "  'total_lines': 9},\n",
              " {'target': 'CONCLUSIONS',\n",
              "  'text': 'antithrombin administration in patients with low at activity after surgery with cardiopulmonary bypass reduces postoperative thrombin generation and fibrinolysis with no effects on platelet activation and inflammatory response .',\n",
              "  'line_number': 9,\n",
              "  'total_lines': 9},\n",
              " {'target': 'OBJECTIVE',\n",
              "  'text': 'we evaluated patients at tertiary -lsb- both percutaneous coronary intervention ( pci ) and coronary artery bypass grafting ( cabg ) capable -rsb- and primary hospitals in the early-acs trial .',\n",
              "  'line_number': 0,\n",
              "  'total_lines': 10},\n",
              " {'target': 'BACKGROUND',\n",
              "  'text': 'early invasive management is recommended for high-risk non-st-segment elevation acute coronary syndromes .',\n",
              "  'line_number': 1,\n",
              "  'total_lines': 10},\n",
              " {'target': 'METHODS',\n",
              "  'text': \"we evaluated outcomes in @,@ patients presenting to : tertiary sites , primary sites with transfer to tertiary sites ( `` transferred '' ) and those who remained at primary sites ( `` non-transfer '' ) .\",\n",
              "  'line_number': 2,\n",
              "  'total_lines': 10},\n",
              " {'target': 'RESULTS',\n",
              "  'text': 'there were @ tertiary ( n = @,@ patients ) and @ primary hospitals -lsb- n = @,@ patients ( @ transferred ; @,@ non-transfer ) -rsb- .',\n",
              "  'line_number': 3,\n",
              "  'total_lines': 10},\n",
              " {'target': 'RESULTS',\n",
              "  'text': 'significant delays occurred in time from symptom onset to angiography ( @ hr ) , pci ( @h ) , and cabg ( @ hr ) for transferred patients ( p < @ ) .',\n",
              "  'line_number': 4,\n",
              "  'total_lines': 10},\n",
              " {'target': 'RESULTS',\n",
              "  'text': 'non-transfer patients had less @-day death/myocardial infarction -lsb- @ % vs. @ % ( tertiary ) ; adjusted odds ratio ( or ) : @ ( @-@ @ ) , p = @ -rsb- ; transferred ( @ % ) and tertiary patients were similar -lsb- adjusted or : @ ( @-@ @ ) , p = @ -rsb- .',\n",
              "  'line_number': 5,\n",
              "  'total_lines': 10},\n",
              " {'target': 'RESULTS',\n",
              "  'text': 'non-transfer patients had lower @-year mortality -lsb- @ % vs. @ % ( tertiary ) ; adjusted hazard ratio ( hr ) : @ ( @-@ @ ) , p = @ -rsb- : there was no difference between transferred and tertiary patients -lsb- @ % vs. @ % ; adjusted hr : @ ( @-@ @ ) , p = @ -rsb- .',\n",
              "  'line_number': 6,\n",
              "  'total_lines': 10},\n",
              " {'target': 'RESULTS',\n",
              "  'text': 'despite similar rates of catheterization , gusto severe/moderate bleeding within @ hr was less in non-transfer -lsb- @ % vs. @ % ( tertiary ) ; adjusted or : @ ( @-@ @ ) , p < @ -rsb- , whereas transferred ( @ % ) and tertiary patients were similar -lsb- adjusted or : @ ( @-@ @ ) , p = @ -rsb- .',\n",
              "  'line_number': 7,\n",
              "  'total_lines': 10},\n",
              " {'target': 'RESULTS',\n",
              "  'text': 'there was no difference in non-cabg bleeding .',\n",
              "  'line_number': 8,\n",
              "  'total_lines': 10},\n",
              " {'target': 'CONCLUSIONS',\n",
              "  'text': 'timely angiography and revascularization were often not achieved in transferred patients .',\n",
              "  'line_number': 9,\n",
              "  'total_lines': 10},\n",
              " {'target': 'CONCLUSIONS',\n",
              "  'text': 'non-transferred patients presenting to primary sites had the lowest event rates and the best long-term survival .',\n",
              "  'line_number': 10,\n",
              "  'total_lines': 10},\n",
              " {'target': 'OBJECTIVE',\n",
              "  'text': 'we hypothesized that a targeted temperature of @ c as compared to that of @ c would increase survival and reduce the severity of circulatory shock in patients with shock on admission after out-of-hospital cardiac arrest ( ohca ) .',\n",
              "  'line_number': 0,\n",
              "  'total_lines': 8},\n",
              " {'target': 'METHODS',\n",
              "  'text': 'the recently published target temperature management trial ( ttm-trial ) randomized @ ohca patients with no difference in outcome between groups and no difference in mortality at the end of the trial in a predefined subgroup of patients with shock at admission .',\n",
              "  'line_number': 1,\n",
              "  'total_lines': 8},\n",
              " {'target': 'METHODS',\n",
              "  'text': 'shock was defined as a systolic blood pressure of < @ mm hg for > @ min or the need of supportive measures to maintain a blood pressure @ mmhg and/or clinical signs of end-organ hypoperfusion .',\n",
              "  'line_number': 2,\n",
              "  'total_lines': 8},\n",
              " {'target': 'METHODS',\n",
              "  'text': 'in this post hoc analysis reported here , we further analyzed the @ patients with shock at admission ; all had been randomized to receive intervention at @ c ( ttm@ ; n = @ ) or @ c ( ttm@ ; n = @ ) .',\n",
              "  'line_number': 3,\n",
              "  'total_lines': 8},\n",
              " {'target': 'METHODS',\n",
              "  'text': 'primary outcome was @-day mortality .',\n",
              "  'line_number': 4,\n",
              "  'total_lines': 8},\n",
              " {'target': 'METHODS',\n",
              "  'text': 'secondary outcomes were intensive care unit ( icu ) and @-day mortality , severity of circulatory shock assessed by mean arterial pressure , serum lactate , fluid balance and the extended sequential organ failure assessment ( sofa ) score .',\n",
              "  'line_number': 5,\n",
              "  'total_lines': 8},\n",
              " {'target': 'RESULTS',\n",
              "  'text': 'there was no significance difference between targeted temperature management at @ c or @ c on @-day mortality -lsb- log-rank test , p = @ , hazard ratio @ , @ % confidence interval ( ci ) @-@ @ -rsb- or icu mortality ( @ vs. @ % , p = @ ; relative risk @ , @ % ci @-@ @ ) .',\n",
              "  'line_number': 6,\n",
              "  'total_lines': 8},\n",
              " {'target': 'RESULTS',\n",
              "  'text': 'serum lactate and the extended cardiovascular sofa score were higher in the ttm@ group ( p < @ ) .',\n",
              "  'line_number': 7,\n",
              "  'total_lines': 8},\n",
              " {'target': 'CONCLUSIONS',\n",
              "  'text': 'we found no benefit in survival or severity of circulatory shock with targeted temperature management at @ c as compared to @ c in patients with shock on admission after ohca .',\n",
              "  'line_number': 8,\n",
              "  'total_lines': 8}]"
            ]
          },
          "metadata": {},
          "execution_count": 99
        }
      ]
    },
    {
      "cell_type": "markdown",
      "source": [
        "**Note:** Any engineered features used to train a model need to be available at test time"
      ],
      "metadata": {
        "id": "grXk8GbpCkpB"
      }
    },
    {
      "cell_type": "markdown",
      "source": [
        "### Create positional embeddings"
      ],
      "metadata": {
        "id": "3Y71LyKnDltL"
      }
    },
    {
      "cell_type": "code",
      "source": [
        "# How many different line numbers are there?\n",
        "train_df[\"line_number\"].value_counts()"
      ],
      "metadata": {
        "id": "UinW2YTSDzSZ",
        "colab": {
          "base_uri": "https://localhost:8080/"
        },
        "outputId": "1ca976d3-9414-43c0-fa28-861c5dc59ac1"
      },
      "execution_count": 100,
      "outputs": [
        {
          "output_type": "execute_result",
          "data": {
            "text/plain": [
              "0     15000\n",
              "1     15000\n",
              "2     15000\n",
              "3     15000\n",
              "4     14992\n",
              "5     14949\n",
              "6     14758\n",
              "7     14279\n",
              "8     13346\n",
              "9     11981\n",
              "10    10041\n",
              "11     7892\n",
              "12     5853\n",
              "13     4152\n",
              "14     2835\n",
              "15     1861\n",
              "16     1188\n",
              "17      751\n",
              "18      462\n",
              "19      286\n",
              "20      162\n",
              "21      101\n",
              "22       66\n",
              "23       33\n",
              "24       22\n",
              "25       14\n",
              "26        7\n",
              "27        4\n",
              "28        3\n",
              "29        1\n",
              "30        1\n",
              "Name: line_number, dtype: int64"
            ]
          },
          "metadata": {},
          "execution_count": 100
        }
      ]
    },
    {
      "cell_type": "code",
      "source": [
        "# Check the distriobutions of the line number column\n",
        "train_df.line_number.plot.hist();"
      ],
      "metadata": {
        "id": "4_QURWeeD-ZC",
        "colab": {
          "base_uri": "https://localhost:8080/",
          "height": 430
        },
        "outputId": "a4853f63-fa86-4148-f499-61b6c6957575"
      },
      "execution_count": 101,
      "outputs": [
        {
          "output_type": "display_data",
          "data": {
            "text/plain": [
              "<Figure size 640x480 with 1 Axes>"
            ],
            "image/png": "[encoded data removed]"
          },
          "metadata": {}
        }
      ]
    },
    {
      "cell_type": "code",
      "source": [
        "# Use TensorFlow to create one hot encoded\n",
        "train_line_numbers_one_hot = tf.one_hot(train_df['line_number'].to_numpy(), depth=15)\n",
        "val_line_numbers_one_hot = tf.one_hot(val_df['line_number'].to_numpy(), depth =15)\n",
        "test_line_numbers_one_hot = tf.one_hot(test_df['line_number'].to_numpy(), depth=15)\n",
        "train_line_numbers_one_hot[:14], train_line_numbers_one_hot.shape"
      ],
      "metadata": {
        "id": "_6aFOqhPEWq2",
        "colab": {
          "base_uri": "https://localhost:8080/"
        },
        "outputId": "9cbb7b0e-2fab-4c8b-f421-eac83d8620f2"
      },
      "execution_count": 102,
      "outputs": [
        {
          "output_type": "execute_result",
          "data": {
            "text/plain": [
              "(<tf.Tensor: shape=(14, 15), dtype=float32, numpy=\n",
              " array([[1., 0., 0., 0., 0., 0., 0., 0., 0., 0., 0., 0., 0., 0., 0.],\n",
              "        [0., 1., 0., 0., 0., 0., 0., 0., 0., 0., 0., 0., 0., 0., 0.],\n",
              "        [0., 0., 1., 0., 0., 0., 0., 0., 0., 0., 0., 0., 0., 0., 0.],\n",
              "        [0., 0., 0., 1., 0., 0., 0., 0., 0., 0., 0., 0., 0., 0., 0.],\n",
              "        [0., 0., 0., 0., 1., 0., 0., 0., 0., 0., 0., 0., 0., 0., 0.],\n",
              "        [0., 0., 0., 0., 0., 1., 0., 0., 0., 0., 0., 0., 0., 0., 0.],\n",
              "        [0., 0., 0., 0., 0., 0., 1., 0., 0., 0., 0., 0., 0., 0., 0.],\n",
              "        [0., 0., 0., 0., 0., 0., 0., 1., 0., 0., 0., 0., 0., 0., 0.],\n",
              "        [0., 0., 0., 0., 0., 0., 0., 0., 1., 0., 0., 0., 0., 0., 0.],\n",
              "        [0., 0., 0., 0., 0., 0., 0., 0., 0., 1., 0., 0., 0., 0., 0.],\n",
              "        [0., 0., 0., 0., 0., 0., 0., 0., 0., 0., 1., 0., 0., 0., 0.],\n",
              "        [0., 0., 0., 0., 0., 0., 0., 0., 0., 0., 0., 1., 0., 0., 0.],\n",
              "        [1., 0., 0., 0., 0., 0., 0., 0., 0., 0., 0., 0., 0., 0., 0.],\n",
              "        [0., 1., 0., 0., 0., 0., 0., 0., 0., 0., 0., 0., 0., 0., 0.]],\n",
              "       dtype=float32)>,\n",
              " TensorShape([180040, 15]))"
            ]
          },
          "metadata": {},
          "execution_count": 102
        }
      ]
    },
    {
      "cell_type": "code",
      "source": [
        "# How many different number of lines are there?\n",
        "train_df['total_lines'].value_counts()"
      ],
      "metadata": {
        "colab": {
          "base_uri": "https://localhost:8080/"
        },
        "id": "RTBR8gMCvX_5",
        "outputId": "574bbd66-4783-4439-bf4b-282935fb46ea"
      },
      "execution_count": 103,
      "outputs": [
        {
          "output_type": "execute_result",
          "data": {
            "text/plain": [
              "11    24468\n",
              "10    23639\n",
              "12    22113\n",
              "9     19400\n",
              "13    18438\n",
              "14    14610\n",
              "8     12285\n",
              "15    10768\n",
              "7      7464\n",
              "16     7429\n",
              "17     5202\n",
              "6      3353\n",
              "18     3344\n",
              "19     2480\n",
              "20     1281\n",
              "5      1146\n",
              "21      770\n",
              "22      759\n",
              "23      264\n",
              "4       215\n",
              "24      200\n",
              "25      182\n",
              "26       81\n",
              "28       58\n",
              "3        32\n",
              "30       31\n",
              "27       28\n",
              "Name: total_lines, dtype: int64"
            ]
          },
          "metadata": {},
          "execution_count": 103
        }
      ]
    },
    {
      "cell_type": "code",
      "source": [
        "# Plot the distribution\n",
        "plt.hist(train_df['total_lines']);"
      ],
      "metadata": {
        "id": "sW5neAaTGCQK",
        "colab": {
          "base_uri": "https://localhost:8080/",
          "height": 431
        },
        "outputId": "dc0ed1f1-0db3-4165-b400-cda415731c8b"
      },
      "execution_count": 104,
      "outputs": [
        {
          "output_type": "display_data",
          "data": {
            "text/plain": [
              "<Figure size 640x480 with 1 Axes>"
            ],
            "image/png": "[encoded data removed]"
          },
          "metadata": {}
        }
      ]
    },
    {
      "cell_type": "code",
      "source": [
        "# Chek the coverage of  the  percentage of total lines\n",
        "np.percentile(train_df.total_lines, 98)"
      ],
      "metadata": {
        "id": "p71GglDOGb-J",
        "colab": {
          "base_uri": "https://localhost:8080/"
        },
        "outputId": "f8b68bf0-855b-45ed-d8b3-5fcb2d63b617"
      },
      "execution_count": 105,
      "outputs": [
        {
          "output_type": "execute_result",
          "data": {
            "text/plain": [
              "20.0"
            ]
          },
          "metadata": {},
          "execution_count": 105
        }
      ]
    },
    {
      "cell_type": "code",
      "source": [
        "# Uset Tensorflow to create one-hot-encoded tensors of our \"total_lines\" feature\n",
        "train_total_lines_one_hot = tf.one_hot(train_df['total_lines'].to_numpy(), depth=20)\n",
        "val_total_lines_one_hot = tf.one_hot(val_df['total_lines'].to_numpy(), depth=20)\n",
        "test_total_lines_one_hot = tf.one_hot(test_df['total_lines'].to_numpy(), depth=20)\n",
        "train_total_lines_one_hot.shape, train_total_lines_one_hot[:10]"
      ],
      "metadata": {
        "colab": {
          "base_uri": "https://localhost:8080/"
        },
        "id": "_0yh5cF0vyx1",
        "outputId": "b5898eb0-3549-4c28-c7f6-adbe50a258f2"
      },
      "execution_count": 106,
      "outputs": [
        {
          "output_type": "execute_result",
          "data": {
            "text/plain": [
              "(TensorShape([180040, 20]),\n",
              " <tf.Tensor: shape=(10, 20), dtype=float32, numpy=\n",
              " array([[0., 0., 0., 0., 0., 0., 0., 0., 0., 0., 0., 1., 0., 0., 0., 0.,\n",
              "         0., 0., 0., 0.],\n",
              "        [0., 0., 0., 0., 0., 0., 0., 0., 0., 0., 0., 1., 0., 0., 0., 0.,\n",
              "         0., 0., 0., 0.],\n",
              "        [0., 0., 0., 0., 0., 0., 0., 0., 0., 0., 0., 1., 0., 0., 0., 0.,\n",
              "         0., 0., 0., 0.],\n",
              "        [0., 0., 0., 0., 0., 0., 0., 0., 0., 0., 0., 1., 0., 0., 0., 0.,\n",
              "         0., 0., 0., 0.],\n",
              "        [0., 0., 0., 0., 0., 0., 0., 0., 0., 0., 0., 1., 0., 0., 0., 0.,\n",
              "         0., 0., 0., 0.],\n",
              "        [0., 0., 0., 0., 0., 0., 0., 0., 0., 0., 0., 1., 0., 0., 0., 0.,\n",
              "         0., 0., 0., 0.],\n",
              "        [0., 0., 0., 0., 0., 0., 0., 0., 0., 0., 0., 1., 0., 0., 0., 0.,\n",
              "         0., 0., 0., 0.],\n",
              "        [0., 0., 0., 0., 0., 0., 0., 0., 0., 0., 0., 1., 0., 0., 0., 0.,\n",
              "         0., 0., 0., 0.],\n",
              "        [0., 0., 0., 0., 0., 0., 0., 0., 0., 0., 0., 1., 0., 0., 0., 0.,\n",
              "         0., 0., 0., 0.],\n",
              "        [0., 0., 0., 0., 0., 0., 0., 0., 0., 0., 0., 1., 0., 0., 0., 0.,\n",
              "         0., 0., 0., 0.]], dtype=float32)>)"
            ]
          },
          "metadata": {},
          "execution_count": 106
        }
      ]
    },
    {
      "cell_type": "markdown",
      "source": [
        "# Building a Tri-Brid Embedding model"
      ],
      "metadata": {
        "id": "mFcEv9BqwoBV"
      }
    },
    {
      "cell_type": "markdown",
      "source": [
        "1. Create a token level model\n",
        "2. Create a character level model\n",
        "3. Create a model for the 'line_number' feature\n",
        "4. Create a model for the 'total_lines' feature\n",
        "5. Combine the outputs of 1 and 2 using tf.keras.layers.concatenate\n",
        "6. Combine the outputs of 3, 4, and 5 using tf.keras.layers.concatenate\n",
        "7. Create an ouput layer to accept the tribrid embedding and output label probabilities\n",
        "8. Combine the inputs of 1,2,3, 4 and outputs of 5 into tf.keras.Model"
      ],
      "metadata": {
        "id": "V2JoXDxpxGWt"
      }
    },
    {
      "cell_type": "code",
      "source": [
        "train_line_numbers_one_hot.shape"
      ],
      "metadata": {
        "colab": {
          "base_uri": "https://localhost:8080/"
        },
        "id": "V756TWZYZAqX",
        "outputId": "9d52f7a5-3c16-4bc8-bae1-fa3c2d0e7ea4"
      },
      "execution_count": 108,
      "outputs": [
        {
          "output_type": "execute_result",
          "data": {
            "text/plain": [
              "TensorShape([180040, 15])"
            ]
          },
          "metadata": {},
          "execution_count": 108
        }
      ]
    },
    {
      "cell_type": "code",
      "source": [
        "# 1. Token inputs\n",
        "token_inputs = layers.Input(shape=[], dtype='string', name='token_inputs')\n",
        "token_embeddings = tf_hub_embedding_layer(token_inputs)\n",
        "token_outputs = layers.Dense(128, activation='relu')(token_embeddings)\n",
        "token_model = tf.keras.Model(inputs=token_inputs,\n",
        "                             outputs=token_outputs)\n",
        "\n",
        "# 2. Char inputs\n",
        "char_inputs = layers.Input(shape=(1,), dtype='string', name='char_inputs')\n",
        "char_vectors = char_vectorizer(char_inputs)\n",
        "char_embeddings = char_embed(char_vectors)\n",
        "char_bi_lstm = layers.Bidirectional(layers.LSTM(24))(char_embeddings)\n",
        "char_model = tf.keras.Model(inputs = char_inputs,\n",
        "                            outputs = char_bi_lstm)\n",
        "\n",
        "# 3. Line Numbers model\n",
        "# inputs,shape = ?\n",
        "line_number_inputs = layers.Input(shape=(15,), dtype=tf.float32, name='line_number_input')\n",
        "# dense layer with 32 units and relu activations\n",
        "x = layers.Dense(32, activation='relu')(line_number_inputs)\n",
        "# Combine inputs and dense layer into model\n",
        "line_number_model = tf.keras.Model(inputs=line_number_inputs,\n",
        "                                   outputs=x)\n",
        "\n",
        "# 4 Total lines model\n",
        "# inputs, shape = ?\n",
        "total_lines_input = layers.Input(shape=(20), dtype=tf.float32, name='total_lines_input')\n",
        "y = layers.Dense(32, activation='relu')(total_lines_input)\n",
        "total_lines_model = tf.keras.Model(inputs = total_lines_input,\n",
        "                                   outputs = y)\n",
        "\n",
        "# 5. Combine token and char embeddings into a hybrd embedding\n",
        "combined_embeddings = layers.Concatenate(name='char_token_hybrid_emebdding')([token_model.output,\n",
        "                                                                              char_model.output])\n",
        "\n",
        "\n",
        "\n",
        "# Add a  dropout of 0.5 accoording to the original paper\n",
        "z = layers.Dense(256, activation='relu')(combined_embeddings)\n",
        "z = layers.Dropout(0.5)(z)\n",
        "\n",
        "# 6. Combine positional embeddings with combined token and char embeddings\n",
        "tribrid_embeddings = layers.Concatenate(name='char_token_poistional_embedding')([line_number_model.output,\n",
        "                                                                                total_lines_model.output,\n",
        "                                                                                z])\n",
        "\n",
        "# 7. Create output layer\n",
        "output_layer = layers.Dense(5, activation='softmax', name = 'output_layer')(tribrid_embeddings)\n",
        "\n",
        "# 8. Put together model with all kinds of inputs\n",
        "model_5 = tf.keras.Model(inputs=[line_number_model.input,\n",
        "                                 total_lines_model.input,\n",
        "                                 token_model.input,\n",
        "                                 char_model.input],\n",
        "                         outputs = output_layer,\n",
        "                         name='tribrid_embedding_model')\n"
      ],
      "metadata": {
        "id": "H71fW-Gdx6f0"
      },
      "execution_count": 115,
      "outputs": []
    },
    {
      "cell_type": "code",
      "source": [
        "# Get the summary\n",
        "model_5.summary()"
      ],
      "metadata": {
        "colab": {
          "base_uri": "https://localhost:8080/"
        },
        "id": "PCOXlKstcbua",
        "outputId": "307a5284-69b4-4344-ef66-56abe4d271ce"
      },
      "execution_count": 116,
      "outputs": [
        {
          "output_type": "stream",
          "name": "stdout",
          "text": [
            "Model: \"tribrid_embedding_model\"\n",
            "__________________________________________________________________________________________________\n",
            " Layer (type)                Output Shape                 Param #   Connected to                  \n",
            "==================================================================================================\n",
            " char_inputs (InputLayer)    [(None, 1)]                  0         []                            \n",
            "                                                                                                  \n",
            " token_inputs (InputLayer)   [(None,)]                    0         []                            \n",
            "                                                                                                  \n",
            " char_vectorizer (TextVecto  (None, 290)                  0         ['char_inputs[0][0]']         \n",
            " rization)                                                                                        \n",
            "                                                                                                  \n",
            " universal_sentence_encoder  (None, 512)                  2567978   ['token_inputs[0][0]']        \n",
            "  (KerasLayer)                                            24                                      \n",
            "                                                                                                  \n",
            " char_embed (Embedding)      (None, 290, 25)              700       ['char_vectorizer[6][0]']     \n",
            "                                                                                                  \n",
            " dense_21 (Dense)            (None, 128)                  65664     ['universal_sentence_encoder[6\n",
            "                                                                    ][0]']                        \n",
            "                                                                                                  \n",
            " bidirectional_5 (Bidirecti  (None, 48)                   9600      ['char_embed[6][0]']          \n",
            " onal)                                                                                            \n",
            "                                                                                                  \n",
            " char_token_hybrid_emebddin  (None, 176)                  0         ['dense_21[0][0]',            \n",
            " g (Concatenate)                                                     'bidirectional_5[0][0]']     \n",
            "                                                                                                  \n",
            " line_number_input (InputLa  [(None, 15)]                 0         []                            \n",
            " yer)                                                                                             \n",
            "                                                                                                  \n",
            " total_lines_input (InputLa  [(None, 20)]                 0         []                            \n",
            " yer)                                                                                             \n",
            "                                                                                                  \n",
            " dense_24 (Dense)            (None, 256)                  45312     ['char_token_hybrid_emebdding[\n",
            "                                                                    0][0]']                       \n",
            "                                                                                                  \n",
            " dense_22 (Dense)            (None, 32)                   512       ['line_number_input[0][0]']   \n",
            "                                                                                                  \n",
            " dense_23 (Dense)            (None, 32)                   672       ['total_lines_input[0][0]']   \n",
            "                                                                                                  \n",
            " dropout_5 (Dropout)         (None, 256)                  0         ['dense_24[0][0]']            \n",
            "                                                                                                  \n",
            " char_token_poistional_embe  (None, 320)                  0         ['dense_22[0][0]',            \n",
            " dding (Concatenate)                                                 'dense_23[0][0]',            \n",
            "                                                                     'dropout_5[0][0]']           \n",
            "                                                                                                  \n",
            " output_layer (Dense)        (None, 5)                    1605      ['char_token_poistional_embedd\n",
            "                                                                    ing[0][0]']                   \n",
            "                                                                                                  \n",
            "==================================================================================================\n",
            "Total params: 256921889 (980.08 MB)\n",
            "Trainable params: 124065 (484.63 KB)\n",
            "Non-trainable params: 256797824 (979.61 MB)\n",
            "__________________________________________________________________________________________________\n"
          ]
        }
      ]
    },
    {
      "cell_type": "markdown",
      "source": [
        "## Plot model 5 to  visualize it"
      ],
      "metadata": {
        "id": "aOLcFj3kdMXJ"
      }
    },
    {
      "cell_type": "code",
      "source": [
        "# Plot hybrid token and character model\n",
        "from keras.utils import plot_model\n",
        "plot_model(model_5)"
      ],
      "metadata": {
        "colab": {
          "base_uri": "https://localhost:8080/",
          "height": 856
        },
        "id": "49PP3vMddS9C",
        "outputId": "58ee4f57-b65d-47d5-b605-674b6d216a0d"
      },
      "execution_count": 118,
      "outputs": [
        {
          "output_type": "execute_result",
          "data": {
            "image/png": "[encoded data removed]",
            "text/plain": [
              "<IPython.core.display.Image object>"
            ]
          },
          "metadata": {},
          "execution_count": 118
        }
      ]
    },
    {
      "cell_type": "code",
      "source": [
        "# Compile token char and positional embedding\n",
        "model_5.compile(loss=tf.keras.losses.CategoricalCrossentropy(label_smoothing=0.2),\n",
        "                optimizer=tf.keras.optimizers.Adam(),\n",
        "                metrics=['accuracy'])"
      ],
      "metadata": {
        "id": "4izN4UdMdTcM"
      },
      "execution_count": 121,
      "outputs": []
    },
    {
      "cell_type": "markdown",
      "source": [
        "## Create Tribrid embeddings datasets using tf.data"
      ],
      "metadata": {
        "id": "Nm8U8AvhhWtr"
      }
    },
    {
      "cell_type": "code",
      "source": [
        "# Create training and validation datasets (with all four kinds of input data)\n",
        "train_char_token_pos_data = tf.data.Dataset.from_tensor_slices((train_line_numbers_one_hot,\n",
        "                                                                train_total_lines_one_hot,\n",
        "                                                                train_sentences,\n",
        "                                                                train_chars))\n",
        "\n",
        "train_char_token_pos_labels = tf.data.Dataset.from_tensor_slices(train_labels_one_hot)\n",
        "train_char_token_pos_dataset = tf.data.Dataset.zip(train_char_token_pos_data, train_char_token_pos_labels)\n",
        "train_char_token_pos_dataset = train_char_token_pos_dataset.batch(32).prefetch(tf.data.AUTOTUNE)\n",
        "\n",
        "# Validataion dataset\n",
        "val_char_token_pos_data = tf.data.Dataset.from_tensor_slices((val_line_numbers_one_hot,\n",
        "                                                             val_total_lines_one_hot,\n",
        "                                                             val_sentences,\n",
        "                                                             val_chars))\n",
        "\n",
        "val_char_token_pos_labels = tf.data.Dataset.from_tensor_slices(val_labels_one_hot)\n",
        "val_char_token_pos_dataset = tf.data.Dataset.zip(val_char_token_pos_data, val_char_token_pos_labels)\n",
        "val_char_token_pos_dataset = val_char_token_pos_dataset.batch(32).prefetch(tf.data.AUTOTUNE)"
      ],
      "metadata": {
        "id": "c8CunM_BhkXE"
      },
      "execution_count": 125,
      "outputs": []
    },
    {
      "cell_type": "code",
      "source": [
        "train_char_token_pos_dataset, val_char_token_pos_dataset"
      ],
      "metadata": {
        "colab": {
          "base_uri": "https://localhost:8080/"
        },
        "id": "NoOiwYjLkA40",
        "outputId": "109fcda1-d3e6-41fd-9815-abe4d1f83168"
      },
      "execution_count": 126,
      "outputs": [
        {
          "output_type": "execute_result",
          "data": {
            "text/plain": [
              "(<_PrefetchDataset element_spec=((TensorSpec(shape=(None, 15), dtype=tf.float32, name=None), TensorSpec(shape=(None, 20), dtype=tf.float32, name=None), TensorSpec(shape=(None,), dtype=tf.string, name=None), TensorSpec(shape=(None,), dtype=tf.string, name=None)), TensorSpec(shape=(None, 5), dtype=tf.float64, name=None))>,\n",
              " <_PrefetchDataset element_spec=((TensorSpec(shape=(None, 15), dtype=tf.float32, name=None), TensorSpec(shape=(None, 20), dtype=tf.float32, name=None), TensorSpec(shape=(None,), dtype=tf.string, name=None), TensorSpec(shape=(None,), dtype=tf.string, name=None)), TensorSpec(shape=(None, 5), dtype=tf.float64, name=None))>)"
            ]
          },
          "metadata": {},
          "execution_count": 126
        }
      ]
    },
    {
      "cell_type": "code",
      "source": [
        "## Fit the model\n",
        "history_model_5 = model_5.fit(train_char_token_pos_dataset,\n",
        "                              steps_per_epoch = int(0.1 * len(train_char_token_pos_dataset)),\n",
        "                              epochs= 3,\n",
        "                              validation_data = val_char_token_pos_dataset,\n",
        "                              validation_steps = int(0.1 * len(val_char_token_pos_dataset)))"
      ],
      "metadata": {
        "colab": {
          "base_uri": "https://localhost:8080/"
        },
        "id": "2a3YdByKkfIw",
        "outputId": "11d9e892-874c-4862-cf3d-49aa68d06429"
      },
      "execution_count": 128,
      "outputs": [
        {
          "output_type": "stream",
          "name": "stdout",
          "text": [
            "Epoch 1/3\n",
            "562/562 [==============================] - 245s 415ms/step - loss: 1.0917 - accuracy: 0.7272 - val_loss: 0.9771 - val_accuracy: 0.8122\n",
            "Epoch 2/3\n",
            "562/562 [==============================] - 166s 296ms/step - loss: 0.9652 - accuracy: 0.8136 - val_loss: 0.9485 - val_accuracy: 0.8281\n",
            "Epoch 3/3\n",
            "562/562 [==============================] - 164s 293ms/step - loss: 0.9504 - accuracy: 0.8217 - val_loss: 0.9390 - val_accuracy: 0.8324\n"
          ]
        }
      ]
    },
    {
      "cell_type": "code",
      "source": [
        "# make predictions\n",
        "model_5_pred_probs = model_5.predict(val_char_token_pos_dataset, verbose=1)\n",
        "model_5_pred_probs"
      ],
      "metadata": {
        "colab": {
          "base_uri": "https://localhost:8080/"
        },
        "id": "OLAeyRKLlsXg",
        "outputId": "466e4d1a-24ae-4502-c27d-f80cf81eb0a8"
      },
      "execution_count": 130,
      "outputs": [
        {
          "output_type": "stream",
          "name": "stdout",
          "text": [
            "945/945 [==============================] - 60s 64ms/step\n"
          ]
        },
        {
          "output_type": "execute_result",
          "data": {
            "text/plain": [
              "array([[0.49896002, 0.11422919, 0.01331404, 0.35672548, 0.01677131],\n",
              "       [0.5142793 , 0.10295372, 0.04371633, 0.32818913, 0.01086151],\n",
              "       [0.30096412, 0.0964389 , 0.10697258, 0.4350313 , 0.06059311],\n",
              "       ...,\n",
              "       [0.03539908, 0.11132859, 0.04349926, 0.03065819, 0.77911484],\n",
              "       [0.03509357, 0.26961684, 0.08571953, 0.02618187, 0.58338815],\n",
              "       [0.20818236, 0.57100135, 0.1216684 , 0.04206654, 0.05708129]],\n",
              "      dtype=float32)"
            ]
          },
          "metadata": {},
          "execution_count": 130
        }
      ]
    },
    {
      "cell_type": "code",
      "source": [
        "# Convert pred probs into labels\n",
        "model_5_preds = tf.argmax(model_5_pred_probs, axis=1)\n",
        "model_5_preds"
      ],
      "metadata": {
        "colab": {
          "base_uri": "https://localhost:8080/"
        },
        "id": "qLiCCnJUmEUK",
        "outputId": "54225606-4093-4365-b717-04cd29c41cd5"
      },
      "execution_count": 136,
      "outputs": [
        {
          "output_type": "execute_result",
          "data": {
            "text/plain": [
              "<tf.Tensor: shape=(30212,), dtype=int64, numpy=array([0, 0, 3, ..., 4, 4, 1])>"
            ]
          },
          "metadata": {},
          "execution_count": 136
        }
      ]
    },
    {
      "cell_type": "code",
      "source": [
        "# Calculate the resulsts\n",
        "model_5_results = calculate_results(y_true = val_labels_encoded,\n",
        "                                    y_pred = model_5_preds)\n",
        "model_5_results"
      ],
      "metadata": {
        "colab": {
          "base_uri": "https://localhost:8080/"
        },
        "id": "Kh9IPUG2mPRV",
        "outputId": "6cbe5ecd-95b3-44cb-ac93-b40553f11532"
      },
      "execution_count": 138,
      "outputs": [
        {
          "output_type": "execute_result",
          "data": {
            "text/plain": [
              "{'accuracy': 83.46021448431087,\n",
              " 'precision': 0.8337492563906082,\n",
              " 'recall': 0.8346021448431087,\n",
              " 'f1': 0.8335025865210635}"
            ]
          },
          "metadata": {},
          "execution_count": 138
        }
      ]
    },
    {
      "cell_type": "markdown",
      "source": [
        "### Compare  model results"
      ],
      "metadata": {
        "id": "3g-RoivdpQOK"
      }
    },
    {
      "cell_type": "code",
      "source": [
        "# Combine model results in a dataframe\n",
        "all_model_results = pd.DataFrame({'model_0_baseline': baseline_results,\n",
        "                                  'model_1_custom_token_embedding': model_1_results,\n",
        "                                  'model_2_pretrained_token_embeding': model_2_results,\n",
        "                                  'model_3_custom_char_embedding': model_3_results,\n",
        "                                  'model_4_hybrid_char_token_embedding': model_4_results,\n",
        "                                  'model_5_pos_char_token_embedding': model_5_results})\n",
        "\n",
        "all_model_results = all_model_results.transpose()\n",
        "all_model_results"
      ],
      "metadata": {
        "colab": {
          "base_uri": "https://localhost:8080/",
          "height": 700
        },
        "id": "QVGAcI5wqRP6",
        "outputId": "05f70a1a-0974-4080-cf87-30c2d9656bfa"
      },
      "execution_count": 139,
      "outputs": [
        {
          "output_type": "execute_result",
          "data": {
            "text/plain": [
              "                                      accuracy  precision    recall        f1\n",
              "model_0_baseline                     73.970608   0.759340  0.739706  0.709995\n",
              "model_1_custom_token_embedding       78.306633   0.779220  0.783066  0.780340\n",
              "model_2_pretrained_token_embeding    71.531180   0.715634  0.715312  0.712468\n",
              "model_3_custom_char_embedding        65.629551   0.655877  0.656296  0.646010\n",
              "model_4_hybrid_char_token_embedding  73.507216   0.735254  0.735072  0.733250\n",
              "model_5_pos_char_token_embedding     83.460214   0.833749  0.834602  0.833503"
            ],
            "text/html": [
              "\n",
              "  <div id=\"df-9248b589-49a5-452a-959f-9cc8cc2378f6\" class=\"colab-df-container\">\n",
              "    <div>\n",
              "<style scoped>\n",
              "    .dataframe tbody tr th:only-of-type {\n",
              "        vertical-align: middle;\n",
              "    }\n",
              "\n",
              "    .dataframe tbody tr th {\n",
              "        vertical-align: top;\n",
              "    }\n",
              "\n",
              "    .dataframe thead th {\n",
              "        text-align: right;\n",
              "    }\n",
              "</style>\n",
              "<table border=\"1\" class=\"dataframe\">\n",
              "  <thead>\n",
              "    <tr style=\"text-align: right;\">\n",
              "      <th></th>\n",
              "      <th>accuracy</th>\n",
              "      <th>precision</th>\n",
              "      <th>recall</th>\n",
              "      <th>f1</th>\n",
              "    </tr>\n",
              "  </thead>\n",
              "  <tbody>\n",
              "    <tr>\n",
              "      <th>model_0_baseline</th>\n",
              "      <td>73.970608</td>\n",
              "      <td>0.759340</td>\n",
              "      <td>0.739706</td>\n",
              "      <td>0.709995</td>\n",
              "    </tr>\n",
              "    <tr>\n",
              "      <th>model_1_custom_token_embedding</th>\n",
              "      <td>78.306633</td>\n",
              "      <td>0.779220</td>\n",
              "      <td>0.783066</td>\n",
              "      <td>0.780340</td>\n",
              "    </tr>\n",
              "    <tr>\n",
              "      <th>model_2_pretrained_token_embeding</th>\n",
              "      <td>71.531180</td>\n",
              "      <td>0.715634</td>\n",
              "      <td>0.715312</td>\n",
              "      <td>0.712468</td>\n",
              "    </tr>\n",
              "    <tr>\n",
              "      <th>model_3_custom_char_embedding</th>\n",
              "      <td>65.629551</td>\n",
              "      <td>0.655877</td>\n",
              "      <td>0.656296</td>\n",
              "      <td>0.646010</td>\n",
              "    </tr>\n",
              "    <tr>\n",
              "      <th>model_4_hybrid_char_token_embedding</th>\n",
              "      <td>73.507216</td>\n",
              "      <td>0.735254</td>\n",
              "      <td>0.735072</td>\n",
              "      <td>0.733250</td>\n",
              "    </tr>\n",
              "    <tr>\n",
              "      <th>model_5_pos_char_token_embedding</th>\n",
              "      <td>83.460214</td>\n",
              "      <td>0.833749</td>\n",
              "      <td>0.834602</td>\n",
              "      <td>0.833503</td>\n",
              "    </tr>\n",
              "  </tbody>\n",
              "</table>\n",
              "</div>\n",
              "    <div class=\"colab-df-buttons\">\n",
              "\n",
              "  <div class=\"colab-df-container\">\n",
              "    <button class=\"colab-df-convert\" onclick=\"convertToInteractive('df-9248b589-49a5-452a-959f-9cc8cc2378f6')\"\n",
              "            title=\"Convert this dataframe to an interactive table.\"\n",
              "            style=\"display:none;\">\n",
              "\n",
              "  <svg xmlns=\"http://www.w3.org/2000/svg\" height=\"24px\" viewBox=\"0 -960 960 960\">\n",
              "    <path d=\"M120-120v-720h720v720H120Zm60-500h600v-160H180v160Zm220 220h160v-160H400v160Zm0 220h160v-160H400v160ZM180-400h160v-160H180v160Zm440 0h160v-160H620v160ZM180-180h160v-160H180v160Zm440 0h160v-160H620v160Z\"/>\n",
              "  </svg>\n",
              "    </button>\n",
              "\n",
              "  <style>\n",
              "    .colab-df-container {\n",
              "      display:flex;\n",
              "      gap: 12px;\n",
              "    }\n",
              "\n",
              "    .colab-df-convert {\n",
              "      background-color: #E8F0FE;\n",
              "      border: none;\n",
              "      border-radius: 50%;\n",
              "      cursor: pointer;\n",
              "      display: none;\n",
              "      fill: #1967D2;\n",
              "      height: 32px;\n",
              "      padding: 0 0 0 0;\n",
              "      width: 32px;\n",
              "    }\n",
              "\n",
              "    .colab-df-convert:hover {\n",
              "      background-color: #E2EBFA;\n",
              "      box-shadow: 0px 1px 2px rgba(60, 64, 67, 0.3), 0px 1px 3px 1px rgba(60, 64, 67, 0.15);\n",
              "      fill: #174EA6;\n",
              "    }\n",
              "\n",
              "    .colab-df-buttons div {\n",
              "      margin-bottom: 4px;\n",
              "    }\n",
              "\n",
              "    [theme=dark] .colab-df-convert {\n",
              "      background-color: #3B4455;\n",
              "      fill: #D2E3FC;\n",
              "    }\n",
              "\n",
              "    [theme=dark] .colab-df-convert:hover {\n",
              "      background-color: #434B5C;\n",
              "      box-shadow: 0px 1px 3px 1px rgba(0, 0, 0, 0.15);\n",
              "      filter: drop-shadow(0px 1px 2px rgba(0, 0, 0, 0.3));\n",
              "      fill: #FFFFFF;\n",
              "    }\n",
              "  </style>\n",
              "\n",
              "    <script>\n",
              "      const buttonEl =\n",
              "        document.querySelector('#df-9248b589-49a5-452a-959f-9cc8cc2378f6 button.colab-df-convert');\n",
              "      buttonEl.style.display =\n",
              "        google.colab.kernel.accessAllowed ? 'block' : 'none';\n",
              "\n",
              "      async function convertToInteractive(key) {\n",
              "        const element = document.querySelector('#df-9248b589-49a5-452a-959f-9cc8cc2378f6');\n",
              "        const dataTable =\n",
              "          await google.colab.kernel.invokeFunction('convertToInteractive',\n",
              "                                                    [key], {});\n",
              "        if (!dataTable) return;\n",
              "\n",
              "        const docLinkHtml = 'Like what you see? Visit the ' +\n",
              "          '<a target=\"_blank\" href=https://colab.research.google.com/notebooks/data_table.ipynb>data table notebook</a>'\n",
              "          + ' to learn more about interactive tables.';\n",
              "        element.innerHTML = '';\n",
              "        dataTable['output_type'] = 'display_data';\n",
              "        await google.colab.output.renderOutput(dataTable, element);\n",
              "        const docLink = document.createElement('div');\n",
              "        docLink.innerHTML = docLinkHtml;\n",
              "        element.appendChild(docLink);\n",
              "      }\n",
              "    </script>\n",
              "  </div>\n",
              "\n",
              "\n",
              "<div id=\"df-19db951d-67ea-411a-bb20-3ac5db8bac72\">\n",
              "  <button class=\"colab-df-quickchart\" onclick=\"quickchart('df-19db951d-67ea-411a-bb20-3ac5db8bac72')\"\n",
              "            title=\"Suggest charts\"\n",
              "            style=\"display:none;\">\n",
              "\n",
              "<svg xmlns=\"http://www.w3.org/2000/svg\" height=\"24px\"viewBox=\"0 0 24 24\"\n",
              "     width=\"24px\">\n",
              "    <g>\n",
              "        <path d=\"M19 3H5c-1.1 0-2 .9-2 2v14c0 1.1.9 2 2 2h14c1.1 0 2-.9 2-2V5c0-1.1-.9-2-2-2zM9 17H7v-7h2v7zm4 0h-2V7h2v10zm4 0h-2v-4h2v4z\"/>\n",
              "    </g>\n",
              "</svg>\n",
              "  </button>\n",
              "\n",
              "<style>\n",
              "  .colab-df-quickchart {\n",
              "      --bg-color: #E8F0FE;\n",
              "      --fill-color: #1967D2;\n",
              "      --hover-bg-color: #E2EBFA;\n",
              "      --hover-fill-color: #174EA6;\n",
              "      --disabled-fill-color: #AAA;\n",
              "      --disabled-bg-color: #DDD;\n",
              "  }\n",
              "\n",
              "  [theme=dark] .colab-df-quickchart {\n",
              "      --bg-color: #3B4455;\n",
              "      --fill-color: #D2E3FC;\n",
              "      --hover-bg-color: #434B5C;\n",
              "      --hover-fill-color: #FFFFFF;\n",
              "      --disabled-bg-color: #3B4455;\n",
              "      --disabled-fill-color: #666;\n",
              "  }\n",
              "\n",
              "  .colab-df-quickchart {\n",
              "    background-color: var(--bg-color);\n",
              "    border: none;\n",
              "    border-radius: 50%;\n",
              "    cursor: pointer;\n",
              "    display: none;\n",
              "    fill: var(--fill-color);\n",
              "    height: 32px;\n",
              "    padding: 0;\n",
              "    width: 32px;\n",
              "  }\n",
              "\n",
              "  .colab-df-quickchart:hover {\n",
              "    background-color: var(--hover-bg-color);\n",
              "    box-shadow: 0 1px 2px rgba(60, 64, 67, 0.3), 0 1px 3px 1px rgba(60, 64, 67, 0.15);\n",
              "    fill: var(--button-hover-fill-color);\n",
              "  }\n",
              "\n",
              "  .colab-df-quickchart-complete:disabled,\n",
              "  .colab-df-quickchart-complete:disabled:hover {\n",
              "    background-color: var(--disabled-bg-color);\n",
              "    fill: var(--disabled-fill-color);\n",
              "    box-shadow: none;\n",
              "  }\n",
              "\n",
              "  .colab-df-spinner {\n",
              "    border: 2px solid var(--fill-color);\n",
              "    border-color: transparent;\n",
              "    border-bottom-color: var(--fill-color);\n",
              "    animation:\n",
              "      spin 1s steps(1) infinite;\n",
              "  }\n",
              "\n",
              "  @keyframes spin {\n",
              "    0% {\n",
              "      border-color: transparent;\n",
              "      border-bottom-color: var(--fill-color);\n",
              "      border-left-color: var(--fill-color);\n",
              "    }\n",
              "    20% {\n",
              "      border-color: transparent;\n",
              "      border-left-color: var(--fill-color);\n",
              "      border-top-color: var(--fill-color);\n",
              "    }\n",
              "    30% {\n",
              "      border-color: transparent;\n",
              "      border-left-color: var(--fill-color);\n",
              "      border-top-color: var(--fill-color);\n",
              "      border-right-color: var(--fill-color);\n",
              "    }\n",
              "    40% {\n",
              "      border-color: transparent;\n",
              "      border-right-color: var(--fill-color);\n",
              "      border-top-color: var(--fill-color);\n",
              "    }\n",
              "    60% {\n",
              "      border-color: transparent;\n",
              "      border-right-color: var(--fill-color);\n",
              "    }\n",
              "    80% {\n",
              "      border-color: transparent;\n",
              "      border-right-color: var(--fill-color);\n",
              "      border-bottom-color: var(--fill-color);\n",
              "    }\n",
              "    90% {\n",
              "      border-color: transparent;\n",
              "      border-bottom-color: var(--fill-color);\n",
              "    }\n",
              "  }\n",
              "</style>\n",
              "\n",
              "  <script>\n",
              "    async function quickchart(key) {\n",
              "      const quickchartButtonEl =\n",
              "        document.querySelector('#' + key + ' button');\n",
              "      quickchartButtonEl.disabled = true;  // To prevent multiple clicks.\n",
              "      quickchartButtonEl.classList.add('colab-df-spinner');\n",
              "      try {\n",
              "        const charts = await google.colab.kernel.invokeFunction(\n",
              "            'suggestCharts', [key], {});\n",
              "      } catch (error) {\n",
              "        console.error('Error during call to suggestCharts:', error);\n",
              "      }\n",
              "      quickchartButtonEl.classList.remove('colab-df-spinner');\n",
              "      quickchartButtonEl.classList.add('colab-df-quickchart-complete');\n",
              "    }\n",
              "    (() => {\n",
              "      let quickchartButtonEl =\n",
              "        document.querySelector('#df-19db951d-67ea-411a-bb20-3ac5db8bac72 button');\n",
              "      quickchartButtonEl.style.display =\n",
              "        google.colab.kernel.accessAllowed ? 'block' : 'none';\n",
              "    })();\n",
              "  </script>\n",
              "</div>\n",
              "\n",
              "  <div id=\"id_009d893c-41cd-4f1c-88f5-6f96c4212267\">\n",
              "    <style>\n",
              "      .colab-df-generate {\n",
              "        background-color: #E8F0FE;\n",
              "        border: none;\n",
              "        border-radius: 50%;\n",
              "        cursor: pointer;\n",
              "        display: none;\n",
              "        fill: #1967D2;\n",
              "        height: 32px;\n",
              "        padding: 0 0 0 0;\n",
              "        width: 32px;\n",
              "      }\n",
              "\n",
              "      .colab-df-generate:hover {\n",
              "        background-color: #E2EBFA;\n",
              "        box-shadow: 0px 1px 2px rgba(60, 64, 67, 0.3), 0px 1px 3px 1px rgba(60, 64, 67, 0.15);\n",
              "        fill: #174EA6;\n",
              "      }\n",
              "\n",
              "      [theme=dark] .colab-df-generate {\n",
              "        background-color: #3B4455;\n",
              "        fill: #D2E3FC;\n",
              "      }\n",
              "\n",
              "      [theme=dark] .colab-df-generate:hover {\n",
              "        background-color: #434B5C;\n",
              "        box-shadow: 0px 1px 3px 1px rgba(0, 0, 0, 0.15);\n",
              "        filter: drop-shadow(0px 1px 2px rgba(0, 0, 0, 0.3));\n",
              "        fill: #FFFFFF;\n",
              "      }\n",
              "    </style>\n",
              "    <button class=\"colab-df-generate\" onclick=\"generateWithVariable('all_model_results')\"\n",
              "            title=\"Generate code using this dataframe.\"\n",
              "            style=\"display:none;\">\n",
              "\n",
              "  <svg xmlns=\"http://www.w3.org/2000/svg\" height=\"24px\"viewBox=\"0 0 24 24\"\n",
              "       width=\"24px\">\n",
              "    <path d=\"M7,19H8.4L18.45,9,17,7.55,7,17.6ZM5,21V16.75L18.45,3.32a2,2,0,0,1,2.83,0l1.4,1.43a1.91,1.91,0,0,1,.58,1.4,1.91,1.91,0,0,1-.58,1.4L9.25,21ZM18.45,9,17,7.55Zm-12,3A5.31,5.31,0,0,0,4.9,8.1,5.31,5.31,0,0,0,1,6.5,5.31,5.31,0,0,0,4.9,4.9,5.31,5.31,0,0,0,6.5,1,5.31,5.31,0,0,0,8.1,4.9,5.31,5.31,0,0,0,12,6.5,5.46,5.46,0,0,0,6.5,12Z\"/>\n",
              "  </svg>\n",
              "    </button>\n",
              "    <script>\n",
              "      (() => {\n",
              "      const buttonEl =\n",
              "        document.querySelector('#id_009d893c-41cd-4f1c-88f5-6f96c4212267 button.colab-df-generate');\n",
              "      buttonEl.style.display =\n",
              "        google.colab.kernel.accessAllowed ? 'block' : 'none';\n",
              "\n",
              "      buttonEl.onclick = () => {\n",
              "        google.colab.notebook.generateWithVariable('all_model_results');\n",
              "      }\n",
              "      })();\n",
              "    </script>\n",
              "  </div>\n",
              "\n",
              "    </div>\n",
              "  </div>\n"
            ]
          },
          "metadata": {},
          "execution_count": 139
        },
        {
          "output_type": "display_data",
          "data": {
            "text/plain": [
              "<google.colab._quickchart_helpers.SectionTitle at 0x7ae4dbae2fb0>"
            ],
            "text/html": [
              "<h4 class=\"colab-quickchart-section-title\">Distributions</h4>\n",
              "<style>\n",
              "  .colab-quickchart-section-title {\n",
              "      clear: both;\n",
              "  }\n",
              "</style>"
            ]
          },
          "metadata": {}
        },
        {
          "output_type": "display_data",
          "data": {
            "text/plain": [
              "from matplotlib import pyplot as plt\n",
              "all_model_results['accuracy'].plot(kind='hist', bins=20, title='accuracy')\n",
              "plt.gca().spines[['top', 'right',]].set_visible(False)"
            ],
            "text/html": [
              "      <div class=\"colab-quickchart-chart-with-code\" id=\"chart-2d8446c2-9767-4e73-b821-aac762a4892a\">\n",
              "        <img style=\"width: 180px;\" src=\"data:image/png;base64,iVBORw0KGgoAAAANSUhEUgAAAioAAAGrCAYAAADuNLxTAAAAOXRFWHRTb2Z0d2FyZQBNYXRwbG90\n",
              "bGliIHZlcnNpb24zLjcuMSwgaHR0cHM6Ly9tYXRwbG90bGliLm9yZy/bCgiHAAAACXBIWXMAAA9h\n",
              "AAAPYQGoP6dpAAAjo0lEQVR4nO3deXRU5eH/8c+Q6LhA2DGREAJkYQkkspUG/YpwrGAxKEhdyqYC\n",
              "gSLqQaui0oqlBmt7FLVKIIgLiiCJSsFqZRFRUBJQRLYQTEjESBCEwYVAJs/vD4/zY0wGCc4lzyTv\n",
              "1zlzjnPnmZvn4TKct3duZlzGGCMAAAALNajtCQAAAARCqAAAAGsRKgAAwFqECgAAsBahAgAArEWo\n",
              "AAAAaxEqAADAWoQKAACwFqECAACsRagAAABrESoAAMBahAqAkOP1elVZWVnb0wBwBhAqAE7Zv//9\n",
              "byUlJSkiIkKRkZEaOXKkvv76a9/jzz//vFJSUtS4cWNdcMEFuv32232Pbd++XWlpaYqMjFTjxo3V\n",
              "p08flZSUSJJiY2OVlZXl97NcLpdWrFghSXr33Xflcrn0yiuvKCEhQeedd57Kysr06quvqkePHmra\n",
              "tKlatGihtLQ0FRYW+u1n+fLl6tOnj5o2barmzZvr2muvlSSNHDlSN910k9/YvLw8ud1ulZWVBe8P\n",
              "DcCvQqgAOGWRkZHKycnRoUOH9NFHHyk/P1+TJ0+WJGVlZemuu+7SP//5Tx04cEAFBQUaOnSoJGnf\n",
              "vn265JJLlJSUpPz8fB08eFBPPvmkzj333Br9/EWLFmn9+vXyeDxq2bKlGjVqpGeffVZff/21duzY\n",
              "IWOMbrzxRt/4d955R9dee63uvPNO7du3T3v37tXEiRMlSRMnTtTixYt1+PBh3/jMzExdc801atWq\n",
              "1a/9owIQLAYATlNOTo5p1qyZMcaYLl26mEcffbTacY8++qjp0qVLwP20bdvWzJ0712+bJPPOO+8Y\n",
              "Y4xZvXq1kWR27Nhx0vls2rTJSDIej8cYY8zvf/97M2nSpIDjk5OTzVNPPWWMMebw4cPm/PPPN6tX\n",
              "rz7pzwBwZnFGBcApy8nJUWpqqlq1aqWIiAiNHDlSBw8elNfrVWFhoRITE6t93skeq4l27dr53V+z\n",
              "Zo0GDBigqKgoRURE6NJLL5Uk31s3v/RzJ06cqDlz5kiSXnrpJUVHR6tfv36/ep4AgodQAXBKvvji\n",
              "Cw0fPlyTJ09WcXGxPB6PXnzxRUmSMUaxsbHKz8+v9rmxsbHatWtXwH03atRI3333ne/+l19+We24\n",
              "Bg3+/z9Zx44d0+DBgzVw4EDl5+fL4/FozZo1vvn89HMDzUmS/vjHP6qoqEgffvihMjMzlZ6eHnAs\n",
              "gNpBqAA4Jd9++60qKyvVokULnXPOOdq1a5cyMjJ8j99+++165JFHtGrVKnm9Xh05csQXDqNGjdIX\n",
              "X3yhadOm6ciRI/J6vcrLy/NdiNuzZ08tXLhQhw4dksfj0b333vuL8zl27Jh++OEHNW3aVI0aNdKX\n",
              "X36pBx54wG/M7bffrnnz5ik7O1vHjh3T0aNHtXLlSt/jDRs21MiRIzVp0iTt3LlTo0ePDsYfFYAg\n",
              "IlQAnJKOHTsqIyNDo0aNUqNGjTR69GiNGDHC9/j48eOVkZGhO+64Q02bNlV8fLxef/11SdIFF1yg\n",
              "9957Txs3blS7du3UvHlzTZ48WUePHpUkzZgxQxEREWrTpo169Oiha6655hfn07BhQ2VlZWnGjBlq\n",
              "2LChBg0apOHDh/uN+d3vfqeFCxdq5syZatmypaKjo5WZmek3ZsKECdq0aZOGDx+uZs2a/co/JQDB\n",
              "5jI/nSMFgHro0KFDioyM1MqVK9W3b9/ang6An+GMCoB6y+v16pFHHlFycjKRAlgqvLYnAAC1YcuW\n",
              "LerTp49at26tV199tbanAyAA3voBAADW4q0fAABgLUIFAABYi1ABAADWIlQAAIC16kSozJo1q7an\n",
              "AAAAHFAnQmXPnj21PQUAAOCAOhEqAACgbiJUAACAtQgVAABgLUIFAABYi1ABAADWIlQAAIC1CBUA\n",
              "AGAtQgUAAFiLUAEAANYiVAAAgLUIFQAAYC1CBQAAWMvRULntttsUGxsrl8ulTz75JOC4efPmKT4+\n",
              "Xh06dNC4ceN0/PhxJ6cFAABChKOhcu211+r9999X27ZtA44pLCzUtGnTtHbtWhUUFGjfvn2aM2eO\n",
              "k9MCAAAhwtFQ+b//+z9FR0efdMySJUuUlpamyMhIuVwuTZgwQQsXLgw4vry8XB6Px+/m9XqDPXUA\n",
              "AGCB8NqeQHFxsd8Zl9jYWBUXFwccn5GRoenTp/tt69OnjyNzi713uSP7laSimb93bN84M5z6++Hk\n",
              "3w0n/047hdfKmcG/d6EvFP9NOhUhdzHt1KlTdfjwYb9b7969a3taAADAAbV+RiUmJka7d+/23S8q\n",
              "KlJMTEzA8W63W263229bWFiYY/MDAAC1p9bPqAwbNkxLly7VV199JWOMZs+ereuvv762pwUAACzg\n",
              "aKikp6crOjpaX3zxha644grFxcVJksaOHaulS5dKktq3b6/p06erb9++iouLU8uWLZWenu7ktAAA\n",
              "QIhw9K2fzMzMardnZWX53R83bpzGjRvn5FQAAEAIqvW3fgAAAAIhVAAAgLUIFQAAYC1CBQAAWItQ\n",
              "AQAA1iJUAACAtQgVAABgLUIFAABYi1ABAADWIlQAAIC1CBUAAGAtQgUAAFiLUAEAANYiVAAAgLUI\n",
              "FQAAYC1CBQAAWItQAQAA1iJUAACAtQgVAABgLUIFAABYi1ABAADWIlQAAIC1CBUAAGAtQgUAAFiL\n",
              "UAEAANYiVAAAgLUIFQAAYC1CBQAAWItQAQAA1iJUAACAtQgVAABgLUIFAABYi1ABAADWIlQAAIC1\n",
              "CBUAAGAtQgUAAFiLUAEAANYiVAAAgLUIFQAAYC1CBQAAWItQAQAA1iJUAACAtQgVAABgLUIFAABY\n",
              "i1ABAADWIlQAAIC1CBUAAGAtQgUAAFiLUAEAANYiVAAAgLUIFQAAYC1CBQAAWItQAQAA1iJUAACA\n",
              "tQgVAABgLUIFAABYi1ABAADWIlQAAIC1CBUAAGAtQgUAAFiLUAEAANZyNFR27dql1NRUJSQkqFev\n",
              "Xtq6dWuVMZWVlZoyZYo6d+6sbt266bLLLlNBQYGT0wIAACHC0VBJT0/X+PHjlZ+fr3vuuUdjxoyp\n",
              "Mmbp0qX64IMPtHnzZn366acaMGCA7rvvPienBQAAQoRjoVJWVqa8vDyNGDFCkjRs2DCVlJRUOVvi\n",
              "crlUXl6uo0ePyhgjj8ej6Ohop6YFAABCSLhTOy4pKVFUVJTCw3/8ES6XSzExMSouLlZcXJxv3FVX\n",
              "XaXVq1crMjJSjRo1UuvWrbVmzZqA+y0vL1d5ebnfNq/X68wiAABArar1i2nz8vL02Wefae/evfry\n",
              "yy81YMAATZgwIeD4jIwMNW7c2O+2YcOGMzhjAABwpjgWKm3atFFpaakqKiokScYYFRcXKyYmxm/c\n",
              "Cy+8oP79+6tJkyZq0KCBRo8erdWrVwfc79SpU3X48GG/W+/evZ1aBgAAqEWOhUqrVq3UvXt3LViw\n",
              "QJKUnZ2t6Ohov7d9JKl9+/ZatWqVjh07JklatmyZkpKSAu7X7XYrIiLC7xYWFubUMgAAQC1y7BoV\n",
              "ScrMzNSYMWP08MMPKyIiQvPnz5ckjR07VmlpaUpLS9OkSZO0fft2JScn66yzzlJkZKRmz57t5LQA\n",
              "AECIcDRUEhMTtX79+irbs7KyfP/tdrs1d+5cJ6cBAABCVK1fTAsAABAIoQIAAKxFqAAAAGsRKgAA\n",
              "wFqECgAAsBahAgAArEWoAAAAaxEqAADAWoQKAACwFqECAACsRagAAABrESoAAMBahAoAALAWoQIA\n",
              "AKxFqAAAAGsRKgAAwFqECgAAsBahAgAArEWoAAAAaxEqAADAWoQKAACwFqECAACsRagAAABrESoA\n",
              "AMBahAoAALAWoQIAAKxFqAAAAGsRKgAAwFqECgAAsBahAgAArEWoAAAAaxEqAADAWoQKAACwFqEC\n",
              "AACsRagAAABrESoAAMBahAoAALAWoQIAAKxFqAAAAGsRKgAAwFqECgAAsBahAgAArEWoAAAAaxEq\n",
              "AADAWoQKAACwFqECAACsRagAAABrESoAAMBahAoAALAWoQIAAKxFqAAAAGsRKgAAwFqECgAAsBah\n",
              "AgAArEWoAAAAaxEqAADAWoQKAACwFqECAACsRagAAABrESoAAMBahAoAALAWoQIAAKzlaKjs2rVL\n",
              "qampSkhIUK9evbR169Zqx23ZskX9+vVTp06d1KlTJ+Xk5Dg5LQAAECLCndx5enq6xo8frzFjxmjJ\n",
              "kiUaM2aMcnNz/cZ8//33GjJkiF544QVdfPHF8nq9OnjwoJPTAgAAIcKxMyplZWXKy8vTiBEjJEnD\n",
              "hg1TSUmJCgoK/Ma9/PLL6tOnjy6++GJJUlhYmFq2bBlwv+Xl5fJ4PH43r9fr1DIAAEAtcixUSkpK\n",
              "FBUVpfDwH0/auFwuxcTEqLi42G/ctm3b5Ha7NXjwYKWkpGjUqFHav39/wP1mZGSocePGfrcNGzY4\n",
              "tQwAAFCLahwqb7/9dlAnUFFRoRUrVigzM1Mff/yxWrdurYkTJwYcP3XqVB0+fNjv1rt376DOCQAA\n",
              "2KHGofLQQw8pMTFRs2bNksfjCTiuTZs2Ki0tVUVFhSTJGKPi4mLFxMT4jYuJidFll12m1q1by+Vy\n",
              "acSIEfrwww8D7tftdisiIsLvFhYWVtNlAACAEFDjUPnggw/0yiuv6LPPPlNCQoL+9Kc/adu2bVXG\n",
              "tWrVSt27d9eCBQskSdnZ2YqOjlZcXJzfuD/84Q/Kzc31Rc+bb76p5OTk01kLAACoY07rGpWLLrpI\n",
              "c+fO1VtvvaVly5apW7duuvzyy7Vlyxa/cZmZmcrMzFRCQoJmzpyp+fPnS5LGjh2rpUuXSvrxjMp9\n",
              "992n1NRUdevWTatWrdLs2bN/5bIAAEBdcFq/nrxixQo9+eST2rJliyZNmqRbbrlF7777rq655hq/\n",
              "3+pJTEzU+vXrqzw/KyvL7/7IkSM1cuTI05kKAACow2ocKp06dVKLFi102223aejQob7rQ6699lrN\n",
              "mzcv6BMEAAD1V41DZcGCBerRo0e1j/33v//91RMCAAD4SY2vUdm4caPfJ8ceOHBAc+fODeqkAAAA\n",
              "pNMIlaefflrNmjXz3W/evLmefvrpoE4KAABAOo1QMcZU2cZH2AMAACfUOFSioqK0ePFi3/1FixYp\n",
              "KioqqJMCAACQTuNi2scff1xDhgzR3XffLUk677zz9MYbbwR9YgAAADUOlY4dO2rbtm3auXOnpB8/\n",
              "K4WPsAcAAE44rQ98c7lcatKkiSoqKrR3715JqvIdPgAAAL9WjUPlueee02233aazzjpLDRr8eImL\n",
              "y+VSWVlZ0CcHAADqtxqHyt/+9jfl5uYqMTHRifkAAAD41Pi3flq0aEGkAACAM6LGoXL11Vfr8ccf\n",
              "V1lZmTwej+8GAAAQbDV+6+f++++XJE2ZMkUul0vGGLlcLj70DQAABF2NQ6WystKJeQAAAFRR47d+\n",
              "pB+/mPDFF1+UJB06dEilpaVBnRQAAIB0ml9KePPNN+vBBx+U9OO3J994443BnhcAAEDNQ2XOnDn6\n",
              "8MMPFRERIUnq0KGD9u/fH/SJAQAA1DhU3G63zj33XL9t4eGn9QG3AAAAJ1XjUGnZsqXy8/Plcrkk\n",
              "/fhJtXx8PgAAcMJpfXvyDTfcoB07dqhNmzaKiIjQsmXLnJgbAACo52ocKnFxcfroo4+0c+dOGWP4\n",
              "9mQAAOCYGodKcXGxJOn888+XJL49GQAAOKbGodKjRw/fJ9IePXpU33//vZo3b863JwMAgKCrcaj8\n",
              "/FeRc3JytHnz5qBNCAAA4Cen9cm0Jxo6dKiWL18ejLkAAAD4qfEZlRO/Kdnr9eqjjz7i25MBAIAj\n",
              "ahwqTZo08V2jEhYWpvj4eD3xxBNOzA0AANRzfHsyAACw1q++RgUAAMApNT6j0qBBA9/H55/IGCOX\n",
              "yyWv1xuUiQEAANQ4VB566CH98MMPmjhxoiRp9uzZOvfcc3XHHXcEe24AAKCeq3GovPbaa9q4caPv\n",
              "/owZM9SjRw/df//9QZ0YAABAja9ROXLkiN+n0JaVlenIkSNBnRQAAIB0GmdU7rzzTiUnJ+vKK6+U\n",
              "JL311lt68MEHgz0vAACAmodKenq6+vbtq9WrV0uSpkyZoi5dugR9YgAAADUOFUlq3ry5unbtqn79\n",
              "+qmiokLHjh3T2WefHey5AQCAeq7G16gsWbJEffr00U033SRJ2rp1q66++upgzwsAAKDmoZKRkaFN\n",
              "mzapSZMmkqTk5GTt2bMn2PMCAACoeaiEhYWpefPmftt42wcAADihxqHSqFEj7du3z/fptCtXrlSz\n",
              "Zs2CPjEAAIAaX0z7yCOPaNCgQfr888918cUXq7CwUMuXL3dibgAAoJ6rUahUVlbK6/Vq9erVWrdu\n",
              "nYwxSk1N9V2vAgAAEEw1CpUGDRpo/Pjx2rx5swYNGuTUnAAAACSdxjUq8fHxKigocGIuAAAAfmp8\n",
              "jcrBgweVkpKi1NRUNWzY0Lc9JycnqBMDAAA45VAZP3685syZo9GjRystLU1NmzZ1cl4AAACnHip5\n",
              "eXmSpNGjR6t79+7atGmTY5MCAACQTuMaFUkyxgR7HgAAAFWc8hmVH374QVu2bJExRkePHvX990+6\n",
              "devmyAQBAED9VaNQSUtL890/8b9dLpc+//zz4M4MAADUe6ccKkVFRQ5OAwAAoKrTukYFAADgTCBU\n",
              "AACAtQgVAABgLUIFAABYi1ABAADWIlQAAIC1CBUAAGAtQgUAAFiLUAEAANZyNFR27dql1NRUJSQk\n",
              "qFevXtq6dWvAscYY9e/fX02aNHFySgAAIIQ4Girp6ekaP3688vPzdc8992jMmDEBxz722GPq0KGD\n",
              "k9MBAAAhxrFQKSsrU15enkaMGCFJGjZsmEpKSlRQUFBl7NatW/X666/r3nvv/cX9lpeXy+Px+N28\n",
              "Xm/Q5w8AAGqfY6FSUlKiqKgohYf/+L2HLpdLMTExKi4u9ht3/PhxjRs3TpmZmQoLC/vF/WZkZKhx\n",
              "48Z+tw0bNjiyBgAAULtq/WLa6dOna+jQoerUqdMpjZ86daoOHz7sd+vdu7fDswQAALUh3Kkdt2nT\n",
              "RqWlpaqoqFB4eLiMMSouLlZMTIzfuDVr1qi4uFhPPfWUKioq5PF4FBsbq9zcXLVs2bLKft1ut9xu\n",
              "t9+2UzkTAwAAQo9jZ1RatWql7t27a8GCBZKk7OxsRUdHKy4uzm/c2rVrtWfPHhUVFen9999XRESE\n",
              "ioqKqo0UAABQvzj61k9mZqYyMzOVkJCgmTNnav78+ZKksWPHaunSpU7+aAAAUAc49taPJCUmJmr9\n",
              "+vVVtmdlZVU7PjY2VocOHXJySgAAIITU+sW0AAAAgRAqAADAWoQKAACwFqECAACsRagAAABrESoA\n",
              "AMBahAoAALAWoQIAAKxFqAAAAGsRKgAAwFqECgAAsBahAgAArEWoAAAAaxEqAADAWoQKAACwFqEC\n",
              "AACsRagAAABrESoAAMBahAoAALAWoQIAAKxFqAAAAGsRKgAAwFqECgAAsBahAgAArEWoAAAAaxEq\n",
              "AADAWoQKAACwFqECAACsRagAAABrESoAAMBahAoAALAWoQIAAKxFqAAAAGsRKgAAwFqECgAAsBah\n",
              "AgAArEWoAAAAaxEqAADAWoQKAACwFqECAACsRagAAABrESoAAMBahAoAALAWoQIAAKxFqAAAAGsR\n",
              "KgAAwFqECgAAsBahAgAArEWoAAAAaxEqAADAWoQKAACwFqECAACsRagAAABrESoAAMBahAoAALAW\n",
              "oQIAAKxFqAAAAGsRKgAAwFqECgAAsBahAgAArEWoAAAAaxEqAADAWo6Gyq5du5SamqqEhAT16tVL\n",
              "W7durTJm1apV6t27tzp37qwuXbro7rvvVmVlpZPTAgAAIcLRUElPT9f48eOVn5+ve+65R2PGjKky\n",
              "pmnTpnrllVe0bds2bdy4UevWrdMLL7zg5LQAAECIcCxUysrKlJeXpxEjRkiShg0bppKSEhUUFPiN\n",
              "u+iii9S+fXtJ0jnnnKOUlBQVFRUF3G95ebk8Ho/fzev1OrUMAABQixwLlZKSEkVFRSk8PFyS5HK5\n",
              "FBMTo+Li4oDP+eqrr7RkyRINHjw44JiMjAw1btzY77Zhw4agzx8AANQ+ay6m9Xg8uuqqq3T33Xer\n",
              "Z8+eAcdNnTpVhw8f9rv17t37DM4UAACcKeFO7bhNmzYqLS1VRUWFwsPDZYxRcXGxYmJiqow9cuSI\n",
              "Bg4cqCFDhmjKlCkn3a/b7Zbb7fbbFhYWFtS5AwAAOzh2RqVVq1bq3r27FixYIEnKzs5WdHS04uLi\n",
              "/MZ9++23GjhwoAYOHKgHHnjAqekAAIAQ5OhbP5mZmcrMzFRCQoJmzpyp+fPnS5LGjh2rpUuXSpJm\n",
              "zZqlDRs2KCcnRykpKUpJSdHf//53J6cFAABChGNv/UhSYmKi1q9fX2V7VlaW77/vv/9+3X///U5O\n",
              "AwAAhChrLqYFAAD4OUIFAABYi1ABAADWIlQAAIC1CBUAAGAtQgUAAFiLUAEAANYiVAAAgLUIFQAA\n",
              "YC1CBQAAWItQAQAA1iJUAACAtQgVAABgLUIFAABYi1ABAADWIlQAAIC1CBUAAGAtQgUAAFiLUAEA\n",
              "ANYiVAAAgLUIFQAAYC1CBQAAWItQAQAA1iJUAACAtQgVAABgLUIFAABYi1ABAADWIlQAAIC1CBUA\n",
              "AGAtQgUAAFiLUAEAANYiVAAAgLUIFQAAYC1CBQAAWItQAQAA1iJUAACAtQgVAABgLUIFAABYi1AB\n",
              "AADWIlQAAIC1CBUAAGAtQgUAAFiLUAEAANYiVAAAgLUIFQAAYC1CBQAAWItQAQAA1iJUAACAtQgV\n",
              "AABgLUIFAABYi1ABAADWIlQAAIC1CBUAAGAtQgUAAFiLUAEAANYiVAAAgLUIFQAAYC1CBQAAWItQ\n",
              "AQAA1iJUAACAtQgVAABgLUdDZdeuXUpNTVVCQoJ69eqlrVu3Vjtu3rx5io+PV4cOHTRu3DgdP37c\n",
              "yWkBAIAQ4WiopKena/z48crPz9c999yjMWPGVBlTWFioadOmae3atSooKNC+ffs0Z84cJ6cFAABC\n",
              "hGOhUlZWpry8PI0YMUKSNGzYMJWUlKigoMBv3JIlS5SWlqbIyEi5XC5NmDBBCxcuDLjf8vJyeTwe\n",
              "v5vX63VqGQAAoBa5jDHGiR1v3LhRN954o3bu3Onb1rt3b82cOVP9+/f3bZs8ebIuvPBCTZ06VZK0\n",
              "bds2DRw4UMXFxdXu98EHH9T06dP9tnXs2FGDBg3y2+b1erVhwwb17t1bYWFhwVpWyKjP62ftrL2+\n",
              "rV2q3+tn7aG79rZt2+r2228/6ZjwMzSXoJk6daqmTJnit83tdsvtdvtt83g8aty4sd5++21FRESc\n",
              "ySlaoT6vn7Wz9vq2dql+r5+11+21OxYqbdq0UWlpqSoqKhQeHi5jjIqLixUTE+M3LiYmRrt37/bd\n",
              "LyoqqjLmRNVFCQAAqJscu0alVatW6t69uxYsWCBJys7OVnR0tOLi4vzGDRs2TEuXLtVXX30lY4xm\n",
              "z56t66+/3qlpAQCAEOLob/1kZmYqMzNTCQkJmjlzpubPny9JGjt2rJYuXSpJat++vaZPn66+ffsq\n",
              "Li5OLVu2VHp6upPTAgAAIcLRa1QSExO1fv36KtuzsrL87o8bN07jxo0L6s92u93661//Wm/fJqrP\n",
              "62ftrL0+qs/rZ+11e+2O/dYPAADAr8VH6AMAAGsRKgAAwFqECgAAsBahAgAArBWSoVJeXq5bb71V\n",
              "8fHx6tq1q+/7hGJjY5WYmKiUlBSlpKRo0aJFAfcRqt/YXN3aDxw44FtzSkqKEhISFB4eroMHD1Z5\n",
              "flFRkcLCwvzGn/iBe7Y62RrLyso0cOBAxcfHKykpSe+9917A/SxbtkwdO3ZUfHy8hg4dKo/HcwZX\n",
              "cfpOtv6bbrpJCQkJSk5OVt++fZWbmxtwPy6XS127dvXtZ+3atWdwFafnZGvv16+f2rVr53vsscce\n",
              "C7ifUDz2J1v7b37zG9/2pKQkuVwuffrpp9XuJxSPuyS9+eab6t69u2+Nzz//vCTVi9d8oLXX9dd7\n",
              "tUwIuuOOO8ytt95qKisrjTHGlJaWGmOMadu2rfn4449/8fmff/65iYqKMqWlpaaystJcddVV5qmn\n",
              "nnJyykETaO0nevTRR83gwYOrfX5hYaFp3Lixk1M8I05c40033WT++te/GmOM2bBhg2ndurU5duxY\n",
              "leccOXLEtGrVymzfvt0YY8ykSZPMXXfddcbmHEwnrv+NN94wx48fN8YY85///Me0bds24PMkmW++\n",
              "+eYMzNA5J6790ksvNa+99tovPqeuHPtAr+1XX33VJCUlBXxeKB73yspK07RpU7N582ZjzI//drnd\n",
              "buPxeOr8a/5ka69vr3djjAm5UPn2229No0aNzOHDh6s8dqqh8o9//MOkp6f77i9fvtz07ds3mNN0\n",
              "xMnWfqKOHTsG/Me7roTKiWs8//zz/YKtV69e5p133qnynMWLF5srrrjCd3/r1q2mdevWjs/VCYGO\n",
              "8f79+014eLjvH7Kfqwv/cJ249lMNlbpy7AMd94EDB5rHHnss4PNC8bhXVlaaZs2amTVr1hhjjNm8\n",
              "ebO58MILTXl5eZ1/zZ9s7SeqD693Y4wJubd+du/erWbNmunhhx9Wz549dckll2jlypW+x0eNGqWu\n",
              "Xbvqlltu0f79+6vdR3Fxsdq2beu7HxsbG/Dbmm3yS2uXpHXr1umbb77R4MGDA+7nu+++U69evdS9\n",
              "e3c99NBD8nq9Tk89qE5c44EDB3T8+HFFRkb6Hg90PKs77j99H1UoOdkxnjVrlq688kqFhwf+LMcB\n",
              "AwYoOTlZU6ZM0XfffefkVIOuurXfe++96tq1q6677jp9/vnn1T6vLhz7QMe9pKREa9as8b0FHkio\n",
              "HXeXy6VFixZp6NChatu2rS6++GI9//zzOnLkSJ1/zQda+9lnn+03rq6/3n8ScqFSUVGhPXv2qHPn\n",
              "zsrLy9MTTzyh6667Tvv27dN7772nTz/9VJs2bVKLFi00evTo2p5uUJ1s7T+ZN2+eRo0aFfAvblRU\n",
              "lPbu3avc3FytWLFCa9eu1b/+9a8ztYSg+KU11nWB1r9gwQItXrxYc+bMCfjcPXv2aOPGjVq3bp32\n",
              "79+vP//5z05PN6h+vvYXX3xRO3bs0KeffqpLLrnkpIEe6gId9+eee06DBw9WixYtAj43FI97RUWF\n",
              "ZsyYoZycHO3Zs0crV67UyJEjrY+MYAi09q+//to3pj683n1q+5ROTe3fv980aNDAVFRU+Lb17Nmz\n",
              "ymm/L7/80jRs2LDafYTqWz+/tPYjR46Yhg0b+t6PPRUvv/xywOtZbFTdGs8777w6fRr4RIGO8Suv\n",
              "vGLi4uLMnj17Tnlf69atO+l1DbY5lb/fbrfbfP3111W2h/qxD7T2yspK065dO/PWW2+d8r5C5bjn\n",
              "5uaa+Ph4v209e/Y0//vf/+r8a/5kazemfrzeTxRyZ1RatGihAQMG6O2335YkFRYWqrCwUJ06ddKh\n",
              "Q4d84xYuXKiLLrqo2n2E6jc2n2ztkrRo0SIlJyerY8eOAfdRVlbm+w2n8vJy5eTkBPxzslF1axw+\n",
              "fLhmz54tScrNzdXevXt16aWXVnnuwIEDtWnTJu3YsUOS9PTTT4fEcT9RdetfvHixHnjgAa1YsUIx\n",
              "MTEBn/vNN9/o+++/lyRVVlZq0aJFIX3sKyoq/M4mZmdn64ILLlDz5s2rPDfUj32g1/aqVatUUVGh\n",
              "yy+/POBzQ/W4t2nTRqWlpdq+fbskqaCgQLt371ZiYmKdf82fbO315fXup7ZL6XTs3r3b9OvXzyQl\n",
              "JZlu3bqZJUuWmN27d5uUlBTTtWtXk5SUZNLS0kxhYaHvObfccot54403fPfnzJlj2rdvb9q3b29u\n",
              "vvnmaq8Yt1F1a//Jb3/7W/Pss89Wec60adPMM888Y4wxJjs723Tp0sV069bNdO7c2dx6663m6NGj\n",
              "Z2z+v1Z1a/zqq6/M5ZdfbuLi4kznzp3NqlWrfI+duHZjfvwNmcTERNOhQwczZMgQc+jQoTM292Co\n",
              "bv3h4eEmOjraJCcn+24/nVV45plnzLRp04wxP/4fVdeuXX3HfsSIEebAgQNnfA2n6+dr//bbb02P\n",
              "Hj18r4X+/fubTz75xPd4XTr2gV7bN9xwg/nLX/5SZXtdOe4vv/yy7/gmJSWZl156yRhTP17zgdZe\n",
              "X17vJ+JLCQEAgLVC7q0fAABQfxAqAADAWoQKAACwFqECAACsRagAAABrESoAAMBahAoAALAWoQIA\n",
              "AKxFqAAAAGsRKgAAwFr/D3mWZQ1OQTJ3AAAAAElFTkSuQmCC\n",
              "\">\n",
              "      </div>\n",
              "      <script type=\"text/javascript\">\n",
              "        (() => {\n",
              "          const chartElement = document.getElementById(\"chart-2d8446c2-9767-4e73-b821-aac762a4892a\");\n",
              "          async function getCodeForChartHandler(event) {\n",
              "            const chartCodeResponse =  await google.colab.kernel.invokeFunction(\n",
              "                'getCodeForChart', [\"chart-2d8446c2-9767-4e73-b821-aac762a4892a\"], {});\n",
              "            const responseJson = chartCodeResponse.data['application/json'];\n",
              "            await google.colab.notebook.addCell(responseJson.code, 'code');\n",
              "          }\n",
              "          chartElement.onclick = getCodeForChartHandler;\n",
              "        })();\n",
              "      </script>\n",
              "      <style>\n",
              "        .colab-quickchart-chart-with-code  {\n",
              "            display: block;\n",
              "            float: left;\n",
              "            border: 1px solid transparent;\n",
              "        }\n",
              "\n",
              "        .colab-quickchart-chart-with-code:hover {\n",
              "            cursor: pointer;\n",
              "            border: 1px solid #aaa;\n",
              "        }\n",
              "      </style>"
            ]
          },
          "metadata": {}
        },
        {
          "output_type": "display_data",
          "data": {
            "text/plain": [
              "from matplotlib import pyplot as plt\n",
              "all_model_results['precision'].plot(kind='hist', bins=20, title='precision')\n",
              "plt.gca().spines[['top', 'right',]].set_visible(False)"
            ],
            "text/html": [
              "      <div class=\"colab-quickchart-chart-with-code\" id=\"chart-9047f812-3d20-42bb-81d2-c75ce5861d37\">\n",
              "        <img style=\"width: 180px;\" src=\"data:image/png;base64,iVBORw0KGgoAAAANSUhEUgAAAioAAAGrCAYAAADuNLxTAAAAOXRFWHRTb2Z0d2FyZQBNYXRwbG90\n",
              "bGliIHZlcnNpb24zLjcuMSwgaHR0cHM6Ly9tYXRwbG90bGliLm9yZy/bCgiHAAAACXBIWXMAAA9h\n",
              "AAAPYQGoP6dpAAAjdElEQVR4nO3deXDU9eH/8deSwCpXApEjEgJCSLgTg6QIfC3HWJByCFhEGyVi\n",
              "ICBoW1qllDocWomtbUUdSjjEoYyicmgGrE4RdJBDCCgiKOHeCJFQCSyCBJK8f38w7I81hwnsh7w3\n",
              "eT5mdob97DufvN/ZXeaZ3U/24zLGGAEAAFioVlVPAAAAoCyECgAAsBahAgAArEWoAAAAaxEqAADA\n",
              "WoQKAACwFqECAACsRagAAABrESoAAMBahAoAa23cuFH169dXUVHRT46dMGGCUlNTb8CsANxILj5C\n",
              "HwAA2IpXVAA4oqioSMXFxVU9DQBBjlABUGF9+vTR5MmTNWLECDVo0EAxMTFaunSpJOmjjz6Sy+XS\n",
              "8uXLFRsbq7p16yovL0+nT5/WxIkT1apVK0VERGjQoEE6dOiQb5+FhYX6xz/+oY4dO6pBgwaKiorS\n",
              "888/77fPwsJCSdKGDRt0xx13KCwsTBEREerVq5fy8/MlSSkpKUpOTvbt99ixYxo1apSaNWumZs2a\n",
              "6f7779fx48d9t6ekpGj06NGaPHmyIiIi1KxZMz399NOO/wwBVA6hAqBSFi9erEceeUT5+fl66aWX\n",
              "lJqaqk2bNvluf/PNN7VlyxZ5vV41adJEw4cPl9fr1Weffabjx4+rS5cuGjx4sC5duiRJmjlzpubN\n",
              "m6fXXntNZ86c0RdffKG77rqr1O+dnJysSZMm6fTp08rNzdULL7ygOnXqlBhXVFSkwYMHKyQkRNnZ\n",
              "2dq3b5+MMRo6dKjf8S6rV69W7969lZeXp3feeUfp6enasGFDgH9iAK4HoQKgUgYNGqQhQ4YoNDRU\n",
              "gwYN0vDhw/Xqq6/6bk9PT1dERITcbrd27dqlTZs2KSMjQ40bN5bb7dZzzz2nw4cP69NPP5UxRnPn\n",
              "zlV6erqSkpJUq1YtNW7cWHfeeWep37tOnTo6ePCgjh8/rjp16ujOO+9UvXr1Sozbtm2bdu3apXnz\n",
              "5iksLEzh4eH617/+pZ07d2r79u2+cb169dLo0aMVEhKiO++8UwkJCdq2bVvgf2gArhmhAqBSbrvt\n",
              "thLXc3JySr19//79KiwsVFRUlMLDwxUeHq6IiAhJUk5Ojv73v//p+++/V1xcXIW+d2Zmpg4dOqRu\n",
              "3bopJiZGM2bM8L0tdLWcnBw1btxYjRo18m2LiIhQo0aN5PF4fNtuvfVWv6+rV6+ezp49W6G5ALgx\n",
              "Qqt6AgCCy5EjR0pcj4qK8l2vVev///7TvHlz1alTRydPnlTt2rVL7MsYo/r16ys7O1tdunT5ye/d\n",
              "pUsXvf7665Kkzz//XAMGDFBUVJTGjRvnN65ly5bKz89Xfn6+L1ZOnTql/Px8RUdHV3itAKoer6gA\n",
              "qJT33ntPa9euVVFRkd5//32tXr1ajzzySKlje/furc6dO2vixInKy8uTJOXn52vlypU6f/68XC6X\n",
              "Hn/8cU2bNk1ZWVkyxujUqVPasmVLiX1dvHhRS5Ys0cmTJyVJYWFhCgkJUWhoyd+3kpKS1LlzZ02e\n",
              "PFler1dnzpzRpEmTlJCQoO7duwfwpwHAaYQKgEoZO3asFi9erPDwcE2aNEnz58/X//3f/5U6NiQk\n",
              "RP/9739Vt25d/exnP1ODBg0UHx+v1atXy+VySZJmz56t1NRU/frXv1aDBg3UtWtXbdy4sdT9rVix\n",
              "Qp06dVK9evX085//XCkpKRozZkyp33fNmjUqKChQTEyM2rVrp8LCQmVmZiokJCRwPwwAjuMD3wBU\n",
              "WJ8+fdS7d289++yzVT0VADUEr6gAAABrESoAAMBavPUDAACsxSsqAADAWoQKAACwFqECAACsRagA\n",
              "AABrVYtQmTt3blVPAQAAOKBahMrRo0eregoAAMAB1SJUAABA9USoAAAAaxEqAADAWoQKAACwFqEC\n",
              "AACsRagAAABrESoAAMBahAoAALAWoQIAAKxFqAAAAGsRKgAAwFqECgAAsJajofLEE0+odevWcrlc\n",
              "+vzzz8sct3jxYrVr105t27bVuHHjdOnSJSenBQAAgoSjoXLffffpk08+UatWrcocc/jwYT399NPa\n",
              "uHGjDhw4oBMnTmjBggVOTgsAAAQJR0PlrrvuUlRUVLljVqxYoaFDh6p58+ZyuVyaMGGC3njjjTLH\n",
              "FxQUyOv1+l2KiooCPXUAAGCB0KqegMfj8XvFpXXr1vJ4PGWOnzNnjmbNmuW3rUePHo7MrfUf1zqy\n",
              "X0k6kv5Lx/aNG8Opx4eTj41gnLNTgvH5HYxzxo1TXZ/fQXcw7bRp03TmzBm/S1JSUlVPCwAAOKDK\n",
              "X1GJjo7WwYMHfdePHDmi6OjoMse73W653W6/bSEhIY7NDwAAVJ0qf0Vl5MiRyszM1LfffitjjObP\n",
              "n6/Ro0dX9bQAAIAFHA2VtLQ0RUVF6ZtvvtGAAQMUExMjSUpNTVVmZqYkqU2bNpo1a5Z69eqlmJgY\n",
              "NWnSRGlpaU5OCwAABAlH3/rJyMgodfuiRYv8ro8bN07jxo1zcioAACAIVflbPwAAAGUhVAAAgLUI\n",
              "FQAAYC1CBQAAWItQAQAA1iJUAACAtQgVAABgLUIFAABYi1ABAADWIlQAAIC1CBUAAGAtQgUAAFiL\n",
              "UAEAANYiVAAAgLUIFQAAYC1CBQAAWItQAQAA1iJUAACAtQgVAABgLUIFAABYi1ABAADWIlQAAIC1\n",
              "CBUAAGAtQgUAAFiLUAEAANYiVAAAgLUIFQAAYC1CBQAAWItQAQAA1iJUAACAtQgVAABgLUIFAABY\n",
              "i1ABAADWIlQAAIC1CBUAAGAtQgUAAFiLUAEAANYiVAAAgLUIFQAAYC1CBQAAWItQAQAA1iJUAACA\n",
              "tQgVAABgLUIFAABYi1ABAADWIlQAAIC1CBUAAGAtQgUAAFiLUAEAANYiVAAAgLUIFQAAYC1CBQAA\n",
              "WItQAQAA1iJUAACAtQgVAABgLUIFAABYi1ABAADWIlQAAIC1CBUAAGAtQgUAAFiLUAEAANZyNFT2\n",
              "79+vnj17KjY2Vt27d9eePXtKjCkuLtaUKVPUsWNHde3aVX379tWBAwecnBYAAAgSjoZKWlqaxo8f\n",
              "r+zsbE2dOlUpKSklxmRmZmrTpk3atWuXvvjiC/Xv319/+tOfnJwWAAAIEo6FSl5enrKyspScnCxJ\n",
              "GjlypHJyckq8WuJyuVRQUKALFy7IGCOv16uoqCinpgUAAIJIqFM7zsnJUWRkpEJDL38Ll8ul6Oho\n",
              "eTwexcTE+MYNGTJEGzZsUPPmzdWgQQO1aNFCH3/8cZn7LSgoUEFBgd+2oqIiZxYBAACqVJUfTJuV\n",
              "laUvv/xSx44d0/Hjx9W/f39NmDChzPFz5sxRWFiY32Xbtm03cMYAAOBGcSxUWrZsqdzcXBUWFkqS\n",
              "jDHyeDyKjo72G7d06VL169dP4eHhqlWrlsaMGaMNGzaUud9p06bpzJkzfpekpCSnlgEAAKqQY6HS\n",
              "tGlTJSYmatmyZZKklStXKioqyu9tH0lq06aN1q9fr4sXL0qS1qxZo86dO5e5X7fbrYYNG/pdQkJC\n",
              "nFoGAACoQo4doyJJGRkZSklJ0XPPPaeGDRtqyZIlkqTU1FQNHTpUQ4cO1aRJk/TVV18pPj5etWvX\n",
              "VvPmzTV//nwnpwUAAIKEo6ESFxenLVu2lNi+aNEi37/dbrcWLlzo5DQAAECQqvKDaQEAAMpCqAAA\n",
              "AGsRKgAAwFqECgAAsBahAgAArEWoAAAAaxEqAADAWoQKAACwFqECAACsRagAAABrESoAAMBahAoA\n",
              "ALAWoQIAAKxFqAAAAGsRKgAAwFqECgAAsBahAgAArEWoAAAAaxEqAADAWoQKAACwFqECAACsRagA\n",
              "AABrESoAAMBahAoAALAWoQIAAKxFqAAAAGsRKgAAwFqECgAAsBahAgAArEWoAAAAaxEqAADAWoQK\n",
              "AACwFqECAACsRagAAABrESoAAMBahAoAALAWoQIAAKxFqAAAAGsRKgAAwFqECgAAsBahAgAArEWo\n",
              "AAAAaxEqAADAWoQKAACwFqECAACsRagAAABrESoAAMBahAoAALAWoQIAAKxFqAAAAGsRKgAAwFqE\n",
              "CgAAsBahAgAArEWoAAAAaxEqAADAWoQKAACwFqECAACsRagAAABrESoAAMBahAoAALAWoQIAAKxF\n",
              "qAAAAGs5Gir79+9Xz549FRsbq+7du2vPnj2ljtu9e7f69OmjDh06qEOHDlq1apWT0wIAAEEi1Mmd\n",
              "p6Wlafz48UpJSdGKFSuUkpKi7du3+405f/68hg0bpqVLl6p3794qKirSqVOnnJwWAAAIEo69opKX\n",
              "l6esrCwlJydLkkaOHKmcnBwdOHDAb9zrr7+uHj16qHfv3pKkkJAQNWnSpMz9FhQUyOv1+l2Kioqc\n",
              "WgYAAKhCjoVKTk6OIiMjFRp6+UUbl8ul6OhoeTwev3F79+6V2+3W4MGDlZCQoIcfflgnT54sc79z\n",
              "5sxRWFiY32Xbtm1OLQMAAFShSofKBx98ENAJFBYWat26dcrIyNBnn32mFi1aaOLEiWWOnzZtms6c\n",
              "OeN3SUpKCuicAACAHSodKrNnz1ZcXJzmzp0rr9db5riWLVsqNzdXhYWFkiRjjDwej6Kjo/3GRUdH\n",
              "q2/fvmrRooVcLpeSk5O1devWMvfrdrvVsGFDv0tISEhllwEAAIJApUNl06ZNWr58ub788kvFxsbq\n",
              "scce0969e0uMa9q0qRITE7Vs2TJJ0sqVKxUVFaWYmBi/caNGjdL27dt90fPee+8pPj7+WtYCAACq\n",
              "mWs6RuX222/XwoUL9f7772vNmjXq2rWr7r77bu3evdtvXEZGhjIyMhQbG6v09HQtWbJEkpSamqrM\n",
              "zExJl19R+dOf/qSePXuqa9euWr9+vebPn3+dywIAANXBNf158rp16/Tyyy9r9+7dmjRpkh599FF9\n",
              "9NFHGj58uN9f9cTFxWnLli0lvn7RokV+1x966CE99NBD1zIVAABQjVU6VDp06KBbbrlFTzzxhEaM\n",
              "GOE7PuS+++7T4sWLAz5BAABQc1U6VJYtW6Zu3bqVett//vOf654QAADAFZU+RmXHjh1+nxz73Xff\n",
              "aeHChQGdFAAAgHQNoTJv3jw1btzYdz0iIkLz5s0L6KQAAACkawgVY0yJbXyEPQAAcEKlQyUyMlJv\n",
              "vfWW7/qbb76pyMjIgE4KAABAuoaDaV988UUNGzZMTz31lCSpbt26evfddwM+MQAAgEqHSvv27bV3\n",
              "717t27dP0uXPSuEj7AEAgBOu6QPfXC6XwsPDVVhYqGPHjklSiXP4AAAAXK9Kh8prr72mJ554QrVr\n",
              "11atWpcPcXG5XMrLywv45AAAQM1W6VB55plntH37dsXFxTkxHwAAAJ9K/9XPLbfcQqQAAIAbotKh\n",
              "cu+99+rFF19UXl6evF6v7wIAABBolX7rZ/r06ZKkKVOmyOVyyRgjl8vFh74BAICAq3SoFBcXOzEP\n",
              "AACAEir91o90+cSE//73vyVJp0+fVm5ubkAnBQAAIF3jSQnHjh2rmTNnSrp89uQHH3ww0PMCAACo\n",
              "fKgsWLBAW7duVcOGDSVJbdu21cmTJwM+MQAAgEqHitvt1s033+y3LTT0mj7gFgAAoFyVDpUmTZoo\n",
              "OztbLpdL0uVPquXj8wEAgBOu6ezJDzzwgL7++mu1bNlSDRs21Jo1a5yYGwAAqOEqHSoxMTH69NNP\n",
              "tW/fPhljOHsyAABwTKVDxePxSJLq1asnSZw9GQAAOKbSodKtWzffJ9JeuHBB58+fV0REBGdPBgAA\n",
              "AVfpUPnxnyKvWrVKu3btCtiEAAAArrimT6a92ogRI7R27dpAzAUAAMBPpV9RufpMyUVFRfr00085\n",
              "ezIAAHBEpUMlPDzcd4xKSEiI2rVrp5deesmJuQEAgBqOsycDAABrXfcxKgAAAE6p9CsqtWrV8n18\n",
              "/tWMMXK5XCoqKgrIxAAAACodKrNnz9YPP/ygiRMnSpLmz5+vm2++Wb/97W8DPTcAAFDDVTpUVq9e\n",
              "rR07dviuP/vss+rWrZumT58e0IkBAABU+hiVs2fP+n0KbV5ens6ePRvQSQEAAEjX8IrK73//e8XH\n",
              "x2vQoEGSpPfff18zZ84M9LwAAAAqHyppaWnq1auXNmzYIEmaMmWKOnXqFPCJAQAAVDpUJCkiIkJd\n",
              "unRRnz59VFhYqIsXL6pOnTqBnhsAAKjhKn2MyooVK9SjRw898sgjkqQ9e/bo3nvvDfS8AAAAKh8q\n",
              "c+bM0c6dOxUeHi5Jio+P19GjRwM9LwAAgMqHSkhIiCIiIvy28bYPAABwQqVDpUGDBjpx4oTv02k/\n",
              "/PBDNW7cOOATAwAAqPTBtM8//7zuueceHTp0SL1799bhw4e1du1aJ+YGAABquEqFSnFxsYqKirRh\n",
              "wwZt3rxZxhj17NnTd7wKAABAIFUqVGrVqqXx48dr165duueee5yaEwAAgKRrOEalXbt2OnDggBNz\n",
              "AQAA8FPpY1ROnTqlhIQE9ezZU/Xr1/dtX7VqVUAnBgAAUOFQGT9+vBYsWKAxY8Zo6NChatSokZPz\n",
              "AgAAqHioZGVlSZLGjBmjxMRE7dy507FJAQAASNdwjIokGWMCPQ8AAIASKvyKyg8//KDdu3fLGKML\n",
              "Fy74/n1F165dHZkgAACouSoVKkOHDvVdv/rfLpdLhw4dCuzMAABAjVfhUDly5IiD0wAAACjpmo5R\n",
              "AQAAuBEIFQAAYC1CBQAAWItQAQAA1iJUAACAtQgVAABgLUIFAABYi1ABAADWIlQAAIC1HA2V/fv3\n",
              "q2fPnoqNjVX37t21Z8+eMscaY9SvXz+Fh4c7OSUAABBEHA2VtLQ0jR8/XtnZ2Zo6dapSUlLKHPvP\n",
              "f/5Tbdu2dXI6AAAgyDgWKnl5ecrKylJycrIkaeTIkcrJydGBAwdKjN2zZ4/eeecd/fGPf/zJ/RYU\n",
              "FMjr9fpdioqKAj5/AABQ9RwLlZycHEVGRio09PJ5D10ul6Kjo+XxePzGXbp0SePGjVNGRoZCQkJ+\n",
              "cr9z5sxRWFiY32Xbtm2OrAEAAFStKj+YdtasWRoxYoQ6dOhQofHTpk3TmTNn/C5JSUkOzxIAAFSF\n",
              "UKd23LJlS+Xm5qqwsFChoaEyxsjj8Sg6Otpv3McffyyPx6NXXnlFhYWF8nq9at26tbZv364mTZqU\n",
              "2K/b7Zbb7fbbVpFXYgAAQPBx7BWVpk2bKjExUcuWLZMkrVy5UlFRUYqJifEbt3HjRh09elRHjhzR\n",
              "J598ooYNG+rIkSOlRgoAAKhZHH3rJyMjQxkZGYqNjVV6erqWLFkiSUpNTVVmZqaT3xoAAFQDjr31\n",
              "I0lxcXHasmVLie2LFi0qdXzr1q11+vRpJ6cEAACCSJUfTAsAAFAWQgUAAFiLUAEAANYiVAAAgLUI\n",
              "FQAAYC1CBQAAWItQAQAA1iJUAACAtQgVAABgLUIFAABYi1ABAADWIlQAAIC1CBUAAGAtQgUAAFiL\n",
              "UAEAANYiVAAAgLUIFQAAYC1CBQAAWItQAQAA1iJUAACAtQgVAABgLUIFAABYi1ABAADWIlQAAIC1\n",
              "CBUAAGAtQgUAAFiLUAEAANYiVAAAgLUIFQAAYC1CBQAAWItQAQAA1iJUAACAtQgVAABgLUIFAABY\n",
              "i1ABAADWIlQAAIC1CBUAAGAtQgUAAFiLUAEAANYiVAAAgLUIFQAAYC1CBQAAWItQAQAA1iJUAACA\n",
              "tQgVAABgLUIFAABYi1ABAADWIlQAAIC1CBUAAGAtQgUAAFiLUAEAANYiVAAAgLUIFQAAYC1CBQAA\n",
              "WItQAQAA1iJUAACAtQgVAABgLUIFAABYi1ABAADWIlQAAIC1CBUAAGAtQgUAAFjL0VDZv3+/evbs\n",
              "qdjYWHXv3l179uwpMWb9+vVKSkpSx44d1alTJz311FMqLi52cloAACBIOBoqaWlpGj9+vLKzszV1\n",
              "6lSlpKSUGNOoUSMtX75ce/fu1Y4dO7R582YtXbrUyWkBAIAg4Vio5OXlKSsrS8nJyZKkkSNHKicn\n",
              "RwcOHPAbd/vtt6tNmzaSpJtuukkJCQk6cuRImfstKCiQ1+v1uxQVFTm1DAAAUIUcC5WcnBxFRkYq\n",
              "NDRUkuRyuRQdHS2Px1Pm13z77bdasWKFBg8eXOaYOXPmKCwszO+ybdu2gM8fAABUPWsOpvV6vRoy\n",
              "ZIieeuop3XHHHWWOmzZtms6cOeN3SUpKuoEzBQAAN0qoUztu2bKlcnNzVVhYqNDQUBlj5PF4FB0d\n",
              "XWLs2bNnNXDgQA0bNkxTpkwpd79ut1tut9tvW0hISEDnDgAA7ODYKypNmzZVYmKili1bJklauXKl\n",
              "oqKiFBMT4zfu+++/18CBAzVw4ED9+c9/dmo6AAAgCDn61k9GRoYyMjIUGxur9PR0LVmyRJKUmpqq\n",
              "zMxMSdLcuXO1bds2rVq1SgkJCUpISNBf/vIXJ6cFAACChGNv/UhSXFyctmzZUmL7okWLfP+ePn26\n",
              "pk+f7uQ0AABAkLLmYFoAAIAfI1QAAIC1CBUAAGAtQgUAAFiLUAEAANYiVAAAgLUIFQAAYC1CBQAA\n",
              "WItQAQAA1iJUAACAtQgVAABgLUIFAABYi1ABAADWIlQAAIC1CBUAAGAtQgUAAFiLUAEAANYiVAAA\n",
              "gLUIFQAAYC1CBQAAWItQAQAA1iJUAACAtQgVAABgLUIFAABYi1ABAADWIlQAAIC1CBUAAGAtQgUA\n",
              "AFiLUAEAANYiVAAAgLUIFQAAYC1CBQAAWItQAQAA1iJUAACAtQgVAABgLUIFAABYi1ABAADWIlQA\n",
              "AIC1CBUAAGAtQgUAAFiLUAEAANYiVAAAgLUIFQAAYC1CBQAAWItQAQAA1iJUAACAtQgVAABgLUIF\n",
              "AABYi1ABAADWIlQAAIC1CBUAAGAtQgUAAFiLUAEAANYiVAAAgLUIFQAAYC1CBQAAWItQAQAA1iJU\n",
              "AACAtQgVAABgLUIFAABYi1ABAADWcjRU9u/fr549eyo2Nlbdu3fXnj17Sh23ePFitWvXTm3bttW4\n",
              "ceN06dIlJ6cFAACChKOhkpaWpvHjxys7O1tTp05VSkpKiTGHDx/W008/rY0bN+rAgQM6ceKEFixY\n",
              "4OS0AABAkHAsVPLy8pSVlaXk5GRJ0siRI5WTk6MDBw74jVuxYoWGDh2q5s2by+VyacKECXrjjTfK\n",
              "3G9BQYG8Xq/fpaioyKllAACAKuQyxhgndrxjxw49+OCD2rdvn29bUlKS0tPT1a9fP9+2xx9/XLfe\n",
              "equmTZsmSdq7d68GDhwoj8dT6n5nzpypWbNm+W1r37697rnnnlLHFxUVadu2bUpKSlJISMj1Liuo\n",
              "sPaauXapZq+ftdfMtUs1e/3BuvZWrVrpN7/5TbljQm/QXAJm2rRpmjJlit82t9stt9td6niv16uw\n",
              "sDB98MEHatiw4Y2YojVYe81cu1Sz18/aa+bapZq9/uq8dsdCpWXLlsrNzVVhYaFCQ0NljJHH41F0\n",
              "dLTfuOjoaB08eNB3/ciRIyXGXK28KAEAANWLY8eoNG3aVImJiVq2bJkkaeXKlYqKilJMTIzfuJEj\n",
              "RyozM1PffvutjDGaP3++Ro8e7dS0AABAEHH0r34yMjKUkZGh2NhYpaena8mSJZKk1NRUZWZmSpLa\n",
              "tGmjWbNmqVevXoqJiVGTJk2Ulpbm5LQAAECQcPQYlbi4OG3ZsqXE9kWLFvldHzdunMaNG+fIHNxu\n",
              "t2bMmFEj3y5i7TVz7VLNXj9rr5lrl2r2+qvz2h37qx8AAIDrxUfoAwAAaxEqAADAWoQKAACwFqEC\n",
              "AACsFTShUtEzMe/evVt9+vRRhw4d1KFDB61atUqS9NFHH+nmm29WQkKC7/LDDz/4vs72Mzhf7/qX\n",
              "LFnit/ZbbrlFI0aMkHT5Q/ZCQkL8br/6Q/iqWkXWXt76JGnNmjVq37692rVrpxEjRsjr9Vbotqp2\n",
              "vWvfvXu37rrrLrVv316dO3fW2LFj/R73LpdLXbp08X3txo0bb9jaKuJ61/9Tj+3qfN9/8MEHfrfd\n",
              "euutSkxM9H1tdbjvi4uLNWXKFHXs2FFdu3ZV3759/c4nV52f9+WtPdif9yWYING3b1+zZMkSY4wx\n",
              "b7/9trnjjjtKjDl37py57bbbzMaNG40xxhQWFpq8vDxjjDEbNmww8fHxpe770KFDJjIy0uTm5pri\n",
              "4mIzZMgQ88orrziyjmt1vev/sU6dOpkVK1YYY4w5fPiwCQsLc2TegVCRtf/Y1es7e/asadq0qfnq\n",
              "q6+MMcZMmjTJ/OEPf/jJ22xwvWvPzs42u3btMsZcfjyMGjXKzJgxwzdWksnPzw/0tAPmetdf3mO7\n",
              "ut/3P/bLX/7SvPDCC77r1eG+X716tUlKSjIXL140xhjzzDPPmF/96lfGmOr/vC9v7cH+vP+xoAiV\n",
              "EydOmAYNGphLly4ZY4wpLi42zZo1M/v37/cbt3DhQvPAAw+Uuo/yQuWvf/2rSUtL811fu3at6dWr\n",
              "V2AmHwCBWP/Vtm7dapo0aeJ7gNscKhVd+9V+vL633nrLDBgwwHf7nj17TIsWLX7ytqoWiLX/2N/+\n",
              "9jczZswY33Wb/8MKxPrLe2zXpPv+2LFj5qabbjInTpzwbasO9/0777xj4uPjjdfrNcXFxebJJ580\n",
              "v/vd74wx1f95X97afyyYnvelCYq3fnJychQZGanQ0MufT+dyuRQdHV3iDMt79+6V2+3W4MGDlZCQ\n",
              "oIcfflgnT5703X7w4EElJiaqe/fumjdvnm+7x+NRq1atfNdbt25d5tmbq0Kg1n/F4sWL9dBDD6l2\n",
              "7dq+befOnVP37t2VmJio2bNnq6ioyNlFVVBF1361H6+vtPv3ynmoyrutqgVi7Vc7d+6cFi1apGHD\n",
              "hvlt79+/v+Lj4zVlyhSdO3cusIu4DoFaf1mP7Zp037/22msaNGiQmjZt6rc92O/7IUOGqE+fPmre\n",
              "vLkiIyP14Ycfavbs2ZKq//O+vLVfLdie96UJilCpqMLCQq1bt04ZGRn67LPP1KJFC02cOFGSlJiY\n",
              "qG+++UY7d+7U6tWrNX/+fL311ltVPOPAKm/9V5w7d07Lly/Xo48+6tsWGRmpY8eOafv27Vq3bp02\n",
              "btyov//97zd6+gFR2vpqivLWfvHiRd1///36xS9+oeHDh/u2Hz16VDt27NDmzZt18uRJPfnkkzdy\n",
              "ygFV3R/b5SnvvjfG6NVXXy1xW3W477OysvTll1/q2LFjOn78uPr3768JEyZU9bRuiIqsvbo874Mi\n",
              "VK4+E7Okcs/E3LdvX7Vo0UIul0vJycnaunWrJKlhw4YKCwuTJEVFRemBBx7wHUAUHR2to0eP+vbz\n",
              "U2dwvtECsf4r3n77bXXq1EkdO3b0bXO73b7ftBo3bqyxY8dac3BVRdd+RWnrK+3+vfIbS3m3VbVA\n",
              "rF2SLl26pPvvv1+RkZGaO3eu321X9lWvXj099thj1tzvUmDWX95juybc95L08ccf68KFCxowYIDf\n",
              "9upw3y9dulT9+vVTeHi4atWqpTFjxmjDhg2Sqv/zvry1S8H7vC9NUIRKRc/EPGrUKG3fvt139PZ7\n",
              "772n+Ph4SVJubq6Ki4slSWfPntWaNWt0++23S7L/DM6BWP8VixcvLvGbVV5enu+vnAoKCrRq1Srf\n",
              "z6aqVXTtV5S2voEDB2rnzp36+uuvJUnz5s3z3b/l3VbVArH2wsJCjR49Wo0bN9aCBQvkcrl8t+Xn\n",
              "5+v8+fOSLv8FwZtvvmnN/S4FZv3lPbar+31/9W0pKSkKCQnxbasu932bNm20fv16Xbx4UdLlv+Tp\n",
              "3LmzpOr/vC9v7cH8vC9VVR0cU1lff/216dGjh2nXrp3p1q2b+eKLL4wxxjz66KPm3Xff9Y1bunSp\n",
              "6dSpk+nSpYsZOHCg8Xg8xhhjXn75ZdOxY0fTtWtX07FjRzNjxgxTXFzs+7oFCxaYNm3amDZt2pix\n",
              "Y8eWeTBiVbne9V/ZR/369Y3X6/Xb98qVK02nTp18P5vJkyebCxcu3JiFVUBF117W+owx5t133zVx\n",
              "cXGmbdu2ZtiwYeb06dMVuq2qXe/aly1bZiSZrl27mvj4eBMfH28ee+wxY4wxmzdvNl26dPHd78nJ\n",
              "yea77767cYurgOtd/089tqvzfW+MMadPnzZ169Y1Bw8e9NteXe77CxcumNTUVNO+fXvTpUsXc/fd\n",
              "d/uttTo/78tbe7A/73+MkxICAABrBcVbPwAAoGYiVAAAgLUIFQAAYC1CBQAAWItQAQAA1iJUAACA\n",
              "tQgVAABgLUIFAABYi1ABAADWIlQAAIC1/h/fSpYHwenslAAAAABJRU5ErkJggg==\n",
              "\">\n",
              "      </div>\n",
              "      <script type=\"text/javascript\">\n",
              "        (() => {\n",
              "          const chartElement = document.getElementById(\"chart-9047f812-3d20-42bb-81d2-c75ce5861d37\");\n",
              "          async function getCodeForChartHandler(event) {\n",
              "            const chartCodeResponse =  await google.colab.kernel.invokeFunction(\n",
              "                'getCodeForChart', [\"chart-9047f812-3d20-42bb-81d2-c75ce5861d37\"], {});\n",
              "            const responseJson = chartCodeResponse.data['application/json'];\n",
              "            await google.colab.notebook.addCell(responseJson.code, 'code');\n",
              "          }\n",
              "          chartElement.onclick = getCodeForChartHandler;\n",
              "        })();\n",
              "      </script>\n",
              "      <style>\n",
              "        .colab-quickchart-chart-with-code  {\n",
              "            display: block;\n",
              "            float: left;\n",
              "            border: 1px solid transparent;\n",
              "        }\n",
              "\n",
              "        .colab-quickchart-chart-with-code:hover {\n",
              "            cursor: pointer;\n",
              "            border: 1px solid #aaa;\n",
              "        }\n",
              "      </style>"
            ]
          },
          "metadata": {}
        },
        {
          "output_type": "display_data",
          "data": {
            "text/plain": [
              "from matplotlib import pyplot as plt\n",
              "all_model_results['recall'].plot(kind='hist', bins=20, title='recall')\n",
              "plt.gca().spines[['top', 'right',]].set_visible(False)"
            ],
            "text/html": [
              "      <div class=\"colab-quickchart-chart-with-code\" id=\"chart-58685dd6-86eb-486d-a121-229c00bb896d\">\n",
              "        <img style=\"width: 180px;\" src=\"data:image/png;base64,iVBORw0KGgoAAAANSUhEUgAAAioAAAGrCAYAAADuNLxTAAAAOXRFWHRTb2Z0d2FyZQBNYXRwbG90\n",
              "bGliIHZlcnNpb24zLjcuMSwgaHR0cHM6Ly9tYXRwbG90bGliLm9yZy/bCgiHAAAACXBIWXMAAA9h\n",
              "AAAPYQGoP6dpAAAhn0lEQVR4nO3dfVSUdf7/8dcAfclK8JYgcTRF8B7DYD3q7vHmtFmbWNKNdVBZ\n",
              "Q9FK23W3zKxNazfcrT2b2brizdJRd7tTLI61tce0stQUbU2xAkwdNBKzFLNAgc/vD4/zc0IQdC7n\n",
              "Azwf58w5zjUXV593M+N5OnMx4zLGGAEAAFgoKNALAAAAqA2hAgAArEWoAAAAaxEqAADAWoQKAACw\n",
              "FqECAACsRagAAABrESoAAMBahAoAALAWoQKgyZg9e7YGDx7svT5kyBA99thjAVwRgItFqAAAAGsR\n",
              "KgAumZMnTwZ6CQAaGUIFgGOGDBmiBx54QGPGjFHr1q01bdo0vfXWW/rZz36m1q1bq1u3bnr++ed9\n",
              "fuazzz5TcnKyIiMjFR4ergEDBqi4uFiS9Pe//129e/dWWFiYIiMjNXbsWH3zzTeBGA3AJUKoAHBU\n",
              "dna2xo0bpyNHjmjkyJG655579PTTT+vIkSNavXq1nnnmGf3rX/+SJB06dEg///nP1bt3bxUUFOjb\n",
              "b7/V/Pnz1aJFC0lSZGSkcnJydPToUX388ccqKCjQ1KlTAzkeAIcRKgAclZycrJtvvllBQUHKysrS\n",
              "lClTNHz4cAUFBal3796aPHmysrOzJUnLly9XZGSknn76aYWFhSk4OFiJiYlq166dJCklJUWxsbEK\n",
              "CgpSp06d9Mgjj+i///1vIMcD4LCQQC8AQNN27bXXev9cWFiotWvX6h//+Id3W1VVldxutyRp7969\n",
              "iouLq/VYOTk5evbZZ1VUVKTy8nJVV1frxIkTqqqqUnBwsHNDAAgYXlEB4KigoP//10xkZKQeeeQR\n",
              "HT161Hs5fvy48vPzJUmdO3dWYWHhOY9z4MAB3XHHHZo6dao8Ho/Kysq0fPlySZIxxvlBAAQEoQLg\n",
              "knnwwQc1f/58vfvuu6qsrFRlZaV27dqlDz74QJI0btw4HThwQI8//riOHz+uqqoq5eXl6ZtvvtH3\n",
              "33+v6upqtWvXTpdffrkKCwuVmZkZ4IkAOI1QAXDJ3HrrrVq+fLn+8Ic/KCIiQhEREUpPT/f+5s7V\n",
              "V1+tDz74QNu2bdO1116rtm3baurUqSovL1f37t2VmZmpcePGqWXLlho/frxSU1MDPBEAp7kMr5kC\n",
              "AABL8YoKAACwFqECAACsRagAAABrESoAAMBahAoAALAWoQIAAKxFqAAAAGs1iVCZN29eoJcAAAAc\n",
              "0CRCZf/+/YFeAgAAcECTCBUAANA0ESoAAMBahAoAALAWoQIAAKxFqAAAAGsRKgAAwFqECgAAsBah\n",
              "AgAArEWoAAAAaxEqAADAWoQKAACwFqECAACs5WioTJs2TZ07d5bL5dL//ve/WvdbunSpunXrpq5d\n",
              "u2rixIk6deqUk8sCAACNhKOhcvvtt+vDDz9Up06dat1n7969evzxx7VhwwYVFRXp0KFDWrRokZPL\n",
              "AgAAjYSjofKLX/xC0dHRde6zcuVKJScnKzIyUi6XS5MnT9ZLL71U6/4VFRUqKyvzuVRVVfl76QAA\n",
              "wAIhgV6Ax+PxecWlc+fO8ng8te6fmZmpOXPm+GwbMGCAI2vr/MibjhxXkvbN/ZVjx8al4dTjw8nH\n",
              "hpOPaafwXLk0+Puu8WuMfyfVR6M7mXbmzJk6duyYzyUpKSnQywIAAA4I+Csqbrdbe/bs8V7ft2+f\n",
              "3G53rfuHhoYqNDTUZ1twcLBj6wMAAIET8FdUUlJSlJubq6+//lrGGC1cuFBjxowJ9LIAAIAFHA2V\n",
              "jIwMRUdH68CBA7rxxhsVExMjSUpPT1dubq4kqUuXLpozZ44GDRqkmJgYtW/fXhkZGU4uCwAANBKO\n",
              "vvWTlZV1zu1LlizxuT5x4kRNnDjRyaUAAIBGKOBv/QAAANSGUAEAANYiVAAAgLUIFQAAYC1CBQAA\n",
              "WItQAQAA1iJUAACAtQgVAABgLUIFAABYi1ABAADWIlQAAIC1CBUAAGAtQgUAAFiLUAEAANYiVAAA\n",
              "gLUIFQAAYC1CBQAAWItQAQAA1iJUAACAtQgVAABgLUIFAABYi1ABAADWIlQAAIC1CBUAAGAtQgUA\n",
              "AFiLUAEAANYiVAAAgLUIFQAAYC1CBQAAWItQAQAA1iJUAACAtQgVAABgLUIFAABYi1ABAADWIlQA\n",
              "AIC1CBUAAGAtQgUAAFiLUAEAANYiVAAAgLUIFQAAYC1CBQAAWItQAQAA1iJUAACAtQgVAABgLUIF\n",
              "AABYi1ABAADWIlQAAIC1CBUAAGAtQgUAAFiLUAEAANYiVAAAgLUIFQAAYC1CBQAAWItQAQAA1iJU\n",
              "AACAtQgVAABgLUIFAABYi1ABAADWIlQAAIC1CBUAAGAtQgUAAFjL0VApLCzUwIEDFRsbq8TEROXn\n",
              "59fYp7q6WtOnT1fPnj3Vt29fDR06VEVFRU4uCwAANBKOhkpGRoYmTZqkgoICzZgxQ2lpaTX2yc3N\n",
              "1UcffaQdO3bo008/1fDhw/Xoo486uSwAANBIOBYqpaWlysvLU2pqqiQpJSVFxcXFNV4tcblcqqio\n",
              "UHl5uYwxKisrU3R0tFPLAgAAjUiIUwcuLi5WVFSUQkJO/ydcLpfcbrc8Ho9iYmK8+40cOVLr169X\n",
              "ZGSkWrZsqQ4dOuj999+v9bgVFRWqqKjw2VZVVeXMEAAAIKACfjJtXl6edu3apYMHD+qrr77S8OHD\n",
              "NXny5Fr3z8zMVHh4uM9ly5Ytl3DFAADgUnEsVDp27KiSkhJVVlZKkowx8ng8crvdPvstW7ZMw4YN\n",
              "U6tWrRQUFKTx48dr/fr1tR535syZOnbsmM8lKSnJqTEAAEAAORYqERERSkhI0IoVKyRJq1atUnR0\n",
              "tM/bPpLUpUsXrVu3TidPnpQkrVmzRr179671uKGhoQoLC/O5BAcHOzUGAAAIIMfOUZGkrKwspaWl\n",
              "6emnn1ZYWJiys7MlSenp6UpOTlZycrLuv/9+ffbZZ4qPj9dll12myMhILVy40MllAQCARsLRUImL\n",
              "i9OmTZtqbF+yZIn3z6GhoVq8eLGTywAAAI1UwE+mBQAAqA2hAgAArEWoAAAAaxEqAADAWoQKAACw\n",
              "FqECAACsRagAAABrESoAAMBahAoAALAWoQIAAKxFqAAAAGsRKgAAwFqECgAAsBahAgAArEWoAAAA\n",
              "axEqAADAWoQKAACwFqECAACsRagAAABrESoAAMBahAoAALAWoQIAAKxFqAAAAGsRKgAAwFqECgAA\n",
              "sBahAgAArEWoAAAAaxEqAADAWoQKAACwFqECAACsRagAAABrESoAAMBahAoAALAWoQIAAKxFqAAA\n",
              "AGsRKgAAwFqECgAAsBahAgAArEWoAAAAaxEqAADAWoQKAACwFqECAACsRagAAABrESoAAMBahAoA\n",
              "ALAWoQIAAKxFqAAAAGsRKgAAwFqECgAAsBahAgAArEWoAAAAaxEqAADAWoQKAACwFqECAACsRagA\n",
              "AABrESoAAMBahAoAALAWoQIAAKxFqAAAAGsRKgAAwFqECgAAsBahAgAArOVoqBQWFmrgwIGKjY1V\n",
              "YmKi8vPzz7nfzp07NWTIEPXo0UM9evRQTk6Ok8sCAACNRIiTB8/IyNCkSZOUlpamlStXKi0tTVu3\n",
              "bvXZ54cfftCoUaO0bNkyDR48WFVVVfr222+dXBYAAGgkHHtFpbS0VHl5eUpNTZUkpaSkqLi4WEVF\n",
              "RT77/fvf/9aAAQM0ePBgSVJwcLDat29f63ErKipUVlbmc6mqqnJqDAAAEECOhUpxcbGioqIUEnL6\n",
              "RRuXyyW32y2Px+Oz3+7duxUaGqpbbrlF/fr107hx43T48OFaj5uZmanw8HCfy5YtW5waAwAABFCD\n",
              "Q+Wdd97x6wIqKyu1du1aZWVl6ZNPPlGHDh00ZcqUWvefOXOmjh075nNJSkry65oAAIAdGhwqTz75\n",
              "pOLi4jRv3jyVlZXVul/Hjh1VUlKiyspKSZIxRh6PR26322c/t9utoUOHqkOHDnK5XEpNTdXmzZtr\n",
              "PW5oaKjCwsJ8LsHBwQ0dAwAANAINDpWPPvpIL7/8snbt2qXY2Fjdd9992r17d439IiIilJCQoBUr\n",
              "VkiSVq1apejoaMXExPjsd+edd2rr1q3e6HnrrbcUHx9/IbMAAIAm5oLOUbnuuuu0ePFivf3221qz\n",
              "Zo369u2rG264QTt37vTZLysrS1lZWYqNjdXcuXOVnZ0tSUpPT1dubq6k06+oPProoxo4cKD69u2r\n",
              "devWaeHChRc5FgAAaAou6NeT165dq/nz52vnzp26//77de+99+q9997Tbbfd5vNbPXFxcdq0aVON\n",
              "n1+yZInP9bFjx2rs2LEXshQAANCENThUevTooXbt2mnatGkaPXq09/yQ22+/XUuXLvX7AgEAQPPV\n",
              "4FBZsWKF+vfvf87b/vOf/1z0ggAAAM5o8Dkq27Zt8/nk2CNHjmjx4sV+XRQAAIB0AaGyYMECtWnT\n",
              "xnu9bdu2WrBggV8XBQAAIF1AqBhjamzjI+wBAIATGhwqUVFRevXVV73XX3nlFUVFRfl1UQAAANIF\n",
              "nEz73HPPadSoUXr44YclSVdccYXeeOMNvy8MAACgwaHSvXt37d69W1988YWk05+VwkfYAwAAJ1zQ\n",
              "B765XC61atVKlZWVOnjwoCTV+A4fAACAi9XgUHnxxRc1bdo0XXbZZQoKOn2Ki8vlUmlpqd8XBwAA\n",
              "mrcGh8pTTz2lrVu3Ki4uzon1AAAAeDX4t37atWtHpAAAgEuiwaFy66236rnnnlNpaanKysq8FwAA\n",
              "AH9r8Fs/s2bNkiRNnz5dLpdLxhi5XC4+9A0AAPhdg0OlurraiXUAAADU0OC3fqTTX0y4fPlySdLR\n",
              "o0dVUlLi10UBAABIF/ilhBMmTNDs2bMlnf725Hvuucff6wIAAGh4qCxatEibN29WWFiYJKlr1646\n",
              "fPiw3xcGAADQ4FAJDQ1VixYtfLaFhFzQB9wCAADUqcGh0r59exUUFMjlckk6/Um1fHw+AABwwgV9\n",
              "e/Ldd9+tzz//XB07dlRYWJjWrFnjxNoAAEAz1+BQiYmJ0ccff6wvvvhCxhi+PRkAADimwaHi8Xgk\n",
              "SVdeeaUk8e3JAADAMQ0Olf79+3s/kba8vFw//PCD2rZty7cnAwAAv2twqPz0V5FzcnK0Y8cOvy0I\n",
              "AADgjAv6ZNqzjR49Wm+++aY/1gIAAOCjwa+onP1NyVVVVfr444/59mQAAOCIBodKq1atvOeoBAcH\n",
              "q1u3bnr++eedWBsAAGjm+PZkAABgrYs+RwUAAMApDX5FJSgoyPvx+WczxsjlcqmqqsovCwMAAGhw\n",
              "qDz55JP68ccfNWXKFEnSwoUL1aJFC/3mN7/x99oAAEAz1+BQWb16tbZt2+a9/sc//lH9+/fXrFmz\n",
              "/LowAACABp+jcvz4cZ9PoS0tLdXx48f9uigAAADpAl5R+d3vfqf4+HjdfPPNkqS3335bs2fP9ve6\n",
              "AAAAGh4qGRkZGjRokNavXy9Jmj59unr16uX3hQEAADQ4VCSpbdu26tOnj4YMGaLKykqdPHlS//d/\n",
              "/+fvtQEAgGauweeorFy5UgMGDNCvf/1rSVJ+fr5uvfVWf68LAACg4aGSmZmp7du3q1WrVpKk+Ph4\n",
              "7d+/39/rAgAAaHioBAcHq23btj7beNsHAAA4ocGh0rJlSx06dMj76bTvvvuu2rRp4/eFAQAANPhk\n",
              "2j//+c+66aab9OWXX2rw4MHau3ev3nzzTSfWBgAAmrkGhUp1dbWqqqq0fv16bdy4UcYYDRw40Hu+\n",
              "CgAAgD81KFSCgoI0adIk7dixQzfddJNTawIAAJB0AeeodOvWTUVFRU6sBQAAwEeDz1H59ttv1a9f\n",
              "Pw0cOFBXXXWVd3tOTo5fFwYAAFDvUJk0aZIWLVqk8ePHKzk5Wa1bt3ZyXQAAAPUPlby8PEnS+PHj\n",
              "lZCQoO3btzu2KAAAAOkCzlGRJGOMv9cBAABQQ71fUfnxxx+1c+dOGWNUXl7u/fMZffv2dWSBAACg\n",
              "+WpQqCQnJ3uvn/1nl8ulL7/80r8rAwAAzV69Q2Xfvn0OLgMAAKCmCzpHBQAA4FIgVAAAgLUIFQAA\n",
              "YC1CBQAAWItQAQAA1iJUAACAtQgVAABgLUIFAABYi1ABAADWcjRUCgsLNXDgQMXGxioxMVH5+fm1\n",
              "7muM0bBhw9SqVSsnlwQAABoRR0MlIyNDkyZNUkFBgWbMmKG0tLRa9/3b3/6mrl27OrkcAADQyDgW\n",
              "KqWlpcrLy1NqaqokKSUlRcXFxSoqKqqxb35+vl5//XU98sgj5z1uRUWFysrKfC5VVVV+Xz8AAAg8\n",
              "x0KluLhYUVFRCgk5/b2HLpdLbrdbHo/HZ79Tp05p4sSJysrKUnBw8HmPm5mZqfDwcJ/Lli1bHJkB\n",
              "AAAEVsBPpp0zZ45Gjx6tHj161Gv/mTNn6tixYz6XpKQkh1cJAAACIcSpA3fs2FElJSWqrKxUSEiI\n",
              "jDHyeDxyu90++73//vvyeDx64YUXVFlZqbKyMnXu3Flbt25V+/btaxw3NDRUoaGhPtvq80oMAABo\n",
              "fBx7RSUiIkIJCQlasWKFJGnVqlWKjo5WTEyMz34bNmzQ/v37tW/fPn344YcKCwvTvn37zhkpAACg\n",
              "eXH0rZ+srCxlZWUpNjZWc+fOVXZ2tiQpPT1dubm5Tv6nAQBAE+DYWz+SFBcXp02bNtXYvmTJknPu\n",
              "37lzZx09etTJJQEAgEYk4CfTAgAA1IZQAQAA1iJUAACAtQgVAABgLUIFAABYi1ABAADWIlQAAIC1\n",
              "CBUAAGAtQgUAAFiLUAEAANYiVAAAgLUIFQAAYC1CBQAAWItQAQAA1iJUAACAtQgVAABgLUIFAABY\n",
              "i1ABAADWIlQAAIC1CBUAAGAtQgUAAFiLUAEAANYiVAAAgLUIFQAAYC1CBQAAWItQAQAA1iJUAACA\n",
              "tQgVAABgLUIFAABYi1ABAADWIlQAAIC1CBUAAGAtQgUAAFiLUAEAANYiVAAAgLUIFQAAYC1CBQAA\n",
              "WItQAQAA1iJUAACAtQgVAABgLUIFAABYi1ABAADWIlQAAIC1CBUAAGAtQgUAAFiLUAEAANYiVAAA\n",
              "gLUIFQAAYC1CBQAAWItQAQAA1iJUAACAtQgVAABgLUIFAABYi1ABAADWIlQAAIC1CBUAAGAtQgUA\n",
              "AFiLUAEAANYiVAAAgLUIFQAAYC1CBQAAWItQAQAA1nI0VAoLCzVw4EDFxsYqMTFR+fn5NfZZt26d\n",
              "kpKS1LNnT/Xq1UsPP/ywqqurnVwWAABoJBwNlYyMDE2aNEkFBQWaMWOG0tLSauzTunVrvfzyy9q9\n",
              "e7e2bdumjRs3atmyZU4uCwAANBKOhUppaany8vKUmpoqSUpJSVFxcbGKiop89rvuuuvUpUsXSdLl\n",
              "l1+ufv36ad++fbUet6KiQmVlZT6Xqqoqp8YAAAAB5FioFBcXKyoqSiEhIZIkl8slt9stj8dT6898\n",
              "/fXXWrlypW655ZZa98nMzFR4eLjPZcuWLX5fPwAACDxrTqYtKyvTyJEj9fDDD+v666+vdb+ZM2fq\n",
              "2LFjPpekpKRLuFIAAHCphDh14I4dO6qkpESVlZUKCQmRMUYej0dut7vGvsePH9eIESM0atQoTZ8+\n",
              "vc7jhoaGKjQ01GdbcHCwX9cOAADs4NgrKhEREUpISNCKFSskSatWrVJ0dLRiYmJ89vv+++81YsQI\n",
              "jRgxQo899phTywEAAI2Qo2/9ZGVlKSsrS7GxsZo7d66ys7MlSenp6crNzZUkzZs3T1u2bFFOTo76\n",
              "9eunfv366U9/+pOTywIAAI2EY2/9SFJcXJw2bdpUY/uSJUu8f541a5ZmzZrl5DIAAEAjZc3JtAAA\n",
              "AD9FqAAAAGsRKgAAwFqECgAAsBahAgAArEWoAAAAaxEqAADAWoQKAACwFqECAACsRagAAABrESoA\n",
              "AMBahAoAALAWoQIAAKxFqAAAAGsRKgAAwFqECgAAsBahAgAArEWoAAAAaxEqAADAWoQKAACwFqEC\n",
              "AACsRagAAABrESoAAMBahAoAALAWoQIAAKxFqAAAAGsRKgAAwFqECgAAsBahAgAArEWoAAAAaxEq\n",
              "AADAWoQKAACwFqECAACsRagAAABrESoAAMBahAoAALAWoQIAAKxFqAAAAGsRKgAAwFqECgAAsBah\n",
              "AgAArEWoAAAAaxEqAADAWoQKAACwFqECAACsRagAAABrESoAAMBahAoAALAWoQIAAKxFqAAAAGsR\n",
              "KgAAwFqECgAAsBahAgAArEWoAAAAaxEqAADAWoQKAACwFqECAACsRagAAABrESoAAMBahAoAALAW\n",
              "oQIAAKzlaKgUFhZq4MCBio2NVWJiovLz88+539KlS9WtWzd17dpVEydO1KlTp5xcFgAAaCQcDZWM\n",
              "jAxNmjRJBQUFmjFjhtLS0mrss3fvXj3++OPasGGDioqKdOjQIS1atMjJZQEAgEbCsVApLS1VXl6e\n",
              "UlNTJUkpKSkqLi5WUVGRz34rV65UcnKyIiMj5XK5NHnyZL300ku1HreiokJlZWU+l6qqKqfGAAAA\n",
              "AeQyxhgnDrxt2zbdc889+uKLL7zbkpKSNHfuXA0bNsy7berUqbrmmms0c+ZMSdLu3bs1YsQIeTye\n",
              "cx539uzZmjNnjs+27t2766abbvLZVlVVpS1btigpKUnBwcH+GqvRaM7zMzuzN7fZpeY9P7M33tk7\n",
              "deqkBx98sM59Qi7RWvxm5syZmj59us+20NBQhYaG+mwrKytTeHi43nnnHYWFhV3KJVqhOc/P7Mze\n",
              "3GaXmvf8zN60Z3csVDp27KiSkhJVVlYqJCRExhh5PB653W6f/dxut/bs2eO9vm/fvhr7nO1cUQIA\n",
              "AJomx85RiYiIUEJCglasWCFJWrVqlaKjoxUTE+OzX0pKinJzc/X111/LGKOFCxdqzJgxTi0LAAA0\n",
              "Io7+1k9WVpaysrIUGxuruXPnKjs7W5KUnp6u3NxcSVKXLl00Z84cDRo0SDExMWrfvr0yMjKcXBYA\n",
              "AGgkHD1HJS4uTps2baqxfcmSJT7XJ06cqIkTJ/r1vx0aGqonnnii2b5N1JznZ3Zmb46a8/zM3rRn\n",
              "d+y3fgAAAC4WH6EPAACsRagAAABrESoAAMBahAoAALBWowiV+n4L886dOzVkyBD16NFDPXr0UE5O\n",
              "jiTpvffeU4sWLdSvXz/v5ccff/T+nO3f3nyx82dnZ/vM3q5dO40ePVrS6Q/YCw4O9rn97A/gC7T6\n",
              "zF7XfJK0Zs0ade/eXd26ddPo0aNVVlZWr9sC7WJn37lzp37xi1+oe/fu6t27tyZMmODzuHe5XOrT\n",
              "p4/3Zzds2HDJZjufi539fI/rpny/v/POOz63XXPNNUpISPD+rM33u1S/+aurqzV9+nT17NlTffv2\n",
              "1dChQ32+R64pP+frmr0xP+frZBqBoUOHmuzsbGOMMa+99pq5/vrra+xz4sQJc+2115oNGzYYY4yp\n",
              "rKw0paWlxhhj1q9fb+Lj48957C+//NJERUWZkpISU11dbUaOHGleeOEFR+a4UBc7/0/16tXLrFy5\n",
              "0hhjzN69e014eLgj6/aH+sz+U2fPd/z4cRMREWE+++wzY4wx999/v/n9739/3ttscLGzFxQUmB07\n",
              "dhhjTj8e7rzzTvPEE09495VkvvvuO38v2y8udva6HtdN/X7/qV/96lfm2Wef9V63+X43pn7zr169\n",
              "2iQlJZmTJ08aY4x56qmnzB133GGMafrP+bpmb8zP+bpYHyqHDh0yLVu2NKdOnTLGGFNdXW2uvvpq\n",
              "U1hY6LPf4sWLzd13333OY9QVKn/5y19MRkaG9/qbb75pBg0a5J/F+4E/5j/b5s2bTfv27b0PcptD\n",
              "pb6zn+2n87366qvmxhtv9N6en59vOnTocN7bAs0fs//UM888Y8aPH++9butfWv6Yva7HdXO63w8e\n",
              "PGguv/xyc+jQIe82W+93Y+o//+uvv27i4+NNWVmZqa6uNg899JD57W9/a4xp+s/5umb/qcbynD8f\n",
              "69/6KS4uVlRUlEJCTn82ncvlktvtrvHtyrt371ZoaKhuueUW9evXT+PGjdPhw4e9t+/Zs0cJCQlK\n",
              "TEzUggULvNs9Ho86derkvd65c+dav7k5EPw1/xlLly7V2LFjddlll3m3nThxQomJiUpISNCTTz6p\n",
              "qqoqZ4eqp/rOfrafzneu+/fMd1DVdVug+WP2s504cUJLlizRqFGjfLYPHz5c8fHxmj59uk6cOOHf\n",
              "IS6Qv2av7XHdnO73F198UTfffLMiIiJ8ttt4v0v1n3/kyJEaMmSIIiMjFRUVpXfffVdPPvmkpKb/\n",
              "nK9r9rM1puf8+VgfKvVVWVmptWvXKisrS5988ok6dOigKVOmSJISEhJ04MABbd++XatXr9bChQv1\n",
              "6quvBnjF/lXX/GecOHFCL7/8su69917vtqioKB08eFBbt27V2rVrtWHDBv31r3+91Mv3i3PN11zU\n",
              "NfvJkyd111136Ze//KVuu+027/b9+/dr27Zt2rhxow4fPqyHHnroUi7Zb5r647oudd3vxhj985//\n",
              "rHFbU7jf8/LytGvXLh08eFBfffWVhg8frsmTJwd6WZdEfWZvas9560Pl7G9hllTntzAPHTpUHTp0\n",
              "kMvlUmpqqjZv3ixJCgsLU3h4uCQpOjpad999t/ckIrfbrf3793uPc75vb77U/DH/Ga+99pp69eql\n",
              "nj17ereFhoZ6/7XVpk0bTZgwwZoTrOo7+xnnmu9c9++Zf7XUdVug+WN2STp16pTuuusuRUVFad68\n",
              "eT63nTnWlVdeqfvuu69J3e91Pa6bw/0uSe+//77Ky8t14403+my39X6X6j//smXLNGzYMLVq1UpB\n",
              "QUEaP3681q9fL6npP+frml1qnM/587E+VOr7Lcx33nmntm7d6j2D+6233lJ8fLwkqaSkRNXV1ZKk\n",
              "48ePa82aNbruuusk2f/tzf6Y/4ylS5fW+NdVaWmp97ecKioqlJOT4/1/E2j1nf2Mc803YsQIbd++\n",
              "XZ9//rkkacGCBd77t67bAs0fs1dWVmrMmDFq06aNFi1aJJfL5b3tu+++0w8//CDp9G8RvPLKK03q\n",
              "fq/rcd3U7/ezb0tLS1NwcLB3m833u1T/+bt06aJ169bp5MmTkk7/Jk/v3r0lNf3nfF2zN9bn/HkF\n",
              "6uSYhvj888/NgAEDTLdu3Uz//v3Np59+aowx5t577zVvvPGGd79ly5aZXr16mT59+pgRI0YYj8dj\n",
              "jDFm/vz5pmfPnqZv376mZ8+e5oknnjDV1dXen1u0aJHp0qWL6dKli5kwYUKtJyMGysXOf+YYV111\n",
              "lSkrK/M59qpVq0yvXr28/28eeOABU15efmkGq4f6zl7bfMYY88Ybb5i4uDjTtWtXM2rUKHP06NF6\n",
              "3RZoFzv7ihUrjCTTt29fEx8fb+Lj4819991njDFm48aNpk+fPt77PTU11Rw5cuTSDXceFzv7+R7X\n",
              "Tfl+N8aYo0ePmiuuuMLs2bPHZ7vt97sx9Zu/vLzcpKenm+7du5s+ffqYG264wWfWpvycr2v2xvyc\n",
              "rwtfSggAAKxl/Vs/AACg+SJUAACAtQgVAABgLUIFAABYi1ABAADWIlQAAIC1CBUAAGAtQgUAAFiL\n",
              "UAEAANYiVAAAgLX+H1TT9TWkjykqAAAAAElFTkSuQmCC\n",
              "\">\n",
              "      </div>\n",
              "      <script type=\"text/javascript\">\n",
              "        (() => {\n",
              "          const chartElement = document.getElementById(\"chart-58685dd6-86eb-486d-a121-229c00bb896d\");\n",
              "          async function getCodeForChartHandler(event) {\n",
              "            const chartCodeResponse =  await google.colab.kernel.invokeFunction(\n",
              "                'getCodeForChart', [\"chart-58685dd6-86eb-486d-a121-229c00bb896d\"], {});\n",
              "            const responseJson = chartCodeResponse.data['application/json'];\n",
              "            await google.colab.notebook.addCell(responseJson.code, 'code');\n",
              "          }\n",
              "          chartElement.onclick = getCodeForChartHandler;\n",
              "        })();\n",
              "      </script>\n",
              "      <style>\n",
              "        .colab-quickchart-chart-with-code  {\n",
              "            display: block;\n",
              "            float: left;\n",
              "            border: 1px solid transparent;\n",
              "        }\n",
              "\n",
              "        .colab-quickchart-chart-with-code:hover {\n",
              "            cursor: pointer;\n",
              "            border: 1px solid #aaa;\n",
              "        }\n",
              "      </style>"
            ]
          },
          "metadata": {}
        },
        {
          "output_type": "display_data",
          "data": {
            "text/plain": [
              "from matplotlib import pyplot as plt\n",
              "all_model_results['f1'].plot(kind='hist', bins=20, title='f1')\n",
              "plt.gca().spines[['top', 'right',]].set_visible(False)"
            ],
            "text/html": [
              "      <div class=\"colab-quickchart-chart-with-code\" id=\"chart-4c9062f3-1993-4e7c-9cee-9d0d972be518\">\n",
              "        <img style=\"width: 180px;\" src=\"data:image/png;base64,iVBORw0KGgoAAAANSUhEUgAAAioAAAGrCAYAAADuNLxTAAAAOXRFWHRTb2Z0d2FyZQBNYXRwbG90\n",
              "bGliIHZlcnNpb24zLjcuMSwgaHR0cHM6Ly9tYXRwbG90bGliLm9yZy/bCgiHAAAACXBIWXMAAA9h\n",
              "AAAPYQGoP6dpAAAf70lEQVR4nO3de3BU5f3H8c+S+FtRTBAkJRJWGkLCRZIYTMoE2+EyVrQCSqy3\n",
              "RkkxF9TWtmmFRuooaAu9TaU6DIHQUJrxGlAzeJtBooMCQsAiBhWChI0YCaNCEE3IJs/vD8oOa0jM\n",
              "wh72SXi/ZnaGPXs4fh9P1nm7e7LrMsYYAQAAWKhXuAcAAADoCKECAACsRagAAABrESoAAMBahAoA\n",
              "ALAWoQIAAKxFqAAAAGsRKgAAwFqECgAAsBahAsAaLS0t+tnPfqZ+/fqpT58+Onz4cLhHAhBmhAoA\n",
              "a5SXl6uyslK1tbX66quv9O9//1s/+MEPdMEFFyguLi7c4wEIA0IFgDX27Nmj+Ph4RUVFSZIuvfRS\n",
              "zZ49W3Pnzg3zZADCJTLcAwCAJOXk5OjJJ59Ua2ur+vTpox/+8Id65ZVXJEkrVqwI73AAwoZQAWCF\n",
              "FStWaMiQIVq7dq3eeuutcI8DwBK89QMAAKxFqAAAAGsRKgAAwFpcowLAWj6fTz6fTy0tLZKkpqYm\n",
              "SZLb7ZbL5QrnaADOEl5RAWCtRx99VL1791Z+fr7279+v3r17q3fv3tq3b1+4RwNwlriMMSbcQwAA\n",
              "AJwKr6gAAABrESoAAMBahAoAALAWoQIAAKxFqAAAAGsRKgAAwFqECgAAsFaPCJVFixaFewQAAOCA\n",
              "HhEqfEolAAA9U48IFQAA0DMRKgAAwFqECgAAsBahAgAArEWoAAAAaxEqAADAWoQKAACwFqECAACs\n",
              "RagAAABrESoAAMBahAoAALAWoQIAAKzlaKjcd999GjJkiFwul/773/92uN/y5cs1bNgwDR06VHl5\n",
              "eWppaXFyLAAA0E04Gio33XST3nrrLV122WUd7rN37149+OCDWr9+vWpqanTgwAEtXbrUybEAAEA3\n",
              "4Wio/OhHP1JcXFyn+5SXl2vq1KkaOHCgXC6XZs2apaeeeqrD/Zubm9XY2Bhwa21tDfXoAADAApHh\n",
              "HsDr9Qa84jJkyBB5vd4O91+wYIHmzZsXsG3s2LGOzDbk9y85clxJql34E8eOjbPDyZ8Ppzj1c8dz\n",
              "pfvjHHZ/Tp3DcJ+/bncxbVFRkQ4fPhxwy8jICPdYAADAAWF/RcXj8WjPnj3++7W1tfJ4PB3u73a7\n",
              "5Xa7A7ZFREQ4Nh8AAAifsL+ikpWVpYqKCn322WcyxmjJkiW69dZbwz0WAACwgKOhUlBQoLi4OH3y\n",
              "ySe65pprlJCQIEnKzc1VRUWFJCk+Pl7z5s3TuHHjlJCQoAEDBqigoMDJsQAAQDfh6Fs/xcXFp9xe\n",
              "UlIScD8vL095eXlOjgIAALqhsL/1AwAA0BFCBQAAWItQAQAA1iJUAACAtQgVAABgLUIFAABYi1AB\n",
              "AADWIlQAAIC1CBUAAGAtQgUAAFiLUAEAANYiVAAAgLUIFQAAYC1CBQAAWItQAQAA1iJUAACAtQgV\n",
              "AABgLUIFAABYi1ABAADWIlQAAIC1CBUAAGAtQgUAAFiLUAEAANYiVAAAgLUIFQAAYC1CBQAAWItQ\n",
              "AQAA1iJUAACAtQgVAABgLUIFAABYi1ABAADWIlQAAIC1CBUAAGAtQgUAAFiLUAEAANYiVAAAgLUI\n",
              "FQAAYC1CBQAAWItQAQAA1iJUAACAtQgVAABgLUIFAABYi1ABAADWIlQAAIC1CBUAAGAtQgUAAFiL\n",
              "UAEAANYiVAAAgLUIFQAAYC1CBQAAWItQAQAA1iJUAACAtQgVAABgLUIFAABYi1ABAADWIlQAAIC1\n",
              "CBUAAGAtQgUAAFiLUAEAANYiVAAAgLUIFQAAYC1HQ2X37t3KzMxUYmKi0tPTVV1d3W6ftrY2FRYW\n",
              "auTIkUpOTtaECRNUU1Pj5FgAAKCbcDRUCgoKlJ+fr127dmnOnDnKyclpt09FRYXefvttbd++Xe+9\n",
              "954mTZqkBx54wMmxAABAN+FYqDQ0NKiqqkrZ2dmSpKysLNXV1bV7tcTlcqm5uVlNTU0yxqixsVFx\n",
              "cXFOjQUAALqRSKcOXFdXp9jYWEVGHv9HuFwueTweeb1eJSQk+PebMmWKKisrNXDgQF100UUaNGiQ\n",
              "3nzzzQ6P29zcrObm5oBtra2tziwCAACEVdgvpq2qqtL777+v/fv369NPP9WkSZM0a9asDvdfsGCB\n",
              "oqOjA26bN28+ixMDAICzxbFQGTx4sOrr6+Xz+SRJxhh5vV55PJ6A/VauXKmJEyeqb9++6tWrl2bM\n",
              "mKHKysoOj1tUVKTDhw8H3DIyMpxaBgAACCPHQiUmJkZpaWkqKyuTJK1atUpxcXEBb/tIUnx8vNat\n",
              "W6djx45JktasWaPLL7+8w+O63W5FRUUF3CIiIpxaBgAACCPHrlGRpOLiYuXk5OhPf/qToqKiVFpa\n",
              "KknKzc3V1KlTNXXqVN1777364IMPlJKSovPOO08DBw7UkiVLnBwLAAB0E46GSlJSkjZu3Nhue0lJ\n",
              "if/Pbrdby5Ytc3IMAADQTYX9YloAAICOECoAAMBahAoAALAWoQIAAKxFqAAAAGsRKgAAwFqECgAA\n",
              "sBahAgAArEWoAAAAaxEqAADAWoQKAACwFqECAACsRagAAABrESoAAMBahAoAALAWoQIAAKxFqAAA\n",
              "AGsRKgAAwFqECgAAsBahAgAArEWoAAAAaxEqAADAWoQKAACwFqECAACsRagAAABrESoAAMBahAoA\n",
              "ALAWoQIAAKxFqAAAAGsRKgAAwFqECgAAsBahAgAArEWoAAAAaxEqAADAWoQKAACwFqECAACsRagA\n",
              "AABrESoAAMBahAoAALAWoQIAAKxFqAAAAGsRKgAAwFqECgAAsBahAgAArEWoAAAAaxEqAADAWoQK\n",
              "AACwFqECAACsRagAAABrESoAAMBahAoAALAWoQIAAKxFqAAAAGsRKgAAwFqECgAAsBahAgAArEWo\n",
              "AAAAaxEqAADAWoQKAACwFqECAACsRagAAABrESoAAMBajobK7t27lZmZqcTERKWnp6u6uvqU++3Y\n",
              "sUPjx4/XiBEjNGLECK1evdrJsQAAQDcR6eTBCwoKlJ+fr5ycHJWXlysnJ0dbtmwJ2Ofrr7/WtGnT\n",
              "tHLlSl111VVqbW3VF1984eRYAACgm3DsFZWGhgZVVVUpOztbkpSVlaW6ujrV1NQE7Pfkk09q7Nix\n",
              "uuqqqyRJERERGjBgQIfHbW5uVmNjY8CttbXVqWUAAIAwcixU6urqFBsbq8jI4y/auFwueTweeb3e\n",
              "gP127twpt9ut66+/Xqmpqbrzzjt18ODBDo+7YMECRUdHB9w2b97s1DIAAEAYBR0qr732WkgH8Pl8\n",
              "Wrt2rYqLi/Xuu+9q0KBBuvvuuzvcv6ioSIcPHw64ZWRkhHQmAABgh6BDZf78+UpKStKiRYvU2NjY\n",
              "4X6DBw9WfX29fD6fJMkYI6/XK4/HE7Cfx+PRhAkTNGjQILlcLmVnZ2vTpk0dHtftdisqKirgFhER\n",
              "EewyAABANxB0qLz99tt6+umn9f777ysxMVH33HOPdu7c2W6/mJgYpaWlqaysTJK0atUqxcXFKSEh\n",
              "IWC/m2++WVu2bPFHz8svv6yUlJTTWQsAAOhhTusalSuuuELLli3Tq6++qjVr1ig5OVlXX321duzY\n",
              "EbBfcXGxiouLlZiYqIULF6q0tFSSlJubq4qKCknHX1F54IEHlJmZqeTkZK1bt05Lliw5w2UBAICe\n",
              "4LR+PXnt2rV6/PHHtWPHDt17772666679MYbb+jGG28M+K2epKQkbdy4sd3fLykpCbh/xx136I47\n",
              "7jidUQAAQA8WdKiMGDFCl1xyie677z5Nnz7df33ITTfdpOXLl4d8QAAAcO4KOlTKyso0ZsyYUz72\n",
              "yiuvnPFAAAAAJwR9jcrWrVsDPjn2888/17Jly0I6FAAAgHQaobJ48WL169fPf79///5avHhxSIcC\n",
              "AACQTiNUjDHttvER9gAAwAlBh0psbKyeffZZ//1nnnlGsbGxIR0KAABAOo2LaR977DFNmzZNs2fP\n",
              "liRdcMEFevHFF0M+GAAAQNChMnz4cO3cuVMfffSRpOOflcJH2AMAACec1ge+uVwu9e3bVz6fT/v3\n",
              "75ekdt/hAwAAcKaCDpUVK1bovvvu03nnnadevY5f4uJyudTQ0BDy4QAAwLkt6FB55JFHtGXLFiUl\n",
              "JTkxDwAAgF/Qv/VzySWXECkAAOCsCDpUbrjhBj322GNqaGhQY2Oj/wYAABBqQb/1M3fuXElSYWGh\n",
              "XC6XjDFyuVx86BsAAAi5oEOlra3NiTkAAADaCfqtH+n4FxP+5z//kSQdOnRI9fX1IR0KAABAOs0v\n",
              "JZw5c6YefvhhSce/Pfn2228P9VwAAADBh8rSpUu1adMmRUVFSZKGDh2qgwcPhnwwAACAoEPF7Xar\n",
              "d+/eAdsiI0/rA24BAAA6FXSoDBgwQLt27ZLL5ZJ0/JNq+fh8AADghNP69uTbbrtNH374oQYPHqyo\n",
              "qCitWbPGidkAAMA5LuhQSUhI0DvvvKOPPvpIxhi+PRkAADgm6FDxer2SpAsvvFCS+PZkAADgmKBD\n",
              "ZcyYMf5PpG1qatLXX3+t/v378+3JAAAg5IIOlW//KvLq1au1ffv2kA0EAABwwml9Mu3Jpk+frpde\n",
              "eikUswAAAAQI+hWVk78pubW1Ve+88w7fngwAABwRdKj07dvXf41KRESEhg0bpn/+859OzAYAAM5x\n",
              "fHsyAACw1hlfowIAAOCUoF9R6dWrl//j809mjJHL5VJra2tIBgMAAAg6VObPn69vvvlGd999tyRp\n",
              "yZIl6t27t37961+HejYAAHCOCzpUnn/+eW3dutV//9FHH9WYMWM0d+7ckA4GAAAQ9DUqR44cCfgU\n",
              "2oaGBh05ciSkQwEAAEin8YrKb3/7W6WkpOi6666TJL366qt6+OGHQz0XAABA8KFSUFCgcePGqbKy\n",
              "UpJUWFioUaNGhXwwAACAoENFkvr376/Ro0dr/Pjx8vl8OnbsmP7v//4v1LMBAIBzXNDXqJSXl2vs\n",
              "2LH6+c9/Lkmqrq7WDTfcEOq5AAAAgg+VBQsWaNu2berbt68kKSUlRfv27Qv1XAAAAMGHSkREhPr3\n",
              "7x+wjbd9AACAE4IOlYsuukgHDhzwfzrt66+/rn79+oV8MAAAgKAvpv3zn/+sa6+9Vh9//LGuuuoq\n",
              "7d27Vy+99JITswEAgHNcUKHS1tam1tZWVVZWasOGDTLGKDMz03+9CgAAQCgFFSq9evVSfn6+tm/f\n",
              "rmuvvdapmQAAACSdxjUqw4YNU01NjROzAAAABAj6GpUvvvhCqampyszMVJ8+ffzbV69eHdLBAAAA\n",
              "uhwq+fn5Wrp0qWbMmKGpU6fq4osvdnIuAACArodKVVWVJGnGjBlKS0vTtm3bHBsKAABAOo1rVCTJ\n",
              "GBPqOQAAANrp8isq33zzjXbs2CFjjJqamvx/PiE5OdmRAQEAwLkrqFCZOnWq//7Jf3a5XPr4449D\n",
              "OxkAADjndTlUamtrHRwDAACgvdO6RgUAAOBsIFQAAIC1CBUAAGAtQgUAAFiLUAEAANYiVAAAgLUI\n",
              "FQAAYC1CBQAAWItQAQAA1nI0VHbv3q3MzEwlJiYqPT1d1dXVHe5rjNHEiRPVt29fJ0cCAADdiKOh\n",
              "UlBQoPz8fO3atUtz5sxRTk5Oh/v+4x//0NChQ50cBwAAdDOOhUpDQ4OqqqqUnZ0tScrKylJdXZ1q\n",
              "amra7VtdXa0XXnhBv//977/zuM3NzWpsbAy4tba2hnx+AAAQfo6FSl1dnWJjYxUZefx7D10ulzwe\n",
              "j7xeb8B+LS0tysvLU3FxsSIiIr7zuAsWLFB0dHTAbfPmzY6sAQAAhFfYL6adN2+epk+frhEjRnRp\n",
              "/6KiIh0+fDjglpGR4fCUAAAgHCKdOvDgwYNVX18vn8+nyMhIGWPk9Xrl8XgC9nvzzTfl9Xr1xBNP\n",
              "yOfzqbGxUUOGDNGWLVs0YMCAdsd1u91yu90B27rySgwAAOh+HHtFJSYmRmlpaSorK5MkrVq1SnFx\n",
              "cUpISAjYb/369dq3b59qa2v11ltvKSoqSrW1taeMFAAAcG5x9K2f4uJiFRcXKzExUQsXLlRpaakk\n",
              "KTc3VxUVFU7+owEAQA/g2Fs/kpSUlKSNGze2215SUnLK/YcMGaJDhw45ORIAAOhGwn4xLQAAQEcI\n",
              "FQAAYC1CBQAAWItQAQAA1iJUAACAtQgVAABgLUIFAABYi1ABAADWIlQAAIC1CBUAAGAtQgUAAFiL\n",
              "UAEAANYiVAAAgLUIFQAAYC1CBQAAWItQAQAA1iJUAACAtQgVAABgLUIFAABYi1ABAADWIlQAAIC1\n",
              "CBUAAGAtQgUAAFiLUAEAANYiVAAAgLUIFQAAYC1CBQAAWItQAQAA1iJUAACAtQgVAABgLUIFAABY\n",
              "i1ABAADWIlQAAIC1CBUAAGAtQgUAAFiLUAEAANYiVAAAgLUIFQAAYC1CBQAAWItQAQAA1iJUAACA\n",
              "tQgVAABgLUIFAABYi1ABAADWIlQAAIC1CBUAAGAtQgUAAFiLUAEAANYiVAAAgLUIFQAAYC1CBQAA\n",
              "WItQAQAA1iJUAACAtQgVAABgLUIFAABYi1ABAADWIlQAAIC1CBUAAGAtQgUAAFiLUAEAANYiVAAA\n",
              "gLUIFQAAYC1HQ2X37t3KzMxUYmKi0tPTVV1d3W6fdevWKSMjQyNHjtSoUaM0e/ZstbW1OTkWAADo\n",
              "JhwNlYKCAuXn52vXrl2aM2eOcnJy2u1z8cUX6+mnn9bOnTu1detWbdiwQStXrnRyLAAA0E04FioN\n",
              "DQ2qqqpSdna2JCkrK0t1dXWqqakJ2O+KK65QfHy8JOn8889XamqqamtrOzxuc3OzGhsbA26tra1O\n",
              "LQMAAISRY6FSV1en2NhYRUZGSpJcLpc8Ho+8Xm+Hf+ezzz5TeXm5rr/++g73WbBggaKjowNumzdv\n",
              "Dvn8AAAg/Ky5mLaxsVFTpkzR7NmzdeWVV3a4X1FRkQ4fPhxwy8jIOIuTAgCAsyXSqQMPHjxY9fX1\n",
              "8vl8ioyMlDFGXq9XHo+n3b5HjhzR5MmTNW3aNBUWFnZ6XLfbLbfbHbAtIiIipLMDAAA7OPaKSkxM\n",
              "jNLS0lRWViZJWrVqleLi4pSQkBCw31dffaXJkydr8uTJ+sMf/uDUOAAAoBty9K2f4uJiFRcXKzEx\n",
              "UQsXLlRpaakkKTc3VxUVFZKkRYsWafPmzVq9erVSU1OVmpqqP/7xj06OBQAAugnH3vqRpKSkJG3c\n",
              "uLHd9pKSEv+f586dq7lz5zo5BgAA6KasuZgWAADg2wgVAABgLUIFAABYi1ABAADWIlQAAIC1CBUA\n",
              "AGAtQgUAAFiLUAEAANYiVAAAgLUIFQAAYC1CBQAAWItQAQAA1iJUAACAtQgVAABgLUIFAABYi1AB\n",
              "AADWIlQAAIC1CBUAAGAtQgUAAFiLUAEAANYiVAAAgLUIFQAAYC1CBQAAWItQAQAA1iJUAACAtQgV\n",
              "AABgLUIFAABYi1ABAADWIlQAAIC1CBUAAGAtQgUAAFiLUAEAANYiVAAAgLUIFQAAYC1CBQAAWItQ\n",
              "AQAA1iJUAACAtQgVAABgLUIFAABYi1ABAADWIlQAAIC1CBUAAGAtQgUAAFiLUAEAANYiVAAAgLUI\n",
              "FQAAYC1CBQAAWItQAQAA1iJUAACAtQgVAABgLUIFAABYi1ABAADWIlQAAIC1CBUAAGAtQgUAAFiL\n",
              "UAEAANYiVAAAgLUIFQAAYC1CBQAAWItQAQAA1iJUAACAtRwNld27dyszM1OJiYlKT09XdXX1Kfdb\n",
              "vny5hg0bpqFDhyovL08tLS1OjgUAALoJR0OloKBA+fn52rVrl+bMmaOcnJx2++zdu1cPPvig1q9f\n",
              "r5qaGh04cEBLly51ciwAANBNOBYqDQ0NqqqqUnZ2tiQpKytLdXV1qqmpCdivvLxcU6dO1cCBA+Vy\n",
              "uTRr1iw99dRTHR63ublZjY2NAbfW1lanlgEAAMLIZYwxThx469atuv322/XRRx/5t2VkZGjhwoWa\n",
              "OHGif9svf/lLXXrppSoqKpIk7dy5U5MnT5bX6z3lcR9++GHNmzcvYNvw4cN17bXXOrCK79ba2qrN\n",
              "mzcrIyNDERERYZnhbGK9PRvr7fnOtTWzXrtddtll+tWvftXpPpFnaZaQKSoqUmFhYcA2t9stt9sd\n",
              "lnkaGxsVHR2t1157TVFRUWGZ4WxivT0b6+35zrU1s97uz7FQGTx4sOrr6+Xz+RQZGSljjLxerzwe\n",
              "T8B+Ho9He/bs8d+vra1tt8/JwhklAADg7HLsGpWYmBilpaWprKxMkrRq1SrFxcUpISEhYL+srCxV\n",
              "VFTos88+kzFGS5Ys0a233urUWAAAoBtx9Ld+iouLVVxcrMTERC1cuFClpaWSpNzcXFVUVEiS4uPj\n",
              "NW/ePI0bN04JCQkaMGCACgoKnBwLAAB0E45eo5KUlKSNGze2215SUhJwPy8vT3l5eU6O4hi3262H\n",
              "HnronHk7ivX2bKy35zvX1sx6uz/HfusHAADgTPER+gAAwFqECgAAsBahAgAArEWoAAAAaxEqJ+nq\n",
              "tz3v2LFD48eP14gRIzRixAitXr1akvTGG2+od+/eSk1N9d+++eYb/9+z7Vuiz3S9paWlAWu95JJL\n",
              "NH36dEnHP7gvIiIi4PGTP9gvHLqy3s7WJElr1qzR8OHDNWzYME2fPl2NjY1deiwcznS9O3bs0I9+\n",
              "9CMNHz5cl19+uWbOnBnw8+xyuTR69Gj/312/fv1ZW9upnOl6v+tntqed39deey3gsUsvvVRpaWn+\n",
              "v2vb+ZW6tua2tjYVFhZq5MiRSk5O1oQJEwK+Y66nPYc7W293ew53yMBvwoQJprS01BhjzHPPPWeu\n",
              "vPLKdvscPXrUfP/73zfr1683xhjj8/lMQ0ODMcaYyspKk5KScspjf/zxxyY2NtbU19ebtrY2M2XK\n",
              "FPPEE084so6uOtP1ftuoUaNMeXm5McaYvXv3mujoaEfmPl1dWe+3nbymI0eOmJiYGPPBBx8YY4y5\n",
              "9957ze9+97vvfCxcznS9u3btMtu3bzfGHD/vN998s3nooYf8+0oyX375ZajHPm1nut7OfmZ74vn9\n",
              "tp/85Cfmb3/7m/++befXmK6t+fnnnzcZGRnm2LFjxhhjHnnkEfPTn/7UGNMzn8Odrbe7PYc7Qqj8\n",
              "z4EDB8xFF11kWlpajDHGtLW1me9973tm9+7dAfstW7bM3Hbbbac8Rmeh8pe//MUUFBT477/00ktm\n",
              "3LhxoRn+NIRivSfbtGmTGTBggP/JYluodHW9J/v2mp599llzzTXX+B+vrq42gwYN+s7HwiEU6/22\n",
              "v/71r2bGjBn++zb9Ry4U6+3sZ7ann9/9+/eb888/3xw4cMC/zabza0zX1/zCCy+YlJQU09jYaNra\n",
              "2sz9999vfvOb3xhjeuZzuLP1fpvNz+HO8NbP/9TV1Sk2NlaRkcc/A8/lcsnj8bT7FuedO3fK7Xbr\n",
              "+uuvV2pqqu68804dPHjQ//iePXuUlpam9PR0LV682L/d6/Xqsssu898fMmRIh98QfTaEar0nLF++\n",
              "XHfccYfOO+88/7ajR48qPT1daWlpmj9/vlpbW51dVCe6ut6TfXtNpzqHJ77PqrPHwiEU6z3Z0aNH\n",
              "VVJSomnTpgVsnzRpklJSUlRYWKijR4+GdhFBCNV6O/qZ7ennd8WKFbruuusUExMTsN2W8yt1fc1T\n",
              "pkzR+PHjNXDgQMXGxur111/X/PnzJfXM53Bn6z2Z7c/hzhAqQfL5fFq7dq2Ki4v17rvvatCgQbr7\n",
              "7rslSWlpafrkk0+0bds2Pf/881qyZImeffbZME98Zjpb7wlHjx7V008/rbvuusu/LTY2Vvv379eW\n",
              "LVu0du1arV+/Xn//+9/P9vin7VRr6sk6W++xY8d0yy236Mc//rFuvPFG//Z9+/Zp69at2rBhgw4e\n",
              "PKj777//bI58Rnriz2xnOju/xhj961//avdYdz2/VVVVev/997V//359+umnmjRpkmbNmhXusRzT\n",
              "lfV29+cwofI/J3/bs6ROv+15woQJGjRokFwul7Kzs7Vp0yZJUlRUlKKjoyVJcXFxuu222/wXJ3k8\n",
              "Hu3bt89/nO/6lminhWK9Jzz33HMaNWqURo4c6d/mdrv9/3fWr18/zZw5M6wXanV1vSecak2nOocn\n",
              "/o+ns8fCIRTrlaSWlhbdcsstio2N1aJFiwIeO3GsCy+8UPfcc0+3P7+d/cz21PMrSW+++aaampp0\n",
              "zTXXBGy36fxKXV/zypUrNXHiRPXt21e9evXSjBkzVFlZKalnPoc7W6/UfZ7DnSFU/qer3/Z88803\n",
              "a8uWLf6rwV9++WWlpKRIkurr69XW1iZJOnLkiNasWaMrrrhCkn3fEh2K9Z6wfPnydv831tDQ4P+t\n",
              "pubmZq1evdr/7yIcurreE061psmTJ2vbtm368MMPJUmLFy/2n8POHguHUKzX5/Pp1ltvVb9+/bR0\n",
              "6VK5XC7/Y19++aW+/vprScd/6+CZZ57p9ue3s5/Znnh+T34sJydHERER/m22nV+p62uOj4/XunXr\n",
              "dOzYMUnHf5Pn8ssvl9Qzn8Odrbc7PYc7Fa6LY2z04YcfmrFjx5phw4aZMWPGmPfee88YY8xdd91l\n",
              "XnzxRf9+K1euNKNGjTKjR482kydPNl6v1xhjzOOPP25GjhxpkpOTzciRI81DDz1k2tra/H9v6dKl\n",
              "Jj4+3sTHx5uZM2d2eNHi2XKm6z1xjD59+pjGxsaAY69atcqMGjXK/+/iF7/4hWlqajo7C+tAV9fb\n",
              "0ZqMMebFF180SUlJZujQoWbatGnm0KFDXXosHM50vWVlZUaSSU5ONikpKSYlJcXcc889xhhjNmzY\n",
              "YEaPHu0/v9nZ2ebzzz8/e4s7hTNd73f9zPa082uMMYcOHTIXXHCB2bNnT8B2G8+vMV1bc1NTk8nN\n",
              "zTXDhw83o0ePNldffXXA+nrac7iz9Xa353BH+FJCAABgLd76AQAA1iJUAACAtQgVAABgLUIFAABY\n",
              "i1ABAADWIlQAAIC1CBUAAGAtQgUAAFiLUAEAANYiVAAAgLX+H5mFV3S09D6TAAAAAElFTkSuQmCC\n",
              "\">\n",
              "      </div>\n",
              "      <script type=\"text/javascript\">\n",
              "        (() => {\n",
              "          const chartElement = document.getElementById(\"chart-4c9062f3-1993-4e7c-9cee-9d0d972be518\");\n",
              "          async function getCodeForChartHandler(event) {\n",
              "            const chartCodeResponse =  await google.colab.kernel.invokeFunction(\n",
              "                'getCodeForChart', [\"chart-4c9062f3-1993-4e7c-9cee-9d0d972be518\"], {});\n",
              "            const responseJson = chartCodeResponse.data['application/json'];\n",
              "            await google.colab.notebook.addCell(responseJson.code, 'code');\n",
              "          }\n",
              "          chartElement.onclick = getCodeForChartHandler;\n",
              "        })();\n",
              "      </script>\n",
              "      <style>\n",
              "        .colab-quickchart-chart-with-code  {\n",
              "            display: block;\n",
              "            float: left;\n",
              "            border: 1px solid transparent;\n",
              "        }\n",
              "\n",
              "        .colab-quickchart-chart-with-code:hover {\n",
              "            cursor: pointer;\n",
              "            border: 1px solid #aaa;\n",
              "        }\n",
              "      </style>"
            ]
          },
          "metadata": {}
        },
        {
          "output_type": "display_data",
          "data": {
            "text/plain": [
              "<google.colab._quickchart_helpers.SectionTitle at 0x7ae4dbae02b0>"
            ],
            "text/html": [
              "<h4 class=\"colab-quickchart-section-title\">2-d distributions</h4>\n",
              "<style>\n",
              "  .colab-quickchart-section-title {\n",
              "      clear: both;\n",
              "  }\n",
              "</style>"
            ]
          },
          "metadata": {}
        },
        {
          "output_type": "display_data",
          "data": {
            "text/plain": [
              "from matplotlib import pyplot as plt\n",
              "all_model_results.plot(kind='scatter', x='accuracy', y='precision', s=32, alpha=.8)\n",
              "plt.gca().spines[['top', 'right',]].set_visible(False)"
            ],
            "text/html": [
              "      <div class=\"colab-quickchart-chart-with-code\" id=\"chart-98bab397-22b5-4f9f-92df-ebe74ff2396e\">\n",
              "        <img style=\"width: 180px;\" src=\"data:image/png;base64,iVBORw0KGgoAAAANSUhEUgAAAjgAAAGkCAYAAAA8OV9TAAAAOXRFWHRTb2Z0d2FyZQBNYXRwbG90\n",
              "bGliIHZlcnNpb24zLjcuMSwgaHR0cHM6Ly9tYXRwbG90bGliLm9yZy/bCgiHAAAACXBIWXMAAA9h\n",
              "AAAPYQGoP6dpAAA0bElEQVR4nO3dfXRU1b3G8WcyEyaYkCiGmAgkqEkIEMjLJSgoirIQbDG2cFso\n",
              "Bg1CiUXaurJqKfZSry+F2laslSphiVGb8qKGCvWtLcViWkogShCoIKEkk2owQSl5gQw5k3P/YDGX\n",
              "MQkSmMkkJ9/PWmet5ux9zvx2Tic+7LNnjs00TVMAAAAWEhLsAgAAAPyNgAMAACyHgAMAACyHgAMA\n",
              "ACyHgAMAACyHgAMAACyHgAMAACyHgAMAACynVwecp556KtglAACAAOjVAaeqqirYJQAAgADo1QEH\n",
              "AABYEwEHAABYDgEHAABYDgEHAABYDgEHAABYDgEHAABYDgEHAABYDgEHAABYDgEHAABYDgEHAABY\n",
              "DgEHAAD4VXOLR0cb3Wpu8QStBkfQXhkAAFhKXYNbRdsr9fbeT3WyxaO+oXbdlhqrnLEJio5wdmkt\n",
              "zOAAAICLVtfg1nfX7tLvSl1qchtyhNjU5DZUVFqlhWt26Wiju0vrIeAAAICLVrS9UhW1DRoQ4dRl\n",
              "4X0U7nTosvA+GhDhVEVtg4r+UdWl9RBwAADARWlu8ejtvZ8qzGGXw+4bLRz2EDkddr2170iXrskh\n",
              "4AAAgIvS6DZ0ssWjPo72Y4XTEaKTpzxqdBtdVhMBBwAAXJQIp0N9Q+06ZbS22+42WtW3j10Rzq77\n",
              "bBMBBwAAXJSwULumpF6hZsMjw+MbcgxPq9yGR7eNiFVYqL3LauJj4gAA4KLNHjtEpYePqaK2QU6H\n",
              "XU5HiNzG6XCTFNNPOWMTurQeZnAAAMBFi45wasWsDOVcm6CIMIeMVlMRYQ7lXJugp2dldPn34DCD\n",
              "AwAA/CI6wqn7JyXr3gnXqNFtKMLp6NLbUmcj4AAAAL8KC7UHLdicwS0qAABgOQQcAABgOQQcAABg\n",
              "OQQcAABgOQQcAABgOQQcAABgOQENOAcPHtS4ceOUnJysrKws7du3r02f1tZW5efna/jw4Ro1apRu\n",
              "vvlmVVRUSJL27NmjG2+8USkpKUpNTdU999yjkydPeo+12WwaOXKk0tPTlZ6erpKSkkAOBwAA9BAB\n",
              "DTh5eXmaP3++PvroIy1atEi5ublt+mzatEl///vftXv3bn3wwQeaOHGiHnzwQUlSWFiYVqxYof37\n",
              "92v37t1qamrS448/7nN8SUmJysvLVV5ervHjxwdyOAAAoIcIWMCpra1VWVmZcnJyJEnTp09XdXW1\n",
              "d3bmDJvNJrfbrebmZpmmqfr6eg0aNEiSlJSUpFGjRkmS7Ha7srKyVFlZGaiSAQCARQTsm4yrq6sV\n",
              "Fxcnh+P0S9hsNsXHx8vlcikxMdHb7/bbb9c777yj2NhY9evXTwMHDtTWrVvbnK+pqUnPPfecli1b\n",
              "5rN/4sSJMgxDEydO1KOPPqrw8PB263G73XK73T77PB7PxQ4TAAB0Q0FfZFxWVqa9e/fq448/1ief\n",
              "fKKJEyfq3nvv9elz6tQpzZgxQ7feequ+/vWve/dXVVXpvffe07Zt21RXV6cHHnigw9dZtmyZoqKi\n",
              "fLYdO3YEbFwAACB4AhZwBg8erJqaGhmGIUkyTVMul0vx8fE+/V566SXdcsstuvTSSxUSEqK7775b\n",
              "77zzjre9paVFM2bMUFxcnJ566imfY8+cKzw8XAsWLDjnIuPFixfr+PHjPtuYMWP8NVwAANCNBCzg\n",
              "xMTEKDMzU0VFRZKk4uJiDRo0yOf2lCRdffXV2rJli06dOiVJev3115WamipJMgxDM2fOVP/+/bVq\n",
              "1SrZbDbvcceOHdOJEycknf4k1vr165WRkdFhPU6nU5GRkT6b3R7cB4EBAIDACOjTxAsKCpSbm6ul\n",
              "S5cqMjJShYWFkqR58+YpOztb2dnZuu+++/Thhx8qLS1NoaGhio2N1cqVKyVJ69ev14YNGzRq1Chv\n",
              "eLn++uv1m9/8Rvv371deXp5sNpsMw1BmZmabGR4AANA72UzTNINdRLDk5+dr+fLlwS4DAAD4WdAX\n",
              "GQMAAPgbAQcAAFgOAQcAAFgOAQcAAFgOAQcAAFgOAQcAAFgOAQcAAFgOAQcAAFgOAQcAAFgOAQcA\n",
              "AFgOAQcAAFgOAQcAAFgOAQcAAFgOAQcAAFgOAQcAAFgOAQcAAFgOAQcAAFgOAQcAAFgOAQcAAFgO\n",
              "AQcAAFgOAQcAAFgOAQcAAFgOAQcAAFgOAQcAAFgOAQcAAFgOAQcAAFgOAQcAAFgOAQcAAFgOAQcA\n",
              "AFgOAQcAAFgOAQcAAFgOAQcAAFgOAQcAAFgOAQcAAFgOAQcAAFgOAQcAAFgOAQcAAFgOAQcAAFgO\n",
              "AQcAAFhOQAPOwYMHNW7cOCUnJysrK0v79u1r06e1tVX5+fkaPny4Ro0apZtvvlkVFRXe9tdff10p\n",
              "KSlKSkrStGnTVF9ff15tAACg9wpowMnLy9P8+fP10UcfadGiRcrNzW3TZ9OmTfr73/+u3bt364MP\n",
              "PtDEiRP14IMPSpIaGxs1d+5cvfbaazp48KCuvPJKPfroo1/aBgAAereABZza2lqVlZUpJydHkjR9\n",
              "+nRVV1f7zM5Iks1mk9vtVnNzs0zTVH19vQYNGiRJeuutt5SRkaGUlBRJ0oIFC7R27dovbWuP2+1W\n",
              "fX29z+bxePw+bgAAEHyOQJ24urpacXFxcjhOv4TNZlN8fLxcLpcSExO9/W6//Xa98847io2NVb9+\n",
              "/TRw4EBt3bpVkuRyuZSQkODtO2TIENXU1MgwjHO2nXnNsy1btkwPP/ywz77rrrvOr2MGAADdQ9AX\n",
              "GZeVlWnv3r36+OOP9cknn2jixIm69957/f46ixcv1vHjx322MWPG+P11AABA8AUs4AwePNg7oyJJ\n",
              "pmnK5XIpPj7ep99LL72kW265RZdeeqlCQkJ0991365133pEkxcfHq6qqytu3srLSOyt0rrb2OJ1O\n",
              "RUZG+mx2u93fwwYAAN1AwAJOTEyMMjMzVVRUJEkqLi7WoEGDfG5PSdLVV1+tLVu26NSpU5JOfzIq\n",
              "NTVVkjRlyhS9//772r9/vyTpmWee0cyZM7+0DQAA9G4BW4MjSQUFBcrNzdXSpUsVGRmpwsJCSdK8\n",
              "efOUnZ2t7Oxs3Xffffrwww+Vlpam0NBQxcbGauXKlZKkfv366bnnntPXvvY1GYah1NRUvfjii1/a\n",
              "BgAAejebaZpmsIsIlvz8fC1fvjzYZQAAAD8L+iJjAAAAfyPgAAAAyyHgAAAAyyHgAAAAyyHgAAAA\n",
              "yyHgAAAAyyHgAAAAyyHgAAAAyyHgAAAAyyHgAAAAyyHgAAAAyyHgAAAAyyHgAAAAyyHgAAAAyyHg\n",
              "AAAAyyHgAAAAyyHgAAAAyyHgAAAAyyHgAAAAyyHgAAAAyyHgAAAAyyHgAAAAyyHgAAAAyyHgAAAA\n",
              "yyHgAAAAyyHgAAAAyyHgAAAAyyHgAAAAyyHgAAD8prnFo6ONbjW3eIJdCno5R7ALAAD0fHUNbhVt\n",
              "r9Tbez/VyRaP+obadVtqrHLGJig6whns8tALMYMDALgodQ1ufXftLv2u1KUmtyFHiE1NbkNFpVVa\n",
              "uGaXjja6g10ieiECDgDgohRtr1RFbYMGRDh1WXgfhTsduiy8jwZEOFVR26Cif1QFu0T0QgQcAMAF\n",
              "a27x6O29nyrMYZfD7vufFIc9RE6HXW/tO8KaHHQ5Ag4A4II1ug2dbPGoj6P9/5w4HSE6ecqjRrfR\n",
              "xZWhtyPgAAAuWITTob6hdp0yWtttdxut6tvHrggnn2lB1yLgAAAuWFioXVNSr1Cz4ZHh8Q05hqdV\n",
              "bsOj20bEKizUHqQK0VsRqQEAF2X22CEqPXxMFbUNcjrscjpC5DZOh5ukmH7KGZsQ7BLRCzGDAwC4\n",
              "KNERTq2YlaGcaxMUEeaQ0WoqIsyhnGsT9PSsDL4HB0ER0BmcgwcP6u6779bRo0cVFRWlF154QSNG\n",
              "jPDpU1hYqKeeesr787///W/deOON2rBhg/74xz9q0aJF3rba2lrFxsbq/ffflyTZbDalpqbKbj89\n",
              "9fn0009r/PjxgRwSAKAd0RFO3T8pWfdOuEaNbkMRTge3pRBUAQ04eXl5mj9/vnJzc/Xqq68qNzdX\n",
              "O3fu9OkzZ84czZkzx/tzamqq7rzzTknS5MmTNXnyZG/b1KlTdfPNN/scX1JSoksvvTRwgwAAnLew\n",
              "UDvBBt1CwG5R1dbWqqysTDk5OZKk6dOnq7q6WhUVFR0eU1paqtraWmVnZ7dp++STT/SXv/xFs2fP\n",
              "vqB63G636uvrfTaPh+9lAADAigIWcKqrqxUXFyeH4/Qkkc1mU3x8vFwuV4fHrF69WrNnz1ZoaGib\n",
              "thdeeEFf+cpXFBMT47N/4sSJSktLU35+vpqamjo897JlyxQVFeWz7dix4wJHBwAAurNus8i4qalJ\n",
              "69at09y5c9u0maap559/vk1bVVWV3nvvPW3btk11dXV64IEHOjz/4sWLdfz4cZ9tzJgxfh8HAAAI\n",
              "voCtwRk8eLBqampkGIYcDodM05TL5VJ8fHy7/V955RWNGDFCw4cPb9O2detWNTc3+6zHkeQ9V3h4\n",
              "uBYsWKD58+d3WI/T6ZTT6buS/8ziZAAAYC0Bm8GJiYlRZmamioqKJEnFxcUaNGiQEhMT2+2/evXq\n",
              "dmdvzrTl5ub6BJJjx47pxIkTkqTW1latX79eGRkZfh4FAADoiQL6KaqCggLl5uZq6dKlioyMVGFh\n",
              "oSRp3rx5ys7O9i4mPnDggMrLy/Xmm2+2Ocfx48e1YcMG7dmzx2f//v37lZeXJ5vNJsMwlJmZ6fNx\n",
              "cwAA0HvZTNM0g11EsOTn52v58uXBLgMAAPhZt1lkDAAA4C8EHAAAYDkEHAAAYDkEHAAAYDkEHAAA\n",
              "YDkEHAAAYDkEHAAAYDkEHAAAYDkEHAAAYDkEHAAAYDkEHAAAYDkEHAAAYDkEHAAAYDkEHAAAYDkE\n",
              "HAAAYDkEHAAAYDkEHAAAYDkEHAAAYDkEHAAAYDkEHADdUnOLR0cb3Wpu8QS7FAA9kCPYBQDA2eoa\n",
              "3CraXqm3936qky0e9Q2167bUWOWMTVB0hDPY5QHoIZjBAdBt1DW49d21u/S7Upea3IYcITY1uQ0V\n",
              "lVZp4ZpdOtroDnaJAHoIAg6AbqNoe6Uqahs0IMKpy8L7KNzp0GXhfTQgwqmK2gYV/aMq2CUC6CEI\n",
              "OAC6heYWj97e+6nCHHY57L5/mhz2EDkddr217whrcgCcFwIOgG6h0W3oZItHfRzt/1lyOkJ08pRH\n",
              "jW6jiysD0BMRcAB0CxFOh/qG2nXKaG233W20qm8fuyKcfDYCwJcj4ADoFsJC7ZqSeoWaDY8Mj2/I\n",
              "MTytchse3TYiVmGh9iBVCKAn4Z9CALqN2WOHqPTwMVXUNsjpsMvpCJHbOB1ukmL6KWdsQrBLBNBD\n",
              "MIMDoNuIjnBqxawM5VyboIgwh4xWUxFhDuVcm6CnZ2XwPTgAztsFzeDU1NTo8OHDMoz/X+x34403\n",
              "+q0oAL1XdIRT909K1r0TrlGj21CE08FtKQCd1umA89Of/lS/+MUvdPXVV8tuP/1Hx2azaceOHX4v\n",
              "DkDvFRZqJ9gAuGCdDjjPP/+8Dh06pMsvvzwQ9QAAAFy0Tq/BueKKKwg3AACgW+v0DM6kSZN0//33\n",
              "a9asWQoLC/PuHzVqlF8LAwAAuFCdDjgvvfSSJGnjxo3efTabTf/617/8VxUAAMBF6HTAOXz4cCDq\n",
              "AAAA8JsL+pj4jh07tHnzZknSrbfeqtGjR/u1KAAAgIvR6UXGq1at0n//93+rtrZWdXV1mj59up57\n",
              "7rlA1AYAAHBBOh1wVqxYoffee0+/+tWv9OSTT6qsrEy//vWv2+178OBBjRs3TsnJycrKytK+ffva\n",
              "9CksLFR6erp3i46O1rRp0yRJlZWVstvtPu2HDh3yHvv6668rJSVFSUlJmjZtmurr6zs7HAAAYEEX\n",
              "9KiGAQMGtPu/vygvL0/z58/XRx99pEWLFik3N7dNnzlz5qi8vNy7xcbG6s477/S29+vXz6f9mmuu\n",
              "kSQ1NjZq7ty5eu2113Tw4EFdeeWVevTRRy9kOAAAwGI6HXCSkpL04x//WC6XSy6XS0uWLFFSUlKb\n",
              "frW1tSorK1NOTo4kafr06aqurlZFRUWH5y4tLVVtba2ys7O/tI633npLGRkZSklJkSQtWLBAa9eu\n",
              "7bC/2+1WfX29z+bxeL70dQAAQM/T6YCzcuVKHTp0SJmZmcrMzFRFRYWeffbZNv2qq6sVFxcnh+P0\n",
              "Omabzab4+Hi5XK4Oz7169WrNnj1boaGh3n1NTU3KyspSZmamHnnkEW8ocblcSkj4/ycLDxkyRDU1\n",
              "NT7PxzrbsmXLFBUV5bPxeAkAAKyp05+iGjBggNatW+f3QpqamrRu3Tpt377duy8uLk4ff/yxYmJi\n",
              "9Pnnn2vGjBl64okn9MMf/rDT51+8eLHy8/N99i1ZsuSi6wYAAN3PeQecrVu36qabbtKmTZvabf/i\n",
              "baXBgwd7Z1QcDodM05TL5VJ8fHy7x7/yyisaMWKEhg8f7t3ndDoVExMjSerfv7/uuecerVmzRj/8\n",
              "4Q8VHx+vP//5z96+lZWVPjNGX+R0OuV0On32nXlYKAAAsJbzDjhFRUW66aab9OSTT7Zps9lsbQJO\n",
              "TEyMMjMzVVRUpNzcXBUXF2vQoEFKTExs9/yrV6/W3LlzffbV1tbqsssuU2hoqNxutzZs2KCMjAxJ\n",
              "0pQpU3Tfffdp//79SklJ0TPPPKOZM2ee73AAAICF2UzTNAN18gMHDig3N1efffaZIiMjVVhYqJEj\n",
              "R2revHnKzs72hqIDBw5o9OjR+uSTT9SvXz/v8Rs2bNBPfvIT2e12GYahW265Rb/85S+9MzGbNm3S\n",
              "D3/4QxmGodTUVL344ouKioo67/ry8/O1fPly/w4aAAAEXacDzh/+8AfddNNNioyM1C9/+Utt375d\n",
              "Dz/8sEaMGBGoGgOGgAMAgDV1+lNUP/7xjxUZGandu3erqKhIkyZN0r333huI2gAAAC5IpwPOmUW8\n",
              "f/rTnzR//nzl5eWpqanJ74UBAABcqE4HHI/Ho9LSUhUXF+vmm2+WJLW0tPi9MAAAgAvV6YDz2GOP\n",
              "KS8vT9dff72GDRumAwcOKDk5ORC1AQAAXJCAfoqqu2ORMQAA1nTe34Ozdu1afetb3+rwyeHf+973\n",
              "/FYUAADAxTjvgLN//35J0q5duwJWDAAAgD+cd8B5+OGHJUmFhYUBKwYAAMAfOr3I+KGHHtJnn33m\n",
              "/fno0aPe8AMAANAddDrgbNy4UZdffrn35+joaG3cuNGvRQEAAFyMTgec1tbWNvtOnTrll2IAAAD8\n",
              "odMBZ+jQofr5z38uj8cjwzD0+OOPKyUlJRC1AQAAXJBOB5ynnnpKb7/9tvr27avw8HBt3rxZTz/9\n",
              "dCBqAwAAuCDn/SmqM6688kpt2bLF+/yp8PBwvxcFAABwMTo9g2MYhp544gk98MADCg8P16FDh7Rl\n",
              "y5ZA1AYAAHBBOj2Ds3DhQnk8Hv3tb3+TJF1++eWaMWOGysrK/F4cAADAheh0wNm+fbvKy8uVkZEh\n",
              "Sbr00kt5mjgAAOhWOn2LKiwszOdnj8fT7kfHAeCLmls8OtroVnOLJ9ilALC4Ts/gjBo1SkVFRWpt\n",
              "bVVFRYUef/xxTZgwIQClAbCKuga3irZX6u29n+pki0d9Q+26LTVWOWMTFB3hDHZ5ACyo0zM4y5cv\n",
              "V0lJiY4cOaLrr79eISEhevzxxwNRGwALqGtw67trd+l3pS41uQ05QmxqchsqKq3SwjW7dLTRHewS\n",
              "AVhQp2ZwPB6PHn30URUUFKigoCBQNQGwkKLtlaqobdCACKcc9tP/pgp3SoanVRW1DSr6R5Xun5Qc\n",
              "5CoBWE2nZnDsdrveeeedQNUCwGKaWzx6e++nCnPYveHmDIc9RE6HXW/tO8KaHAB+1+lbVF/5ylf0\n",
              "05/+VJ988onq6+u9GwB8UaPb0MkWj/o42v9T43SE6OQpjxrdRhdXBsDqOr3I+JFHHpEkLVmyxLvP\n",
              "ZrPJ4+FfYAB8RTgd6htqV5PbUHg7a4ndRqsiwhyKcHb6TxEAnNMFPU38ixvhBkB7wkLtmpJ6hZoN\n",
              "jwyP79dJGJ5WuQ2PbhsRq7BQe5AqBGBVF/TPJpfLpXfffVc2m0033nijBg8e7O+6AFjE7LFDVHr4\n",
              "mCpqG+R02OV0hMhtnA43STH9lDM2IdglArCgTs/grFmzRhkZGSouLtarr76qzMxMrVu3LhC1AbCA\n",
              "6AinVszKUM61CYoIc8hoNRUR5lDOtQl6elYG34MDICBspmmanTkgJSVFb731lq666ipJUmVlpaZM\n",
              "maL9+/cHpMBAys/P1/Lly4NdBtBrNLecXlAc4XRwWwpAQHX6FtUll1ziDTeSNGTIEF1yySV+LQqA\n",
              "NYWF2gk2ALpEp29RffWrX9X//u//6t///reqq6v1yCOP6Pbbb+fj4gAAoNvo9C2qkJCOM1FP+7g4\n",
              "t6gAALCmTt+i4snhAACgu+v0LSoAAIDujoADAAAsh4ADAAAsh4ADAAAsh4ADAAAsh4ADAAAsJ6AB\n",
              "5+DBgxo3bpySk5OVlZWlffv2telTWFio9PR07xYdHa1p06ZJkvbs2aMbb7xRKSkpSk1N1T333KOT\n",
              "J096j7XZbBo5cqT32JKSkkAOBwAA9BABDTh5eXmaP3++PvroIy1atEi5ublt+syZM0fl5eXeLTY2\n",
              "VnfeeackKSwsTCtWrND+/fu1e/duNTU16fHHH/c5vqSkxHvs+PHjAzkcAADQQwQs4NTW1qqsrEw5\n",
              "OTmSpOnTp6u6uloVFRUdHlNaWqra2lplZ2dLkpKSkjRq1ChJkt1uV1ZWliorKwNVMgAAsIiABZzq\n",
              "6mrFxcXJ4Tj9Zck2m03x8fFyuVwdHrN69WrNnj1boaGhbdqampr03HPP6Y477vDZP3HiRKWlpSk/\n",
              "P19NTU0dntvtdnufl3Vm60mPlQAAAOev2ywybmpq0rp16zR37tw2badOndKMGTN066236utf/7p3\n",
              "f1VVld577z1t27ZNdXV1euCBBzo8/7JlyxQVFeWz7dixIyBjAQAAwRWwgDN48GDV1NTIMAxJkmma\n",
              "crlcio+Pb7f/K6+8ohEjRmj48OE++1taWjRjxgzFxcXpqaee8mk7c67w8HAtWLDgnIuMFy9erOPH\n",
              "j/tsY8aMuZghAgCAbipgAScmJkaZmZkqKiqSJBUXF2vQoEFKTExst//q1avbzN4YhqGZM2eqf//+\n",
              "WrVqlWw2m7ft2LFjOnHihKTTDwBdv369MjIyOqzH6XQqMjLSZ7Pb7Rc7TAAA0A0F9BZVQUGBCgoK\n",
              "lJycrJ/97GcqLCyUJM2bN0+bNm3y9jtw4IDKy8s1Y8YMn+PXr1+vDRs2qKysTBkZGUpPT9d9990n\n",
              "Sdq/f7+uu+46paWlaeTIkfrss8/0q1/9KpDDAQAAPYTNNE0z2EUES35+vpYvXx7sMgAAgJ91m0XG\n",
              "AAAA/kLAAQAAlkPAAQAAlkPAAQAAlkPAAQAAlkPAAQAAlkPAAQAAlkPAAXqA5haPjja61dzCA2IB\n",
              "4Hw4gl0AgI7VNbhVtL1Sb+/9VCdbPOobatdtqbHKGZug6AhnsMsDgG6LGRygm6prcOu7a3fpd6Uu\n",
              "NbkNOUJsanIbKiqt0sI1u3S00R3sEgGg2yLgAN1U0fZKVdQ2aECEU5eF91G406HLwvtoQIRTFbUN\n",
              "KvpHVbBLBIBui4ADdEPNLR69vfdThTnscth936YOe4icDrve2neENTkA0AECDtANNboNnWzxqI+j\n",
              "/beo0xGik6c8anQbXVwZAPQMBBygG4pwOtQ31K5TRmu77W6jVX372BXh5HMCANAeAg7QDYWF2jUl\n",
              "9Qo1Gx4ZHt+QY3ha5TY8um1ErMJC7UGqEAC6N/75B3RTs8cOUenhY6qobZDTYZfTESK3cTrcJMX0\n",
              "U87YhGCXCADdFjM4QDcVHeHUilkZyrk2QRFhDhmtpiLCHMq5NkFPz8rge3AA4ByYwQG6segIp+6f\n",
              "lKx7J1yjRrehCKeD21IAcB4IOEAPEBZqJ9gAQCdwiwoAAFgOAQcAAFgOAQcAAFgOAQcAAFgOAQcA\n",
              "AFgOAQcAAFgOAQcAAFgOAQcAAFgOAQcAAFgOAQcAAFgOAQcAAFgOAQcAAFgOAQcAAFgOAQcAAFgO\n",
              "AQcAAFgOAQcAAFgOAQcAAFgOAQcAAFgOAQcAAFhOQAPOwYMHNW7cOCUnJysrK0v79u1r06ewsFDp\n",
              "6eneLTo6WtOmTfO2v/7660pJSVFSUpKmTZum+vr682oDAAC9V0ADTl5enubPn6+PPvpIixYtUm5u\n",
              "bps+c+bMUXl5uXeLjY3VnXfeKUlqbGzU3Llz9dprr+ngwYO68sor9eijj35pGwAA6N0CFnBqa2tV\n",
              "VlamnJwcSdL06dNVXV2tioqKDo8pLS1VbW2tsrOzJUlvvfWWMjIylJKSIklasGCB1q5d+6VtAACg\n",
              "d3ME6sTV1dWKi4uTw3H6JWw2m+Lj4+VyuZSYmNjuMatXr9bs2bMVGhoqSXK5XEpISPC2DxkyRDU1\n",
              "NTIM45xtZ17zbG63W26322efx+O56HECAIDup9ssMm5qatK6des0d+7cgJx/2bJlioqK8tl27NgR\n",
              "kNcCAADBFbCAM3jwYO+MiiSZpimXy6X4+Ph2+7/yyisaMWKEhg8f7t0XHx+vqqoq78+VlZXeWaFz\n",
              "tbVn8eLFOn78uM82ZswYfwwVAAB0MwELODExMcrMzFRRUZEkqbi4WIMGDTrn7akvzt5MmTJF77//\n",
              "vvbv3y9JeuaZZzRz5swvbWuP0+lUZGSkz2a32y96nAAAoPsJ2BocSSooKFBubq6WLl2qyMhIFRYW\n",
              "SpLmzZun7Oxs72LiAwcOqLy8XG+++abP8f369dNzzz2nr33tazIMQ6mpqXrxxRe/tA0AAPRuNtM0\n",
              "zWAXESz5+flavnx5sMsAAAB+1m0WGQMAAPgLAQcAAFgOAQcAAFgOAQcAAFgOAQcAAFgOAQcAAFgO\n",
              "AQcAAFgOAQcAAFgOAQcAAFgOAQcAAFgOAQcAAFgOAQcAAFgOAQcAAFgOAQcAAFgOAQcAAFgOAQcA\n",
              "AFgOAQcAAFgOAQcAAFgOAQcAAFgOAQcAAFgOAQcAAFgOAQcAAFgOAQcAAFgOAQcAAFgOAQcAAFgO\n",
              "AQcAAFgOAQcAAFgOAQcAAFgOAQcAAFgOAQcAAFgOAQcAAFgOAQcAAFgOAQcAAFgOAQcAAFgOAQcA\n",
              "AFgOAQcAAFgOAQcAAFgOAQcAAFgOAQcAAFhOQAPOwYMHNW7cOCUnJysrK0v79u1rt9+ePXs0YcIE\n",
              "DRs2TMOGDdOGDRskSYWFhUpPT/du0dHRmjZtmiSpsrJSdrvdp/3QoUOBHA4AAOghHIE8eV5enubP\n",
              "n6/c3Fy9+uqrys3N1c6dO336nDhxQnfccYdeeukl3XDDDfJ4PPr8888lSXPmzNGcOXO8fVNTU3Xn\n",
              "nXd6f+7Xr5/Ky8sDOQQAANADBWwGp7a2VmVlZcrJyZEkTZ8+XdXV1aqoqPDpt2bNGl133XW64YYb\n",
              "JEl2u10DBgxoc77S0lLV1tYqOzv7gupxu92qr6/32TwezwWdCwAAdG8BCzjV1dWKi4uTw3F6kshm\n",
              "syk+Pl4ul8un3z//+U85nU5NnTpV6enpuuuuu1RXV9fmfKtXr9bs2bMVGhrq3dfU1KSsrCxlZmbq\n",
              "kUceOWdgWbZsmaKiony2HTt2+Gm0AACgOwn6ImPDMLR582YVFBRo165dGjhwoL7zne/49GlqatK6\n",
              "des0d+5c7764uDh9/PHH2rlzpzZv3qySkhI98cQTHb7O4sWLdfz4cZ9tzJgxARsXAAAInoAFnMGD\n",
              "B6umpkaGYUiSTNOUy+VSfHy8T7/4+HjdfPPNGjhwoGw2m3JycrR9+3afPq+88opGjBih4cOHe/c5\n",
              "nU7FxMRIkvr376977rlHJSUlHdbjdDoVGRnps9ntdn8NFwAAdCMBCzgxMTHKzMxUUVGRJKm4uFiD\n",
              "Bg1SYmKiT79vfvOb2rlzp+rr6yVJb775ptLS0nz6rF692mf2Rjq9xqelpUXS6fU1GzZsUEZGRqCG\n",
              "AwAAepCAfoqqoKBAubm5Wrp0qSIjI1VYWChJmjdvnrKzs5Wdna34+Hg9+OCDGjdunEJCQjRw4ECt\n",
              "WrXKe44DBw6ovLxcb775ps+5//a3v+knP/mJ7Ha7DMPQLbfcoh//+MeBHA4AAOghbKZpmsEuIljy\n",
              "8/O1fPnyYJcBAAD8LOiLjAEAAPyNgAMAACyHgAMAACyHgAMAACyHgAMAACyHgAMAACyHgAMAACyH\n",
              "gAMAACyHgAMAACyHgAMAACyHgAMAACyHgAMAACyHgAMAACyHgAMAACyHgAMAACyHgAMAACyHgAMA\n",
              "ACyHgAMAACyHgAMAACyHgAMAACyHgAMAACyHgAMAACyHgAMAACyHgAMAACyHgAMAACyHgBMAzS0e\n",
              "HW10q7nFE+xSAADolRzBLsBK6hrcKtpeqbf3fqqTLR71DbXrttRY5YxNUHSEM9jlAQDQazCD4yd1\n",
              "DW59d+0u/a7UpSa3IUeITU1uQ0WlVVq4ZpeONrqDXSIAAL0GAcdPirZXqqK2QQMinLosvI/CnQ5d\n",
              "Ft5HAyKcqqhtUNE/qoJdIgAAvQYBxw+aWzx6e++nCnPY5bD7/kod9hA5HXa9te8Ia3IAAOgiBBw/\n",
              "aHQbOtniUR9H+79OpyNEJ0951Og2urgyAAB6JwKOH0Q4Heobatcpo7XddrfRqr597IpwsqYbAICu\n",
              "QMDxg7BQu6akXqFmwyPD4xtyDE+r3IZHt42IVVioPUgVAgDQuzCl4Cezxw5R6eFjqqhtkNNhl9MR\n",
              "IrdxOtwkxfRTztiEYJcIAECvwQyOn0RHOLViVoZyrk1QRJhDRqupiDCHcq5N0NOzMvgeHAAAuhAz\n",
              "OH4UHeHU/ZOSde+Ea9ToNhThdHBbCgCAICDgBEBYqJ1gAwBAEHGLCgAAWE5AA87Bgwc1btw4JScn\n",
              "KysrS/v27Wu33549ezRhwgQNGzZMw4YN04YNGyRJf/3rX9W3b1+lp6d7t5MnT3qPW716tZKSknTN\n",
              "Ndfo29/+tlpaWgI5HAAA0EMENODk5eVp/vz5+uijj7Ro0SLl5ua26XPixAndcccdeuyxx/Thhx9q\n",
              "7969Gj9+vLd96NChKi8v9259+/aVJB0+fFhLlixRSUmJKioq9Omnn2rVqlWBHA4AAOghAhZwamtr\n",
              "VVZWppycHEnS9OnTVV1drYqKCp9+a9as0XXXXacbbrhBkmS32zVgwIAvPf+rr76q7OxsxcbGymaz\n",
              "6d5779XatWs77O92u1VfX++zeTw8OgEAACsKWMCprq5WXFycHI7T65htNpvi4+Plcrl8+v3zn/+U\n",
              "0+nU1KlTlZ6errvuukt1dXXe9kOHDikzM1NZWVl65plnvPtdLpcSEv7/u2WGDBnS5txnW7ZsmaKi\n",
              "ony2HTt2+Gu4AACgGwn6ImPDMLR582YVFBRo165dGjhwoL7zne9IkjIzM/Xvf/9b77//vn7/+99r\n",
              "5cqVevnlly/odRYvXqzjx4/7bGPGjPHnUAAAQDcRsIAzePBg1dTUyDBOP2DSNE25XC7Fx8f79IuP\n",
              "j9fNN9+sgQMHymazKScnR9u3b5ckRUZGKioqSpI0aNAgfetb31JJSYn3uKqqKu95Kisr25z7bE6n\n",
              "U5GRkT6b3c5HuQEAsKKABZyYmBhlZmaqqKhIklRcXKxBgwYpMTHRp983v/lN7dy5U/X19ZKkN998\n",
              "U2lpaZKkmpoatbaefrZTQ0ODXn/9dWVkZEg6vaZn06ZNOnLkiEzT1MqVKzVz5sxADQcAAPQgAf2i\n",
              "v4KCAuXm5mrp0qWKjIxUYWGhJGnevHnKzs5Wdna24uPj9eCDD2rcuHEKCQnRwIEDvZ+GKi4u1rPP\n",
              "PiuHwyHDMPSNb3xDc+bMkSRdffXVevjhh3X99ddLkiZMmKC8vLxADgcAAPQQNtM0zWAXESz5+fla\n",
              "vnx5sMsAAAB+1qsDzrRp0zRkyJA2+z0ej3bs2KExY8b0unU6jJ2xM/bepTePn7H33LEnJCTo+9//\n",
              "/jn79OqA05H6+npFRUXp+PHjioyMDHY5XYqxM3bG3rv05vEzdmuPPegfEwcAAPA3Ag4AALAcAg4A\n",
              "ALAcAk47nE6nHnroITmdzmCX0uUYO2PvbXrz2KXePX7Gbu2xs8gYAABYDjM4AADAcgg4AADAcgg4\n",
              "AADAcnpVwHG73Vq4cKGSkpI0cuRI5eTkSJKGDBmioUOHKj09Xenp6Vq/fn2H51i9erWSkpJ0zTXX\n",
              "6Nvf/rZaWlq6qvyL0t7YP/vsM++Y09PTlZycLIfDoc8//7zN8ZWVlbLb7T79Dx06FISRdN65xllb\n",
              "W6spU6YoKSlJqampevfddzs8z+uvv66UlBQlJSVp2rRp3gfEdmfnGvucOXOUnJystLQ0XX/99dq5\n",
              "c2eH57HZbBo5cqT3PCUlJV04igtzrrFPmDBBV111lbftySef7PA8Vrvu1157rXd/amqqbDabPvjg\n",
              "g3bP0xOvu3T6oc2ZmZneMb744ouSZPn3u9Tx2K3+fm+X2Yvcf//95sKFC83W1lbTNE2zpqbGNE3T\n",
              "TEhIMHft2vWlx//rX/8y4+LizJqaGrO1tdW8/fbbzRUrVgSyZL/paOxn+8UvfmFOnTq13eMPHz5s\n",
              "RkVFBbLELnP2OOfMmWM+9NBDpmma5o4dO8yBAweap06danNMQ0ODGRMTY3744YemaZrmfffdZ/7g\n",
              "Bz/ospr95eyxb9y40WxpaTFN0zT/8Ic/mAkJCR0eJ8k8duxYF1QYOGeP/aabbjJ///vff+kxVrzu\n",
              "Z3vllVfM1NTUDo/ride9tbXVvOyyy8zdu3ebpnn6b5fT6TTr6+st/34/19h72/vdNE2z1wScxsZG\n",
              "s1+/fubx48fbtJ1vwPn5z39u5uXleX9+4403zOuvv96fZQbEucZ+tpSUlA7/6Fsp4Jw9zvDwcJ+w\n",
              "l5WVZf75z39uc8zLL79sTp482fvzvn37zIEDBwa8Vn/r6BrX1dWZDofD+wfwi6zwB+/ssZ9vwLH6\n",
              "dZ8yZYr55JNPdnhcT7zura2tZv/+/c2tW7eapmmau3fvNq+88krT7XZb/v1+rrGfrTe8303TNHvN\n",
              "LapDhw6pf//+Wrp0qUaPHq3x48frL3/5i7f9rrvu0siRIzV37lzV1dW1ew6Xy6WEhATvz0OGDJHL\n",
              "5Qp47Rfry8YuSdu2bdOxY8c0derUDs/T1NSkrKwsZWZm6pFHHpHH4wl06X539jg/++wztbS0KDY2\n",
              "1tve0TVt79rX1NTIMIwuqdsfznWNn3rqKX3lK1+Rw+Ho8PiJEycqLS1N+fn5ampqCmSpftfe2H/0\n",
              "ox9p5MiRmjFjhv71r3+1e5yVr3t1dbW2bt3qvVXfkZ523W02m9avX69p06YpISFBN9xwg1588UU1\n",
              "NDRY/v3e0dj79Onj08/q7/czek3AMQxDVVVVGj58uMrKyvTrX/9aM2bM0Keffqp3331XH3zwgd5/\n",
              "/31FR0fr7rvvDna5fnWusZ+xevVq3XXXXR3+Hz4uLk4ff/yxdu7cqc2bN6ukpERPPPFEVw3Bb75s\n",
              "nFbW0diLior08ssva9WqVR0eW1VVpffee0/btm1TXV2dHnjggUCX61dfHPtvf/tb7d+/Xx988IHG\n",
              "jx9/zmDf03V03V944QVNnTpV0dHRHR7bE6+7YRh67LHHtGHDBlVVVekvf/mLZs+e3e3DiT90NPaj\n",
              "R496+/SG97tXsKeQukpdXZ0ZEhJiGobh3Td69Og205OffPKJGRER0e45euotqi8be0NDgxkREeG9\n",
              "33w+1qxZ0+F6ne6qvXFecskllp6yPqOja7xu3TozMTHRrKqqOu9zbdu27ZzrNrqb8/n/t9PpNI8e\n",
              "Pdpmv1Wve2trq3nVVVeZb7/99nmfq6dc9507d5pJSUk++0aPHm3+6U9/svz7/VxjN83e8X4/W6+Z\n",
              "wYmOjtbEiRP1xz/+UZJ0+PBhHT58WMOGDdN//vMfb7+1a9cqIyOj3XNMnz5dmzZt0pEjR2Saplau\n",
              "XKmZM2d2RfkX5Vxjl6T169crLS1NKSkpHZ6jtrbW+4kxt9utDRs2dPh76q7aG+c3vvENrVy5UpK0\n",
              "c+dOffzxx7rpppvaHDtlyhS9//772r9/vyTpmWee6RHX/oz2xv7yyy/rf/7nf7R582bFx8d3eOyx\n",
              "Y8d04sQJSVJra6vWr1/fo679F8duGIbP7GVxcbGuuOIKXX755W2OteJ1l6QtW7bIMAxNmjSpw2N7\n",
              "6nUfPHiwampq9OGHH0qSKioqdOjQIQ0dOtTy7/dzjb23vN99BDthdaVDhw6ZEyZMMFNTU81Ro0aZ\n",
              "r776qnno0CEzPT3dHDlypJmammpmZ2ebhw8f9h4zd+5cc+PGjd6fV61aZV599dXm1Vdfbd5zzz3t\n",
              "rsDvjtob+xljx441n3/++TbHLFmyxHz22WdN0zTN4uJic8SIEeaoUaPM4cOHmwsXLjSbm5u7rH5/\n",
              "aG+cR44cMSdNmmQmJiaaw4cPN7ds2eJtO3v8pnn6U0dDhw41r7nmGvOOO+4w//Of/3RZ7RervbE7\n",
              "HA5z0KBBZlpamnc7M4vx7LPPmkuWLDFN8/S/4EaOHOm99jk5OeZnn33W5WO4UF8ce2Njo/lf//Vf\n",
              "3vfCLbfcYpaXl3vbrX7dTdM0v/Wtb5k/+clP2uy3ynVfs2aN9/qmpqaav/vd70zT7B3v947G3lve\n",
              "72fjWVQAAMByes0tKgAA0HsQcAAAgOUQcAAAgOUQcAAAgOUQcAD0Cr3hi94A/D8CDoCguPPOOzV6\n",
              "9GiNGjVKX/3qV3XkyBFJ0htvvKGsrCylpaUpPT1dpaWlkqR//OMfuuGGG5SWlqZRo0Zp48aNkk5/\n",
              "jX55ebn3vKNHj9Zf//pXSdKECRP0ve99T2PHjtWtt94qwzA0efJkjR49WiNGjNCsWbN8voa+sLBQ\n",
              "6enpSktL0+jRo1VZWamFCxdq6dKl3j4HDhzQ4MGDCUxAN8fHxAEERV1dnQYMGCBJ+tnPfqbKykrl\n",
              "5+frhhtu0LvvvquUlBS1tLToxIkT8ng8GjZsmF599VWNHz9era2t+s9//qP+/ftryJAheu2115Se\n",
              "ni7pdMD55S9/qQkTJmjChAkKCwvTH/7wB4WGhso0TX3++ee6/PLLZZqmFixYoISEBP3oRz/SX//6\n",
              "V82ZM0fbtm1TXFyc98vOqqurNXnyZB06dEh2u13f//73FR0drSVLlgTrVwfgPPS+B/IA6BbWrFmj\n",
              "3/72t2publZzc7Oio6P15z//WVOmTPF+825oaKiioqL0xhtvaOjQoRo/frwkKSQkRP379z+v18nJ\n",
              "yVFoaKgkyTRNPfnkk3rjjTdkGIaOHz+ucePGSTo9czR79mzFxcVJki655BJJ0tChQzV8+HBt3LhR\n",
              "kydP1tq1a7Vnzx6//i4A+B+3qAB0ub/97W/69a9/rTfffFN79+7V8uXL1dzcfEHncjgcPk+2/+J5\n",
              "IiIivP97zZo12rJli7Zu3ao9e/boBz/4wXm97ve//32tWLFCRUVFmjRpkq644ooLqhVA1yHgAOhy\n",
              "x44dU79+/XT55Zfr1KlTKigokCRNnjxZf/zjH73PAGppafHOshw8eFAlJSWSTj8j5/PPP5ckJSYm\n",
              "etfp7NixQwcOHDjn60ZHRysyMlINDQ164YUXvG233367ioqKVFNTI0k6ceKE9zbVrbfeqiNHjuix\n",
              "xx7TwoUL/fvLABAQBBwAXW7KlCkaOnSo97bTmfUziYmJKiwsVE5OjtLS0nTttdfqwIEDuuyyy/T7\n",
              "3/9eP/rRjzRq1ChlZmbq73//uyTpscce029+8xulpaXp+eef14gRIzp83bvuuksnTpzQ0KFDddtt\n",
              "t3lveUnSjTfeqIceekiTJ09WWlqabrrpJtXV1UmSbDab5s6dq5iYGI0dOzZwvxgAfsMiYwA4D1On\n",
              "TtWMGTM0e/bsYJcC4DwwgwMA51BWVqbExESFhIRo1qxZwS4HwHliBgcAAFgOMzgAAMByCDgAAMBy\n",
              "CDgAAMByCDgAAMByCDgAAMByCDgAAMByCDgAAMByCDgAAMBy/g+CrO4KeGGEygAAAABJRU5ErkJg\n",
              "gg==\n",
              "\">\n",
              "      </div>\n",
              "      <script type=\"text/javascript\">\n",
              "        (() => {\n",
              "          const chartElement = document.getElementById(\"chart-98bab397-22b5-4f9f-92df-ebe74ff2396e\");\n",
              "          async function getCodeForChartHandler(event) {\n",
              "            const chartCodeResponse =  await google.colab.kernel.invokeFunction(\n",
              "                'getCodeForChart', [\"chart-98bab397-22b5-4f9f-92df-ebe74ff2396e\"], {});\n",
              "            const responseJson = chartCodeResponse.data['application/json'];\n",
              "            await google.colab.notebook.addCell(responseJson.code, 'code');\n",
              "          }\n",
              "          chartElement.onclick = getCodeForChartHandler;\n",
              "        })();\n",
              "      </script>\n",
              "      <style>\n",
              "        .colab-quickchart-chart-with-code  {\n",
              "            display: block;\n",
              "            float: left;\n",
              "            border: 1px solid transparent;\n",
              "        }\n",
              "\n",
              "        .colab-quickchart-chart-with-code:hover {\n",
              "            cursor: pointer;\n",
              "            border: 1px solid #aaa;\n",
              "        }\n",
              "      </style>"
            ]
          },
          "metadata": {}
        },
        {
          "output_type": "display_data",
          "data": {
            "text/plain": [
              "from matplotlib import pyplot as plt\n",
              "all_model_results.plot(kind='scatter', x='precision', y='recall', s=32, alpha=.8)\n",
              "plt.gca().spines[['top', 'right',]].set_visible(False)"
            ],
            "text/html": [
              "      <div class=\"colab-quickchart-chart-with-code\" id=\"chart-531c9d2b-e0ec-4156-9df6-0a75195ac7ba\">\n",
              "        <img style=\"width: 180px;\" src=\"data:image/png;base64,iVBORw0KGgoAAAANSUhEUgAAAjgAAAGkCAYAAAA8OV9TAAAAOXRFWHRTb2Z0d2FyZQBNYXRwbG90\n",
              "bGliIHZlcnNpb24zLjcuMSwgaHR0cHM6Ly9tYXRwbG90bGliLm9yZy/bCgiHAAAACXBIWXMAAA9h\n",
              "AAAPYQGoP6dpAAAxoklEQVR4nO3de3BUZZ7/8U+nO3QYQlAmZIiEDsMlArnHCQJeCmRFdDUgzAhK\n",
              "kHAREJ11NzVooaPuqAvrzMqIuqxRM1Enoygmosui1qKMG0e5RIkCiiQMSUdEghrJRdLkdM7vD4r+\n",
              "2SZAgO505+T9qjpV9nmec/r55qTxk+dc2maapikAAAALiQj1AAAAAAKNgAMAACyHgAMAACyHgAMA\n",
              "ACyHgAMAACyHgAMAACyHgAMAACyHgAMAACynRwec1atXh3oIAAAgCHp0wKmpqQn1EAAAQBD06IAD\n",
              "AACsiYADAAAsh4ADAAAsh4ADAAAsh4ADAAAsh4ADAAAsh4ADAAAsh4ADAAAsh4ADAAAsh4ADAAAs\n",
              "h4ADAAACqqXVq6+bPGpp9YZsDI6QvTMAALCUw40eFW+p1pu7Duloq1e9I+26OmWgcsclKjba2aVj\n",
              "YQYHAACcs8ONHv36xR36y1a3mj2GHBE2NXsMFW+t0e0v7NDXTZ4uHQ8BBwAAnLPiLdWqqmvUgGin\n",
              "zu/TS32cDp3fp5cGRDtVVdeo4g9qunQ8BBwAAHBOWlq9enPXIUU57HLY/aOFwx4hp8OuN3Z/1aXX\n",
              "5BBwAADAOWnyGDra6lUvR8exwumI0NFjXjV5jC4bEwEHAACck2inQ70j7TpmtHXY7jHa1LuXXdHO\n",
              "rru3iYADAADOSVSkXVNSfqYWwyvD6x9yDG+bPIZXVycPVFSkvcvGxG3iAADgnM0ZN0Rb99erqq5R\n",
              "ToddTkeEPMbxcDMirq9yxyV26XiYwQEAAOcsNtqpJ27KVO7FiYqOcshoMxUd5VDuxYl6/KbMLn8O\n",
              "DjM4AAAgIGKjnfrnK5O0ZMIwNXkMRTsdXXpa6ocIOAAAIKCiIu0hCzYncIoKAABYDgEHAABYDgEH\n",
              "AABYDgEHAABYDgEHAABYDgEHAABYDgEHAABYDgEHAABYTlADTmVlpcaPH6+kpCRlZ2dr9+7d7fq0\n",
              "tbUpPz9fo0ePVlpamiZOnKiqqipJ0s6dO3X55Zdr5MiRSklJ0fz583X06FHftjabTampqcrIyFBG\n",
              "RobKysqCWQ4AAOgmghpwFi9erEWLFmnv3r266667lJeX167P66+/rr/97W/6+OOP9cknn2jSpEm6\n",
              "++67JUlRUVF64okntGfPHn388cdqbm7Www8/7Ld9WVmZKioqVFFRocsuuyyY5QAAgG4iaAGnrq5O\n",
              "5eXlys3NlSTNmDFDtbW1vtmZE2w2mzwej1paWmSaphoaGpSQkCBJGjFihNLS0iRJdrtd2dnZqq6u\n",
              "PqvxeDweNTQ0+C1er/fsCwQAAGEraAGntrZW8fHxcjiOf92VzWaTy+WS2+3263fddddpwoQJGjhw\n",
              "oOLj4/X222/rgQceaLe/5uZmPfPMM5o6darf+kmTJik9PV35+flqbm4+6XhWrlypfv36+S3btm0L\n",
              "QKUAACDchPwi4/Lycu3atUsHDhzQl19+qUmTJmnJkiV+fY4dO6aZM2dq8uTJuv76633ra2pq9OGH\n",
              "H+r999/X4cOHtWzZspO+z/Lly3XkyBG/ZcyYMUGrCwAAhE7Qvk188ODBOnjwoAzDkMPhkGmacrvd\n",
              "crlcfv2ef/55XXHFFTrvvPMkSXPnztXkyZN97a2trZo5c6bi4+O1evVqv21P7KtPnz5aunSpFi1a\n",
              "dNLxOJ1OOZ1Ov3V2e2i/6RQAAARH0GZw4uLilJWVpeLiYklSSUmJEhISNHz4cL9+Q4cO1TvvvKNj\n",
              "x45JkjZs2KCUlBRJkmEYmjVrlvr376+nnnpKNpvNt119fb2+//57ScfvxHrppZeUmZkZrHIAAEA3\n",
              "ErQZHEkqKChQXl6eVqxYoZiYGBUVFUmSFi5cqJycHOXk5Oi2227TZ599pvT0dEVGRmrgwIF68skn\n",
              "JUkvvfSSSktLlZaW5gsvl1xyif7zP/9Te/bs0eLFi2Wz2WQYhrKystrN8AAAgJ7JZpqmGepBhEp+\n",
              "fr5WrVoV6mEAAIAAC/lFxgAAAIFGwAEAAJZDwAEAAJZDwAEAAJZDwAEAAJZDwAEAAJZDwAEAAJZD\n",
              "wAEAAJZDwAEAAJZDwAEAAJZDwAEAAJZDwAEAAJZDwAEAAJZDwAEAAJZDwAEAAJZDwAEAAJZDwAEA\n",
              "AJZDwAEAAJZDwAEAAJZDwAEAAJZDwAEAAJZDwAEAAJZDwAEAAJZDwAEAAJZDwAEAAJZDwAEAAJZD\n",
              "wAEAAJZDwAEAAJZDwAEAAJZDwAEAAJZDwAEAAJZDwAEAAJZDwAEAAJZDwAEAAJZDwAEAAJZDwAEA\n",
              "AJZDwAEAAJZDwAEAAJYT1IBTWVmp8ePHKykpSdnZ2dq9e3e7Pm1tbcrPz9fo0aOVlpamiRMnqqqq\n",
              "yte+YcMGjRw5UiNGjND06dPV0NDQqTYAANBzBTXgLF68WIsWLdLevXt11113KS8vr12f119/XX/7\n",
              "29/08ccf65NPPtGkSZN09913S5Kampq0YMECrV+/XpWVlbrgggv04IMPnrYNAAD0bEELOHV1dSov\n",
              "L1dubq4kacaMGaqtrfWbnZEkm80mj8ejlpYWmaaphoYGJSQkSJLeeOMNZWZmauTIkZKkpUuX6sUX\n",
              "XzxtW0c8Ho8aGhr8Fq/XG/C6AQBA6DmCtePa2lrFx8fL4Tj+FjabTS6XS263W8OHD/f1u+6667R5\n",
              "82YNHDhQffv21aBBg/Tuu+9KktxutxITE319hwwZooMHD8owjFO2nXjPH1q5cqV+97vf+a0bO3Zs\n",
              "QGsGAADhIeQXGZeXl2vXrl06cOCAvvzyS02aNElLliwJ+PssX75cR44c8VvGjBkT8PcBAAChF7SA\n",
              "M3jwYN+MiiSZpim32y2Xy+XX7/nnn9cVV1yh8847TxEREZo7d642b94sSXK5XKqpqfH1ra6u9s0K\n",
              "naqtI06nUzExMX6L3W4PdNkAACAMBC3gxMXFKSsrS8XFxZKkkpISJSQk+J2ekqShQ4fqnXfe0bFj\n",
              "xyQdvzMqJSVFkjRlyhR99NFH2rNnjyRpzZo1mjVr1mnbAABAzxa0a3AkqaCgQHl5eVqxYoViYmJU\n",
              "VFQkSVq4cKFycnKUk5Oj2267TZ999pnS09MVGRmpgQMH6sknn5Qk9e3bV88884ymTZsmwzCUkpKi\n",
              "55577rRtAACgZ7OZpmmGehChkp+fr1WrVoV6GAAAIMBCfpExAABAoBFwAACA5RBwAACA5RBwAACA\n",
              "5RBwAACA5RBwAACA5RBwAACA5RBwAACA5RBwAACA5RBwAACA5RBwAACA5RBwAACA5RBwAACA5RBw\n",
              "AACA5RBwAACA5RBwAACA5RBwAACA5RBwAACA5RBwAACA5RBwAACA5RBwAACA5RBwAACd1tLq1ddN\n",
              "HrW0ekM9FOCUHKEeAAAg/B1u9Kh4S7Xe3HVIR1u96h1p19UpA5U7LlGx0c5QDw9ohxkcAMApHW70\n",
              "6Ncv7tBftrrV7DHkiLCp2WOoeGuNbn9hh75u8oR6iEA7BBwAwCkVb6lWVV2jBkQ7dX6fXurjdOj8\n",
              "Pr00INqpqrpGFX9QE+ohAu0QcAAAJ9XS6tWbuw4pymGXw+7/vwyHPUJOh11v7P6Ka3IQdgg4AICT\n",
              "avIYOtrqVS9Hx/+7cDoidPSYV00eo4tHBpwaAQcAcFLRTod6R9p1zGjrsN1jtKl3L7uindyzgvBC\n",
              "wAEAnFRUpF1TUn6mFsMrw+sfcgxvmzyGV1cnD1RUpD1EIwQ6RuQGAJzSnHFDtHV/varqGuV02OV0\n",
              "RMhjHA83I+L6KndcYqiHCLTDDA4A4JRio5164qZM5V6cqOgoh4w2U9FRDuVenKjHb8rkOTgIS8zg\n",
              "AABOKzbaqX++MklLJgxTk8dQtNPBaSmENQIOAKDToiLtBBt0C5yiAgAAlkPAAQAAlkPAAQAAlkPA\n",
              "AQAAlkPAAQAAlhPUgFNZWanx48crKSlJ2dnZ2r17d7s+RUVFysjI8C2xsbGaPn26JOmtt97ya7vg\n",
              "gguUlZXl29Zmsyk1NdXXXlZWFsxyAABANxHU28QXL16sRYsWKS8vT6+88ory8vK0fft2vz7z5s3T\n",
              "vHnzfK9TUlI0e/ZsSdJVV12lq666ytd27bXXauLEiX7bl5WV6bzzzgteEQAAoNsJ2gxOXV2dysvL\n",
              "lZubK0maMWOGamtrVVVVddJttm7dqrq6OuXk5LRr+/LLL/X2229rzpw5ZzUej8ejhoYGv8Xr9Z7V\n",
              "vgAAQHgLWsCpra1VfHy8HI7jk0Q2m00ul0tut/uk2xQWFmrOnDmKjIxs1/bss8/qmmuuUVxcnN/6\n",
              "SZMmKT09Xfn5+Wpubj7pvleuXKl+/fr5Ldu2bTvL6gAAQDgLm4uMm5ubtXbtWi1YsKBdm2ma+tOf\n",
              "/tSuraamRh9++KHef/99HT58WMuWLTvp/pcvX64jR474LWPGjAl4HQAAIPSCdg3O4MGDdfDgQRmG\n",
              "IYfDIdM05Xa75XK5Ouy/bt06JScna/To0e3a3n33XbW0tPhdjyPJt68+ffpo6dKlWrRo0UnH43Q6\n",
              "5XT6fyGc3c7jxgEAsKKgzeDExcUpKytLxcXFkqSSkhIlJCRo+PDhHfYvLCzscPbmRFteXp5fIKmv\n",
              "r9f3338vSWpra9NLL72kzMzMAFcBAAC6o6DeRVVQUKC8vDytWLFCMTExKioqkiQtXLhQOTk5vouJ\n",
              "P//8c1VUVGjjxo3t9nHkyBGVlpZq586dfuv37NmjxYsXy2azyTAMZWVlafXq1cEsBwAAdBM20zTN\n",
              "UA8iVPLz87Vq1apQDwMAAARY2FxkDAAAECgEHAAAYDkEHAAAYDkEHAAAYDkEHAAAYDkEHAAAYDkE\n",
              "HAAAYDkEHAAAYDkEHAAAYDkEHAAAYDkEHAAAYDkEHAAAYDkEHAAAYDkEHAAAYDkEHAAAYDkEHAAA\n",
              "YDkEHAAAYDkEHAAAYDkEHAAAYDkEHAAAYDkEHAAAYDkEHAAAYDkEHAAAYDkEHAAAYDkEHAAAYDkE\n",
              "HAAAYDkEHAAAYDkEHAAAYDkEHAAAYDkEHAAAYDkEHAAAYDkEHAAAYDkEHAAAYDkEHAAAYDkEHAAA\n",
              "YDkEHAAAYDkEHAAAYDkEHAAAYDmOznZ87LHHTtn+T//0T+3WVVZWau7cufr666/Vr18/Pfvss0pO\n",
              "TvbrU1RUpNWrV/tef/HFF7r88stVWlqq6upqDRs2TKmpqb72kpISDRs2TJK0YcMG/eY3v5HX61Vq\n",
              "aqqeffZZxcTEdLYkAABgUZ0OODt27Dhpm81m63D94sWLtWjRIuXl5emVV15RXl6etm/f7tdn3rx5\n",
              "mjdvnu91SkqKZs+e7Xvdt29fVVRUtNt3U1OTFixYoHfffVcjR47U7bffrgcffFB/+MMfOlsSAACw\n",
              "KJtpmmYwdlxXV6fhw4fr22+/lcPhkGmaio+P13vvvafhw4d3uM3WrVt13XXX6cCBA4qMjFR1dbUy\n",
              "MjL03Xffteu7bt06FRYW6s0335Qkffrpp5o8ebK++OKLTo8xPz9fq1atOqv6AABA+Or0DM7rr79+\n",
              "yvacnBy/17W1tYqPj5fDcfwtbDabXC6X3G73SQNOYWGh5syZo8jISN+65uZmZWdny+v1atq0abrn\n",
              "nntkt9vldruVmJjo6zdkyBAdPHhQhmH43vOHPB6PPB6P3zqv13vqogEAQLfU6YDzxz/+8aRtNput\n",
              "XcA5U83NzVq7dq22bNniWxcfH68DBw4oLi5O3377rWbOnKlHHnlEd9555xnvf+XKlfrd737nt27s\n",
              "2LHnNGYAABCeOh1wNm/efEY7Hjx4sN+MimmacrvdcrlcHfZft26dkpOTNXr0aN86p9OpuLg4SVL/\n",
              "/v01f/58vfDCC7rzzjvlcrn0v//7v76+1dXVfjNGP7Z8+XLl5+f7rbv33nvPqCYAANA9nNVt4q2t\n",
              "rdq7d68++eQT3/JjcXFxysrKUnFxsaTjdz8lJCSc8vTUggUL/NbV1dWptbVV0vFTTKWlpcrMzJQk\n",
              "TZkyRR999JH27NkjSVqzZo1mzZp10jE7nU7FxMT4LXa7/cyLBwAAYa/TMzgnbNiwQbfccovq6+vV\n",
              "p08f1dfXKzExUfv372/Xt6CgQHl5eVqxYoViYmJUVFQkSVq4cKFycnJ8p7U+//xzVVRUaOPGjX7b\n",
              "v/fee7rvvvtkt9tlGIauuOIK3XPPPZKO3131zDPPaNq0aTIMQykpKXruuefO+AcAAACs54zvosrM\n",
              "zNT69es1bdo07dixQ8XFxfr444+75e3Z3EUFAIA1nfEpqoiICCUmJsowDElSbm6u3nnnnYAPDAAA\n",
              "4Gyd8SmqE7dwJyQk6NVXX9WQIUNUX18f8IEBAACcrTMOOHfccYfq6+v10EMPadasWfruu+/06KOP\n",
              "BmFoAAAAZ+eMA86NN94oSbroootUWVkZ8AEBAACcqzO+Buf+++/XN99843v99ddft3uAHgAAQCid\n",
              "ccB57bXX9NOf/tT3OjY2Vq+99lpABwUAAHAuzjjgtLW1tVt37NixgAwGAAAgEM444Fx44YX6/e9/\n",
              "L6/XK8Mw9PDDD2vkyJHBGBsAAMBZOeOAs3r1ar355pvq3bu3+vTpo02bNunxxx8PxtgAAADOyhnf\n",
              "RXXBBRfonXfeUXNzsySpT58+AR8UAFhNS6tXTR5D0U6HoiL5Hjwg2M444BiGodWrV2vfvn1as2aN\n",
              "9u3bp5qaGl1xxRXBGB8AdGuHGz0q3lKtN3cd0tFWr3pH2nV1ykDljktUbLQz1MMDLOuMA87tt98u\n",
              "r9er9957T5L005/+VDNnzlR5eXnABwcA3dnhRo9+/eIOVdU1KsphVy9HhJo9hoq31mjL/m/1xE2Z\n",
              "hBwgSM74GpwtW7bo6aefVlRUlCTpvPPOU2tra8AHBgDdXfGWalXVNWpAtFPn9+mlPk6Hzu/TSwOi\n",
              "naqqa1TxBzWhHiJgWWcccE4EmxO8Xm+Ht44DQE/W0urVm7sOKcphl8Pu/0+twx4hp8OuN3Z/pZZW\n",
              "b4hGCFjbGQectLQ0FRcXq62tTVVVVVqyZIkmTJgQhKEBQPfV5DF0tNWrXo6O/5l1OiJ09NjxC48B\n",
              "BN4ZB5xVq1aprKxMX331lS655BJFRETo4YcfDsbYAKDbinY61DvSrmNGxzPcHqNNvXvZFe0840sh\n",
              "AXTCGQUcr9erBx98UAUFBTp06JAOHTqkgoIC/eQnPwnW+ACgW4qKtGtKys/UYnhleP1DjuFtk8fw\n",
              "6urkgdwyDgTJGf3pYLfbtXnz5mCNBQAsZc64Idq6v15VdY1yOuxyOiLkMY6HmxFxfZU7LjHUQwQs\n",
              "64xPUV1zzTX6t3/7N3355ZdqaGjwLQDQWS2tXn3d5LH8Bbax0U49cVOmci9OVHSUQ0abqegoh3Iv\n",
              "TtTj3CIOBJXNNE3zTDaIiPj/mchms8k0TdlsNnm93e8fqvz8fK1atSrUwwB6jJ780DueZAx0rTO+\n",
              "uo1bwgGcjZ7+0LuoSDvBBuhCZ3yKCgDOBg+9A9CVCDgAgo6H3gHoagQcAEHHQ+8AdDUCDoCg46F3\n",
              "ALoaAQdA0PHQOwBdjT+XAHQJHnoHoCsxgwOgS/DQOwBdiRkcAF0mNtqpf74ySUsmDOOhdwCCioAD\n",
              "oMvx0DsAwcYpKgAAYDkEHAAAYDkEHAAAYDkEHAAAYDkEHAAAYDkEHAAAYDkEHAAAYDkEHAAAYDlB\n",
              "DTiVlZUaP368kpKSlJ2drd27d7frU1RUpIyMDN8SGxur6dOnS5J27typyy+/XCNHjlRKSormz5+v\n",
              "o0eP+ra12WxKTU31bVtWVhbMcgAAQDcR1ICzePFiLVq0SHv37tVdd92lvLy8dn3mzZuniooK3zJw\n",
              "4EDNnj1bkhQVFaUnnnhCe/bs0ccff6zm5mY9/PDDftuXlZX5tr3sssuCWQ4AAOgmghZw6urqVF5e\n",
              "rtzcXEnSjBkzVFtbq6qqqpNus3XrVtXV1SknJ0eSNGLECKWlpUmS7Ha7srOzVV1dHawhAwAAiwha\n",
              "wKmtrVV8fLwcjuNfd2Wz2eRyueR2u0+6TWFhoebMmaPIyMh2bc3NzXrmmWc0depUv/WTJk1Senq6\n",
              "8vPz1dzcfNJ9ezweNTQ0+C1er/csqwMAAOEsbC4ybm5u1tq1a7VgwYJ2bceOHdPMmTM1efJkXX/9\n",
              "9b71NTU1+vDDD/X+++/r8OHDWrZs2Un3v3LlSvXr189v2bZtW1BqAQAAoRW0gDN48GAdPHhQhmFI\n",
              "kkzTlNvtlsvl6rD/unXrlJycrNGjR/utb21t1cyZMxUfH6/Vq1f7tZ3YV58+fbR06dJTXmS8fPly\n",
              "HTlyxG8ZM2bMuZQIAADCVNACTlxcnLKyslRcXCxJKikpUUJCgoYPH95h/8LCwnazN4ZhaNasWerf\n",
              "v7+eeuop2Ww2X1t9fb2+//57SVJbW5teeuklZWZmnnQ8TqdTMTExfovdbj/XMgEAQBgK6imqgoIC\n",
              "FRQUKCkpSf/+7/+uoqIiSdLChQv1+uuv+/p9/vnnqqio0MyZM/22f+mll1RaWqry8nJlZmYqIyND\n",
              "t912myRpz549Gjt2rNLT05WamqpvvvlGjz76aDDLAQAA3YTNNE0z1IMIlfz8fK1atSrUwwAAAAEW\n",
              "NhcZAwAABAoBBwAAWA4BBwAAWA4BBwAAWA4BBwAAWA4BBwAAWA4BBwAAWA4BBwAAWA4BB+hGWlq9\n",
              "+rrJo5ZWb6iHAgBhzRHqAQA4vcONHhVvqdabuw7paKtXvSPtujploHLHJSo22hnq4QFA2GEGBwhz\n",
              "hxs9+vWLO/SXrW41eww5Imxq9hgq3lqj21/Yoa+bPKEeIgCEHQIOEOaKt1Srqq5RA6KdOr9PL/Vx\n",
              "OnR+n14aEO1UVV2jij+oCfUQASDsEHCAMNbS6tWbuw4pymGXw+7/cXXYI+R02PXG7q+4JgcAfoSA\n",
              "A4SxJo+ho61e9XJ0/FF1OiJ09JhXTR6ji0cGAOGNgAOEsWinQ70j7TpmtHXY7jHa1LuXXdFO7hcA\n",
              "gB8i4ABhLCrSrikpP1OL4ZXh9Q85hrdNHsOrq5MHKirSHqIRAkB44s8+IMzNGTdEW/fXq6quUU6H\n",
              "XU5HhDzG8XAzIq6vcsclhnqIABB2mMEBwlxstFNP3JSp3IsTFR3lkNFmKjrKodyLE/X4TZk8BwcA\n",
              "OsAMDtANxEY79c9XJmnJhGFq8hiKdjo4LQUAp0DAAbqRqEg7wQYAOoFTVAAAwHIIOAAAwHIIOAAA\n",
              "wHIIOAAAwHIIOAAAwHIIOAAAwHIIOAAAwHIIOAAAwHIIOAAAwHIIOAAAwHIIOAAAwHIIOAAAwHII\n",
              "OAAAwHIIOAAAwHIIOAAAwHIIOAAAwHIIOAAAwHIIOAAAwHKCGnAqKys1fvx4JSUlKTs7W7t3727X\n",
              "p6ioSBkZGb4lNjZW06dP97Vv2LBBI0eO1IgRIzR9+nQ1NDR0qg0AAPRcQQ04ixcv1qJFi7R3717d\n",
              "ddddysvLa9dn3rx5qqio8C0DBw7U7NmzJUlNTU1asGCB1q9fr8rKSl1wwQV68MEHT9sGAAB6tqAF\n",
              "nLq6OpWXlys3N1eSNGPGDNXW1qqqquqk22zdulV1dXXKycmRJL3xxhvKzMzUyJEjJUlLly7Viy++\n",
              "eNo2AADQszmCtePa2lrFx8fL4Tj+FjabTS6XS263W8OHD+9wm8LCQs2ZM0eRkZGSJLfbrcTERF/7\n",
              "kCFDdPDgQRmGccq2E+/5Qx6PRx6Px2+d1+s95zoBAED4CZuLjJubm7V27VotWLAgKPtfuXKl+vXr\n",
              "57ds27YtKO8FAABCK2gBZ/Dgwb4ZFUkyTVNut1sul6vD/uvWrVNycrJGjx7tW+dyuVRTU+N7XV1d\n",
              "7ZsVOlVbR5YvX64jR474LWPGjAlEqQAAIMwELeDExcUpKytLxcXFkqSSkhIlJCSc8vTUj2dvpkyZ\n",
              "oo8++kh79uyRJK1Zs0azZs06bVtHnE6nYmJi/Ba73X7OdQIAgPATtGtwJKmgoEB5eXlasWKFYmJi\n",
              "VFRUJElauHChcnJyfBcTf/7556qoqNDGjRv9tu/bt6+eeeYZTZs2TYZhKCUlRc8999xp2wAAQM9m\n",
              "M03TDPUgQiU/P1+rVq0K9TAAAECAhc1FxgAAAIFCwAEAAJZDwAEAAJZDwAEAAJZDwAEAAJZDwAEA\n",
              "AJZDwAEAAJZDwAEAAJZDwAEAAJZDwAEAAJZDwAEAAJZDwAEAAJZDwAEAAJZDwAEAAJZDwAEAAJZD\n",
              "wAEAAJZDwAEAAJZDwAEAAJZDwAEAAJZDwAEAAJZDwAEAAJZDwAEAAJZDwAEAAJZDwAEAAJZDwAEA\n",
              "AJZDwAEAAJZDwAEAAJZDwAEAAJZDwAEAAJZDwAEAAJZDwAEAAJZDwAEAAJZDwAEAAJZDwAEAAJZD\n",
              "wAEAAJZDwAEAAJZDwAEAAJZDwAEAAJZDwAEAAJYT1IBTWVmp8ePHKykpSdnZ2dq9e3eH/Xbu3KkJ\n",
              "EyZo1KhRGjVqlEpLSyVJRUVFysjI8C2xsbGaPn26JKm6ulp2u92vfd++fcEsBwAAdBOOYO588eLF\n",
              "WrRokfLy8vTKK68oLy9P27dv9+vz/fffa+rUqXr++ed16aWXyuv16ttvv5UkzZs3T/PmzfP1TUlJ\n",
              "0ezZs32v+/btq4qKimCWAAAAuqGgzeDU1dWpvLxcubm5kqQZM2aotrZWVVVVfv1eeOEFjR07Vpde\n",
              "eqkkyW63a8CAAe32t3XrVtXV1SknJ+esxuPxeNTQ0OC3eL3es9oXAAAIb0ELOLW1tYqPj5fDcXyS\n",
              "yGazyeVyye12+/X79NNP5XQ6de211yojI0M333yzDh8+3G5/hYWFmjNnjiIjI33rmpublZ2drays\n",
              "LD3wwAOnDCwrV65Uv379/JZt27YFqFoAABBOQn6RsWEY2rRpkwoKCrRjxw4NGjRIt956q1+f5uZm\n",
              "rV27VgsWLPCti4+P14EDB7R9+3Zt2rRJZWVleuSRR076PsuXL9eRI0f8ljFjxgStLgAAEDpBCziD\n",
              "Bw/WwYMHZRiGJMk0TbndbrlcLr9+LpdLEydO1KBBg2Sz2ZSbm6stW7b49Vm3bp2Sk5M1evRo3zqn\n",
              "06m4uDhJUv/+/TV//nyVlZWddDxOp1MxMTF+i91uD1S5AAAgjAQt4MTFxSkrK0vFxcWSpJKSEiUk\n",
              "JGj48OF+/W644QZt375dDQ0NkqSNGzcqPT3dr09hYaHf7I10/Bqf1tZWScevryktLVVmZmawygEA\n",
              "AN1IUO+iKigoUF5enlasWKGYmBgVFRVJkhYuXKicnBzl5OTI5XLp7rvv1vjx4xUREaFBgwbpqaee\n",
              "8u3j888/V0VFhTZu3Oi37/fee0/33Xef7Ha7DMPQFVdcoXvuuSeY5QAAgG7CZpqmGepBhEp+fr5W\n",
              "rVoV6mEAAIAAC/lFxgAAAIFGwAEAAJZDwAEAAJZDwAEAAJZDwAEAAJZDwAEAAJZDwAEAAJZDwAEA\n",
              "AJZDwAEAAJZDwAEAAJZDwAEAAJZDwAEAAJZDwAEAAJZDwAEAAJZDwAEAAJZDwAEAAJZDwAEAAJZD\n",
              "wAEAAJZDwAEAAJZDwAEAAJZDwAEAAJZDwAEAAJZDwAEAAJZDwAEAAJZDwAmCllavvm7yqKXVG+qh\n",
              "AADQIzlCPQArOdzoUfGWar2565COtnrVO9Kuq1MGKndcomKjnaEeHgAAPQYzOAFyuNGjX7+4Q3/Z\n",
              "6lazx5AjwqZmj6HirTW6/YUd+rrJE+ohAgDQYxBwAqR4S7Wq6ho1INqp8/v0Uh+nQ+f36aUB0U5V\n",
              "1TWq+IOaUA8RAIAeg4ATAC2tXr2565CiHHY57P4/Uoc9Qk6HXW/s/oprcgAA6CIEnABo8hg62upV\n",
              "L0fHP06nI0JHj3nV5DG6eGQAAPRMBJwAiHY61DvSrmNGW4ftHqNNvXvZFe3kmm4AALoCAScAoiLt\n",
              "mpLyM7UYXhle/5BjeNvkMby6OnmgoiLtIRohAAA9C1MKATJn3BBt3V+vqrpGOR12OR0R8hjHw82I\n",
              "uL7KHZcY6iECANBjMIMTILHRTj1xU6ZyL05UdJRDRpup6CiHci9O1OM3ZfIcHAAAuhAzOAEUG+3U\n",
              "P1+ZpCUThqnJYyja6eC0FAAAIUDACYKoSDvBBgCAEOIUFQAAsBwCDgAAsJygBpzKykqNHz9eSUlJ\n",
              "ys7O1u7duzvst3PnTk2YMEGjRo3SqFGjVFpaKkn661//qt69eysjI8O3HD161LddYWGhRowYoWHD\n",
              "humWW25Ra2trMMsBAADdRFADzuLFi7Vo0SLt3btXd911l/Ly8tr1+f777zV16lQ99NBD+uyzz7Rr\n",
              "1y5ddtllvvYLL7xQFRUVvqV3796SpP379+vee+9VWVmZqqqqdOjQIT311FPBLAcAAHQTQQs4dXV1\n",
              "Ki8vV25uriRpxowZqq2tVVVVlV+/F154QWPHjtWll14qSbLb7RowYMBp9//KK68oJydHAwcOlM1m\n",
              "05IlS/Tiiy+etL/H41FDQ4Pf4vXy3VAAAFhR0AJObW2t4uPj5XAcv1HLZrPJ5XLJ7Xb79fv000/l\n",
              "dDp17bXXKiMjQzfffLMOHz7sa9+3b5+ysrKUnZ2tNWvW+Na73W4lJv7/h+cNGTKk3b5/aOXKlerX\n",
              "r5/fsm3btkCVCwAAwkjILzI2DEObNm1SQUGBduzYoUGDBunWW2+VJGVlZemLL77QRx99pFdffVVP\n",
              "PvmkXn755bN6n+XLl+vIkSN+y5gxYwJZCgAACBNBCziDBw/WwYMHZRjHv0HbNE253W65XC6/fi6X\n",
              "SxMnTtSgQYNks9mUm5urLVu2SJJiYmLUr18/SVJCQoJuvPFGlZWV+barqanx7ae6urrdvn/I6XQq\n",
              "JibGb7HbeVYNAABWFLSAExcXp6ysLBUXF0uSSkpKlJCQoOHDh/v1u+GGG7R9+3Y1NDRIkjZu3Kj0\n",
              "9HRJ0sGDB9XWdvzLKxsbG7VhwwZlZmZKOn5Nz+uvv66vvvpKpmnqySef1KxZs4JVDgAA6EaC+iTj\n",
              "goIC5eXlacWKFYqJiVFRUZEkaeHChcrJyVFOTo5cLpfuvvtujR8/XhERERo0aJDvbqiSkhL913/9\n",
              "lxwOhwzD0K9+9SvNmzdPkjR06FD97ne/0yWXXCJJmjBhghYvXhzMcgAAQDdhM03TDPUgQmX69Oka\n",
              "MmRIh21er1fbtm3TmDFjetypLGrvmbVLPbv+nly71LPrp/buV3tiYqLuuOOOU/bp0QHnVBoaGtSv\n",
              "Xz8dOXJEMTExoR5Ol6L2nlm71LPr78m1Sz27fmq3Zu0hv4sKAAAg0Ag4AADAcgg4AADAcgg4J+F0\n",
              "OnX//ffL6XSGeihdjtp7Zu1Sz66/J9cu9ez6qd2atXORMQAAsBxmcAAAgOUQcAAAgOUQcAAAgOX0\n",
              "iIBTWVmp8ePHKykpSdnZ2dq9e3eH/Xbu3KkJEyZo1KhRGjVqlEpLSyVJf/3rX9W7d29lZGT4lqNH\n",
              "j/q2Kyws1IgRIzRs2DDdcsstam1t7ZK6OuNcay8qKvKrOzY2VtOnT5d0/AtO7Xa7X/u+ffu6rLbT\n",
              "6Uztp6pPkjZs2KCRI0dqxIgRmj59uu87007XFg7Otf6dO3fq8ssv18iRI5WSkqL58+f7/d7bbDal\n",
              "pqb6tj3xRbjh4FxrP93vdjgf+3Ot/a233vJru+CCC5SVleXbNpyPu9S5+tva2pSfn6/Ro0crLS1N\n",
              "EydOVFVVla+9u37uz7X27vyZ75DZA0ycONEsKioyTdM0161bZ/7iF79o16e5udn8+c9/bpaVlZmm\n",
              "aZqGYZh1dXWmaZrm5s2bzfT09A73/fe//92Mj483Dx48aLa1tZnXXXed+cQTTwSljrNxrrX/WHJy\n",
              "svnKK6+Ypmma+/fvN/v16xeUcQdCZ2r/sR/W19jYaMbFxZmfffaZaZqmedttt5m/+c1vTtsWLs61\n",
              "/r1795off/yxaZrHfyduuOEG8/777/f1lWTW19cHetgBca61n+p3O9yP/bnW/mP/+I//aP7Hf/yH\n",
              "73U4H3fT7Fz9r776qjlmzBjz2LFjpmma5oMPPmj+6le/Mk2ze3/uz7X27vyZ74jlA86hQ4fMvn37\n",
              "mq2traZpmmZbW5v5s5/9zKysrPTr9/TTT5s33nhjh/s4VcD5/e9/by5evNj3+n/+53/MSy65JDCD\n",
              "P0eBqP2HtmzZYg4YMMD3wQjngNPZ2n/ox/W9/PLL5lVXXeVr3717tzlo0KDTtoWDQNT/Y3/4wx/M\n",
              "uXPn+l6H6z92gaj9VL/b4XzsA33cDxw4YEZFRZmHDh3yrQvX426ana9//fr1Znp6utnQ0GC2tbWZ\n",
              "y5YtM//lX/7FNM3u+7kPRO0/1l0+8ydj+VNUtbW1io+Pl8Nx/IvTbTabXC6X3G63X79PP/1UTqdT\n",
              "1157rTIyMnTzzTfr8OHDvvZ9+/YpKytL2dnZWrNmjW+92+1WYmKi7/WQIUPa7TtUAlX7CYWFhZoz\n",
              "Z44iIyN965qbm5Wdna2srCw98MAD8nq9wS2qkzpb+w/9uL6Oju3BgwdlGMYp28JBIOr/oebmZj3z\n",
              "zDOaOnWq3/pJkyYpPT1d+fn5am5uDmwRZylQtZ/sdzucj32gj/uzzz6ra665RnFxcX7rw/G4S52v\n",
              "/7rrrtOECRM0cOBAxcfH6+2339YDDzwgqft+7gNR+w91p8/8yVg+4HSWYRjatGmTCgoKtGPHDg0a\n",
              "NEi33nqrJCkrK0tffPGFPvroI7366qt68skn9fLLL4d4xIFzqtpPaG5u1tq1a7VgwQLfuvj4eB04\n",
              "cEDbt2/Xpk2bVFZWpkceeaSrhx8QHdXXk5yq/mPHjmnmzJmaPHmyrr/+et/6mpoaffjhh3r//fd1\n",
              "+PBhLVu2rCuHHDBW/90+lVMdd9M09ac//aldmxWOe3l5uXbt2qUDBw7oyy+/1KRJk7RkyZJQD6tL\n",
              "dKZ2q3zmLR9wBg8e7JewTdOU2+2Wy+Xy6+dyuTRx4kQNGjRINptNubm52rJliyQpJiZG/fr1kyQl\n",
              "JCToxhtv9F1c5XK5VFNT49tPdXV1u32HSiBqP2HdunVKTk7W6NGjfeucTqfvL7v+/ftr/vz5YXPR\n",
              "WWdrP6Gj+jo6tif+QjpVWzgIRP2S1NraqpkzZyo+Pl6rV6/2azuxrz59+mjp0qWWOvan+t0O52Mf\n",
              "qOMuSe+++65aWlp01VVX+a0P1+Mudb7+559/XldccYXOO+88RUREaO7cudq8ebOk7vu5D0TtUvf8\n",
              "zJ+M5QNOXFycsrKyVFxcLEkqKSlRQkKChg8f7tfvhhtu0Pbt231XxG/cuFHp6emSpIMHD6qtrU2S\n",
              "1NjYqA0bNigzM1OSNGPGDL3++uv66quvZJqmnnzySc2aNauryjulQNR+QmFhYbu/5Orq6nx3jHk8\n",
              "HpWWlvp+LqHW2dpP6Ki+KVOm6KOPPtKePXskSWvWrPEd21O1hYNA1G8YhmbNmqX+/fvrqaeeks1m\n",
              "87XV19fr+++/l3T8royXXnrJUsf+VL/b4XzsA1H7D9vy8vJkt9t968L5uEudr3/o0KF65513dOzY\n",
              "MUnH74xKSUmR1H0/94Govbt+5k8qVBf/dKU9e/aYY8eONUeMGGFedNFF5ieffGKapmkuWLDAfO21\n",
              "13z9nn/+eTM5OdlMTU01p0yZYrrdbtM0TfPxxx83R48ebaalpZmjR48277//frOtrc233VNPPWUO\n",
              "HTrUHDp0qDl//vyTXqQZCuda+4l9REdHmw0NDX77LikpMZOTk30/l9tvv91saWnpmsI6obO1n6w+\n",
              "0zTN1157zbzwwgvNYcOGmVOnTjW/++67TrWFg3Otv7i42JRkpqWlmenp6WZ6erq5dOlS0zRN8/33\n",
              "3zdTU1N9xz43N9f85ptvuq640zjX2k/3ux3Oxz4Qv/ffffed+ZOf/MTct2+f3/pwP+6m2bn6W1pa\n",
              "zIULF5ojR440U1NTzSuvvNKv1u76uT/X2rvzZ74jfBcVAACwHMufogIAAD0PAQcAAFgOAQcAAFgO\n",
              "AQeAJd133336y1/+cso+Cxcu9LtFFoB1cJExgLBmGEZYPGcEQPfCDA6AkLDZbPrtb3+rzMxMJSUl\n",
              "+c222Gw23X///crOztby5cvV2NioW265RWPGjFFaWpoWLVrke47HgQMH9Mtf/lKpqalKS0vTvffe\n",
              "K0nKy8vTo48+Kkn67//+b6WlpSkjI0MpKSl67bXXJEkTJkzQ+vXrJR1/9s306dOVmpqqlJQUFRQU\n",
              "+MYzZMgQ3XfffRo3bpx+/vOf66GHHuqCnxCAc8GfRQBCxmazaceOHfr73/+uX/ziF7rkkks0ZMgQ\n",
              "SZLdbtf27dslSYsWLdJll12mp59+WqZp6pZbbtHq1au1bNky5ebmavLkyXrllVckqcPvUfvtb3+r\n",
              "goICjRs3Tm1tbb6HWv7Qr3/9a1144YUqLS1VXV2dLrroIqWnp2vs2LGSpO+++04ffPCBvv76aw0b\n",
              "Nkzz5s3ToEGDgvSTAXCuCDgAQmbhwoWSjj9d9fLLL9f//d//+QLO/Pnzff3Wr1+vDz74QKtWrZIk\n",
              "HT16VHa7XU1NTXrvvff01ltv+foOGDCg3ftMmjRJd9xxh375y19q8uTJysjIaNdn06ZN+vDDDyUd\n",
              "fyrs9OnTtWnTJl/AuemmmyRJsbGxGjp0qPbv30/AAcIYAQdA2Pjho+Gjo6N9/22apkpKSpSUlOTX\n",
              "v6mpqVP7XbVqlXbv3q3Nmzdr7ty5mj17tu68885Oj0WSoqKifP9tt9vD4hukAZwc1+AACJmioiJJ\n",
              "x7+0sKysTJdddlmH/aZNm6aHH37YFyrq6+tVVVWl6OhoXX755X7f9N3RKao9e/YoOTlZt99+u269\n",
              "9dZ2XyYrSf/wD/+gp59+2reP0tJSXXnlledcI4DQIOAACBmv16vMzExNnjxZjz32mO/01I/98Y9/\n",
              "VO/evZWRkaG0tDRNmjRJ1dXVkqQ///nPKi8vV3JysjIyMvTEE0+02/7uu+9WcnKyMjMz9ec//1n/\n",
              "+q//2q7PY489ps8++0ypqamaOHGi7rnnHl188cUBrBZAV+I2cQAhYbPZVF9fr/POOy/UQwFgQczg\n",
              "AAAAy+EiYwAhweQxgGBiBgcAAFgOAQcAAFgOAQcAAFgOAQcAAFgOAQcAAFgOAQcAAFgOAQcAAFgO\n",
              "AQcAAFjO/wOCU15c1wNCegAAAABJRU5ErkJggg==\n",
              "\">\n",
              "      </div>\n",
              "      <script type=\"text/javascript\">\n",
              "        (() => {\n",
              "          const chartElement = document.getElementById(\"chart-531c9d2b-e0ec-4156-9df6-0a75195ac7ba\");\n",
              "          async function getCodeForChartHandler(event) {\n",
              "            const chartCodeResponse =  await google.colab.kernel.invokeFunction(\n",
              "                'getCodeForChart', [\"chart-531c9d2b-e0ec-4156-9df6-0a75195ac7ba\"], {});\n",
              "            const responseJson = chartCodeResponse.data['application/json'];\n",
              "            await google.colab.notebook.addCell(responseJson.code, 'code');\n",
              "          }\n",
              "          chartElement.onclick = getCodeForChartHandler;\n",
              "        })();\n",
              "      </script>\n",
              "      <style>\n",
              "        .colab-quickchart-chart-with-code  {\n",
              "            display: block;\n",
              "            float: left;\n",
              "            border: 1px solid transparent;\n",
              "        }\n",
              "\n",
              "        .colab-quickchart-chart-with-code:hover {\n",
              "            cursor: pointer;\n",
              "            border: 1px solid #aaa;\n",
              "        }\n",
              "      </style>"
            ]
          },
          "metadata": {}
        },
        {
          "output_type": "display_data",
          "data": {
            "text/plain": [
              "from matplotlib import pyplot as plt\n",
              "all_model_results.plot(kind='scatter', x='recall', y='f1', s=32, alpha=.8)\n",
              "plt.gca().spines[['top', 'right',]].set_visible(False)"
            ],
            "text/html": [
              "      <div class=\"colab-quickchart-chart-with-code\" id=\"chart-95b140ce-b061-4260-870d-e10c042919b9\">\n",
              "        <img style=\"width: 180px;\" src=\"data:image/png;base64,iVBORw0KGgoAAAANSUhEUgAAAjgAAAGkCAYAAAA8OV9TAAAAOXRFWHRTb2Z0d2FyZQBNYXRwbG90\n",
              "bGliIHZlcnNpb24zLjcuMSwgaHR0cHM6Ly9tYXRwbG90bGliLm9yZy/bCgiHAAAACXBIWXMAAA9h\n",
              "AAAPYQGoP6dpAAAug0lEQVR4nO3dfXBUVZ7/8U/THTosITgUZBIIHeQhE0ggD7tBxIcCKRVnNCg4\n",
              "ghI0PJggztTMppaicMq1RrdAd1ccaliWMGQy42YExCDDsqi1qGPFcXiIEIUokDAkHTESVCRJQ5p0\n",
              "5/7+4Ef/7El4+JnudHLyflXdKnLPubfPl9sNn5x7uttmWZYlAAAAg/SL9AAAAABCjYADAACMQ8AB\n",
              "AADGIeAAAADjEHAAAIBxCDgAAMA4BBwAAGAcAg4AADBOnw44a9eujfQQAABAGPTpgFNXVxfpIQAA\n",
              "gDDo0wEHAACYiYADAACMQ8ABAADGIeAAAADjEHAAAIBxCDgAAMA4BBwAAGAcAg4AADAOAQcAABiH\n",
              "gAMAAIxDwAEAACHV2ubXly1etbb5IzYGR8QeGQAAGOVMs1ele2v15pHTutDm14Aou+5Ji1fuzUka\n",
              "GuPs1rEwgwMAALrsTLNXP918SH/Y55bH65Ojn00er0+l++r0k1cO6csWb7eOh4ADAAC6rHRvrWoa\n",
              "mzUsxqnvDeyvgU6Hvjewv4bFOFXT2KzSv9R163gIOAAAoEta2/x688hpRTvsctiDo4XD3k9Oh11v\n",
              "VH3RrWtyCDgAAKBLWrw+XWjzq7+j81jhdPTThYt+tXh93TYmAg4AAOiSGKdDA6Lsuuhr77Td62vX\n",
              "gP52xTi7771NBBwAANAl0VF2zUz7vlp9fvn8wSHH52+X1+fXPanxio6yd9uYeJs4AADosgU3j9K+\n",
              "k2dV09gsp8Mup6OfvL5L4WZc3CDl3pzUreNhBgcAAHTZ0Bin1j2SqdybkhQT7ZCv3VJMtEO5NyXp\n",
              "149kdvvn4DCDAwAAQmJojFM/vzNZS6eNUYvXpxino1tvS30bAQcAAIRUdJQ9YsHmMm5RAQAA4xBw\n",
              "AACAcQg4AADAOAQcAABgHAIOAAAwTlgDTnV1taZOnark5GRlZ2erqqqqQ5/29nYVFhZqwoQJmjRp\n",
              "kqZPn66amhpJ0uHDh3X77bcrJSVFaWlpWrRokS5cuBA41mazaeLEicrIyFBGRobKy8vDWQ4AAOgl\n",
              "whpwCgoKlJ+fr+PHj2vFihXKy8vr0Gfnzp3685//rI8++kgff/yxZsyYoaeeekqSFB0drXXr1uno\n",
              "0aP66KOP5PF49MILLwQdX15ersrKSlVWVuq2224LZzkAAKCXCFvAaWxsVEVFhXJzcyVJc+bMUX19\n",
              "fWB25jKbzSav16vW1lZZlqWmpiYlJiZKksaNG6dJkyZJkux2u7Kzs1VbW/udxuP1etXU1BS0+f3d\n",
              "97XtAACg+4Qt4NTX1yshIUEOx6XPErTZbHK5XHK73UH97rvvPk2bNk3x8fFKSEjQ22+/rWeffbbD\n",
              "+TwejzZt2qRZs2YF7Z8xY4bS09NVWFgoj8dzxfGsXr1agwcPDtr2798fgkoBAEBPE/FFxhUVFTpy\n",
              "5IhOnTqlzz//XDNmzNDSpUuD+ly8eFFz587VXXfdpQceeCCwv66uTh9++KE++OADnTlzRsuXL7/i\n",
              "46xcuVLnzp0L2iZPnhy2ugAAQOSE7asaRo4cqYaGBvl8PjkcDlmWJbfbLZfLFdTv5Zdf1h133KEb\n",
              "brhBkvTYY4/prrvuCrS3tbVp7ty5SkhI0Nq1a4OOvXyugQMHatmyZcrPz7/ieJxOp5zO4C/6stsj\n",
              "+zHSAAAgPMI2gxMXF6esrCyVlpZKksrKypSYmKixY8cG9Rs9erTeeecdXbx4UZK0a9cupaWlSZJ8\n",
              "Pp/mzZunIUOGaOPGjbLZbIHjzp49q/Pnz0u69E6srVu3KjMzM1zlAACAXiSsX7ZZVFSkvLw8rVq1\n",
              "SrGxsSopKZEkLVmyRDk5OcrJydGTTz6pTz/9VOnp6YqKilJ8fLw2bNggSdq6dau2b9+uSZMmBcLL\n",
              "Lbfcov/4j//Q0aNHVVBQIJvNJp/Pp6ysrA4zPAAAoG+yWZZlRXoQkVJYWKg1a9ZEehgAACDEIr7I\n",
              "GAAAINQIOAAAwDgEHAAAYBwCDgAAMA4BBwAAGIeAAwAAjEPAAQAAxiHgAAAA4xBwAACAcQg4AADA\n",
              "OAQcAABgHAIOAAAwDgEHAAAYh4ADAACMQ8ABAADGIeAAAADjEHAAAIBxCDgAAMA4BBwAAGAcAg4A\n",
              "ADAOAQcAABiHgAMAAIxDwAEAAMYh4AAAAOMQcAAAgHEIOAAAwDgEHAAAYBwCDgAAMA4BBwAAGIeA\n",
              "AwAAjEPAAQAAxiHgAAAA4xBwAACAcQg4AADAOAQcAABgHAIOAAAwTlgDTnV1taZOnark5GRlZ2er\n",
              "qqqqQ5/29nYVFhZqwoQJmjRpkqZPn66amppA+65du5SSkqJx48Zp9uzZampquq42AADQd4U14BQU\n",
              "FCg/P1/Hjx/XihUrlJeX16HPzp079ec//1kfffSRPv74Y82YMUNPPfWUJKmlpUWLFy/Wjh07VF1d\n",
              "reHDh+u55567ZhsAAOjbwhZwGhsbVVFRodzcXEnSnDlzVF9fHzQ7I0k2m01er1etra2yLEtNTU1K\n",
              "TEyUJL3xxhvKzMxUSkqKJGnZsmXavHnzNds64/V61dTUFLT5/f6Q1w0AACLPEa4T19fXKyEhQQ7H\n",
              "pYew2WxyuVxyu90aO3ZsoN99992nd999V/Hx8Ro0aJBGjBih9957T5LkdruVlJQU6Dtq1Cg1NDTI\n",
              "5/Ndte3yY37b6tWr9ctf/jJo35QpU0JaMwAA6Bkivsi4oqJCR44c0alTp/T5559rxowZWrp0acgf\n",
              "Z+XKlTp37lzQNnny5JA/DgAAiLywBZyRI0cGZlQkybIsud1uuVyuoH4vv/yy7rjjDt1www3q16+f\n",
              "HnvsMb377ruSJJfLpbq6ukDf2trawKzQ1do643Q6FRsbG7TZ7fZQlw0AAHqAsAWcuLg4ZWVlqbS0\n",
              "VJJUVlamxMTEoNtTkjR69Gi98847unjxoqRL74xKS0uTJM2cOVMHDx7U0aNHJUnr16/XvHnzrtkG\n",
              "AAD6trCtwZGkoqIi5eXladWqVYqNjVVJSYkkacmSJcrJyVFOTo6efPJJffrpp0pPT1dUVJTi4+O1\n",
              "YcMGSdKgQYO0adMm3X///fL5fEpLS9Pvf//7a7YBAIC+zWZZlhXpQURKYWGh1qxZE+lhAACAEIv4\n",
              "ImMAAIBQI+AAAADjEHAAAIBxCDgAAMA4BBwAAGAcAg4AADAOAQcAABiHgAMAAIxDwAEAAMYh4AAA\n",
              "AOMQcAAAgHEIOAAAwDgEHAAAYBwCDgAAMA4BBwAAGIeAAwAAjEPAAQAAxiHgAAAA4xBwAACAcQg4\n",
              "AADAOAQcAABgHAIOAAAwDgEHAAAYh4ADAACMQ8ABAIRMa5tfX7Z41drmj/RQ0Mc5Ij0AAEDvd6bZ\n",
              "q9K9tXrzyGldaPNrQJRd96TFK/fmJA2NcUZ6eOiDmMEBAHTJmWavfrr5kP6wzy2P1ydHP5s8Xp9K\n",
              "99XpJ68c0pct3kgPEX0QAQcA0CWle2tV09isYTFOfW9gfw10OvS9gf01LMapmsZmlf6lLtJDRB9E\n",
              "wAEAfGetbX69eeS0oh12OezB/6U47P3kdNj1RtUXrMlBtyPgAAC+sxavTxfa/Orv6Py/E6ejny5c\n",
              "9KvF6+vmkaGvI+AAAL6zGKdDA6Lsuuhr77Td62vXgP52xTh5Twu6FwEHAPCdRUfZNTPt+2r1+eXz\n",
              "B4ccn79dXp9f96TGKzrKHqERoq8iUgMAumTBzaO07+RZ1TQ2y+mwy+noJ6/vUrgZFzdIuTcnRXqI\n",
              "6IOYwQEAdMnQGKfWPZKp3JuSFBPtkK/dUky0Q7k3JenXj2TyOTiICGZwAABdNjTGqZ/fmayl08ao\n",
              "xetTjNPBbSlEFAEHABAy0VF2gg16hLDeoqqurtbUqVOVnJys7OxsVVVVdehTUlKijIyMwDZ06FDN\n",
              "nj1bkvTWW28FtQ0fPlxZWVmBY202myZOnBhoLy8vD2c5AACglwjrDE5BQYHy8/OVl5en1157TXl5\n",
              "eTpw4EBQn4ULF2rhwoWBn9PS0jR//nxJ0t13362777470Hbvvfdq+vTpQceXl5frhhtuCF8RAACg\n",
              "1wnbDE5jY6MqKiqUm5srSZozZ47q6+tVU1NzxWP27dunxsZG5eTkdGj7/PPP9fbbb2vBggXfaTxe\n",
              "r1dNTU1Bm9/PJ2sCAGCisAWc+vp6JSQkyOG4NElks9nkcrnkdruveExxcbEWLFigqKioDm2/+93v\n",
              "9MMf/lBxcXFB+2fMmKH09HQVFhbK4/Fc8dyrV6/W4MGDg7b9+/d/x+oAAEBP1mPeJu7xeLRlyxYt\n",
              "Xry4Q5tlWfrtb3/boa2urk4ffvihPvjgA505c0bLly+/4vlXrlypc+fOBW2TJ08OeR0AACDywrYG\n",
              "Z+TIkWpoaJDP55PD4ZBlWXK73XK5XJ3237Ztm1JTUzVhwoQObe+9955aW1uD1uNICpxr4MCBWrZs\n",
              "mfLz8684HqfTKacz+LMY7HZW+gMAYKKwzeDExcUpKytLpaWlkqSysjIlJiZq7NixnfYvLi7udPbm\n",
              "clteXl5QIDl79qzOnz8vSWpvb9fWrVuVmZkZ4ioAAEBvFNZ3URUVFSkvL0+rVq1SbGysSkpKJElL\n",
              "lixRTk5OYDHxsWPHVFlZqd27d3c4x7lz57R9+3YdPnw4aP/Ro0dVUFAgm80mn8+nrKwsrV27Npzl\n",
              "AACAXsJmWZYV6UFESmFhodasWRPpYQAAgBDrMYuMAQAAQoWAAwAAjEPAAQAAxiHgAAAA4xBwAACA\n",
              "cQg4AADAOAQcAABgHAIOAAAwDgEHAAAYh4ADAACMQ8ABAADGIeAAAADjEHAAAIBxCDgAAMA4BBwA\n",
              "AGAcAg4AADAOAQcAABiHgAMAAIxDwAEAAMYh4AAAAOMQcAAAgHEIOAAAwDgEHAAAYBwCDgAAMA4B\n",
              "BwAAGIeAAwAAjEPAAQAAxiHgAAAA4xBwAACAcQg4AADAOAQcAABgHAIOAAAwDgEHAAAYh4ADAACM\n",
              "Q8ABAADGCWvAqa6u1tSpU5WcnKzs7GxVVVV16FNSUqKMjIzANnToUM2ePVuSVFtbK7vdHtR+4sSJ\n",
              "wLG7du1SSkqKxo0bp9mzZ6upqSmc5QAAgF4irAGnoKBA+fn5On78uFasWKG8vLwOfRYuXKjKysrA\n",
              "Fh8fr/nz5wfaBw0aFNQ+ZswYSVJLS4sWL16sHTt2qLq6WsOHD9dzzz0XznIAAEAvEbaA09jYqIqK\n",
              "CuXm5kqS5syZo/r6etXU1FzxmH379qmxsVE5OTnXPP8bb7yhzMxMpaSkSJKWLVumzZs3h2bwAACg\n",
              "VwtbwKmvr1dCQoIcDockyWazyeVyye12X/GY4uJiLViwQFFRUYF9Ho9H2dnZysrK0rPPPiu/3y9J\n",
              "crvdSkpKCvQbNWqUGhoa5PP5Oj231+tVU1NT0Hb5XAAAwCw9ZpGxx+PRli1btHjx4sC+hIQEnTp1\n",
              "SgcOHNCePXtUXl6uF1988Tudf/Xq1Ro8eHDQtn///lANHwAA9CBhCzgjR44MmlGxLEtut1sul6vT\n",
              "/tu2bVNqaqomTJgQ2Od0OhUXFydJGjJkiBYtWqTy8nJJksvlUl1dXaBvbW1t0IzR31q5cqXOnTsX\n",
              "tE2ePDkktQIAgJ4lbAEnLi5OWVlZKi0tlSSVlZUpMTFRY8eO7bR/cXFx0OyNdGkdT1tbm6RLt5i2\n",
              "b9+uzMxMSdLMmTN18OBBHT16VJK0fv16zZs374rjcTqdio2NDdrsdnuX6wQAAD1PWG9RFRUVqaio\n",
              "SMnJyXr++edVUlIiSVqyZIl27twZ6Hfs2DFVVlZq7ty5Qce///77yszMVHp6urKyshQfH69f/OIX\n",
              "ki69u2rTpk26//77NXbsWH322Wd6+umnw1kOAADoJWyWZVmRHkSkFBYWas2aNZEeBgAACLEes8gY\n",
              "AAAgVAg4AADAOAQcAABgHAIOAAAwDgEHAAAYh4ADAACMQ8ABAADGIeAAAADjEHAAAIBxCDgAAMA4\n",
              "BBwAAGCcLgec5OTkUIwDAAAgZBzX0+njjz++Yltzc3PIBgMAABAK1xVwMjIyNGrUKHX2xeNfffVV\n",
              "yAcFAADQFdcVcJKSkvT+++9r+PDhHdpGjhwZ8kEBAAB0xXWtwbnxxhv117/+tdO2H/3oRyEdEAAA\n",
              "QFddV8D55ptvdOutt+rWW2/t0LZhw4aQDwoAAKArrusWVWtrq7Zu3aqGhgbt3LmzQ3tOTk7IBwYA\n",
              "APBdXVfAef7557VhwwY1NjbqpZdeCmqz2WwEHAAA0KNcV8DJyclRTk6Ofvazn2nt2rXhHhMAAECX\n",
              "/H990B/hBkBXtLb59WWLV61t/kgPBYDhrmsGBwC64kyzV6V7a/XmkdO60ObXgCi77kmLV+7NSRoa\n",
              "44z08AAYiO+iAhBWZ5q9+unmQ/rDPrc8Xp8c/WzyeH0q3Venn7xySF+2eCM9RAAGIuAACKvSvbWq\n",
              "aWzWsBinvjewvwY6HfrewP4aFuNUTWOzSv9SF+khAjAQAQdA2LS2+fXmkdOKdtjlsAf/c+Ow95PT\n",
              "YdcbVV+wJgdAyBFwAIRNi9enC21+9Xd0/k+N09FPFy761eL1dfPIAJiOgAMgbGKcDg2Isuuir73T\n",
              "dq+vXQP62xXj5P0OAEKLgAMgbKKj7JqZ9n21+vzy+YNDjs/fLq/Pr3tS4xUdZY/QCAGYil+bAITV\n",
              "gptHad/Js6ppbJbTYZfT0U9e36VwMy5ukHJvTor0EAEYiBkcAGE1NMapdY9kKvemJMVEO+RrtxQT\n",
              "7VDuTUn69SOZfA4OgLBgBgdA2A2NcerndyZr6bQxavH6FON0cFsKQFgRcAB0m+goO8EGQLfgFhUA\n",
              "ADAOAQcAABiHgAMAAIxDwAEAAMYJa8Cprq7W1KlTlZycrOzsbFVVVXXoU1JSooyMjMA2dOhQzZ49\n",
              "W5J0+PBh3X777UpJSVFaWpoWLVqkCxcuBI612WyaOHFi4Njy8vJwlgMAAHqJsAacgoIC5efn6/jx\n",
              "41qxYoXy8vI69Fm4cKEqKysDW3x8vObPny9Jio6O1rp163T06FF99NFH8ng8euGFF4KOLy8vDxx7\n",
              "2223hbMcAADQS4Qt4DQ2NqqiokK5ubmSpDlz5qi+vl41NTVXPGbfvn1qbGxUTk6OJGncuHGaNGmS\n",
              "JMlutys7O1u1tbXhGjIAADBE2AJOfX29EhIS5HBc+qgdm80ml8slt9t9xWOKi4u1YMECRUVFdWjz\n",
              "eDzatGmTZs2aFbR/xowZSk9PV2FhoTwezxXP7fV61dTUFLT5/f7vWB0AAOjJeswiY4/Hoy1btmjx\n",
              "4sUd2i5evKi5c+fqrrvu0gMPPBDYX1dXpw8//FAffPCBzpw5o+XLl1/x/KtXr9bgwYODtv3794el\n",
              "FgAAEFlhCzgjR45UQ0ODfD6fJMmyLLndbrlcrk77b9u2TampqZowYULQ/ra2Ns2dO1cJCQlau3Zt\n",
              "UNvlcw0cOFDLli276iLjlStX6ty5c0Hb5MmTu1IiAADoocIWcOLi4pSVlaXS0lJJUllZmRITEzV2\n",
              "7NhO+xcXF3eYvfH5fJo3b56GDBmijRs3ymazBdrOnj2r8+fPS5La29u1detWZWZmXnE8TqdTsbGx\n",
              "QZvdzkfGAwBgorDeoioqKlJRUZGSk5P1/PPPq6SkRJK0ZMkS7dy5M9Dv2LFjqqys1Ny5c4OO37p1\n",
              "q7Zv366KigplZmYqIyNDTz75pCTp6NGjmjJlitLT0zVx4kR99dVX+tWvfhXOcgAAQC9hsyzLivQg\n",
              "IqWwsFBr1qyJ9DAAAECI9ZhFxgAAAKFCwAEAAMYh4AAAAOMQcAAAgHEIOAAAwDgEHAAAYBwCDgAA\n",
              "MA4BBwAAGIeAAwAAjEPAAQAAxiHgAAAA4xBwAACAcQg4QC/Q2ubXly1etbb5Iz0UAOgVHJEeAIAr\n",
              "O9PsVeneWr155LQutPk1IMque9LilXtzkobGOCM9PADosZjBAXqoM81e/XTzIf1hn1ser0+OfjZ5\n",
              "vD6V7qvTT145pC9bvJEeIgD0WAQcoIcq3VurmsZmDYtx6nsD+2ug06HvDeyvYTFO1TQ2q/QvdZEe\n",
              "IgD0WAQcoAdqbfPrzSOnFe2wy2EPfpk67P3kdNj1RtUXRq/JYd0RgK5gDQ7QA7V4fbrQ5ld/R+e/\n",
              "gzgd/XThol8tXp+io+zdPLrwYt0RgFBgBgfogWKcDg2Isuuir73Tdq+vXQP62xXjNOt3FNYdAQgV\n",
              "Ag7QA0VH2TUz7ftq9fnl8weHHJ+/XV6fX/ekxhs3e8O6IwChQsABeqgFN4/S2LhBOtPi1deei/J4\n",
              "ffrac1FnWrwaFzdIuTcnRXqIIcW6IwChRMABeqihMU6teyRTuTclKSbaIV+7pZhoh3JvStKvH8k0\n",
              "bj3K/8+6IwC4FrNu4AOGGRrj1M/vTNbSaWPU4vUpxukw7rbUZZfXHXm8Pg3sJLt5fe2KiXYYt+4I\n",
              "QHgwgwP0AtFRdg2NcRobbqS+u+4IQHjwqxCAHmPBzaO07+RZ1TQ2y+mwy+noJ6/vUrgxcd0RgPBh\n",
              "BgdAj9HX1h0BCB9mcAD0KH1p3RGA8CHgAOiRoqPsBBsA3xm3qAAAgHEIOAAAwDgEHAAAYBwCDgAA\n",
              "MA4BBwAAGIeAAwAAjEPAAQAAxiHgAAAA44Q14FRXV2vq1KlKTk5Wdna2qqqqOvQpKSlRRkZGYBs6\n",
              "dKhmz54daN+1a5dSUlI0btw4zZ49W01NTdfVBgAA+q6wBpyCggLl5+fr+PHjWrFihfLy8jr0Wbhw\n",
              "oSorKwNbfHy85s+fL0lqaWnR4sWLtWPHDlVXV2v48OF67rnnrtkGAAD6trAFnMbGRlVUVCg3N1eS\n",
              "NGfOHNXX16umpuaKx+zbt0+NjY3KycmRJL3xxhvKzMxUSkqKJGnZsmXavHnzNds64/V61dTUFLT5\n",
              "/f6Q1AoAAHqWsAWc+vp6JSQkyOG49HVXNptNLpdLbrf7iscUFxdrwYIFioqKkiS53W4lJSUF2keN\n",
              "GqWGhgb5fL6rtnVm9erVGjx4cNC2f//+UJQKAAB6mB6zyNjj8WjLli1avHhxWM6/cuVKnTt3Lmib\n",
              "PHlyWB4LAABEVtgCzsiRI4NmVCzLktvtlsvl6rT/tm3blJqaqgkTJgT2uVwu1dXVBX6ura0NzApd\n",
              "ra0zTqdTsbGxQZvdzjcVAwBgorAFnLi4OGVlZam0tFSSVFZWpsTERI0dO7bT/sXFxR1mb2bOnKmD\n",
              "Bw/q6NGjkqT169dr3rx512wDAAB9W+fTHSFSVFSkvLw8rVq1SrGxsSopKZEkLVmyRDk5OYHFxMeO\n",
              "HVNlZaV2794ddPygQYO0adMm3X///fL5fEpLS9Pvf//7a7YBAIC+zWZZlhXpQURKYWGh1qxZE+lh\n",
              "AACAEOsxi4wBAABChYADAACMQ8ABAADGIeAAAADjEHAAAIBxCDgAAMA4BBwAAGAcAg4AADAOAQcA\n",
              "ABiHgAMAAIxDwAEAAMYh4AAAAOMQcAAAgHEIOAAAwDgEHAAAYBwCDgAAMA4BBwAAGIeAAwAAjEPA\n",
              "AQAAxiHgAAAA4xBwAACAcQg4AADAOAQcAABgHAIOAAAwDgEHAAAYh4ADAACMQ8ABAADGIeAAAADj\n",
              "EHAAAIBxCDgAAMA4BBwAAGAcAg4AADAOAQcAABiHgAMAAIxDwAEAAMYh4AAAAOOENeBUV1dr6tSp\n",
              "Sk5OVnZ2tqqqqjrtd/jwYU2bNk3jx4/X+PHjtX37dklSSUmJMjIyAtvQoUM1e/ZsSVJtba3sdntQ\n",
              "+4kTJ8JZDgAA6CUc4Tx5QUGB8vPzlZeXp9dee015eXk6cOBAUJ/z589r1qxZevnll3XrrbfK7/fr\n",
              "66+/liQtXLhQCxcuDPRNS0vT/PnzAz8PGjRIlZWV4SwBAAD0QmGbwWlsbFRFRYVyc3MlSXPmzFF9\n",
              "fb1qamqC+r3yyiuaMmWKbr31VkmS3W7XsGHDOpxv3759amxsVE5Ozncaj9frVVNTU9Dm9/u/07kA\n",
              "AEDPFraAU19fr4SEBDkclyaJbDabXC6X3G53UL9PPvlETqdT9957rzIyMvToo4/qzJkzHc5XXFys\n",
              "BQsWKCoqKrDP4/EoOztbWVlZevbZZ68aWFavXq3BgwcHbfv37w9RtQAAoCeJ+CJjn8+nPXv2qKio\n",
              "SIcOHdKIESP0xBNPBPXxeDzasmWLFi9eHNiXkJCgU6dO6cCBA9qzZ4/Ky8v14osvXvFxVq5cqXPn\n",
              "zgVtkydPDltdAAAgcsIWcEaOHKmGhgb5fD5JkmVZcrvdcrlcQf1cLpemT5+uESNGyGazKTc3V3v3\n",
              "7g3qs23bNqWmpmrChAmBfU6nU3FxcZKkIUOGaNGiRSovL7/ieJxOp2JjY4M2u90eqnIBAEAPEraA\n",
              "ExcXp6ysLJWWlkqSysrKlJiYqLFjxwb1e+ihh3TgwAE1NTVJknbv3q309PSgPsXFxUGzN9KlNT5t\n",
              "bW2SLq2v2b59uzIzM8NVDgAA6EXC+i6qoqIi5eXladWqVYqNjVVJSYkkacmSJcrJyVFOTo5cLpee\n",
              "euopTZ06Vf369dOIESO0cePGwDmOHTumyspK7d69O+jc77//vv75n/9ZdrtdPp9Pd9xxh37xi1+E\n",
              "sxwAANBL2CzLsiI9iEgpLCzUmjVrIj0MAAAQYhFfZAwAABBqBBwAAGAcAg4AADAOAQcAABiHgAMA\n",
              "AIxDwAEAAMYh4AAAAOMQcAAAgHEIOAAAwDgEHAAAYBwCDgAAMA4BBwAAGIeAAwAAjEPAAQAAxiHg\n",
              "AAAA4xBwAACAcQg4AADAOAQcAABgHAIOAAAwDgEHAAAYh4ADAACMQ8ABAADGIeAAAADjEHAAAIBx\n",
              "CDgAAMA4BBwAAGAcAg4AADAOAQcAABiHgAMAAIxDwAEAAMYh4AAAAOMQcAAAgHEIOAAAwDgEHAAA\n",
              "YBwCDgAAMA4BBwAAGCesAae6ulpTp05VcnKysrOzVVVV1Wm/w4cPa9q0aRo/frzGjx+v7du3S5L+\n",
              "9Kc/acCAAcrIyAhsFy5cCBxXXFyscePGacyYMXr88cfV1tYWznIAAEAvEdaAU1BQoPz8fB0/flwr\n",
              "VqxQXl5ehz7nz5/XrFmz9C//8i/69NNPdeTIEd12222B9h/84AeqrKwMbAMGDJAknTx5Uk8//bTK\n",
              "y8tVU1Oj06dPa+PGjeEsBwAA9BJhCziNjY2qqKhQbm6uJGnOnDmqr69XTU1NUL9XXnlFU6ZM0a23\n",
              "3ipJstvtGjZs2DXP/9prryknJ0fx8fGy2WxaunSpNm/efMX+Xq9XTU1NQZvf7+9ChQAAoKcKW8Cp\n",
              "r69XQkKCHA6HJMlms8nlcsntdgf1++STT+R0OnXvvfcqIyNDjz76qM6cORNoP3HihLKyspSdna31\n",
              "69cH9rvdbiUlJQV+HjVqVIdzf9vq1as1ePDgoG3//v2hKhcAAPQgEV9k7PP5tGfPHhUVFenQoUMa\n",
              "MWKEnnjiCUlSVlaWPvvsMx08eFCvv/66NmzYoFdfffU7Pc7KlSt17ty5oG3y5MmhLAUAAPQQYQs4\n",
              "I0eOVENDg3w+nyTJsiy53W65XK6gfi6XS9OnT9eIESNks9mUm5urvXv3SpJiY2M1ePBgSVJiYqIe\n",
              "fvhhlZeXB46rq6sLnKe2trbDub/N6XQqNjY2aLPb7SGt+bLWNr++bPGqtY1bYAAARELYAk5cXJyy\n",
              "srJUWloqSSorK1NiYqLGjh0b1O+hhx7SgQMH1NTUJEnavXu30tPTJUkNDQ1qb2+XJDU3N2vXrl3K\n",
              "zMyUdGlNz86dO/XFF1/Isixt2LBB8+bNC1c51+VMs1cv/e8xzVr3Z81e/4FmrfuzfvW/x/Vlizei\n",
              "4wIAoK9xhPPkRUVFysvL06pVqxQbG6uSkhJJ0pIlS5STk6OcnBy5XC499dRTmjp1qvr166cRI0YE\n",
              "3g1VVlam//zP/5TD4ZDP59OPf/xjLVy4UJI0evRo/fKXv9Qtt9wiSZo2bZoKCgrCWc5VnWn26qeb\n",
              "D6mmsVnRDrv6O/rJ4/WpdF+d9p78WuseydTQGGfExgcAQF9isyzLivQgIqWwsFBr1qwJyble+t9j\n",
              "+sM+t4bFOOWw/7+JMZ+/XWdavMq9KUk/vzM5JI8FAACuLuKLjE3Q2ubXm0dOK9phDwo3kuSw95PT\n",
              "YdcbVV+wJgcAgG5CwAmBFq9PF9r86u/o/K/T6einCxf9avH6unlkAAD0TQScEIhxOjQgyq6LvvZO\n",
              "272+dg3ob1eMM6xLngAAwP9FwAmB6Ci7ZqZ9X60+v3z+4JDj87fL6/PrntR4RUeF523pAAAgGFMK\n",
              "IbLg5lHad/Ksahqb5XTY5XT0k9d3KdyMixuk3JuTrn0SAAAQEszghMjQGKfWPZKp3JuSFBPtkK/d\n",
              "Uky0Q7k3JenXvEUcAIBuxQxOCA2NcerndyZr6bQxavH6FON0cFsKAIAIIOCEQXSUnWADAEAEcYsK\n",
              "AAAYh4ADAACMQ8ABAADGIeAAAADjEHAAAIBxCDgAAMA4BBwAAGAcAg4AADAOAQcAABiHgAMAAIxj\n",
              "syzLivQgImX27NkaNWpUh/1+v1/79+/X5MmTZbf3ra9coHZqp/a+pS/XT+29t/akpCT97Gc/u2qf\n",
              "Ph1wrqSpqUmDBw/WuXPnFBsbG+nhdCtqp3Zq71v6cv3Ubnbt3KICAADGIeAAAADjEHAAAIBxCDid\n",
              "cDqdeuaZZ+R0OiM9lG5H7dTe1/Tl2qW+XT+1m107i4wBAIBxmMEBAADGIeAAAADjEHAAAIBxjA84\n",
              "1dXVmjp1qpKTk5Wdna2qqqpO+x0+fFjTpk3T+PHjNX78eG3fvl2S9Kc//UkDBgxQRkZGYLtw4ULg\n",
              "uOLiYo0bN05jxozR448/rra2tm6p63p0tfaSkpKguocOHarZs2dLkmpra2W324PaT5w40W21Xcv1\n",
              "1H61+iRp165dSklJ0bhx4zR79mw1NTVdV1ukdbX2w4cP6/bbb1dKSorS0tK0aNGioOe8zWbTxIkT\n",
              "A8eWl5d3W23X0tXar/W87snXXep6/W+99VZQ2/Dhw5WVlRU4trdf+/b2dhUWFmrChAmaNGmSpk+f\n",
              "rpqamkC7ya/5q9Xem1/zV2UZbvr06VZJSYllWZa1bds26x/+4R869PF4PNaNN95olZeXW5ZlWT6f\n",
              "z2psbLQsy7LeffddKz09vdNz//Wvf7USEhKshoYGq7293brvvvusdevWhaWO76Krtf+t1NRU67XX\n",
              "XrMsy7JOnjxpDR48OCzjDoXrqf1vfbu+5uZmKy4uzvr0008ty7KsJ5980vqnf/qna7b1BF2t/fjx\n",
              "49ZHH31kWdal58NDDz1kPfPMM4G+kqyzZ8+Getgh0dXar/a87unX3bK6Xv/f+tGPfmT9+7//e+Dn\n",
              "3n7tX3/9dWvy5MnWxYsXLcuyrOeee8768Y9/bFmW+a/5q9Xem1/zV2N0wDl9+rQ1aNAgq62tzbIs\n",
              "y2pvb7e+//3vW9XV1UH9fvOb31gPP/xwp+e4WsD513/9V6ugoCDw8//8z/9Yt9xyS2gG30WhqP3b\n",
              "9u7daw0bNizw4ujJAed6a/+2v63v1Vdfte6+++5Ae1VVlTVixIhrtkVaKGr/W//2b/9mPfbYY4Gf\n",
              "e+o/dqGo/WrP65583S0r9Nf+1KlTVnR0tHX69OnAvt5+7Xfs2GGlp6dbTU1NVnt7u7V8+XLrH//x\n",
              "Hy3LMv81f7Xa/1Zvec1fi9G3qOrr65WQkCCHwyHp0jSby+WS2+0O6vfJJ5/I6XTq3nvvVUZGhh59\n",
              "9FGdOXMm0H7ixAllZWUpOztb69evD+x3u91KSkoK/Dxq1KgO546UUNV+WXFxsRYsWKCoqKjAPo/H\n",
              "o+zsbGVlZenZZ5+V3+8Pb1HX6Xpr/7a/ra+za9vQ0CCfz3fVtkgLRe3f5vF4tGnTJs2aNSto/4wZ\n",
              "M5Senq7CwkJ5PJ7QFvEdhar2Kz2ve/J1l0J/7X/3u9/phz/8oeLi4oL29+Zrf99992natGmKj49X\n",
              "QkKC3n77bT377LOSzH/NX632b+tNr/lrMTrgXC+fz6c9e/aoqKhIhw4d0ogRI/TEE09IkrKysvTZ\n",
              "Z5/p4MGDev3117Vhwwa9+uqrER5x6Fyt9ss8Ho+2bNmixYsXB/YlJCTo1KlTOnDggPbs2aPy8nK9\n",
              "+OKL3T38kOisvr7iarVfvHhRc+fO1V133aUHHnggsL+urk4ffvihPvjgA505c0bLly/vziGHjOnP\n",
              "62u52rW3LEu//e1vO7T19mtfUVGhI0eO6NSpU/r88881Y8YMLV26NNLD6hbXU7tpr3mjA87IkSOD\n",
              "UrZlWXK73XK5XEH9XC6Xpk+frhEjRshmsyk3N1d79+6VJMXGxmrw4MGSpMTERD388MOBBVYul0t1\n",
              "dXWB89TW1nY4d6SEovbLtm3bptTUVE2YMCGwz+l0Bn6zGzJkiBYtWtRjFp5db+2XdVZfZ9f28m9J\n",
              "V2uLtFDULkltbW2aO3euEhIStHbt2qC2y+caOHCgli1bZtR1v9rzuidfdyl0116S3nvvPbW2turu\n",
              "u+8O2t/br/3LL7+sO+64QzfccIP69eunxx57TO+++64k81/zV6td6p2v+WsxOuDExcUpKytLpaWl\n",
              "kqSysjIlJiZq7NixQf0eeughHThwILAqfvfu3UpPT5ckNTQ0qL29XZLU3NysXbt2KTMzU5I0Z84c\n",
              "7dy5U1988YUsy9KGDRs0b9687irvqkJR+2XFxcUdfpNrbGwMvGPM6/Vq+/btgb+XSLve2i/rrL6Z\n",
              "M2fq4MGDOnr0qCRp/fr1gWt7tbZIC0XtPp9P8+bN05AhQ7Rx40bZbLZA29mzZ3X+/HlJl96VsXXr\n",
              "VqOu+9We1z35ukuhqf/bbXl5ebLb7YF9Jlz70aNH65133tHFixclXXpnVFpamiTzX/NXq723vuav\n",
              "KVKLf7rL0aNHrSlTpljjxo2z/v7v/976+OOPLcuyrMWLF1t//OMfA/1efvllKzU11Zo4caI1c+ZM\n",
              "y+12W5ZlWb/+9a+tCRMmWJMmTbImTJhgPfPMM1Z7e3vguI0bN1qjR4+2Ro8ebS1atOiKCzUjoau1\n",
              "Xz5HTEyM1dTUFHTusrIyKzU1NfD38pOf/MRqbW3tnsKuw/XWfqX6LMuy/vjHP1o/+MEPrDFjxliz\n",
              "Zs2yvvnmm+tqi7Su1l5aWmpJsiZNmmSlp6db6enp1rJlyyzLsqwPPvjAmjhxYuC65+bmWl999VX3\n",
              "FXcNXa39Ws/rnnzdLSs0z/tvvvnG+ru/+zvrxIkTQftNuPatra3WkiVLrJSUFGvixInWnXfeGVSn\n",
              "ya/5q9Xem1/zV8N3UQEAAOMYfYsKAAD0TQQcAABgHAIOAAAwDgEHQJ82bdo07dixQ5KUl5enX/3q\n",
              "VxEdD4DQIOAA6DV6wifHAugdCDgAejSbzaZnnnlG2dnZWrlypZqbm/X4449r8uTJmjRpkvLz8wOf\n",
              "7XHq1Ck9+OCDmjhxoiZNmqSnn35akvTKK6/opptuUmZmptLT0/Xf//3fkSwJQDeI/McwAsA12O12\n",
              "HThwQJKUn5+v2267Tb/5zW9kWZYef/xxrV27VsuXL1dubq7uuusuvfbaa5IU+F61u+++Ww8//LBs\n",
              "Nptqa2s1ZcoU1dXVyel0RqwmAOFFwAHQ4y1atCjw5x07dugvf/mL1qxZI0m6cOGC7Ha7Wlpa9P77\n",
              "7+utt94K9B02bJgk6eTJk5o/f74+++wzORwOff311zp58qRSUlK6txAA3YaAA6DHi4mJCfzZsiyV\n",
              "lZUpOTk5qE9LS8sVj583b56ef/55Pfjgg5Iufc9Ua2treAYLoEdgDQ6AXuX+++/XCy+8EFhwfPbs\n",
              "WdXU1CgmJka333570Ld/X75FdfbsWd14442SpNLSUp09e7b7Bw6gWxFwAPQqL730kgYMGKCMjAxN\n",
              "mjRJM2bMUG1trSTpv/7rv1RRUaHU1FRlZGRo3bp1kqS1a9fqwQcfVGZmpg4dOnTFb9gGYA6+iwoA\n",
              "ABiHGRwAAGAcAg4AADAOAQcAABiHgAMAAIxDwAEAAMYh4AAAAOMQcAAAgHEIOAAAwDgEHAAAYBwC\n",
              "DgAAMM7/AU+YYQRSWWqQAAAAAElFTkSuQmCC\n",
              "\">\n",
              "      </div>\n",
              "      <script type=\"text/javascript\">\n",
              "        (() => {\n",
              "          const chartElement = document.getElementById(\"chart-95b140ce-b061-4260-870d-e10c042919b9\");\n",
              "          async function getCodeForChartHandler(event) {\n",
              "            const chartCodeResponse =  await google.colab.kernel.invokeFunction(\n",
              "                'getCodeForChart', [\"chart-95b140ce-b061-4260-870d-e10c042919b9\"], {});\n",
              "            const responseJson = chartCodeResponse.data['application/json'];\n",
              "            await google.colab.notebook.addCell(responseJson.code, 'code');\n",
              "          }\n",
              "          chartElement.onclick = getCodeForChartHandler;\n",
              "        })();\n",
              "      </script>\n",
              "      <style>\n",
              "        .colab-quickchart-chart-with-code  {\n",
              "            display: block;\n",
              "            float: left;\n",
              "            border: 1px solid transparent;\n",
              "        }\n",
              "\n",
              "        .colab-quickchart-chart-with-code:hover {\n",
              "            cursor: pointer;\n",
              "            border: 1px solid #aaa;\n",
              "        }\n",
              "      </style>"
            ]
          },
          "metadata": {}
        },
        {
          "output_type": "display_data",
          "data": {
            "text/plain": [
              "<google.colab._quickchart_helpers.SectionTitle at 0x7ae4df099a80>"
            ],
            "text/html": [
              "<h4 class=\"colab-quickchart-section-title\">Values</h4>\n",
              "<style>\n",
              "  .colab-quickchart-section-title {\n",
              "      clear: both;\n",
              "  }\n",
              "</style>"
            ]
          },
          "metadata": {}
        },
        {
          "output_type": "display_data",
          "data": {
            "text/plain": [
              "from matplotlib import pyplot as plt\n",
              "all_model_results['accuracy'].plot(kind='line', figsize=(8, 4), title='accuracy')\n",
              "plt.gca().spines[['top', 'right']].set_visible(False)"
            ],
            "text/html": [
              "      <div class=\"colab-quickchart-chart-with-code\" id=\"chart-0ff77b77-7346-4078-a5a2-5822dc5dd4bb\">\n",
              "        <img style=\"width: 180px;\" src=\"data:image/png;base64,iVBORw0KGgoAAAANSUhEUgAAAu4AAAFuCAYAAADeRZ2PAAAAOXRFWHRTb2Z0d2FyZQBNYXRwbG90\n",
              "bGliIHZlcnNpb24zLjcuMSwgaHR0cHM6Ly9tYXRwbG90bGliLm9yZy/bCgiHAAAACXBIWXMAAA9h\n",
              "AAAPYQGoP6dpAAB54ElEQVR4nO3dd1wT9+MG8CeDvYeCC3AwRKYggop7YLXu1aq4Rx3VaodWq9YO\n",
              "O6yrtnXhXmhdrW1t3VoXLsSF4gAVFBSQTSDJ5/eHX/MrVawoegSe9+uVV2u4XJ7kcndPLjdkQggB\n",
              "IiIiIiIq0+RSByAiIiIiov/G4k5EREREpAdY3ImIiIiI9ACLOxERERGRHmBxJyIiIiLSAyzuRERE\n",
              "RER6gMWdiIiIiEgPsLgTEREREekBFnciIiIiIj3A4k5EREREpAdY3ImIiIiI9ACLOxFRGaXRaKDV\n",
              "aqWOQUREZQSLOxHRv/zwww/w8vKCpaUlHB0d0b9/fzx48ED391WrVsHPzw9WVlZwcHDAuHHjdH+7\n",
              "fPkyOnXqBEdHR1hZWSE4OBi3b98GALi4uGDZsmVFnksmk2HPnj0AgAMHDkAmk2Hjxo1wc3ODqakp\n",
              "UlJSsHnzZgQEBMDGxgb29vbo1KkTbt68WWQ8v/32G4KDg2FjYwM7Ozv06NEDANC/f38MGjSoyLCn\n",
              "Tp2CkZERUlJSSu9NIyKiV47FnYjoXxwdHbF161Y8fPgQJ06cwNWrVzF27FgAwLJly/D+++9j9uzZ\n",
              "SE1NxbVr19CtWzcAQHJyMkJDQ+Hl5YWrV68iLS0N33//PUxMTEr0/JGRkTh27BgyMzNRqVIlWFhY\n",
              "YPny5Xjw4AFiY2MhhMDbb7+tG3737t3o0aMHJk6ciOTkZCQmJuKdd94BALzzzjvYtGkTMjIydMMv\n",
              "XrwYXbt2ReXKlV/2rSIiotdIJoQQUocgIirLtm3bhqFDhyI1NRVeXl4YOHAg3n///SeGmz17Nlau\n",
              "XIkLFy48dTwuLi6YOnUqhg4dqrtPJpNh9+7daN26NQ4cOIAWLVogNjYW7u7uxeY5e/Ys6tevj8zM\n",
              "TFhYWKBjx45wcXHBwoULnzq8n58fhg0bhtGjRyMzMxNVq1bFzp070bx585K9EUREJClucSci+pet\n",
              "W7eiUaNGqFy5MiwtLdG/f3+kpaVBo9Hg5s2bxZbqZ/2tJGrWrFnk3wcPHkSrVq1QpUoVWFpaolmz\n",
              "ZgCg29Xlv573nXfewZIlSwAA69atQ/Xq1VnaiYj0EIs7EdE/3LlzBz179sTYsWNx69YtZGZmYs2a\n",
              "NQAAIQRcXFxw9erVpz7WxcUFcXFxxY7bwsICOTk5un8nJSU9dTi5/P8XzQUFBejYsSPCwsJw9epV\n",
              "ZGZm4uDBg7o8j5+3uEwA0LdvX8THx+P48eNYvHgxRowYUeywRERUdrG4ExH9Q3Z2NrRaLezt7WFs\n",
              "bIy4uDjMmjVL9/dx48bh66+/xr59+6DRaJCVlaUr0uHh4bhz5w4++eQTZGVlQaPR4NSpU7oDWwMD\n",
              "A7FhwwY8fPgQmZmZmDRp0n/mKSgoQF5eHmxsbGBhYYGkpCRMnTq1yDDjxo1DREQEtmzZgoKCAuTn\n",
              "52Pv3r26v5ubm6N///4YPXo0rly5ggEDBpTGW0VERK8ZizsR0T94eHhg1qxZCA8Ph4WFBQYMGIB+\n",
              "/frp/j58+HDMmjUL48ePh42NDVxdXbF9+3YAgIODAw4dOoTTp0+jZs2asLOzw9ixY5Gfnw8A+Pzz\n",
              "z2FpaYkaNWogICAAXbt2/c885ubmWLZsGT7//HOYm5ujffv26NmzZ5Fh2rZtiw0bNuCrr75CpUqV\n",
              "UL16dSxevLjIMCNHjsSZM2fQs2dP2NravuS7REREUuDBqUREFcDDhw/h6OiIvXv3onHjxlLHISKi\n",
              "F8At7kRE5ZxGo8HXX38NX19flnYiIj2mlDoAERG9OufPn0dwcDCqVauGzZs3Sx2HiIheAneVISIi\n",
              "IiLSA9xVhoiIiIhID7C4ExERERHpARZ3IiIiIiI9oJfFff78+VJHICIiIiJ6rfSyuCckJEgdgYiI\n",
              "iIjotdLL4k5EREREVNGwuBMRERER6QEWdyIiIiIiPcDiTkRERESkB1jciYiIiIj0AIs7EREREZEe\n",
              "YHEnIiIiItIDLO5ERERERHqAxZ2IiIiISA+wuBMRERER6QEWdyIiIqJyTqsVUkegUsDiTkRERFSO\n",
              "Hb3+AB2+/xtXk7OkjkIvicWdiIiIqJxKzynAhMhzuHw3E6uOxksdh14SizsRERFROSSEwIdbYnAv\n",
              "Mx+1KplhSoe6Ukeil8TiTkRERFQOrTtxC7svJcNAIcOCPv4wNVRKHYleEos7ERERUTlzNTkLn+28\n",
              "BAD4KMwDXtWsJE5EpYHFnYiIiKgcyS/U4N0NZ6FSa9HUrRIGN64pdSQqJSzuREREROXIV3/EIvZe\n",
              "FuzNDTG7pw/kcpnUkaiUsLgTERERlRN7Lydj5f/OHvNtT19UtjCWNhCVKhZ3IiIionIgJTMfH/wc\n",
              "AwAY3LgmWrhXljgRlTYWdyIiIiI9p9UKTNh0Dmk5BahbxRIftXeXOhK9AizuRERERHpu6eEb+Pva\n",
              "AxgbyPH9W34wUiqkjkSvAIs7ERERkR6LufMQ3/55BQAw/c16qFPZQuJE9KqwuBMRERHpqRyVGuM2\n",
              "RkOtFQir54g+DWpIHYleoRIX999//x3169eHn58fvLy8sGrVKgDAoEGD4ObmBl9fXzRu3BgnT54s\n",
              "dhwymQze3t7w8/ODn58fDh8+/OKvgIiIiKiCmv7LRdx8kIMqVsb4qrs3ZDKe+rE8K9G1b4UQ6Nev\n",
              "Hw4cOAAfHx/Ex8fDw8MD3bp1Q9euXbF06VIolUrs3LkTPXv2RHx8fLHjOnz4MKytrV8yPhEREVHF\n",
              "9Mu5JPx8+g5kMmBebz9YmxpKHYlesRIVd+DR1vKHDx8CADIzM2FnZwcjIyN06tRJN0xwcDASExOh\n",
              "VquhVJb4KYpQqVRQqVRF7tNoNC81TiIiIiJ9djstF1O2ngcAjGlRBw1r2UmciF6HEu0qI5PJEBkZ\n",
              "iW7dusHZ2RlNmjTBqlWrYGhY9Bve/Pnz8cYbbzyztLdq1Qq+vr6YMGECcnJyih1u1qxZsLKyKnKL\n",
              "iooqSWwiIiKickOt0WLcxrPIUqlR38ka41q5Sh2JXpMSFXe1Wo3PP/8cW7duRUJCAvbu3Yv+/fvj\n",
              "wYMHumHWrl2LTZs2YcmSJcWOJyEhAadPn8bRo0dx//59fPDBB8UOO3nyZGRkZBS5BQUFlSQ2ERER\n",
              "UbmxYN81nLn1EBZGSszv4w+lgucaqShKNKWjo6ORlJSEpk2bAgAaNGiA6tWr4+zZswCAyMhIfPrp\n",
              "p9i9ezccHByKHY+TkxMAwMzMDKNGjXrmwalGRkawtLQsclMoeG5SIiIiqniibqZh4b44AMDnXb1Q\n",
              "w9ZU4kT0OpWouNeoUQN3797F5cuXAQDXrl3D9evX4e7ujk2bNmHq1KnYs2ePrpg/TXp6OnJzcwEA\n",
              "Wq0WkZGR8Pf3f4mXQERERFT+ZeQWYvzGs9AKoHv96ujsV03qSPSalejIUQcHByxZsgS9evWCXC6H\n",
              "VqvFwoUL4eTkhNq1a8PR0RGdO3fWDb93717Y2dlh0aJFSEpKwsyZMxEbG4sRI0ZAJpNBrVajfv36\n",
              "mD9/fqm/MCIiIqLyQgiBydtikJSRDxc7U3zauZ7UkUgCMiGEkDpESU2YMAFz5syROgYRERHRa7Ex\n",
              "6hYmbT0PpVyGLe80gm8Na6kjkQR4NAMRERFRGXYtJRuf/noJAPB+O3eW9gqMxZ2IiIiojFKpNXh3\n",
              "w1nkFWrQuI4dhofWkjoSSYjFnYiIiKiM+mbXFVy6mwkbUwPM6eUHuVwmdSSSEIs7ERERURl04EoK\n",
              "Iv6+CQD4tocvHCyNJU5EUmNxJyIiIipj7mep8P7mcwCA8BBntPYs/vo4VHGwuBMRERGVIVqtwPub\n",
              "z+FBdgHcHSzw8Rt1pY5EZQSLOxEREVEZsuJoPA5evQ8jpRwL3vKHsQGvGE+PsLgTERERlREXEjPw\n",
              "9R+xAICpHerC3dFC4kRUlrC4ExEREZUBuQVqjNt4FgUaLdp4OqBfsLPUkaiMYXEnIiIiKgM+23kJ\n",
              "1+/nwMHSCF9394FMxlM/UlEs7kREREQS+/38XWyIug2ZDJjbyw+2ZoZSR6IyiMWdiIiISEJJD/Mw\n",
              "aUsMAGBks9poVMde4kRUVrG4ExEREUlEoxUYHxmNzHw1fKtbYUIbN6kjURnG4k5EREQkkR/2X0PU\n",
              "zTSYGSqw4C1/GChYzah4/HQQERERSeB0Qhrm740DAHzWxQvOdmYSJ6KyjsWdiIiI6DXLzC/EuI3R\n",
              "0GgFOvtVRVf/alJHIj3A4k5ERET0GgkhMGXbBdxJz0MNWxN83sWLp36k58LiTkRERPQabTmTiF/P\n",
              "JUEhl2F+H39YGBtIHYn0BIs7ERER0Wty80EOpu24AAB4r7Ur6jvZSJyI9AmLOxEREdFrUKDW4t0N\n",
              "Z5FboEFwLVu807yO1JFIz7C4ExEREb0G3+2+gvOJGbAyMcDc3n5QyLlfO5UMizsRERHRK/Z33AMs\n",
              "PngDAPB1dx9UsTKROBHpIxZ3IiIiolcoNVuFCZuiAQBvN3RCmJejtIFIb7G4ExEREb0iQgh8tCUG\n",
              "KVkq1Klsjk86eEodifQYizsRERHRK7L6WAL2XE6BoUKOBX38YWKokDoS6TEWdyIiIqJXIPZeJr74\n",
              "/TIAYPIbHvCsailxItJ3LO5EREREpSy/UIN3N5xFgVqLFu6VMLCRi9SRqBxgcSciIiIqZZ//dglX\n",
              "k7Nhb26Eb3v6QibjqR/p5bG4ExEREZWivy7ew9rjtwAAc3r5wt7cSOJEVF6wuBMRERGVknsZ+fhw\n",
              "SwwAYFhoTTR1qyRxIipPWNyJiIiISoFGK/BeZDQe5hbCq5olPmjnIXUkKmdKXNx///131K9fH35+\n",
              "fvDy8sKqVasAACkpKQgLC4Orqyu8vLxw6NChYsexc+dOeHh4wNXVFd26dUNmZuaLvwIiIiKiMmDx\n",
              "oes4diMVJgYKLOjjD0Mlt49S6SrRJ0oIgX79+mHlypWIjo7Gzp07MWLECGRlZWHSpEkIDg5GXFwc\n",
              "VqxYgbfffhuFhYVPjCM7OxtDhgzB9u3bERcXh6pVq+Kzzz4rtRdERERE9LpF336IOX9dBQB82qke\n",
              "alUylzgRlUcl/iook8nw8OFDAEBmZibs7OxgZGSETZs2YeTIkQCABg0aoGrVqjh48OATj//jjz/g\n",
              "7+8PD49HPx+NGjUKGzZsKPb5VCoVMjMzi9w0Gk1JYxMRERG9EtkqNd7dcBZqrUAHnyroGVhd6khU\n",
              "TilLMrBMJkNkZCS6desGMzMzpKenY+vWrcjKykJhYSEcHR11w7q4uODWrVtPjOPWrVtwdnYuMtzd\n",
              "u3ehVquhVD4ZZ9asWfj000+L3BccHFyS2ERERESvzLTtF3ArLRfVrE3wZVdvnvqRXpkSbXFXq9X4\n",
              "/PPPsXXrViQkJGDv3r3o378/1Gr1q8qHyZMnIyMjo8gtKCjolT0fERER0fPafjYRW88mQi4D5vfx\n",
              "g5WJgdSRqBwrUXGPjo5GUlISmjZtCuDRLjHVq1dHTEwMlEol7t27pxs2Pj4eTk5OT4zDyckJCQkJ\n",
              "RYarUqXKU7e2A4CRkREsLS2L3BQKRUliExEREZW6W6m5mLr9AgDg3VauCHSxlTgRlXclKu41atTA\n",
              "3bt3cfnyZQDAtWvXcP36dbi7u6Nnz55YtGgRAODkyZNITExEs2bNnhhHWFgYzpw5g9jYWADAjz/+\n",
              "iD59+rzs6yAiIiJ6bQo1Wry78SyyVWo0cLHBmBZ1pI5EFUCJ9nF3cHDAkiVL0KtXL8jlcmi1Wixc\n",
              "uBBOTk74+uuv0b9/f7i6usLQ0BBr166FgcGjn4umTZuGqlWrYuTIkbCwsMCyZcvQpUsXqNXqIqeU\n",
              "JCIiItIH8/ZcRfTth7AwVmJubz8oFTz1I716MiGEkDpESU2YMAFz5syROgYRERFVQMeup+LtZcch\n",
              "BPDD2/XRwaeK1JGoguDXQyIiIqLnlJ5TgPcioyEE0DuwBks7vVYs7kRERETPQQiBj7bE4F5mPmrZ\n",
              "m2F6J0+pI1EFw+JORERE9BzWR93CX5eSYaCQYcFb/jA1LNGhgkQvjcWdiIiI6D/EJWfhs52XAAAf\n",
              "tvOAVzUriRNRRcTiTkRERPQM+YUajN1wFvmFWoS62mNIk5pSR6IKisWdiIiI6Bm++iMWsfeyYGdm\n",
              "iO96+UIul0kdiSooFnciIiKiYuyLTcbKo/EAgNk9fVHZwljaQFShsbgTERERPUVKZj7e3xwDABjU\n",
              "2AUtPCpLnIgqOhZ3IiIion/RagUmbj6HtJwC1K1iiUntPaSORMTiTkRERPRvy/6+gcNxD2BsIMf3\n",
              "b/nBSKmQOhIRizsRERHRP52/k4Fv/7wCAJjWsR7qVLaQOBHRIyzuRERERP+To1Lj3Y1nUagRCKvn\n",
              "iLeCakgdiUiHxZ2IiIjof2b8chE3H+SgipUxvuruDZmMp36ksoPFnYiIiAjAr+eSsPn0HchkwNze\n",
              "frA2NZQ6ElERLO5ERERU4d1Oy8XH284DAMa0qIPgWnYSJyJ6Eos7ERERVWhqjRbjI6ORla+Gv5M1\n",
              "3m3lKnUkoqdicSciIqIK7ft913A6IR3mRkos6OMPAwXrEZVN/GQSERFRhRV1Mw3f74sDAHzR1Qs1\n",
              "bE0lTkRUPBZ3IiIiqpAycgsxfuNZaAXQrX41dParJnUkomdicadySwiBPy/ew+h1Z3A6IU3qOERE\n",
              "VIYIIfDxtvNIysiHs50pZnb2kjoS0X9SSh2A6FVISM3B9F8u4sCV+wCAvbHJWNw/EM3cKkmcjIiI\n",
              "yoJNp27jt/N3oZTLsKCPP8yNWImo7OMWdypX8gs1mLP7KtrMPYQDV+7DQCFD3SqWyC/UYuiqk/jj\n",
              "/F2pIxIRkcSu38/GjF8uAQAmtnWHbw1raQMRPScWdyo39l5ORpu5B7FgbxwK1Fo0qWOPXeObYsfo\n",
              "xujgXQWFGoHR68/g59N3pI5KREQSUak1eHfDWeQVatCoth1GNK0ldSSi58bfhUjv3U7Lxae/XsKe\n",
              "y8kAAEdLY3zS0RNveDvqLlW94C1/mBkpsOnUHby/+RxyVGoMaOQiYWoiIpLCt7uu4GJSJmxMDTC3\n",
              "tx/kcpnUkYieG4s76S2VWoOlh25g4f5ryC/UQimXYUiTmni3lSvM/rWvokIuw1fdfGBmpMSKI/GY\n",
              "/stFZKvUGNW8tq7cExFR+Xbw6n0s+/smAODbHr5wsDSWOBFRybC4k146dPU+pv9yETcf5AAAgmvZ\n",
              "YmZnL7g5WBT7GLlchmkdPWFhbIAFe+Pw7Z9XkJlfiElhHizvRETl3INsFSZuOgcACA9xRmtPB4kT\n",
              "EZUcizvplaSHefhs5yX8ceEeAKCShRGmdqiLTr5Vn6t8y2QyTGjjBgsjJb74/TIWH7yB7Hw1Puvs\n",
              "xZ9LiYjKKa1W4P3N5/AgWwV3Bwt8/EZdqSMRvRAWd9ILBWotIv6+iQV745BXqIFCLsOAEBe818YV\n",
              "FsYGJR7fsKa1YGakxJTt57HuxC3kFmjwbQ8fKHmZayKicmfl0XgcuHIfRko5FrzlD2MDhdSRiF4I\n",
              "izuVeUevPcC0Xy7iWko2ACDQ2QYzO3vBs6rlS4337YZOMDNSYOKmc9h2NhHZKjW+5wKdiKhcuZiU\n",
              "ga/+iAUATO1QF+6Oxe9SSVTWsbhTmZWcmY/Pf7uMX88lAQDszAwx+Y266OZfrdR2a+nsVw1mhkqM\n",
              "Wn8Guy8lY+iqU1gSHgBTQ84aRET6Lq/g0akfCzRatK7rgH7BzlJHInopJWonqampaNWqle7fubm5\n",
              "uHHjBlJSUtC+fXuoVCoAgFqtxsWLF3Hu3Dn4+Pg8MR6ZTAYvLy8oFI+2bH7//fcIDQ19mddB5Uih\n",
              "RotVR+Mxb08cslVqyGVAv2BnTGzjDivTku8W819aezpg5cAGGLr6FP6+9gD9I6KwfGADWJmU/nMR\n",
              "EdHrM3PnJVy/n4PKFkb4pocPT0RAeq9Exd3Ozg7R0dG6f8+ePRsHDx6Era0tTpw4obv/559/xqef\n",
              "fvrU0v7Y4cOHYW1tXeLAVL5F3UzDtB0XEHsvCwDgV8Man3fxglc1q1f6vI3q2GPt0IYYuDwKpxPS\n",
              "8daS41g9JAj25kav9HmJiOjV2HXhLjZE3YJMBszt7QdbM0OpIxG9tJc6Ei8iIgJDhgx57vtfhEql\n",
              "QmZmZpGbRqMplXFT2XE/S4UJm6LRa/ExxN7LgrWpAb7q5o2t7zR65aX9sfpONogcEQJ7c0NcupuJ\n",
              "XouP4W5G3mt5biIiKj1JD/Pw0ZbzAIARTWujcR17iRMRlY4XLu5Hjx5Feno6OnbsWOT+27dv4+DB\n",
              "g+jXr98zH9+qVSv4+vpiwoQJyMnJKXa4WbNmwcrKqsgtKirqRWNTGaP+324xLb87gK1nEiGTAW8F\n",
              "1cD+ic3RJ8jptZ+isW4VS2waEYKqVsa4cT8HPX46hvgHxX8+iYiobNFoBd6LjEZGXiF8q1thYls3\n",
              "qSMRlZoXLu4REREIDw+HUll0b5uVK1eiY8eOsLcv/tttQkICTp8+jaNHj+L+/fv44IMPih128uTJ\n",
              "yMjIKHILCgp60dhUhpxOSEenhUcw/ZeLyMpXw6uaJba+0wizuvnARsKfNGtVMsfmdxrBxc4UiQ/z\n",
              "0HPxMVz53647RERUtv24/xpO3EyDmaEC8/v4w4Cn+aVy5IVOnZGdnY1Nmzbh5MmTRe4XQmDFihX4\n",
              "6aefnvl4JycnAICZmRlGjRqF4cOHFzuskZERjIyK7mf8+KBW0k9pOQX46o/L2HTqDgDA0liJD8I8\n",
              "8HaQExRl5CJI1axNsGlkCMIjohB7Lwu9lxzDqkFB8K1hLXU0IiIqxumEdMzbGwcAmNnZCy72ZhIn\n",
              "IipdL/Q1NDIyEr6+vvDw8Chy/759+6BWq9GmTZtiH5ueno7c3FwAgFarRWRkJPz9/V8kBukZjVZg\n",
              "3YkEtJh9QFfaewRUx773m6N/sHOZKe2PVbYwxsbhwfCrYY2HuYXou+wETtxIlToWERE9RWZ+IcZt\n",
              "PAuNVqCzX1V0q19N6khEpe6FivuzDkodNGgQ5PKio120aBGmTZsGAIiNjUVwcDB8fX3h7e2N1NRU\n",
              "zJs370VikB6JufMQ3X48ginbLiAjrxAejhb4eWQIZvf0LdNnbrE2NcTaoQ0RUssO2So1wpdHYX9s\n",
              "itSxiIjoH4QQmLrtAu6k56G6jQk+6+LFUz9SuSQTQgipQ5TUhAkTMGfOHKlj0HN4mFuAb/+8gvVR\n",
              "tyAEYG6kxIQ2bggPcYZSj/Y7zC/UYNS6M9gXmwKlXIb5ffzRwaeK1LGIiAjAltN3MHHzOSjkMmwe\n",
              "GYL6TjZSRyJ6JXh5SHoltFqBn0/fwVe7YpGWUwAA6OJXFR+/UReVLY0lTldyxgYKLO4fgAmbzuHX\n",
              "c0kYu+EMclQ+6NWghtTRiIgqtPgHOZi24wIA4L3WriztVK6xuFOpu5iUgU+2X8CZWw8BAK6VzTGz\n",
              "sxdCattJG+wlGSjkmNfbD2aGCmw8eRsfbolBtkqNwU1qSh2NiKhCKlBr8e7Gs8gp0KBhTVu807yO\n",
              "1JGIXikWdyo1mfmFmPPXVaw+Fg+tAEwNFRjf2hWDGtcsN6fjUshlmNXNG+ZGSiz7+yZm7ryEbJUa\n",
              "Y1vW4f6URESv2ZzdVxFzJwNWJgaY29uvzJ3kgKi0sbjTSxNCYNvZRHz5eyweZKsAAB18qmBqh7qo\n",
              "YmUicbrSJ5PJMKVDXVgYG2DunquYs/sqslVqTG7vwfJORPSaHLn2AIsPXQcAfN3dG1Wty9/6hujf\n",
              "WNzppVy5l4VPdlxA1M00AECtSmaY2ckLTVzL9+WlZTIZxrV2hbmxEp/tvIQlh24gK1+Nz7t4cYsP\n",
              "EdErlpZTgPcioyEE8FaQE8K8eLIAqhhY3OmFZKvUmLf7KlYcjYdGK2BsIMfYlq4YGloTRsqKc4Gs\n",
              "IU1qwtxIgUlbz2ND1C3kqNT4rpdvudk1iIiorBFC4MOfzyElS4XalcwwraOn1JGIXhsWdyoRIQR+\n",
              "jbmLL367hOTMR7vFtKvngE86eqK6janE6aTRu4ETTA2VeC8yGr+cS0JugRoL364PY4OK8wWGiOh1\n",
              "WXM8AXsup8BQIcf3b9WHiSGXtVRxsLjTc7uWkoVpOy7i6PVHVw91tjPFjE710MK9ssTJpPemb1WY\n",
              "GSnwztoz2HM5BYNXnsTS8ECYGXEWIyIqLVfuZeHz3y4DACa194BnVUuJExG9Xvw9n/5TboEaX/0R\n",
              "i/bzD+Po9VQYKeV4r7Ub/hzflKX9H1p6OGDloCCYGSpw9Hoq+kWcQEZuodSxiIjKhfxCDcZuOIMC\n",
              "tRbN3SthUGMXqSMRvXYs7lQsIQR2XbiL1t8dxKKD11GoEWjpURm732uGca1duSvIU4TUtsO6YcGw\n",
              "MjHA2VsP0XvJMdzPUkkdi4hI733x22VcTc6GvbkRZvf05Vm8qEJicaenuvkgBwNWnMTItWeQlJGP\n",
              "atYmWBoeiOUDG8DJrmLuy/68/GpYI3JEMOzNjRB7Lwu9Fx9D4sM8qWMREemt3ZeSseZ4AgBgTi9f\n",
              "2JsbSZyISBos7lREXoEG3/11Be3mHsKhq/dhqJBjbMs62DOhGdp4OkgdT294OFpi88gQVLM2wY0H\n",
              "Oei16BhuPsiROhYRkd65l5GPD38+BwAYFloTTd0qSZyISDos7qSz51Iy2sw9iO/3XUOBRotQV3vs\n",
              "Gh+KiW3dedT+C6hpb4bNI0NQy94MiQ/z0HPRMVy+myl1LCIivaHRCkzYFI303ELUq2qJ99u5Sx2J\n",
              "SFIs7oTbabkYsvIkhq4+hTvpeahiZYyf+tbH6sFBqFXJXOp4eq2qtQkiR4SgbhVLPMhWoc+S4zh7\n",
              "K13qWEREemHJoRs4ej0VJgYKLHjLv0JdJ4ToaVjcK7D8Qg3m74lD6zkHsTc2BUq5DCOb1caeCc3Q\n",
              "3rsKD/wpJZUsjLBxWDDqO1kjI68Q/ZadwLH/nVKTiIieLvr2Q3z31xUAwKed6qE2NyQRsbhXVAeu\n",
              "pCBs3iHM3XMVKrUWIbXssGt8KCa19+C5x18BK1MDrBnSEI3r2CGnQIMBK6Kw93Ky1LGIiMqkbJUa\n",
              "4zaehVor0MG7CnoGVpc6ElGZwOJewSQ+zMPINacxcMVJxKfmorKFERa85Y/1wxqiTmULqeOVa2ZG\n",
              "SkQMaIDWdR1QoNZixJrT+PVcktSxiIjKnGk7LiAhNRfVrE3wZTdv/gJM9D/ctFpBFKi1WPb3DXy/\n",
              "9xryCjVQyGUY2MgF41u7wsLYQOp4FYaxgQI/9auP9zefw47oJLy78SxyVGr0CXKSOhoRUZmwIzoR\n",
              "W88kQi4D5vXxg5UJ11FEj7G4VwBHrj3AJzsu4Mb9R6cjDHKxxcwu9eDhyEtFS8FAIcecXn4wM1Ji\n",
              "/YlbmLT1PLJVagwNrSV1NCIiSd1KzcWUbRcAAGNbuqKBi63EiYjKFhb3cuxeRj4+++0Sfou5CwCw\n",
              "NzfEx2/URVf/avzZUWIKuQxfdPGChZESiw/dwOe/XX60T2crV04bIqqQCjVajIs8i2yVGoHONhjb\n",
              "so7UkYjKHBb3cqhQo8XKI/GYt+cqcgo0kMuA/sHOmNDWnT85liEymQyT2nvAwliJ2X9dxbw9ccjK\n",
              "V2Nqh7os70RU4czfE4eztx7CwliJeX38oFTwMDyif2NxL2eO30jFtB0XcDU5GwDg72SNzzp7waua\n",
              "lcTJ6GlkMhnGtHSFmZESn/56CRF/30SOSo0vunpDIWd5J6KK4fiNVPxw4BoAYFY3b1S3MZU4EVHZ\n",
              "xOJeTqRk5WPW77HYdjYRAGBjaoBJ7T3QM6AG5CyAZd6gxjVhZqTEpC0x2HjyNrJVaszp5QdDJbc4\n",
              "EVH59jC3AO9FRkMIoFdgdXT0qSp1JKIyi8Vdz6k1Wqw5noA5f11FlkoNmQx4K8gJH7Zzh7WpodTx\n",
              "qAR6BdaAuZES4zaexc6Yu8gt0ODHvvVhbMArBRJR+SSEwEdbYnA3Ix+17M0w/c16UkciKtNY3PXY\n",
              "6YQ0TN1+EZfvZgIAfKpb4bPOXvCtYS1tMHphb3hXgYmhAiPXnMa+2BQMXBGFZQMawJwXxSKicmhD\n",
              "1G38eTEZBgoZFrzlzwsAEv0H/g6vhx5kq/DB5nPo/tMxXL6bCSsTA3zexQvbRjVmaS8HWrhXxurB\n",
              "QTA3UuL4jTT0XXYCD3MLpI5FRFSq4pKzMHPnRQDAh+08eCwW0XNgcdcjGq3AmuMJaDn7ADafvgPg\n",
              "0f6A+yY2Q79gZx7MWI40rGWH9cMawtrUAOduP0TvxceRkpUvdSwiolKRX6jB2A1nkV+oRairPYY0\n",
              "qSl1JCK9wOKuJ87dfoiuPx7BJ9svIDNfDc8qltjyTiN808MXduZGUsejV8CnujUih4egsoURriRn\n",
              "odeiY7iTnit1LCKil/b1rljE3suCnZkhvuvly5MoED0nFvcyLj2nAJO3nkeXH48g5k4GLIyUmPGm\n",
              "J34Z0xgBzjZSx6NXzN3RAptHhqC6jQniU3PRa9Ex3LifLXUsIqIXtj82BSuOxAMAZvf0RWULY2kD\n",
              "EekRFvcySqsV2Bh1Cy2/O4ANUbcgBNDNvxr2vt8MAxvX5IUpKhBnOzNsHhmC2pXMkJSRj16Lj+FS\n",
              "UqbUsYiISiwlKx/vbz4HABjYyAUtPCpLnIhIv5So/aWmpsLPz093c3Nzg1KpRFpaGpo3b46aNWvq\n",
              "/jZ37txix7Nz5054eHjA1dUV3bp1Q2YmS8g/XUjMQLefjmLS1vNIzy2Em4M5IocHY05vP26ZqKCq\n",
              "WJkgckQIPKtY4kF2AfosOYbTCelSxyIiem5arcDETeeQmlOAulUsMam9h9SRiPROic67ZGdnh+jo\n",
              "aN2/Z8+ejYMHD8LW1hYAMHfuXHTp0uWZ48jOzsaQIUNw8OBBeHh4YMyYMfjss8/w7bffljh8eZOR\n",
              "V4jv/rqCtccToBWAmaEC77Vxw4BGLjDgFvYKz97cCBuGB2PwypM4nZCO/hEnsDQ8EI3r2EsdjYjo\n",
              "P0X8fROH4x7A2ECOBX38eI0KohfwUm0wIiICQ4YMKdFj/vjjD/j7+8PD49E37VGjRmHDhg3FDq9S\n",
              "qZCZmVnkptFoXiZ2mSOEwJbTd9DquwNYfexRaX/Ttyr2vd8cQ0NrsbSTjpWJAdYMCUKoqz1yCzQY\n",
              "tPIk9lxKljoWEdEzXUjMwDd/xgIAPunoCVcHC4kTEemnF26ER48eRXp6Ojp27Ki7b9KkSfD29kbv\n",
              "3r1x48aNpz7u1q1bcHZ21v3bxcUFd+/ehVqtfurws2bNgpWVVZFbVFTUi8Yuc2LvZaLX4mOYuPkc\n",
              "HmQXoHYlM6wb2hDfv+UPB0vuFkNPMjVUYtmAQLT1dECBWosRa09jR3Si1LGIiJ4qR6XGuxvOolAj\n",
              "0K6eA94OcpI6EpHeeuHiHhERgfDwcCiVj/a2WbNmDWJjYxETE4PQ0NAihf5lTJ48GRkZGUVuQUFB\n",
              "pTJuKWXlF2Lmr5fQYcHfOBmfDhMDBT4K88Af45py1wf6T0ZKBX7sWx9d/atBoxUYHxmN9SduSR2L\n",
              "iOgJn/56ETce5MDR0hhfdfOBTMZTPxK9qBe6tnB2djY2bdqEkydP6u6rUaMGAEAmk2HMmDF4//33\n",
              "kZqaCjs7uyKPdXJywu7du3X/jo+PR5UqVXRfAP7NyMgIRkZFz1OuUOjvfnFCCPxyLgmf/3YZ97NU\n",
              "AID2Xo6Y2tET1axNJE5H+kSpkOO7nr4wM1Jg7fFb+HjbeWSrCjG8aW2poxERAQB2xiRh06k7kMmA\n",
              "ub39YGNmKHUkIr32QlvcIyMj4evrq9tPXa1WIzn5//ez3bJlCxwcHJ4o7QAQFhaGM2fOIDb20b5u\n",
              "P/74I/r06fMiMfROXHIW3l56AuM2RuN+lgoudqZYOagBfuoXwNJOL0Qul+Gzzl4Y2exRWf/y91jM\n",
              "+esKhBASJyOiiu5Oei4mbz0PABjdvA5Caj/ZCYioZF5oi3tERASGDRum+7dKpUKHDh2gUqkgl8th\n",
              "b2+PX375Rff3adOmoWrVqhg5ciQsLCywbNkydOnSBWq1Gl5eXli1atXLv5IyLEelxoK9cYj4+ybU\n",
              "WgEjpRxjWtTBsKa1eFQ9vTSZTIZJ7T1gYazEt39ewYJ915CZr8a0jp68GiERSUKt0WL8xmhk5avh\n",
              "V8Ma41q7Sh2JqFyQCT3cNDdhwgTMmTNH6hj/SQiBPy7cw2c7L+FuRj4AoHVdB0x/0xM1bE0lTkfl\n",
              "0epj8Zi24yIAoGdAdXzV3QcKlncies3m7bmKeXviYG6kxO/vhsLJjus8otLwQlvc6b/duJ+N6b9c\n",
              "xOG4BwCAGrYmmPFmPbSq6yBxMirPwkNcYGqoxIc/n8Pm03eQW6DB3N5+MFTylKJE9HqcjE/Dgr1x\n",
              "AIAvunqxtBOVIhb3UpZXoMEP+69hyaEbKNBoYaiQY2Tz2hjVvDZ3i6HXokdAdZgbKTB2w1n8dv4u\n",
              "cgrU+KlvAEwM+fkjolcrI68Q4zdGQyuAbv7V0NmvmtSRiMoVboYrJUII/HXxHlrPOYiF+6+hQKNF\n",
              "M7dK+Ou9ppjQxo2lnV6rMK8qWDagAYwN5Dhw5T4GrIhCVn6h1LGIqBwTQuDjbeeR+DAPznammNnF\n",
              "S+pIROUOi3spSEjNweCVJzF8zWkkPsxDVStjLOoXgJWDGsDF3kzqeFRBNXOrhDVDGsLCSImom2no\n",
              "u+wE0nMKpI5FROXU5lN38FvMXSjlMszv4w9zI/6oT1TaWNxfQn6hBvP2XEWbuYew/8p9GChkGNW8\n",
              "NvZMbIYwL0deZIIk18DFFhuGB8PG1AAxdzLQe8kxpGTmSx2LiMqZ6/87rgsAJrR1g18Na2kDEZVT\n",
              "LO4vaH9sCtrOPYR5e+JQoNaicR07/DGuKT4M84CpIbcyUNnhVc0Km0aEwMHSCFeTs9Fz8THcTsuV\n",
              "OhYRlRMqtQbjNp5FXqEGjWrbYSQvAkf0yrC4l9Cd9FwMX30Kg1aexK20XDhYGmHh2/5YO6Qh6lQ2\n",
              "lzoe0VO5Oljg55GNUMPWBAmpuei56BiupWRLHYuIyoHZf17BhcRM2JgaYE4vP14/gugVYnF/Tir1\n",
              "o7PFtJ5zEH9dSoZCLsOw0JrYO7E5OvpU5W4xVObVsDXF5hGNUKeyOe5l5qP34mO4kJghdSwi0mOH\n",
              "rt7H0sM3AQBfd/eBo5WxxImIyjcW9+dwOO4+2s87jG//vIL8Qi2Catri93dDMaWDJw++Ib3iaGWM\n",
              "TSNC4FXNEqk5BXhr6XGcik+TOhYR6aEH2SpM2HQOANA/2Blt6zlKnIio/GNxf4a7GXkYve4M+kdE\n",
              "4caDHNibG2Fub19EDg+Gu6OF1PGIXoitmSHWDwtGAxcbZOWr0T8iCofj7ksdi4j0iBACH2w+hwfZ\n",
              "Krg5mGNKh7pSRyKqEFjcn+HItVT8dv4u5DJgYCMX7Hu/Gbr6V+duMaT3LI0NsHpwQzR1q4S8Qg2G\n",
              "rDyFPy/ekzoWEemJlUfjsf/KfRgq5Vjwlj+vVUL0mrC4P0M3/2oY2MgFv45tghmd6sHS2EDqSESl\n",
              "xsRQgaXhAWjv5YgCjRaj1p3BtrN3pI5FRGXcpaRMzPo9FgAwtUNdeDhaSpyIqOJgcX8GuVyGGZ3q\n",
              "oV5VK6mjEL0SRkoFvn/LH93rV4dGK/Be5DmsOZ4gdSwiKqPyCjR4d+NZFGi0aF23MvoHO0sdiahC\n",
              "YXEnquCUCjm+7eGDASGPVsCfbL+Anw5clzgVEZVFn/12CddSslHZwgjf9PDlrqNErxmLOxHpfl0a\n",
              "3eLRhVO+3hWLb/+MhRBC4mREVFbsunAX60/cgkwGzO3tB1szQ6kjEVU4LO5EBACQyWT4oJ0HJrX3\n",
              "AAD8sP86ZvxyEVotyztRRXc3Iw8fbTkPABjetBYa17GXOBFRxcTiTkRFjGxWG5918YJMBqw6loAP\n",
              "fo6BWqOVOhYRSUSjFRi/MRoZeYXwqW6FiW3cpY5EVGGxuBPRE/oHO2NOL18o5DJsOXMHY9afhUqt\n",
              "kToWEb1mQgjM/PUiTtxMg6mhAgv6+MNQyepAJBXOfUT0VF39q+PHvvVhqJBj18V7GLb6NPIKWN6J\n",
              "KpKF+65h1bEEyGTANz184GJvJnUkogqNxZ2IitWuniMiBgbCxECBQ1fvI3z5CWTmF0odi4heg/Un\n",
              "buG73VcBANM7eqKjT1WJExERizsRPVOoayWsHRoEC2MlTsan4+2lx5GWUyB1LCJ6hXZduIup2x8d\n",
              "jDq2ZR0MbFxT4kREBLC4E9FzCHC2xYZhwbA1M8SFxEz0WnwM9zLypY5FRK/AseupeHdDNLQCeCvI\n",
              "CRPauEkdiYj+h8WdiJ6LVzUrbBoRAkdLY1xLyUbPxUdxKzVX6lhEVIouJmVg+OpTKNBo0a6eAz7v\n",
              "4sWLLBGVISzuRPTc6lQ2x+aRIXC2M8XttDz0XHwUcclZUsciolKQkJqDActPIkulRsOatpjfxx8K\n",
              "OUs7UVnC4k5EJVLD1hSbR4TAzcEcyZkq9Fp8DOfvZEgdi4heQkpWPvpHROFBtgp1q1hi6YBAGBso\n",
              "pI5FRP/C4k5EJVbZ0hiRw0PgU90K6bmFeHvpcUTdTJM6FhG9gMz8QgxcfhK30nLhZGuKVYMbwNLY\n",
              "QOpYRPQULO5E9EJszAyxbmhDBNW0RZZKjfDlJ3Dw6n2pYxFRCeQXajB89SlcupsJe3NDrBkShMoW\n",
              "xlLHIqJisLgT0QuzMDbAqkFBaOZWCfmFWgxddRK7LtyVOhYRPQeNVmD8xmgcv5EGcyMlVg4KgrMd\n",
              "L7BEVJaxuBPRSzExVGBpeCA6eFdBoUZg1Loz2HL6jtSxiOgZhBCYuv0Cdl28B0OFHEvCA+BVzUrq\n",
              "WET0H1jcieilGSrlWPCWP3oGVIdWABM3n8PqY/FSxyKiYszdfRUbom5BJgPm9/FDo9r2UkcioudQ\n",
              "ouKempoKPz8/3c3NzQ1KpRJpaWkYNGgQ3Nzc4Ovri8aNG+PkyZPFjkcmk8Hb21s3nsOHD7/0CyEi\n",
              "aSnkMnzd3QcDG7kAAKbtuIgf9l+TNhQRPWHV0Xgs2Pdo3vy8ixfae1eROBERPS9lSQa2s7NDdHS0\n",
              "7t+zZ8/GwYMHYWtri65du2Lp0qVQKpXYuXMnevbsifj4+GLHdfjwYVhbW79gbCIqi+RyGaa/6QlL\n",
              "YyUW7LuGb/+8gqx8NT4Kc+dFXIjKgF/PJWHGrxcBABPauKFvQ2eJExFRSZSouP9bREQEZs2aBQDo\n",
              "1KmT7v7g4GAkJiZCrVZDqXypp4BKpYJKpSpyn0ajealxEtGrI5PJMKGtO8yNlfjy91gsOngd2apC\n",
              "zOzkBTkv5kIkmcNx9zFhUzSEAMJDnDG2ZR2pIxFRCb3wPu5Hjx5Feno6Onbs+MTf5s+fjzfeeOOZ\n",
              "pb1Vq1bw9fXFhAkTkJOTU+xws2bNgpWVVZFbVFTUi8YmotdkeNPa+LKrN2QyYO3xW5i4+RzUGq3U\n",
              "sYgqpJg7DzFizWkUagQ6+FTB9Dfr8VcwIj30wsU9IiIC4eHhT5TztWvXYtOmTViyZEmxj01ISMDp\n",
              "06dx9OhR3L9/Hx988EGxw06ePBkZGRlFbkFBQS8am4heo7cbOmFebz8o5DJsO5uIUevOQKXmL2ZE\n",
              "r9ON+9kYuOIkcgs0aFLHHnN6+ULBX7+I9NILFffs7Gxs2rQJgwcPLnJ/ZGQkPv30U+zevRsODg7F\n",
              "Pt7JyQkAYGZmhlGjRj3z4FQjIyNYWloWuSkUvAwzkb7o7FcNi/oFwFApx1+XkjF01SnkFqiljkVU\n",
              "ISRn5qN/RBTScgrgU90Ki/oHwEjJdSiRvnqh4h4ZGQlfX194eHjo7tu0aROmTp2KPXv26Ir506Sn\n",
              "pyM3NxcAoNVqERkZCX9//xeJQUR6oo2nA1YMbABTQwUOxz1A/4goZOQVSh2LqFzLyC1EeEQUEh/m\n",
              "oaa9GVYMbABzo5c77oyIpPVCxT0iIgJDhgwpcl/fvn2Rn5+Pzp07607zmJqaCgBYtGgRpk2bBgCI\n",
              "jY1FcHAwfH194e3tjdTUVMybN+/lXgURlXmN69hjzZCGsDRW4nRCOt5achwPslX//UAiKrG8Ag2G\n",
              "rDqJK8lZqGxhhNWDg2BnbiR1LCJ6STIhhJA6RElNmDABc+bMkToGEb2AS0mZCF9+Ag+yC1CrkhnW\n",
              "DW2IKlYmUsciKjfUGi1GrDmNvbEpsDRWYtPIEHg4Wkodi4hKAa+cSkSvlWdVS0SOCEEVK2PcuJ+D\n",
              "Hj8dQ0Jq8WeWIqLnJ4TA5K3nsTc2BUZKOSIGNmBpJypHWNyJ6LWrXckcm0eGwMXOFIkP89Bz0TFc\n",
              "Tc6SOhaR3vt61xVsPn0HCrkMC9+ujwYutlJHIqJSxOJORJKobmOKTSND4O5ggZQsFXotPoaYOw+l\n",
              "jkWkt5YdvoFFB68DAGZ19UYbz+LP7kZE+onFnYgkU9nCGJEjguFbwxoPcwvx9tITOHEjVepYRHpn\n",
              "65k7+Py3ywCAj8I80KtBDYkTEdGrwOJORJKyNjXEuqENEVzLFtkqNcKXR2H/lRSpYxHpjf1XUvDh\n",
              "zzEAgCFNamJks1oSJyKiV4XFnYgkZ26kxMpBQWjpURkqtRbDV5/CbzF3pY5FVOadTkjHO2tPQ60V\n",
              "6OpfDVPeqAuZjFdFJSqvWNyJqEwwNlBgUb8AdPSpgkKNwNgNZ7Dp1G2pYxGVWXHJWRi88iTyC7Vo\n",
              "7l4J3/TwgVzO0k5UnrG4E1GZYaiUY34ff/RpUANaAXz4cwxWHLkpdSyiMifpYR7Clz+6ArG/kzV+\n",
              "7FsfBgqu0onKO87lRFSmKOQyzOrmjSFNagIAPv31EhbsjYMeXiuO6JVIzylA/4gTuJuRjzqVzbF8\n",
              "QAOYGiqljkVErwGLOxGVOTKZDFM71MX41q4AgDm7r2LSlvNQqTUSJyOSVm6BGoNWnsT1+zmoYmWM\n",
              "1YODYGNmKHUsInpNWNyJqEySyWQY39oN09/0hFwGRJ66jb5LT+B+lkrqaESSKNRo8c7aM4i+/RDW\n",
              "pgZYPTgIVa1NpI5FRK8RizsRlWmDGtfE8oENYGGsxKmEdHRe+DcuJmVIHYvotdJqBT7YfA4Hr96H\n",
              "iYECywc2gKuDhdSxiOg1Y3EnojKvuXtlbB/dGDXtzZCUkY8ePx3D7+d5ukiqGIQQ+OL3y9genQSl\n",
              "XIYf+9VHfScbqWMRkQRY3IlIL9SuZI7toxoj1NUeeYUajFp3BnN3X4VWy4NWqXxbdPAGIv5+dHal\n",
              "b3v6oIV7ZYkTEZFUWNyJSG9YmRpgxcAGujPOzN8bh1HrziBHpZY4GdGrsenkbXy9KxYAMLVDXXT1\n",
              "ry5xIiKSEos7EekVpUKOTzp64pvuPjBQyLDr4j10/+ko7qTnSh2NqFTtvpSMSVtjAAAjm9XG0NBa\n",
              "EiciIqmxuBORXurVoAY2DAuGvbkhYu9lofPCIzgZnyZ1LKJSEXUzDWPWn4FWAD0DquOjMHepIxFR\n",
              "GcDiTkR6K9DFFjvGNIFnFUuk5hTg7aXHsTHqltSxiF7K5buZGLLqJFRqLVrXdcCsbt6QyWRSxyKi\n",
              "MoDFnYj0WjVrE/z8Tgg6eFdBoUZg0tbzmPHLRag1WqmjEZXY7bRcDFgehax8NRq42GDh2/5QKriq\n",
              "JqJHuDQgIr1naqjEwrf9MaGNGwBg5dF4DFxxEg9zCyRORvT8HmSrEL48CilZKrg7WGBZeAMYGyik\n",
              "jkVEZQiLOxGVCzKZDO+2csWifvVhYqDA39ceoMsPR3AtJUvqaET/KVulxqAVJ3HzQQ6qWZtg9ZAg\n",
              "WJkaSB2LiMoYFnciKlfCvKpgyzuNUM3aBPGpuejyw1Hsj02ROhZRsVRqDUasOYXziRmwNTPEmiFB\n",
              "cLA0ljoWEZVBLO5EVO54VrXEL2MaI8jFFtkqNQavOonFB69DCF6sicoWjVZgwqZzOHItFWaGCqwc\n",
              "1AC1KplLHYuIyigWdyIql+zMjbB2aEO8FVQDQgCz/ojFxE3nkF+okToaEQBACIFPf72I32LuwkAh\n",
              "w+L+gfCpbi11LCIqw1jciajcMlTK8WVXb3zaqR4Uchm2nk1E7yXHkZyZL3U0IizYew2rjyVAJgPm\n",
              "9vZDE1d7qSMRURnH4k5E5ZpMJsOARi5YPTgIViYGOHf7ITot/Bvnbj+UOhpVYGuPJ2DunqsAgE87\n",
              "1UNHn6oSJyIifcDiTkQVQuM69tgxujHqVDZHcqYKvRYfw47oRKljUQX0x/m7+GTHBQDAuy3rIDzE\n",
              "RdpARKQ3WNyJqMJwsTfDtlGN0NKjMlRqLcZtjMY3u2Kh1fKgVXo9jl5/gHEboyEE8FaQE97737UH\n",
              "iIieB4s7EVUoFsYGWBoeiJHNagMAfjxwHcPXnEJWfqHEyai8u5CYgeGrT6NAo0VYPUd83sULMplM\n",
              "6lhEpEdY3ImowlHIZZjU3gPzevvBUCnHnssp6P7TUSSk5kgdjcqp+Ac5GLgiCtkqNYJr2WJeHz8o\n",
              "5CztRFQyLO5EVGF18a+GTSNCUNnCCFeTs9H5hyM4eu2B1LGonEnJzEf48ig8yC6AZxVLLA0PhLGB\n",
              "QupYRKSHSlTcU1NT4efnp7u5ublBqVQiLS0NKSkpCAsLg6urK7y8vHDo0KFix7Nz5054eHjA1dUV\n",
              "3bp1Q2Zm5ku/ECKiF+FXwxq/jGkC3+pWeJhbiP7Lo7DmWLzUsaicyMwvxIAVJ3ErLRfOdqZYNTgI\n",
              "FsYGUsciIj1VouJuZ2eH6Oho3W348OFo3749bG1tMWnSJAQHByMuLg4rVqzA22+/jcLCJ/cZzc7O\n",
              "xpAhQ7B9+3bExcWhatWq+Oyzz0rtBRERlZSjlTEiR4Sgs19VaLQCn+y4iCnbzqNArZU6Gumx/EIN\n",
              "hq06hct3M2FvboQ1gxuikoWR1LGISI+91K4yERERGDJkCABg06ZNGDlyJACgQYMGqFq1Kg4ePPjE\n",
              "Y/744w/4+/vDw8MDADBq1Chs2LCh2OdQqVTIzMwsctNoeOVDIipdxgYKzOvth4/CPCCTAetO3EL/\n",
              "iBNIyymQOhrpIY1WYNzGszhxMw0WRkqsGtwATnamUsciIj33wsX96NGjSE9PR8eOHZGamorCwkI4\n",
              "Ojrq/u7i4oJbt2498bhbt27B2dm5yHB3796FWq1+6vPMmjULVlZWRW5RUVEvGpuIqFgymQzvNK+N\n",
              "ZeGBMDdS4sTNNHRa+Dcu3+XufPT8hBCYuv08/ryYDEOlHEvCA1GvqpXUsYioHHjh4h4REYHw8HAo\n",
              "lcrSzPOEyZMnIyMjo8gtKCjolT4nEVVsreo6YOuoRnCyNcWd9Dx0/+ko/rx4T+pYpCe+++sqNkTd\n",
              "hlwGLOjjh5DadlJHIqJy4oWKe3Z2NjZt2oTBgwcDeLTvu1KpxL17/79ii4+Ph5OT0xOPdXJyQkJC\n",
              "QpHhqlSpUuwXACMjI1haWha5KRQ8Gp+IXi03BwvsGN0YjWrbIbdAgxFrTuP7vXEQghdrouKtPHIT\n",
              "C/dfAwB80dUbYV5VJE5EROXJCxX3yMhI+Pr66vZTB4CePXti0aJFAICTJ08iMTERzZo1e+KxYWFh\n",
              "OHPmDGJjYwEAP/74I/r06fMiMYiIXikbM0OsGhyEASGPdu/7bvdVjN1wFnkFPM6GnvTLuSR8uvMS\n",
              "AGBiGze8FfTkxisiopfxQvu5REREYNiwYUXu+/rrr9G/f3+4urrC0NAQa9euhYHBo1NeTZs2DVWr\n",
              "VsXIkSNhYWGBZcuWoUuXLlCr1fDy8sKqVate/pUQEb0CBgo5Pu3sBXdHS0zbcQE7Y+4iPjUHS/oH\n",
              "oqq1idTxqIw4dPU+Jm6KhhDAgBBnjGlZR+pIRFQOyYQe/u47YcIEzJkzR+oYRFTBnLiRinfWnUFa\n",
              "TgHszY2wuH8AApxtpI5FEou+/RBvLz2O3AIN3vStivm9/SDnVVGJ6BXglVOJiJ5Tw1p22DG6MTwc\n",
              "LfAgW4W3lhzH5lO3pY5FErp+PxuDVkQht0CDUFd7fNfTl6WdiF4ZFnciohKoYWuKLe80Qrt6DijQ\n",
              "aPHBzzH4fOclaLR69+MlvaR7GfkIj4hCem4hfKpb4ad+ATBUcrVKRK8OlzBERCVkZqTET30D8O7/\n",
              "9mNe9vdNDF55Ehl5T14tmsqnh7kFCF9+AokP81DL3gwrBjaAudGrPT0yERGLOxHRC5DLZZjQ1h0L\n",
              "3/aHsYEcB6/eR9cfj+DG/Wypo9ErllegwZBVp3A1ORsOlkZYPSQIduZGUsciogqAxZ2I6CV09KmK\n",
              "n0c2QhUrY9y4n4POPxzBwav3pY5Fr0ihRosx68/gdEI6LI2VWD24IarbmEodi4gqCBZ3IqKX5FXN\n",
              "Cr+MaYIAZxtk5asxaEUUlh2+wYs1lTNCCEzach57Y1NgpJQjYmADuDtaSB2LiCoQFnciolJQycII\n",
              "64c1RM+A6tAK4PPfLuPDn2OgUvNiTeXFV3/EYsuZO1DIZfjh7fpo4GIrdSQiqmBY3ImISomRUoFv\n",
              "evhgaoe6kMuAzafv4O2lJ3A/SyV1NHpJSw/dwOJDNwAAX3XzRmtPB4kTEVFFxOJORFSKZDIZhobW\n",
              "wopBQbAwVuJ0Qjo6LfwbFxIzpI5GL2jL6Tv44vfLAIBJ7T3QM7CGxImIqKJicSciegWauVXCjtGN\n",
              "UcveDHcz8tFj0VH8FnNX6lhUQvtik/HhlhgAwLDQmhjRtJbEiYioImNxJyJ6RWpVMse20Y3R1K0S\n",
              "8gu1GL3+DOb8dQVaXqxJL5xOSMOodWeg0Qp086+Gye3rQibjVVGJSDos7kREr5CViQFWDGyAoU1q\n",
              "AgAW7LuGd9adRo5KLXEyeparyVkYvPIU8gu1aOFeCV/38IFcztJORNJicSciesUUchmmdvTEtz18\n",
              "YKiQ48+Lyej+01HcTsuVOho9ReLDPIRHRCEjrxD+Ttb4oW99GCi4uiQi6XFJRET0mvQMrIENwxvC\n",
              "3twIsfey0PmHIzhxI1XqWPQPaTkF6B9xAvcy8+Fa2RwrBjaAqaFS6lhERABY3ImIXqsAZ1v8MqYx\n",
              "vKpZIi2nAH2XncCGqFtSxyIAOSo1Bq08iRv3c1DVyhirhwTB2tRQ6lhERDos7kREr1lVaxNsHtEI\n",
              "HXyqQK0VmLz1PKbvuIBCjVbqaBVWgVqLd9adwbnbD2FtaoDVQ4JQxcpE6lhEREWwuBMRScDEUIGF\n",
              "b/nj/bZuAIBVxxIwYHkUHuYWSJys4tFqBT74+RwOXb0PEwMFVgxsgDqVLaSORUT0BBZ3IiKJyGQy\n",
              "jGnpisX9A2BqqMDR66no/MMRxCVnSR2twhBC4LPfLmFHdBKUchl+6lcf/k42UsciInoqFnciIom1\n",
              "q+eIraMaobqNCRJSc9H1x6PYezlZ6lgVwo8HrmPFkXgAwOyevmjuXlnaQEREz8DiTkRUBng4WmLH\n",
              "6MYIqmmLbJUaQ1efwk8HrkMIXqzpVdkYdQvf/nkFAPBJR0908a8mcSIiomdjcSciKiPszI2wdkhD\n",
              "vN3QCUIAX++KxXuR0cgv1Egdrdz58+I9fLztPABgVPPaGPK/C2QREZVlLO5ERGWIoVKOL7t647PO\n",
              "9aCQy7A9Ogm9Fx9Dcma+1NHKjRM3UjF2w1loBdA7sAY+aOcudSQioufC4k5EVAb1D3HBmsFBsDY1\n",
              "wLk7GXjz+78Rffuh1LH03uW7mRi6+hQK1Fq08XTAF129IJPJpI5FRPRcWNyJiMqoRnXssWN0Y7hW\n",
              "NkdKlgq9Fh/D9rOJUsfSW7fTchG+PApZ+WoEudji+7f8oVRwNUhE+oNLLCKiMszZzgxbRzVC67qV\n",
              "UaDWYnxkNL76IxYaLQ9aLYkH2Sr0jziB+1kqeDhaYOmAQBgbKKSORURUIizuRERlnIWxARb3D8So\n",
              "5rUBAIsOXsew1aeQlV8ocTL9kJVfiIErohCfmovqNiZYPTgIViYGUsciIioxFnciIj2gkMvwYZgH\n",
              "5vfxg5FSjn2xKej641HEP8iROlqZplJrMGLNaVxIzISdmSHWDGmIypbGUsciInohLO5ERHqks181\n",
              "bBoRAgdLI1xLyUbnH47gyLUHUscqkzRagfcio3H0eirMDBVYOSgINe3NpI5FRPTCWNyJiPSMbw1r\n",
              "/DqmCXxrWCMjrxDhy6Ow6mg8L9b0D0IITP/lAn4/fw+GCjmWhAfCu7qV1LGIiF4KizsRkR6qbGmM\n",
              "yOHB6OpfDRqtwPRfLuLjbRdQoNZKHa1MmL83DmuP34JMBszt7YfGdeyljkRE9NJKXNxVKhXGjBkD\n",
              "V1dXeHt7o1+/fkhNTYWfn5/u5ubmBqVSibS0tCceHx8fD4VCUWT469evl8qLISKqSIwNFJjTyxeT\n",
              "23tAJgM2RN1Cv2UnkJqtkjqapNYcT8C8PXEAgJmd6qGDTxWJExERlQ5lSR8wadIkyGQyXL16FTKZ\n",
              "DPfu3YOdnR2io6N1w8yePRsHDx6Era3tU8dhYWFRZHgiInoxMpkMI5rVhpuDBd7dcBZR8WnotPAI\n",
              "lg0IRN0qllLHe+1+i7mLaTsuAADGtXJF/xAXaQMREZWiEm1xz8nJQUREBL744gvdleYcHR2fGC4i\n",
              "IgJDhgwplYAqlQqZmZlFbhqNplTGTURUXrTwqIxtoxvBxc4UiQ/z0P2no9h14Z7UsV6ro9ce4L3I\n",
              "aAgB9G3ohPGtXaWORERUqkpU3K9fvw5bW1t8+eWXCAwMRGhoKPbu3VtkmKNHjyI9PR0dO3Ysdjw5\n",
              "OTlo0KAB6tevj5kzZz6ziM+aNQtWVlZFblFRUSWJTURUIdSpbIHtoxujSR175BZoMHLtaSzYG1ch\n",
              "Dlo9fycDw1afQoFGize8HTGzs5duAxMRUXlRouKuVquRkJAAT09PnDp1CgsWLEDv3r2RnJysGyYi\n",
              "IgLh4eFQKp++F06VKlWQmJiIkydPYs+ePTh8+DC+++67Yp9z8uTJyMjIKHILCgoqSWwiogrD2tQQ\n",
              "Kwc1wMBGLgCAObuvYsz6s8gtUEsb7BW6+SAHA1dEIadAg5Badpjb2w8KOUs7EZU/JSruTk5OkMvl\n",
              "6Nu3LwDA398fNWvWxPnz5wEA2dnZ2LRpEwYPHlzsOIyMjFC5cmUAgK2tLQYPHozDhw8/c3hLS8si\n",
              "N4WCl6kmIiqOUiHHjE71MKubNwwUMvx2/i56LjqGxId5UkcrdSmZ+egfcQKpOQWoV9USS8IDYKTk\n",
              "OoKIyqcSFXd7e3u0atUKf/75JwDg5s2buHnzJurWrQsAiIyMhK+vLzw8PIodR0pKCgoLH12mW6VS\n",
              "YevWrfD393/R/EREVIy3gpywbmgw7MwMcTEpE50X/o3TCU+e7UtfPT6H/Z30PDjbmWLloCBYGBtI\n",
              "HYuI6JUp8ekgFy1ahG+//Rbe3t7o0qULFi9ejGrVqgEo/qDUadOmYdGiRQCAv//+G/7+/vD19UX9\n",
              "+vXh6OiIKVOmvOTLICKipwmqaYsdYxrDw9ECD7IL8NaSE9h06rbUsV5afqEGw1afQuy9LFSyMMKa\n",
              "wQ1RycJI6lhERK+UTOjhUUsTJkzAnDlzpI5BRKQ3clRqTNx0DrsuPjrTzJAmNTG5vQeUCv27Dp9a\n",
              "o8U7685g96VkWBgpETkiBJ5VK96pL4mo4tG/JTYREZWYmZESP/atj3GtHp0iMeLvmxi08iQycgsl\n",
              "TlYyQghM2XYBuy8lw1Apx7IBgSztRFRhsLgTEVUQcrkM77Vxw49968PEQIHDcQ/Q9ccjuH4/W+po\n",
              "z232X1cQeeo25DLg+7f80bCWndSRiIheGxZ3IqIK5g3vKvj5nRBUtTLGjQc56PLDERy8el/qWP9p\n",
              "+d838cP+6wCAL7t6o129Jy8ASERUnrG4ExFVQPWqWmHHmCYIdLZBVr4ag1ZEYdnhG2X2Yk07ohMx\n",
              "c+clAMAH7dzRJ8hJ4kRERK8fizsRUQVVycII64Y1RK/A6tAK4PPfLuODn2OgUhd/NWspHLx6HxM3\n",
              "nQMADGzkglHNa0uciIhIGizuREQVmJFSga+7+2BaR0/IZcDPp+/grSXHkZKVL3U0AMDZW+l4Z+1p\n",
              "qLUCnXyrYlpHT8hkvCoqEVVMLO5ERBWcTCbD4CY1sXJQECyNlThz6yE6LzyCC4kZkua6lpKNwStP\n",
              "IrdAg1BXe8zu6Qu5nKWdiCouFnciIgIANHWrhO2jG6NWJTPczchHj0VH8eu5JEmy3M3IQ3jECaTn\n",
              "FsK3hjUW9QuAoZKrLCKq2LgUJCIinVqVzLF9dGM0d6+E/EItxm44i+/+ugKt9vUdtPowtwDhEVFI\n",
              "yshHrUpmWDGwAcyMlK/t+YmIyioWdyIiKsLS2AARAxpgeNNaAIDv913DyLWnkaNSv/LnzivQYPDK\n",
              "k4hLyYajpTFWDw6CrZnhK39eIiJ9wOJORERPUMhl+PiNupjd0xeGCjn+upSM7j8dxe203Ff2nIUa\n",
              "LUatO40ztx7CysQAq4cEobqN6St7PiIifcPiTkRExeoRUB0bRwSjkoURYu9lodPCv3H8RmqpP49W\n",
              "K/DRlhjsv3IfxgZyLB8YCDcHi1J/HiIifcbiTkREz1TfyQa/jGkM72pWSM8tRL9lJ7DuREKpPsdX\n",
              "u2Kx9UwiFHIZfuxbHwHOtqU6fiKi8oDFnYiI/lMVKxNsGhGCN32rQq0VmLLtAqbtuIBCjfalx734\n",
              "4HUsOXQDAPB1dx+09HB46XESEZVHLO5ERPRcTAwVWNDHDx+0cwcArD6WgPCIKKTnFLzwOH8+fQez\n",
              "/ogFAHz8hgd6BFQvlaxEROURizsRET03mUyG0S3qYEn/AJgZKnDsRio6/3AEV5OzSjyuvZeT8dGW\n",
              "GADA8Ka1MLxp7dKOS0RUrrC4ExFRibWt54itoxqjhq0JbqXlousPR7DnUvJzP/5UfBpGrz8DjVag\n",
              "W/1qmBTm8QrTEhGVDyzuRET0QtwdLbBjdBME17JFToEGw9acwo8HrkGIZ1+s6cq9LAxeeRL5hVq0\n",
              "9KiMr7v7QC6XvabURET6i8WdiIhemK2ZIdYMaYh+wU4QAvhm1xWMj4xGfqHmqcPfSc9F+PITyMxX\n",
              "I8DZBj+8XR8GCq6KiIieB5eWRET0UgwUcnzexRufdfGCUi7Djugk9Fp8DPcy8osMl5qtQnhEFJIz\n",
              "VXBzMEfEgECYGCokSk1EpH9Y3ImIqFT0D3bG6iFBsDE1QMydDHRa+DfO3koHAOSo1Bi88iRuPMhB\n",
              "VStjrBocBGtTQ4kTExHpFxZ3IiIqNY1q22PH6CZwd7BASpYKvZccx6ZTtzFy7Wmcu5MBG1MDrB7S\n",
              "EFWsTKSOSkSkd1jciYioVDnZmWLLqEZoXdcBBWotPvw5BofjHsDUUIEVg4JQp7K51BGJiPQSizsR\n",
              "EZU6cyMllvQPwJgWdQAASrkMi/oFwK+GtbTBiIj0mFLqAEREVD7J5TK8384dLTwqw9hAjnpVraSO\n",
              "RESk11jciYjolQpwtpE6AhFRucBdZYiIiIiI9ACLOxERERGRHmBxJyIiIiLSAyzuRERERER6oMTF\n",
              "XaVSYcyYMXB1dYW3tzf69esHAHBxcYG7uzv8/Pzg5+eHyMjIYscREREBV1dX1K5dG8OGDUNhYeGL\n",
              "vwIiIiIiogqgxGeVmTRpEmQyGa5evQqZTIZ79+7p/hYZGQk/P79nPv7mzZv45JNPcObMGTg4OKBz\n",
              "585YsmQJRo8eXeLwREREREQVRYmKe05ODiIiInDnzh3IZDIAgKOjY4me8Oeff0anTp10jxs5ciS+\n",
              "/PLLYou7SqWCSqUqcp9GoynRcxIRERER6bsS7Spz/fp12Nra4ssvv0RgYCBCQ0Oxd+9e3d/Dw8Ph\n",
              "7e2NIUOG4P79+08dx61bt+Ds7Kz7t4uLC27dulXsc86aNQtWVlZFblFRUSWJTURERESk90pU3NVq\n",
              "NRISEuDp6YlTp05hwYIF6N27N5KTk3Ho0CHExMTgzJkzsLe3x4ABA0ol4OTJk5GRkVHkFhQUVCrj\n",
              "JiIiIiLSFyXaVcbJyQlyuRx9+/YFAPj7+6NmzZo4f/48WrduDQAwMDDA+PHj4ebmVuw4rl+/rvt3\n",
              "fHw8nJycin1OIyMjGBkZFblPoVCUJDYRERERkd4r0RZ3e3t7tGrVCn/++SeARwea3rx5E3Xr1sXD\n",
              "hw91w23YsAH+/v5PHUf37t3xyy+/4N69exBCYNGiRejTp8+LvwIiIiIiogpAJoQQJXnAjRs3MGTI\n",
              "EDx48AByuRzTpk2Dv78/unfvDo1GAyEEatWqhfnz58PFxQUAMHToUHTq1AmdOnUCACxduhRfffUV\n",
              "AKB58+ZYtGgRDAwMnjtDt27ddON+1TQaDaKiohAUFMQt/XqK01C/cfrpP05D/cdpqN+kmn7Ozs4Y\n",
              "N27ca3u+iqDExb2iyczMhJWVFTIyMmBpaSl1HHoBnIb6jdNP/3Ea6j9OQ/3G6Vd+8MqpRERERER6\n",
              "gMWdiIiIiEgPsLgTEREREekBFvf/YGRkhOnTpz9xSkrSH5yG+o3TT/9xGuo/TkP9xulXfvDgVCIi\n",
              "IiIiPcAt7kREREREeoDFnYiIiIhID7C4ExERERHpARZ3IiIiIiI9wOJORERERKQH9LK479y5E82b\n",
              "N//P4VauXIkuXbo8cxitVouxY8eidu3aqFOnDhYuXPif45XJZHj48OHzhX0JM2bMwPjx4wEAv/zy\n",
              "C957771Sfe2//fYbAgICYGRkpHue12nGjBnIz89/Lc8VHR2NjRs3PtewBw4cgJ+f30s/Z2lOqwUL\n",
              "FsDLywve3t7w8fHB2rVrdX9r3rw5tm/f/nJhAQQGBuLAgQNP3L99+3a0aNECK1euBABMmzYN69at\n",
              "e+7xDh06FPv373/pfP/0/vvvY8aMGc8cZt68ebh3795zje9F38PSnMY//PADvL294efnBy8vLyxY\n",
              "sOCpw72Kz+epU6dQr1691zY/FudFXltpToPHUlJS4ODgUOzw/8zp4uKC6Ojo5xrvY/Hx8bC2tn5m\n",
              "9gsXLsDFxQUA8NVXX6FmzZpPHe55X//T/HMd8yrEx8dj0aJFzz2stbX1U/9WmtN4xowZqFSpEvz8\n",
              "/ODn54e+ffs+V75/GzhwIObNm/dCj/2nHj166Jat//b+++/DxcUF27dvx6JFi/Dtt9++9PP924ED\n",
              "B7Br167nGrYk81BZ8CLz5tPY29sjPj7+qX/753rzVazrnkb5yp+hjFu7di0uXbqEq1evIiMjA/7+\n",
              "/mjRogXq1asndbQiOnXqhE6dOmHnzp2lNk5XV1csX74cmzdvRnZ2dqmN93l9+umnGD9+PIyNjV/5\n",
              "c0VHR2P79u3o06fPK3+uV6FevXo4cuQIrKyscPv2bfj7+yMkJAS1a9d+6XGr1WoolcUvCrZv3460\n",
              "tDTdv2fOnFmixy9btuylM76IefPmoXnz5nB0dJTk+UuqX79+GD16NAAgMzMTXl5eCA0Nhb+//yt/\n",
              "7sDAQFy6dAn5+fmvZX581f7rM/lfRowYgY4dOyI1NbUUU70YtVqNSZMmYdKkSVJHeSqtVgsAkMuf\n",
              "3A74uLiPHDnydcd6pr59+5ZK6X6dXuY9fNb8cODAATx8+BBhYWEvPH565HWt6175FneZTIYvvvgC\n",
              "DRs21H1znDVrFgIDA+Hq6lpkC9+aNWvg4+MDHx8fdOjQAYmJiQCAwsJCjBo1Cq6urggKCnriG82a\n",
              "NWvQsGFD1K9fH02bNsW5c+eeO19kZCSGDRsGhUIBW1tb9O7dGxs2bPjPx82ePRv+/v5wc3MrsvWx\n",
              "b9++CAwMhI+PD2QyGSZNmoSGDRvCyckJfn5+cHR0hKmpKSwtLXWvffbs2ahVqxZMTExgYWGBli1b\n",
              "6l67RqPBqFGj4ODgABsbG+zfvx8PHz6El5cXRo0aBScnJ5iYmMDDw0P32v/880988cUXOHDgwFPf\n",
              "r8fc3Nzg6+tbohXcsWPH0KRJE/j6+sLHxwc7duwA8OQ3239+C/38889Rt25d3RaOhIQE3UIoNDQU\n",
              "fn5+SElJQUpKCrp16wZvb294eXlh8eLFuvG5uLhg6tSpaNSoEWrUqIFFixZhxYoVCAkJgYuLyzO3\n",
              "pqekpGDatGnYv38//Pz8dM/9559/on79+rppNW7cODRs2BB9+vRBRkYGZs2aBX9/f5iammLQoEG6\n",
              "x7i5ucHExASmpqYIDg5GYmIiDhw4gHr16sHLywtGRkYwMTF54nP078/pqVOnMGnSJMycORP79+9H\n",
              "r169kJ6eDuDR1pzhw4ejdevWqFmzJtatW4crV66gefPmaNasGQDg9u3bunHv3bsXDRo0QJ06dTBx\n",
              "4kQIIeDi4oJRo0bBxsYGxsbGcHR0xNSpU3XvZ79+/WBqagp7e3sMGDAAt27dwjvvvAM/Pz+0b98e\n",
              "QUFBcHJywvr163HlyhVMmzYNy5YtQ1hYGBwdHTFkyBA4OjqiadOmqF+/vu7z6+XlhV9//VU335qa\n",
              "msLNzQ0TJ06Eo6MjRowYgVatWsHNzQ3dunVDQUEBgEfz+aRJkxAUFAQ/P78i78fdu3fRrl07eHp6\n",
              "onXr1rhz584zP6czZ85EUlISevfuDT8/P0RHR0MmkyEgIACmpqYwNDREnz59dMuiqKgoXLhwAQCw\n",
              "ZcsWODk5wcPDA15eXrp518fHB0OHDsWIESPg6uoKS0tLzJgxA2fPnkXt2rUxcuTI/1wWnTx5Ei1b\n",
              "tkRgYCD8/f2xefNmAI8KjrOzMz755BPUr18fvr6+yM3NxezZs3Vb4B/nAx6tiMPDw1GrVi2Ym5vD\n",
              "zc1NNz+uWbMGRkZGRZYJgYGB2LNnD0aNGgU7OzuYmJhg8ODBOHXqFBISEtCpUyfd/Ojp6QlLS0u8\n",
              "//77sLa2hpGREVxcXHTz444dO2BgYAAHBwdUq1YNCoUCX3zxxXPNj/9cH9jY2MDZ2RlVqlSBubk5\n",
              "6tSpg+joaKjVat2yzdjYGK6urujQoQMSEhLQrl07BAQEwNbWFhYWFggMDNQtE+vVq4chQ4bAyckJ\n",
              "devWfaFpYG1tjY4dO+LIkSPYuXMn0tLS8N577z1zGiQlJaF9+/bw8fFBzZo18fnnn2PNmjWoV68e\n",
              "jI2NERoaqssQEhKCDh06oHnz5sjOzsaMGTN0v3bs2bMHM2bMgIuLC5RKJYYPH467d+9i4cKFGD9+\n",
              "vO7COYWFhZDJZLC3t4e5uTn69u1b5Jelo0ePws/PD97e3hg8eDB8fX2xc+dODB06FF5eXvD19cXg\n",
              "wYN1w9+9exdvvvkmPD090bJlS92X9PPnz6NJkyaoX78+PD098fnnn+seM2PGDHTv3h3t2rWDl5cX\n",
              "7t69+9Rp3KZNG1y6dAlVqlSBtbU1XF1dsXjxYjRq1Ag+Pj6oVasW6tSpAx8fHwwePFj3JSAnJwdu\n",
              "bm6wsrJCgwYNsGHDBt3n2N/fH2PHjkXDhg3h5eUFpVKJESNGICAgAB9++CGSk5Of+tn7p9OnTyMo\n",
              "KAj169dHWFgYEhISdK+rV69eePPNN+Hm5oaOHTviwoULkMlksLW1hY2NTZF1fkxMDDw9PWFsbAwb\n",
              "GxuEhobi0qVLyMrKQq9evWBhYQETExPY2tpi8uTJAIDY2Fg0atQI9erVQ5cuXZCZmQkAuHz5Mpo3\n",
              "bw4LCwsYGxvDw8NDt5z7+++/4ezsDGtra4wcORIrV65E69atERISAlNTU5iamqJu3br49ddfAQDT\n",
              "p0+HiYkJHBwcUL16dZibmz/1fYiOjsaiRYuwbt06+Pn56TbKFNfF/ikpKQkNGjTA8uXLdY952rLv\n",
              "cda33noL3t7eCAwMxI0bN545fbKysjBs2DAEBQXBx8cHw4cP160nmjdvjokTJ6Jp06ZwcnLCJ598\n",
              "gt9//x1NmjSBi4sL5syZU2Rc69atQ0BAAOrUqVPkF4u4uDh06NABDRo0gI+PT5G9LX755RfUrVsX\n",
              "Pj4++PDDD4uM7/H85eXlhUGDBkGtVuv+9s9fbgcOHFjsui4rKwu9e/eGh4cHQkNDMWLECAwcOPCZ\n",
              "70kR4hUDIObNmyeEEGLPnj3CzMxMrFixQgghxKZNm0RgYKAQQojz588LBwcHcefOHSGEEJ9//rkI\n",
              "CwsTQgixcOFC0bJlS6FSqYRKpRLNmzcXzZo1E0II8ffff4v27duL/Px8IYQQhw4dEp6enkIIIVas\n",
              "WCE6d+78zHxeXl7i6NGjun//8MMPon///v/5mqZOnSqEEOL69evCxsZG3Lx5UwghREpKSpHhGjVq\n",
              "JIQQYuTIkUKpVOpe+/Lly0VgYKBYt26d6Natm+61r169Wri5uYmwsDAxffp00bx5c9GyZUuxdOlS\n",
              "8eabb4rmzZsLX19foVAoxOLFi0X79u3FggULRNu2bcWhQ4eEq6urCA4OFj/++KPo3LmziIuLE46O\n",
              "jrr352mmT58uxo0b98zXLIQQqamponLlyuLQoUNCCCE0Go1ITU0VQgjh7Owszp49qxs2ICBA7N+/\n",
              "X6SlpQkrKyuRm5srhBAiJydH5OXl6d6f9PR03WN69eolJk2aJIQQIjk5WVSvXl0cO3ZMN/7x48cL\n",
              "IYSIi4sTxsbG4rPPPhNCCBEVFSXs7e2fmf3fn4Xk5GRha2srYmJidFkcHByEVqsVs2fPFnK5XHz3\n",
              "3Xeifv36YvTo0SIwMFBcv35d+Pj4iMqVK4s7d+6IuLg4YW5uLtq2bSv2798vZDKZCAwMFCqVSnz/\n",
              "/ffCxsbmmZ/TypUri5kzZ+qyzZw5U4waNUoIIcSAAQNEcHCwyMvLEyqVStSuXVt06dJFFBQUiF9/\n",
              "/VXI5XIRFRUlhBCiWbNmomXLlqKgoEDk5OSIgIAAsW7dOuHs7CyqVKki9u/fL+7fvy9q1KghgoKC\n",
              "xKZNm4Szs7MwNTUVf/31lxBCiIEDBwoAYv/+/UIIIapWrSpatGghhBCiU6dOQqFQ6D677dq1EzKZ\n",
              "TBw4cEBMnz5dODs7i6tXrwqtVit69+4tPvjgA+Hg4CDmzp0rWrduLZo2bSo2b94sWrduLRwcHERQ\n",
              "UJDIyckRarVaNGrUSKxfv14IIcQXX3whZs6cqZtG/3w/evTooZvn7ty5I+zt7cX06dOfOc3//ZkE\n",
              "IOrXry80Go3uPRw5cqQQQghPT09Rp04d8d133wl/f3/dNB42bJjo3r27CAsLE1qtVoSEhIg6deoI\n",
              "lUolQkNDhb29vWjatKnIzc0Vjo6OIiQkpNhl0RtvvCH8/PxEUlKSEELopsmdO3fEzZs3BQDxwQcf\n",
              "CE9PT6FUKoWhoaHYt2+fEEKIb775RvTo0UMIIcT+/fsFALF161ZRuXJlMWPGDOHu7i7UarX4/fff\n",
              "Rfv27YWTk5M4e/asLkNAQIB49913RWhoqLCyshIPHz4UzZs3F02aNBF5eXm6caanp+uyNGrUSEya\n",
              "NEn88ccfolatWqJ69erit99+E7a2tqJq1api/PjxYvny5QKAMDIyeq758fH6YOXKlcLd3V23PkhL\n",
              "SxMbN24U7u7uQqFQiHXr1gkHBwcxa9Ys0bZtW9364MGDB7r1wbBhw8Rnn32mWybKZDLx/fffP3N9\n",
              "8DzToE6dOiI3N1cMGjRIKBSKZ06DPXv2CGdnZxEWFibc3d1FSkqKMDMzEy1atBD5+fmiUaNGYvbs\n",
              "2cLT01OcOXNGVKpUSbRo0UJcuXJFABDu7u6iWbNm4tixY8LKykq4u7uLmJgYAUCEhIQIZ2dnIYQQ\n",
              "48aNE4aGhkKIR+tDAOKrr74SKpVKBAUFCblcLgoLC4VKpRLVq1fXZd63b58AIMLCwsQ777wjNBqN\n",
              "EOL/11OP598HDx4IIYTo3bu3+PLLL4UQQmRmZurex9zcXOHn56dbHk+fPl1UqVJF3Lt3r9hpLITQ\n",
              "LUsfLzvWr18vDAwMxK5du8T58+eFra2tsLe3F1lZWWLixIlCqVSK9PR04erqKmrVqiVUKpVITk4W\n",
              "5ubmIiQkRAghxM6dO4WxsbG4fv26bppVr15dCCHEhAkThJmZ2VM/e49169ZNmJqaCh8fH9GiRQsx\n",
              "adIk8cYbb+heV82aNUVaWprQarWiadOmomHDhgKA+Pjjj4Wvr69YtmyZsLGxEd27dxdubm7CxsZG\n",
              "nD17VnTs2FH07NlT1K1bVwwdOlS0adNGfPnll0Kr1YohQ4aIGTNmCCGECAwMFMuWLRNCCBETEyMM\n",
              "DQ3FsmXLhKurqwgKCtIt52JiYoS9vb1wdnYWXbp0EZ988okYPXq0cHFxEVOmTBGWlpbi9OnTQqvV\n",
              "io8++ki89dZbwsHBQWzbtk3Uq1dPNGnSRLRr106Eh4frPkdP8+/1/7O62ON1VUxMjPD09BR//vmn\n",
              "EOK/e5ilpaW4ceOGEEKIjz76SAwfPvyZ02jYsGFi1apVQgihe/+++eYbIcSj9V337t2FWq0WaWlp\n",
              "wtLSUowePVpotVpx584dYWZmpusVzs7Oon///kKr1erm9SNHjgi1Wi0CAgLE5cuXhRCPeom3t7eI\n",
              "iorSdYOLFy8KIYRYvHixACBu3rypm792794thBDizz//LLLebNasmdi2bZsQ4tE6vLh13fvvvy8G\n",
              "DBggtFqtyMzMFF5eXmLAgAHPfE/+6bXs4967d28Aj7bC5uTk6HZXCAoKQlxcHABg//79CAsLQ7Vq\n",
              "1QAAo0aNwr59+6DRaLB3716Eh4fD0NAQhoaGRbYW7NixA+fOnUPDhg3h5+eHsWPHIi0tDXl5ea/0\n",
              "NQ0dOhQAUKtWLTRt2hSHDh0CAKxfvx6BgYHw8vICAF2Obt26Qa1W4+zZs9ixYwcaN26MuLg4bN++\n",
              "HQcOHEBBQQE6dOiAb775BgqFAvv27YNWq8Xt27cRHh4OpVIJuVyue+116tTBtWvXcO7cOSxcuBAH\n",
              "DhzA2LFjkZycjLi4OMyaNQv79+9Hjx49IJfLcevWrZd+zceOHYO7uztCQ0MBPPpp1NbW9pmPsbS0\n",
              "hKurK/r164fFixcjLS2t2J/i9+zZgxEjRgAAKleujG7dumHPnj26vz/+HNWpUwfGxsbo0aMHgEef\n",
              "q7S0tBIdd3DixAl4e3vD29tbd19ubi4SExPh7u4OrVaL+fPn45tvvsEHH3yAuLg47Nq1C9evX0dh\n",
              "YSE6dOiAHj16wNzcHPv374dGo4GZmRnGjBkDQ0NDhIaGwsDAQDfup31O09PTsXr1at2vARs2bMDN\n",
              "mzd1j+ncuTOMjY1haGgIb29vtGvXDrGxsXjnnXfg4+NTZCtIeHg4DAwMYGpqin79+mHPnj0QQiA5\n",
              "ORnjx49H69atkZeXh7i4OFy5cgWFhYWwtLREmzZtAAAXL16EgYEBhg4dCh8fHyQlJem28NnY2KBW\n",
              "rVpF3j87Ozvdlv+wsDBkZGSgffv2OHjwICIiIpCWlobffvsN/fr1g0wmg1KpxIABAwAAXbt2hamp\n",
              "KRQKBYKCgnD9+nUAj3bJWbt2re6XmX++H3v37tXNc9WqVdNtIS6pKVOmQC6XIzQ0FFqtVjd/WlhY\n",
              "4ObNm9i7dy/69euH9u3bo1q1ati+fTsuXbqEP//8E35+fjh//jyqV68OQ0NDyOVy9OrVCzKZDCYm\n",
              "JjA3N0dsbGyxy6K0tDTcuHED7du3h5+fH1q3bg0AuHLlCgDA2NgY33zzDS5evIgdO3ZAq9WiatWq\n",
              "AIouK4FHv5gYGhrC3d0d06dPx71795CYmIj9+/fj3LlzuHv3Lnr37q3LoNVqcebMGQwaNAiurq4Y\n",
              "PHgwXFxcoFarnzo/GhsbIzY2FiNGjEBISAgSEhLQrVs3rF+/Hj4+PjAwMEDv3r0xYMAAGBoawsjI\n",
              "6Lnnx969e2Pnzp0YM2aMbn1gY2OD4OBg3LlzB3Xq1EFqairCwsLQvn17XL9+Xbc++O677zBlyhRc\n",
              "uXIFu3btwoULF3TLxFq1auHWrVvPXB88axoIISCXy7F27VqYmJjotny3aNGi2GnQqlUrANBNg7y8\n",
              "PJiZmSEmJgYNGzZEYmIiZs6cibS0NMyfPx+Ojo6690ypVOq2wgYHB8PQ0BAhISGwsLCAgYEBZs2a\n",
              "9dT3b+/evQCgG8+YMWMgk8lw7949xMbGFsncokUL1K5dG8eOHcP777+v252lUqVKuvGFhYXBzs4O\n",
              "wKNfBB7Pj3l5eRg6dCi8vb0RHByMhISEIr+qvvHGG3BwcCh2GgPQLUsfr/NtbW2hVqvRrl077N+/\n",
              "H2+++SaqVq2K6Oho9O/fH2q1Go0aNYKlpSWmTZsGQ0NDnDp1Cmq1GjExMfDz88OgQYNQWFiItm3b\n",
              "4o033oBMJoNarUZeXh5q166NnJycp2Z6rLCwEJUqVYJMJsPt27fx7bff4tq1a7q/t23bFjY2NpDJ\n",
              "ZKhfv75u3/rhw4fD398fWVlZaNq0KZKTkxEQEAAfHx/4+flhyJAhePDgAZKSkrB161bExsZixowZ\n",
              "cHR0xK5du5CYmIjMzExER0frtq56e3ujSZMmuHfvHvLz8xEXF6dbznl7e+uWc71794ZcLodSqdT9\n",
              "Qh0SEgKtVov27dtjw4YN+PXXX5GWlobt27ejZ8+eUCgU6NevH4YNG/bM9+PfntXFgEfrik6dOmH9\n",
              "+vVo27YtgP/uYSEhIbpjNP75GSvO9u3b8e2338LPzw/+/v44fPhwkWnUo0cPKBQK3bqpY8eOkMlk\n",
              "qFatGipVqlRkf/QhQ4bofqF63CmuXLmCixcvok+fPvDz80OjRo2QlZWFS5cu4fjx4/Dx8YGnp6fu\n",
              "8YaGhgCgm78eLzfatm37xLrxn4pb1+3duxeDBg2CTCaDhYWFbn55Xq9lH/fHKwaFQvHEv//5M8M/\n",
              "yWSyYsf3z78JITBgwAB8+eWXL5TNyckJCQkJCAkJAfDo51InJ6cSj0cmk+Hvv//GggULcOzYMVSu\n",
              "XBkymQyFhYUAoBt/48aNsXXrVkRFRUGtVkMIgTZt2sDY2Fh3gMrDhw+LXSA+fu3Gxsa61/7222+j\n",
              "Y8eOiI6Oxg8//IAjR46gbdu22L59e6kctPg8lEqlbsYGoDvITaFQ4Pjx4zh69CgOHDiA4OBgbNiw\n",
              "QVf+n+Xfn4F/FgyFQqH7t0wm0y28X8bj53v8OfXx8cHOnTsxYcIE3bR6vPvE06bV48c9/v9/vh9P\n",
              "+5w2aNAAX3zxBZKSkp46rf79elNTU9GxY0csX74cX3/99TNf7z/fu+PHj8PY2Bjjx4+HnZ0dpk6d\n",
              "ip9++umJ+cje3h7Lli1D/fr1YWdn98zjKR4vyB7n7NOnD7766ivcu3cPp06dwi+//FLk9f8z079f\n",
              "1+PXIYTA999/r1sZPMuzlg/P8jj342n1eDexx5+hq1evFjk4UgiB1atXo3Hjxjhz5gx69uyJzp07\n",
              "6/7+zy9nMpkMjRo1eub7Vq9ePRw9evSJ++Pj43VflADodhPZuXMn3N3dn7ms/Gf+x5+zTZs2Yf36\n",
              "9QgICAAAeHl5wczMDHK5XDc/zp8/H2fOnMHhw4efGN8/szz+LJfW/Ph4uMcl8p/rA41G89TPh0wm\n",
              "g1arxf79+xEaGooePXogIyMD+/bt0+UyNzd/rvVBcdMgJiYGQgjdSjQjIwMFBQVo1aoV9u7d+8xp\n",
              "YGxsrHvdMpkM7dq1w7p166BWq1GnTh1s27YN7dq1Q1BQUJHH/fs9ffzvxyv7Z3ne9/u/5pXi5seP\n",
              "P/4Y9vb2OHv2LJRKJbp161bk4OXidr/45zj/vc5/2n7wj/M9/m/jxo3x+++/F1kuVK9eHdWqVcOB\n",
              "AwfwwQcfwMDAAF9++SXi4+Ph5+en21XnaeP/NyMjI3z88ccYPnw4AKBdu3a6/3/a+1Hc+/M0j1+D\n",
              "EAJ79uyBhYUFdu/ejZ9//rnY3fuep+v8O4NWqy2y3DU2Nsbs2bMRExNTJJ+5ufkLLyuLy1e1alWo\n",
              "VCrs27cPvr6+AP67h5XkPXw8vi1btsDNze25xlfSaSSEgK2t7VMPXP3ll1+eGP5ZnvX3581V0mlU\n",
              "Zs4q06JFC+zatQtJSUkAgEWLFqFVq1ZQKBRo3bo11q5di8LCQhQUFGDFihW6x3Xq1Alr167VbVHW\n",
              "arU4derUcz9vz549sXTpUmg0GqSlpSEyMvK5vv08zhAfH4/Dhw8jNDQU6enpsLCwgJ2dnW5fpsce\n",
              "fwPs1asXvv/+e90+Xl26dMG5c+fwxx9/ICkpCYWFhZg2bRpatWoFuVyOGjVqYO3atVCr1dBqtU99\n",
              "7Y8XWo+30O3Zs6fI/s9RUVHP/X48S6NGjRAXF6db0Wu1Wt3+kHXq1MGJEyd0z/d4K2JWVhaSk5MR\n",
              "GhqKTz75BE2aNMHZs2cBPNrKmZGRoRt/69atsXTpUgDA/fv3sXXrVt0W4ZdlaWlZ5LmCg4Nx/vz5\n",
              "IvusVqlSRbeVAQC2bt2KpKQk3T5u7dq1w40bN7Bz507d53TKlCm6z6m5ubnuc1pYWFhky8/TPqcN\n",
              "GjTA3LlzoVKpADza4n/x4sWn5s/MzMTcuXOxZMmSp74nj583Ly8P69evR+vWrSGTyeDg4ICvvvoK\n",
              "aWlp2LZtG3x8fHDnzh0YGBhAo9Hojn94vJ9qfn4+LC0t4ePjo9viV1hY+J/7JKanp+u2qFy/fh3p\n",
              "6ekICgrC+vXrIYSAWq3G6tWrnzmOLl26YO7cucjNzX3i/WjdurVuX8q7d+8+sXB9mn9Pc+DRfphC\n",
              "CN20+eeXBKVSieXLl2P16tW6adylSxeMHDkSLVu2hEKhQKNGjbBkyRIUFhZCq9Vi3759usdXrVoV\n",
              "x44dK3ZZZGtri5s3bxb5FSk6Olq3rPjnF520tDTk5+fDx8fnqa8tPj4eGo0GcXFx+Oyzz+Dg4ICq\n",
              "VauiefPmWLt2LapXr44TJ05Aq9Vi1apVuHLlCgICArBy5UrcuXMHDRs2RHp6OqysrHTzo1wuL3Z+\n",
              "BB7ND3379kVMTIxug8TatWufWNY9j06dOiEiIkL374cPHxZ5/Y/XBykpKQAerQ/c3NxQqVIltG/f\n",
              "HqtWrcKKFSuKXSa+yDSwtLSEpaUl4uPjER8fj4kTJ8LY2Fi3hftp0+Dx/LN7927d/sTW1tbYvXs3\n",
              "bt26pdv/OiwsDF27dsUbb7yhm1fVajW++uorAI+WmQUFBTh27JjuRAFLlix56vM+3tr3tPWhu7s7\n",
              "CgsLcfDgQQDAwYMHce3aNTRq1AizZ8/W7UN+//794ifO/6Snp6N69epQKpW4cuUKdu/e/Z+P+TcL\n",
              "C4si/358MP3u3bvRokUL/Prrr0hMTISfnx/WrVsHpVKJpUuXwsPDAx999BEyMzMRGBiIW7du6Y53\n",
              "6dSpE1asWKHbAiuEKNE6PzQ0FIsWLUJaWhri4uIQHR39n1+SgP9f56elpeHw4cNwcHDA2bNnERMT\n",
              "g3PnzmHFihWoVKkSqlWrhm7duuHjjz+GnZ0dwsPDMWXKFBw9ehSWlpbw9/fXLQsvXryIv//+W3fs\n",
              "m5ubm245d+HChf9czv1zuZucnKxb7m7ZsgUajQZCCN34ivPv5eSzuhjw6BfY3bt3Y/v27bp94l+2\n",
              "h/1bly5dimycSk9PL7LFvSQeb2R7vA5s1aoV3N3dYWlpWWTeuXbtGtLS0hASEoKYmBjExsYCAJYv\n",
              "X65bxnl4eECtVuvm+z179vznrwdP07JlS6xatQpCCGRnZ2PTpk0lenyZKe5eXl749ttvERYWBh8f\n",
              "Hxw+fFi30hg2bBhcXV3h6emJJk2aFNkiFhoaim+++QZdu3aFr68v6tWr99yn/QOA/v37w8PDA66u\n",
              "rmjQoAEmTJhQZPeJ4mg0Gvj7+6Nt27ZYsGABXFxcEBYWBnd39yK7kzz2uOw+/llmypQpAB4dzPrO\n",
              "O+/AyMgItWvX1n1Df/zavby84OrqiilTpuDw4cNPfe3jxo1DUlKS7swj69evx8qVK7F//37UrVu3\n",
              "2KPn9+7di+rVq2POnDmIiIhA9erVn7mgsLGxwbZt2zBp0iT4+Pigfv36OHLkCIBHB6D+8MMP8PX1\n",
              "xfLly3Vn5cnIyNAdcOrj44PCwkLdLhMTJ05EmzZtdD/9LViwAJcvX4a3tzdatGiBKVOmoGHDhv85\n",
              "LZ5Hq1atoFKp4OPjg5EjR6JSpUpYt24dwsPDdeVo5cqVRb75GhgYYP369dBoNFCpVHBxccGmTZtg\n",
              "bW2N2rVrw9jYGNu3b9dNKzs7O93n9PGuK4897XNqbGyMBg0a4LPPPsP+/fsRHBxc7Kmrzp07h7y8\n",
              "PHz00Ufw8/PDiRMnigxbt25dNG7cGN7e3ggNDdX9NN2tWzd8//33qFKlClQqFWbNmqU7U8bXX3+N\n",
              "9957D97e3hBCwMHBAaNGjYKPjw+ys7OxatUqeHl5ITExEcbGxpg+fXqxR83Pnz8fPXr0wNdff420\n",
              "tDQ4OTmhe/fucHFxQVRUFCZPnozatWsX2VL/bx999BEaNGiAhg0bwsfHp8j7MX/+fBw/flz33rZs\n",
              "2fLZExzAu+++i2HDhukOTgUelXNvb2/dz9+9evUq8pjQ0FBs3boVMpkMTZs2xbFjx/DgwQPcuHED\n",
              "Pj4+WLduHezs7ODp6Yno6Ogip+izt7dHr169il0WGRgY4LfffsOXX34JX19feHp6YtKkSboyVVBQ\n",
              "AE9PT/j5+WHYsGFFdmX6t3r16mHLli0wNTXF119/DY1Gg4CAAGi1WnzzzTe4d+8eJkyYAFNTU8yZ\n",
              "Mwf16tVDx44dUaNGDbi7u8Pa2lq3hfnx/FipUiW0adMGb7zxBrRarW5+fDwPTpkyBe3bt8eyZcuQ\n",
              "kpKC3r174/z58y+0Va9///66Xy58fX3xxhtvFPkC8Hh9MHLkSCQlJeHw4cP4+eefkZubi3nz5uHy\n",
              "5cu4efNmscvEF50GJVGvXj2sXLkSSUlJWL58OTZs2ACZTAZzc3OMHDlSl2H58uVISUnBmDFjdOuy\n",
              "Nm3aQKFQwNTUFKdOncKgQYPw888/o3fv3ujYsSOys7OL/eX38a4PwcHBT6wPjYyMsHHjRrz77rvw\n",
              "9vbGihUr4O7ujo8//hgqlUp3utGPP/74P1/f1KlTsWLFCvj4+GDSpEnPNc/92+NdRr28vNCpUycY\n",
              "GhrqliVvv/02rKysYGlpiUaNGuHkyZMwMTEBAOzatQsuLi5wdHREhw4d0LNnT9y6dQu+vr4YMWIE\n",
              "KleujF69eqF9+/bIzs4u0Tr/9OnTuHv3LqpVqwZfX18YGho+V/nSaDTYtm0bli5digULFsDc3Bwh\n",
              "ISFwdHREw4YNcejQISQmJmLz5s2YN28eEhMTYWlpCRMTEzRv3hxjx44FAKxevRpLliyBl5cXpk6d\n",
              "iqZNm0KhUGDHjh0wMjLCnDlzYGxsjJ49e/7ne/54uTtu3DjdZ6Zp06bo3LkzTp06hQ8++ADW1tbF\n",
              "nmYTeLQ7R3R0tO7g1Gd1sccsLCywa9cuHD16FB988MFL97B/mzt3LkxMTHQnBWjVqlWxp2P8L5Uq\n",
              "VUJAQACCgoIwZswYNGrUCEqlEjt37sTWrVvh4+OjO7A9Ly8PlSpVwvLly3WvJS4uTrcrmaGhISIj\n",
              "I3XrzfXr1+t+dSiJadOmISsrC3Xr1kVYWBh8fX2fOY3+TSaEECV+ViIq8x6fxak0zvn9orKysmBh\n",
              "YYHCwkL07dsXAQEB+OijjyTLQy/v8TQFHu2LOnnyZFy+fFniVGXXzz//jJ9++qnYLfel7Z/T5+TJ\n",
              "k+jUqROuX78OU1PT1/L85ZFMJkN6enqJypWUHn8GhBCYOHEi8vLy8NNPP0kdi/6nsLBQt1tgTk4O\n",
              "2rVrh7Fjxz73vu4V/jzuRPTqtG7dGiqVCvn5+WjSpAneffddqSPRS/r+++8RGRkJjUYDS0vLEl2M\n",
              "q6IJCwvD1atXsW3bttf2nFu2bMHcuXMhhIBSqcSaNWtY2iuY8PBwxMfHIz8/H/Xq1Xvui2DR65Ge\n",
              "no727dtDo9EgPz8fnTt3fuLX32epEFvcf//996f+NDh58uRiv+GMHDkSx48ff+L+Y8eO6X7O0wcV\n",
              "6bWnpKQ89cDGNm3avJIrzj2Pf55B4J8GDBiA9957r8h9LzKtZs6cia1btz5x/5YtW0rl4kxlXVl8\n",
              "/c+af/bv38/58TXMj6U9Dcri5+zfXmT5UVoCAwOfOPCuXr16kn2pW79+PYYMGfLE/a1bt9ad6/zf\n",
              "Xsd8JtXnqCTroddFys+rvqsQxZ2IiIiISN+VmYNTiYiIiIioeCzuRERERER6gMWdiIiIiEgPsLgT\n",
              "EREREekBFnciIiIiIj3A4k5EREREpAdY3ImIiIiI9MD/AcNPpU4RUOZ8AAAAAElFTkSuQmCC\n",
              "\">\n",
              "      </div>\n",
              "      <script type=\"text/javascript\">\n",
              "        (() => {\n",
              "          const chartElement = document.getElementById(\"chart-0ff77b77-7346-4078-a5a2-5822dc5dd4bb\");\n",
              "          async function getCodeForChartHandler(event) {\n",
              "            const chartCodeResponse =  await google.colab.kernel.invokeFunction(\n",
              "                'getCodeForChart', [\"chart-0ff77b77-7346-4078-a5a2-5822dc5dd4bb\"], {});\n",
              "            const responseJson = chartCodeResponse.data['application/json'];\n",
              "            await google.colab.notebook.addCell(responseJson.code, 'code');\n",
              "          }\n",
              "          chartElement.onclick = getCodeForChartHandler;\n",
              "        })();\n",
              "      </script>\n",
              "      <style>\n",
              "        .colab-quickchart-chart-with-code  {\n",
              "            display: block;\n",
              "            float: left;\n",
              "            border: 1px solid transparent;\n",
              "        }\n",
              "\n",
              "        .colab-quickchart-chart-with-code:hover {\n",
              "            cursor: pointer;\n",
              "            border: 1px solid #aaa;\n",
              "        }\n",
              "      </style>"
            ]
          },
          "metadata": {}
        },
        {
          "output_type": "display_data",
          "data": {
            "text/plain": [
              "from matplotlib import pyplot as plt\n",
              "all_model_results['precision'].plot(kind='line', figsize=(8, 4), title='precision')\n",
              "plt.gca().spines[['top', 'right']].set_visible(False)"
            ],
            "text/html": [
              "      <div class=\"colab-quickchart-chart-with-code\" id=\"chart-193f7dc7-ed86-460a-965d-76187c98780e\">\n",
              "        <img style=\"width: 180px;\" src=\"data:image/png;base64,iVBORw0KGgoAAAANSUhEUgAAAvUAAAFuCAYAAAABC+eQAAAAOXRFWHRTb2Z0d2FyZQBNYXRwbG90\n",
              "bGliIHZlcnNpb24zLjcuMSwgaHR0cHM6Ly9tYXRwbG90bGliLm9yZy/bCgiHAAAACXBIWXMAAA9h\n",
              "AAAPYQGoP6dpAAB4KklEQVR4nO3dd1QU198G8GfZpUiXjiCiUpQOCgqKPbYYVCxoYsFekxhT1FRj\n",
              "EjXNxBKjiYoaa6wxxphfVEyMDVERu1goCoJKlb679/2DsK/EioLDwvM5Z0/iTtnv7OzMPMzMvSMT\n",
              "QggQEREREZHW0pG6ACIiIiIiejYM9UREREREWo6hnoiIiIhIyzHUExERERFpOYZ6IiIiIiItx1BP\n",
              "RERERKTlGOqJiIiIiLQcQz0RERERkZZjqCciIiIi0nIM9URENdiBAwdgbGwMlUr12HHHjx+P0aNH\n",
              "P4eqiIioppEJIYTURRARERER0dPjmXoiomqiUqmgVqulLoOIiOoAhnoiokro0KEDJk+ejPDwcJiY\n",
              "mMDFxQWrV68GAOzfvx8ymQwbNmyAm5sbDA0NkZGRgezsbEyYMAGNGjWCpaUlevbsiatXr2rmqVQq\n",
              "MW/ePHh4eMDExASOjo74/PPPK8xTqVQCAKKjo9GyZUuYmZnB0tISbdq0QVZWFgAgMjISQ4YM0cz3\n",
              "xo0bGDhwIGxtbWFra4uIiAikpqZqhkdGRmLQoEGYPHkyLC0tYWtriw8++KDav0MiIqp6DPVERJW0\n",
              "fPlyjBgxAllZWViwYAFGjx6NgwcPaoZv3LgRhw8fRm5uLqytrdG3b1/k5ubi5MmTSE1Nhbe3N3r1\n",
              "6oXS0lIAwMyZM7F48WKsXLkSOTk5iI+PR7t27R742UOGDMGkSZOQnZ2NtLQ0fPXVV9DT07tvPJVK\n",
              "hV69ekEul+PSpUu4ePEihBAICwurcH/+tm3b0LZtW2RkZGD79u2YO3cuoqOjq/gbIyKi6sZQT0RU\n",
              "ST179sRLL70EhUKBnj17om/fvlixYoVm+Ny5c2FpaQl9fX2cOnUKBw8exNKlS2FhYQF9fX3Mnj0b\n",
              "165dw9GjRyGEwPz58zF37lwEBQVBR0cHFhYWCA4OfuBn6+np4cqVK0hNTYWenh6Cg4NhZGR033gx\n",
              "MTE4deoUFi9eDDMzM5ibm+P777/HiRMncOzYMc14bdq0waBBgyCXyxEcHAw/Pz/ExMRU/ZdGRETV\n",
              "iqGeiKiSGjdufN+/U1JSHjg8ISEBSqUSjo6OMDc3h7m5OSwtLQEAKSkpuH37Nu7evQt3d/cn+uwd\n",
              "O3bg6tWraNGiBVxcXPDRRx9pbs25V0pKCiwsLFC/fn3Ne5aWlqhfvz6Sk5M17zVo0KDCdEZGRsjL\n",
              "y3uiWoiIqOZQSF0AEZG2SUxMvO/fjo6Omn/r6Pz/+RI7Ozvo6enh1q1b0NXVvW9eQggYGxvj0qVL\n",
              "8Pb2fuxne3t7Y926dQCAuLg4dOvWDY6OjhgzZkyF8Ro2bIisrCxkZWVpgn1mZiaysrLg5OT0xMtK\n",
              "RETagWfqiYgqadeuXfjtt9+gUqmwe/dubNu2DSNGjHjguG3btoWXlxcmTJiAjIwMAEBWVha2bNmC\n",
              "goICyGQyvPrqq5gxYwZiY2MhhEBmZiYOHz5837xKSkoQFRWFW7duAQDMzMwgl8uhUNx/fiYoKAhe\n",
              "Xl6YPHkycnNzkZOTg0mTJsHPzw+BgYFV+G0QEVFNwFBPRFRJI0eOxPLly2Fubo5JkyZhyZIlCA0N\n",
              "feC4crkcf/75JwwNDdGqVSuYmJjA19cX27Ztg0wmAwDMmjULo0ePxiuvvAITExP4+PjgwIEDD5zf\n",
              "5s2b4enpCSMjI7Rv3x6RkZEYPnz4Az93586dKC4uhouLC1xdXaFUKrFjxw7I5fKq+zKIiKhG4MOn\n",
              "iIgqoUOHDmjbti0+/fRTqUshIiLS4Jl6IiIiIiItx1BPRERERKTlePsNEREREZGW45l6IiIiIiIt\n",
              "x1BPRERERKTlGOqJiIiIiLRcrQv18+fPl7oEIiIiIqLnqtaF+qSkJKlLICIiIiJ6rmpdqCciIiIi\n",
              "qmsY6omIiIiItBxDPRERERGRlmOoJyIiIiLScgz1RERERERajqGeiIiIiEjLMdQTEREREWk5hnoi\n",
              "IiIiIi3HUE9EREREpOUY6omIiIiItBxDPREREVEdplYLqUugKsBQT0RERFRHHbpyGy8u/AeX0vOk\n",
              "LoWeEUM9ERERUR2UmV+CNzbG4XxaLlYdSpS6HHpGDPVEREREdYwQAu9sPoX03GI0tTbCey82l7ok\n",
              "ekYM9URERER1zOrDSdhzPgN6ch0sHBwAQz2F1CXRM2KoJyIiIqpDzqXm4rNd5wEA7/ZsBo8GphJX\n",
              "RFWBoZ6IiIiojigoUeLV9SdQolSjczMbDA9xlrokqiIM9URERER1xKxfz+HKrXzYmOjjywG+kMlk\n",
              "UpdEVYShnoiIiKgO2Bmfig3HUiCTAd9G+MHCSE/qkqgKMdQTERER1XIpmQWYsfU0AGBih6YIcbGS\n",
              "uCKqagz1RERERLWYUqXG6xtOIq9ICX8nc0zp4iZ1SVQNGOqJiIiIarH5exNwIjkbJvoKLBjkD105\n",
              "419txLVKREREVEsdvnIHi6IvAwBmh3ujoYWhxBVRdal0qE9ISEBISAjc3NwQGBiIs2fP3jeOWq3G\n",
              "1KlT4eHhAR8fH3Ts2BGXL5f9oE6fPo127dqhWbNm8PLywsiRI1FYWKiZViaTwdvbG35+fvDz88OB\n",
              "AweeYfGIiIiI6qbM/BJM2XgSQgARLRviJd8GUpdE1ajSoX7cuHEYO3YsLl26hGnTpiEyMvK+cXbs\n",
              "2IGDBw/i1KlTiI+PR+fOnfHuu+8CAAwMDLBo0SJcuHABp06dQn5+Pj7//PMK0x84cABxcXGIi4tD\n",
              "aGjo0y0ZERERUR0lhMA7m+ORnluMJtZG+CjMQ+qSqJpVKtRnZGQgNjYWQ4YMAQD069cPKSkpmrPw\n",
              "5WQyGYqLi1FUVAQhBHJzc+Ho6AgAcHV1hY+PDwBALpcjMDAQiYmJT1V8cXExcnNzK7xUKtVTzYuI\n",
              "iIiotlh9OAl7zqdDT66DhYP9YainkLokqmaVCvUpKSmwt7eHQlH2w5DJZHByckJycnKF8V566SV0\n",
              "6NABdnZ2sLe3x969ezFr1qz75pefn49ly5ahd+/eFd7v3LkzfH19MXXqVOTn5z+0njlz5sDMzKzC\n",
              "KyYmpjKLRERERFSrnEvNxWe7zgMAZvRsBs8GZhJXRM9DtTSUjY2NxZkzZ3Djxg2kpqaic+fOGD9+\n",
              "fIVxSkpKEBERga5du6Jv376a95OSknD8+HEcOnQIt27dwttvv/3Qz5kxYwZycnIqvIKCgqpjkYiI\n",
              "iIhqvIISJV5dfwIlSjU6NbNBZIiz1CXRc1KpazENGzZEWloalEolFAoFhBBITk6Gk5NThfFWr16N\n",
              "Tp06wdzcHAAwfPhwdO3aVTO8tLQUERERsLe3x/z58ytMWz4vIyMjTJw4EWPHjn1oPfr6+tDX16/w\n",
              "nlwur8wiEREREdUan+w8hyu38mFjoo8v+/tAJpNJXRI9J5U6U29jY4OAgACsWbMGALBlyxY4OjrC\n",
              "xcWlwnhNmjTBvn37UFJSAgDYuXMnvLy8AABKpRKDBg2ChYUFfvjhhwo/tqysLBQUFAAo60Fn48aN\n",
              "8Pf3f/qlIyIiIqojfotPw/qYFMhkwLcRfrA01n/8RFRrVLrVxNKlSxEZGYnZs2fD1NQUUVFRAIDR\n",
              "o0cjLCwMYWFhmDRpEs6fPw9fX1/o6urCzs4OS5YsAQBs3LgRW7duhY+Pjyawt2nTBt999x0uXLiA\n",
              "cePGQSaTQalUIiAg4L4z+URERERU0fWsAkzfGg8AmNihKUJcrCSuiJ43mRBCSF1EVZo6dSrmzZsn\n",
              "dRlEREREz4VSpUbED0dwPCkL/k7m+HlcMJ8aWwdxjRMRERFpsQV7E3A8KQsm+gosGOTPQF9Hca0T\n",
              "ERERaanDV+5gYXTZ84Jmh3ujoYWhxBWRVBjqiYiIiLRQZn4Jpmw8CSGAgS0d8ZJvA6lLIgkx1BMR\n",
              "ERFpGSEE3tkcj/TcYjSxNsLMME+pSyKJMdQTERERaZmfjiRhz/l06Ml1sGCQPwz1Kt2hIdUyDPVE\n",
              "REREWuR8Wi4+/e08AGB6j2bwcjCTuCKqCRjqiYiIiLREYYkKr64/iRKlGp2a2WBEG2epS6IagqGe\n",
              "iIiISEvM2nkOlzPuwsZEH1/294FMJpO6JKohGOqJiIiItMCu02lYH5MMmQz4JsIPlsb6UpdENQhD\n",
              "PREREVENdz2rANO3xAMAJrRvijYuVhJXRDUNQz0RERFRDaZUqfH6hjjkFinh19Acb7zgJnVJVAMx\n",
              "1BMRERHVYAv2JuB4UhZM9BVYONgfunLGN7offxVERERENdThK3ewMPoyAODTvl5oaGEocUVUUzHU\n",
              "ExEREdVAWfkleGNjHIQABrRwRG8/B6lLohqMoZ6IiIiohhFC4J0t8biZW4Qm1kb4uLen1CVRDcdQ\n",
              "T0RERFTDrDmShD/PpUNProMFg/xhqKeQuiSq4RjqiYiIiGqQCzdz8clv5wEA03s0g5eDmcQVkTZg\n",
              "qCciIiKqIQpLVJi87iRKlGp0amaDEW2cpS6JtARDPREREVENMWvnOVzOuAtrE3182d8HMplM6pJI\n",
              "SzDUExEREdUAu06nYX1MMmQy4NsIP1ga60tdEmkRhnoiIiIiiV3PKsD0LfEAgPHtm6KNi5XEFZG2\n",
              "YagnIiIikpBSpcaUDXHILVLCr6E5pr7gJnVJpIUY6omIiIgktGDfZcQmZcFEX4GFg/2hK2c8o8rj\n",
              "r4aIiIhIIkeu3sGifQkAgE/7eqGhhaHEFZG2YqgnIiIikkBWfgne2BgHtQAGtHBEbz8HqUsiLcZQ\n",
              "T0RERPScCSHwzpZ4pOUUoYmVEWaGeUpdEmk5hnoiIiKi52zNkST8eS4denIdLBjsDyN9hdQlkZZj\n",
              "qCciIiJ6ji7czMUnv50HAEzr0QxeDmYSV0S1AUM9ERER0XNSWKLCq+tOokSpRkd3a4xs4yx1SVRL\n",
              "MNQTERERPSef/HYOCRl3YW2ijy8H+EImk0ldEtUSlQ71CQkJCAkJgZubGwIDA3H27Nn7xlGr1Zg6\n",
              "dSo8PDzg4+ODjh074vLly5rhO3fuRLNmzeDq6orw8HDk5uY+0TAiIiIibfX76TSsO5oMmQz4NsIP\n",
              "Vsb6UpdEtUilQ/24ceMwduxYXLp0CdOmTUNkZOR94+zYsQMHDx7EqVOnEB8fj86dO+Pdd98FANy9\n",
              "exejRo3C9u3bkZCQgAYNGuCTTz557DAiIiIibXUjuxDTtsQDAMa3b4o2LlYSV0S1TaVCfUZGBmJj\n",
              "YzFkyBAAQL9+/ZCSklLhLDwAyGQyFBcXo6ioCEII5ObmwtHREQDw+++/w9/fH82aNQMATJw4EevX\n",
              "r3/ssAcpLi5Gbm5uhZdKparMIhERERFVK6VKjSkbTiK3SAnfhuaY+oKb1CVRLVSp/pNSUlJgb28P\n",
              "haJsMplMBicnJyQnJ8PFxUUz3ksvvYTo6GjY2dnBxMQEDg4O+OuvvwAAycnJaNSokWZcZ2dnpKWl\n",
              "QalUPnJY+Wfea86cOfj4448rvNe6devKLBIRERFRtVq47zKOJWbBWF+BhYP8oStnk0aqetXyq4qN\n",
              "jcWZM2dw48YNpKamonPnzhg/fnyVf86MGTOQk5NT4RUUFFTln0NERET0NI5cvYOF+xIAAJ/19YKT\n",
              "paHEFVFtValQ37BhQ82Zc6DsaWjJyclwcnKqMN7q1avRqVMnmJubQ0dHB8OHD0d0dDQAwMnJCUlJ\n",
              "SZpxExMTNWf/HzXsQfT19WFqalrhJZfLK7NIRERERNUiK78Eb2yMg1oA/Vs4orefg9QlUS1WqVBv\n",
              "Y2ODgIAArFmzBgCwZcsWODo6Vrj1BgCaNGmCffv2oaSkBEBZjzZeXl4AgO7du+PEiRO4cOECAGDx\n",
              "4sUYNGjQY4cRERERaQshBKZtiUdaThEaWxnh4zBPqUuiWq7SzyReunQpIiMjMXv2bJiamiIqKgoA\n",
              "MHr0aISFhSEsLAyTJk3C+fPn4evrC11dXdjZ2WHJkiUAABMTEyxbtgx9+vSBUqmEl5cXVq1a9dhh\n",
              "RERERNpizdFk/O9cOnTlMiwc7A8j/UpHLqJKkQkhhNRFVKWpU6di3rx5UpdBREREddSFm7kIW3QQ\n",
              "JUo1PujlgVFtG0tdEtUBbH5NREREVEUKS1R4bf1JlCjV6OhujZFtnKUuieoIhnoiIiKiKvLpb+dw\n",
              "Kf0urE308eUAX8hkMqlLojqCoZ6IiIioCuw+k4a1R5MhkwHfDPSDlbG+1CVRHcJQT0RERPSMbmQX\n",
              "4p3N8QCAce2aoq2rlcQVUV3DUE9ERET0DJQqNaZsOIncIiV8G5rjza5uUpdEdRBDPREREdEzWLjv\n",
              "Mo4lZsFYX4EFg/ygK2e8ouePvzoiIiKip3T06h0s3JcAAPisrxcaWRpJXBHVVQz1RERERE8hu6AE\n",
              "UzbGQS2A/i0c0dvPQeqSqA5jqCciIiKqJCEEpm2JR1pOERpbGeHjME+pS6I6jqGeiIiIqJLWHk3G\n",
              "H2fToSuXYeFgfxjpK6Quieo4hnoiIiKiSrh4Mw+f7DwHAJjWvRm8HMwkroiIoZ6IiIjoiRWWqPDq\n",
              "+hMoVqrRwd0aI9s0lrokIgAM9URERERP7NPfzuFS+l1YGevjqwG+0NGRSV0SEQCGeiIiIqInsvtM\n",
              "GtYeTQYAfBPhCytjfYkrIvp/DPVEREREj3EjuxDvbI4HAIxr3wShrtYSV0RUEUM9ERER0SMoVWq8\n",
              "sSEOuUVK+DY0x1td3aUuieg+DPVEREREj7Ao+jJiEjNhrK/AgkF+0JUzPlHNw18lERER0UPEXMvE\n",
              "gr0JAIDP+nqhkaWRxBURPRhDPREREdEDZBeUYMqGk1ALoF+AI3r7OUhdEtFDMdQTERER/YcQAtO2\n",
              "xCM1pwiNrYzwcW9PqUsieiSGeiIiIqL/WHs0GX+cTYeuXIYFg/xhrK+QuiSiR2KoJyIiIrrHxZt5\n",
              "+GTnOQDAtO7N4O1oJnFFRI/HUE9ERET0r6JSFV5dfwLFSjXau1ljZJvGUpdE9EQY6omIiIj+9elv\n",
              "53Ap/S6sjPXx9UBf6OjIpC6J6Ikw1BMREREB2H3mJtYcSQYAfBPhCytjfYkrInpyDPVERERU56Vm\n",
              "F2LalngAwLj2TRDqai1xRUSVw6bcVOfkFpXi0OXb+OvSbVy4mYsJ7Zuiq6ed1GUREZFEVGqBKRvi\n",
              "kFNYCl9HM7z5grvUJRFVGkM91XoqtcDpGzn4+9It/H3pFk6mZEOlFprh49Ycx8dhnhgW7CxdkURE\n",
              "JJmF+xIQk5gJY30FFgz2h56CNzKQ9mGop1opPbcIf/0b4v+5fBvZBaUVhjexNkI7V2vkFpVi64kb\n",
              "+PCXs0jNLsI73dzZKIqIqA6JuZaJBXsTAACf9vFCI0sjiSsiejoM9VQrFJWqcCwx89+z8bdxMT2v\n",
              "wnATfQXauFihnZs1Ql2t0NDCEEDZEwMbWxrh6z8vYclfV5CeW4TP+/nwLA0RUR2QXVCCKRtOQi2A\n",
              "8AAH9PF3kLokoqfGUE9aSQiBK7fy8felW/jr0i0cvXYHRaVqzXCZDPBxMEM7N2u0c7OGX0Nz6Mrv\n",
              "D+oymQyvdnaFrZkBZmw9jW0nb+BWXjG+HxIAEwPd57lIRET0HAkhMH3LaaTmFMHZ0hCzentJXRLR\n",
              "M6l0qE9ISMDw4cNx+/ZtmJmZYeXKlfD09KwwTlRUFObPn6/59/Xr19GuXTts3boVf/zxB6ZNm6YZ\n",
              "lpGRATs7O5w4cQJAWcjy8vKCXC4HACxcuBChoaFPtXBUu+QUljVw/Tuh7Gz8jezCCsNtTPQ1Ib6t\n",
              "ixUsjPSeeN4DWzaEjYk+Jq49gX8u38bApUewckQgbE0NqnoxiIioBlgXk4zdZ29CVy7DwsEBMNbn\n",
              "eU7SbjIhhHj8aP+vU6dOGDZsGCIjI7F582Z8/vnnOHbs2COn8fLywscff4x+/frdN6xXr17o2LEj\n",
              "3nzzzbKCZDJkZWXB3Ny8MmVpTJ06FfPmzXuqaalmUakF4q9n4+9LZUE+7j8NXPXkOghqbIF2bmW3\n",
              "1bjbmkAme7b74U9fz8GIlTG4fbcEDub1sGpkIFxsTJ51UYiIqAa5lJ6Hlxb+g2KlGu+/2ByjQ5tI\n",
              "XRLRM6tUqM/IyICLiwsyMzOhUCgghIC9vT3++ecfuLi4PHCao0eP4qWXXsKNGzegq1vxdobU1FQ0\n",
              "bdoUSUlJsLGxKSuoEqG+uLgYxcXFFd774IMPKlwlIO1yM6eo7JaahFs4+IgGru3drNGqiQUM9ar+\n",
              "zErynQIMj4rBtdv5MKuni2XDWyLQ2aLKP4eIiJ6/olIVei86iIvpeWjvZo2oyEB2kEC1QqUSUUpK\n",
              "Cuzt7aFQlE0mk8ng5OSE5OTkh4b65cuXY+jQofcFegBYuXIlevbsqQn05Tp37gylUonOnTvjk08+\n",
              "gZHRg1uiz5kzBx9//HGF91q3bl2ZRSKJPbaBq4ECbZpa/XtbjRUc6xtWe01OlobYMiEEo1Ydw8nk\n",
              "bLyy7CgWDPJDdy/7av9sIiKqXp/9dh4X0/NgZayPrwb4MtBTrVGtN5Dl5+djw4YNOHLkyH3DhBBY\n",
              "sWIFFixYUOH9pKQkODk5IT8/H+PHj8fbb7+NxYsXP3D+M2bMwNSpUyu898EHH1TdAlCVK2vgehd/\n",
              "XbqNvx/WwNXRHO1drTQNXBUPaOBa3SyM9LBudGu8uv4k9pxPx4S1J/BRLw9Etmn83GshIqKqsfvM\n",
              "Tfx0JAkAMG+gL6xN9CWuiKjqVCrUN2zYEGlpaVAqlZrbb5KTk+Hk5PTA8Tdt2gRPT094eHjcN+yv\n",
              "v/5CUVERunXrVuH98nkZGRlh4sSJGDt27EPr0dfXh75+xQ2yvIEt1Rw5haU4ePm25uFPqTlFFYbb\n",
              "muqjnev/N3CtX4kGrtWpnp4cS4YE4KMdZ7H2aDJm/noOaTlFmNa9Gc/sEBFpmdTsQkzbEg8AGNeu\n",
              "Cdq5WUtcEVHVqlSot7GxQUBAANasWYPIyEhs2bIFjo6Oj7z1ZtSoUQ8dFhkZWSGEZ2VlQV9fH4aG\n",
              "hlCr1di4cSP8/f0rUyLVACq1wKnr2ZoQH5eSjXvat0JPoYMgZwu0/7enGjdb42du4FpdFHIdfNrH\n",
              "Cw3M6+HLPy5i6d9XcTO3CF/292Vf9kREWkKlFpiyIQ45haXwcTTDm13dpS6JqMpV+vabpUuXIjIy\n",
              "ErNnz4apqSmioqIAAKNHj0ZYWBjCwsIAABcvXkRcXBx27dp13zxycnKwdetWnD59usL7Fy5cwLhx\n",
              "4yCTyaBUKhEQEMBGr1oiLacQBy7dxl8Jt/BPwm3kFFZs4NrU2kjT3WTrxpaop6c9V1RkMhkmdXSB\n",
              "rakBpm+Jxy9xqbiVV4wlQ1vAlH3ZExHVeIv2XUZMYiaM9ORYMMifJ2WoVqp0l5Y1Hbu0fD6KSlWI\n",
              "ufZvA9eEW7iUfrfCcBMDBdq6WGmCvIN5PYkqrVp/X7qFCWuOI79EhWZ2Jlg5Igh2ZuzLnoiopjqW\n",
              "mImIpYehFsA3Eb7o6+8odUlE1YJPWqAnIoTA5Yy7+OvSLfydcBtHr95BsbJiA1dfR3O0c7NGezcr\n",
              "+DpK08C1urVzs8bGccEYsfIYLtzMQ/jig1g1MgiutuzLnoiopskpKMXr609CLYDwAAcGeqrVGOrp\n",
              "oXIKSvHPvw1cDyRoTwPX6ublYIatE0IwPCoGV2/lo9/3h7BseCCCGrMveyKimkIIgelb45GaUwRn\n",
              "S0PM6u0ldUlE1YqhnjSepIFrq8YWmiBfkxu4VreGFobYMr6sL/sTydkYsvwovo3wQ09v9mVPRFQT\n",
              "rI9Jwe9nbkJXLsPCwQEw1mfkodqNv/A6Li2nUPPgp38u39/A1cXG+N8Qb4VWWtbAtbrVN9LDujGt\n",
              "8dr6k/jfuXRMWncCH7zogZFt2Zc9EZGULqXn4eNfzwIA3unWDN6OZhJXRFT9GOrrmKJSFY6WN3C9\n",
              "dAsJGRUbuJoaKNDW1QrtXK0RWosauFYXA105vh/SAjN3nMVPR5Iwa+c53MwtwnT2ZU9EJImiUhVe\n",
              "XXcSxUo12rlZYxRPtFAdwVBfyz2ugavOv09wLWvgag1fR7Na2cC1Osl1ZJjV2xP25gb4YvdF/PD3\n",
              "VaTlFOGrAT7QV/DKBhHR8/TZb+dxMT0PVsZ6+HqAL0+wUJ3BUF8L3dvA9e+EW0j7TwNXO1MDtHOz\n",
              "0jRwNTesGw1cq5NMJsPEDi6wMzXAO5vj8eupVNzKK8LSoS1hVo992RMRPQ9/nL2Jn44kAQC+HugH\n",
              "axP9x0xBVHsw1NcCSpUap67naEL8qYc0cC1/gqurTd1t4FrdwgMcYW2ijwlrTuDI1UwMXHIYK0cG\n",
              "wt6MtzEREVWn1OxCvLM5HgAwtl0TtHezlrgioueLoV5LpWYXakL8Pwm3kVukrDDc1cZY8+CnVo0t\n",
              "YKDL20Cel1BXa2wc1xqRUcdwMT0P4YsPYeWIILjbsS97IqLqoFILTNkYh5zCUvg4muGtru5Sl0T0\n",
              "3DHUa4nyBq5/XSwL8pcf0cC1nZs1GrCBq6Q8G5hh28QQDF8Rgyu38tF/ySH8OKwlWjexlLo0IqJa\n",
              "57voy4i5lgkjPTkWDPKHnoJtw6juYaivoYQQSMi4i78v3cJfl24h5lrmfQ1cfRuaa0I8G7jWPI71\n",
              "DbFlQghGr4pFbFIWhi2PwbwIX/TyaSB1aUREtUZsYia+3XMJAPBpXy84WxlJXBGRNBjqa5DsgpJ7\n",
              "nuB6+74GrvZmBpoQ38bFkg1ctYC5oR7WjG6FKRvisPvsTUxedxI3c4owOrSJ1KUREWm9nIJSvL4h\n",
              "DmoBhPs7oK+/o9QlEUmGoV5CZQ1cs/HXpbIgH3+9YgNXfYUOWjWxRDtXK7R3s4YLG7hqJQNdOb57\n",
              "JQCzfj2LVYeT8Olv55GWU4T3ejZnV2tERE9JCIHpW+NxI7sQzpaGmNXHS+qSiCTFUP+cPWkD1/Zu\n",
              "1ghiA9daQ64jw8wwT9ib18Pc3y9g+T/XcDO3CPMG+rIveyKip7A+JgW/n7kJhY4MCwb7w1ifkYbq\n",
              "Nm4B1ayoVIUjV+/g70u3H9jA1ayeLtq6WKGdmxVCXdnAtTaTyWQY374p7M0M8NamU/gtPg2384rx\n",
              "wzD2ZU9EVBmX0vPw8a9nAQDvdHeHj6O5tAUR1QAM9VVMCIFL6Xc1Z+OPXstEyX8auPo1NNd0N+nr\n",
              "aA45b8GoU3r7OcDKWB/jfjqOo9cyMWBJWZeX/IOOiOjxikpVeG39SRQr1WjnZo3RbdlGiQhgqK8S\n",
              "WfkVG7jezL2/gWv5g5/aNLWCmSHPytZ1bVys8PO4YIxYGYNL6XfL+rIfGYhmdqZSl0ZEVKPN3nUe\n",
              "F27mwcpYD18P8GXbJKJ/MdQ/pWu387Ht5A389W8DV8EGrlRJHg1MsXViGwxfEYPLGXcx4PvDWDqs\n",
              "BUKaWkldGhFRjfS/szex+nASAODrgX6wNtGXuCKimoOh/ildzriLBXsTNP92szXWdDfJBq70pBzM\n",
              "62Hz+GCMXX0cMYmZiFxxDF8N9EWYL/uyJyK6V1pOId7ZEg8AGNuuCdq7WUtcEVHNwlD/lIKbWqKX\n",
              "jz3auVoj1M0K9ma8H5qejrmhHlaPCsLUn+Ow6/RNvLb+JNJzijA6tDGv8BARAVCpBaZsiEN2QSm8\n",
              "HczwVld3qUsiqnH4CNKnZKyvwKKXAzAwsCEDPT0zA105Fg0OwIg2zgCAz3adx6yd56C+98EFRER1\n",
              "1HfRl3H0WiaM9ORYMNgfegrGF6L/4lZBVEPo6MjwYS8PvNezOQAg6mAiJq8/gaJSlcSVERFJJzYx\n",
              "E9/uuQQA+KSPFxpbGUlcEVHNxFBPVIPIZDKMadcE8wf5QVcuw67TNzFseQxyCkqlLo2I6LnLKSjF\n",
              "6xvioBZAX38HhAc4Sl0SUY3FUE9UA/X2c8CqkUEw0VcgJjET/Zccwo3sQqnLIiJ6boQQmL41Hjey\n",
              "C9HI0hCf9PGSuiSiGo2hnqiGCmlqhU0TgmFnaoCEjLsIX3wQ59NypS6LiOi52HAsBb+fuQmFjgwL\n",
              "B/vDWJ99exA9CkM9UQ3WzM4UWyeGwM3WGOm5xRi45DAOXb4tdVlERNUqIT0PH/96FgDwTnd3+Dia\n",
              "S1sQkRZgqCeq4RqY18OmcSFo1dgCecVKDI+KwS9xN6Qui4ioWhSVqvDq+pMoKlUj1NUKo9s2kbok\n",
              "Iq3AUE+kBcwMdbF6VBBe9LFHqUrg9Q1xWPrXFQjBLi+JqHaZs+s8LtzMg5WxHr4e6AsdHT6vg+hJ\n",
              "MNQTaQl9hRwLB/ljVNvGAIA5v1/Ax7+eg4p92RNRLfG/szex6nASAOCrAb6wMTGQuCIi7cFQT6RF\n",
              "dHRk+KCXB95/sawv+5WHEjFpLfuyJyLtl5ZTiHe2xAMAxoQ2Rgd3G4krItIulQ71CQkJCAkJgZub\n",
              "GwIDA3H27Nn7xomKioKfn5/mZWVlhfDwcABAYmIi5HJ5heFXrlzRTLtz5040a9YMrq6uCA8PR24u\n",
              "e/sg+q/RoU2wcLA/9OQ62H32JoYuP4rsghKpyyIieioqtcCUDXHILiiFt4MZ3u7WTOqSiLROpUP9\n",
              "uHHjMHbsWFy6dAnTpk1DZGTkfeOMGDECcXFxmpednR1eeeUVzXATE5MKw5s2bQoAuHv3LkaNGoXt\n",
              "27cjISEBDRo0wCeffPL0S0dUi73k26CsL3sDBY4lZqH/ksO4nlUgdVlERJW2OPoyjl7LhJGeHAsG\n",
              "+0NPwRsJiCqrUltNRkYGYmNjMWTIEABAv379kJKSgsuXLz90mqNHjyIjIwNhYWGPnf/vv/8Of39/\n",
              "NGtW9hf6xIkTsX79+oeOX1xcjNzc3AovlYq3IVDdEdzUEpvHh8DezACXM+4ifPEhnE3NkbosIqIn\n",
              "FpuYiW/3JgAAPunjhcZWRhJXRKSdKhXqU1JSYG9vD4Wi7AEQMpkMTk5OSE5Ofug0y5cvx9ChQ6Gr\n",
              "q6t5Lz8/H4GBgQgICMCsWbM0QTw5ORmNGjXSjOfs7Iy0tDQolcoHznvOnDkwMzOr8IqJianMIhFp\n",
              "PXc7E2ydGAJ3WxNk5BUjYukR/JPAvuyJqObLKSzF6xvioFIL9PV3QHiAo9QlEWmtar2+lZ+fjw0b\n",
              "NmDUqFGa9+zt7XHjxg0cO3YMe/bswYEDB/D1118/1fxnzJiBnJycCq+goKCqKp9Ia9ib1cPP44PR\n",
              "uokF7hYrERkVg20nr0tdFhHRQwkh8O7W07iRXYhGloaY1dtT6pKItFqlQn3Dhg0rnDkXQiA5ORlO\n",
              "Tk4PHH/Tpk3w9PSEh4eH5j19fX3Y2JS1aLewsMDIkSNx4MABAICTkxOSkpI04yYmJla4MvBf+vr6\n",
              "MDU1rfCSy+WVWSSiWsOsni5WjQzCS74NoFQLvLHxFBbvv8y+7ImoRtp4LAW/nU6DQkeGBYP8YWKg\n",
              "+/iJiOihKhXqbWxsEBAQgDVr1gAAtmzZAkdHR7i4uDxw/OXLl1c4Sw+U3ZdfWloKoOye+K1bt8Lf\n",
              "3x8A0L17d5w4cQIXLlwAACxevBiDBg2q3BIR1WH6CjnmR/hhbLuyJzB+sfsiPtpxln3ZE1GNkpCe\n",
              "h5m/lvWe93Y3d/g2NJe2IKJaoNK33yxduhRLly6Fm5sb5s6di6ioKADA6NGjsWPHDs14Fy9eRFxc\n",
              "HCIiIipM/88//8Df3x++vr4ICAiAnZ0d3nvvPQBlveIsW7YMffr0gYuLC65fv44PPvjgWZaPqM7R\n",
              "0ZHh3Z7N8WEvD8hkwOrDSZi49jj7sieiGqGoVIVX159EUakaoa5WGBPaROqSiGoFmahl1+anTp2K\n",
              "efPmSV0GUY3wW3wa3tgYhxKVGi0a1ceyYS1R30hP6rKIqA776JczWHU4CZZGevh9SiifGktURdgR\n",
              "LFEt9qKPPX4aFQRTAwWOJ2Wh35JDSMlkX/ZEJI0/z6Vj1eGytnNfD/RloCeqQgz1RLVcqyaW2Dwh\n",
              "BA3MDHD1Vj7Cvz+EMzfYlz0RPV83c4rw9uZTAIAxoY3Rwd1G4oqIaheGeqI6wM3WBFsntkEzOxPc\n",
              "yitGxNLD+PvSLanLIqI6QqUWmLLxJLILSuHtYIa3uzWTuiSiWoehnqiOsDMzwM/jgxHS1BL5JSqM\n",
              "XHkMW46zL3siqn7f77+MI1czYagnx4LB/tBTMH4QVTVuVUR1iKmBLlaOCEJvv7K+7N/cdArfRbMv\n",
              "eyKqPseTMvHNngQAwCe9vdDYykjiiohqJ4Z6ojpGT6GDbwb6Ydy/fdl/+cdFfPDLGfZlT0RVLqew\n",
              "FK+tj4NKLdDHrwHCAxykLomo1mKoJ6qDdHRkmNGzOWa+VNaX/ZojyRi/5jgKS9iXPRFVDSEE3t16\n",
              "GjeyC+FkYYhP+nhBJpNJXRZRrcVQT1SHRbZpjMUvB0BPoYM/z6Xj5WVHkJlfInVZRFQLbDyWgt9O\n",
              "p0GhI8OCwf4wMdCVuiSiWo2hnqiO6+Ftj7WjW8Gsni5OJmej//fsy56Ins3ljDzM/PUsAOCtbu7w\n",
              "a2gubUFEdQBDPREh0NkCWyYEw8G8Hq7ezkffxYdw+jr7sieiyisqVWHyupMoKlUj1NUKY0ObSF0S\n",
              "UZ3AUE9EAAAXGxNsnRiC5vamuH23GBE/HMb+ixlSl0VEWmbu7xdw4WYeLI308PVAX+jo8D56oueB\n",
              "oZ6INGxNDfDzuNZo42KJghIVRq+KxabYFKnLIiItsedcOlYeSgQAfDXQFzYmBtIWRFSHMNQTUQUm\n",
              "BrqIigxCn3/7sn97czwW7k1gX/ZE9Eg3c4rw9uZTAIDRbRujo7uNxBUR1S0M9UR0Hz2FDuYN9MOE\n",
              "Dk0BAF//eQnvbjsDpUotcWVEVBOp1AJvbIxDVkEpvBxM8XZ3d6lLIqpzGOqJ6IF0dGSY1r0ZZvX2\n",
              "hEwGrI9hX/ZE9GDf77+Mw1fvwFBPjgWD/KGvkEtdElGdw1BPRI80LNgZ37/SAvoKHew5n4HBPx7B\n",
              "nbvFUpdFRDXE8aRMfLMnAQAwq7cXmlgbS1wRUd3EUE9Ej9Xdyw5rR7eCuaEu4lKy0X/JYSTdyZe6\n",
              "LCKSWE5BKV5bHweVWqC3XwP0C3CQuiSiOouhnoieSEtnC2weHwIH83q4djsf/b4/hPjr2VKXRUQS\n",
              "KSpVYczqWNzILoSThSE+7eMFmYzdVxJJhaGeiJ6Yi40xtk0MgYe9KW7fLcGgH44gmn3ZE9U5KrXA\n",
              "6xtOIiYxEyYGCiwd2gImBrpSl0VUpzHUE1Gl2JgaYOO41gh1tdL0Zf/zMfZlT1RXCCHwwS9n8MfZ\n",
              "dOgpdPDjsJZobm8qdVlEdR5DPRFVmomBLpYPD0R4gANUaoF3tsRj/h72ZU9UF8zfm4B1R5MhkwHz\n",
              "I/zQuoml1CURERjqiegp6Sl08PUAX0zqWNaX/Td7LuHdbafZlz1RLbb2aBK+vaenmx7e9hJXRETl\n",
              "GOqJ6KnJZDK83a0ZPunjBR0ZsD4mBWN/Oo6CEqXUpRFRFfvj7E18sP0MAOC1Ti4Y2rqRxBUR0b0Y\n",
              "6onomQ1t3QhLhpT1Zb/vQgYG/3AEt9mXPVGtEXMtE6+uPwm1AAYHNcQbL7hJXRIR/QdDPRFVia6e\n",
              "dlg3pjXqG+ri1PUc9Pv+EBJvsy97Im138WYeRq86hhKlGl2a2+KT3uy6kqgmYqgnoirTolF9bJ4Q\n",
              "Asf69ZB0pwD9vj+EUynZUpdFRE/pRnYhhq+IQW6REi0b1ceil/2hkDM6ENVE3DKJqEo1tTbG1okh\n",
              "8HIwxZ38sr7s911Il7osIqqkrPwSDFt+FDdzi+BqY4xlw1vCQFcudVlE9BAM9URU5WxMDLBhbDDa\n",
              "uVmjsFSFMauPY0NMstRlEdETKixRYeSqY7hyKx/2ZgZYNTII5oZ6UpdFRI/AUE9E1cJYX4Hlw1ui\n",
              "X4AjVGqB6VtP45s/L7Eve6IaTqlSY/K6EziZnA2zerpYPTIIDczrSV0WET0GQz0RVRtduQ6+GuCD\n",
              "Vzu5ACh7aM30LadRyr7siWokIQTe3XYaey9kQF+hgxWRLeFqayJ1WUT0BBjqiahayWQyvNnVHZ/1\n",
              "LevLfmNsCsasjkV+MfuyJ6ppvvrfRfwcex06MmDRywFo0chC6pKI6AlVOtQnJCQgJCQEbm5uCAwM\n",
              "xNmzZ+8bJyoqCn5+fpqXlZUVwsPDAQCnT59Gu3bt0KxZM3h5eWHkyJEoLCzUTCuTyeDt7a2Z9sCB\n",
              "A8+weERUU7zSqhGWDm0JA10d7L94C4N/ZF/2RDXJyoPX8F30FQDA7L7eeMHDVuKKiKgyKh3qx40b\n",
              "h7Fjx+LSpUuYNm0aIiMj7xtnxIgRiIuL07zs7OzwyiuvAAAMDAywaNEiXLhwAadOnUJ+fj4+//zz\n",
              "CtMfOHBAM21oaOjTLRkR1TgveNhi3ZjWsDDSQ/z1HIQvPoRr7MueSHI741Px8c5zAIA3X3DDoCAn\n",
              "iSsiosqqVKjPyMhAbGwshgwZAgDo168fUlJScPny5YdOc/ToUWRkZCAsLAwA4OrqCh8fHwCAXC5H\n",
              "YGAgEhMTn6r44uJi5ObmVnipVKqnmhcRPR8BTvWxZUIInCwMkZxZ1pf9yeQsqcsiqrMOXbmNqRtP\n",
              "QQhgWHAjTP63DQwRaZdKhfqUlBTY29tDoVAAKLtVxsnJCcnJD++qbvny5Rg6dCh0dXXvG5afn49l\n",
              "y5ahd+/eFd7v3LkzfH19MXXqVOTnP/ws3pw5c2BmZlbhFRMTU5lFIiIJNLYywpYJIfB2MENmfgkG\n",
              "/3gEe8+zL3ui5+1sag7Grj6OEpUaPb3t8NFLnnxaLJGWqtaGsvn5+diwYQNGjRp137CSkhJERESg\n",
              "a9eu6Nu3r+b9pKQkHD9+HIcOHcKtW7fw9ttvP3T+M2bMQE5OToVXUFBQtSwLEVUtaxN9bBjbGh3c\n",
              "rVFUqsaY1bFYd5R92RM9LymZBYiMOoa7xUq0amyBeQP9INdhoCfSVpUK9Q0bNkRaWhqUyrJeK4QQ\n",
              "SE5OhpPTg++927RpEzw9PeHh4VHh/dLSUkRERMDe3h7z58+vMKx8XkZGRpg4ceIjG8rq6+vD1NS0\n",
              "wksu59PuiLSFkb4CPw5riQEtHKEWwLvbTmPe/y6yL3uianbnbjGGrYjBrbxiNLMzwY98WiyR1qtU\n",
              "qLexsUFAQADWrFkDANiyZQscHR3h4vLg+++WL19+31l6pVKJQYMGwcLCAj/88EOFy3xZWVkoKCgA\n",
              "AKjVamzcuBH+/v6VWiAi0i66ch180d8Hr3V2BQAs2HcZ72yOZ1/2RNUkv1iJkSuP4drtfDiY18Oq\n",
              "kUEwNbj/Flki0i6Vvv1m6dKlWLp0Kdzc3DB37lxERUUBAEaPHo0dO3Zoxrt48SLi4uIQERFRYfqN\n",
              "Gzdi69atiI2Nhb+/P/z8/DBp0iQAwIULF9C6dWv4+vrC29sbd+7cwbfffvsMi0dE2kAmk2HqC26Y\n",
              "E+4NHRmw6fh1jF7FvuyJqlqJUo0Ja0/g1PUc1DfUxepRQbA1NZC6LCKqAjJRy65zT506FfPmzZO6\n",
              "DCJ6SnvPp2PyupMoLFXB28EMKyIDYW2iL3VZRFpPrRZ4c9MpbDt5A/V05Vg3phX8nepLXRYRVRE+\n",
              "UZaIapTOzW2xfmxZX/anb+Qg/PuDuHrrrtRlEWm9z3dfwLaTNyDXkWHxkAAGeqJahqGeiGocv4bm\n",
              "2DohBI0sDZGSWYh+3x/CCfZlT/TUlh24iqV/XwUAfN7PBx3dbSSuiIiqGkM9EdVIzv/2Ze/raIas\n",
              "glK8/OMR/HmOfdkTVdYvcTfw6W/nAQDTujdD/xaOEldERNWBoZ6IaiwrY32sH9saHf/ty37cT7FY\n",
              "cyRJ6rKItMaBhFt4a9MpAMCINs4Y376JxBURUXVhqCeiGs1Qr6wv+0GBDaEWwPvbz+CrP9iXPdHj\n",
              "nL6eg/E/HUepSuAl3wb44EUPPi2WqBZjqCeiGk8h18GccG9M6VLWl/2i6Mt4axP7sid6mMTb+YiM\n",
              "ikF+iQptXCzx1QAf6PBpsUS1GkM9EWkFmUyGKV3c8Hk/b8h1ZNhy4jpGrix7xD0R/b+MvCIMWxGD\n",
              "O/kl8GxgiiVDWkBfwafFEtV2DPVEpFUiAp2wbFhL1NOV40DCbUQsPYybOUVSl0VUI+QVlWJE1DEk\n",
              "ZxbAycIQK0cEwYRPiyWqExjqiUjrdGxmgw1jW8PSSA9nU3PR+7t/EH89W+qyiCRVrFRh/JrjOJua\n",
              "CytjPaweGcQHtxHVIQz1RKSVfBuaY9vENnC1MUZ6bjEGLj2MnfGpUpdFJAm1WuDNn0/h4OU7MNKT\n",
              "IyoyCM5WRlKXRUTPEUM9EWktJ0tDbJ0YounycvK6k5i/J4E941CdIoTAJ7+dw874NOjKZVgytAW8\n",
              "Hc2kLouInjOGeiLSaiYGulg2PBCj2jYGAHyz5xJe2xCHolKVxJURPR9L/rqKqIOJAICvBvgi1NVa\n",
              "2oKISBIM9USk9eQ6MnzQywOf9/OGQkeGX0+lImLpYaTnsgEt1W6bj1/H57svAADef7E5evs5SFwR\n",
              "EUmFoZ6Iao2IQCesGd0K9Q11cep6DnovOogzN3KkLouoWkRfyMC0LfEAgHHtmmB0KJ8WS1SXMdQT\n",
              "Ua3Suokltk9qAxcbY9zMLUL/JYew63Sa1GURVamTyVmYuPYEVGqBcH8HTOveTOqSiEhiDPVEVOs0\n",
              "sjTC1okhaO9W1oB24toTWLiXDWipdrhy6y5GrjyGwlIV2rtZ4/P+fFosETHUE1EtZWqgi+XDW2Jk\n",
              "m7IGtF//eQmvswEtabn03CIMWx6DrIJS+DqaYfErAdCV81BORAz1RFSLKeQ6+PAlD8wJL2tAu+NU\n",
              "KiJ+OIIMNqAlLZRTWIrhK2JwI7sQja2MsCIyEEb6CqnLIqIagqGeiGq9wUFO+GlUK5gb6uJUSjZ6\n",
              "f8cGtKRdikpVGLM6Fhdu5sHaRB+rRwbB0phPiyWi/8dQT0R1QnBTS2yf2AZNrY2QllOEAUsOY/cZ\n",
              "NqClmk+lFpiyIQ4x1zJhrK/AyhGBaGhhKHVZRFTDMNQTUZ3hbGWErRPboJ2bNQpLVRi/5gQW7WMD\n",
              "Wqq5hBCYueMsdp+9CT25Dn4Y1gKeDfi0WCK6H0M9EdUpZvV0sWJ4S0SGOAMAvvrfJbyxkQ1oqWZa\n",
              "tO8yfjqSBJkM+CbCDyFNraQuiYhqKIZ6IqpzFHIdzAzzxGd9vaDQkWF7XCoG/XAEGXlsQEs1x4aY\n",
              "ZHz95yUAwMyXPPGij73EFRFRTcZQT0R11iutGmH1yCCY1dNFXEo2+iw6iLOpbEBL0vvzXDre3XYa\n",
              "ADCpY1MM//fKEhHRwzDUE1GdFuJihe2T2qCJtRFSc4rQ//vD+OPsTanLojosNjETk9edgFoAA1s6\n",
              "4q2u7lKXRERagKGeiOq8xlZG2DaxDUJdrVBYqsK4n47ju+jLbEBLz92l9DyMWhWLYqUanZvZYHZf\n",
              "b8hkfFosET0eQz0REcoa0EZFBmJ4cCMAwJd/XMTUn0+xAS09N6nZhRi+IgY5haUIcDLHopcDoODT\n",
              "YonoCXFvQUT0L4VcBx/39sKnfbwg15Fh28kbGPzjEdzKK5a6NKrlsgtKMHxFDNJyiuBiY4zlwwNR\n",
              "T08udVlEpEUY6omI/mNI67IGtKYGCpxMzkbvRf/gXGqu1GVRLVVUqsLoVbFIyLgLO1MDrBoZhPpG\n",
              "elKXRURahqGeiOgB2pQ3oLX6twHtkkP4HxvQUhVTqtSYvO4kYpOyYGqgwKqRQXAwryd1WUSkhSod\n",
              "6hMSEhASEgI3NzcEBgbi7Nmz940TFRUFPz8/zcvKygrh4eGa4Tt37kSzZs3g6uqK8PBw5ObmPtEw\n",
              "IqLnqYm1MbZNbIO2LlYoKFFh3Jrj+H7/FTagpSohhMD7289gz/l06Cl0sGx4INztTKQui4i0VKVD\n",
              "/bhx4zB27FhcunQJ06ZNQ2Rk5H3jjBgxAnFxcZqXnZ0dXnnlFQDA3bt3MWrUKGzfvh0JCQlo0KAB\n",
              "Pvnkk8cOIyKSgpmhLqJGBGJYcCMIAXy++wLe3HQKxUo2oKVn882fl7DhWAp0ZMDCwf4IamwhdUlE\n",
              "pMUqFeozMjIQGxuLIUOGAAD69euHlJQUXL58+aHTHD16FBkZGQgLCwMA/P777/D390ezZs0AABMn\n",
              "TsT69esfO+xBiouLkZubW+GlUvFAS0RVS1eug1m9vTCrtyfkOjJsPXEDL/94FLfvsgEtPZ2fjiRh\n",
              "wb6yY+enfbzRzdNO4oqISNtVKtSnpKTA3t4eCoUCACCTyeDk5ITk5OSHTrN8+XIMHToUurq6AIDk\n",
              "5GQ0atRIM9zZ2RlpaWlQKpWPHPYgc+bMgZmZWYVXTExMZRaJiOiJDQt2xsoRgTA1UOB4UhZ6LzqI\n",
              "82m8RZAq5/fTafjwlzMAgCldXPFyKyeJKyKi2qBaG8rm5+djw4YNGDVqVLXMf8aMGcjJyanwCgoK\n",
              "qpbPIiICgFBXa2yb1AaNrYxwI7sQ/b8/hD3n0qUui7TEkat38PqGOAgBvNzKCa93dpW6JCKqJSoV\n",
              "6hs2bFjhzLkQAsnJyXByevBZhk2bNsHT0xMeHh6a95ycnJCUlKT5d2Jioubs/6OGPYi+vj5MTU0r\n",
              "vORy9utLRNWrqbUxtk0MQRsXS+SXqDDmp1gs+YsNaOnRzqflYsyqWJSo1OjmaYtPenvxabFEVGUq\n",
              "FeptbGwQEBCANWvWAAC2bNkCR0dHuLi4PHD85cuX33eWvnv37jhx4gQuXLgAAFi8eDEGDRr02GFE\n",
              "RDWJuaEeVo4IwiutnCAEMPf3C3hrUzwb0NIDpWQWYPiKGOQVKxHkbIH5g/wh12GgJ6Kq8+BT4I+w\n",
              "dOlSREZGYvbs2TA1NUVUVBQAYPTo0QgLC9M0iL148SLi4uKwa9euCtObmJhg2bJl6NOnD5RKJby8\n",
              "vLBq1arHDiMiqml05Tr4tI8X3GxN8PGvZ7HlxHUk3cnHkqEtYGWsL3V5VENk5pc9LTYjrxjutib4\n",
              "cXhLGOjyqjIRVS2ZqGXXi6dOnYp58+ZJXQYR1TF/X7qFSetOIK9ICQfzelge2RLN7EylLoskVlCi\n",
              "xOAfj+JUSjYamBlgy8QQ2Jvx4VJEVPX4RFkioirQzs0a2ya2gbOlIW5kF6Lf4kPYe54NaOuyUpUa\n",
              "E9eewKmUbJgb6mL1qCAGeiKqNgz1RERVxMXGGNsntUFwk7IGtKNXx+KHv9mAti4SQmD6ltPYf/EW\n",
              "DHR1sHx4IFxs+LRYIqo+DPVERFXI3FAPq0cFYXBQWQPa2bsu4J3NbEBb13zxx0VsOXEdch0Zvns5\n",
              "AC0a1Ze6JCKq5RjqiYiqmK5cB7P7euGjlzygIwM2Hb+OIcuO4g6fQFsnRB28hu/3XwEAzAn3Rufm\n",
              "thJXRER1AUM9EVE1kMlkGNGmMVZEBsJEX4FjiVno/d1BXLyZJ3VpVI1+PZWKWTvPAQDe7uaOgS0b\n",
              "SlwREdUVDPVERNWog7sNtk0KQSNLQ1zPKkS/7w9h3wU2oK2NDl6+jak/lz0tdnhwI0zs0FTqkoio\n",
              "DmGoJyKqZi42Jtg+sQ1aNbbA3WIlRq2KxbIDV9mAthY5cyMH4346jlKVwIve9vjwJU8+LZaIniuG\n",
              "eiKi56C+kR5+GtUKg4MaQgjg09/OY9qWeJQo1VKXRs8o+U4BIqOO4W6xEsFNLDEvwpdPiyWi546h\n",
              "nojoOdFT6GB2X2980KusAe3PsdcxZPlRZOaXSF0aPaXbd4sxbMVR3L5bjOb2plg6rAX0FXxaLBE9\n",
              "fwz1RETPkUwmw6i2jbH83wa0Mdcy0ee7g0hIZwNabXO3WIkRUceQeKcAjvXrYdWIQJga6EpdFhHV\n",
              "UQz1REQS6Ohug60TQ+BkYYjkzAKELz6E6IsZUpdFT6hEqcaENcdx+kYOLIz0sHpkEGxMDaQui4jq\n",
              "MIZ6IiKJuNqaYPukNghqbIG8YiVGrTzGBrRaQK0WeHvzKRxIuA1DPTmiIgPRxNpY6rKIqI5jqCci\n",
              "kpCFkR7WjGqFiJYNof63Ae2MrafZgLYGm73rPH6JS4VCR4bvh7SAb0NzqUsiImKoJyKSmp5CB3P7\n",
              "eeP9F5tDRwZsOJaCocuPIosNaGucH/6+gmX/XAMAfDnAB+3drCWuiIioDEM9EVENIJPJMDq0CZYP\n",
              "D4SxvgJHr2Wiz+KDuJzBBrQ1xdYT1zF71wUAwLs9m6Gvv6PEFRER/T+GeiKiGqRjs7IGtA0t6iHp\n",
              "TgH6fncI+9mAVnL7L2bgnc3xAIDRbRtjbDs+LZaIahaGeiKiGsbNtuwJtEHOZQ1oR648hhX/XGMD\n",
              "WomcSsnGxLUnoFQL9PFrgHd7Npe6JCKi+zDUExHVQJbG+lgzuhUGtHCEWgCzdp7Du9vOoFTFBrTP\n",
              "09VbdzFi5TEUlKgQ6mqFL/r7QodPiyWiGoihnoiohtJT6OCL/j54r2dzyGTA+phkNqB9jjJyizBs\n",
              "RQwy80vg7WCG74e0gJ6Ch00iqpm4dyIiqsFkMhnGtGuCZcNawkhPjiNXyxvQ3pW6tFott6gUw6OO\n",
              "4XpWIRpZGiJqRFkDZiKimoqhnohIC3RuboutE9vAsf6/DWgXH8Tfl25JXVatVKxUYezqWJxPy4WV\n",
              "cdnTYq2M9aUui4jokRjqiYi0hLtd2RNoWzaqj7wiJSKjYrDyIBvQViWVWmDqxlM4cjUTRnpyrBwR\n",
              "hEaWRlKXRUT0WAz1RERaxMpYH2vHtEL/fxvQzvz1HN7fzga0VUEIgVm/nsVvp9OgK5dh6dCW8HIw\n",
              "k7osIqInwlBPRKRl9BVyfNnfBzN6NINMBqw9mozhK2KQXcAGtM9i8f4rWHU4CQDw9UA/tHW1krgi\n",
              "IqInx1BPRKSFZDIZxrVvih+HljWgPXTlDvp8dxBXbrEB7dP4OTYFX/5xEQDwYS8PhPk2kLgiIqLK\n",
              "YagnItJiXTxssXlCCBzM6yHxTgH6fHcQBxLYgLYy9p5Px4ytpwEA49s3xci2jSWuiIio8hjqiYi0\n",
              "XHN7U/wyuQ1aaBrQHsPqw4lSl6UVjidlYdK6E1CpBfoFOGJad3epSyIieioM9UREtYCVsT7WjWmF\n",
              "8AAHqNQCH/5yFh+wAe0jXc7Iw6hVx1BUqkZHd2vM7ecNmYxPiyUi7cRQT0RUS+gr5Ph6gC+m/9uA\n",
              "9qcjSYiMikFOQanUpdU4N3OKMGx5DLILSuHX0BzfvRIAXTkPiUSkvbgHIyKqRWQyGca3b4qlQ1rA\n",
              "UE+Og5fvoO/ig7jKBrQaOQWlGL4iBqk5RWhibYQVkYEw1OPTYolIu1U61CckJCAkJARubm4IDAzE\n",
              "2bNnHzje6dOn0aFDBzRv3hzNmzfH1q1bAQBRUVHw8/PTvKysrBAeHg4ASExMhFwurzD8ypUrz7B4\n",
              "RER1U1dPO2weX9aA9urtfPT57iD+SbgtdVmSKypVYczqWFxMz4ONiT5WjwyChZGe1GURET0zmajk\n",
              "owg7deqEYcOGITIyEps3b8bnn3+OY8eOVRinoKAAXl5eWL16Ndq2bQuVSoXMzExYW1vfNz8vLy98\n",
              "/PHH6NevHxITE+Hn54fs7OynXqCpU6di3rx5Tz09EVFtciuvGON+isWJ5GzIdWSY+ZIHhgY7S12W\n",
              "JFRqgYlrj+OPs+kwMVDg53HBaG5vKnVZRERVolJn6jMyMhAbG4shQ4YAAPr164eUlBRcvny5wnjr\n",
              "1q1D69at0bZtWwCAXC5/YKA/evQoMjIyEBYW9lTFFxcXIzc3t8JLpVI91byIiGojaxN9rBvTGuH+\n",
              "ZQ1oP/jlLD785QyUdawBrRACH/xyBn+cTYeeQgc/DmvJQE9EtUqlQn1KSgrs7e2hUJTdeyiTyeDk\n",
              "5ITk5OQK4507dw76+vro1asX/Pz8MGzYMNy6dX+/ycuXL8fQoUOhq6ureS8/Px+BgYEICAjArFmz\n",
              "HhnS58yZAzMzswqvmJiYyiwSEVGtZ6Arx9cDffHOv901rj6chBErj9WpBrTz9yZg3dFkyGTA/Ag/\n",
              "tG5iKXVJRERVqloayiqVSuzZswdLly7FyZMn4eDggAkTJlQYJz8/Hxs2bMCoUaM079nb2+PGjRs4\n",
              "duwY9uzZgwMHDuDrr79+6OfMmDEDOTk5FV5BQUHVsUhERFpNJpNhYgcXLBnSAvV05TiQcBt9Fx/E\n",
              "tdv5UpdW7dYeTcK3exIAALN6e6GHt73EFRERVb1KhfqGDRsiLS0NSqUSQNnlzOTkZDg5OVUYz8nJ\n",
              "CR07doSDgwNkMhmGDBmCI0eOVBhn06ZN8PT0hIeHh+Y9fX192NjYAAAsLCwwcuRIHDhw4KH16Ovr\n",
              "w9TUtMJLLpdXZpGIiOqU7l522DwhGA3MDDQNaA9drr0NaP84exMfbD8DAHitkwuGtm4kcUVERNWj\n",
              "UqHexsYGAQEBWLNmDQBgy5YtcHR0hIuLS4XxBg4ciGPHjiE3NxcAsGvXLvj6+lYYZ/ny5RXO0gNl\n",
              "9+yXlpZdDi4uLsbWrVvh7+9fuSUiIqJH8mxghu2T28CvoTlyCksxdEUM1h5NkrqsKhdzLROvrj8J\n",
              "tQAGBzXEGy+4SV0SEVG1qfTtN0uXLsXSpUvh5uaGuXPnIioqCgAwevRo7NixA0DZmfp3330XISEh\n",
              "8PHxwb59+7BkyRLNPC5evIi4uDhERERUmPc///wDf39/+Pr6IiAgAHZ2dnjvvfeeZfmIiOgBbEwM\n",
              "sGFsa/TxawCVWuC9bWcwc8fZWtOA9uLNPIxedQwlSjW6NLfFJ729+LRYIqrVKt2lZU3HLi2JiJ6c\n",
              "EAKL91/Bl39cBACEulph0csBMKun+5gpa64b2YXot/gQbuYWoUWj+lg7uhUMdHlrJhHVbnyiLBFR\n",
              "HSaTyTCpowuWDAmo0IA2UUsb0Gbll2DY8qO4mVsEVxtjLB/ekoGeiOoEhnoiIkJ3L3tsGh8MezMD\n",
              "XL2Vj97fHcShK9rVgLawRIWRq47hyq182JsZYNXIIJgb8mmxRFQ3MNQTEREAwMvBDL9M+v8GtMOW\n",
              "x2Dd0eTHT1gDKFVqTF53AieTs2FqoMCqkUFoYF5P6rKIiJ4bhnoiItKwMS1rQBvm2wBKtcC7207j\n",
              "419rdgNaIcrq3HshA/oKHayIDISbrYnUZRERPVcM9UREVIGBrhzzB/nhzX+7gIw6mIiRq2KRW1Qz\n",
              "n0D71f8u4ufY69CRAYteDkBLZwupSyIieu4Y6omI6D4ymQyvdnbF968EwEBXB39fuoXwxYeQdKdm\n",
              "NaBdefAavou+AgCY3dcbL3jYSlwREZE0GOqJiOihenjbY/P4ENiZGuByxl30/u4gDl+5I3VZAIDf\n",
              "4tPw8c5zAICpL7hhUJDTY6YgIqq9GOqJiOiRvBzMsGNyG/g6miG7oBRDlx/FhhhpG9AeunIbb2yM\n",
              "gxDA0NaN8Gonl8dPRERUizHUExHRY9mYGmDjuGD08rGHUi0wfetpzPr1HFTq5//8wnOpuRi3+jhK\n",
              "VGr08LLDzDBPPi2WiOo8hnoiInoiBrpyLBzsjze6lDWgXXHwGkatOvZcG9CmZBZgeFQM8oqVaNXY\n",
              "At9E+EGuw0BPRMRQT0RET0wmk+H1Lq747uWyBrT7Lz6/BrR37hZj2IoY3MorRjM7E/wwjE+LJSIq\n",
              "x1BPRESV9qKPPTaNC4GtqT4uZ9xFn+8O4ujV6mtAm1+sxMiVx3Dtdj4czOth1cggmNXTrbbPIyLS\n",
              "Ngz1RET0VLwdzbBjclv4OJohq6AUQ5YfxcZjVd+AtlSlxoS1J3Dqeg7qG+pi9agg2JoaVPnnEBFp\n",
              "M4Z6IiJ6aramBtg4Nhgv+tijVCUwbctpfLqz6hrQqtUC0zbH4+9Lt1BPV44VkYFoam1cJfMmIqpN\n",
              "GOqJiOiZ1NOTY9Fgf0zp4goAWPbPNYxedQx5VdCA9vPdF7D15A3IdWRYPCQA/k71n3meRES1EUM9\n",
              "ERE9M5lMhild3LDoZX/oK3QQffEW+n1/CMl3Cp56nssOXMXSv68CAD7v54OO7jZVVS4RUa3DUE9E\n",
              "RFWml08D/DwuGDYm+riUfhd9Fh9EzLXMSs/nl7gb+PS38wCAad2boX8Lx6oulYioVmGoJyKiKuXb\n",
              "0Bw7JreFl4MpMvNL8MqyI/g5NuWJpz+QcAtvbToFABjRxhnj2zeprlKJiGoNhnoiIqpydmYG2DQu\n",
              "BD297VCqEnhnczxm7zr/2Aa0p6/nYPxPx1GqEnjJtwE+eNGDT4slInoCDPVERFQtyhrQBuC1zmUN\n",
              "aH/4+yrGro59aAPaxNv5iIyKQX6JCm1cLPHVAB/o8GmxRERPhKGeiIiqjY6ODFNfcMOCwWUNaPde\n",
              "yED/7w8jJbNiA9qMvCIMWxGDO/kl8GxgiiVDWkBfwafFEhE9KYZ6IiKqdmG+DbBxXDCsTfRxMT0P\n",
              "vb87iGOJZQ1o84pKMSLqGJIzC9DQoh6iRgTCxIBPiyUiqgyGeiIiei78Gppjx+Q28GxQ1oD25R+P\n",
              "YENMMsavOY6zqbmwNNLDTyNbwcaET4slIqoshnoiInpu7M3qYdP4YPTwKmtAO33raRy8fAeGenJE\n",
              "jQiEs5WR1CUSEWklhnoiInquDPUU+O7lALzayQUAoNCRYcmQFvBxNJe2MCIiLaaQugAiIqp7dHRk\n",
              "eLOrOzq428BAVweeDcykLomISKsx1BMRkWRaNKovdQlERLUCb78hIiIiItJyDPVERERERFqOoZ6I\n",
              "iIiISMsx1BMRERERablKh/qEhASEhITAzc0NgYGBOHv27APHO336NDp06IDmzZujefPm2Lp1KwBg\n",
              "//79qFevHvz8/DSvwsJCzXTLly+Hq6srmjZtijFjxqC0tPQpF42IiIiIqG6odKgfN24cxo4di0uX\n",
              "LmHatGmIjIy8b5yCggL07t0bn376Kc6fP48zZ84gNDRUM9zd3R1xcXGaV7169QAA165dwwcffIAD\n",
              "Bw7g8uXLSE9Pxw8//PD0S0dEREREVAdUKtRnZGQgNjYWQ4YMAQD069cPKSkpuHz5coXx1q1bh9at\n",
              "W6Nt27YAALlcDmtr68fOf/PmzQgLC4OdnR1kMhnGjx+P9evXP3T84uJi5ObmVnipVKrKLBIRERER\n",
              "kdarVKhPSUmBvb09FIqy7u1lMhmcnJyQnJxcYbxz585BX18fvXr1gp+fH4YNG4Zbt25phl+5cgUB\n",
              "AQEIDAzE4sWLNe8nJyejUaNGmn87OzvfN+97zZkzB2ZmZhVeMTExlVkkIiIiIiKtVy0NZZVKJfbs\n",
              "2YOlS5fi5MmTcHBwwIQJEwAAAQEBuH79Ok6cOIFt27ZhyZIl+Pnnn5/qc2bMmIGcnJwKr6CgoKpc\n",
              "FCIiIiKiGq9Sob5hw4ZIS0uDUqkEAAghkJycDCcnpwrjOTk5oWPHjnBwcIBMJsOQIUNw5MgRAICp\n",
              "qSnMzMoeB+7o6IjBgwfjwIEDmumSkpI080lMTLxv3vfS19eHqalphZdcLq/MIhERERERab1KhXob\n",
              "GxsEBARgzZo1AIAtW7bA0dERLi4uFcYbOHAgjh07htzcXADArl274OvrCwBIS0uDWq0GAOTl5WHn\n",
              "zp3w9/cHUHaP/o4dO3Dz5k0IIbBkyRIMGjTo2ZaQiIiIiKiWkwkhRGUmuHjxIiIjI3Hnzh2Ympoi\n",
              "KioK3t7eGD16NMLCwhAWFgYA+Omnn/D5559DR0cHDg4O+OGHH9CwYUMsWrQI33//PRQKBZRKJQYM\n",
              "GICPPvoIMpkMAPDjjz9i7ty5AIAOHTpgyZIl0NXVfeL6wsPD4ezsXJlFemoqlQoxMTEICgriFQIt\n",
              "xXWo3bj+tB/XofbjOtRuUq2/Ro0a4fXXX39un1cXVDrU0//Lzc2FmZkZcnJyYGpqKnU59BS4DrUb\n",
              "15/24zrUflyH2o3rr/bgE2WJiIiIiLQcQz0RERERkZZjqCciIiIi0nIM9c9AX18fH330EfT19aUu\n",
              "hZ4S16F24/rTflyH2o/rULtx/dUebChLRERERKTleKaeiIiIiEjLMdQTEREREWk5hnoiIiIiIi3H\n",
              "UE9EREREpOUY6omIiIiItFytC/U7d+5Ehw4dHjveypUr0adPn0eOo1ar8eqrr6Jp06ZwcXHBokWL\n",
              "HjtfmUyG7OzsJyv2GcycORNTpkwBAOzYsQNvvPFGlS77b7/9hhYtWkBfX1/zOc/TzJkzUVRU9Fw+\n",
              "Ky4uDhs2bHiicffv3w8/P79n/syqXFcLFiyAl5cXvL294ePjgzVr1miGdejQAdu3b3+2YgG0bNkS\n",
              "+/fvv+/97du3o2PHjli5ciUA4MMPP8TatWufeL6jR49GdHT0M9d3r7feegszZ8585Djffvstbt68\n",
              "+UTze9rvsCrX8XfffQdvb2/4+fnBy8sLCxYseOB41fH7jI2Nhaen53PbHh/maZatKtdBuYyMDNja\n",
              "2j50/HvrdHZ2Rlxc3BPNt1xiYiLMzc0fWfuZM2fg7OwMAJg7dy4aN278wPGedPkf5N5jTHVITEzE\n",
              "kiVLnnhcc3PzBw6rynU8c+ZMWFtbw8/PD35+fnjllVeeqL7/ioyMxLfffvtU096rf//+mn3rf731\n",
              "1ltwdnbG9u3bsWTJEnz55ZfP/Hn/tX//fuzevfuJxq3MNlQTPM22+SBWVlZITEx84LB7j5vVcax7\n",
              "EEW1f4IWW7NmDc6dO4dLly4hJycH/v7+6NixIzw9PaUurYKwsDCEhYVh586dVTZPV1dXrFixAps2\n",
              "bcLdu3erbL5P6uOPP8aUKVNgYGBQ7Z8VFxeH7du3Y9CgQdX+WdXB09MTBw8ehJmZGVJSUuDv74/g\n",
              "4GA0bdr0meetVCqhUDx8N7F9+3ZkZmZq/j1r1qxKTb9s2bJnrvFpfPvtt+jQoQPs7Owk+fzKGjJk\n",
              "CCZNmgQAyM3NhZeXF0JDQ+Hv71/tn92yZUucO3cORUVFz2V7rG6P+00+zrhx49CrVy/cuXOnCqt6\n",
              "OkqlEtOnT8f06dOlLuWB1Go1AEBH5/7zh+Whfvz48c+7rEd65ZVXqiSQP0/P8h0+anvYv38/srOz\n",
              "0b1796eeP5V5Xsc6Sc/Uy2QyfPbZZ2jVqpXmL845c+agZcuWcHV1rXBm8KeffoKPjw98fHzw4osv\n",
              "4saNGwCA0tJSTJw4Ea6urggKCrrvL6GffvoJrVq1QkBAANq1a4dTp049cX0bN27EmDFjIJfLYWFh\n",
              "gYiICKxfv/6x03311Vfw9/eHm5tbhbOWr7zyClq2bAkfHx/IZDJMnz4drVq1gpOTE/z8/GBnZwdD\n",
              "Q0OYmppqlv2rr75CkyZNUK9ePZiYmKBTp06aZVepVJg4cSJsbW1Rv359REdHIzs7G15eXpg4cSKc\n",
              "nJxQr149NGvWTLPsf/zxBz777DPs37//gd9XOTc3N/j6+lbq4Hf48GG0bdsWvr6+8PHxwS+//ALg\n",
              "/r+I7/3r9dNPP0Xz5s01Z0aSkpI0O6jQ0FD4+fkhIyMDGRkZCA8Ph7e3N7y8vLB06VLN/JydnfH+\n",
              "++8jJCQEDRs2xJIlSxAVFYXg4GA4Ozs/8ix8RkYGPvzwQ0RHR8PPz0/z2X/88QcCAgI06+r1119H\n",
              "q1atMGjQIOTk5GDOnDnw9/eHoaEhRowYoZnGzc0N9erVg6GhIVq3bo0bN25g//798PT0hJeXF/T1\n",
              "9VGvXr37fkf//Z3GxsZi+vTpmDVrFqKjozFw4EBkZWUBKDsLNHbsWHTp0gWNGzfG2rVrcfHiRXTo\n",
              "0AHt27cHAKSkpGjmvXfvXgQGBsLFxQVvvvkmhBBwdnbGxIkTUb9+fRgYGMDOzg7vv/++5vscMmQI\n",
              "DA0NYWVlheHDhyM5ORkTJkyAn58fevTogaCgIDg5OWHdunW4ePEiPvzwQyxbtgzdu3eHnZ0dRo0a\n",
              "BTs7O7Rr1w4BAQGa36+Xlxd+/fVXzXZraGgINzc3vPnmm7Czs8O4cePQuXNnuLm5ITw8HCUlJQDK\n",
              "tvPp06cjKCgIfn5+Fb6PtLQ0dOvWDR4eHujSpQuuX7/+yN/prFmzkJqaioiICPj5+SEuLg4ymQwt\n",
              "WrSAoaEh9PT0MGjQIM2+KCYmBmfOnAEAbNmyBU5OTmjWrBm8vLw0266Pjw9Gjx6NcePGwdXVFaam\n",
              "ppg5cyZOnjyJpk2bYvz48Y/dFx07dgydOnVCy5Yt4e/vj02bNgEoCz+NGjXCBx98gICAAPj6+qKg\n",
              "oABfffWV5sx9eX1A2UF62LBhaNKkCYyNjeHm5qbZHn/66Sfo6+tX2Ce0bNkSe/bswcSJE2FpaYl6\n",
              "9eph5MiRiI2NRVJSEsLCwjTbo4eHB0xNTfHWW2/B3Nwc+vr6cHZ21myPv/zyC3R1dWFrawsHBwfI\n",
              "5XJ89tlnT7Q93ns8qF+/Pho1agR7e3sYGxvDxcUFcXFxUCqVmn2bgYEBXF1d8eKLLyIpKQndunVD\n",
              "ixYtYGFhARMTE7Rs2VKzT/T09MSoUaPg5OSE5s2bP9U6MDc3R69evXDw4EHs3LkTmZmZeOONNx65\n",
              "DlJTU9GjRw/4+PigcePG+PTTT/HTTz/B09MTBgYGCA0N1dQQHByMF198ER06dMDdu3cxc+ZMzVWS\n",
              "PXv2YObMmXB2doZCocDYsWORlpaGRYsWYcqUKZqHBpWWlkImk8HKygrGxsZ45ZVXKlyROnToEPz8\n",
              "/ODt7Y2RI0fC19cXO3fuxOjRo+Hl5QVfX1+MHDlSM35aWhpeeukleHh4oFOnTpo/4E+fPo22bdsi\n",
              "ICAAHh4e+PTTTzXTzJw5E/369UO3bt3g5eWFtLS0B67jF154AefOnYO9vT3Mzc3h6uqKpUuXIiQk\n",
              "BD4+PmjSpAlcXFzg4+ODkSNHav5AyM/Ph5ubG8zMzBAYGIj169drfsf+/v549dVX0apVK3h5eUGh\n",
              "UGDcuHFo0aIF3nnnHaSnpz/wt3ev48ePIygoCAEBAejevTuSkpI0yzVw4EC89NJLcHNzQ69evXDm\n",
              "zBnIZDJYWFigfv36FY758fHx8PDwgIGBAerXr4/Q0FCcO3cOeXl5GDhwIExMTFCvXj1YWFhgxowZ\n",
              "AIALFy4gJCQEnp6e6NOnD3JzcwEA58+fR4cOHWBiYgIDAwM0a9ZMs5/7559/0KhRI5ibm2P8+PFY\n",
              "uXIlunTpguDgYBgaGsLQ0BDNmzfHr7/+CgD46KOPUK9ePdja2sLR0RHGxsYP/B7i4uKwZMkSrF27\n",
              "Fn5+fpoTNg/LYvdKTU1FYGAgVqxYoZnmQfu+8loHDx4Mb29vtGzZElevXn3k+snLy8OYMWMQFBQE\n",
              "Hx8fjB07VnOc6NChA9588020a9cOTk5O+OCDD7Br1y60bdsWzs7OmDdvXoV5rV27Fi1atICLi0uF\n",
              "Kx0JCQl48cUXERgYCB8fnwp3aezYsQPNmzeHj48P3nnnnQrzK9++vLy8MGLECCiVSs2we6/4RkZG\n",
              "PvRYl5eXh4iICDRr1gyhoaEYN24cIiMjH/mdVCAkBEB8++23Qggh9uzZI4yMjERUVJQQQoiff/5Z\n",
              "tGzZUgghxOnTp4Wtra24fv26EEKITz/9VHTv3l0IIcSiRYtEp06dRHFxsSguLhYdOnQQ7du3F0II\n",
              "8c8//4gePXqIoqIiIYQQf//9t/Dw8BBCCBEVFSV69+79yPq8vLzEoUOHNP/+7rvvxNChQx+7TO+/\n",
              "/74QQogrV66I+vXri2vXrgkhhMjIyKgwXkhIiBBCiPHjxwuFQqFZ9hUrVoiWLVuKtWvXivDwcM2y\n",
              "r169Wri5uYnu3buLjz76SHTo0EF06tRJ/Pjjj+Kll14SHTp0EL6+vkIul4ulS5eKHj16iAULFoiu\n",
              "XbuKv//+W7i6uorWrVuLxYsXi969e4uEhARhZ2en+X4e5KOPPhKvv/76I5dZCCHu3LkjbGxsxN9/\n",
              "/y2EEEKlUok7d+4IIYRo1KiROHnypGbcFi1aiOjoaJGZmSnMzMxEQUGBEEKI/Px8UVhYqPl+srKy\n",
              "NNMMHDhQTJ8+XQghRHp6unB0dBSHDx/WzH/KlClCCCESEhKEgYGB+OSTT4QQQsTExAgrK6tH1v7f\n",
              "30J6erqwsLAQ8fHxmlpsbW2FWq0WX331ldDR0RFff/21CAgIEJMmTRItW7YUV65cET4+PsLGxkZc\n",
              "v35dJCQkCGNjY9G1a1cRHR0tZDKZaNmypSguLhYLFy4U9evXf+Tv1MbGRsyaNUtT26xZs8TEiROF\n",
              "EEIMHz5ctG7dWhQWFori4mLRtGlT0adPH1FSUiJ+/fVXoaOjI2JiYoQQQrRv31506tRJlJSUiPz8\n",
              "fNGiRQuxdu1a0ahRI2Fvby+io6PFrVu3RMOGDUVQUJD4+eefRaNGjYShoaH43//+J4QQIjIyUgAQ\n",
              "0dHRQgghGjRoIDp27CiEECIsLEzI5XLNb7dbt25CJpOJ/fv3i48++kg0atRIXLp0SajVahERESHe\n",
              "fvttYWtrK7755hvRpUsX0a5dO7Fp0ybRpUsXYWtrK4KCgkR+fr5QKpUiJCRErFu3TgghxGeffSZm\n",
              "zZqlWUf3fh/9+/fXbHPXr18XVlZW4qOPPnrkOv/vbxKACAgIECqVSvMdjh8/XgghhIeHh3BxcRFf\n",
              "f/218Pf316zjMWPGiH79+onu3bsLtVotgoODhYuLiyguLhahoaHCyspKtGvXThQUFAg7OzsRHBz8\n",
              "0H1Rz549hZ+fn0hNTRVCCM06uX79urh27ZoAIN5++23h4eEhFAqF0NPTE/v27RNCCPHFF1+I/v37\n",
              "CyGEiI6OFgDE1q1bhY2NjZg5c6Zwd3cXSqVS7Nq1S/To0UM4OTmJkydPampo0aKFeO2110RoaKgw\n",
              "MzMT2dnZokOHDqJt27aisLBQM8+srCxNLSEhIWL69Oni999/F02aNBGOjo7it99+ExYWFqJBgwZi\n",
              "ypQpYsWKFQKA0NfXf6Ltsfx4sHLlSuHu7q45HmRmZooNGzYId3d3IZfLxdq1a4Wtra2YM2eO6Nq1\n",
              "q+Z4cPv2bc3xYMyYMeKTTz7R7BNlMplYuHDhI48HT7IOXFxcREFBgRgxYoSQy+WPXAd79uwRjRo1\n",
              "Et27dxfu7u4iIyNDGBkZiY4dO4qioiIREhIivvrqK+Hh4SFOnDghrK2tRceOHcXFixcFAOHu7i7a\n",
              "t28vDh8+LMzMzIS7u7uIj48XAERwcLBo1KiREEKI119/Xejp6Qkhyo6HAMTcuXNFcXGxCAoKEjo6\n",
              "OqK0tFQUFxcLR0dHTc379u0TAET37t3FhAkThEqlEkL8/3GqfPu9ffu2EEKIiIgIMXv2bCGEELm5\n",
              "uZrvsaCgQPj5+Wn2xx999JGwt7cXN2/efOg6FkJo9qXl+45169YJXV1dsXv3bnH69GlhYWEhrKys\n",
              "RF5ennjzzTeFQqEQWVlZwtXVVTRp0kQUFxeL9PR0YWxsLIKDg4UQQuzcuVMYGBiIK1euaNaZo6Oj\n",
              "EEKIqVOnCiMjowf+9sqFh4cLQ0ND4ePjIzp27CimT58uevbsqVmuxo0bi8zMTKFWq0W7du1Eq1at\n",
              "BADx7rvvCl9fX7Fs2TJRv3590a9fP+Hm5ibq168vTp48KXr16iUGDBggmjdvLkaPHi1eeOEFMXv2\n",
              "bKFWq8WoUaPEzJkzhRBCtGzZUixbtkwIIUR8fLzQ09MTy5YtE66uriIoKEizn4uPjxdWVlaiUaNG\n",
              "ok+fPuKDDz4QkyZNEs7OzuK9994Tpqam4vjx40KtVotp06aJwYMHC1tbW7Ft2zbh6ekp2rZtK7p1\n",
              "6yaGDRum+R09yH+P/4/KYuXHqvj4eOHh4SH++OMPIcTjc5ipqam4evWqEEKIadOmibFjxz5yHY0Z\n",
              "M0asWrVKCCE0398XX3whhCg73vXr108olUqRmZkpTE1NxaRJk4RarRbXr18XRkZGmlzRqFEjMXTo\n",
              "UKFWqzXb+sGDB4VSqRQtWrQQ58+fF0KU5RJvb28RExOjyQZnz54VQgixdOlSAUBcu3ZNs339+eef\n",
              "Qggh/vjjjwrHzfbt24tt27YJIcqO4Q871r311lti+PDhQq1Wi9zcXOHl5SWGDx/+yO/kXpLfUx8R\n",
              "EQGg7Oxtfn6+5haIoKAgJCQkAACio6PRvXt3ODg4AAAmTpyIffv2QaVSYe/evRg2bBj09PSgp6dX\n",
              "4SzDL7/8glOnTqFVq1bw8/PDq6++iszMTBQWFlbrMo0ePRoA0KRJE7Rr1w5///03AGDdunVo2bIl\n",
              "vLy8AEBTR3h4OJRKJU6ePIlffvkFbdq0QUJCArZv3479+/ejpKQEL774Ir744gvI5XLs27cParUa\n",
              "KSkpGDZsGBQKBXR0dDTL7uLigsuXL+PUqVNYtGgR9u/fj1dffRXp6elISEjAnDlzEB0djf79+0NH\n",
              "RwfJycnPvMyHDx+Gu7s7QkNDAZRdbrWwsHjkNKampnB1dcWQIUOwdOlSZGZmPvTy/p49ezBu3DgA\n",
              "gI2NDcLDw7Fnzx7N8PLfkYuLCwwMDNC/f38AZb+rzMzMSrVzOHr0KLy9veHt7a15r6CgADdu3IC7\n",
              "uzvUajXmz5+PL774Am+//TYSEhKwe/duXLlyBaWlpXjxxRfRv39/GBsbIzo6GiqVCkZGRpg8eTL0\n",
              "9PQQGhoKXV1dzbwf9DvNysrC6tWrNVcR1q9fj2vXrmmm6d27NwwMDKCnpwdvb29069YNFy5cwIQJ\n",
              "E+Dj41Ph7MmwYcOgq6sLQ0NDDBkyBHv27IEQAunp6ZgyZQq6dOmCwsJCJCQk4OLFiygtLYWpqSle\n",
              "eOEFAMDZs2ehq6uL0aNHw8fHB6mpqZozg/Xr10eTJk0qfH+WlpaaKwbdu3dHTk4OevTogb/++gvL\n",
              "ly9HZmYmfvvtNwwZMgQymQwKhQLDhw8HAPTt2xeGhoaQy+UICgrClStXAJTd5rNmzRrNFZ17v4+9\n",
              "e/dqtjkHBwfNmeXKeu+996Cjo4PQ0FCo1WrN9mliYoJr165h7969GDJkCHr06AEHBwds374d586d\n",
              "wx9//AE/Pz+cPn0ajo6O0NPTg46ODgYOHAiZTIZ69erB2NgYFy5ceOi+KDMzE1evXkWPHj3g5+eH\n",
              "Ll26AAAuXrwIADAwMMAXX3yBs2fP4pdffoFarUaDBg0AVNxXAmVXWvT09ODu7o6PPvoIN2/exI0b\n",
              "NxAdHY1Tp04hLS0NERERmhrUajVOnDiBESNGwNXVFSNHjoSzszOUSuUDt0cDAwNcuHAB48aNQ3Bw\n",
              "MJKSkhAeHo5169bBx8cHurq6iIiIwPDhw6Gnpwd9ff0n3h4jIiKwc+dOTJ48WXM8qF+/Plq3bo3r\n",
              "16/DxcUFd+7cQffu3dGjRw9cuXJFczz4+uuv8d577+HixYvYvXs3zpw5o9knNmnSBMnJyY88Hjxq\n",
              "HQghoKOjgzVr1qBevXqaM+YdO3Z86Dro3LkzAGjWQWFhIYyMjBAfH49WrVrhxo0bmDVrFjIzMzF/\n",
              "/nzY2dlpvjOFQqE5e9u6dWvo6ekhODgYJiYm0NXVxZw5cx74/e3duxcANPOZPHkyZDIZbt68iQsX\n",
              "LlSouWPHjmjatCkOHz6Mt956S3OLjLW1tWZ+3bt3h6WlJYCyKwnl22NhYSFGjx4Nb29vtG7dGklJ\n",
              "SRWuxvbs2RO2trYPXccANPvS8mO+hYUFlEolunXrhujoaLz00kto0KAB4uLiMHToUCiVSoSEhMDU\n",
              "1BQffvgh9PT0EBsbC6VSifj4ePj5+WHEiBEoLS1F165d0bNnT8hkMiiVShQWFqJp06bIz89/YE3l\n",
              "SktLYW1tDZlMhpSUFHz55Ze4fPmyZnjXrl1Rv359yGQyBAQEaO7lHzt2LPz9/ZGXl4d27dohPT0d\n",
              "LVq0gI+PD/z8/DBq1Cjcvn0bqamp2Lp1Ky5cuICZM2fCzs4Ou3fvxo0bN5Cbm4u4uDjNWVlvb2+0\n",
              "bdsWN2/eRFFRERISEjT7OW9vb81+LiIiAjo6OlAoFJor28HBwVCr1ejRowfWr1+PX3/9FZmZmdi+\n",
              "fTsGDBgAuVyOIUOGYMyYMY/8Pv7rUVkMKDtWhIWFYd26dejatSuAx+ew4OBgTZuQe39jD7N9+3Z8\n",
              "+eWX8PPzg7+/Pw4cOFBhHfXv3x9yuVxzbOrVqxdkMhkcHBxgbW1d4f73UaNGaa5slWeKixcv4uzZ\n",
              "sxg0aBD8/PwQEhKCvLw8nDt3DkeOHIGPjw88PDw00+vp6QGAZvsq32907dr1vmPjvR52rNu7dy9G\n",
              "jBgBmUwGExMTzfbypCS/p778oCGXy+/7972XLu4lk8keOr97hwkhMHz4cMyePfupanNyckJSUhKC\n",
              "g4MBlF2CdXJyqvR8ZDIZ/vnnHyxYsACHDx+GjY0NZDIZSktLAUAz/zZt2mDr1q2IiYmBUqmEEAIv\n",
              "vPACDAwMNI1lsrOzH7qzLF92AwMDzbK//PLL6NWrF+Li4vDdd9/h4MGD6Nq1K7Zv314lDSifhEKh\n",
              "0Gz0ADQN7uRyOY4cOYJDhw5h//79aN26NdavX6/5w+BR/vsbuDd8yOVyzb9lMplmx/4syj+v/Hfq\n",
              "4+ODnTt3YurUqZp1VX5LxoPWVfl05f9/7/fxoN9pYGAgPvvsM6Smpj5wXf13ee/cuYNevXphxYoV\n",
              "+Pzzzx+5vPd+d0eOHIGBgQGmTJkCS0tLvP/++/j+++/v246srKywbNkyBAQEwNLS8pHtN8p3cuV1\n",
              "Dho0CHPnzsXNmzcRGxuLHTt2VFj+e2v673KVL4cQAgsXLtQcKB7lUfuHRymvu3xdld96Vv4bunTp\n",
              "UoWGmkIIrF69Gm3atMGJEycwYMAA9O7dWzP83j/cZDIZQkJCHvm9eXp64tChQ/e9n5iYqPkjCoDm\n",
              "1pOdO3fC3d39kfvKe+sv/539/PPPWLduHVq0aAEA8PLygpGREXR0dDTb4/z583HixAkcOHDgvvnd\n",
              "W0v5b7mqtsfy8coD5r3HA5VK9cDfh0wmg1qtRnR0NEJDQ9G/f3/k5ORg3759mrqMjY2f6HjwsHUQ\n",
              "Hx8PIYTmAJuTk4OSkhJ07twZe/fufeQ6MDAw0Cy3TCZDt27dsHbtWiiVSri4uGDbtm3o1q0bgoKC\n",
              "Kkz33++0/N/lQeBRnvT7fty28rDt8d1334WVlRVOnjwJhUKB8PDwCg2pH3ZLx73z/O8x/0H33ZfX\n",
              "V/7fNm3aYNeuXRX2C46OjnBwcMD+/fvx9ttvQ1dXF7Nnz0ZiYiL8/Pw0t/88aP7/pa+vj3fffRdj\n",
              "x44FAHTr1k3z/w/6Ph72/TxI+TIIIbBnzx6YmJjgzz//xObNmx96y+CTZJ3/1qBWqyvsdw0MDPDV\n",
              "V18hPj6+Qn3GxsZPva98WH0NGjRAcXEx9u3bB19fXwCPz2GV+Q7L57dlyxa4ubk90fwqu46EELCw\n",
              "sHhgI9odO3bcN/6jPGr4k9ZV2XUk+Zn6J9GxY0fs3r0bqampAIAlS5agc+fOkMvl6NKlC9asWYPS\n",
              "0lKUlJQgKipKM11YWBjWrFmjOROtVqsRGxv7xJ87YMAA/Pjjj1CpVMjMzMTGjRuf6K+m8hoSExNx\n",
              "4MABhIaGIisrCyYmJrC0tNTcO1Wu/C/HgQMHYuHChZp7yvr06YNTp07h999/R2pqKkpLS/Hhhx+i\n",
              "c+fO0NHRQcOGDbFmzRoolUqo1eoHLnv5Dq38zN6ePXsq3G8dExPzxN/Ho4SEhCAhIUETAtRqteb+\n",
              "SxcXFxw9elTzeeVnH/Py8pCeno7Q0FB88MEHaNu2LU6ePAmg7OxoTk6OZv5dunTBjz/+CAC4desW\n",
              "tm7dqjmT/KxMTU0rfFbr1q1x+vTpCvfI2tvba85OAMDWrVuRmpqquaeuW7duuHr1Knbu3Kn5nb73\n",
              "3nua36mxsbHmd1paWlrhjNGDfqeBgYH45ptvUFxcDKDsSsHZs2cfWH9ubi6++eYb/PDDDw/8Tso/\n",
              "t7CwEOvWrUOXLl0gk8lga2uLuXPnIjMzE9u2bYOPjw+uX78OXV1dqFQqTXuL8vtii4qKYGpqCh8f\n",
              "H82ZwtLS0sfeA5mVlaU5E3PlyhVkZWUhKCgI69atgxACSqUSq1evfuQ8+vTpg2+++QYFBQX3fR9d\n",
              "unTR3LuZlpZ23473Qf67zoGy+z6FEJp1c+8fEAqFAitWrMDq1as167hPnz4YP348OnXqBLlcjpCQ\n",
              "EPzwww8oLS2FWq3Gvn37NNM3aNAAhw8ffui+yMLCAteuXatw9SkuLk6zr7j3j6DMzEwUFRXBx8fn\n",
              "gcuWmJgIlUqFhIQEfPLJJ7C1tUWDBg3QoUMHrFmzBo6Ojjh69CjUajVWrVqFixcvokWLFli5ciWu\n",
              "X7+OVq1aISsrC2ZmZprtUUdH56HbI1C2PbzyyiuIj4/XnKxYs2bNffu6JxEWFobly5dr/p2dnV1h\n",
              "+cuPBxkZGQDKjgdubm6wtrZGjx49sGrVKkRFRT10n/g068DU1BSmpqZITExEYmIi3nzzTRgYGGjO\n",
              "jD9oHZRvP3/++afm/mVzc3P8+eefSE5O1tzv3b17d/Tt2xc9e/bUbKtKpRJz584FULbPLCkpweHD\n",
              "hzWdFvzwww8P/Nzys4QPOh66u7ujtLQUf/31FwDgr7/+wuXLlxESEoKvvvpKc8/6rVu3Hr5y/pWV\n",
              "lQVHR0coFApcvHgRf/7552On+S8TE5MK/y5v2P/nn3+iY8eO+PXXX3Hjxg34+flh7dq1UCgU+PHH\n",
              "H9GsWTNMmzYNubm5aNmyJZKTkzXta8LCwhAVFaU5cyuEqNQxPzQ0FEuWLEFmZiYSEhIQFxf32D+g\n",
              "gP8/5mdmZuLAgQOwtbXFyZMnER8fj1OnTiEqKgrW1tZwcHBAeHg43n33XVhaWmLYsGF47733cOjQ\n",
              "IZiamsLf31+zLzx79iz++ecfTVs7Nzc3zX7uzJkzj93P3bvfTU9P1+x3t2zZApVKBSGEZn4P89/9\n",
              "5KOyGFB25fbPP//E9u3bNffgP2sO+68+ffpUOHGVlZVV4Ux9ZZSfgCs/Bnbu3Bnu7u4wNTWtsO1c\n",
              "vnwZmZmZCA4ORnx8PC5cuAAAWLFihWYf16xZMyiVSs12v2fPnsdedXiQTp06YdWqVRBC4O7du/j5\n",
              "558rNb1WhHovLy98+eWX6N69O3x8fHDgwAHNAWXMmDFwdXWFh4cH2rZtW+FMWmhoKL744gv07dsX\n",
              "vr6+8PT0fOKuCwFg6NChaNasGVxdXREYGIipU6dWuCXjYVQqFfz9/dG1a1csWLAAzs7O6N69O9zd\n",
              "3SvcolKuPAiXX+p57733AJQ1rJ0wYQL09fXRtGlTzV/25cvu5eUFV1dXvPfeezhw4MADl/31119H\n",
              "amqqpoeUdevWYeXKlYiOjkbz5s0f2sp/7969cHR0xLx587B8+XI4Ojo+cidSv359bNu2DdOnT4eP\n",
              "jw8CAgJw8OBBAGWNYb/77jv4+vpixYoVmt6DcnJyNI1ffXx8UFpaqrkN480338QLL7yguZy4YMEC\n",
              "nD9/Ht7e3ujYsSPee+89tGrV6rHr4kl07twZxcXF8PHxwfjx42FtbY21a9di2LBhmuC0cuXKCn8x\n",
              "6+rqYt26dVCpVCguLoazszN+/vlnmJubo2nTpjAwMMD27ds168rS0lLzOy2/Habcg36nBgYGCAwM\n",
              "xCeffILo6Gi0bt36od1vnTp1CoWFhZg2bRr8/Pxw9OjRCuM2b94cbdq0gbe3N0JDQzWXu8PDw7Fw\n",
              "4ULY29ujuLgYc+bM0fTo8fnnn+ONN96At7c3hBCwtbXFxIkT4ePjg7t372LVqlXw8vLCjRs3YGBg\n",
              "gI8++uihrfvnz5+P/v374/PPP0dmZiacnJzQr18/ODs7IyYmBjNmzEDTpk0rnOH/r2nTpiEwMBCt\n",
              "WrWCj49Phe9j/vz5OHLkiOa77dSp06NXOIDXXnsNY8aM0TSUBcqCu7e3t+aS+sCBAytMExoaiq1b\n",
              "t0Imk6Fdu3Y4fPgwbt++jatXr8LHxwdr166FpaUlPDw8EBcXV6GbQSsrKwwcOPCh+yJdXV389ttv\n",
              "mD17Nnx9feHh4YHp06drglZJSQk8PDzg5+eHMWPGVLg96r88PT2xZcsWGBoa4vPPP4dKpUKLFi2g\n",
              "VqvxxRdf4ObNm5g6dSoMDQ0xb948eHp6olevXmjYsCHc3d1hbm6uOTNdvj1aW1vjhRdeQM+ePaFW\n",
              "qzXbY/k2+N5776FHjx5YtmwZMjIyEBERgdOnTz/V2cChQ4dqrnj4+vqiZ8+eFf44KD8ejB8/Hqmp\n",
              "qThw4AA2b96MgoICfPvttzh//jyuXbv20H3i066DyvD09MTKlSuRmpqKFStWYP369ZDJZDA2Nsb4\n",
              "8eM1NaxYsQIZGRmYPHmy5lj2wgsvQC6Xw9DQELGxsRgxYgQ2b96MiIgI9OrVC3fv3n3oFePy2yla\n",
              "t2593/FQX18fGzZswGuvvQZvb29ERUXB3d0d7777LoqLizVdpr777ruPXb73338fUVFR8PHxwfTp\n",
              "059om/uv8ttQvby8EBYWBj09Pc2+5OWXX4aZmRlMTU0REhKCY8eOoV69egCA3bt3w9nZGXZ2dnjx\n",
              "xRcxYMAAJCcnw9fXF+PGjYONjQ0GDhyIHj164O7du5U65h8/fhxpaWlwcHCAr68v9PT0niiYqVQq\n",
              "bNu2DT/++CMWLFgAY2NjBAcHw87ODq1atcLff/+NGzduYNOmTfj2229x48YNmJqaol69eujQoQNe\n",
              "ffVVAMDq1avxww8/wMvLC++//z7atWsHuVyOX375Bfr6+pg3bx4MDAwwYMCAx37n5fvd119/XfOb\n",
              "adeuHXr37o3Y2Fi8/fbbMDc3f2hXoUDZLSJxcXGahrKPymLlTExMsHv3bhw6dAhvv/32M+ew//rm\n",
              "m29Qr149TQcFnTt3fmiXko9jbW2NFi1aICgoCJMnT0ZISAgUCgV27tyJrVu3wsfHR9PIvrCwENbW\n",
              "1lixYoVmWRISEjS3p+np6WHjxo2a4+a6des0Vysq48MPP0ReXh6aN2+O7t27w9fX95Hr6L9kQghR\n",
              "6U8lIq1W3ttUVfRp/rTy8vJgYmKC0tJSvPLKK2jRogWmTZsmWT307MrXKVB27+uMGTNw/vx5iauq\n",
              "uTZv3ozvv//+oWf8q9q96+fYsWMICwvDlStXYGho+Fw+vzaSyWTIysqqVPCSUvlvQAiBN998E4WF\n",
              "hfj++++lLov+VVpaqrnVMD8/H926dcOrr776xPfWS35PPRHVTV26dEFxcTGKiorQtm1bvPbaa1KX\n",
              "RM9o4cKF2LhxI1QqFUxNTSv1ILK6pnv37rh06RK2bdv23D5zy5Yt+OabbyCEgEKhwE8//cRAX8cM\n",
              "GzYMiYmJKCoqgqen5xM/AIyej6ysLPTo0QMqlQpFRUXo3bv3fVeNH6XOn6nftWvXAy83zpgx46F/\n",
              "GY0fPx5Hjhy57/3Dhw9rLhFqg7q07BkZGQ9sZPnCCy9Uy5P4nsS9PR3ca/jw4XjjjTcqvPc062rW\n",
              "rFnYunXrfe9v2bKlSh5MVdPVxOV/1PYTHR3N7fE5bI9VvQ5q4u/sv55m/1FVWrZseV8jQE9PT8n+\n",
              "4Fu3bh1GjRp13/tdunTR9OX+X89jO5Pqd1SZ49DzIuXvVdvV+VBPRERERKTttKKhLBERERERPRxD\n",
              "PRERERGRlmOoJyIiIiLScgz1RERERERajqGeiIiIiEjLMdQTEREREWk5hnoiIiIiIi33f4Y7v8iT\n",
              "JY/EAAAAAElFTkSuQmCC\n",
              "\">\n",
              "      </div>\n",
              "      <script type=\"text/javascript\">\n",
              "        (() => {\n",
              "          const chartElement = document.getElementById(\"chart-193f7dc7-ed86-460a-965d-76187c98780e\");\n",
              "          async function getCodeForChartHandler(event) {\n",
              "            const chartCodeResponse =  await google.colab.kernel.invokeFunction(\n",
              "                'getCodeForChart', [\"chart-193f7dc7-ed86-460a-965d-76187c98780e\"], {});\n",
              "            const responseJson = chartCodeResponse.data['application/json'];\n",
              "            await google.colab.notebook.addCell(responseJson.code, 'code');\n",
              "          }\n",
              "          chartElement.onclick = getCodeForChartHandler;\n",
              "        })();\n",
              "      </script>\n",
              "      <style>\n",
              "        .colab-quickchart-chart-with-code  {\n",
              "            display: block;\n",
              "            float: left;\n",
              "            border: 1px solid transparent;\n",
              "        }\n",
              "\n",
              "        .colab-quickchart-chart-with-code:hover {\n",
              "            cursor: pointer;\n",
              "            border: 1px solid #aaa;\n",
              "        }\n",
              "      </style>"
            ]
          },
          "metadata": {}
        },
        {
          "output_type": "display_data",
          "data": {
            "text/plain": [
              "from matplotlib import pyplot as plt\n",
              "all_model_results['recall'].plot(kind='line', figsize=(8, 4), title='recall')\n",
              "plt.gca().spines[['top', 'right']].set_visible(False)"
            ],
            "text/html": [
              "      <div class=\"colab-quickchart-chart-with-code\" id=\"chart-271ccb54-a245-43cb-8d55-2ee5c8320625\">\n",
              "        <img style=\"width: 180px;\" src=\"data:image/png;base64,iVBORw0KGgoAAAANSUhEUgAAAvUAAAFuCAYAAAABC+eQAAAAOXRFWHRTb2Z0d2FyZQBNYXRwbG90\n",
              "bGliIHZlcnNpb24zLjcuMSwgaHR0cHM6Ly9tYXRwbG90bGliLm9yZy/bCgiHAAAACXBIWXMAAA9h\n",
              "AAAPYQGoP6dpAAB8KUlEQVR4nO3dd3gUZeP18e9m0wgkoYbQAkIIEEIaJEAo0hRQBAQpKr2LHfUR\n",
              "u48NKyo2UJp0RBAU2yMIioL00EuooQcIJJCQstn7/YMf+xopEtok4Xyuay8lOzt7Zmd35uzsFJsx\n",
              "xiAiIiIiIgWWm9UBRERERETk6qjUi4iIiIgUcCr1IiIiIiIFnEq9iIiIiEgBp1IvIiIiIlLAqdSL\n",
              "iIiIiBRwKvUiIiIiIgWcSr2IiIiISAGnUi8iIiIiUsCp1IuIFBIvv/wyjRs3dv27WbNmPP/88xYm\n",
              "EhGRG0WlXkRERESkgFOpFxG5QbKysqyOICIihZRKvYjIddKsWTMeeughunfvTokSJXjkkUf44Ycf\n",
              "qF+/PiVKlKB69eqMGjUq12O2bNlC+/btCQwMxN/fnwYNGrBv3z4APvnkE8LCwvDz8yMwMJCePXty\n",
              "7NgxKyZNRETyGZV6EZHraMKECfTq1Yvjx49z1113cd999/HGG29w/PhxvvnmG9555x2mTp0KwJEj\n",
              "R2jSpAlhYWFs376d5ORkPvroI4oUKQJAYGAgc+bM4eTJkyxfvpzt27fz8MMPWzl5IiKST6jUi4hc\n",
              "R+3bt+eOO+7Azc2NMWPG8MADD9CyZUvc3NwICwtjyJAhTJgwAYDJkycTGBjIG2+8gZ+fH3a7nZiY\n",
              "GEqXLg1A586dCQkJwc3NjcqVKzN8+HD+97//WTl5IiKST7hbHUBEpDC75ZZbXP+fkJDAggUL+Oyz\n",
              "z1x/y8nJISgoCIDdu3dTo0aNi45rzpw5vPvuu+zYsYOMjAycTidpaWnk5ORgt9uv30SIiEi+py31\n",
              "IiLXkZvb/1/MBgYGMnz4cE6ePOm6nTp1ik2bNgFQpUoVEhISLjie/fv306VLFx5++GESExNJTU1l\n",
              "8uTJABhjrv+EiIhIvqZSLyJygzz66KN89NFHLFy4EIfDgcPhYOPGjfz+++8A9OrVi/379/PCCy9w\n",
              "6tQpcnJyWLVqFceOHeP06dM4nU5Kly6Nt7c3CQkJjBgxwuIpEhGR/EKlXkTkBunYsSOTJ0/mxRdf\n",
              "JCAggICAAAYMGOA6g03ZsmX5/fffWb16NbfccgulSpXi4YcfJiMjg5o1azJixAh69eqFr68vvXv3\n",
              "pkePHhZPkYiI5Bc2o99tRUREREQKNG2pFxEREREp4FTqRUREREQKOJV6EREREZECTqVeRERERKSA\n",
              "U6kXERERESngVOpFRERERAq4QlfqP/zwQ6sjiIiIiIjcUIWu1O/du9fqCCIiIiIiN1ShK/UiIiIi\n",
              "IjcblXoRERERkQJOpV5EREREpIBTqRcRERERKeBU6kVERERECjiVehERERGRAk6lXkRERESkgFOp\n",
              "FxEREREp4FTqRUREREQKOJV6EREREZECTqVeRERE5CbmdBqrI8g1oFIvIiIicpNauvMYd370B9uP\n",
              "nLI6ilwllXoRERGRm9CJtCyGzVzHlkOpfLl0j9Vx5Cqp1IuIiIjcZIwx/Gf2eg6nZlC1TFGeu7OW\n",
              "1ZHkKqnUi4iIiNxkpi5P5JfNR/Cw2xjVPQofT3erI8lVUqkXERERuYlsP3KKV+dvBuDpNjUJq+Bv\n",
              "cSK5FlTqRURERG4SGdk5PDJ9LZkOJ01DytCv0S1WR5JrRKVeRERE5Cbx5o9b2Xr4FKWLefJul3Dc\n",
              "3GxWR5JrRKVeRERE5CawcMsRJv7fWW7e6RJBgK+3tYHkmlKpFxERESnkklIzeOrr9QD0a3QLzWsE\n",
              "WJxIrjWVehEREZFCzOk0DPtqHclpWdQq58fTbWtYHUmuA5V6ERERkULsiyW7+GPHMbw93Pjo3ki8\n",
              "3O1WR5LrQKVeREREpJBav/8k7/y8DYCX7qpNcICvxYnkelGpFxERESmE0jIdPDojHofT0KZ2IN1j\n",
              "KlkdSa6jPJf6hIQE4uLiCAkJISYmhk2bNp03jNPpZNiwYYSGhhIeHk7z5s3ZsWMHABs2bKBp06bU\n",
              "rFmTsLAw+vXrx5kzZ1yPtdls1KlTh8jISCIjI1myZMlVTJ6IiIjIzemlbzex+1ga5fy9ebNzHWw2\n",
              "nb6yMMtzqR88eDCDBg1i+/btPP300/Tp0+e8Yb799lv+/PNP1q1bx/r162nZsiXPPvssAN7e3nz8\n",
              "8cds3bqVdevWkZaWxltvvZXr8UuWLCE+Pp74+HiaNGlyZVMmIiIicpP6dt1Bvl69H5sNPugWSXEf\n",
              "T6sjyXWWp1KflJTEqlWr6NGjBwCdO3dm3759rq3w59hsNjIzM8nIyMAYQ2pqKhUrVgSgevXqhIeH\n",
              "A2C324mJiWHPnj1XFD4zM5PU1NRct5ycnCsal4iIiEhhsC85nefmbADgoebB1K9ayuJEciPkqdTv\n",
              "27ePcuXK4e7uDpwt70FBQSQmJuYa7q677qJZs2YEBgZSrlw5Fi5cyCuvvHLe+NLS0hg7diwdOnTI\n",
              "9feWLVsSERHBsGHDSEtLu2ieESNG4O/vn+u2YsWKvEySiIiISKHhyHHy6Iy1nMp0EB1UnEdbVrc6\n",
              "ktwg1+VA2VWrVrFx40YOHDjAwYMHadmyJUOGDMk1TFZWFt26deP222/n7rvvdv197969rF69mqVL\n",
              "l3L06FGeeuqpiz7PM888Q0pKSq5bbGzs9ZgkERERkXxv1K87WJN4El8vdz7sHoW7XedEuVm452Xg\n",
              "SpUqcejQIRwOB+7u7hhjSExMJCgoKNdwkyZNokWLFhQvXhyA3r17c/vtt7vuz87Oplu3bpQrV44P\n",
              "P/ww12PPjato0aIMHTqUQYMGXTSPl5cXXl5euf5mt+vcqyIiInLzWbE7mY9/TQDgtbvDqFTSx+JE\n",
              "ciPl6etbQEAA0dHRTJkyBYDZs2dTsWJFgoODcw1XtWpVfv31V7KysgCYP38+YWFhADgcDrp3707J\n",
              "kiX5/PPPcx2JfeLECdLT04GzZ9CZOXMmUVFRVz51IiIiIjeBlPRsHpuxFqeBztEV6RBZwepIcoPl\n",
              "aUs9wJgxY+jTpw9vvPEGfn5+TJgwAYABAwbQvn172rdvz4MPPsiWLVuIiIjAw8ODwMBARo8eDcDM\n",
              "mTOZM2cO4eHhrsLeqFEjPvnkE7Zu3crgwYOx2Ww4HA6io6PP25IvIiIiIv+fMYZnvlnPwZQMqpTy\n",
              "4b8dalsdSSxgM8YYq0NcS8OGDWPkyJFWxxARERG5IWasSGT4nA24u9mY/UAcEZWKWx1JLKCjJ0RE\n",
              "REQKqB1Jp/nvd5sBeLJ1DRX6m5hKvYiIiEgBlOnI4ZHpazmTnUOj4FIMalLV6khiIZV6ERERkQLo\n",
              "7Z+2sflQKiV8PBjZNRI3N9u/P0gKLZV6ERERkQJm8bYkxv2xG4B37omgrJ+3xYnEair1IiIiIgXI\n",
              "0VOZPDlrHQC9GlamVWhZixNJfqBSLyIiIlJAOJ2GJ2et49jpLGqU9eXZO2pZHUnyCZV6ERERkQJi\n",
              "wtI9/Lb9KF7uboy6NwpvD7vVkSSfUKkXERERKQA2HkjhrR+3AvD8nbWoEehrcSLJT1TqRURERPK5\n",
              "9CwHj85YS1aOk9tCy9KjQWWrI0k+o1IvIiIiks+9On8zO4+mUdbPi7c6h2Oz6fSVkptKvYiIiEg+\n",
              "9sOGQ0xfsQ+bDd7vGknJop5WR5J8SKVeREREJJ86ePIMw2evB2DIrdWICy5tcSLJr1TqRURERPKh\n",
              "HKfhsZnxpGY4iKjoz7DbQqyOJPmYSr2IiIhIPvTJoh2s2J1MUU87o+6NwsOu2iYXp3eHiIiISD6z\n",
              "em8yHy5MAODVjmFULlXU4kSS36nUi4iIiOQjqRnZPDojnhynoUNkee6OqmB1JCkAVOpFRERE8glj\n",
              "DM99s5H9J85QqWQRXusYptNXymVRqRcRERHJJ2avOcB36w5id7PxYfcofL09rI4kBYRKvYiIiEg+\n",
              "sPtYGi/O2wjA462qEx1UwuJEUpCo1IuIiIhYLMvh5JHpa0nPyqFB1ZI80CzY6khSwKjUi4iIiFjs\n",
              "vV+2seFACv5FPHi/WyR2N+1HL3mjUi8iIiJioT8SjjHmt10AvNU5nHL+RSxOJAWRSr2IiIiIRY6f\n",
              "zmTYV/EA3Fc/iDZhgdYGkgJLpV5ERETEAsYYnp69nqRTmQQHFOOFO0OtjiQFmEq9iIiIiAUmLdvL\n",
              "gi1JeNrdGNU9iiKedqsjSQGmUi8iIiJyg209nMrrP2wB4Jk7ahJa3s/iRFLQqdSLiIiI3EAZ2Tk8\n",
              "Mn0tWQ4nzWuUoU9cFasjSSGgUi8iIiJyA732/Wa2HzlN6WJevNMlAptNp6+Uq6dSLyIiInKD/G/T\n",
              "Yab8lQjAyK4RlC7mZXEiKSxU6kVERERugMMpGfxn9noABja5haYhZSxOJIWJSr2IiIjIdZbjNDw+\n",
              "M56T6dmEVfDjqdY1rY4khUyeS31CQgJxcXGEhIQQExPDpk2bzhvG6XQybNgwQkNDCQ8Pp3nz5uzY\n",
              "scN1//z586lZsybVq1enU6dOpKamXtZ9IiIiIgXRmN93smzXcYp42BnVPQpPd21XlWsrz++owYMH\n",
              "M2jQILZv387TTz9Nnz59zhvm22+/5c8//2TdunWsX7+eli1b8uyzzwJw+vRp+vfvz9y5c0lISKB8\n",
              "+fK8+uqr/3qfiIiISEEUv+8kI/+3HYD/tq9N1TLFLE4khVGeSn1SUhKrVq2iR48eAHTu3Jl9+/bl\n",
              "2goPYLPZyMzMJCMjA2MMqampVKxYEYAff/yRqKgoatY8+7PT0KFDmT59+r/edyGZmZmkpqbmuuXk\n",
              "5ORlkkRERESum9OZDh6ZvhaH03BneDm61KtodSQppNzzMvC+ffsoV64c7u5nH2az2QgKCiIxMZHg\n",
              "4GDXcHfddReLFi0iMDAQX19fKlSowG+//QZAYmIilStXdg1bpUoVDh06hMPhuOR9557z70aMGMF/\n",
              "//vfXH9r0KBBXiZJRERE5Lp5ce5GEpPTqVC8CG/cXUenr5Tr5rrs0LVq1So2btzIgQMHOHjwIC1b\n",
              "tmTIkCHX/HmeeeYZUlJSct1iY2Ov+fOIiIiI5NXctQeYs/YAbjb4sHsk/kU8rI4khVieSn2lSpVc\n",
              "W84BjDEkJiYSFBSUa7hJkybRokULihcvjpubG71792bRokUABAUFsXfvXtewe/bscW39v9R9F+Ll\n",
              "5YWfn1+um91uz8skiYiIiFxzicfTeX7uRgAeaVmdelVKWpxICrs8lfqAgACio6OZMmUKALNnz6Zi\n",
              "xYq5dr0BqFq1Kr/++itZWVnA2TPahIWFAdCmTRvWrFnD1q1bAfj000/p3r37v94nIiIiUhBk5zh5\n",
              "ZMZaTmc6iKlSgoeaB//7g0SuUp72qQcYM2YMffr04Y033sDPz48JEyYAMGDAANq3b0/79u158MEH\n",
              "2bJlCxEREXh4eBAYGMjo0aMB8PX1ZezYsXTs2BGHw0FYWBhffvnlv94nIiIiUhB8sGA78ftO4uvt\n",
              "zvvdInG36/SVcv3ZjDHG6hDX0rBhwxg5cqTVMUREROQmtGznce4b+xfGwCf3RXNneDmrI8lNQl8d\n",
              "RURERK6BE2lZPD4zHmOgW71KKvRyQ6nUi4iIiFwlYwxPz17P4dQMqpYuykvtQ62OJDcZlXoRERGR\n",
              "qzRtRSL/23wED7uNUfdG4eOZ58MWRa6KSr2IiIjIVUg4copX528G4D+taxJWwd/iRHIzUqkXERER\n",
              "uUIZ2Tk8PH0tGdlOmlQvTf/Gt1gdSW5SKvUiIiIiV+jNH7ey9fApShX15L2uEbi52ayOJDcplXoR\n",
              "ERGRK/Dr1iNMXLoHgHe7RBDg621tILmpqdSLiIiI5FFSagZPzloPQN9GVWheM8DiRHKzU6kXERER\n",
              "yQOn0/DErHUkp2VRq5wfw9vWtDqSiEq9iIiISF6M/WMXSxKO4e3hxkf3RuLlbrc6kohKvYiIiMjl\n",
              "2rA/hXd+3gbAi+1qExzga3EikbNU6kVEREQuQ1qmg0dmrCU7x9CmdiD3xlayOpKIi0q9iIiIyGV4\n",
              "+dtN7D6WRjl/b97sXAebTaevlPxDpV5ERETkX3y37iCzVu/HZoP3u0VS3MfT6kgiuajUi4iIiFzC\n",
              "vuR0nv1mAwAPNQ+mQdVSFicSOZ9KvYiIiMhFOHKcPDYznlMZDqKCivNIy+pWRxK5IJV6ERERkYv4\n",
              "6NcdrN57gmJe7ozqHoWHXdVJ8ie9M0VEREQuYMXuZD76NQGA1+8Oo1JJH4sTiVycSr2IiIjIP6Sk\n",
              "Z/PYjLU4DXSKrkCHyApWRxK5JJV6uSkZY/h502EenLqG1XuTrY4jIiL5iDGGZ7/ZwMGUDCqX8uGV\n",
              "DmFWRxL5V+5WBxC50fYeT+OlbzexeNtRABZuPcKYnvW4NaSMxclERCQ/+GrVPr7fcAh3NxujukdR\n",
              "zEt1SfI/bamXm0ZGdg4jf9nObe//zuJtR/Gw26hVzo+MbCcDvlzJjxsOWR1RREQstvPoaV7+djMA\n",
              "T9xeg4hKxa0NJHKZVOrlprBwyxFue/83Ri1MIMvhpHFwaX56rCnzHmzEnXXKkZ1jeHDaGr5evd/q\n",
              "qCIiYpFMRw6PTF/Lmewc4qqVYnDTqlZHErls+j1JCrV9yen897vNLNhyBIBAP29eaBfKHXUCXZf3\n",
              "HnVvFEW97Hy1aj9PzlpHWqaD3nFVLEwtIiJWeOenbWw6mEoJHw/e7xaJm5vN6kgil02lXgqlTEcO\n",
              "X/y+i48X7SAj24m7m43+jW/hkZbVKfqPfSPtbjbe7BROUS93Jvy5h5e+3cTpTAdDm1VzFX8RESnc\n",
              "ftt+lLF/7AbgnXsiKOvnbXEikbxRqZdC5/ftR3np203sPpYGQIOqJXmlQxghZX0v+hg3NxsvtgvF\n",
              "19uDUQsTeOfnbaRmZDO8TU0VexGRQu7Y6Uye+GodAL0aVqZVaFmLE4nknUq9FBoHT57h1fmb+XHj\n",
              "YQDK+Hrx/J21aB9R/rKKuc1mY9htIfh6ufP6D1sY89suTmc4eLVDmH6CFREppJxOw5Oz1nHsdCY1\n",
              "yvry7B21rI4kckVU6qXAy3I4GffHbkYtTOBMdg52Nxu9G1bh8duq4+vtkefxDWxalaJe7jw3dwNT\n",
              "lyeSnpXDO/eE465Lg4uIFDoTl+5h8bajeLm7MereKLw97FZHErkiKvVSoC3dcYwXv93EjqTTANSr\n",
              "XIJXOoQRWt7vqsZ7X/0ginrZeeKrdXyz9gCnMx18pIW9iEihsulgCm/+uBWA5++sRY3Ai++mKZLf\n",
              "qdRLgXQkNYPXvt/Cd+sOAlCqqCfP3FGLTlEVrtmuMh0iK1DU052h09bwy+YjDPhyFZ/3qouPpz42\n",
              "IiIF3Zmss6evzMpx0qpWWXo0qGx1JJGrkuf9CRISEoiLiyMkJISYmBg2bdp03jATJkwgMjLSdStd\n",
              "ujSdOnUC4Oeff851X/ny5YmOjnY91mazUadOHdf9S5YsuYrJk8ImO8fJ2CW7aPneb3y37iButrMH\n",
              "Nf36RDPuqVvxmu/73iq0LBP7xODjaeePHcfoOW4FKWeyr+lziIjIjffK/M3sPJpGgK8Xb98TrpMi\n",
              "SIFnM8aYvDygRYsW9OrViz59+vD111/z1ltvsXLlyks+JiwsjP/+97907tz5vPvatWtH8+bNeeKJ\n",
              "J84Gstk4ceIExYsXz0ssl2HDhjFy5Mgreqzkbyt2J/PivI1sPXwKgMhKxXmtYxhhFfyv+3OvSTxB\n",
              "n/ErSM1wEFrOj0n9YyldzOu6P6+IiFx7P208xJApa7DZYEr/+jQKLm11JJGrlqdSn5SURHBwMMnJ\n",
              "ybi7u2OMoVy5cvzxxx8EBwdf8DHLly/nrrvu4sCBA3h45D5o8eDBg1SrVo29e/cSEBBwNlAeSn1m\n",
              "ZiaZmZm5/vbCCy/w4YcfXu4kSQFw9FQmI37cwpw1BwAo7uPB8DY16Vqv0g09K82WQ6n0HLecY6ez\n",
              "qFqmKFMH1Kecf5Eb9vwiInL1Dp48Q9sPl5ByJpsht1ZjeNuaVkcSuSbytPvNvn37KFeuHO7uZ/cp\n",
              "ttlsBAUFkZiYeNHHjBs3jp49e55X6AEmTpzIHXfc4Sr057Rs2ZKIiAiGDRtGWlraRcc9YsQI/P39\n",
              "c91WrFiRl0mSfMyR4+TLpXto8d5i5qw5gM0G98ZWYtETzegeG3TDTzNZq5wfXw1uSHl/b3YdTeOe\n",
              "z5ax59jF358iIpK/5DgNj8+MJ+VMNhEV/Xni9hCrI4lcM9f1HH1paWnMmDGD/v37n3efMYbx48ef\n",
              "d9/evXtZvXo1S5cu5ejRozz11FMXHf8zzzxDSkpKrltsbOw1nw658VbvPUH7j//kpW83cSrDQVgF\n",
              "P+Y8EMeITuGUKOppWa6qZYox64E4qpTy4cDJM3QZs4xt/7c7kIiI5G+fLtrB8t3JFPW082H3KDx0\n",
              "qmIpRPL0bq5UqRKHDh3C4XAAZ4t5YmIiQUFBFxx+1qxZ1K5dm9DQ0PPu++2338jIyKB169a5/n5u\n",
              "XEWLFmXo0KGXPFDWy8sLPz+/XDe7XaccLMiS07L4z9fr6PzZUjYfSsXP251XO4Yx78HGRAWVsDoe\n",
              "ABWKF+GrIQ2pGejL0VOZdPt8Gev2nbQ6loiIXMLqvSf4YGECAK90CKNK6aIWJxK5tvJU6gMCAoiO\n",
              "jmbKlCkAzJ49m4oVK150f/px48ZdcCv9ufv69OmTq4SfOHGC9PR0AJxOJzNnziQqKiovEaWAynEa\n",
              "pi7fS/N3F/PVqv0A3FO3Ir8+2YyeDSpjz2dXdA3w9WbGoAZEVirOyfRs7h+7nOW7jlsdS0RELiA1\n",
              "I5tHZ6wlx2noEFmeTtEVrI4kcs3l+ew327Zto0+fPhw/fhw/Pz8mTJhAnTp1GDBgAO3bt6d9+/au\n",
              "4erVq8fBgwfx9c19MYeUlBTKly/Phg0bqFq1quvvy5YtY/DgwdhsNhwOB9HR0Xz44YeULFnysvPp\n",
              "7DcFz/r9J3lh7kbW7U8BoGagL691DKNelcuf71Y5nelg4JerWLbrOF7ubozuUZfmNQP+/YEiInJD\n",
              "GGN4dEY83647SMUSRfjh0Sb4XcHVxkXyuzyX+vxOpb7gOJmexTs/b2PaikSMgWJe7gy7LYReDSvj\n",
              "XoD2c8zIzmHo1DX8ujUJdzcbH3aP4s7wclbHEhERYPbq/Twxax12NxuzhjQkOp/syilyrenSmHLD\n",
              "OZ2Gr1fv582ftpKclgVAx8jyPHtHLQL8vC1Ol3feHnbG9KzLsK/W8d26gzw8fQ1pmeF0jalkdTQR\n",
              "kZvanmNpvDhvIwCPt6quQi+Fmkq93FCbDqbwwtyNrEk8CUD1gGK80iGMhtVKWRvsKnnY3figWyRF\n",
              "Pe3MWLmP/8xez+lMB/0a32J1NBGRm1KWw8kjM9aSlpVD/VtK8kCzCx//J1JYqNTLDZGakc3I/21n\n",
              "0rI9OA34eNp5rFV1+ja6pdCcUszuZmNEpzoU83Jn7B+7eWX+Zk5nOni4RbAuPy4icoON/GU76/en\n",
              "4F/Eg/e7Rea7Ey6IXGsq9XJdGWP4Zu0B3vhhK8dOn736753h5Xj+zlqF8mqsNpuN5+6sha+3B+8v\n",
              "2M7IX7ZzOtPBM21rqtiLiNwgf+44xpjfdwLwVuc6lC9e+NY3Iv+kUi/XzbbDp3hh3kZW7E4GoGqZ\n",
              "orzSPozG1UtbnOz6stlsPNqqOsW83Xl1/mY+/30XpzIcvNYxTFuKRESus+S0LB6fGY8xcG9sEG3C\n",
              "dOICuTmo1Ms1dzrTwQe/bGfC0j3kOA3eHm483KI6A5rcgpf7zXNxsP6Nb6GYl53hczYwfUUiaZkO\n",
              "3usaUWh2NxIRyW+MMfzn63UkncqkWpmivNju/ItfihRWKvVyzRhj+G79IV7/fjNHUs/uatO6dlle\n",
              "aBdKxRI+FqezRreYIHw83Xl85tlzJKdnOfj4vmi8PW6eLzciIjfK5L/2smBLEp52Nz66N5oinlrW\n",
              "ys1DpV6uiR1Jp3hx3iaW7jx7VdXKpXx4uX1tmtfQhZjuiihPUS87D0xZw4ItSfSbuJIvetWjqJc+\n",
              "fiIi18q2w6d47fstAAxvW5PQ8n4WJxK5sbQfgFyV9CwHb/64lbYfLmHpzrNXVX28VQg/P9ZUhf5v\n",
              "WtQsy8S+sRT1tLN053F6jFtOSnq21bFERAqFjOwcHp6+hiyHk2Y1ytC3URWrI4nccCr1ckWMMfy0\n",
              "8RCt3vuN0b/tJDvH0KJmAL88fiuPtqqu3UsuoGG1Ukwd2AD/Ih6sTTxJt8+XcfRUptWxREQKvNe/\n",
              "38L2I6cpXcyLd7tE6GxjclNSqZc8230sjd4TVjJkyhoOpmRQoXgRvuhVj/F9YggqdXPuO3+5IisV\n",
              "Z+bgBpQu5sXWw6foNmYZB06esTqWiEiB9cvmI0z+ay8AI7tGULqYl8WJRKyhUi+X7UxWDu/9bxut\n",
              "3/+d37cfxdPuxsMtglkw7FZuCy1rdbwCo2agH7OGNKRC8SLsOpZG19HL2H0szepYIiIFzuGUDP7z\n",
              "9ToABja5haYhZSxOJGIdlXq5LAs2H+G293/jo193kJXjpEn10vz0WBOeuL2Gzi5wBW4pXZRZQxpS\n",
              "tXRRDpw8Q5fRy9hyKNXqWCIiBUaO0zDsq3hOpGdTu7wfT7auYXUkEUup1Msl7UtOp//ElQyYtIr9\n",
              "J85Qzt+bz+6PZlK/WKqWKWZ1vAKtfPEizBzckFrl/Dh2OpPun//F2sQTVscSESkQPv99F0t3HqeI\n",
              "h51R90bdVNdBEbkQlXq5oIzsHD5ckECrkb+xcGsS7m42htxajQXDbqVtnXI6COkaKePrxYyBDYgO\n",
              "Kk7KmWx6jF3Osv87LaiIiFxY/L6TvPe/bQD8t31tqmkjk4hKvZxv8bYk2nzwO+8v2E6mw0nDqqX4\n",
              "6bEmDG9bU+dWvw78fTyY3L8+jYJLkZaVQ+8JK1i45YjVsURE8qXTmQ4enbEWh9NwZ51ydKlX0epI\n",
              "IvmCSr24HDh5hiGTV9Nnwkr2HE8nwNeLUfdGMW1gfYIDfK2OV6gV9XJnXO8YWtUqS5bDyeDJq/lu\n",
              "3UGrY4mI5DsvztvI3uPpVChehDc61dEvxyL/R5tdhSyHk7F/7OKjhTs4k52D3c1Gn7gqPNaqOr7e\n",
              "HlbHu2l4e9j5rEc0T85ax7z4gzwyYy1pmQ66xwZZHU1EJF+YF3+AOWsO4GaDD7pH4l9E6yiRc1Tq\n",
              "b3J/7jjGC/M2suvo2VMqxlYpySsda1MzUJfXtoKH3Y2RXSMp6uXOtOWJDJ+zgdOZDgY0qWp1NBER\n",
              "SyUeT+e5bzYC8HCL6sRUKWlxIpH8RaX+JnU4JYNXv9/M9+sPAVC6mCfP3lGLu6Mq6KdMi9ndbLze\n",
              "MQxfL3fG/L6L177fcnYf0pbVNW9E5KaUnePk0ZlrOZ3poF7lEjzcItjqSCL5jkr9TSY7x8nEP/fw\n",
              "wYLtpGXl4GaDng0qM+z2GvoZMx+x2WwMb1sTX2933v3fdj5YkMCpDAfP31lLxV5EbjofLkhgbeJJ\n",
              "fL3d+aB7JO52HRIo8k8q9TeRv3Yd58V5G9l+5DQAUUHFebVDGGEV/C1OJhdis9l4qEV1inq589/v\n",
              "NjPuj92kZTp4/e462N1U7EXk5vDXruN8sngHACM61aFiCR+LE4nkTyr1N4GkUxmM+GEr36w9AEAJ\n",
              "Hw+Gt61Jl7qVcFM5zPf6NrqFol7uDJ+9nhkr93E608HIrpF4umtLlYgUbifTs3h8ZjzGQNd6FWkX\n",
              "Xt7qSCL5lkp9IebIcTL5r72M/N92TmU6sNng3tgg/tO6BsV9PK2OJ3nQtV4linm58+iMtcxff4j0\n",
              "rBw+vT8abw9dQVFECidjDE/PXs+hlAyqli7KS3fVtjqSSL6mUl9Ird6bzPNzN7HlUCoA4RX9ebVD\n",
              "GBGVilsbTK7YHXXKUcTTzpDJq/l1axJ9JqxgbO8YiumCYCJSCE1fsY+fNx3Bw25j1L1RuvihyL/Q\n",
              "7/eFzLHTmTw1ax2dP1vGlkOp+Bfx4LWOYXwztJEKfSHQvEYAk/rFUszLnb92JXP/2OWcTM+yOpaI\n",
              "yDWVcOQUr8zfBMB/WtfUsV8il0GlvpDIcRom/7WXFu8uZtbq/cDZ/Q9/feJWejSorAMrC5H6VUsx\n",
              "bWB9ivt4sG7fSbqN+YukUxlWxxIRuSYysnN4ePpaMrKdNKlemv6Nb7E6kkiBoFJfCKzbd5K7P/2T\n",
              "F+ZuJDXDQWg5P2Y/EMfb90RQqpiX1fHkOgivWJyZgxoS4OvFtiOn6Dp6GftPpFsdS0Tkqr3101a2\n",
              "Hj5FqaKevNc1Qid0ELlMKvUF2Im0LJ6Zs4GOn/7J+v0p+Hq58/JdoXz7UCPqVi5hdTy5zmoE+jJr\n",
              "SEMqlijCnuPpdB29jF1HT1sdS0Tkii3amsSEP/cA8G6XCAJ8va0NJFKAqNQXQE6nYcaKRFq8t5jp\n",
              "KxIxBjpFVWDhk7fSp9EtuijHTaRyqaLMGtKQamWKcjAlg65jlrH5YKrVsURE8izpVAZPzloHQJ+4\n",
              "KjSvGWBxIpGCJc/tLyEhgbi4OEJCQoiJiWHTpk3nDTNhwgQiIyNdt9KlS9OpUycA9uzZg91uz3X/\n",
              "zp07XY+dP38+NWvWpHr16nTq1InUVBWUv9t4IIVOny1l+JwNnEjPJqRsMWYOasDIbpHaonGTKudf\n",
              "hJmDGxJazo9jp7Po/vkyVu89YXUsEZHL5nQanvhqHcfTsqhVzo/hbWtaHUmkwMlzqR88eDCDBg1i\n",
              "+/btPP300/Tp0+e8Yfr27Ut8fLzrFhgYyP333++639fXN9f91apVA+D06dP079+fuXPnkpCQQPny\n",
              "5Xn11VevfOoKkZQz2bw4byPtP/6D+H0nKepp5/k7a/H9I02oX7WU1fHEYqWLeTF9UAPqVi5BaoaD\n",
              "nuOW8+eOY1bHEhG5LOP+2M2ShGN4e7gxqnukrsEhcgXyVOqTkpJYtWoVPXr0AKBz587s27ePHTt2\n",
              "XPQxy5cvJykpifbt2//r+H/88UeioqKoWfPsN/ShQ4cyffr0iw6fmZlJampqrltOTk5eJinfM8Yw\n",
              "e/V+Wr63mEnL9uI0cFdEeX59shkDmlTFQ7vayP/xL+LB5P6xNKlemvSsHPpOXMmCzUesjiUickkb\n",
              "D6Tw9s9bAXihXSjVy/panEikYMpTI9y3bx/lypXD3f3sBSBsNhtBQUEkJiZe9DHjxo2jZ8+eeHh4\n",
              "uP6WlpZGTEwM0dHRvPLKK64inpiYSOXKlV3DValShUOHDuFwOC447hEjRuDv75/rtmLFirxMUr62\n",
              "9XAqXccs44lZ6zh2OotqZYoydUB9Pro3irJ+2tVGzufj6c7Y3vW4PbQsWQ4ng6esZl78AatjiYhc\n",
              "UFqmg0emryU7x9C6dlnuiw2yOpJIgXVdN/OmpaUxY8YM+vfv7/pbuXLlOHDgACtXrmTBggUsWbKE\n",
              "995774rG/8wzz5CSkpLrFhsbe63iW+ZURjavfLeZO0f9wco9JyjiYefpNjX58dGmNAoubXU8yee8\n",
              "3O18en80d0dVIMdpeGxmPNOWX/yLt4iIVf773SZ2HUsj0M+bNzuFY7Pp9JUiVypPpb5SpUq5tpwb\n",
              "Y0hMTCQo6MLfrGfNmkXt2rUJDQ11/c3Ly4uAgLNHtJcsWZJ+/fqxZMkSAIKCgti7d69r2D179uT6\n",
              "ZeCfvLy88PPzy3Wz2wvufnjGGObFH6DFe78x/s/d5DgNbcMCWfDErTzQrBqe7trVRi6Pu92N97pE\n",
              "0KNBEMbAs99s4PPfd/77A0VEbpD56w/y1ar92GzwfrdIShT1tDqSSIGWp5YYEBBAdHQ0U6ZMAWD2\n",
              "7NlUrFiR4ODgCw4/bty4XFvp4ex++dnZ2cDZfeLnzJlDVFQUAG3atGHNmjVs3Xp237pPP/2U7t27\n",
              "522KCqiEI6e474vlPDojnqOnMqlSyoeJfWP4rEddKhQvYnU8KYDc3Gy82iGMIbeePRD9jR+2MvJ/\n",
              "2zDGWJxMRG52+0+k88ycDQA82CyYhtV0wgeRq3XhTeCXMGbMGPr06cMbb7yBn58fEyZMAGDAgAG0\n",
              "b9/edUDstm3biI+P54cffsj1+D/++IMXX3wRu92Ow+GgRYsWPPfcc8DZs+KMHTuWjh074nA4CAsL\n",
              "48svv7zaaczX0jIdjFqYwLg/duNwGrzc3XioeTADm1bV0f9y1Ww2G8Pb1sTX2513ft7GqF93kJrh\n",
              "4MV2obpKo4hYwpHj5LEZ8ZzKcBBZqTiPtqpudSSRQsFmCtlmu2HDhjFy5EirY/wrYww/bjzMq/M3\n",
              "cyglA4BWtcry0l2hVCrpY3E6KYwmLdvDi/POXleiS92KvNk5HLuKvYjcYB8s2M4HCxIo5uXOD480\n",
              "IaiU1nki10Ket9TL1dt19DQvfbuJJQlnzyNeqWQRXr6rNi1rlbU4mRRmvRpWwcfTnf98vY5Zq/eT\n",
              "npXD+90idayGiNwwK/ckM2phAgCv3x2mQi9yDanU30BnsnL4ZNEOPv99F1k5TjztbgxpVo2hzapp\n",
              "Vxu5Ie6pW5FiXnYenr6W7zccIi3LwWf316WIp95/InJ9pZzJ5rEZ8TgNdIqqQIfIClZHEilUtInu\n",
              "BjDG8L9Nh2k18jc+XrSDrBwnt4aU4X+PN2XYbSEq9HJDtQkrx9jeMXh7uLF421F6T1jBqYxsq2OJ\n",
              "SCFmjOHZbzZw4OQZKpfy4ZWOYVZHEil0VOqvs73H0+g3cSWDJq/mwMkzlPf3ZnSPukzsG0OV0kWt\n",
              "jic3qVtDyjC5f318vdxZsTuZ+8cu50RaltWxRKSQmrVqP9+vP4S7m40Pu0dRzEs7Cohcayr110lG\n",
              "dg4fLNjObe//zqJtR/Gw2xjarBoLnriVNmGBusCGWC6mSkmmD2pACR8P1u9Podvny0hKzbA6logU\n",
              "Mjv/7zgygGG3hxBZqbi1gUQKKZX662DR1iRuf/93PliQQJbDSaPgUvz4aFP+06YmPp7aOiH5R1gF\n",
              "f74a3JCyfl5sP3KaLmOWsS853epYIlJIZDpyeHTGWs5k5xBXrRRDmlazOpJIoaVSfw3tP5HOoEmr\n",
              "6DtxJYnJ6ZT18+Lj+6KY0r8+wQHFrI4nckHVy/ry9ZA4KpUswt7j6XQZvYwdSaetjiUihcC7P29j\n",
              "44FUSvh4MLJrpK6PIXIdqdRfA5mOs2e1aTXyN/63+Qh2NxsDm9zCwiea0S68vHa1kXyvUkkfZg2O\n",
              "IzigGIdTM+g2ZhkbD6RYHUtECrDftx/liyW7AXircziB/t4WJxIp3FTqr9KShKO0/WAJ7/y8jYxs\n",
              "J7G3lOSHR5rw3J2hOhBICpRAf2++GtyQsAp+HE/L4t4v/mLVnmSrY4lIAXTsdCbDvloHQM8Glbm9\n",
              "dqDFiUQKP5X6K3Qo5QwPTl1Dz3Er2HUsjdLFvHi/WwQzBzWgRqCv1fFErkjJop5MG9iAmColOJXh\n",
              "oOe4FSxJOGp1LBEpQIwxPDVrHcdOZxJSthjP3VnL6kgiNwWV+iv0547jfL/hEG426BNXhV+fvJW7\n",
              "oypqVxsp8Py8PZjUrz5NQ8pwJjuH/hNX8fOmw1bHEpECYuLSPSzadhRPdzdG3Rula7GI3CAq9Veo\n",
              "U1QF+sRV4buHG/Ny+9r4eXtYHUnkminiaeeLXnVpGxZIVo6ToVPX8M3a/VbHEpF8bvPBVEb8sBWA\n",
              "5++sRc1AP4sTidw8VOqvkJubjZfb16Z2eX+ro4hcF17udj66N4rO0RXJcRoen7mOyX/ttTqWiORT\n",
              "Z7JyeGTGWrJynLSqFUDPBpWtjiRyU1GpF5GLcre78c494fRueHbl/MLcjXy2eKfFqUQkP3r1+83s\n",
              "SDpNgK8Xb98Tod1RRW4wlXoRuaRzv0o92PzsRWPe+mkr7/y8FWOMxclEJL/4aeMhpi1PxGaD97tF\n",
              "UrKop9WRRG46KvUi8q9sNhtPta7J8LY1Afhk0U5e/nYTTqeKvcjN7lDKGZ6evQGAQU2r0ii4tMWJ\n",
              "RG5OKvUictmG3FqNVzuGYbPBl8v28tTX63HkOK2OJSIWyXEaHpsRT8qZbMIr+vPEbTWsjiRy01Kp\n",
              "F5E86dmgMiO7RmB3szF7zX4emraWTEeO1bFE5AYzxvDKd5tYvjsZH087o7pH4emuWiFiFX36RCTP\n",
              "7o6qyKf3R+Npd+OnTYcZOGk1Z7JU7EVuJh//uoMvl+3FZoO37wmnSumiVkcSuamp1IvIFWldO5Bx\n",
              "fepRxMPO79uP0mv8clIzsq2OJSI3wLTlibz3y3YAXmoXSrvw8hYnEhGVehG5Yk2ql2HKgFh8vd1Z\n",
              "uecE933xF8lpWVbHEpHr6KeNh3h+7tkDYx9uEUyfRrdYnEhEQKVeRK5S3colmT6wASWLerLxQCpd\n",
              "xyzjcEqG1bFE5DpYtvM4j0yPx2ng3tgght0WYnUkEfk/KvUictXCKvjz1eCGBPp5syPpNF3GLCXx\n",
              "eLrVsUTkGtp0MIVBk1aRleOkde2yvNYxTBeYEslHVOpF5JoIDijGrCENqVzKh33JZ+gyZikJR05Z\n",
              "HUtEroG9x9PoPX4lpzId1L+lJB92j8LupkIvkp+o1IvINVOppA+zBjckpGwxjqRm0nXMMjbsT7E6\n",
              "lohchaRTGfQct4JjpzOpVc6PL3rXw9vDbnUsEfkHlXoRuaYC/LyZOagh4RX9OZGezX1f/MWK3clW\n",
              "xxKRK5CakU2f8StJTE4nqKQPX/aLwc/bw+pYInIBKvUics2VKOrJ1AH1ib2lJKcyHfQav5zfth+1\n",
              "OpaI5EFGdg6DJq1i86FUShfzZHL/WAJ8va2OJSIXoVIvIteFr7cHX/aN5daQMmRkOxnw5Up+2njI\n",
              "6lgichlynIbHZsTz165kinm5M7FvLJVL6eJSIvmZSr2IXDdFPO180ased9YpR3aOYejUNcxevd/q\n",
              "WCJyCcYYnp+7kZ82HcbT7sbnveoSVsHf6lgi8i9U6kXkuvJ0d2PUvVF0qVsRp4EnZq1j0rI9VscS\n",
              "kYt4/5ftTF+RiM0GH3aPJK5aaasjichlyHOpT0hIIC4ujpCQEGJiYti0adN5w0yYMIHIyEjXrXTp\n",
              "0nTq1AmADRs20LRpU2rWrElYWBj9+vXjzJkzrsfabDbq1KnjeuySJUuuYvJEJD+wu9l4q3M4feKq\n",
              "APDivE18smiHtaFE5DxfLt3DqF/PfjZf6xhG2zrlLE4kIpcrz6V+8ODBDBo0iO3bt/P000/Tp0+f\n",
              "84bp27cv8fHxrltgYCD3338/AN7e3nz88cds3bqVdevWkZaWxltvvZXr8UuWLHE9tkmTJlc2ZSKS\n",
              "r7i52XjprlAeaREMwDs/b+PNH7dijLE4mYgAfLfuIC9/d3ZD3bDbQri/fmWLE4lIXuSp1CclJbFq\n",
              "1Sp69OgBQOfOndm3bx87dlx8i9vy5ctJSkqiffv2AFSvXp3w8HAA7HY7MTEx7Nmz54rCZ2Zmkpqa\n",
              "muuWk5NzReMSkevPZrMx7PYaPHtHTQBG/7aTF+ZtxOlUsRex0pKEowz7Kh5joFfDyjz8f1++RaTg\n",
              "yFOp37dvH+XKlcPd3R04u4IOCgoiMTHxoo8ZN24cPXv2xMPj/PPapqWlMXbsWDp06JDr7y1btiQi\n",
              "IoJhw4aRlpZ20XGPGDECf3//XLcVK1bkZZJExAKDmlbjjbvrYLPBlL8SeWLWOhw5TqtjidyU1u8/\n",
              "yeDJq8nOMdwZXo6X7qqNzaarxYoUNNf1QNm0tDRmzJhB//79z7svKyuLbt26cfvtt3P33Xe7/r53\n",
              "715Wr17N0qVLOXr0KE899dRFx//MM8+QkpKS6xYbG3tdpkVErq376gfxQbdI7G42vll7gKFT15Dp\n",
              "0C9tIjfSrqOn6TNhJelZOTQOLs3IrhHY3VToRQqiPJX6SpUqcejQIRwOB3D2tFeJiYkEBQVdcPhZ\n",
              "s2ZRu3ZtQkNDc/09Ozubbt26Ua5cOT788MNc950bV9GiRRk6dOglD5T18vLCz88v181u16WrRQqK\n",
              "DpEVGN2jLp7ubvxv8xEGfLmK9CyH1bFEbgpHUjPoOW4FyWlZhFf0Z3TPuni5ax0qUlDlqdQHBAQQ\n",
              "HR3NlClTAJg9ezYVK1YkOPjC+96NGzfuvK30DoeD7t27U7JkST7//PNcP/GdOHGC9PR0AJxOJzNn\n",
              "ziQqKipPEyQiBcttoWWZ0CcGH087SxKO0XPcClLOZFsdS6RQS0nPpte4FRw4eYZbShdlQp8Yinm5\n",
              "Wx1LRK5Cnne/GTNmDGPGjCEkJIQ333yTCRMmADBgwAC+/fZb13Dbtm0jPj6ebt265Xr8zJkzmTNn\n",
              "DqtWrSIqKorIyEgefPBBALZu3UqDBg2IiIigTp06HD9+nA8++OAqJk9ECoJGwaWZ3L8+ft7urN57\n",
              "gns//4tjpzOtjiVSKJ3JyqH/lyvZduQUAb5eTOoXS6liXlbHEpGrZDOF7Hxyw4YNY+TIkVbHEJEr\n",
              "sPlgKr3GL+fY6SyqlinK1AH1KedfxOpYIoWGI8fJ4MmrWbg1CT9vd74a0pCagX5WxxKRa0BXlBWR\n",
              "fCO0vB8zBzeknL83u46mcc9ny9h7/OJnwBKRy2eM4Zk5G1i4NQkvdzfG9YlRoRcpRFTqRSRfqVam\n",
              "GLOGNKRKKR8OnDxDl9HL2H7klNWxRAq8t37axqzV+7G72fj4vmhiqpS0OpKIXEMq9SKS71Qs4cNX\n",
              "QxpSo6wvSacy6TpmGev3n7Q6lkiBNXbJLkb/thOAEXfX4bbQshYnEpFrTaVeRPKlAF9vZg5uQESl\n",
              "4pxMz+a+L5azfNdxq2OJFDhz1uznte+3APB0m5p0jalkcSIRuR5U6kUk3yru48nUAfVpULUkpzMd\n",
              "9Bq/gkXbkqyOJVJgLNqWxH++Xg9A/8a3MOTWqhYnEpHrRaVeRPK1Yl7uTOwbS4uaAWQ6nAyatIrv\n",
              "1x+yOpZIvrd67wkemLIah9Nwd1QFnrujVq5rw4hI4aJSLyL5nreHndE96tIuvBzZOYaHp6/hq1X7\n",
              "rI4lkm8lHDlFv4krych20qxGGd6+Jxw3NxV6kcJMpV5ECgRPdzc+7B5F95hKOA385+v1TPhzt9Wx\n",
              "RPKdgyfP0Gv82SszRwUV59P7o/Gwa3UvUtjpUy4iBYbdzcaITnXo3/gWAP773WZGLUygkF1DT+SK\n",
              "nUjLoue45RxKySA4oBjje8fg4+ludSwRuQFU6kWkQLHZbDx/Zy0ea1UdgJG/bGf47A1kOnIsTiZi\n",
              "rfQsB30nrmTn0TTK+XszqV8sJYp6Wh1LRG4QlXoRKXBsNhuPtQrhpbtCcbPBzFX7uP+L5Rw9lWl1\n",
              "NBFLZOc4eWDKGuL3naS4jweT+sVSvngRq2OJyA2kUi8iBVbfRrcwvk8Mvt7urNp7gg4f/8GmgylW\n",
              "xxK5oZxOw1Oz1vHb9qMU8bAzvk8M1cv6Wh1LRG4wlXoRKdCa1Qhg7oONuKV0UQ6mZHDPZ8v4YYNO\n",
              "eSk3B2MMr/+whbnxB3F3s/Fpj2iig0pYHUtELKBSLyIFXrUyxZg7tBFNqpfmTHYOQ6eu4f1ftuN0\n",
              "6gBaKdxG/7aLcX+cPQvUO13CaV4jwOJEImIVlXoRKRT8fTyY0CfGdWacDxcmMHTqGtIyHRYnE7k+\n",
              "vlq5j7d+2grA83fW4u6oihYnEhErqdSLSKHhbnfjhXahvN05HA+7jZ82HabzZ0vZfyLd6mgi19Qv\n",
              "m48wfM56AIbcWo0BTapanEhErKZSLyKFTteYSkwf2IDSxTzZevgUHT7+k5V7kq2OJXJNrNidzEPT\n",
              "1uA00KVuRZ5uU8PqSCKSD6jUi0ihVK9KSeY91JjQcn4cT8vivi/+YsaKRKtjiVyVLYdS6f/lSjId\n",
              "TlrVKsuITnWw2WxWxxKRfEClXkQKrQrFi/D1Aw25s045snMMw+ds4OVvN+HIcVodTSTP9iWn03v8\n",
              "Ck5lOIipUoKP74vC3a7VuIicpaWBiBRqPp7ufHxfFMNuCwFg4tI99JmwkpPpWRYnE7l8x05n0mv8\n",
              "CpJOZVKjrC9je8Xg7WG3OpaI5CMq9SJS6NlsNh5pWZ3RPaIp4mHnjx3H6PjJn+xIOmV1NJF/dTrT\n",
              "Qd8JK9l9LI0KxYswqX8s/j4eVscSkXxGpV5Ebhptwsox+4E4KhQvwp7j6XT8ZCmLtiZZHUvkojId\n",
              "OQyevIoNB1IoWdSTyf1jKevnbXUsEcmHVOpF5KYSWt6Pbx9qRGyVkpzOdNDvy5WM+W0nxuhCVZK/\n",
              "5DgNw75ax587jlPU087EvjFULVPM6lgikk+p1IvITadUMS+mDKjPvbGVMAZG/LiVJ75aR0Z2jtXR\n",
              "RAAwxvDf7zbx/fpDeNhtjOlZj/CKxa2OJSL5mEq9iNyUPN3deOPuOvy3fW3sbjbmrD1At8//4khq\n",
              "htXRRBi1cAeTlu3FZoP3u0XSuHppqyOJSD6nUi8iNy2bzUbvuCpM6heLfxEP1u07SfuP/2DdvpNW\n",
              "R5Ob2JS/9vL+gu0A/Ld9bdqFl7c4kYgUBCr1InLTaxRcmnkPNiI4oBhHUjPpOmYZ8+IPWB1LbkI/\n",
              "bjjEC/M2AvBIi2B6NaxibSARKTBU6kVEgCqli/LN0Dha1Awg0+Hk0RnxvP3TVpxOHUArN8bSncd4\n",
              "dEY8xsC9sUE8/n/XVhARuRwq9SIi/8fX24MvetVjyK3VAPh08U4GTV7FqYxsi5NJYbfxQAqDJq0m\n",
              "K8dJm9qBvNYxDJvNZnUsESlAVOpFRP7G7mZjeNuafNAtEk93NxZsSaLzZ0vZezzN6mhSSO05lkaf\n",
              "CSs4nemgQdWSfNA9ErubCr2I5I1KvYjIBXSMqsBXgxsS4OvF9iOn6fDJnyzdcczqWFLIJKVm0Gv8\n",
              "Co6dziK0nB9f9KqHt4fd6lgiUgDludQnJCQQFxdHSEgIMTExbNq06bxhJkyYQGRkpOtWunRpOnXq\n",
              "5Lp//vz51KxZk+rVq9OpUydSU1Mv6z4RkRspslJxvn2oMREV/TmZnk3P8SuYvGyP1bGkkEjNyKb3\n",
              "hJUkJqdTuZQPX/aLxdfbw+pYIlJA5bnUDx48mEGDBrF9+3aefvpp+vTpc94wffv2JT4+3nULDAzk\n",
              "/vvvB+D06dP079+fuXPnkpCQQPny5Xn11Vf/9T4RESsE+nszc3BDOkSWJ8dpeGHeJp77ZgNZDqfV\n",
              "0aQAy8jOYeCXq9hyKJXSxbyY3K8+ZXy9rI4lIgVYnkp9UlISq1atokePHgB07tyZffv2sWPHjos+\n",
              "Zvny5SQlJdG+fXsAfvzxR6KioqhZsyYAQ4cOZfr06f9634VkZmaSmpqa65aToytCisi15e1h54Nu\n",
              "kTzdpiY2G0xdnkjPcctJTsuyOpoUQDlOw6Mz1rJ8dzK+Xu582S+GoFI+VscSkQIuT6V+3759lCtX\n",
              "Dnd3d+DshVuCgoJITEy86GPGjRtHz5498fA4+5NiYmIilStXdt1fpUoVDh06hMPhuOR9FzJixAj8\n",
              "/f1z3VasWJGXSRIRuSw2m40HmlVjbK96FPNyZ/nuZNp//AdbDmkXQbl8xhien7uBnzcdwdPdjc97\n",
              "1aN2eX+rY4lIIXBdD5RNS0tjxowZ9O/f/7qM/5lnniElJSXXLTY29ro8l4gIQMtaZZkzNI6gkj7s\n",
              "P3GGzp8t5edNh62OJQXEe//bzvQV+3CzwajukTSsVsrqSCJSSOSp1FeqVCnXlnNjDImJiQQFBV1w\n",
              "+FmzZlG7dm1CQ0NdfwsKCmLv3r2uf+/Zs8e19f9S912Il5cXfn5+uW52u84aICLXV0hZX+Y92Ii4\n",
              "aqVIz8ph8OTVfLQwAWN0oSq5uIl/7ubjRWd3V3397jq0CStncSIRKUzyVOoDAgKIjo5mypQpAMye\n",
              "PZuKFSsSHBx8weHHjRt33lb6Nm3asGbNGrZu3QrAp59+Svfu3f/1PhGR/KREUU++7BdL74Zndxl8\n",
              "75ftPDx9LWeydFyPnO/bdQf57/zNADxxWwj3xl54Y5iIyJW68CbwSxgzZgx9+vThjTfewM/PjwkT\n",
              "JgAwYMAA2rdv7zogdtu2bcTHx/PDDz/keryvry9jx46lY8eOOBwOwsLC+PLLL//1PhGR/MbD7sZ/\n",
              "O4RRI9CPF+dtZP76Q+w5nsbnPetRvngRq+NJPvH79qM88VU8xkDvhpV5qMWFN4SJiFwNmylkvxcP\n",
              "GzaMkSNHWh1DRG4yy3cd54Gpa0hOy6J0MS/G9KxL3colrI4lFovfd5L7vviL9Kwc7oooz4fdInHT\n",
              "1WJF5DrQFWVFRK6B+lVLMe/BRtQM9OXY6Uzu/fwvZq3aZ3UssdDOo6fpO2EF6Vk5NKlemve6RKjQ\n",
              "i8h1o1IvInKNVCrpw+wH4mhduyxZOU6e+no9r83fTI6zUP0gKpfhcEoGvcat4ER6NuEV/fmsR108\n",
              "3bXKFZHrR0sYEZFrqKiXO5/dX5dH/m+/6bF/7KbfxJWknMm2OJncKCfTs+g1fjkHTp6haumiTOgT\n",
              "QzGvPB/CJiKSJyr1IiLXmJubjWG31+Dj+6Lw9nDjt+1HufvTP9l19LTV0eQ6O5OVQ/8vV7H9yGnK\n",
              "+nkxqX8spYp5WR1LRG4CKvUiItdJu/DyfD0kjnL+3uw6mkaHT/7kt+1HrY4l10l2jpOHpq1h9d4T\n",
              "+Hm7M6lffSqW8LE6lojcJFTqRUSuo7AK/nz7UGPqVi7BqQwHfSesYOySXbpQVSFjjGH47A0s3JqE\n",
              "l7sb4/rEUCPQ1+pYInITUakXEbnOyvh6MW1gfbrUrYjTwGvfb+E/X68n06ELVRUWb/64ldlr9mN3\n",
              "s/HJfdHEVClpdSQRucmo1IuI3ABe7nbeviec5++shZsNZq3ez31fLOfoqUyro8lV+uL3XYz5fRcA\n",
              "b3aqQ6vQshYnEpGbkUq9iMgNYrPZGNCkKhP6xuLr7c7qvSdo//EfbDyQYnU0uUKzV+/n9R+2ADC8\n",
              "bU261KtkcSIRuVmp1IuI3GC3hpRh3oONqFq6KIdSMrhn9FK+X3/I6liSR79uPcJ/Zq8HYGCTWxjc\n",
              "tKrFiUTkZqZSLyJigaplivHNg41oGlKGjGwnD05bw8j/bcOpC1UVCKv3JjN06hpynIZOURV4pm0t\n",
              "bDZdLVZErKNSLyJiEf8iHkzoE8OAxrcAMOrXHTwwdTVpmQ6Lk8mlbD9yin4TV5GR7aR5jTK8dU84\n",
              "bm4q9CJiLZV6EREL2d1sPN8ulHfuCcfT7sbPm47Q+bOl7EtOtzqaXMCBk2foNW4FKWeyiQoqzif3\n",
              "R+Nh16pURKynJZGISD7QpV4lpg+qT+liXmw9fIoOn/zJ8l3HrY4lf5OclkXPccs5nJpB9YBiTOgT\n",
              "g4+nu9WxREQAlXoRkXyjbuWSfPtQI8Iq+JGclsX9Y5czfUWi1bEESMt00HfiSnYdTaO8vzeT+sdS\n",
              "3MfT6lgiIi4q9SIi+Uj54kWYNTiOO8PL4XAanpmzgZfmbSQ7x2l1tJtWlsPJA1PXsG7fSYr7eDCp\n",
              "fyzl/ItYHUtEJBeVehGRfKaIp52P743iydtDAPhy2V56j1/ByfQsi5PdfJxOw1Nfr+P37Ucp4mFn\n",
              "Qp8YggN8rY4lInIelXoRkXzIZrPxUIvqjOlZFx9PO0t3HqfDJ3+ScOSU1dFuGsYYXv1+M/PiD+Lu\n",
              "ZuOzHtFEBZWwOpaIyAWp1IuI5GOtawcyZ2gcFUsUYe/xdO7+dCkLtxyxOtZN4dPFO5nw5x4A3u0S\n",
              "QbMaAdYGEhG5BJV6EZF8rmagH/MebETsLSU5nelgwKRVfLZ4J8boQlXXy4wVibzz8zYAXmgXSseo\n",
              "ChYnEhG5NJV6EZECoFQxL6b0r8999YMwBt76aSuPz4wnIzvH6miFzs+bDvPsNxsAGNqsGv3/7+Jg\n",
              "IiL5mUq9iEgB4enuxht31+HVDrWxu9mYG3+QbmOWcSQ1w+pohcbyXcd5ePpanAa61avEU61rWB1J\n",
              "ROSyqNSLiBQwPRtWYXK/WIr7eLBufwp3ffQH8ftOWh2rwNtyKJUBk1aR5XByW2hZXr87DJvNZnUs\n",
              "EZHLolIvIlIAxQWXZt6DjageUIykU5l0HbOMuWsPWB2rwNqXnE6v8Ss4leEgtkpJPro3Cne7VpEi\n",
              "UnBoiSUiUkBVLlWUOUPjaFUrgCyHk8dmxvPmj1vJceoA2rw4djqTnuOWc/RUJjUDffmidz28PexW\n",
              "xxIRyROVehGRAszX24MxPesxtFk1AEb/tpOBk1ZxKiPb4mQFw6mMbPpMWMGe4+lULFGESf1i8S/i\n",
              "YXUsEZE8U6kXESng7G42/tOmJh92j8TL3Y1ftyZx96dL2XMszepo+VqmI4fBk1ez8UAqpYp6Mrl/\n",
              "fQL8vK2OJSJyRVTqRUQKiQ6RFfhqcEPK+nmxI+k0HT75kz93HLM6Vr6U4zQ8PjOepTuPU9TTzsS+\n",
              "sdxSuqjVsURErphKvYhIIRJRqTjfPdSYiErFSTmTTa/xK/hy6R5dqOpvjDG89O1GfthwGE+7G5/3\n",
              "qkediv5WxxIRuSoq9SIihUyAnzczBzXg7qgK5DgNL327iWe/2UiWw2l1tHzhw4UJTPkrEZsN3u8W\n",
              "SaPg0lZHEhG5anku9QkJCcTFxRESEkJMTAybNm264HAbNmygWbNm1KpVi1q1ajFnzhwAJkyYQGRk\n",
              "pOtWunRpOnXqBMCePXuw2+257t+5c+dVTJ6IyM3J28POyK4RPNO2JjYbTF+RSI+xyzl+OtPqaJaa\n",
              "/NdePliQAMAr7WtzZ3g5ixOJiFwb7nl9wODBgxk0aBB9+vTh66+/pk+fPqxcuTLXMOnp6XTo0IFJ\n",
              "kybRuHFjcnJySE5OBqBv37707dvXNWxYWBj333+/69++vr7Ex8df4eSIiMg5NpuNwbdWI6SsL49M\n",
              "X8uKPcm0//hPxvauR61yflbHu+G+X3+IF+dtBODRltXp2bCKtYFERK6hPG2pT0pKYtWqVfTo0QOA\n",
              "zp07s2/fPnbs2JFruGnTptGgQQMaN24MgN1up0yZMueNb/ny5SQlJdG+ffsrCp+ZmUlqamquW05O\n",
              "zhWNS0SksGpeM4BvHoyjSikfDpw8Q+fPlvLTxsNWx7qhlu44xuMz4zEG7q8fxGOtqlsdSUTkmspT\n",
              "qd+3bx/lypXD3f3sBn6bzUZQUBCJiYm5htu8eTNeXl60a9eOyMhIevXqxdGjR88b37hx4+jZsyce\n",
              "Hv//nMBpaWnExMQQHR3NK6+8csmSPmLECPz9/XPdVqxYkZdJEhG5KQQH+DL3wUY0Di5NelYOQ6as\n",
              "ZtTChJviANoN+1MYOGkVWTlO7qgTyCsdwrDZbFbHEhG5pq7LgbIOh4MFCxYwZswY1q5dS4UKFXjg\n",
              "gQdyDZOWlsaMGTPo37+/62/lypXjwIEDrFy5kgULFrBkyRLee++9iz7PM888Q0pKSq5bbGzs9Zgk\n",
              "EZECr7iPJxP7xtAnrgoAI3/ZzkPT1pKe5bA22HW0+1gafSasIC0rh4ZVS/F+t0jsbir0IlL45KnU\n",
              "V6pUiUOHDuFwnF0BGGNITEwkKCgo13BBQUE0b96cChUqYLPZ6NGjB3/99VeuYWbNmkXt2rUJDQ11\n",
              "/c3Ly4uAgAAASpYsSb9+/ViyZMlF83h5eeHn55frZrfr0t4iIhfjbnfj5fa1GdGpDh52G99vOESX\n",
              "0cs4cPKM1dGuuaTUDHqOW87xtCxql/fj81518XLXOkJECqc8lfqAgACio6OZMmUKALNnz6ZixYoE\n",
              "BwfnGq5r166sXLmS1NRUAH744QciIiJyDTNu3LhcW+nh7D772dlnL22emZnJnDlziIqKytsUiYjI\n",
              "v7o3NoipAxpQqqgnmw6m0uHjP1i9N9nqWNfMuXP07z9xhsqlfJjYNxZfb49/f6CISAGV591vxowZ\n",
              "w5gxYwgJCeHNN99kwoQJAAwYMIBvv/0WOLul/tlnnyUuLo7w8HB+/fVXRo8e7RrHtm3biI+Pp1u3\n",
              "brnG/ccffxAVFUVERATR0dEEBgby3HPPXc30iYjIRcTeUpJ5DzWiZqAvx05nce/ny/lq1T6rY121\n",
              "jOwcBk5axdbDpyjj68XkfvUp4+tldSwRkevKZgrZUVLDhg1j5MiRVscQESkw0jIdPPHVOn7adPaM\n",
              "OP0b38IzbWvibi941yd05Dh5YOoaftl8BF8vd2YObkho+Zvv9J0icvMpeEtsERG5pop6ufPp/dE8\n",
              "2vLsaR7H/bGbvhNXkpKebXGyvDHG8Nw3G/ll8xE83d0Y27ueCr2I3DRU6kVEBDc3G4/fFsKn90dT\n",
              "xMPOkoRj3P3pn+w8etrqaJft3f9tY+aqfbjZ4KN7o6hftZTVkUREbhiVehERcbmjTjm+fqAh5f29\n",
              "2XUsjY6f/Mlv28+/zkh+M/6P3XyyaCcAb9xdh9a1Ay1OJCJyY6nUi4hILrXL+zPvocbUq1yCUxkO\n",
              "+k5Ywdglu/LtharmxR/glfmbAXiqdQ26xwb9yyNERAoflXoRETlPGV8vpg6sT9d6FXEaeO37LTz1\n",
              "9XoyHRe/yrcVftt+lCe+WgdAn7gqDG1WzeJEIiLWUKkXEZEL8nK381bncF5sF4qbDb5evZ97P/+L\n",
              "pFMZVkcDYG3iCR6YshqH09A+ojwvtgvFZtPVYkXk5qRSLyIiF2Wz2ejX+BYm9o3Fz9udNYkn6fDx\n",
              "n2w8kGJprh1Jp+k3cSXpWTk0qV6ad7tE4OamQi8iNy+VehER+VdNQ8ow98FGVC1TlEMpGdwzeinf\n",
              "rTtoSZZDKWfoNW45J9KziahUnNE96uLprtWZiNzctBQUEZHLUrVMMeY+2IhmNcqQke3k4elree9/\n",
              "23A6b9wBtCfTs+g1bgUHUzKoWqYoE/rEUNTL/YY9v4hIfqVSLyIil83P24NxvWMY1LQqAB/9uoMh\n",
              "U1aTlum47s99JiuHfhNXkpB0mkA/byb1i6VkUc/r/rwiIgWBSr2IiOSJ3c3Gs3fU4t0uEXja3fjf\n",
              "5iN0/mwp+5LTr9tzZuc4GTp1NWsST+JfxINJ/WOpWMLnuj2fiEhBo1IvIiJX5J66FZkxuAFlfL3Y\n",
              "evgU7T/+g792Hb/mz+N0Gp6evZ5F247i7eHG+D71CCnre82fR0SkIFOpFxGRKxYdVIJvH2pEnQr+\n",
              "nEjPpsfY5UxdvveaPsebP21lzpoD2N1sfHp/NHUrl7ym4xcRKQxU6kVE5KqU8y/CV4MbcldEeRxO\n",
              "w3PfbOTFeRvJznFe9bjH/LaTz3/fBcBbncNpUbPsVY9TRKQwUqkXEZGrVsTTzqjukTzVugYAk5bt\n",
              "pde4FZxIy7ricX69ej8jftwKwLN31OSeuhWvSVYRkcJIpV5ERK4Jm83Gg82D+bxnXYp62lm26zgd\n",
              "PvmT7UdO5XlcC7cc4enZ6wEY1LQqg5pWu9ZxRUQKFZV6ERG5pm6vHcicoY2oVLIIicnp3P3JnyzY\n",
              "fOSyH79qTzIPTltDjtPQKboCw9vUvI5pRUQKB5V6ERG55moE+jLvwcY0qFqStKwcBk5exaeLd2DM\n",
              "pS9Ute3wKfpNXElGtpMWNQN4q3M4bm62G5RaRKTgUqkXEZHromRRTyb3r0+PBkEYA2//tI3HZsaT\n",
              "kZ1zweH3n0in1/jlpGY4qFu5BJ/cF42HXaspEZHLoaWliIhcNx52N17rWIdXO4bh7mZjXvxBuo5Z\n",
              "xuGUjFzDHT+dSa9xKziSmklI2WKM612PIp52i1KLiBQ8KvUiInLd9WxQmUn9Yynh48H6/Sm0//gP\n",
              "1iaeACAt00G/iSvZdSyN8v7efNkvluI+nhYnFhEpWFTqRUTkhoirVpp5DzamRllfkk5l0u3zv/hq\n",
              "1T6GTFnNuv0plPDxYFL/+pTzL2J1VBGRAkelXkREbpigUj7MHhpHq1plyXI4+c/X61mScAwfTzsT\n",
              "+sYSHFDM6ogiIgWSSr2IiNxQxbzc+bxnXR5qHgyAu5uN0T3qElmpuLXBREQKMHerA4iIyM3Hzc3G\n",
              "k61r0LxmAN4ebtQu7291JBGRAk2lXkRELFO3cgmrI4iIFAra/UZEREREpIBTqRcRERERKeBU6kVE\n",
              "RERECjiVehERERGRAi7PpT4hIYG4uDhCQkKIiYlh06ZNFxxuw4YNNGvWjFq1alGrVi3mzJkDwOLF\n",
              "iylSpAiRkZGu25kzZ1yPGzduHNWrV6datWoMHDiQ7OzsK5w0EREREZGbQ55L/eDBgxk0aBDbt2/n\n",
              "6aefpk+fPucNk56eTocOHXjttdfYsmULGzdupEmTJq77a9SoQXx8vOtWpMjZqwfu3r2bF154gSVL\n",
              "lrBjxw6OHDnC559/fuVTJyIiIiJyE8hTqU9KSmLVqlX06NEDgM6dO7Nv3z527NiRa7hp06bRoEED\n",
              "GjduDIDdbqdMmTL/Ov6vv/6a9u3bExgYiM1mY8iQIUyfPv2iw2dmZpKamprrlpOTk5dJEhEREREp\n",
              "8PJU6vft20e5cuVwdz97enubzUZQUBCJiYm5htu8eTNeXl60a9eOyMhIevXqxdGjR13379y5k+jo\n",
              "aGJiYvj0009df09MTKRy5cquf1epUuW8cf/diBEj8Pf3z3VbsWJFXiZJRERERKTAuy4HyjocDhYs\n",
              "WMCYMWNYu3YtFSpU4IEHHgAgOjqa/fv3s2bNGr755htGjx7NV199dUXP88wzz5CSkpLrFhsbey0n\n",
              "RUREREQk38tTqa9UqRKHDh3C4XAAYIwhMTGRoKCgXMMFBQXRvHlzKlSogM1mo0ePHvz1118A+Pn5\n",
              "4e9/9nLgFStW5N5772XJkiWux+3du9c1nj179pw37r/z8vLCz88v181ut+dlkkRERERECrw8lfqA\n",
              "gACio6OZMmUKALNnz6ZixYoEBwfnGq5r166sXLmS1NRUAH744QciIiIAOHToEE6nE4BTp04xf/58\n",
              "oqKigLP76H/77bccPnwYYwyjR4+me/fuVzeFIiIiIiKFnM0YY/LygG3bttGnTx+OHz+On58fEyZM\n",
              "oE6dOgwYMID27dvTvn17ACZPnsxbb72Fm5sbFSpU4PPPP6dSpUp8/PHHfPbZZ7i7u+NwOOjSpQsv\n",
              "vfQSNpsNgC+++II333wTgGbNmjF69Gg8PDwuO1+nTp2oUqVKXibpiuXk5LBixQpiY2P1C0EBpXlY\n",
              "sGn+FXyahwWf5mHBZtX8q1y5Mo8++ugNe76bQZ5Lvfx/qamp+Pv7k5KSgp+fn9Vx5ApoHhZsmn8F\n",
              "n+Zhwad5WLBp/hUeuqKsiIiIiEgBp1IvIiIiIlLAqdSLiIiIiBRwKvVXwcvLi5deegkvLy+ro8gV\n",
              "0jws2DT/Cj7Nw4JP87Bg0/wrPHSgrIiIiIhIAact9SIiIiIiBZxKvYiIiIhIAadSLyIiIiJSwKnU\n",
              "i4iIiIgUcCr1IiIiIiIFXKEr9fPnz6dZs2b/OtzEiRPp2LHjJYdxOp08/PDDVKtWjeDgYD7++ON/\n",
              "Ha/NZuPkyZOXF/YqvPzyyzz22GMAfPvttzz++OPXdNq///576tati5eXl+t5bqSXX36ZjIyMG/Jc\n",
              "8fHxzJgx47KGXbx4MZGRkVf9nNdyXo0aNYqwsDDq1KlDeHg4U6ZMcd3XrFkz5s6de3VhgXr16rF4\n",
              "8eLz/j537lyaN2/OxIkTAXjxxReZOnXqZY93wIABLFq06Krz/d2TTz7Jyy+/fMlhPvjgAw4fPnxZ\n",
              "47vS1/BazuNPPvmEOnXqEBkZSVhYGKNGjbrgcNfj/blq1Spq1659wz6PF3Ml03Yt58E5SUlJlC1b\n",
              "9qLD/z1nlSpViI+Pv6zxnrNnzx6KFy9+yewbN26kSpUqALz55pvccsstFxzucqf/Qv6+jrke9uzZ\n",
              "w+jRoy972OLFi1/wvms5j19++WXKlClDZGQkkZGR3H///ZeV75/69OnDBx98cEWP/bt77rnHtWz9\n",
              "pyeffJIqVaowd+5cRo8ezTvvvHPVz/dPixcv5qeffrqsYfPyGcoPruSzeSGlS5dmz549F7zv7+vN\n",
              "67GuuxD36/4MBdiUKVPYvHkz27dvJyUlhaioKJo3b07t2rWtjpZL+/btad++PfPnz79m46xevTrj\n",
              "x49n1qxZnD59+pqN93L997//5bHHHsPb2/u6P1d8fDxz586le/fu1/25rofatWvz559/4u/vz759\n",
              "+4iKiqJhw4ZUq1btqsftcDhwd7/4YmLu3LkkJye7/v3KK6/k6fFjx4696oxX4oMPPqBZs2YEBgZa\n",
              "8vx51aNHDx588EEAUlNTCQsLo0mTJkRFRV33565Xrx6bN28mIyPjhnwer7d/e0/+m8GDB9OuXTuO\n",
              "Hz9+DVNdGYfDwfDhwxk+fLjVUS7I6XQC4OZ2/vbDc6V+yJAhNzrWJd1///3XpJDfSFfzGl7q87B4\n",
              "8WJOnjxJmzZtrnj8ctaNWtdZuqXeZrPx+uuvU79+fdc3zhEjRlCvXj2qV6+ea8vg5MmTCQ8PJzw8\n",
              "nDvvvJMDBw4AkJ2dzdChQ6levTqxsbHnfROaPHky9evXJzo6mqZNm7Ju3brLzjdz5kwGDhyI3W6n\n",
              "ZMmSdOvWjenTp//r4959912ioqIICQnJtdXy/vvvp169eoSHh2Oz2Rg+fDj169cnKCiIyMhIAgMD\n",
              "8fHxwc/PzzXt7777LlWrVqVIkSL4+vrSokUL17Tn5OQwdOhQypYtS4kSJVi0aBEnT54kLCyMoUOH\n",
              "EhQURJEiRahZs6Zr2n/++Wdef/11Fi9efMHX65yQkBAiIiLytPJbtmwZjRs3JiIigvDwcObNmwec\n",
              "/434799eX3vtNWrVquXaMrJ3717XAqpJkyZERkaSlJREUlISnTp1ok6dOoSFhTFmzBjX+KpUqcLz\n",
              "zz9PXFwclSpVYvTo0UyYMIGGDRtSpUqVS26FT0pK4sUXX2TRokVERka6nvvnn38mOjraNa8effRR\n",
              "6tevT/fu3UlJSWHEiBFERUXh4+ND3759XY8JCQmhSJEi+Pj40KBBAw4cOMDixYupXbs2YWFheHl5\n",
              "UaRIkfPeR/98n65atYrhw4fzyiuvsGjRIrp27cqJEyeAs1uBBg0aRKtWrbjllluYOnUq27Zto1mz\n",
              "Ztx6660A7Nu3zzXuhQsXEhMTQ3BwME888QTGGKpUqcLQoUMpUaIE3t7eBAYG8vzzz7tezx49euDj\n",
              "40Pp0qXp3bs3iYmJPPDAA0RGRtK2bVtiY2MJCgpi2rRpbNu2jRdffJGxY8fSpk0bAgMD6d+/P4GB\n",
              "gTRt2pTo6GjX+zcsLIzvvvvO9bn18fEhJCSEJ554gsDAQAYPHkzLli0JCQmhU6dOZGVlAWc/58OH\n",
              "Dyc2NpbIyMhcr8ehQ4do3bo1oaGhtGrViv3791/yffrKK69w8OBBunXrRmRkJPHx8dhsNurWrYuP\n",
              "jw+enp50797dtSxasWIFGzduBGD27NkEBQVRs2ZNwsLCXJ/d8PBwBgwYwODBg6levTp+fn68/PLL\n",
              "rF27lmrVqjFkyJB/XRatXLmSFi1aUK9ePaKiopg1axZwtvxUrlyZF154gejoaCIiIkhPT+fdd991\n",
              "bbk/lw/OrqR79epF1apVKVasGCEhIa7P4+TJk/Hy8sq1TKhXrx4LFixg6NChlCpViiJFitCvXz9W\n",
              "rVrF3r17ad++vevzGBoaip+fH08++STFixfHy8uLKlWquD6P8+bNw8PDg7Jly1KhQgXsdjuvv/76\n",
              "ZX0e/74+KFGiBJUrV6ZcuXIUK1aM4OBg4uPjcTgcrmWbt7c31atX584772Tv3r20bt2aunXrUrJk\n",
              "SXx9falXr55rmVi7dm369+9PUFAQtWrVuqJ5ULx4cdq1a8eff/7J/PnzSU5O5vHHH7/kPDh48CBt\n",
              "27YlPDycW265hddee43JkydTu3ZtvL29adKkiStDw4YNufPOO2nWrBmnT5/m5Zdfdv1KsmDBAl5+\n",
              "+WWqVKmCu7s7gwYN4tChQ3z88cc89thjrosGZWdnY7PZKF26NMWKFeP+++/P9YvU0qVLiYyMpE6d\n",
              "OvTr14+IiAjmz5/PgAEDCAsLIyIign79+rmGP3ToEHfddRehoaG0aNHC9QV+w4YNNG7cmOjoaEJD\n",
              "Q3nttddcj3n55Zfp3LkzrVu3JiwsjEOHDl1wHt92221s3ryZcuXKUbx4capXr86YMWOIi4sjPDyc\n",
              "qlWrEhwcTHh4OP369XN9QUhLSyMkJAR/f39iYmKYPn26630cFRXFww8/TP369QkLC8Pd3Z3BgwdT\n",
              "t25d/vOf/3DkyJELvvf+bvXq1cTGxhIdHU2bNm3Yu3eva7q6du3KXXfdRUhICO3atWPjxo3YbDZK\n",
              "lixJiRIlcq3z169fT2hoKN7e3pQoUYImTZqwefNmTp06RdeuXfH19aVIkSKULFmSZ555BoCtW7cS\n",
              "FxdH7dq16dixI6mpqQBs2bKFZs2a4evri7e3NzVr1nQt5/744w8qV65M8eLFGTJkCBMnTqRVq1Y0\n",
              "bNgQHx8ffHx8qFWrFt999x0AL730EkWKFKFs2bJUrFiRYsWKXfB1iI+PZ/To0UydOpXIyEjXBpuL\n",
              "dbG/O3jwIDExMYwfP971mAst+85lvffee6lTpw716tVj165dl5w/p06dYuDAgcTGxhIeHs6gQYNc\n",
              "64lmzZrxxBNP0LRpU4KCgnjhhRf44YcfaNy4MVWqVGHkyJG5xjV16lTq1q1LcHBwrl86EhISuPPO\n",
              "O4mJiSE8PDzXXhrffvsttWrVIjw8nP/85z+5xnfu8xUWFkbfvn1xOByu+/7+i2+fPn0uuq47deoU\n",
              "3bp1o2bNmjRp0oTBgwfTp0+fS74muRgLAeaDDz4wxhizYMECU7RoUTNhwgRjjDFfffWVqVevnjHG\n",
              "mA0bNpiyZcua/fv3G2OMee2110ybNm2MMcZ8/PHHpkWLFiYzM9NkZmaaZs2amVtvvdUYY8wff/xh\n",
              "2rZtazIyMowxxvz+++8mNDTUGGPMhAkTTIcOHS6ZLywszCxdutT1708++cT07NnzX6fp+eefN8YY\n",
              "s3PnTlOiRAmze/duY4wxSUlJuYaLi4szxhgzZMgQ4+7u7pr28ePHm3r16pmpU6eaTp06uaZ90qRJ\n",
              "JiQkxLRp08a89NJLplmzZqZFixbmiy++MHfddZdp1qyZiYiIMHa73YwZM8a0bdvWjBo1ytx+++3m\n",
              "999/N9WrVzcNGjQwn376qenQoYNJSEgwgYGBrtfnQl566SXz6KOPXnKajTHm+PHjJiAgwPz+++/G\n",
              "GGNycnLM8ePHjTHGVK5c2axdu9Y1bN26dc2iRYtMcnKy8ff3N+np6cYYY9LS0syZM2dcr8+JEydc\n",
              "j+natasZPny4McaYI0eOmIoVK5ply5a5xv/YY48ZY4xJSEgw3t7e5tVXXzXGGLNixQpTunTpS2b/\n",
              "53vhyJEjpmTJkmb9+vWuLGXLljVOp9O8++67xs3Nzbz33nsmOjraPPjgg6ZevXpm586dJjw83AQE\n",
              "BJj9+/ebhIQEU6xYMXP77bebRYsWGZvNZurVq2cyMzPNRx99ZEqUKHHJ92lAQIB55ZVXXNleeeUV\n",
              "M3ToUGOMMb179zYNGjQwZ86cMZmZmaZatWqmY8eOJisry3z33XfGzc3NrFixwhhjzK233mpatGhh\n",
              "srKyTFpamqlbt66ZOnWqqVy5silXrpxZtGiROXr0qKlUqZKJjY01X331lalcubLx8fEx//vf/4wx\n",
              "xvTp08cAZtGiRcYYY8qXL2+aN29ujDGmffv2xm63u967rVu3NjabzSxevNi89NJLpnLlymb79u3G\n",
              "6XSabt26maeeesqULVvWvP/++6ZVq1amadOmZtasWaZVq1ambNmyJjY21qSlpRmHw2Hi4uLMtGnT\n",
              "jDHGvP766+aVV15xzaO/vx733HOP6zO3f/9+U7p0afPSSy9dcp7/8z0JmOjoaJOTk+N6DYcMGWKM\n",
              "MSY0NNQEBweb9957z0RFRbnm8cCBA03nzp1NmzZtjNPpNA0bNjTBwcEmMzPTNGnSxJQuXdo0bdrU\n",
              "pKenm8DAQNOwYcOLLovuuOMOExkZaQ4ePGiMMa55sn//frN7924DmKeeesqEhoYad3d34+npaX79\n",
              "9VdjjDFvv/22ueeee4wxxixatMgAZs6cOSYgIMC8/PLLpkaNGsbhcJgffvjBtG3b1gQFBZm1a9e6\n",
              "MtStW9c88sgjpkmTJsbf39+cPHnSNGvWzDRu3NicOXPGNc4TJ064ssTFxZnhw4ebH3/80VStWtVU\n",
              "rFjRfP/996ZkyZKmfPny5rHHHjPjx483gPHy8rqsz+O59cHEiRNNjRo1XOuD5ORkM2PGDFOjRg1j\n",
              "t9vN1KlTTdmyZc2IESPM7bff7lofHDt2zLU+GDhwoHn11Vddy0SbzWY++uijS64PLmceBAcHm/T0\n",
              "dNO3b19jt9svOQ8WLFhgKleubNq0aWNq1KhhkpKSTNGiRU3z5s1NRkaGiYuLM++++64JDQ01a9as\n",
              "MWXKlDHNmzc327ZtM4CpUaOGufXWW82yZcuMv7+/qVGjhlm/fr0BTMOGDU3lypWNMcY8+uijxtPT\n",
              "0xhzdn0ImDfffNNkZmaa2NhY4+bmZrKzs01mZqapWLGiK/Ovv/5qANOmTRvzwAMPmJycHGPM/19P\n",
              "nfv8Hjt2zBhjTLdu3cwbb7xhjDEmNTXV9Tqmp6ebyMhI1/L4pZdeMuXKlTOHDx++6Dw2xriWpeeW\n",
              "HdOmTTMeHh7mp59+Mhs2bDAlS5Y0pUuXNqdOnTJPPPGEcXd3NydOnDDVq1c3VatWNZmZmebIkSOm\n",
              "WLFipmHDhsYYY+bPn2+8vb3Nzp07XfOsYsWKxhhjhg0bZooWLXrB9945nTp1Mj4+PiY8PNw0b97c\n",
              "DB8+3Nxxxx2u6brllltMcnKycTqdpmnTpqZ+/foGMM8++6yJiIgwY8eONSVKlDCdO3c2ISEhpkSJ\n",
              "Embt2rWmXbt2pkuXLqZWrVpmwIAB5rbbbjNvvPGGcTqdpn///ubll182xhhTr149M3bsWGOMMevX\n",
              "rzeenp5m7Nixpnr16iY2Nta1nFu/fr0pXbq0qVy5sunYsaN54YUXzIMPPmiqVKlinnvuOePn52dW\n",
              "r15tnE6nefrpp829995rypYta7755htTu3Zt07hxY9O6dWvTq1cv1/voQv65/r9UFzu3rlq/fr0J\n",
              "DQ01P//8szHm33uYn5+f2bVrlzHGmKefftoMGjTokvNo4MCB5ssvvzTGGNfr9/bbbxtjzq7vOnfu\n",
              "bBwOh0lOTjZ+fn7mwQcfNE6n0+zfv98ULVrU1SsqV65sevbsaZxOp+uz/ueffxqHw2Hq1q1rtmzZ\n",
              "Yow520vq1KljVqxY4eoGmzZtMsYYM2bMGAOY3bt3uz5fv/zyizHGmJ9//jnXevPWW28133zzjTHm\n",
              "7Dr8Yuu6J5980vTu3ds4nU6TmppqwsLCTO/evS/5mvyd5fvUd+vWDTi79TYtLc21C0RsbCwJCQkA\n",
              "LFq0iDZt2lChQgUAhg4dyq+//kpOTg4LFy6kV69eeHp64unpmWsrw7x581i3bh3169cnMjKShx9+\n",
              "mOTkZM6cOXNdp2nAgAEAVK1alaZNm/L7778DMG3aNOrVq0dYWBiAK0enTp1wOBysXbuWefPm0ahR\n",
              "IxISEpg7dy6LFy8mKyuLO++8k7fffhu73c6vv/6K0+lk37599OrVC3d3d9zc3FzTHhwczI4dO1i3\n",
              "bh0ff/wxixcv5uGHH+bIkSMkJCQwYsQIFi1axD333IObmxuJiYlXPc3Lli2jRo0aNGnSBDj7c2vJ\n",
              "kiUv+Rg/Pz+qV69Ojx49GDNmDMnJyRf9eX/BggUMHjwYgICAADp16sSCBQtc9597HwUHB+Pt7c09\n",
              "99wDnH1fJScn5+k4h+XLl1OnTh3q1Knj+lt6ejoHDhygRo0aOJ1OPvzwQ95++22eeuopEhIS+Omn\n",
              "n9i5cyfZ2dnceeed3HPPPRQrVoxFixaRk5ND0aJFeeihh/D09KRJkyZ4eHi4xn2h9+mJEyeYNGmS\n",
              "61eE6dOns3v3btdjOnTogLe3N56entSpU4fWrVuzdetWHnjgAcLDw3NtPenVqxceHh74+PjQo0cP\n",
              "FixYgDGGI0eO8Nhjj9GqVSvOnDlDQkIC27ZtIzs7Gz8/P2677TYANm3ahIeHBwMGDCA8PJyDBw+6\n",
              "tgyWKFGCqlWr5nr9SpUq5frFoE2bNqSkpNC2bVt+++03xo0bR3JyMt9//z09evTAZrPh7u5O7969\n",
              "Abj77rvx8fHBbrcTGxvLzp07gbO7+UyZMsX1i87fX4+FCxe6PnMVKlRwbVnOq+eeew43NzeaNGmC\n",
              "0+l0fT59fX3ZvXs3CxcupEePHrRt25YKFSowd+5cNm/ezM8//0xkZCQbNmygYsWKeHp64ubmRteu\n",
              "XbHZbBQpUoRixYqxdevWiy6LkpOT2bVrF23btiUyMpJWrVoBsG3bNgC8vb15++232bRpE/PmzcPp\n",
              "dFK+fHkg97ISzv7S4unpSY0aNXjppZc4fPgwBw4cYNGiRaxbt45Dhw7RrVs3Vwan08maNWvo27cv\n",
              "1atXp1+/flSpUgWHw3HBz6O3tzdbt25l8ODBNGzYkL1799KpUyemTZtGeHg4Hh4edOvWjd69e+Pp\n",
              "6YmXl9dlfx67devG/Pnzeeihh1zrgxIlStCgQQP2799PcHAwx48fp02bNrRt25adO3e61gfvvfce\n",
              "zz33HNu2beOnn35i48aNrmVi1apVSUxMvOT64FLzwBiDm5sbU6ZMoUiRIq4t5s2bN7/oPGjZsiWA\n",
              "ax6cOXOGokWLsn79eurXr8+BAwd45ZVXSE5O5sMPPyQwMND1mrm7u7u23jZo0ABPT08aNmyIr68v\n",
              "Hh4ejBgx4oKv38KFCwFc43nooYew2WwcPnyYrVu35srcvHlzqlWrxrJly3jyySddu8iUKVPGNb42\n",
              "bdpQqlQp4OwvCec+j2fOnGHAgAHUqVOHBg0asHfv3ly/xt5xxx2ULVv2ovMYcC1Lz63zS5YsicPh\n",
              "oHXr1ixatIi77rqL8uXLEx8fT8+ePXE4HMTFxeHn58eLL76Ip6cnq1atwuFwsH79eiIjI+nbty/Z\n",
              "2dncfvvt3HHHHdhsNhwOB2fOnKFatWqkpaVdMNM52dnZlClTBpvNxr59+3jnnXfYsWOH6/7bb7+d\n",
              "EiVKYLPZiI6Odu3LP2jQIKKiojh16hRNmzblyJEj1K1bl/DwcCIjI+nfvz/Hjh3j4MGDzJkzh61b\n",
              "t/Lyyy8TGBjITz/9xIEDB0hNTSU+Pt61VbZOnTo0btyYw4cPk5GRQUJCgms5V6dOHddyrlu3bri5\n",
              "ueHu7u76Zbthw4Y4nU7atm3L9OnT+e6770hOTmbu3Ll06dIFu91Ojx49GDhw4CVfj3+6VBeDs+uK\n",
              "9u3bM23aNG6//Xbg33tYw4YNXceE/P09djFz587lnXfeITIykqioKJYsWZJrHt1zzz3Y7XbXuqld\n",
              "u3bYbDYqVKhAmTJlcu3/3r9/f9cvW+c6xbZt29i0aRPdu3cnMjKSuLg4Tp06xebNm/nrr78IDw8n\n",
              "NDTU9XhPT08A1+fr3HLj9ttvP2/d+HcXW9ctXLiQvn37YrPZ8PX1dX1eLpfl+9SfW2nY7fbz/v33\n",
              "ny7+zmazXXR8f7/PGEPv3r154403rihbUFAQe/fupWHDhsDZn2CDgoLyPB6bzcYff/zBqFGjWLZs\n",
              "GQEBAdhsNrKzswFc42/UqBFz5sxhxYoVOBwOjDHcdttteHt7uw6WOXny5EUXluem3dvb2zXt9913\n",
              "H+3atSM+Pp5PPvmEP//8k9tvv525c+dekwMoL4e7u7vrQw+4Driz2+389ddfLF26lMWLF9OgQQOm\n",
              "T5/u+mJwKf98D/y9fNjtdte/bTaba8F+Nc4937n3aXh4OPPnz2fYsGGueXVul4wLzatzjzv3/39/\n",
              "PS70Po2JieH111/n4MGDF5xX/5ze48eP065dO8aPH89bb711yen9+2v3119/4e3tzWOPPUapUqV4\n",
              "/vnn+eyzz877HJUuXZqxY8cSHR1NqVKlLnn8xrmF3Lmc3bt358033+Tw4cOsWrWKb7/9Ntf0/z3T\n",
              "P6fr3HQYY/joo49cK4pLudTy4VLO5T43r87tenbuPbR9+/ZcB2oaY5g0aRKNGjVizZo1dOnShQ4d\n",
              "Orju//sXN5vNRlxc3CVft9q1a7N06dLz/r5nzx7XlyjAtevJ/PnzqVGjxiWXlX/Pf+599tVXXzFt\n",
              "2jTq1q0LQFhYGEWLFsXNzc31efzwww9Zs2YNS5YsOW98f89y7r18rT6P54Y7VzD/vj7Iycm54PvD\n",
              "ZrPhdDpZtGgRTZo04Z577iElJYVff/3VlatYsWKXtT642DxYv349xhjXCjYlJYWsrCxatmzJwoUL\n",
              "LzkPvL29XdNts9lo3bo1U6dOxeFwEBwczDfffEPr1q2JjY3N9bh/vqbn/n2uCFzK5b7e//ZZudjn\n",
              "8dlnn6V06dKsXbsWd3d3OnXqlOtA6ovt0vH3cf5znX+h/e7P5Tv330aNGvHDDz/kWi5UrFiRChUq\n",
              "sHjxYp566ik8PDx444032LNnD5GRka7dfy40/n/y8vLi2WefZdCgQQC0bt3a9f8Xej0u9vpcyLlp\n",
              "MMawYMECfH19+eWXX/j6668vusvg5XSdf2ZwOp25lrve3t68++67rF+/Ple+YsWKXfGy8mL5ypcv\n",
              "T2ZmJr/++isRERHAv/ewvLyG58Y3e/ZsQkJCLmt8eZ1HxhhKlix5wYNov/322/OGv5RL3X+5ufI6\n",
              "jyzfUn85mjdvzk8//cTBgwcBGD16NC1btsRut9OqVSumTJlCdnY2WVlZTJgwwfW49u3bM2XKFNeW\n",
              "aKfTyapVqy77ebt06cIXX3xBTk4OycnJzJw587K+NZ3LsGfPHpYsWUKTJk04ceIEvr6+lCpVyrXv\n",
              "1Dnnvjl27dqVjz76yLVPWceOHVm3bh0//vgjBw8eJDs7mxdffJGWLVvi5uZGpUqVmDJlCg6HA6fT\n",
              "ecFpP7dAO7dlb8GCBbn2t16xYsVlvx6XEhcXR0JCgqsEOJ1O1/6XwcHBLF++3PV857Y+njp1iiNH\n",
              "jtCkSRNeeOEFGjduzNq1a4GzW0dTUlJc42/VqhVffPEFAEePHmXOnDmuLclXy8/PL9dzNWjQgA0b\n",
              "NuTaR7ZcuXKurRMAc+bM4eDBg6596lq3bs2uXbuYP3++63363HPPud6nxYoVc71Ps7Ozc20xutD7\n",
              "NCYmhvfff5/MzEzg7C8FmzZtumD+1NRU3n//fT7//PMLvibnnvfMmTNMmzaNVq1aYbPZKFu2LG++\n",
              "+SbJycl88803hIeHs3//fjw8PMjJyXEdb3Fuv9iMjAz8/PwIDw93bSnMzs7+130gT5w44doSs3Pn\n",
              "Tk6cOEFsbCzTpk3DGIPD4WDSpEmXHEfHjh15//33SU9PP+/1aNWqlWvfzUOHDp234L2Qf85zOLvf\n",
              "pzHGNW/+/gXC3d2d8ePHM2nSJNc87tixI0OGDKFFixbY7Xbi4uL4/PPPyc7Oxul08uuvv7oeX758\n",
              "eZYtW3bRZVHJkiXZvXt3rl+f4uPjXcuKv38JSk5OJiMjg/Dw8AtO2549e8jJySEhIYFXX32VsmXL\n",
              "Ur58eZo1a8aUKVOoWLEiy5cvx+l08uWXX7Jt2zbq1q3LxIkT2b9/P/Xr1+fEiRP4+/u7Po9ubm4X\n",
              "/TzC2c/D/fffz/r1610bK6ZMmXLesu5ytG/fnnHjxrn+ffLkyVzTf259kJSUBJxdH4SEhFCmTBna\n",
              "tm3Ll19+yYQJEy66TLySeeDn54efnx979uxhz549PPHEE3h7e7u2jF9oHpz7/Pzyyy+u/ZeLFy/O\n",
              "L7/8QmJiomt/7zZt2nD33Xdzxx13uD6rDoeDN998Ezi7zMzKymLZsmWukxZ8/vnnF3zec1sJL7Q+\n",
              "rFGjBtnZ2fz2228A/Pbbb+zYsYO4uDjeffdd1z7rR48evfjM+T8nTpygYsWKuLu7s23bNn755Zd/\n",
              "fcw/+fr65vr3uQP7f/nlF5o3b853333HgQMHiIyMZOrUqbi7u/PFF19Qs2ZNnn76aVJTU6lXrx6J\n",
              "iYmu42vat2/PhAkTXFtujTF5Wuc3adKE0aNHk5ycTEJCAvHx8f/6BQr+/zo/OTmZJUuWULZsWdau\n",
              "Xcv69etZt24dEyZMoEyZMlSoUIFOnTrx7LPPUqpUKXr16sVzzz3H0qVL8fPzIyoqyrUs3LRpE3/8\n",
              "8YfrWLuQkBDXcm7jxo3/upz7+3L3yJEjruXu7NmzycnJwRjjGt/F/HM5eakuBmd/uf3ll1+YO3eu\n",
              "ax/8q+1h/9SxY8dcG65OnDiRa0t9XpzbAHduHdiyZUtq1KiBn59frs/Ojh07SE5OpmHDhqxfv56t\n",
              "W7cCMH78eNcyrmbNmjgcDtfnfsGCBf/6q8OFtGjRgi+//BJjDKdPn+arr77K0+MLRKkPCwvjnXfe\n",
              "oU2bNoSHh7NkyRLXCmXgwIFUr16d0NBQGjdunGtLWpMmTXj77be5++67iYiIoHbt2pd96kKAnj17\n",
              "UrNmTapXr05MTAzDhg3LtUvGxeTk5BAVFcXtt9/OqFGjqFKlCm3atKFGjRq5dlE551wRPvdTz3PP\n",
              "PQecPbD2gQcewMvLi2rVqrm+2Z+b9rCwMKpXr85zzz3HkiVLLjjtjz76KAcPHnSdIWXatGlMnDiR\n",
              "RYsWUatWrYse5b9w4UIqVqzIyJEjGTduHBUrVrzkQqREiRJ88803DB8+nPDwcKKjo/nzzz+BswfD\n",
              "fvLJJ0RERDB+/HjX2YNSUlJcB7+Gh4eTnZ3t2g3jiSee4LbbbnP9nDhq1Ci2bNlCnTp1aN68Oc89\n",
              "9xz169f/13lxOVq2bElmZibh4eEMGTKEMmXKMHXqVHr16uUqThMnTsz1jdnDw4Np06aRk5NDZmYm\n",
              "VapU4auvvqJ48eJUq1YNb29v5s6d65pXpUqVcr1Pz+0Oc86F3qfe3t7ExMTw6quvsmjRIho0aHDR\n",
              "02+tW7eOM2fO8PTTTxMZGcny5ctzDVurVi0aNWpEnTp1aNKkievn7k6dOvHRRx9Rrlw5MjMzGTFi\n",
              "hOuMHm+99RaPP/44derUwRhD2bJlGTp0KOHh4Zw+fZovv/ySsLAwDhw4gLe3Ny+99NJFj+7/8MMP\n",
              "ueeee3jrrbdITk4mKCiIzp07U6VKFVasWMEzzzxDtWrVcm3h/6enn36amJgY6tevT3h4eK7X48MP\n",
              "P+Svv/5yvbYtWrS49AwHHnnkEQYOHOg6UBbOFvc6deq4flLv2rVrrsc0adKEOXPmYLPZaNq0KcuW\n",
              "LePYsWPs2rWL8PBwpk6dSqlSpQgNDSU+Pj7XaQZLly5N165dL7os8vDw4Pvvv+eNN94gIiKC0NBQ\n",
              "hg8f7ipaWVlZhIaGEhkZycCBA3PtHvVPtWvXZvbs2fj4+PDWW2+Rk5ND3bp1cTqdvP322xw+fJhh\n",
              "w4bh4+PDyJEjqV27Nu3ataNSpUrUqFGD4sWLu7ZMn/s8lilThttuu4077rgDp9Pp+jye+ww+99xz\n",
              "tG3blrFjx5KUlES3bt3YsGHDFW0N7Nmzp+sXj4iICO64445cXw7OrQ+GDBnCwYMHWbJkCV9//TXp\n",
              "6el88MEHbNmyhd27d190mXil8yAvateuzcSJEzl48CDjx49n+vTp2Gw2ihUrxpAhQ1wZxo8fT1JS\n",
              "Eg899JBrXXbbbbdht9vx8fFh1apV9O3bl6+//ppu3brRrl07Tp8+fdFfjM/tTtGgQYPz1odeXl7M\n",
              "mDGDRx55hDp16jBhwgRq1KjBs88+S2ZmpuuUqc8+++y/Tt/zzz/PhAkTCA8PZ/jw4Zf1mfunc7uh\n",
              "hoWF0b59ezw9PV3Lkvvuuw9/f3/8/PyIi4tj5cqVFClSBICffvqJKlWqEBgYyJ133kmXLl1ITEwk\n",
              "IiKCwYMHExAQQNeuXWnbti2nT5/O0zp/9erVHDp0iAoVKhAREYGnp+dlFbOcnBy++eYbvvjiC0aN\n",
              "GkWxYsVo2LAhgYGB1K9fn99//50DBw4wa9YsPvjgAw4cOICfnx9FihShWbNmPPzwwwBMmjSJzz//\n",
              "nLCwMJ5//nmaNm2K3W5n3rx5eHl5MXLkSLy9venSpcu/vubnlruPPvqo6z3TtGlTOnTowKpVq3jq\n",
              "qacoXrz4RU8VCmd3EYmPj3cdKHupLnaOr68vP/30E0uXLuWpp5666h72T++//z5FihRxnaCgZcuW\n",
              "Fz2l5L8pU6YMdevWJTY2loceeoi4uDjc3d2ZP38+c+bMITw83HWQ/ZkzZyhTpgzjx493TUtCQoJr\n",
              "9zRPT09mzpzpWm9OmzbN9WtFXrz44oucOnWKWrVq0aZNGyIiIi45j/7JZowxeX5WESnQzp1t6lqc\n",
              "0/xKnTp1Cl9fX7Kzs7n//vupW7cuTz/9tGV55Oqdm6dwdt/XZ555hi1btlicKv/6+uuv+eyzzy66\n",
              "xf9a+/v8WblyJe3bt2fnzp34+PjckOcvjGw2GydOnMhT8bLSufeAMYYnnniCM2fO8Nlnn1kdS/5P\n",
              "dna2a1fDtLQ0WrduzcMPP3zZ+9Zbvk+9iNycWrVqRWZmJhkZGTRu3JhHHnnE6khylT766CNmzpxJ\n",
              "Tk4Ofn5+eboQ2c2mTZs2bN++nW+++eaGPefs2bN5//33Mcbg7u7O5MmTVehvMr169WLPnj1kZGRQ\n",
              "u3bty74AmNwYJ06coG3btuTk5JCRkUGHDh3O+9X4Um76LfU//PDDBX9ufOaZZy76zWjIkCH89ddf\n",
              "5/192bJlrp8IC4KbadqTkpIueJDlbbfddl2uxHc5/n6mg7/r3bs3jz/+eK6/Xcm8euWVV5gzZ855\n",
              "f589e/Y1uTBVfpcfp/9Sn59Fixbp83gDPo/Xeh7kx/fZP13J8uNaqVev3nkHAdauXduyL3zTpk2j\n",
              "f//+5/29VatWrnO5/9ON+JxZ9T7Ky3roRrHy/VrQ3fSlXkRERESkoCsQB8qKiIiIiMjFqdSLiIiI\n",
              "iBRwKvUiIiIiIgWcSr2IiIiISAGnUi8iIiIiUsCp1IuIiIiIFHAq9SIiIiIiBdz/A4HYJ3SJpfl7\n",
              "AAAAAElFTkSuQmCC\n",
              "\">\n",
              "      </div>\n",
              "      <script type=\"text/javascript\">\n",
              "        (() => {\n",
              "          const chartElement = document.getElementById(\"chart-271ccb54-a245-43cb-8d55-2ee5c8320625\");\n",
              "          async function getCodeForChartHandler(event) {\n",
              "            const chartCodeResponse =  await google.colab.kernel.invokeFunction(\n",
              "                'getCodeForChart', [\"chart-271ccb54-a245-43cb-8d55-2ee5c8320625\"], {});\n",
              "            const responseJson = chartCodeResponse.data['application/json'];\n",
              "            await google.colab.notebook.addCell(responseJson.code, 'code');\n",
              "          }\n",
              "          chartElement.onclick = getCodeForChartHandler;\n",
              "        })();\n",
              "      </script>\n",
              "      <style>\n",
              "        .colab-quickchart-chart-with-code  {\n",
              "            display: block;\n",
              "            float: left;\n",
              "            border: 1px solid transparent;\n",
              "        }\n",
              "\n",
              "        .colab-quickchart-chart-with-code:hover {\n",
              "            cursor: pointer;\n",
              "            border: 1px solid #aaa;\n",
              "        }\n",
              "      </style>"
            ]
          },
          "metadata": {}
        },
        {
          "output_type": "display_data",
          "data": {
            "text/plain": [
              "from matplotlib import pyplot as plt\n",
              "all_model_results['f1'].plot(kind='line', figsize=(8, 4), title='f1')\n",
              "plt.gca().spines[['top', 'right']].set_visible(False)"
            ],
            "text/html": [
              "      <div class=\"colab-quickchart-chart-with-code\" id=\"chart-c3ebd911-fc5a-4e83-a24c-b26c46de5146\">\n",
              "        <img style=\"width: 180px;\" src=\"data:image/png;base64,iVBORw0KGgoAAAANSUhEUgAAAvUAAAFuCAYAAAABC+eQAAAAOXRFWHRTb2Z0d2FyZQBNYXRwbG90\n",
              "bGliIHZlcnNpb24zLjcuMSwgaHR0cHM6Ly9tYXRwbG90bGliLm9yZy/bCgiHAAAACXBIWXMAAA9h\n",
              "AAAPYQGoP6dpAAB63klEQVR4nO3dd1QU198G8GdZehepiogKiPQuYIktthg1WNDYsGJJNTG2FGOK\n",
              "ppmuYlTsvcck5hdbYgRFVOwoFgQBRQXpbXfv+wdh3xArCgwLz+ecPYm7M7PP7LQvM3fmyoQQAkRE\n",
              "REREpLG0pA5ARERERETPhkU9EREREZGGY1FPRERERKThWNQTEREREWk4FvVERERERBqORT0RERER\n",
              "kYZjUU9EREREpOFY1BMRERERaTgW9UREREREGo5FPRFRHVFWVoZhw4bBwsICxsbGyMnJkToSERFp\n",
              "CBb1RER1xJYtW3DgwAEkJycjPz8fK1euRNu2bWFoaAh7e3up4xERUR3Gop6IqI64cuUKWrZsCVNT\n",
              "UwBAkyZN8M4772D27NkSJyMiorpOW+oAREQEREREYN26dVAqlTA2NkaHDh3w22+/AQBWrFghbTgi\n",
              "IqrzWNQTEdUBK1asgKOjI/bu3Yu///5b6jhERKRh2PyGiIiIiEjDsagnIiIiItJwLOqJiIiIiDQc\n",
              "29QTEdVRCoUCCoUCZWVlAIDi4mIAgJ6eHmQymZTRiIiojuGZeiKiOurjjz+GgYEBJkyYgLS0NBgY\n",
              "GMDAwADXr1+XOhoREdUxMiGEkDoEERERERE9PZ6pJyIiIiLScCzqiYiIiIg0HIt6IiIiIiINx6Ke\n",
              "iIiIiEjDsagnIiIiItJwLOqJiIiIiDRcvSvqv/32W6kjEBERERHVqnpX1LNTFiIiIiJqaOpdUU9E\n",
              "RERE1NCwqCciIiIi0nAs6omIiIiINByLeiIiIiIiDceinoiIiIhIw7GoJyIiIiLScCzqiYiIiIg0\n",
              "HIt6IiIiIiINx6KeiIiIiEjDsagnIiIiItJwLOqJiIiIGjCVSkgdgaoBi3oiIiKiBir2yl30/u4Q\n",
              "km7lSR2FnhGLeiIiIqIG6HZeCV7bcBKJN/MQHZMsdRx6RizqiYiIiBoYpUrgzY0JuJ1XAhcbY7z3\n",
              "gpvUkegZsagnIiIiamB+2H8Zf1++AwMdOX582Q8GunKpI9EzYlFPRERE1IDEXL6Db/ZdAgB88pIH\n",
              "nG1MJE5E1YFFPREREVEDkZlXjNc2JEAIIDygGcL87KWORNWERT0RERFRA6BUCby+PgF38kvgamuC\n",
              "D/u5Sx2JqhGLeiIiIqIG4Nt9SYi9eheGunL88LIf9HXYjr4+YVFPREREVM8dSrqN7/cnAQDmhXnC\n",
              "ydpY4kRU3VjUExEREdVjt3KL8cY/7eiHBjmgn09TqSNRDWBRT0RERFRPKZQqvLb+JO4WlKKNnSk+\n",
              "eJHPo6+vqlzUJyUlITQ0FC4uLggMDMS5c+fuG0alUmHq1Klwc3ODl5cXOnfujMuXLwMAzpw5g44d\n",
              "O8LV1RUeHh4YM2YMioqK1OPKZDJ4enrCx8cHPj4+OHTo0DPMHhEREVHD9c3eJBy9lgUjXTl+fNmX\n",
              "7ejrsSoX9ZGRkZgwYQIuXbqE6dOnIyIi4r5hdu3ahcOHD+PUqVM4ffo0unbtilmzZgEA9PX18cMP\n",
              "PyAxMRGnTp1CQUEBPvvss0rjHzp0CAkJCUhISECHDh2ebs6IiIiIGrA/L93GjwfLT6rOH+CFllZs\n",
              "R1+fVamoz8zMRHx8PIYPHw4AGDBgAFJTU9Vn4SvIZDKUlJSguLgYQgjk5ubC3r78OajOzs7w8vIC\n",
              "AMjlcgQGBiI5OfmpwpeUlCA3N7fSS6lUPtW0iIiIiOqLjJwivLmxvB398GAHvOjdROpIVMOqVNSn\n",
              "pqbCzs4O2traAMqLdwcHB6SkpFQa7sUXX0SnTp1ga2sLOzs77Nu3D3Pnzr1vegUFBVi6dCn69etX\n",
              "6f2uXbvC29sbU6dORUFBwUPzzJs3D2ZmZpVecXFxVZklIiIionqloh19VkEp3JuY4t0X2I6+IaiR\n",
              "G2Xj4+Nx9uxZpKWlIT09HV27dsXEiRMrDVNaWorw8HB0794dL730kvr969ev4/jx44iJicHt27cx\n",
              "bdq0h37PzJkzkZOTU+kVFBRUE7NEREREpBG++uMSjiVnw1hPGz/yefQNhnZVBm7WrBkyMjKgUCig\n",
              "ra0NIQRSUlLg4OBQabhVq1ahS5cuMDc3BwCMGjUK3bt3V39eVlaG8PBw2NnZ4dtvv600bsW0jIyM\n",
              "MHnyZEyYMOGhefT09KCnp1fpPbmcKy4RERE1TAcSM7Ho4BUAwOcDveBoaSRxIqotVTpTb21tDT8/\n",
              "P6xZswYAsHXrVtjb28PJyanScC1btsT+/ftRWloKANi9ezc8PDwAAAqFAkOGDIGFhQWWLFkCmUym\n",
              "Hi87OxuFhYUAyp+gs3HjRvj6+j793BERERE1EOn3ivDmpgQAwKiQ5ujtaSdtIKpVVTpTDwBRUVGI\n",
              "iIjAp59+ClNTU0RHRwMAxo0bh759+6Jv376YMmUKLly4AG9vb+jo6MDW1haLFy8GAGzcuBHbtm2D\n",
              "l5eXumBv164dfvzxRyQmJiIyMhIymQwKhQJ+fn73ncknIiIiosrKlCq8uv4k7hWWwbOpGWa90Ebq\n",
              "SFTLZEIIIXWI6jR16lQsWLBA6hhEREREtWberxcQ9ddVmOhr45dXO8ChsaHUkaiWsUdZIiIiIg22\n",
              "78ItRP11FQDwxUBvFvQNFIt6IiIiIg11I7sQUzedAgCMbueInh62EiciqbCoJyIiItJApQoVXll3\n",
              "EjlFZfC2N8PMXmxH35CxqCciIiLSQJ/vSURC6j2Y6mvjh5f9oKvNsq4h49InIiIi0jD/O3cTS/++\n",
              "BgD4cpA3mlmwHX1Dx6KeiIiISIOkZhXi7c3l7ejHtW+B7u5sR08s6omIiIg0Rnk7+hPILVbA18Ec\n",
              "03u5Sh2J6ggW9UREREQaYt5vF3DqRg7MDHTw/VBf6MhZylE5rglEREREGmDP2QxEH04GACwY7A37\n",
              "RmxHT/+PRT0RERFRHZdytxDTtpwGAER2bImubWwkTkR1DYt6IiIiojqsRKHElHUnkFesgH/zRni7\n",
              "R2upI1EdxKKeiIiIqA779JcLOJOWg0aGbEdPD8e1goiIiKiO+uV0BlbGXgcALAj3QRNzA4kTUV3F\n",
              "op6IiIioDkq+U4DpW8vb0U/q1AqdW1tLnIjqMhb1RERERHVMcVl5O/r8EgUCHRvhreddpI5EdRyL\n",
              "eiIiIqI65uNfzuNcei4sjHTx/VA/aLMdPT0G1xAiIiKiOuTnU+lYcyQFMhnwdbgPbM30pY5EGoBF\n",
              "PREREVEdcfV2Pmb8045+SicnPOdiJXEi0hQs6omIiIjqgPJ29CdRUKpE2xYWeKObs9SRSIOwqCci\n",
              "IiKqAz78+TwuZOSisZEuvhvqy3b0VCVcW4iIiIgktjMhDevjytvRfzvEFzambEdPVcOinoiIiEhC\n",
              "lzPzMXPbGQDAq12c0d7ZUuJEpIlY1BMRERFJpKhUiSlrT6CwVImQlo3xele2o6enw6KeiIiISCJz\n",
              "dp3DxVt5sDTWw7dDfSDXkkkdiTQUi3oiIiIiCWw7cQMb41OhJQO+G+IDaxO2o6enx6KeiIiIqJYl\n",
              "3crD7O1nAQCvd3VBqBPb0dOzYVFPREREVIsKSxWYvPYEisqUaO9kiVe6OEkdieoBFvVEREREtej9\n",
              "neeQlJkPKxM9fB3OdvRUPapc1CclJSE0NBQuLi4IDAzEuXPn7htGpVJh6tSpcHNzg5eXFzp37ozL\n",
              "ly+rP9+9ezdcXV3h7OyMsLAw5ObmPtFnRERERJpsc3wqthy/AS0Z8P1QX1iZ6EkdieqJKhf1kZGR\n",
              "mDBhAi5duoTp06cjIiLivmF27dqFw4cP49SpUzh9+jS6du2KWbNmAQDy8/MxduxY7NixA0lJSWjS\n",
              "pAk++uijx35GREREpMku3szDezvL29FPfd4FwS0bS5yI6pMqFfWZmZmIj4/H8OHDAQADBgxAampq\n",
              "pbPwACCTyVBSUoLi4mIIIZCbmwt7e3sAwG+//QZfX1+4uroCACZPnoz169c/9rMHKSkpQW5ubqWX\n",
              "UqmsyiwRERER1biCEgUmrz2O4jIVOjhbYnIntqOn6qVdlYFTU1NhZ2cHbe3y0WQyGRwcHJCSkgIn\n",
              "p/9fOV988UUcOHAAtra2MDExQdOmTfHnn38CAFJSUtC8eXP1sI6OjsjIyIBCoXjkZxXf+W/z5s3D\n",
              "hx9+WOm94ODgqswSERERUY0SQuC9HWdx5XYBbEz18E24D7TYjp6qWY3cKBsfH4+zZ88iLS0N6enp\n",
              "6Nq1KyZOnFjt3zNz5kzk5ORUegUFBVX79xARERE9rU3xqdh2Mg1yLRm+H+qHxsZsR0/Vr0pFfbNm\n",
              "zdRnzoHyvzxTUlLg4OBQabhVq1ahS5cuMDc3h5aWFkaNGoUDBw4AABwcHHD9+nX1sMnJyeqz/4/6\n",
              "7EH09PRgampa6SWXy6syS0REREQ15kJGLt7fWf5Qkbe6uyCohYXEiai+qlJRb21tDT8/P6xZswYA\n",
              "sHXrVtjb21dqegMALVu2xP79+1FaWgqg/Ik2Hh4eAICePXvixIkTSExMBAAsXLgQQ4YMeexnRERE\n",
              "RJokv0SBKWtPoEShQqfWVpjYsZXUkageq1KbegCIiopCREQEPv30U5iamiI6OhoAMG7cOPTt2xd9\n",
              "+/bFlClTcOHCBXh7e0NHRwe2trZYvHgxAMDExARLly5F//79oVAo4OHhgZUrVz72MyIiIiJNIYTA\n",
              "7O1ncPVOAezM9LFgMNvRU82SCSGE1CGq09SpU7FgwQKpYxAREVEDtu5oCmZtPwO5lgwbJwQjwJHN\n",
              "bqhmsUdZIiIiomp0Lj0Hc34ub0f/To/WLOipVrCoJyIiIqomecVleGXdSZQqVOjqao3xHVpKHYka\n",
              "CBb1RERERNVACIGZ287g2p0CNDHTx5eDvNmOnmoNi3oiIiKiarDmaAp2n86AtpYMPwzzQyMjXakj\n",
              "UQPCop6IiIjoGZ1Ny8FHP58HAMzo5Qo/h0YSJ6KGhkU9ERER0TPILS7DlHUnUKpUoVsbG4xt30Lq\n",
              "SNQAsagnIiIiekpCCMzYehrX7xaiqbkBvhrkDZmM7eip9rGoJyIiInpKq2Kv49czN6Ejl+HHYX4w\n",
              "M9SROhI1UCzqiYiIiJ7C6Rv38PEv5e3oZ/ZqA59m5tIGogaNRT0RERFRFeUUlbejL1MK9HC3weh2\n",
              "jlJHogaORT0RERFRFQgh8M6WU0jNKkIzCwN8PpDt6El6LOqJiIiIqiD6cDJ+P3cLunIt/PiyH8wM\n",
              "2I6epMeinoiIiOgJJaTew7zfLgAAZr/QBl725tIGIvoHi3oiIiKiJ5BTWIYpa8vb0ff2tMXIkOZS\n",
              "RyJSY1FPRERE9BhCCLy95RTS7hWheWNDzB/gxXb0VKewqCciIiJ6jGV/X8Mf5/+/Hb2pPtvRU93C\n",
              "op6IiIjoEU6kZGP+b4kAgPdedINHUzOJExHdj0U9ERER0UPcKyzFK2tPQKES6ONlh+FtHaSORPRA\n",
              "LOqJiIiIHkClEnhr0ymk5xSjhaUR5oV5sh091Vks6omIiIge4KdDV7EvMRO62lr44WVfmLAdPdVh\n",
              "LOqJiIiI/iM+OQuf/34RADDnRXe4N2E7eqrbWNQTERER/UtWQSleWXcSSpVAP58mGBrUTOpIRI/F\n",
              "op4aLKVK4Hx6LpQqIXUUIiKqI1QqgambEnAztxgtLY3wyUtsR0+aQVvqAERSKCpVYvLa4zhw8TY6\n",
              "OFti0XB/GOtxcyAiaugW/3UFBy/ehp62Fn4c5sdjA2kMnqmnBie3uAyjlsfhwMXbAIBDSXcwdMkR\n",
              "3M4rkTgZERFJKe5aFr763yUAwNx+7mhjZypxIqInx6KeGpQ7+SUYEnUEcclZMNHXxsf9PWBhpIsz\n",
              "aTkYuDgG1+8WSB2RiIgkcCe/BK+uPwGlSiDMtykGB7AdPWkWFvXUYKTdK8LgxbE4n5ELS2NdbJgQ\n",
              "jOHBzbF1UiiaWRjg+t1CDFgUgzM3cqSOSkREtUilEnhzYwJu5ZaglZURPurvwXb0pHFY1FODcOV2\n",
              "PgYtisHVOwVoam6ATZEh6seTtbA0wtZJoXBvYoo7+aUIXxKLvy7dljgxERHVloUHL+NQ0h3o62hh\n",
              "4TB/GLEdPWkgFvVU751Ny8GgxbFIzylGKysjbJ4YgpZWxpWGsTbRx4YJwWjn1BiFpUqMWXEMO06m\n",
              "SZSYiIhqS+yVu1jwR3k7+o/6eaC1rYnEiYieTpWL+qSkJISGhsLFxQWBgYE4d+7cfcNER0fDx8dH\n",
              "/bK0tERYWBgA4Pfff6/0WZMmTeDn56ceVyaTwdPTU/35oUOHnmH2qKE7evUuhi45gqyCUng2NcOm\n",
              "yBA0MTd44LAm+jqIjghCX+8mUKgE3tiYgJ/+ulrLiYmIqLbczivBaxtOQiWAgf72GMR29KTBqnx9\n",
              "KTIyEhMmTEBERAS2bNmCiIgIHDt2rNIwo0ePxujRo9X/9vDwwLBhwwAAPXr0QI8ePdSf9enTB507\n",
              "d640/qFDh2Bubl7VaESV7E+8hUlrTqBEoUJQCwssGxXw2C6+dbW18E24D6xM9LDs72v45NcLuJlb\n",
              "jNm920BLi+0riYjqC+U/7ehv55XA2doYc/u5Sx2J6JlU6Ux9ZmYm4uPjMXz4cADAgAEDkJqaisuX\n",
              "Lz90nKNHjyIzMxN9+/a977P09HTs27cPI0aMqGLsciUlJcjNza30UiqVTzUtql92JqRhwqrjKFGo\n",
              "0NXVGqvGBD22oK+gpSXDe33cMKu3KwBg2d/X8MbGBJQqVDUZmYiIatEP+y/j78t3YKAjx8JhfjDU\n",
              "ZTt60mxVKupTU1NhZ2cHbe3yFV8mk8HBwQEpKSkPHWfZsmUYMWIEdHTuL6hWrFiB3r17w9rautL7\n",
              "Xbt2hbe3N6ZOnYqCgoc/YnDevHkwMzOr9IqLi6vKLFE9tPrIdbyxMQEKlUB/nyZYPMIf+jryKk9n\n",
              "QsdW+DrcG9paMuw6lY4xK44hr7isBhITEVFtirl8B9/sK29H/8lLHnC2YTt60nw1eqNsQUEBNmzY\n",
              "gLFjx973mRACy5cvv++z69ev4/jx44iJicHt27cxbdq0h05/5syZyMnJqfQKCgqq9vkgzSCEwI8H\n",
              "LuO9HWchBDAypDkWDPaBjvzpV/OXfO2xPCIQhrpy/H35DoYsOYLMvOJqTE1ERLUpM68Yr21IgBBA\n",
              "eEAzhPnZSx2JqFpUqdpp1qwZMjIyoFAoAJQXUSkpKXBwcHjg8Js3b4a7uzvc3Nzu++zPP/9EcXFx\n",
              "pfb1ANTTMjIywuTJkx95o6yenh5MTU0rveTyqp+RJc0nhMC83xLxxe8XAQCvdnHCh33dq6UdfEcX\n",
              "K2yYEIzGRro4l56LAYticO0OO6kiItI0SpXA6+sTcCe/BK1tTDCnL9vRU/1RpaLe2toafn5+WLNm\n",
              "DQBg69atsLe3h5OT0wOHX7Zs2QPP0ld8FhERUakIz87ORmFhIQBApVJh48aN8PX1rUpEaoCUKoEZ\n",
              "W89gyT9Pqnn3hTZ4q3vrau04xMveHFsnhcLBwhCpWUUYuCgGp1LvVdv0iYio5n27LwmxV+/CUFeO\n",
              "H4f5wUCXJwKp/qhyu4SoqChERUXBxcUF8+fPR3R0NABg3Lhx2LVrl3q4ixcvIiEhAeHh4fdNIycn\n",
              "B9u2bcOYMWMqvZ+YmIjg4GB4e3vD09MTd+/exTfffFPViNSAlCiUeHX9CWyMT4WWDPh8gBfGdWhZ\n",
              "I9/l+E8nVR5NTXG3oBRDfzqCgxcza+S7iIioeh1Kuo3v9ycBAOaFecLJ2vgxYxBpFpkQQkgdojpN\n",
              "nToVCxYskDoG1YLCUgUiVx/HoaQ70JVr4buhPujpYVfj35tfosCkNeXfq60lw+cDvdgmk4ioDruV\n",
              "W4ze3x4qPyET5IB5YZ5SRyKqduxRljRSTmEZhi89ikNJd2CoK8eyiIBaKegBwFhPG8tGBaKfT3kn\n",
              "VVM3nULUn1dQz/4+JiKqFxRKFV5bfxJ3C0rRxs4UH7x4/31+RPUBi3rSOJl5xQhfEosTKfdgZqCD\n",
              "NePaooOzVa1m0NXWwteDfTC+QwsAwLzfEvHR7gtQqVjYExHVJd/sTcLRa1kw0pXjx5d9n+oRx0Sa\n",
              "gEU9aZTUrEIMWhyLxJt5sDLRw8bIYPg5NJIki5aWDLNfcMPs3m0AAMsPX8NrG06iRMEO0IiI6oI/\n",
              "L93GjwfLO8icP8ALLa3Yjp7qLxb1pDEu3crDwMUxuH63EM0sDLBlYghcbU2ljoXxHVvi2yE+0JHL\n",
              "sPt0BkZHs5MqIiKpZeQU4c2N5c+jHx7sgBe9m0gdiahGsagnjXAq9R4GR8XiVm4JXGyMsWViKJo3\n",
              "NpI6llo/n6ZYHhEII105Yq7cRXjUEWTmspMqIiIpVLSjzyoohXsTU7z7AtvRU/3Hop7qvJgrd/Dy\n",
              "T0dwr7AM3s3MsXFCCGxM9aWOdZ8OzlbYGBkCS2NdnM/IRdiiGFy9nS91LCKiBuerPy7hWHI2jPW0\n",
              "8ePLfmxHTw0Ci3qq0/537iYioo+hoFSJdk6NsW5cWzQy0pU61kN5NDXD1kmhcGxsiBvZRRi4OBYJ\n",
              "7KSKiKjWHEjMxKKDVwAAnw/0gqNl3bmqS1STWNRTnbX1+A1MWnsCpQoVurvZYNmoQBjpaUsd67Ga\n",
              "NzbClkmh8GxqhqyCUgxdcgQH2EkVEVGNS79XhDc3JQAARoU0R2/P2nnUMVFdwKKe6qTow9fw1uZT\n",
              "UKoEBvrbY+Ewzbp8ammshw0TgtHB2RJFZUqMWxmPLcdvSB2LiKjeKlOq8Or6k7hXWAbPpmaY9UIb\n",
              "qSMR1SoW9VSnCCHwzd5L+PDn8wCAMe1a4PMBXtCWa96qavRPJ1Uv+TaFUiXw9uZTWHjwMjupIiKq\n",
              "AV/+fhHHr2fDRL+8Hb2etuacCCKqDppXKVG9pVIJfPjzeXyzNwkAMPV5F7zXpw20tGQSJ3t6utpa\n",
              "+GqQNyKfawkA+HzPRXz483l2UkVEVI32XbiFqL+uAgC+GOgNh8aGEiciqn0s6qlOUChVmLblNFbE\n",
              "JAMA5rzohte6OkMm09yCvoKWlgwze7XBe33KH6m2IiYZr7KTKiKianEjuxBTN50CAIxu54ieHrYS\n",
              "JyKSBot6klxxmRKT1p7A1hM3INeS4etwb0S0ayF1rGo3tn0LfDfUFzpyGX45nYFRy+OQy06qiIie\n",
              "WqlChVfWnUROURm87c0wsxfb0VPDxaKeJJVfosDo6GP44/wt6GprYfFwf7zkay91rBrT17sJVowO\n",
              "grGeNo5czcLgxbG4xU6qiIieyud7EpGQeg+m+tr44WU/6GqzrKGGi2s/SSa7oBTDfjqC2Kt3YaQr\n",
              "x4rRgXjezUbqWDWunZMlNkwIhqWxHhJv5iFsYQyusJMqIqIq+d+5m1j69zUAwJeDvNHMgu3oqWFj\n",
              "UU+SuJlTjMFRsTh1IweNDHWwfkIwQltZSh2r1ng0NcO2SaFoYWmEtHtFGLgoBidTsqWORUSkEVKz\n",
              "CvH25vJ29OPat0B3d7ajJ2JRT7Uu+U4BBi6OQVJmPmxN9bEpMgRe9uZSx6p1Do0NsWViCLztzZBd\n",
              "WIahPx3B/sRbUsciIqrTytvRn0BusQI+zczxTk9XqSMR1Qks6qlWXcjIxcDFsbiRXQTHxobYPDEE\n",
              "zjYmUseSTGNjPawbH4xOra1QXKbC+FXHsSk+VepYRER11rzfLuDUjRyYGejgh5d92Y6e6B/cEqjW\n",
              "HL+ejfCoWNzJL4GrrQk2TQxhG0iUd1L108gADPCzh1Il8M6W0/jxADupIiL6rz1nMxB9OBkAsGCw\n",
              "N+wb8RhCVIFFPdWKvy7dxvClR5FbrIB/80bYGBkCaxN9qWPVGTpyLXw5yAuTOrUCAHzx+0V8sOsc\n",
              "lOykiogIAJBytxDTtpwGAER2bImuber/gxWIqoJFPdW4X89kYOzKYygqU6KjixVWjw2CmYGO1LHq\n",
              "HJlMhuk9XfHBi26QyYBVsdfx6voTKC5jJ1VE1LCVKJSYsu4E8v45MfR2j9ZSRyKqc1jUU43adCwV\n",
              "r6w7gTKlwAuedlg6MgCGutpSx6rTRrdrge+H+kJXroVfz9zEqOVxyCliJ1VE1HB9+ssFnEkrf1ra\n",
              "90N9oSNn+UL0X9wqqMb89NdVvLP1NFQCGBrUDN8N5Q1NT6qPVxOsGB0IYz1tHL2WhfCoWNzMYSdV\n",
              "RNTw/HI6AytjrwMAFoT7oIm5gcSJiOomVlhU7YQQ+OL3RHzy6wUAQORzLfHpS56Qa8kkTqZZQp0s\n",
              "sTEyGFYm5Z1UDVgUg8uZeVLHIiKqNcl3CjB9a3k7+kmdWqFza2uJExHVXSzqqVqpVALv7zyHHw9c\n",
              "AQC807M1ZvZqA5mMBf3TcG9S3klVy4pOqhbH4vh1dlJFRPVfcVl5O/r8EgUCHRvhreddpI5EVKex\n",
              "qKdqU6ZU4c1NCVh95DpkMuCTlzwwuZOT1LE0XjOL8uf5ezczx73CMgxbegT7LrCTKiKq3z7+5TzO\n",
              "pefCwkgX3w/1gzbb0RM9ErcQqhZFpUpErj6OnQnp0NaS4dshvhjWtrnUseqNxsZ6WD++LTr/00nV\n",
              "hNXHsfFYitSxiIhqxM+n0rHmSApkMuDrcB/YmvERyESPw6KenllucRlGLY/D/sRM6Glr4aeRAejr\n",
              "3UTqWPWOoa42lowMwED/8k6qpm89g+/3JbGTKiKqV67ezseMf9rRT+nkhOdcrCRORKQZqlzUJyUl\n",
              "ITQ0FC4uLggMDMS5c+fuGyY6Oho+Pj7ql6WlJcLCwgAAycnJkMvllT6/cuWKetzdu3fD1dUVzs7O\n",
              "CAsLQ25u7jPMHtW0u/klePmnI4hLzoKJnjZWj22Lzq68kamm6Mi18MVAL0zpXN5J1Vd/XMJ7O8+y\n",
              "kyoiqhfK29GfREGpEm1bWOCNbs5SRyLSGFUu6iMjIzFhwgRcunQJ06dPR0RExH3DjB49GgkJCeqX\n",
              "ra0thg0bpv7cxMSk0uetWpUXKPn5+Rg7dix27NiBpKQkNGnSBB999NHTzx3VqLR7RRgUFYuzablo\n",
              "bKSL9ROCEdTCQupY9Z5MJsO0Hq74sK87ZDJgzZEUTFnLTqqISPN9+PN5XMgoP6Z8N9SX7eiJqqBK\n",
              "W0tmZibi4+MxfPhwAMCAAQOQmpqKy5cvP3Sco0ePIjMzE3379n3s9H/77Tf4+vrC1dUVADB58mSs\n",
              "X7/+ocOXlJQgNze30kupZGFTG67ezsegRTG4ersATcz0sXliCDyamkkdq0EZFeqIH1/2g65cC3vO\n",
              "3cTIZXHIKWQnVUSkmXYmpGF9XHk7+m+H+MLGlO3oiaqiSkV9amoq7OzsoK1d3iOoTCaDg4MDUlIe\n",
              "fsPesmXLMGLECOjo6KjfKygoQGBgIPz8/DB37lx1IZ6SkoLmzf//5kpHR0dkZGRAoVA8cNrz5s2D\n",
              "mZlZpVdcXFxVZomewtm0HAxaHIv0nGK0tDLClkmhaGllLHWsBqm3px1WjgmCiZ424pKzMDgqFhk5\n",
              "RVLHIiKqksuZ+Zi57QwA4NUuzmjvbClxIiLNU6PXtQoKCrBhwwaMHTtW/Z6dnR3S0tJw7Ngx7N27\n",
              "F4cOHcJXX331VNOfOXMmcnJyKr2CgoKqKz49QNy1LAxdcgR3C0rh0dQUmyND2LufxEJaNcamiSGw\n",
              "NtHDxVt5GLAwBkm32EkVEWmGolIlpqw9gcJSJUJaNsbrXdmOnuhpVKmob9asWaUz50IIpKSkwMHB\n",
              "4YHDb968Ge7u7nBzc1O/p6enB2vr8hspLSwsMGbMGBw6dAgA4ODggOvXr6uHTU5OrnRl4L/09PRg\n",
              "ampa6SWXy6syS1QFBxIzMWLZUeSVKBDUwgLrxgejsbGe1LEIQBs7U2ybHIqWVkZIzynGwMWxiE/O\n",
              "kjoWEdFjzdl1Dhdv5cHSWA/fDvVh7+NET6lKRb21tTX8/PywZs0aAMDWrVthb28PJ6cHdzC0bNmy\n",
              "SmfpgfJ2+WVl5e1+S0pKsG3bNvj6+gIAevbsiRMnTiAxMREAsHDhQgwZMqRqc0Q1YtepdIxfFY8S\n",
              "hQpdXK2xakwQTPV1Hj8i1Rr7RobYOjEUvg7myCkqw7ClR/HHeXZSRUR117YTN7AxPhVaMuC7IT6w\n",
              "NmE7eqKnVeXmN1FRUYiKioKLiwvmz5+P6OhoAMC4ceOwa9cu9XAXL15EQkICwsPDK43/999/w9fX\n",
              "F97e3vDz84OtrS1mz54NoPypOEuXLkX//v3h5OSEGzdu4L333nuW+aNqsObIdby+4SQUKoF+Pk0Q\n",
              "NcIf+jq8IlIXNTLSxbpxwejqao0ShQqRq+OxPo6dVBFR3ZN0Kw+zt58FALze1QWhTmxHT/QsZKKe\n",
              "9VwzdepULFiwQOoY9cbCg5fx+Z6LAIARwc3xYV93aPHSaJ2nUKowa/sZbIq/AQB4s5sLXuvqBJmM\n",
              "y46IpFdYqkC/Hw4jKTMf7Z0ssXJMEJvdED0jPgCWHkgIgXm/XVAX9K90dsLcfizoNYW2XAufDfDC\n",
              "q13Km8Z9vfcSZu9gJ1VEVDe8v/MckjLzYWWih6/D2Y6eqDqwqKf7KFUCM7edQdSfVwEAs3u3wds9\n",
              "WvMsr4aRyWR4q3trfNSvvJOqdUdTMGnNcXZSRUSS2hyfii3Hb0BLBnw/1BdWJnzgAlF1YFFPlZQo\n",
              "lHht/UlsOFZ+49LnA7wwvmNLqWPRMxgR4oiFL/tBV1sL/zt/C8OXHsW9wlKpYxFRA3TxZh7e21ne\n",
              "jn7q8y4IbtlY4kRE9QeLelIrLFVg3Mp4/HImAzpyGX582Q+DA5tJHYuqQS9PO6weEwQTfW3EX88u\n",
              "7zzsHjupIqLaU1CiwOS1x1FcpkIHZ0tM7vTgJ+cR0dNhUU8AgJzCMoxYFodDSXdgoCPH8ohA9PK0\n",
              "kzoWVaO2LRtj88QQ2JrqIykzHwMWxeASO6kiologhMB7O87iyu0C2Jjq4ZtwH96jRVTNWNQTMvOK\n",
              "Eb4kFsevZ8NUXxtrxrVFB2crqWNRDXC1NcXWyaFoZWWEjJxiDFwUg2PspIqIatim+FRsO5kGuZYM\n",
              "3w/1Y8eFRDWARX0Dl5pViMGLY5F4Mw9WJnrYNDEE/s0bSR2LalBTcwNsmRgKPwdz5BYrMHzpUfx+\n",
              "7qbUsYionrqQkYv3d54DALzV3QVBLSwkTkRUP7Gob8CSbuVh0OJYJN8thH0jA2yODIGrranUsagW\n",
              "NDLSxdpxwejWxgYlChUmrTmOtUevSx2LiOqZ/BIFpqw9gRKFCp1aW2Fix1ZSRyKqt1jUN1CnUu9h\n",
              "cFQsbuYWw9naGFsmhsLR0kjqWFSLDHTlWDzcD0MCm0ElgNnbz+LrPy6hnvVHR0QSEUJg9vYzuHqn\n",
              "AHZm+lgwmO3oiWoSi/oGKPbKXbz80xFkF5bB294MmyJDYGumL3UskoC2XAvzwjzxWldnAMC3+5Iw\n",
              "a/sZKJQqiZMRkaZbH5eKnQnp/7Sj94WFka7UkYjqNRb1Dcwf529hVHQcCkqVCG3VGGvHB6MRd7QN\n",
              "mkwmw9TnXfBxfw9oycoPxBPXnEBRKTupIqKncy49B3N+Lm9H/06P1ghwZDt6oprGor4B2XbiBiau\n",
              "OY5ShQrd3WywPCIQxnraUseiOmJ4cHMsHOYPXW0t7L1wC8OXsZMqIqq6vOIyvLLuJEoVKnRxtcb4\n",
              "DuzAkKg2sKhvIFYcvoapm05BqRIY4GePhcP8oK8jlzoW1TE9PWyxdlxbmOpr4/j1bAxcHIs0dlJF\n",
              "RE9ICIGZ287g2p0CNDHTx1eDvNmOnqiWsKiv54QQ+G5fEub8fB4AMLqdI74Y6AVtORc9PVigowU2\n",
              "TwyFrak+LmfmY8DCGFy8yU6qiOjx1hxNwe7TGdDWkuGHYX5s3klUi1jZ1WMqlcBHuy9gwR+XAABv\n",
              "dnPB+33ceNaEHqu1rQm2TQ6Fs7UxbuYWY+DiGBy9elfqWERUh51Ny8FH/5xAmtHLFX4O7POEqDax\n",
              "qK+nFEoV3tl6GssPXwMAfPCiG17v5gyZjAU9PZkm5gbYPDEEAc0bIa9YgRHL47DnbIbUsYioDsot\n",
              "LsOUdSdQqlShWxsbjG3fQupIRA0Oi/p6qLhMiclrT2DL8RuQa8nw1SBvjG7HHSxVnbmhLtaMa4vn\n",
              "3WxQqlBh0toTWH2EnVQR0f8TQmDG1tO4frcQTc0N8NUgb55AIpIAi/p6Jr9EgbErj+F/529BV1sL\n",
              "i4b5YYC/vdSxSIPp68ixaJgfhgY5QAjgvR1n8dX/LrKTKiICAKyKvY5fz9yEjlyGH4f5wcxQR+pI\n",
              "RA0Si/p6JLugFMOWHsXhy3dhpCvHitGB6O5uK3Usqge05Vr49CUPvNnNBQDw/f7LmLGVnVQRNXQn\n",
              "UrLxyS8XAAAze7WBTzNzaQMRNWAs6uuJW7nFCF8Si1Op92BuqIN144MR2spS6lhUj8hkMrzezRmf\n",
              "vuQJLRmwMT4VkauPs5MqogYq5W4hxq+MR6lShZ7uthjdzlHqSEQNGov6euD63QIMXByDS7fyYWOq\n",
              "h82RIfDm2RKqIS+3dcDi4f7Q09bCvsRMvLz0CLIL2EkVUUNyr7AUESvicLegFB5NTfHVYLajJ5Ia\n",
              "i3oNl3gzFwMXxyI1qwjNGxtiy8RQONuYSB2L6rnu7uWdVJkZ6OBkyj0MWByDG9mFUsciolpQolBi\n",
              "wurjuHq7vIOp5aMCYcTeyYkkx6Jeg51IyUZ41BHcziuBq60JNk8MQTMLQ6ljUQMR4GiBLRNDYGem\n",
              "j6u3CzBgUQwSb+ZKHYuIapAQAtO3nEbctSyY6GkjenQQrE31pY5FRGBRr7H+TrqD4UuPIqeoDH4O\n",
              "5tg4IQTWJtyxUu1ytinvpMrFxhi3ckswaHEsjrCTKqJ66+s/LmFHQjq0tWRYNNwfrW15ZZiormBR\n",
              "r4H2nM3AmBXHUFiqRAdnS6wZ15aPECPJ2JkZYHNkKIIcLZBXrMDIZXH49Qw7qSKqbzbFp+K7/ZcB\n",
              "AJ++5In2znwYA1FdwqJew2yKT8XkteW99r3gaYelowJgqMu2jCQtM0MdrBobhB7uNihVqjBl3Qms\n",
              "ik2WOhYRVZPDl+9g1rYzAIBXOjthcGAziRMR0X+xqNcgSw9dxTtbTkMlgPCAZvhuqC/0tOVSxyIC\n",
              "UN5J1cJh/hjWtryTqvd3nsMXvyeykyoiDXfpVh4mrj4OhUqgr3cTvNXdRepIRPQALOo1gBACX/3v\n",
              "Ij7+p4OPCR1bYv4AT8i1+PgwqlvkWjJ83N8Dbz1fftD/8cAVvLPlNMrYSRWRRsrMK8bo6GPIK1Eg\n",
              "yNECXwzy4qMrieqoKhf1SUlJCA0NhYuLCwIDA3Hu3Ln7homOjoaPj4/6ZWlpibCwMADAmTNn0LFj\n",
              "R7i6usLDwwNjxoxBUVGRelyZTAZPT0/1uIcOHXqG2dN8KpXAB7vO4ft/2jFO69EaM3u5cqdKdZZM\n",
              "JsOrXZ0xP6y8k6rNx29gwqp4FJYqpI5GRFVQWKrA2BXxSLtXhBaWRoga4c+rw0R1mExU8dp4ly5d\n",
              "MHLkSERERGDLli347LPPcOzYsUeO4+HhgQ8//BADBgxAUlISioqK4OXlBaVSiZdffhlt2rTBnDlz\n",
              "ygPJZMjOzoa5uflTzdDUqVOxYMGCpxq3rilTqjBt8ynsSEiHTAZ81M8Dw4ObSx2L6IntPX8LU9ad\n",
              "QIlCBZ9m5lgeEQgLI12pYxHRYyhVApGrj2PvhVuwMNLFtkmhcLQ0kjoWET1Clc7UZ2ZmIj4+HsOH\n",
              "DwcADBgwAKmpqbh8+fJDxzl69CgyMzPRt29fAICzszO8vLwAAHK5HIGBgUhOTn6q8CUlJcjNza30\n",
              "UirrR5f1xWVKTFx9XP3osG/CfVjQk8bp5maDdePbwtxQBwmp9zBwUQxSs9hJFVFd99Hu89h74RZ0\n",
              "tbXw00h/FvREGqBKRX1qairs7OygrV3+tBWZTAYHBwekpKQ8dJxly5ZhxIgR0NG5/5GLBQUFWLp0\n",
              "Kfr161fp/a5du8Lb2xtTp05FQUHBQ6c9b948mJmZVXrFxcVVZZbqpLziMoxaHod9iZnQ09bCkpH+\n",
              "6OfTVOpYRE/Fv3l5J1VNzQ1w9U4BwhbF4Hw6O6kiqquW/30NK2KSAQBfD/aBf3MLaQMR0ROp0Rtl\n",
              "CwoKsGHDBowdO/a+z0pLSxEeHo7u3bvjpZdeUr9//fp1HD9+HDExMbh9+zamTZv20OnPnDkTOTk5\n",
              "lV5BQUE1Mi+15W5+CYb+dARH/+mtb/XYtujiaiN1LKJn4mRtgq2TQtHaxgS380oQHhWLmCt3pI5F\n",
              "RP/xv3M38dEv5wEAM3q54gUvO4kTEdGTqlJR36xZM2RkZEChKL/hTQiBlJQUODg4PHD4zZs3w93d\n",
              "HW5ubpXeLysrQ3h4OOzs7PDtt99W+qxiWkZGRpg8efIjb5TV09ODqalppZdcrrk38aTfK8LgqFic\n",
              "TctFYyNdrJ8QjKAWPENC9YOtmT42TQxBUAsL5JUoELH8GHafTpc6FhH941TqPby24SSEAF5u64DI\n",
              "ji2ljkREVVClot7a2hp+fn5Ys2YNAGDr1q2wt7eHk5PTA4dftmzZfWfpFQoFhgwZAgsLCyxZsqTS\n",
              "U1yys7NRWFje3lalUmHjxo3w9fWt0gxpqqu38zFocSyu3C5Ak3+KH4+mZlLHIqpWZgY6WDUmCL08\n",
              "bFGqVOHV9Sex4vA1qWMRNXipWYUYuzIexWUqPOdihbl93fmUNSINU+XmN1FRUYiKioKLiwvmz5+P\n",
              "6OhoAMC4ceOwa9cu9XAXL15EQkICwsPDK42/ceNGbNu2DfHx8fD19YWPjw+mTJkCAEhMTERwcDC8\n",
              "vb3h6emJu3fv4ptvvnmG2dMM59JzMDgqFmn3itDS0gibJ4WilZWx1LGIaoS+jhw/vOyHkSHNIQQw\n",
              "5+fz+GwPO6kikkpOURnGrDiGO/klaGNnih+H+UFbzm5siDRNlR9pWddp2iMtjyVnYcyKY8grVsC9\n",
              "iSlWjgmCpbGe1LGIapwQAgsPXsEXv18EAAzws8f8AZ7QYTFBVGtKFSpERMch5spd2JjqYceUdrAz\n",
              "M5A6FhE9BR49JXTgYiZGLDuKvOLynvrWTwhmQU8Nhkwmw5TOTvh8gBfkWjJsPXED49lJFVGtEUJg\n",
              "1vYziLlyF0a6ciyPCGRBT6TBWNRL5OdT6Rj/T/vFzq2tsHJMEEz173/sJ1F9NziwGX4a6Q99HS0c\n",
              "vHgbQ5ccwd38EqljEdV73++/jC3Hb0CuJcMPw/zg3oT3cRFpMhb1Elh3NAWvbTgJhUqgr3cTLBkZ\n",
              "AANdzX1qD9Gz6uJqg3Xjg2FuqINTN3IwcHEsO6kiqkHbT97Agj8uAQDm9nNH59bWEiciomfFor6W\n",
              "LTp4BbO2n4EQwPBgB3wT7sM2xEQA/BwaYcvEUDQ1N8C1fzqpOpuWI3UsonrnyNW7eGfLaQBAZMeW\n",
              "GNaWvZUT1QesJmuJEALzfruAz/YkAgCmdG6Fj/p5QEuLjwwjquBkbYxtk0PhalveSdWQJUdw+DI7\n",
              "qSKqLpcz8xG5+jjKlAK9PW0xvaer1JGIqJqwqK8FSpXArO1nEfXnVQDArN6umNbDlc8AJnoAG9Py\n",
              "fhqCW1ogv0SBiOg47DrFTqqIntWd/BKMXhGHnKIy+DmYY8FgH55YIqpHWNTXsFKFCq9tOIn1cSnQ\n",
              "kgGfDfDEhI6tpI5FVKeZ6utg5ZggvOBphzKlwGvrT2L53+ykiuhpFZcpMW5lPFKziuBgYYifRgZA\n",
              "X4f3chHVJyzqa1BRqRLjV8Xjl9MZ0JHL8MPLfggPdJA6FpFG0NOW47uhvhgVUt7ed+7u85j32wWo\n",
              "VPWqaw2iGqdSCby5MQEJqfdgZqCD6NGBaMzHJxPVOyzqa0hOURlGLDuKPy/dhoGOHMtGBaK3p53U\n",
              "sYg0ilxLhjl93fFOz9YAgKg/r+LtzadQplRJnIxIc8zfk4jfzt6ErlwLS0b4s8dyonqKRX0NqLjB\n",
              "L/56Nkz1tbFmXBA6ulhJHYtII8lkMkzu5IQvBpZ3UrXtZBrGroxHQQk7qSJ6nNVHrmPJX+X3c30x\n",
              "yAttWzaWOBER1RQW9dXsRnYhBi2OwYWMXFga62FjZAj8m1tIHYtI4w0KaIalIwNgoCPHX5duY+hP\n",
              "R3CHnVQRPdSBxEx8sPMsAODt7i7o59NU4kREVJNY1Fejy5l5GLgoFsl3C2HfyABbJoagjZ2p1LGI\n",
              "6o3OrtZYN74tGhnq4PSNHAxcFIOUu+ykiui/zqblYMq6E1AJYHCAPaZ0dpI6EhHVMBb11eTMjRwM\n",
              "jjqCm7nFcLY2xpaJoXC0NJI6FlG94+vQCFsnhcK+kQGS7xYibNFhnLnBTqqIKqTfK8LYlcdQWKpE\n",
              "eydLfPKSJx+hTNQAsKivBrFX7mLoT0eQVVAKb3szbIoMga2ZvtSxiOqtllbG2DYpFG3sTHEnvxTh\n",
              "S2JxIDFT6lhEkssrLsOYFcdwK7cELjbGWDjcj72WEzUQ3NKf0d7ztzAqOg75JQqEtGyMteOD0chI\n",
              "V+pYRPWetak+NkUGo4OzJQpLlRi3Kh7r41KkjkUkmTKlClPWnUTizTxYmehheUQgTPV1pI5FRLWE\n",
              "Rf0z2HEyDZFrjqNUocLzbjaIHh0IYz1tqWMRNRgm+jpYHhGIAX72UKoEZm47g6/+dxFC8Fn21LAI\n",
              "IfD+zrP465/HKC8fFQj7RoZSxyKiWsSi/iltO3EDb2xMgFIlEObXFIuG+bF3PiIJ6Mi18OUgL7zW\n",
              "pfxGwO/3X8Zbm0+hVMFn2VPDsfjPq1gflwotGfD9UF942ptJHYmIahmL+qcU1MICtqb6iAh1xJcD\n",
              "vaHNNotEkpHJZJjavTXmh3mWP8v+RBrGrDiGvOIyqaMR1bifT6Xjsz2JAID3+7ihm5uNxImISAqs\n",
              "RJ+SfSND7H6tPT540Q1aWnyqAFFdMCTIAUtHBcBQV46/L9/BoMWxuJlTLHUsohoTn5yFtzafAgCM\n",
              "adcCEe1aSJyIiKTCov4ZWBrr8TFhRHVM59bW2DghBJbGeki8mYeXFh7GxZt5UsciqnbJdwowflW8\n",
              "+r6u2S+0kToSEUmIRT0R1Tue9mbYPjkULa2MkJFTjIGLYxBz5Y7UsYiqTVZBKSKi45BdWAZvezN8\n",
              "O8QHcl41JmrQWNQTUb3UzMIQ2yaFItCxEfKKFRi1PA47E9KkjkX0zIrLlJiwKh7JdwvR1NwAS0cF\n",
              "wlCXT14jauhY1BNRvWVuqIvVY9viBU87lCkFXt+QgIUHL/ORl6SxVCqBaVtOI/56Nkz0tbFidCCs\n",
              "TPSkjkVEdQCLeiKq1/R15Ph+qC/GtS+/gfDzPRfx3s6zUCj5yEvSPF/+7yJ+PpUObS0Zoob7w9nG\n",
              "ROpIRFRHsKgnonpPS0uGd/u44f0+bpDJgDVHUjBxzXEUliqkjkb0xDbEpWDhwSsAgPkDvBDqZClx\n",
              "IiKqS1jUE1GDMaZ9Cyx82Q962lrYeyETQ386ijv5JVLHInqsvy7dxuwdZwEAr3V1xkB/e4kTEVFd\n",
              "w6KeiBqUXp52WDe+LcwNdXAq9R7CFsbg2p0CqWMRPVTizVxMXnuivAdz36Z4s5uz1JGIqA5iUU9E\n",
              "DY5/cwtsnRSKZhYGSMkqRNjCwzh+PVvqWET3uZVbjNHRx5BfokDbFhaYN8CT/aMQ0QOxqCeiBqmV\n",
              "lTG2TWoHL3szZBeW4eWfjmDP2ZtSxyJSKyhRYMyKY8jIKUYrKyMsGREAPW251LGIqI6qclGflJSE\n",
              "0NBQuLi4IDAwEOfOnbtvmOjoaPj4+KhflpaWCAsLU3++e/duuLq6wtnZGWFhYcjNzX2iz4iIqpOV\n",
              "iR42TAhGF1drlChUmLT2OFbGJEsdiwgKpQqvrj+Jc+m5aGyki+iIIJgZ6kgdi4jqsCoX9ZGRkZgw\n",
              "YQIuXbqE6dOnIyIi4r5hRo8ejYSEBPXL1tYWw4YNAwDk5+dj7Nix2LFjB5KSktCkSRN89NFHj/2M\n",
              "iKgmGOpqY8kIf7zc1gFCAB/sOodPf70AlYrPsidpCCHw4c/nsT8xE3raWlg6KgAOjQ2ljkVEdVyV\n",
              "ivrMzEzEx8dj+PDhAIABAwYgNTUVly9ffug4R48eRWZmJvr27QsA+O233+Dr6wtXV1cAwOTJk7F+\n",
              "/frHfvYgJSUlyM3NrfRSKpVVmSUiImjLtfBJfw9M69EaALDkr6t4bcNJFJdxf0K1b9nf17D6yHXI\n",
              "ZMC3Q3zg69BI6khEpAGqVNSnpqbCzs4O2trl3VHLZDI4ODggJSXloeMsW7YMI0aMgI5O+WXDlJQU\n",
              "NG/eXP25o6MjMjIyoFAoHvnZg8ybNw9mZmaVXnFxcVWZJSIiAOX7symdnfB1uDd05DLsPp2Bkcvj\n",
              "cK+wVOpo1ID8diYDn/x6AQAwu3cb9PSwkzgREWmKGr1RtqCgABs2bMDYsWNrZPozZ85ETk5OpVdQ\n",
              "UFCNfBcRNQwv+dpjxeggmOhpI+5aFgYujsWN7EKpY1EDcDIlG29sTIAQwIjg5hj7Ty/IRERPokpF\n",
              "fbNmzSqdORdCICUlBQ4ODg8cfvPmzXB3d4ebm5v6PQcHB1y/fl397+TkZPXZ/0d99iB6enowNTWt\n",
              "9JLL+WQAIno27ZwssXlSCGxN9XE5Mx8vLYzB2bQcqWNRPZZytxDjVsajRKFCF1drfPCiGx9dSURV\n",
              "UqWi3traGn5+flizZg0AYOvWrbC3t4eTk9MDh1+2bNl9Z+l79uyJEydOIDExEQCwcOFCDBky5LGf\n",
              "ERHVJldbU2yfEgpXWxPczitBeFQs/rx0W+pYVA/dKyxFxIo43C0ohXsTU3w/1Bfacj5xmoiqpsp7\n",
              "jaioKERFRcHFxQXz589HdHQ0AGDcuHHYtWuXeriLFy8iISEB4eHhlcY3MTHB0qVL0b9/fzg5OeHG\n",
              "jRt47733HvsZEVFtszMzwKaJIWjn1BgFpUqMWXEMm46lSh2L6pEShRKRq4/j6u0C2JnpY3lEIIz0\n",
              "Hnx1mojoUWRCiHr13LapU6diwYIFUscgonqkVKHC9K2nsf1kGgDg9a7OeKObM5tH0DMRQmDqplPY\n",
              "fjINxnra2DIpBK62plLHIiINxet7RESPoauthQWDvTGlcysAwLf7kvDOltMoU6okTkaa7Ou9Sdh+\n",
              "Mg1yLRkWDvNjQU9Ez4RFPRHRE5DJZJjWwxWfvuQJLRmw+fgNjF0Zj/ySBz9yl+hRthy/ge/2JQEA\n",
              "PunvgY4uVhInIiJNx6KeiKgKXm7rgKWjAmCgI8dfl25j8OJY3MotljoWaZCYy3cwY+tpAMDkTq0w\n",
              "JOjBT5AjIqoKFvVERFXUxdUGGyODYWmsi/MZuQhbGIOkW3lSxyINkHQrD5FrjkOhEujjZYe3u7eW\n",
              "OhIR1RMs6omInoKXvTm2TWqHlpZGSLtXhAGLYnDk6l2pY1EdlplXjIjoY8grViCgeSN8OcgbWlq8\n",
              "2ZqIqgeLeiKip+TQ2BBbJ4XCv3kj5BYrMHJZHHadSpc6FtVBhaUKjFsZj7R7RXBsbIglIwOgr8PO\n",
              "Eomo+rCoJyJ6Bo2MdLF2XFv08rBFqVKF19afRNSfV1DPnhZMz0CpEnh9QwJO38hBI0MdRI8OgoWR\n",
              "rtSxiKieYVFPRPSM9HXk+OFlP4xp1wIAMO+3RHyw6xyUKhb2BHzyywX8cf4WdLW18NPIALSwNJI6\n",
              "EhHVQyzqiYiqgVxLhvdfdMO7L7SBTAasir2OiWuOo6hUKXU0ktCKw9ew/PA1AMBXg7wR4GghcSIi\n",
              "qq9Y1BMRVaNxHVrih6F+0NXWwh/nb+HlpUdwN79E6lgkgT/O38Lc3ecBAO/0bI0XvZtInIiI6jMW\n",
              "9URE1ewFLzusHdcWZgY6OJlyDwMWxSD5ToHUsagWnbmRg9fWn4RKAEMCm2HSc62kjkRE9RyLeiKi\n",
              "GhDoaIGtk0Jh38gAyXcLEbYoBidTsqWORbXgRnYhxqw8hqIyJTo4W+Kj/h6QyfjoSiKqWSzqiYhq\n",
              "iJO1MbZNDoVHU1NkFZRi6E9H8Mf5W1LHohqUW1yGMSuO4XZeCVxtTbBwmB905DzUElHN456GiKgG\n",
              "WZvoY+OEEHRqbYXiMhUiV8djdWyy1LGoBpQqVJi05jgu3cqHtYkelkcEwkRfR+pYRNRAsKgnIqph\n",
              "RnraWDoyAEMCm0ElgPd2nsP83xKh4iMv6w0hBGZvP4PDl+/CUFeO5RGBaGJuIHUsImpAWNQTEdUC\n",
              "bbkW5oV54q3nXQAAi/+8gjc2JqBEwUde1gc/HriMzcdvQEsG/PCyLzyamkkdiYgaGBb1RES1RCaT\n",
              "4dWuzvhykDe0tWTYdSodo5bHIaeoTOpo9Ax2JqThy/9dAgB82NcdXVxtJE5ERA0Ri3oiolo20N8e\n",
              "0aMDYaynjSNXszBocQzS7hVJHYuewtGrdzFt82kAwPgOLTAixFHaQETUYLGoJyKSQAdnK2yKDIGN\n",
              "qR4u3cpH2MLDOJeeI3UsqoIrt/MxYfVxlCpV6Olui5m92kgdiYgaMBb1REQScWtiiu2T28HFxhi3\n",
              "cksQHnUEh5JuSx2LnsDd/BKMjj6GnKIy+DQzx9fhPtDS4rPoiUg6LOqJiCTUxNwAmyeGIqRlY+SX\n",
              "KDA6+hi2HL8hdSx6hOIyJcatikdKViGaWRhg6agAGOjKpY5FRA0ci3oiIomZGehgxZhA9PNpAoVK\n",
              "4O3Np/DdviQIwUde1jUqlcDUTQk4mXIPpvraiI4IgqWxntSxiIhY1BMR1QV62nJ8PdgHkzq1AgAs\n",
              "+OMSZm47gzKlSuJk9G+f7UnEr2duQkcuw5KRAXCyNpY6EhERABb1RER1hpaWDNN7uuKj/h7QkgEb\n",
              "jqVi3Mp4FJQopI5GANYcuY6ov64CAD4f6IXglo0lTkRE9P9Y1BMR1TEjgpsjakQA9HW08Oel2whf\n",
              "EovMvGKpYzVoBy5m4v2dZwEAb3ZzwUu+9hInIiKqjEU9EVEd9LybDTZMCEFjI12cTcvFSz/G4HJm\n",
              "ntSxGqRz6Tl4Ze0JqAQwwM8er3V1kjoSEdF9WNQTEdVRPs3MsW1yKBwbGyLtXhEGLIpF3LUsqWM1\n",
              "KBk5RRiz4hgKSpUIbdUY88I8IZPx0ZVEVPewqCciqsOaNzbC1kmh8HUwR05RGYYvO4pfTmdIHatB\n",
              "yCsuw+joY7iVWwJna2MsGu4PXW0eNomobqry3ikpKQmhoaFwcXFBYGAgzp0798Dhzpw5g06dOqFN\n",
              "mzZo06YNtm3bBgCIjo6Gj4+P+mVpaYmwsDAAQHJyMuRyeaXPr1y58gyzR0Sk+Rob62HduGB0d7NB\n",
              "qUKFKetOYOmhq3zkZQ1SKFV4Zd1JJN7Mg6WxHpZHBMLMQEfqWERED6Vd1REiIyMxYcIEREREYMuW\n",
              "LYiIiMCxY8cqDVNYWIh+/fph1apVaN++PZRKJbKyyi8Zjx49GqNHj1YP6+HhgWHDhqn/bWJigoSE\n",
              "hKecHSKi+slAV45Fw/3x0e7zWBGTjI9/uYC0e0V49wU3yNmTabUSQuC9nefw56Xb0NfRwrJRAWhm\n",
              "YSh1LCKiR6rSmfrMzEzEx8dj+PDhAIABAwYgNTUVly9frjTcunXrEBwcjPbt2wMA5HI5rKys7pve\n",
              "0aNHkZmZib59+z5V+JKSEuTm5lZ6KZXKp5oWEVFdJ9eS4YMX3TC7dxsAQPThZExZewLFZdzvVaeo\n",
              "v65ifVwKZDLguyG+8G5mLnUkIqLHqlJRn5qaCjs7O2hrl5/gl8lkcHBwQEpKSqXhzp8/Dz09PfTp\n",
              "0wc+Pj4YOXIkbt++fd/0li1bhhEjRkBH5/8vaRYUFCAwMBB+fn6YO3fuI4v0efPmwczMrNIrLi6u\n",
              "KrNERKRRZDIZxndsie+H+kJXroU9525i2NKjyCoolTpavfDL6QzM/y0RAPDeC27o7m4rcSIioidT\n",
              "I3f8KBQK7N27F1FRUTh58iSaNm2KSZMmVRqmoKAAGzZswNixY9Xv2dnZIS0tDceOHcPevXtx6NAh\n",
              "fPXVVw/9npkzZyInJ6fSKygoqCZmiYioTnnRuwlWjw2Cqb42jl/PxoBFMUi5Wyh1LI12/HoW3tyU\n",
              "AACICHXEmPYtpA1ERFQFVSrqmzVrhoyMDCgU5b0bCiGQkpICBweHSsM5ODigc+fOaNq0KWQyGYYP\n",
              "H44jR45UGmbz5s1wd3eHm5ub+j09PT1YW1sDACwsLDBmzBgcOnTooXn09PRgampa6SWXy6syS0RE\n",
              "Gqtty8bYOikUTc0NcO1OAcIWHcap1HtSx9JIyXcKMH7VcZQqVOjWxhrv9XF7/EhERHVIlYp6a2tr\n",
              "+Pn5Yc2aNQCArVu3wt7eHk5OlTviGDx4MI4dO4bc3FwAwK+//gpvb+9KwyxbtqzSWXqgvM1+WVkZ\n",
              "gPL28tu2bYOvr2/V5oiIqAFxtjHB9smhcG9iijv5pRiy5Aj2XbgldSyNkl1QitErjiGroBSeTc3w\n",
              "3VBf3nxMRBqnys1voqKiEBUVBRcXF8yfPx/R0dEAgHHjxmHXrl0Ays/Uz5o1C6GhofDy8sL+/fux\n",
              "ePFi9TQuXryIhIQEhIeHV5r233//DV9fX3h7e8PPzw+2traYPXv2s8wfEVG9Z22qj42RIejoYoWi\n",
              "MiXGr4rH2qPXpY6lEYrLlJiwOh7X7hSgqbkBlo0KgKFulR8MR0QkOZmoZw86njp1KhYsWCB1DCKi\n",
              "WlemVGH29jPYFH8DADC5UytM69GaPaA+hEol8MbGBOw6lQ4TPW1snRwKFxsTqWMRET0Vdo1HRFRP\n",
              "6Mi18NkAL7zRzRkAsPDgFUzddAqlCpXEyeqmBX9cwq5T6dDWkmHRcH8W9ESk0VjUExHVIzKZDG90\n",
              "c8HnA70g15Jh+8k0jF4Rh9ziMqmj1SmbjqXihwPlfax8GuaJ9s6WEiciIno2LOqJiOqhwQHNsDwi\n",
              "EEa6chy+fBeDF8ciI6dI6lh1wqGk25i1/QwA4NUuThgc0EziREREz45FPRFRPfWcixU2RobA2kQP\n",
              "iTfz8NKPMbiQkSt1LEkl3szF5DUnoFAJ9PNpgqnPu0gdiYioWrCoJyKqxzyammHb5FA4WRvjZm4x\n",
              "Bi+OxeHLd6SOJYlbucUYE30MeSUKBDla4POBXryJmIjqDRb1RET1nH0jQ2ydGIq2LSyQV6JARHQc\n",
              "tp24IXWsWlVQosDYlceQnlOMlpZGWDLSH3ra7KyQiOoPFvVERA2AmaEOVo0NwoveTVCmFJi66RR+\n",
              "PHAZ9eypxg+kVAm8tv4kzqblwsJIF9GjA2FuqCt1LCKiasWinoiogdDTluPbcB9EdmwJAPji94uY\n",
              "tf0sFMr6+8hLIQQ+/Pkc9iVmQldbCz+NDEDzxkZSxyIiqnYs6omIGhAtLRlm9m6Duf3cIZMB6+NS\n",
              "MGH1cRSUKKSOViOW/X0Nq2LLe9f9JtwH/s0bSZyIiKhmsKgnImqARoY4YvFwf+hpa2F/YiaG/nQE\n",
              "t/NKpI5VrfacvYlPfr0AAJjZyxW9Pe0kTkREVHNY1BMRNVA93G2xfkIwLIx0cfpGDsIWHcaV2/lS\n",
              "x6oWCan38MbGkxACGNbWARP+aXJERFRfsagnImrA/BwaYeukUDRvbIjUrCIMWBSD+OQsqWM9k9Ss\n",
              "QoxbeQzFZSp0am2FD/u689GVRFTvsagnImrgWlgaYeukUHg3M8e9wjK8vPQofjuTIXWsp5JTWIaI\n",
              "6DjcyS9FGztT/PCyH7TlPNQRUf3HPR0REcHSWA8bxgejWxsblCpUmLzuBJb/fU3qWFVSqlAhck08\n",
              "rtwugK2pPqIjAmGspy11LCKiWsGinoiIAAAGunJEjfDH8GAHCAHM3X0eH+0+D5Wq7j/LXgiBGVtP\n",
              "48jVLBjpyrE8IhC2ZvpSxyIiqjUs6omISE2uJcNH/TwwvacrgPJHQr66/iSKy5QSJ3u0b/clYdvJ\n",
              "NMi1ZPhxmB/cmphKHYmIqFaxqCciokpkMhkmdWqFb4f4QEcuwy9nMjBi2VHcKyyVOtoDbT1+A9/s\n",
              "TQIAfNTPA51aW0uciIio9rGoJyKiB+rn0xSrxrSFib42jiVnI2xRDFKzCqWOVUnMlTuYse00ACDy\n",
              "uZZ4ua2DxImIiKTBop6IiB4qpFVjbJ0UiiZm+rh6uwAvLYzBmRs5UscCAFzOzEPk6uMoUwq84GmH\n",
              "6T1cpY5ERCQZFvVERPRILjYm2D6lHdrYmeJOfgnCl8TiQGKmpJlu55UgIvoY8ooV8HMwx1eDvaGl\n",
              "xWfRE1HDxaKeiIgey8ZUH5sig9HB2RKFpUqMWxWP9XEpkmQpKlVi3MpjuJFdhOaNDfHTyADo68gl\n",
              "yUJEVFewqCcioidioq+D5RGBGOBnD6VKYOa2M1jwv4sQovYeealUCbyx8SRO3ciBuaEOoiMC0dhY\n",
              "r9a+n4iormJRT0RET0xHroUvB3nhta7OAIDv9l/G25tPo1ShqpXv//TXC/j93C3oyrWwZEQAWloZ\n",
              "18r3EhHVdSzqiYioSmQyGaY+74LPBnhCriXD1hM3MGbFMeQVl9Xo966MScayf3q5/WKQF4JaWNTo\n",
              "9xERaRIW9URE9FTCAx2wdFQADHXl+PvyHQxaHIubOcU18l37LtzChz+fAwBM69Ea/Xya1sj3EBFp\n",
              "Khb1RET01Dq3tsbGCSGwNNZD4s08vLTwMC7ezKvW7zhzIwevrDsJlQDCA5phcqdW1Tp9IqL6gEU9\n",
              "ERE9E097M2yfHIpWVkbIyCnGwMUxiLlyp1qmnXavCGNWHkNRmRLtnSzx8UsekMn46Eoiov9iUU9E\n",
              "RM+smYUhtk4KRaBjI+QVKzBqeRx2JqQ90zRzi8swJvoYbueVoLWNCRYO94OOnIctIqIHqfLeMSkp\n",
              "CaGhoXBxcUFgYCDOnTv3wOHOnDmDTp06oU2bNmjTpg22bdsGADh48CAMDAzg4+OjfhUVFanHW7Zs\n",
              "GZydndGqVSuMHz8eZWU1e+MVERFVD3NDXawe2xYveNqhTCnw+oYELDx4+akeeVmmVGHymhO4eCsP\n",
              "ViZ6WD46EKb6OjWQmoiofqhyUR8ZGYkJEybg0qVLmD59OiIiIu4bprCwEP369cPHH3+MCxcu4OzZ\n",
              "s+jQoYP689atWyMhIUH9MjAwAABcu3YN7733Hg4dOoTLly/j1q1bWLJkydPPHRER1Sp9HTm+H+qL\n",
              "ce1bAAA+33MR7+08C4XyyR95KYTAu9vP4u/Ld2CgI8fyUYFoam5QU5GJiOqFKhX1mZmZiI+Px/Dh\n",
              "wwEAAwYMQGpqKi5fvlxpuHXr1iE4OBjt27cHAMjlclhZWT12+lu2bEHfvn1ha2sLmUyGiRMnYv36\n",
              "9Q8dvqSkBLm5uZVeSqWyKrNERETVTEtLhnf7uOGDF90gkwFrjqRg4prjKCxVPNH4Cw9ewcb4VGjJ\n",
              "gO+H+sLT3qyGExMRab4qFfWpqamws7ODtrY2gPJnFTs4OCAlpXJX4efPn4eenh769OkDHx8fjBw5\n",
              "Erdv31Z/fuXKFfj5+SEwMBALFy5Uv5+SkoLmzZur/+3o6HjftP9t3rx5MDMzq/SKi4uryiwREVEN\n",
              "Gd2uBRYN84Oethb2XsjE0J+O4k5+ySPH2ZmQhi9+vwgA+OBFd3Rzs6mNqEREGq9G7jhSKBTYu3cv\n",
              "oqKicPLkSTRt2hSTJk0CAPj5+eHGjRs4ceIEtm/fjsWLF2PTpk1P9T0zZ85ETk5OpVdQUFB1zgoR\n",
              "ET2Dnh52WDe+LcwNdXAq9R7CFsbg2p2CBw4bdy0L0zafBgCMbd8Co0IdazEpEZFmq1JR36xZM2Rk\n",
              "ZEChKL+EKoRASkoKHBwcKg3n4OCAzp07o2nTppDJZBg+fDiOHDkCADA1NYWZWfmlVHt7ewwdOhSH\n",
              "Dh1Sj3f9+nX1dJKTk++b9r/p6enB1NS00ksul1dlloiIqIb5N7fA1kmhaGZhgJSsQoQtPIzj17Mr\n",
              "DXP1dj4mrI5HqVKFHu42mNW7jURpiYg0U5WKemtra/j5+WHNmjUAgK1bt8Le3h5OTk6Vhhs8eDCO\n",
              "HTuG3NxcAMCvv/4Kb29vAEBGRgZUqvIbpvLy8rB79274+voCKG+jv2vXLty8eRNCCCxevBhDhgx5\n",
              "tjkkIiLJtbIyxrZJ7eBlb4bswjK8/NMR/H7uJgDgbn4JRq84hnuFZfC2N8M34b6Qa/FZ9EREVVHl\n",
              "5jdRUVGIioqCi4sL5s+fj+joaADAuHHjsGvXLgDlZ9xnzZqF0NBQeHl5Yf/+/Vi8eDGA8j8EPD09\n",
              "4e3tjeDgYDz//PMYPXo0AKBly5b48MMP0a5dOzg5OcHKygqRkZHVNa9ERCQhKxM9bJgQjK6u1ihR\n",
              "qDBxzXEsPXQVE1Yfx/W7hbBvZIClowJhoMsrrkREVSUTT/MA4Tps6tSpWLBggdQxiIjoIRRKFd7f\n",
              "dQ7rjv7/gxBM9bWxbXIonKxNJExGRKS52DUfERHVKm25Fj7p74FpPVoDAHTkMiwe4c+CnojoGWhL\n",
              "HYCIiBoemUyGKZ2dENqqMfS05XBrYip1JCIijcainoiIJOPr0EjqCERE9QKb3xARERERaTgW9URE\n",
              "REREGo5FPRERERGRhmNRT0RERESk4VjUExERERFpOBb1REREREQajkU9EREREZGGY1FPRERERKTh\n",
              "WNQTEREREWk4FvVERERERBqORT0RERERkYaTCSGE1CGqU1hYGBwdHWvlu5RKJeLi4hAUFAS5XF4r\n",
              "30nVi8tQs3H5aT4uQ83HZajZpFp+zZs3x+uvv15r39cQ1Luivjbl5ubCzMwMOTk5MDU1lToOPQUu\n",
              "Q83G5af5uAw1H5ehZuPyqz/Y/IaIiIiISMOxqCciIiIi0nAs6omIiIiINByL+megp6eHDz74AHp6\n",
              "elJHoafEZajZuPw0H5eh5uMy1GxcfvUHb5QlIiIiItJwPFNPRERERKThWNQTEREREWk4FvVERERE\n",
              "RBqORT0RERERkYZjUU9EREREpOHqXVG/e/dudOrU6bHDrVixAv3793/kMCqVCq+++ipatWoFJycn\n",
              "/PDDD4+drkwmw717954s7DOYM2cO3njjDQDArl278Oabb1brvP/yyy/w9/eHnp6e+ntq05w5c1Bc\n",
              "XFwr35WQkIANGzY80bAHDx6Ej4/PM39ndS6r7777Dh4eHvD09ISXlxfWrFmj/qxTp07YsWPHs4UF\n",
              "EBAQgIMHD973/o4dO9C5c2esWLECAPD+++9j7dq1TzzdcePG4cCBA8+c79/efvttzJkz55HDfPPN\n",
              "N7h58+YTTe9pf8PqXMY//vgjPD094ePjAw8PD3z33XcPHK4m1s/4+Hi4u7vX2vb4ME8zb9W5DCpk\n",
              "ZmbCxsbmocP/O6ejoyMSEhKeaLoVkpOTYW5u/sjsZ8+ehaOjIwBg/vz5aNGixQOHe9L5f5B/H2Nq\n",
              "QnJyMhYvXvzEw5qbmz/ws+pcxnPmzIGVlRV8fHzg4+ODYcOGPVG+/4qIiMA333zzVOP+28CBA9X7\n",
              "1v96++234ejoiB07dmDx4sX44osvnvn7/uvgwYPYs2fPEw1blW2oLniabfNBLC0tkZyc/MDP/n3c\n",
              "rIlj3YNo1/g3aLA1a9bg/PnzuHTpEnJycuDr64vOnTvD3d1d6miV9O3bF3379sXu3burbZrOzs5Y\n",
              "vnw5Nm/ejPz8/Gqb7pP68MMP8cYbb0BfX7/GvyshIQE7duzAkCFDavy7aoK7uzsOHz4MMzMzpKam\n",
              "wtfXFyEhIWjVqtUzT1uhUEBb++G7iR07diArK0v977lz51Zp/KVLlz5zxqfxzTffoFOnTrC1tZXk\n",
              "+6tq+PDhmDJlCgAgNzcXHh4e6NChA3x9fWv8uwMCAnD+/HkUFxfXyvZY0x63Tj5OZGQk+vTpg7t3\n",
              "71ZjqqejUCgwY8YMzJgxQ+ooD6RSqQAAWlr3nz+sKOonTpxY27EeadiwYdVSkNemZ/kNH7U9HDx4\n",
              "EPfu3UPPnj2fevpUrraOdZKeqZfJZPjkk0/Qtm1b9V+c8+bNQ0BAAJydnSudGVy9ejW8vLzg5eWF\n",
              "F154AWlpaQCAsrIyTJ48Gc7OzggKCrrvL6HVq1ejbdu28PPzQ8eOHXHq1Kknzrdx40aMHz8ecrkc\n",
              "FhYWCA8Px/r16x873pdffglfX1+4uLhUOms5bNgwBAQEwMvLCzKZDDNmzEDbtm3h4OAAHx8f2Nra\n",
              "wtDQEKampup5//LLL9GyZUsYGBjAxMQEXbp0Uc+7UqnE5MmTYWNjg0aNGuHAgQO4d+8ePDw8MHny\n",
              "ZDg4OMDAwACurq7qef/999/xySef4ODBgw/8vSq4uLjA29u7Sge/2NhYtG/fHt7e3vDy8sLOnTsB\n",
              "3P8X8b//ev3444/Rpk0b9ZmR69evq3dQHTp0gI+PDzIzM5GZmYmwsDB4enrCw8MDUVFR6uk5Ojri\n",
              "3XffRWhoKJo1a4bFixcjOjoaISEhcHR0fORZ+MzMTLz//vs4cOAAfHx81N/9+++/w8/PT72sXn/9\n",
              "dbRt2xZDhgxBTk4O5s2bB19fXxgaGmL06NHqcVxcXGBgYABDQ0MEBwcjLS0NBw8ehLu7Ozw8PKCn\n",
              "pwcDA4P71qP/rqfx8fGYMWMG5s6diwMHDmDw4MHIzs4GUH4WaMKECejWrRtatGiBtWvX4uLFi+jU\n",
              "qROee+45AEBqaqp62vv27UNgYCCcnJzw1ltvQQgBR0dHTJ48GY0aNYK+vj5sbW3x7rvvqn/P4cOH\n",
              "w9DQEJaWlhg1ahRSUlIwadIk+Pj4oFevXggKCoKDgwPWrVuHixcv4v3338fSpUvRs2dP2NraYuzY\n",
              "sbC1tUXHjh3h5+enXn89PDzw888/q7dbQ0NDuLi44K233oKtrS0iIyPRtWtXuLi4ICwsDKWlpQDK\n",
              "t/MZM2YgKCgIPj4+lX6PjIwM9OjRA25ubujWrRtu3LjxyPV07ty5SE9PR3h4OHx8fJCQkACZTAZ/\n",
              "f38YGhpCV1cXQ4YMUe+L4uLicPbsWQDA1q1b4eDgAFdXV3h4eKi3XS8vL4wbNw6RkZFwdnaGqakp\n",
              "5syZg5MnT6JVq1aYOHHiY/dFx44dQ5cuXRAQEABfX19s3rwZQHnx07x5c7z33nvw8/ODt7c3CgsL\n",
              "8eWXX6rP3FfkA8oP0iNHjkTLli1hbGwMFxcX9fa4evVq6OnpVdonBAQEYO/evZg8eTIaN24MAwMD\n",
              "jBkzBvHx8bh+/Tr69u2r3h7d3NxgamqKt99+G+bm5tDT04Ojo6N6e9y5cyd0dHRgY2ODpk2bQi6X\n",
              "45NPPnmi7fHfx4NGjRqhefPmsLOzg7GxMZycnJCQkACFQqHet+nr68PZ2RkvvPACrl+/jh49esDf\n",
              "3x8WFhYwMTFBQECAep/o7u6OsWPHwsHBAW3atHmqZWBubo4+ffrg8OHD2L17N7KysvDmm28+chmk\n",
              "p6ejV69e8PLyQosWLfDxxx9j9erVcHd3h76+Pjp06KDOEBISghdeeAGdOnVCfn4+5syZo75Ksnfv\n",
              "XsyZMweOjo7Q1tbGhAkTkJGRgR9++AFvvPGGutOgsrIyyGQyWFpawtjYGMOGDat0RSomJgY+Pj7w\n",
              "9PTEmDFj4O3tjd27d2PcuHHw8PCAt7c3xowZox4+IyMDL774Itzc3NClSxf1H/BnzpxB+/bt4efn\n",
              "Bzc3N3z88cfqcebMmYMBAwagR48e8PDwQEZGxgOX8fPPP4/z58/Dzs4O5ubmcHZ2RlRUFEJDQ+Hl\n",
              "5YWWLVvCyckJXl5eGDNmjPoPhIKCAri4uMDMzAyBgYFYv369ej329fXFq6++irZt28LDwwPa2tqI\n",
              "jIyEv78/3nnnHdy6deuB696/HT9+HEFBQfDz80PPnj1x/fp19XwNHjwYL774IlxcXNCnTx+cPXsW\n",
              "MpkMFhYWaNSoUaVj/unTp+Hm5gZ9fX00atQIHTp0wPnz55GXl4fBgwfDxMQEBgYGsLCwwMyZMwEA\n",
              "iYmJCA0Nhbu7O/r374/c3FwAwIULF9CpUyeYmJhAX18frq6u6v3c33//jebNm8Pc3BwTJ07EihUr\n",
              "0K1bN4SEhMDQ0BCGhoZo06YNfv75ZwDABx98AAMDA9jY2MDe3h7GxsYP/B0SEhKwePFirF27Fj4+\n",
              "PuoTNg+rxf4tPT0dgYGBWL58uXqcB+37KrIOHToUnp6eCAgIwNWrVx+5fPLy8jB+/HgEBQXBy8sL\n",
              "EyZMUB8nOnXqhLfeegsdO3aEg4MD3nvvPfz6669o3749HB0dsWDBgkrTWrt2Lfz9/eHk5FTpSkdS\n",
              "UhJeeOEFBAYGwsvLq1IrjV27dqFNmzbw8vLCO++8U2l6FduXh4cHRo8eDYVCof7s31d8IyIiHnqs\n",
              "y8vLQ3h4OFxdXdGhQwdERkYiIiLikb9JJUJCAMQ333wjhBBi7969wsjISERHRwshhNi0aZMICAgQ\n",
              "Qghx5swZYWNjI27cuCGEEOLjjz8WPXv2FEII8cMPP4guXbqIkpISUVJSIjp16iSee+45IYQQf//9\n",
              "t+jVq5coLi4WQgjx119/CTc3NyGEENHR0aJfv36PzOfh4SFiYmLU//7xxx/FiBEjHjtP7777rhBC\n",
              "iCtXrohGjRqJa9euCSGEyMzMrDRcaGioEEKIiRMnCm1tbfW8L1++XAQEBIi1a9eKsLAw9byvWrVK\n",
              "uLi4iJ49e4oPPvhAdOrUSXTp0kX89NNP4sUXXxSdOnUS3t7eQi6Xi6ioKNGrVy/x3Xffie7du4u/\n",
              "/vpLODs7i+DgYLFw4ULRr18/kZSUJGxtbdW/z4N88MEH4vXXX3/kPAshxN27d4W1tbX466+/hBBC\n",
              "KJVKcffuXSGEEM2bNxcnT55UD+vv7y8OHDggsrKyhJmZmSgsLBRCCFFQUCCKiorUv092drZ6nMGD\n",
              "B4sZM2YIIYS4deuWsLe3F7Gxserpv/HGG0IIIZKSkoS+vr746KOPhBBCxMXFCUtLy0dm/++6cOvW\n",
              "LWFhYSFOnz6tzmJjYyNUKpX48ssvhZaWlvjqq6+En5+fmDJliggICBBXrlwRXl5ewtraWty4cUMk\n",
              "JSUJY2Nj0b17d3HgwAEhk8lEQECAKCkpEd9//71o1KjRI9dTa2trMXfuXHW2uXPnismTJwshhBg1\n",
              "apQIDg4WRUVFoqSkRLRq1Ur0799flJaWip9//lloaWmJuLg4IYQQzz33nOjSpYsoLS0VBQUFwt/f\n",
              "X6xdu1Y0b95c2NnZiQMHDojbt2+LZs2aiaCgILFp0ybRvHlzYWhoKP73v/8JIYSIiIgQAMSBAweE\n",
              "EEI0adJEdO7cWQghRN++fYVcLlevuz169BAymUwcPHhQfPDBB6J58+bi0qVLQqVSifDwcDFt2jRh\n",
              "Y2Mjvv76a9GtWzfRsWNHsXnzZtGtWzdhY2MjgoKCREFBgVAoFCI0NFSsW7dOCCHEJ598IubOnate\n",
              "Rv/+PQYOHKje5m7cuCEsLS3FBx988Mhl/t91EoDw8/MTSqVS/RtOnDhRCCGEm5ubcHJyEl999ZXw\n",
              "9fVVL+Px48eLAQMGiJ49ewqVSiVCQkKEk5OTKCkpER06dBCWlpaiY8eOorCwUNja2oqQkJCH7ot6\n",
              "9+4tfHx8RHp6uhBCqJfJjRs3xLVr1wQAMW3aNOHm5ia0tbWFrq6u2L9/vxBCiM8//1wMHDhQCCHE\n",
              "gQMHBACxbds2YW1tLebMmSNat24tFAqF+PXXX0WvXr2Eg4ODOHnypDqDv7+/eO2110SHDh2EmZmZ\n",
              "uHfvnujUqZNo3769KCoqUk8zOztbnSU0NFTMmDFD/Pbbb6Jly5bC3t5e/PLLL8LCwkI0adJEvPHG\n",
              "G2L58uUCgNDT03ui7bHieLBixQrRunVr9fEgKytLbNiwQbRu3VrI5XKxdu1aYWNjI+bNmye6d++u\n",
              "Ph7cuXNHfTwYP368+Oijj9T7RJlMJr7//vtHHg+eZBk4OTmJwsJCMXr0aCGXyx+5DPbu3SuaN28u\n",
              "evbsKVq3bi0yMzOFkZGR6Ny5syguLhahoaHiyy+/FG5ubuLEiRPCyspKdO7cWVy8eFEAEK1btxbP\n",
              "PfeciI2NFWZmZqJ169bi9OnTAoAICQkRzZs3F0II8frrrwtdXV0hRPnxEICYP3++KCkpEUFBQUJL\n",
              "S0uUlZWJkpISYW9vr868f/9+AUD07NlTTJo0SSiVSiHE/x+nKrbfO3fuCCGECA8PF59++qkQQojc\n",
              "3Fz171hYWCh8fHzU++MPPvhA2NnZiZs3bz50GQsh1PvSin3HunXrhI6OjtizZ484c+aMsLCwEJaW\n",
              "liIvL0+89dZbQltbW2RnZwtnZ2fRsmVLUVJSIm7duiWMjY1FSEiIEEKI3bt3C319fXHlyhX1MrO3\n",
              "txdCCDF16lRhZGT0wHWvQlhYmDA0NBReXl6ic+fOYsaMGaJ3797q+WrRooXIysoSKpVKdOzYUbRt\n",
              "21YAELNmzRLe3t5i6dKlolGjRmLAgAHCxcVFNGrUSJw8eVL06dNHDBo0SLRp00aMGzdOPP/88+LT\n",
              "Tz8VKpVKjB07VsyZM0cIIURAQIBYunSpEEKI06dPC11dXbF06VLh7OwsgoKC1Pu506dPC0tLS9G8\n",
              "eXPRv39/8d5774kpU6YIR0dHMXv2bGFqaiqOHz8uVCqVmD59uhg6dKiwsbER27dvF+7u7qJ9+/ai\n",
              "R48eYuTIker16EH+e/x/VC1Wcaw6ffq0cHNzE7///rsQ4vF1mKmpqbh69aoQQojp06eLCRMmPHIZ\n",
              "jR8/XqxcuVIIIdS/3+effy6EKD/eDRgwQCgUCpGVlSVMTU3FlClThEqlEjdu3BBGRkbquqJ58+Zi\n",
              "xIgRQqVSqbf1w4cPC4VCIfz9/cWFCxeEEOV1iaenp4iLi1PXBufOnRNCCBEVFSUAiGvXrqm3rz/+\n",
              "+EMIIcTvv/9e6bj53HPPie3btwshyo/hDzvWvf3222LUqFFCpVKJ3Nxc4eHhIUaNGvXI3+TfJG9T\n",
              "Hx4eDqD87G1BQYG6CURQUBCSkpIAAAcOHEDPnj3RtGlTAMDkyZOxf/9+KJVK7Nu3DyNHjoSuri50\n",
              "dXUrnWXYuXMnTp06hbZt28LHxwevvvoqsrKyUFRUVKPzNG7cOABAy5Yt0bFjR/z1118AgHXr1iEg\n",
              "IAAeHh4AoM4RFhYGhUKBkydPYufOnWjXrh2SkpKwY8cOHDx4EKWlpXjhhRfw+eefQy6XY//+/VCp\n",
              "VEhNTcXIkSOhra0NLS0t9bw7OTnh8uXLOHXqFH744QccPHgQr776Km7duoWkpCTMmzcPBw4cwMCB\n",
              "A6GlpYWUlJRnnufY2Fi0bt0aHTp0AFB+udXCwuKR45iamsLZ2RnDhw9HVFQUsrKyHnp5f+/evYiM\n",
              "jAQAWFtbIywsDHv37lV/XrEeOTk5QV9fHwMHDgRQvl5lZWVV6T6Ho0ePwtPTE56enur3CgsLkZaW\n",
              "htatW0OlUuHbb7/F559/jmnTpiEpKQl79uzBlStXUFZWhhdeeAEDBw6EsbExDhw4AKVSCSMjI7zy\n",
              "yivQ1dVFhw4doKOjo572g9bT7OxsrFq1Sn0VYf369bh27Zp6nH79+kFfXx+6urrw9PREjx49kJiY\n",
              "iEmTJsHLy6vS2ZORI0dCR0cHhoaGGD58OPbu3QshBG7duoU33ngD3bp1Q1FREZKSknDx4kWUlZXB\n",
              "1NQUzz//PADg3Llz0NHRwbhx4+Dl5YX09HT1mcFGjRqhZcuWlX6/xo0bq68Y9OzZEzk5OejVqxf+\n",
              "/PNPLFu2DFlZWfjll18wfPhwyGQyaGtrY9SoUQCAl156CYaGhpDL5QgKCsKVK1cAlDfzWbNmjfqK\n",
              "zr9/j3379qm3uaZNm6rPLFfV7NmzoaWlhQ4dOkClUqm3TxMTE1y7dg379u3D8OHD0atXLzRt2hQ7\n",
              "duzA+fPn8fvvv8PHxwdnzpyBvb09dHV1oaWlhcGDB0Mmk8HAwADGxsZITEx86L4oKysLV69eRa9e\n",
              "veDj44Nu3boBAC5evAgA0NfXx+eff45z585h586dUKlUaNKkCYDK+0qg/EqLrq4uWrdujQ8++AA3\n",
              "b95EWloaDhw4gFOnTiEjIwPh4eHqDCqVCidOnMDo0aPh7OyMMWPGwNHREQqF4oHbo76+PhITExEZ\n",
              "GYmQkBBcv34dYWFhWLduHby8vKCjo4Pw8HCMGjUKurq60NPTe+LtMTw8HLt378Yrr7yiPh40atQI\n",
              "wcHBuHHjBpycnHD37l307NkTvXr1wpUrV9THg6+++gqzZ8/GxYsXsWfPHpw9e1a9T2zZsiVSUlIe\n",
              "eTx41DIQQkBLSwtr1qyBgYGB+ox5586dH7oMunbtCgDqZVBUVAQjIyOcPn0abdu2RVpaGubOnYus\n",
              "rCx8++23sLW1Vf9m2tra6rO3wcHB0NXVRUhICExMTKCjo4N58+Y98Pfbt28fAKin88orr0Amk+Hm\n",
              "zZtITEyslLlz585o1aoVYmNj8fbbb6ubyFhZWamn17NnTzRu3BhA+ZWEiu2xqKgI48aNg6enJ4KD\n",
              "g3H9+vVKV2N79+4NGxubhy5jAOp9acUx38LCAgqFAj169MCBAwfw4osvokmTJkhISMCIESOgUCgQ\n",
              "GhoKU1NTvP/++9DV1UV8fDwUCgVOnz4NHx8fjB49GmVlZejevTt69+4NmUwGhUKBoqIitGrVCgUF\n",
              "BQ/MVKGsrAxWVlaQyWRITU3FF198gcuXL6s/7969Oxo1agSZTAY/Pz91W/4JEybA19cXeXl56Nix\n",
              "I27dugV/f394eXnBx8cHY8eOxZ07d5Ceno5t27YhMTERc+bMga2tLfbs2YO0tDTk5uYiISFBfVbW\n",
              "09MT7du3x82bN1FcXIykpCT1fs7T01O9nwsPD4eWlha0tbXVV7ZDQkKgUqnQq1cvrF+/Hj///DOy\n",
              "srKwY8cODBo0CHK5HMOHD8f48eMf+Xv816NqMaD8WNG3b1+sW7cO3bt3B/D4OiwkJER9T8i/17GH\n",
              "2bFjB7744gv4+PjA19cXhw4dqrSMBg4cCLlcrj429enTBzKZDE2bNoWVlVWl9u9jx45VX9mqqCku\n",
              "XryIc+fOYciQIfDx8UFoaCjy8vJw/vx5HDlyBF5eXnBzc1OPr6urCwDq7ativ9G9e/f7jo3/9rBj\n",
              "3b59+zB69GjIZDKYmJiot5cnJXmb+oqDhlwuv+/f/7508W8ymeyh0/v3Z0IIjBo1Cp9++ulTZXNw\n",
              "cMD169cREhICoPwSrIODQ5WnI5PJ8Pfff+O7775DbGwsrK2tIZPJUFZWBgDq6bdr1w7btm1DXFwc\n",
              "FAoFhBB4/vnnoa+vr75Z5t69ew/dWVbMu76+vnreX375ZfTp0wcJCQn48ccfcfjwYXTv3h07duyo\n",
              "lhson4S2trZ6owegvuFOLpfjyJEjiImJwcGDBxEcHIz169er/zB4lP+uA/8uPuRyufrfMplMvWN/\n",
              "FhXfV7Geenl5Yffu3Zg6dap6WVU0yXjQsqoYr+L///17PGg9DQwMxCeffIL09PQHLqv/zu/du3fR\n",
              "p08fLF++HJ999tkj5/ffv92RI0egr6+PN954A40bN8a7776LRYsW3bcdWVpaYunSpfDz80Pjxo0f\n",
              "ef9GxU6uIueQIUMwf/583Lx5E/Hx8di1a1el+f93pv/OV8V8CCHw/fffqw8Uj/Ko/cOjVOSuWFYV\n",
              "Tc8q1qFLly5VulFTCIFVq1ahXbt2OHHiBAYNGoR+/fqpP//3H24ymQyhoaGP/N3c3d0RExNz3/vJ\n",
              "ycnqP6IAqJue7N69G61bt37kvvLf+SvWs02bNmHdunXw9/cHAHh4eMDIyAhaWlrq7fHbb7/FiRMn\n",
              "cOjQofum9+8sFetydW2PFcNVFJj/Ph4olcoHrh8ymQwqlQoHDhxAhw4dMHDgQOTk5GD//v3qXMbG\n",
              "xk90PHjYMjh9+jSEEOoDbE5ODkpLS9G1a1fs27fvkctAX19fPd8ymQw9evTA2rVroVAo4OTkhO3b\n",
              "t6NHjx4ICgqqNN5/f9OKf1cUAo/ypL/347aVh22Ps2bNgqWlJU6ePAltbW2EhYVVupH6YU06/j3N\n",
              "/x7zH9TuviJfxX/btWuHX3/9tdJ+wd7eHk2bNsXBgwcxbdo06Ojo4NNPP0VycjJ8fHzUzX8eNP3/\n",
              "0tPTw6xZszBhwgQAQI8ePdT//6Df42G/z4NUzIMQAnv37oWJiQn++OMPbNmy5aFNBp+k1vlvBpVK\n",
              "VWm/q6+vjy+//BKnT5+ulM/Y2Pip95UPy9ekSROUlJRg//798Pb2BvD4Oqwqv2HF9LZu3QoXF5cn\n",
              "ml5Vl5EQAhYWFg+8iXbXrl33Df8oj/r8SXNVdRlJfqb+SXTu3Bl79uxBeno6AGDx4sXo2rUr5HI5\n",
              "unXrhjVr1qCsrAylpaWIjo5Wj9e3b1+sWbNGfSZapVIhPj7+ib930KBB+Omnn6BUKpGVlYWNGzc+\n",
              "0V9NFRmSk5Nx6NAhdOjQAdnZ2TAxMUHjxo3VbacqVPzlOHjwYHz//ffqNmX9+/fHqVOn8NtvvyE9\n",
              "PR1lZWV4//330bVrV2hpaaFZs2ZYs2YNFAoFVCrVA+e9YodWcWZv7969ldpbx8XFPfHv8SihoaFI\n",
              "SkpSFwEqlUrd/tLJyQlHjx5Vf1/F2ce8vDzcunULHTp0wHvvvYf27dvj5MmTAMrPjubk5Kin361b\n",
              "N/z0008AgNu3b2Pbtm3qM8nPytTUtNJ3BQcH48yZM5XayNrZ2anPTgDAtm3bkJ6erm5T16NHD1y9\n",
              "ehW7d+9Wr6ezZ89Wr6fGxsbq9bSsrKzSGaMHraeBgYH4+uuvUVJSAqD8SsG5c+cemD83Nxdff/01\n",
              "lixZ8sDfpOJ7i4qKsG7dOnTr1g0ymQw2NjaYP38+srKysH37dnh5eeHGjRvQ0dGBUqlU329R0S62\n",
              "uLgYpqam8PLyUp8pLCsre2wbyOzsbPWZmCtXriA7OxtBQUFYt24dhBBQKBRYtWrVI6fRv39/fP31\n",
              "1ygsLLzv9+jWrZu67WZGRsZ9O94H+e8yB8rbfQoh1Mvm339AaGtrY/ny5Vi1apV6Gffv3x8TJ05E\n",
              "ly5dIJfLERoaiiVLlqCsrAwqlQr79+9Xj9+kSRPExsY+dF9kYWGBa9euVbr6lJCQoN5X/PuPoKys\n",
              "LBQXF8PLy+uB85acnAylUomkpCR89NFHsLGxQZMmTdCpUyesWbMG9vb2OHr0KFQqFVauXImLFy/C\n",
              "398fK1aswI0bN9C2bVtkZ2fDzMxMvT1qaWk9dHsEyreHYcOG4fTp0+qTFWvWrLlvX/ck+vbti2XL\n",
              "lqn/fe/evUrzX3E8yMzMBFB+PHBxcYGVlRV69eqFlStXIjo6+qH7xKdZBqampjA1NUVycjKSk5Px\n",
              "1ltvQV9fX31m/EHLoGL7+eOPP9Ttl83NzfHHH38gJSVF3d67Z8+eeOmll9C7d2/1tqpQKDB//nwA\n",
              "5fvM0tJSxMbGqh9asGTJkgd+b8VZwgcdD1u3bo2ysjL8+eefAIA///wTly9fRmhoKL788kt1m/Xb\n",
              "t28/fOH8Izs7G/b29tDW1sbFixfxxx9/PHac/zIxMan074ob+//44w907twZP//8M9LS0uDj44O1\n",
              "a9dCW1sbP/30E1xdXTF9+nTk5uYiICAAKSkp6vtr+vbti+joaPWZWyFElY75HTp0wOLFi5GVlYWk\n",
              "pCQkJCQ89g8o4P+P+VlZWTh06BBsbGxw8uRJnD59GqdOnUJ0dDSsrKzQtGlThIWFYdasWWjcuDFG\n",
              "jhyJ2bNnIyYmBqampvD19VXvC8+dO4e///5bfa+di4uLej939uzZx+7n/r3fvXXrlnq/u3XrViiV\n",
              "Sggh1NN7mP/uJx9ViwHlV27/+OMP7NixQ90G/1nrsP/q379/pRNX2dnZlc7UV0XFCbiKY2DXrl3R\n",
              "unVrmJqaVtp2Ll++jKysLISEhOD06dNITEwEACxfvly9j3N1dYVCoVBv93v37n3sVYcH6dKlC1au\n",
              "XAkhBPLz87Fp06Yqja8RRb2Hhwe++OIL9OzZE15eXjh06JD6gDJ+/Hg4OzvDzc0N7du3r3QmrUOH\n",
              "Dvj888/x0ksvwdvbG+7u7k/86EIAGDFiBFxdXeHs7IzAwEBMnTq1UpOMh1EqlfD19UX37t3x3Xff\n",
              "wdHRET179kTr1q0rNVGpUFEIV1zqmT17NoDyG2snTZoEPT09tGrVSv2XfcW8e3h4wNnZGbNnz8ah\n",
              "Q4ceOO+vv/460tPT1U9IWbduHVasWIEDBw6gTZs2D73Lf9++fbC3t8eCBQuwbNky2NvbP3In0qhR\n",
              "I2zfvh0zZsyAl5cX/Pz8cPjwYQDlN8P++OOP8Pb2xvLly9VPD8rJyVHf/Orl5YWysjJ1M4y33noL\n",
              "zz//vPpy4nfffYcLFy7A09MTnTt3xuzZs9G2bdvHLosn0bVrV5SUlMDLywsTJ06ElZUV1q5di5Ej\n",
              "R6oLpxUrVlT6i1lHRwfr1q2DUqlESUkJHB0dsWnTJpibm6NVq1bQ19fHjh071MuqcePG6vW0ojlM\n",
              "hQetp/r6+ggMDMRHH32EAwcOIDg4+KGP3zp16hSKioowffp0+Pj44OjRo5WGbdOmDdq1awdPT090\n",
              "6NBBfbk7LCwM33//Pezs7FBSUoJ58+apn+jx2Wef4c0334SnpyeEELCxscHkyZPh5eWF/Px8rFy5\n",
              "Eh4eHkhLS4O+vj4++OCDh97d/+2332LgwIH47LPPkJWVBQcHBwwYMACOjo6Ii4vDzJkz0apVq0pn\n",
              "+P9r+vTpCAwMRNu2beHl5VXp9/j2229x5MgR9W/bpUuXRy9wAK+99hrGjx+vvlEWKC/cPT091ZfU\n",
              "Bw8eXGmcDh06YNu2bZDJZOjYsSNiY2Nx584dXL16FV5eXli7di0aN24MNzc3JCQkVHrMoKWlJQYP\n",
              "HvzQfZGOjg5++eUXfPrpp/D29oabmxtmzJihLrRKS0vh5uYGHx8fjB8/vlLzqP9yd3fH1q1bYWho\n",
              "iM8++wxKpRL+/v5QqVT4/PPPcfPmTUydOhWGhoZYsGAB3N3d0adPHzRr1gytW7eGubm5+sx0xfZo\n",
              "ZWWF559/Hr1794ZKpVJvjxXb4OzZs9GrVy8sXboUmZmZCA8Px5kzZ57qbOCIESPUVzy8vb3Ru3fv\n",
              "Sn8cVBwPJk6ciPT0dBw6dAhbtmxBYWEhvvnmG1y4cAHXrl176D7xaZdBVbi7u2PFihVIT0/H8uXL\n",
              "sX79eshkMhgbG2PixInqDMuXL0dmZiZeeeUV9bHs+eefh1wuh6GhIeLj4zF69Ghs2bIF4eHh6NOn\n",
              "D/Lz8x96xbiiOUVwcPB9x0M9PT1s2LABr732Gjw9PREdHY3WrVtj1qxZKCkpUT8yddasWY+dv3ff\n",
              "fRfR0dHw8vLCjBkznmib+6+KZqgeHh7o27cvdHV11fuSl19+GWZmZjA1NUVoaCiOHTsGAwMDAMCe\n",
              "PXvg6OgIW1tbvPDCCxg0aBBSUlLg7e2NyMhIWFtbY/DgwejVqxfy8/OrdMw/fvw4MjIy0LRpU3h7\n",
              "e0NXV/eJCjOlUont27fjp59+wnfffQdjY2OEhITA1tYWbdu2xV9//YW0tDRs3rwZ33zzDdLS0mBq\n",
              "agoDAwN06tQJr776KgBg1apVWLJkCTw8PPDuu++iY8eOkMvl2LlzJ/T09LBgwQLo6+tj0KBBj/3N\n",
              "K/a7r7/+unqd6dixI/r164f4+HhMmzYN5ubmD31UKFDeRCQhIUF9o+yjarEKJiYm2LNnD2JiYjBt\n",
              "2rRnrsP+6+uvv4aBgYH6AQVdu3Z96CMlH8fKygr+/v4ICgrCK6+8gtDQUGhra2P37t3Ytm0bvLy8\n",
              "1DfZFxUVwcrKCsuXL1fPS1JSkrp5mq6uLjZu3Kg+bq5bt059taIq3n//feTl5aFNmzbo2bMnvL29\n",
              "H7mM/ksmhBBV/lYi0mgVT5uqjmeaP628vDyYmJigrKwMw4YNg7+/P6ZPny5ZHnp2FcsUKG/7OnPm\n",
              "TFy4cEHiVHXXli1bsGjRooee8a9u/14+x44dQ9++fXHlyhUYGhrWyvfXRzKZDNnZ2VUqvKRUsQ4I\n",
              "IfDWW2+hqKgIixYtkjoW/aOsrEzd1LCgoAA9evTAq6+++sRt6yVvU09EDVO3bt1QUlKC4uJitG/f\n",
              "Hq+99prUkegZff/999i4cSOUSiVMTU2r1BFZQ9OzZ09cunQJ27dvr7Xv3Lp1K77++msIIaCtrY3V\n",
              "q1ezoG9gRo4cieTkZBQXF8Pd3f2JOwCj2pGdnY1evXpBqVSiuLgY/fr1u++q8aM0+DP1v/766wMv\n",
              "N86cOfOhfxlNnDgRR44cue/92NhY9SVCTdCQ5j0zM/OBN1k+//zzNdIT35P495MO/m3UqFF48803\n",
              "K733NMtq7ty52LZt233vb926tVo6pqrr6uL8P2r7OXDgALfHWtgeq3sZ1MX17L+eZv9RXQICAu67\n",
              "CdDd3V2yP/jWrVuHsWPH3vd+t27d1M9y/6/a2M6kWo+qchyqLVKur5quwRf1RERERESaTiNulCUi\n",
              "IiIioodjUU9EREREpOFY1BMRERERaTgW9UREREREGo5FPRERERGRhmNRT0RERESk4VjUExERERFp\n",
              "uP8DTEgcUWKevhYAAAAASUVORK5CYII=\n",
              "\">\n",
              "      </div>\n",
              "      <script type=\"text/javascript\">\n",
              "        (() => {\n",
              "          const chartElement = document.getElementById(\"chart-c3ebd911-fc5a-4e83-a24c-b26c46de5146\");\n",
              "          async function getCodeForChartHandler(event) {\n",
              "            const chartCodeResponse =  await google.colab.kernel.invokeFunction(\n",
              "                'getCodeForChart', [\"chart-c3ebd911-fc5a-4e83-a24c-b26c46de5146\"], {});\n",
              "            const responseJson = chartCodeResponse.data['application/json'];\n",
              "            await google.colab.notebook.addCell(responseJson.code, 'code');\n",
              "          }\n",
              "          chartElement.onclick = getCodeForChartHandler;\n",
              "        })();\n",
              "      </script>\n",
              "      <style>\n",
              "        .colab-quickchart-chart-with-code  {\n",
              "            display: block;\n",
              "            float: left;\n",
              "            border: 1px solid transparent;\n",
              "        }\n",
              "\n",
              "        .colab-quickchart-chart-with-code:hover {\n",
              "            cursor: pointer;\n",
              "            border: 1px solid #aaa;\n",
              "        }\n",
              "      </style>"
            ]
          },
          "metadata": {}
        }
      ]
    },
    {
      "cell_type": "code",
      "source": [
        "# prompt: Using dataframe all_model_results: bargraph\n",
        "\n",
        "all_model_results.plot(kind='bar', figsize=(10, 5)).legend(bbox_to_anchor=(1.0, 1.0));\n"
      ],
      "metadata": {
        "colab": {
          "base_uri": "https://localhost:8080/",
          "height": 711
        },
        "id": "QCgrCHRHrSaJ",
        "outputId": "37f5b922-5912-482b-bc82-ac083d3111a4"
      },
      "execution_count": 144,
      "outputs": [
        {
          "output_type": "display_data",
          "data": {
            "text/plain": [
              "<Figure size 1000x500 with 1 Axes>"
            ],
            "image/png": "[encoded data removed]"
          },
          "metadata": {}
        }
      ]
    },
    {
      "cell_type": "code",
      "source": [
        "# Sort models by f1 score\n",
        "all_model_results.sort_values(\"f1\", ascending=True)['f1'].plot(kind='bar', figsize=(10,5));"
      ],
      "metadata": {
        "colab": {
          "base_uri": "https://localhost:8080/",
          "height": 711
        },
        "id": "kuQlCJrrrH_9",
        "outputId": "21643c73-803f-4b41-e98a-b21cf4e6938d"
      },
      "execution_count": 146,
      "outputs": [
        {
          "output_type": "display_data",
          "data": {
            "text/plain": [
              "<Figure size 1000x500 with 1 Axes>"
            ],
            "image/png": "[encoded data removed]"
          },
          "metadata": {}
        }
      ]
    },
    {
      "cell_type": "markdown",
      "source": [
        "### Save and Load the model"
      ],
      "metadata": {
        "id": "-7AA01GnshJT"
      }
    },
    {
      "cell_type": "code",
      "source": [
        "# Use the save model format\n",
        "model_5.save(\"skimlit_tribrid_model\")"
      ],
      "metadata": {
        "id": "p-RUTjfLtLlc"
      },
      "execution_count": 147,
      "outputs": []
    },
    {
      "cell_type": "code",
      "source": [
        "# Load the model\n",
        "loaded_model = tf.keras.models.load_model('/content/skimlit_tribrid_model')"
      ],
      "metadata": {
        "id": "SoTleYUHtVqX"
      },
      "execution_count": 149,
      "outputs": []
    },
    {
      "cell_type": "code",
      "source": [
        " # Make prediction\n",
        " loaded_pred_probs = loaded_model.predict(val_char_token_pos_dataset)\n",
        " loaded_preds = tf.argmax(loaded_pred_probs, axis=1)\n",
        " loaded_preds[:10]"
      ],
      "metadata": {
        "colab": {
          "base_uri": "https://localhost:8080/"
        },
        "id": "34HcmFPgtuAu",
        "outputId": "6503b19c-9f03-4732-9382-3afb877fc10c"
      },
      "execution_count": 156,
      "outputs": [
        {
          "output_type": "stream",
          "name": "stdout",
          "text": [
            "945/945 [==============================] - 62s 65ms/step\n"
          ]
        },
        {
          "output_type": "execute_result",
          "data": {
            "text/plain": [
              "<tf.Tensor: shape=(10,), dtype=int64, numpy=array([0, 0, 3, 2, 2, 4, 4, 4, 4, 1])>"
            ]
          },
          "metadata": {},
          "execution_count": 156
        }
      ]
    },
    {
      "cell_type": "code",
      "source": [
        "# Calculate the results\n",
        "loaded_model_results = calculate_results(y_true = val_labels_encoded,\n",
        "                                        y_pred = loaded_preds)\n",
        "loaded_model_results"
      ],
      "metadata": {
        "colab": {
          "base_uri": "https://localhost:8080/"
        },
        "id": "lW0julsAuMcW",
        "outputId": "a2a76ac6-fd03-4897-801f-21be11af6a09"
      },
      "execution_count": 157,
      "outputs": [
        {
          "output_type": "execute_result",
          "data": {
            "text/plain": [
              "{'accuracy': 83.46021448431087,\n",
              " 'precision': 0.8337492563906082,\n",
              " 'recall': 0.8346021448431087,\n",
              " 'f1': 0.8335025865210635}"
            ]
          },
          "metadata": {},
          "execution_count": 157
        }
      ]
    },
    {
      "cell_type": "code",
      "source": [
        "model_5_results"
      ],
      "metadata": {
        "colab": {
          "base_uri": "https://localhost:8080/"
        },
        "id": "XFJiNLYvt0fY",
        "outputId": "be794c3e-6114-4bb0-f213-a7c54528e135"
      },
      "execution_count": 158,
      "outputs": [
        {
          "output_type": "execute_result",
          "data": {
            "text/plain": [
              "{'accuracy': 83.46021448431087,\n",
              " 'precision': 0.8337492563906082,\n",
              " 'recall': 0.8346021448431087,\n",
              " 'f1': 0.8335025865210635}"
            ]
          },
          "metadata": {},
          "execution_count": 158
        }
      ]
    },
    {
      "cell_type": "code",
      "source": [
        "assert model_5_results == loaded_model_results\n"
      ],
      "metadata": {
        "id": "iopOw3bguz31"
      },
      "execution_count": 166,
      "outputs": []
    },
    {
      "cell_type": "code",
      "source": [
        "\n",
        "# check loaded model summary\n",
        "loaded_model.summary()"
      ],
      "metadata": {
        "colab": {
          "base_uri": "https://localhost:8080/"
        },
        "id": "NbFaX_eNt4zF",
        "outputId": "aceda7c0-955a-4ee9-855e-eeab312d5972"
      },
      "execution_count": 161,
      "outputs": [
        {
          "output_type": "stream",
          "name": "stdout",
          "text": [
            "Model: \"tribrid_embedding_model\"\n",
            "__________________________________________________________________________________________________\n",
            " Layer (type)                Output Shape                 Param #   Connected to                  \n",
            "==================================================================================================\n",
            " char_inputs (InputLayer)    [(None, 1)]                  0         []                            \n",
            "                                                                                                  \n",
            " token_inputs (InputLayer)   [(None,)]                    0         []                            \n",
            "                                                                                                  \n",
            " char_vectorizer (TextVecto  (None, 290)                  0         ['char_inputs[0][0]']         \n",
            " rization)                                                                                        \n",
            "                                                                                                  \n",
            " universal_sentence_encoder  (None, 512)                  2567978   ['token_inputs[0][0]']        \n",
            "  (KerasLayer)                                            24                                      \n",
            "                                                                                                  \n",
            " char_embed (Embedding)      (None, 290, 25)              700       ['char_vectorizer[0][0]']     \n",
            "                                                                                                  \n",
            " dense_21 (Dense)            (None, 128)                  65664     ['universal_sentence_encoder[0\n",
            "                                                                    ][0]']                        \n",
            "                                                                                                  \n",
            " bidirectional_5 (Bidirecti  (None, 48)                   9600      ['char_embed[0][0]']          \n",
            " onal)                                                                                            \n",
            "                                                                                                  \n",
            " char_token_hybrid_emebddin  (None, 176)                  0         ['dense_21[0][0]',            \n",
            " g (Concatenate)                                                     'bidirectional_5[0][0]']     \n",
            "                                                                                                  \n",
            " line_number_input (InputLa  [(None, 15)]                 0         []                            \n",
            " yer)                                                                                             \n",
            "                                                                                                  \n",
            " total_lines_input (InputLa  [(None, 20)]                 0         []                            \n",
            " yer)                                                                                             \n",
            "                                                                                                  \n",
            " dense_24 (Dense)            (None, 256)                  45312     ['char_token_hybrid_emebdding[\n",
            "                                                                    0][0]']                       \n",
            "                                                                                                  \n",
            " dense_22 (Dense)            (None, 32)                   512       ['line_number_input[0][0]']   \n",
            "                                                                                                  \n",
            " dense_23 (Dense)            (None, 32)                   672       ['total_lines_input[0][0]']   \n",
            "                                                                                                  \n",
            " dropout_5 (Dropout)         (None, 256)                  0         ['dense_24[0][0]']            \n",
            "                                                                                                  \n",
            " char_token_poistional_embe  (None, 320)                  0         ['dense_22[0][0]',            \n",
            " dding (Concatenate)                                                 'dense_23[0][0]',            \n",
            "                                                                     'dropout_5[0][0]']           \n",
            "                                                                                                  \n",
            " output_layer (Dense)        (None, 5)                    1605      ['char_token_poistional_embedd\n",
            "                                                                    ing[0][0]']                   \n",
            "                                                                                                  \n",
            "==================================================================================================\n",
            "Total params: 256921889 (980.08 MB)\n",
            "Trainable params: 124065 (484.63 KB)\n",
            "Non-trainable params: 256797824 (979.61 MB)\n",
            "__________________________________________________________________________________________________\n"
          ]
        }
      ]
    },
    {
      "cell_type": "markdown",
      "source": [
        "Now the model has achived an optimal accuracy of 83%. We can advance further with the dataset\n",
        "\n",
        "**Remember**\n",
        "\n",
        "We only trained the model on 20k rct instead of 200k.\n",
        "Also the model was only trained on 10% of the data (*recall* `int(0.1 * len(train_data etc ....))`)"
      ],
      "metadata": {
        "id": "3mbJANPSu6I4"
      }
    },
    {
      "cell_type": "markdown",
      "source": [
        "# Follow the same exact steps for the 200K dataset\n",
        "**N/B:**\n",
        "It's going to take longer to train, I used CPU, Use a GPU"
      ],
      "metadata": {
        "id": "K2AfGVhO2MCA"
      }
    },
    {
      "cell_type": "code",
      "source": [],
      "metadata": {
        "id": "h_fXQdrP2j0P"
      },
      "execution_count": null,
      "outputs": []
    }
  ]
}